{
 "cells": [
  {
   "cell_type": "markdown",
   "id": "907faa46",
   "metadata": {},
   "source": [
    "<center><h1> Olivares Rueda Luis Carlos </h1></center> <br>\n",
    "<center><h2> Double Pendulum </h2></center> <br>"
   ]
  },
  {
   "cell_type": "markdown",
   "id": "708c0e05",
   "metadata": {},
   "source": [
    "<img src=\"Double_Pendulum.png\" width=\"500\" height=\"500\">"
   ]
  },
  {
   "cell_type": "markdown",
   "id": "cedfd4e2",
   "metadata": {},
   "source": [
    "Erase all data stored in the kernel."
   ]
  },
  {
   "cell_type": "code",
   "execution_count": 52,
   "id": "4ecba0cb",
   "metadata": {},
   "outputs": [],
   "source": [
    "%reset -f"
   ]
  },
  {
   "cell_type": "code",
   "execution_count": 53,
   "id": "d431a2f7",
   "metadata": {},
   "outputs": [
    {
     "data": {
      "text/html": [
       "        <script type=\"text/javascript\">\n",
       "        window.PlotlyConfig = {MathJaxConfig: 'local'};\n",
       "        if (window.MathJax) {MathJax.Hub.Config({SVG: {font: \"STIX-Web\"}});}\n",
       "        if (typeof require !== 'undefined') {\n",
       "        require.undef(\"plotly\");\n",
       "        requirejs.config({\n",
       "            paths: {\n",
       "                'plotly': ['https://cdn.plot.ly/plotly-2.2.0.min']\n",
       "            }\n",
       "        });\n",
       "        require(['plotly'], function(Plotly) {\n",
       "            window._Plotly = Plotly;\n",
       "        });\n",
       "        }\n",
       "        </script>\n",
       "        "
      ]
     },
     "metadata": {},
     "output_type": "display_data"
    },
    {
     "data": {
      "text/html": [
       "        <script type=\"text/javascript\">\n",
       "        window.PlotlyConfig = {MathJaxConfig: 'local'};\n",
       "        if (window.MathJax) {MathJax.Hub.Config({SVG: {font: \"STIX-Web\"}});}\n",
       "        if (typeof require !== 'undefined') {\n",
       "        require.undef(\"plotly\");\n",
       "        requirejs.config({\n",
       "            paths: {\n",
       "                'plotly': ['https://cdn.plot.ly/plotly-2.2.0.min']\n",
       "            }\n",
       "        });\n",
       "        require(['plotly'], function(Plotly) {\n",
       "            window._Plotly = Plotly;\n",
       "        });\n",
       "        }\n",
       "        </script>\n",
       "        "
      ]
     },
     "metadata": {},
     "output_type": "display_data"
    }
   ],
   "source": [
    "# Numeric calculation libraries\n",
    "\n",
    "import numpy as np\n",
    "from scipy.integrate import odeint\n",
    "\n",
    "# Symbolic calculation library\n",
    "\n",
    "import sympy as smp\n",
    "\n",
    "# Graph libraries\n",
    "\n",
    "import plotly.graph_objects as go\n",
    "from plotly.offline import init_notebook_mode\n",
    "import cufflinks as cf\n",
    "init_notebook_mode(connected=True)\n",
    "cf.go_offline()"
   ]
  },
  {
   "cell_type": "markdown",
   "id": "abc8d266",
   "metadata": {},
   "source": [
    "Define all the symbols needed to represent the problem."
   ]
  },
  {
   "cell_type": "code",
   "execution_count": 54,
   "id": "e8ea6910",
   "metadata": {},
   "outputs": [],
   "source": [
    "# time and acceleration due to gravity constant (g)\n",
    "\n",
    "t, g = smp.symbols('t g')\n",
    "\n",
    "# Masses of the two particles of the pendulum\n",
    "\n",
    "M1, M2 = smp.symbols('M1 M2')\n",
    "\n",
    "# Lenghts of the two massless bars that joins the particles\n",
    "\n",
    "l1, l2 = smp.symbols('l1 l2')"
   ]
  },
  {
   "cell_type": "markdown",
   "id": "207f4294",
   "metadata": {},
   "source": [
    "Define $\\theta_{1}$ and $\\theta_{2}$ as functions of time."
   ]
  },
  {
   "cell_type": "code",
   "execution_count": 55,
   "id": "30508d33",
   "metadata": {},
   "outputs": [],
   "source": [
    "theta1 = smp.Function(r'\\theta_1')(t)\n",
    "theta2 = smp.Function(r'\\theta_2')(t)"
   ]
  },
  {
   "cell_type": "markdown",
   "id": "b73d5af4",
   "metadata": {},
   "source": [
    "Define first and second derivatives of $\\theta_{1}$ and $\\theta_{2}$."
   ]
  },
  {
   "cell_type": "code",
   "execution_count": 56,
   "id": "58845834",
   "metadata": {},
   "outputs": [],
   "source": [
    "# First derivatives\n",
    "\n",
    "theta1_d = smp.diff(theta1, t)\n",
    "theta2_d = smp.diff(theta2, t)\n",
    "\n",
    "# Second derivatives\n",
    "\n",
    "theta1_dd = smp.diff(theta1_d, t)\n",
    "theta2_dd = smp.diff(theta2_d, t)"
   ]
  },
  {
   "cell_type": "markdown",
   "id": "8e10dc51",
   "metadata": {},
   "source": [
    "Define the ($x$-$y$) position of the two particles of the pendulum."
   ]
  },
  {
   "cell_type": "code",
   "execution_count": 57,
   "id": "57e5f0da",
   "metadata": {},
   "outputs": [],
   "source": [
    "# Position of particle 1 with mass M1\n",
    "\n",
    "x1 = l1 * smp.sin(theta1)\n",
    "y1 = -l1 * smp.cos(theta1)\n",
    "\n",
    "# Position of particle 2 with mass M2\n",
    "\n",
    "x2 = x1 + (l2 * smp.sin(theta2))\n",
    "y2 = y1 - (l2 * smp.cos(theta2))"
   ]
  },
  {
   "cell_type": "markdown",
   "id": "d12604ec",
   "metadata": {},
   "source": [
    "Define the velocities of the two particles."
   ]
  },
  {
   "cell_type": "code",
   "execution_count": 58,
   "id": "56c06d24",
   "metadata": {},
   "outputs": [],
   "source": [
    "# Velocity of particle 1\n",
    "\n",
    "vx1 = smp.diff(x1, t)\n",
    "vy1 = smp.diff(y1, t)\n",
    "\n",
    "# Net velocity of particle 1\n",
    "\n",
    "v1 = smp.sqrt((vx1**2) + (vy1**2))\n",
    "\n",
    "# Velocity of particle 2\n",
    "\n",
    "vx2 = smp.diff(x2, t)\n",
    "vy2 = smp.diff(y2, t)\n",
    "\n",
    "# Net velocity of particle 2\n",
    "\n",
    "v2 = smp.sqrt((vx2**2) + (vy2**2))"
   ]
  },
  {
   "cell_type": "markdown",
   "id": "78ef270c",
   "metadata": {},
   "source": [
    "Define the Langranian for each particle $L = K - V$ <br>\n",
    "$K$ = Kinetic energy $= \\frac{1}{2} m v^{2}$ <br>\n",
    "$V$ = Potential energy $= m g y$ <br>\n",
    "and the Langranian of the system is the sum of the Langranians of the particles."
   ]
  },
  {
   "cell_type": "code",
   "execution_count": 59,
   "id": "f1b376ad",
   "metadata": {},
   "outputs": [],
   "source": [
    "# Langranian of particle 1\n",
    "\n",
    "L1 = (smp.Rational(1, 2) * M1 * (v1**2)) - (M1 * g * y1)\n",
    "\n",
    "# Langranian of particle 2\n",
    "\n",
    "L2 = (smp.Rational(1, 2) * M2 * (v2**2)) - (M2 * g * y2)\n",
    "\n",
    "# Langranian of the system\n",
    "\n",
    "L = (L1 + L2).simplify()"
   ]
  },
  {
   "cell_type": "markdown",
   "id": "544defee",
   "metadata": {},
   "source": [
    "Define the equations of motion by applying the Euler-Lagrange equations for $\\theta_{1}$ and $\\theta_{2}$ <br>\n",
    "$\\frac{d}{dt} \\frac{\\partial L}{\\partial \\dot{q}_{i}} - \\frac{\\partial L}{\\partial q_{i}} = 0$"
   ]
  },
  {
   "cell_type": "code",
   "execution_count": 60,
   "id": "8a6dfde6",
   "metadata": {},
   "outputs": [],
   "source": [
    "# Equation for theta1\n",
    "\n",
    "Eq1 = smp.Eq(smp.diff(smp.diff(L, theta1_d), t) - smp.diff(L, theta1), 0).simplify()\n",
    "\n",
    "# Equation for theta2\n",
    "\n",
    "Eq2 = smp.Eq(smp.diff(smp.diff(L, theta2_d), t) - smp.diff(L, theta2), 0).simplify()"
   ]
  },
  {
   "cell_type": "markdown",
   "id": "8023aa47",
   "metadata": {},
   "source": [
    "Solve the equations for $\\frac{d^{2} \\theta_{1}}{dt^{2}}$ and $\\frac{d^{2} \\theta_{2}}{dt^{2}}$"
   ]
  },
  {
   "cell_type": "code",
   "execution_count": 61,
   "id": "6b64d118",
   "metadata": {},
   "outputs": [],
   "source": [
    "sols_dd = smp.solve([Eq1, Eq2], (theta1_dd, theta2_dd), simplify=True, rational=True)"
   ]
  },
  {
   "cell_type": "markdown",
   "id": "33371ab9",
   "metadata": {},
   "source": [
    "Convert the system of two second order ODEs into a system of four first order ODEs <br>\n",
    "<ul>\n",
    "  <li>$\\frac{d\\theta_{1}}{dt} = z_{1}$</li>\n",
    "  <li>$\\frac{dz_{1}}{dt} = \\frac{d^{2}\\theta_{1}}{dt^{2}} = ...$</li>\n",
    "  <li>$\\frac{d\\theta_{2}}{dt} = z_{2}$</li>\n",
    "  <li>$\\frac{dz_{2}}{dt} = \\frac{d^{2}\\theta_{2}}{dt^{2}} = ...$</li>\n",
    "</ul> \n",
    "and transform the symbolic equations into numeric functions."
   ]
  },
  {
   "cell_type": "code",
   "execution_count": 62,
   "id": "6f68c75b",
   "metadata": {},
   "outputs": [],
   "source": [
    "# z1\n",
    "\n",
    "dtheta1_dt = smp.lambdify(theta1_d, theta1_d)\n",
    "\n",
    "# dz1/dt\n",
    "\n",
    "dz1_dt = smp.lambdify((t, g, M1, M2, l1, l2, theta1, theta2, theta1_d, theta2_d), sols_dd[theta1_dd])\n",
    "\n",
    "# z2\n",
    "\n",
    "dtheta2_dt = smp.lambdify(theta2_d, theta2_d)\n",
    "\n",
    "# dz2/dt\n",
    "\n",
    "dz2_dt = smp.lambdify((t, g, M1, M2, l1, l2, theta1, theta2, theta1_d, theta2_d), sols_dd[theta2_dd])"
   ]
  },
  {
   "cell_type": "markdown",
   "id": "55b20c07",
   "metadata": {},
   "source": [
    "Define a vector $\\vec{S} = (\\theta_{1}, z_{1}, \\theta_{2}, z_{2})$ and a function that takes $\\vec{S}$ and $t$ and returns $\\frac{d\\vec{S}}{dt}$ in order to solve the system of ODEs in python."
   ]
  },
  {
   "cell_type": "code",
   "execution_count": 63,
   "id": "aaf9f226",
   "metadata": {},
   "outputs": [],
   "source": [
    "def dS_dt(S, t, g, M1, M2, l1, l2):\n",
    "    theta1, z1, theta2, z2 = S\n",
    "    return [dtheta1_dt(z1), dz1_dt(t, g, M1, M2, l1, l2, theta1, theta2, z1, z2),\n",
    "           dtheta2_dt(z2), dz2_dt(t, g, M1, M2, l1, l2, theta1, theta2, z1, z2)]"
   ]
  },
  {
   "cell_type": "markdown",
   "id": "34400db3",
   "metadata": {},
   "source": [
    "Define all the needed parameters and initial conditions and solve the system ODEs with the **odeint** method."
   ]
  },
  {
   "cell_type": "code",
   "execution_count": 64,
   "id": "88207ed9",
   "metadata": {},
   "outputs": [],
   "source": [
    "# Constant parameters\n",
    "\n",
    "g = 9.8\n",
    "M1 = 3\n",
    "M2 = 5\n",
    "l1 = 2.3\n",
    "l2 = 0.7\n",
    "\n",
    "# Initial conditions\n",
    "# iv : initial velocity\n",
    "# ip : initial position\n",
    "\n",
    "# Initial conditions for theta1\n",
    "\n",
    "ip_theta1 = np.pi\n",
    "iv_theta1 = 0\n",
    "\n",
    "# Initial conditions for theta2\n",
    "\n",
    "ip_theta2 = 0.1 * np.pi\n",
    "iv_theta2 = 0\n",
    "\n",
    "# Initial vector\n",
    "\n",
    "s0 = [ip_theta1, iv_theta1, ip_theta2, iv_theta2]\n",
    "\n",
    "# it : initial time\n",
    "# ft : final time\n",
    "# steps: number of steps\n",
    "\n",
    "it = 0\n",
    "ft = 20\n",
    "steps = 1001\n",
    "\n",
    "t = np.linspace(it, ft, steps)\n",
    "\n",
    "# Solve the system of equations\n",
    "\n",
    "ans = odeint(dS_dt, y0=s0, t=t, args=(g, M1, M2, l1, l2))"
   ]
  },
  {
   "cell_type": "markdown",
   "id": "fa47888f",
   "metadata": {},
   "source": [
    "Define a function that returns the position of the particles of the pendulum."
   ]
  },
  {
   "cell_type": "code",
   "execution_count": 65,
   "id": "e80d5fe6",
   "metadata": {},
   "outputs": [],
   "source": [
    "def x1_y1_x2_y2(t, theta1, theta2, l1, l2):\n",
    "    return(l1 * np.sin(theta1), -l1 * np.cos(theta1), (l1 * np.sin(theta1)) + (l2 * np.sin(theta2)), (-l1 * np.cos(theta1)) - (l2 * np.cos(theta2)))"
   ]
  },
  {
   "cell_type": "markdown",
   "id": "689f65e3",
   "metadata": {},
   "source": [
    "Calculate the positions."
   ]
  },
  {
   "cell_type": "code",
   "execution_count": 66,
   "id": "f2ee9203",
   "metadata": {},
   "outputs": [],
   "source": [
    "X1, Y1, X2, Y2 = x1_y1_x2_y2(t, ans.T[0], ans.T[2], l1, l2)"
   ]
  },
  {
   "cell_type": "markdown",
   "id": "cf270628",
   "metadata": {},
   "source": [
    "Make an animation. <br>\n",
    "Use your prefered library for animations."
   ]
  },
  {
   "cell_type": "code",
   "execution_count": 67,
   "id": "dcd74bed",
   "metadata": {},
   "outputs": [],
   "source": [
    "my_frames = []\n",
    "for i in range(len(X1) - 1):\n",
    "        my_frames.append(go.Frame(data=[go.Scatter(x=[0, X1[i + 1]], y=[0, Y1[i + 1]]), go.Scatter(x=[X1[i + 1], X2[i + 1]], y=[Y1[i + 1], Y2[i + 1]])]))"
   ]
  },
  {
   "cell_type": "code",
   "execution_count": 68,
   "id": "aad60619",
   "metadata": {
    "scrolled": false
   },
   "outputs": [
    {
     "data": {
      "application/vnd.plotly.v1+json": {
       "config": {
        "plotlyServerURL": "https://plot.ly"
       },
       "data": [
        {
         "type": "scatter",
         "x": [
          0,
          2.816687638038912e-16
         ],
         "y": [
          0,
          2.3
         ]
        },
        {
         "type": "scatter",
         "x": [
          2.816687638038912e-16,
          0.21631189606246345
         ],
         "y": [
          2.3,
          1.6342604385933925
         ]
        }
       ],
       "frames": [
        {
         "data": [
          {
           "type": "scatter",
           "x": [
            0,
            0.0008282898512527541
           ],
           "y": [
            0,
            2.29999985085563
           ]
          },
          {
           "type": "scatter",
           "x": [
            0.0008282898512527541,
            0.2158150908313509
           ],
           "y": [
            2.29999985085563,
            1.6338311969815953
           ]
          }
         ]
        },
        {
         "data": [
          {
           "type": "scatter",
           "x": [
            0,
            0.0033137561743238346
           ],
           "y": [
            0,
            2.2999976128291992
           ]
          },
          {
           "type": "scatter",
           "x": [
            0.0033137561743238346,
            0.2143262664494387
           ],
           "y": [
            2.2999976128291992,
            1.6325594355368043
           ]
          }
         ]
        },
        {
         "data": [
          {
           "type": "scatter",
           "x": [
            0,
            0.007457677087584526
           ],
           "y": [
            0,
            2.2999879093274505
           ]
          },
          {
           "type": "scatter",
           "x": [
            0.007457677087584526,
            0.21185058839092596
           ],
           "y": [
            2.2999879093274505,
            1.6304929221849445
           ]
          }
         ]
        },
        {
         "data": [
          {
           "type": "scatter",
           "x": [
            0,
            0.013260458596527282
           ],
           "y": [
            0,
            2.299961773647077
           ]
          },
          {
           "type": "scatter",
           "x": [
            0.013260458596527282,
            0.20839794336315415
           ],
           "y": [
            2.299961773647077,
            1.6277108070884903
           ]
          }
         ]
        },
        {
         "data": [
          {
           "type": "scatter",
           "x": [
            0,
            0.02071905283128281
           ],
           "y": [
            0,
            2.2999066765522844
           ]
          },
          {
           "type": "scatter",
           "x": [
            0.02071905283128281,
            0.20398477378194843
           ],
           "y": [
            2.2999066765522844,
            1.6243227250522265
           ]
          }
         ]
        },
        {
         "data": [
          {
           "type": "scatter",
           "x": [
            0,
            0.029823372762664457
           ],
           "y": [
            0,
            2.2998066367495027
           ]
          },
          {
           "type": "scatter",
           "x": [
            0.029823372762664457,
            0.19863664685985322
           ],
           "y": [
            2.2998066367495027,
            1.6204671939901503
           ]
          }
         ]
        },
        {
         "data": [
          {
           "type": "scatter",
           "x": [
            0,
            0.04055181286937941
           ],
           "y": [
            0,
            2.2996424831858113
           ]
          },
          {
           "type": "scatter",
           "x": [
            0.04055181286937941,
            0.19239142529233683
           ],
           "y": [
            2.2996424831858113,
            1.6163089393733872
           ]
          }
         ]
        },
        {
         "data": [
          {
           "type": "scatter",
           "x": [
            0,
            0.05286606340808547
           ],
           "y": [
            0,
            2.299392350022008
           ]
          },
          {
           "type": "scatter",
           "x": [
            0.05286606340808547,
            0.18530286792926787
           ],
           "y": [
            2.299392350022008,
            1.6120347336328258
           ]
          }
         ]
        },
        {
         "data": [
          {
           "type": "scatter",
           "x": [
            0,
            0.06670559936094511
           ],
           "y": [
            0,
            2.2990324841145453
           ]
          },
          {
           "type": "scatter",
           "x": [
            0.06670559936094511,
            0.1774443565587805
           ],
           "y": [
            2.2990324841145453,
            1.607847322486868
           ]
          }
         ]
        },
        {
         "data": [
          {
           "type": "scatter",
           "x": [
            0,
            0.081982425497244
           ],
           "y": [
            0,
            2.298538422978739
           ]
          },
          {
           "type": "scatter",
           "x": [
            0.081982425497244,
            0.16891228672674127
           ],
           "y": [
            2.298538422978739,
            1.6039571108009492
           ]
          }
         ]
        },
        {
         "data": [
          {
           "type": "scatter",
           "x": [
            0,
            0.09857688110030717
           ],
           "y": [
            0,
            2.297886550400723
           ]
          },
          {
           "type": "scatter",
           "x": [
            0.09857688110030717,
            0.1598285064167945
           ],
           "y": [
            2.297886550400723,
            1.6005715294840006
           ]
          }
         ]
        },
        {
         "data": [
          {
           "type": "scatter",
           "x": [
            0,
            0.11633546969184093
           ],
           "y": [
            0,
            2.2970559545843843
           ]
          },
          {
           "type": "scatter",
           "x": [
            0.11633546969184093,
            0.15034109115516245
           ],
           "y": [
            2.2970559545843843,
            1.5978824298361332
           ]
          }
         ]
        },
        {
         "data": [
          {
           "type": "scatter",
           "x": [
            0,
            0.13507164623071105
           ],
           "y": [
            0,
            2.2960304114676977
           ]
          },
          {
           "type": "scatter",
           "x": [
            0.13507164623071105,
            0.14062279207664607
           ],
           "y": [
            2.2960304114676977,
            1.596052422685338
           ]
          }
         ]
        },
        {
         "data": [
          {
           "type": "scatter",
           "x": [
            0,
            0.1545702141710654
           ],
           "y": [
            0,
            2.294800219821131
           ]
          },
          {
           "type": "scatter",
           "x": [
            0.1545702141710654,
            0.13086674590459474
           ],
           "y": [
            2.294800219821131,
            1.5952016595080467
           ]
          }
         ]
        },
        {
         "data": [
          {
           "type": "scatter",
           "x": [
            0,
            0.17459539912873026
           ],
           "y": [
            0,
            2.2933635661628267
           ]
          },
          {
           "type": "scatter",
           "x": [
            0.17459539912873026,
            0.12127950779085658
           ],
           "y": [
            2.2933635661628267,
            1.5953969367808427
           ]
          }
         ]
        },
        {
         "data": [
          {
           "type": "scatter",
           "x": [
            0,
            0.1949018764830448
           ],
           "y": [
            0,
            2.2917271343995966
           ]
          },
          {
           "type": "scatter",
           "x": [
            0.1949018764830448,
            0.11207206550547247
           ],
           "y": [
            2.2917271343995966,
            1.5966449648588872
           ]
          }
         ]
        },
        {
         "data": [
          {
           "type": "scatter",
           "x": [
            0,
            0.21524730154870242
           ],
           "y": [
            0,
            2.2899058057431096
           ]
          },
          {
           "type": "scatter",
           "x": [
            0.21524730154870242,
            0.10345002228963461
           ],
           "y": [
            2.2899058057431096,
            1.5988910675860497
           ]
          }
         ]
        },
        {
         "data": [
          {
           "type": "scatter",
           "x": [
            0,
            0.23540449189142393
           ],
           "y": [
            0,
            2.2879214858026353
           ]
          },
          {
           "type": "scatter",
           "x": [
            0.23540449189142393,
            0.09560438798173804
           ],
           "y": [
            2.2879214858026353,
            1.6020235845470323
           ]
          }
         ]
        },
        {
         "data": [
          {
           "type": "scatter",
           "x": [
            0,
            0.2551715055044131
           ],
           "y": [
            0,
            2.28580128243437
           ]
          },
          {
           "type": "scatter",
           "x": [
            0.2551715055044131,
            0.08870428041507014
           ],
           "y": [
            2.28580128243437,
            1.605883152825331
           ]
          }
         ]
        },
        {
         "data": [
          {
           "type": "scatter",
           "x": [
            0,
            0.2743784194838755
           ],
           "y": [
            0,
            2.283575372726184
           ]
          },
          {
           "type": "scatter",
           "x": [
            0.2743784194838755,
            0.08289236368973804
           ],
           "y": [
            2.283575372726184,
            1.6102752238799176
           ]
          }
         ]
        },
        {
         "data": [
          {
           "type": "scatter",
           "x": [
            0,
            0.292890398864202
           ],
           "y": [
            0,
            2.281274909837297
           ]
          },
          {
           "type": "scatter",
           "x": [
            0.292890398864202,
            0.07828322930007514
           ],
           "y": [
            2.281274909837297,
            1.6149838602413458
           ]
          }
         ]
        },
        {
         "data": [
          {
           "type": "scatter",
           "x": [
            0,
            0.31060737624686496
           ],
           "y": [
            0,
            2.2789302441762094
           ]
          },
          {
           "type": "scatter",
           "x": [
            0.31060737624686496,
            0.07496437751494792
           ],
           "y": [
            2.2789302441762094,
            1.6197850574770802
           ]
          }
         ]
        },
        {
         "data": [
          {
           "type": "scatter",
           "x": [
            0,
            0.32746113664936144
           ],
           "y": [
            0,
            2.2765696132524273
           ]
          },
          {
           "type": "scatter",
           "x": [
            0.32746113664936144,
            0.07299912074885273
           ],
           "y": [
            2.2765696132524273,
            1.624458363185501
           ]
          }
         ]
        },
        {
         "data": [
          {
           "type": "scatter",
           "x": [
            0,
            0.34341078104591216
           ],
           "y": [
            0,
            2.2742183350464473
           ]
          },
          {
           "type": "scatter",
           "x": [
            0.34341078104591216,
            0.0724306309398241
           ],
           "y": [
            2.2742183350464473,
            1.6287961799816542
           ]
          }
         ]
        },
        {
         "data": [
          {
           "type": "scatter",
           "x": [
            0,
            0.3584374783486688
           ],
           "y": [
            0,
            2.271898451541144
           ]
          },
          {
           "type": "scatter",
           "x": [
            0.3584374783486688,
            0.07328643165324111
           ],
           "y": [
            2.271898451541144,
            1.6326106598788113
           ]
          }
         ]
        },
        {
         "data": [
          {
           "type": "scatter",
           "x": [
            0,
            0.3725392261200503
           ],
           "y": [
            0,
            2.269628719637173
           ]
          },
          {
           "type": "scatter",
           "x": [
            0.3725392261200503,
            0.07558280361434577
           ],
           "y": [
            2.269628719637173,
            1.6357384427495925
           ]
          }
         ]
        },
        {
         "data": [
          {
           "type": "scatter",
           "x": [
            0,
            0.38572611260352196
           ],
           "y": [
            0,
            2.2674248314014234
           ]
          },
          {
           "type": "scatter",
           "x": [
            0.38572611260352196,
            0.07932875545486645
           ],
           "y": [
            2.2674248314014234,
            1.6380436595092869
           ]
          }
         ]
        },
        {
         "data": [
          {
           "type": "scatter",
           "x": [
            0,
            0.3980163723880253
           ],
           "y": [
            0,
            2.2652997521986085
           ]
          },
          {
           "type": "scatter",
           "x": [
            0.3980163723880253,
            0.08452936457937504
           ],
           "y": [
            2.2652997521986085,
            1.6394196551071774
           ]
          }
         ]
        },
        {
         "data": [
          {
           "type": "scatter",
           "x": [
            0,
            0.40943338881351377
           ],
           "y": [
            0,
            2.263264080951377
           ]
          },
          {
           "type": "scatter",
           "x": [
            0.40943338881351377,
            0.09118840247341331
           ],
           "y": [
            2.263264080951377,
            1.639789840369307
           ]
          }
         ]
        },
        {
         "data": [
          {
           "type": "scatter",
           "x": [
            0,
            0.4200037003492839
           ],
           "y": [
            0,
            2.2613263567413058
           ]
          },
          {
           "type": "scatter",
           "x": [
            0.4200037003492839,
            0.09931022103275633
           ],
           "y": [
            2.2613263567413058,
            1.6391079928819128
           ]
          }
         ]
        },
        {
         "data": [
          {
           "type": "scatter",
           "x": [
            0,
            0.4297560222084169
           ],
           "y": [
            0,
            2.259493253226395
           ]
          },
          {
           "type": "scatter",
           "x": [
            0.4297560222084169,
            0.1089009061111113
           ],
           "y": [
            2.259493253226395,
            1.6373582240935027
           ]
          }
         ]
        },
        {
         "data": [
          {
           "type": "scatter",
           "x": [
            0,
            0.43872127432421515
           ],
           "y": [
            0,
            2.257769617001552
           ]
          },
          {
           "type": "scatter",
           "x": [
            0.43872127432421515,
            0.11996870907302465
           ],
           "y": [
            2.257769617001552,
            1.6345547245721548
           ]
          }
         ]
        },
        {
         "data": [
          {
           "type": "scatter",
           "x": [
            0,
            0.4469336004422097
           ],
           "y": [
            0,
            2.2561583182028166
           ]
          },
          {
           "type": "scatter",
           "x": [
            0.4469336004422097,
            0.1325237597101952
           ],
           "y": [
            2.2561583182028166,
            1.6307412956883434
           ]
          }
         ]
        },
        {
         "data": [
          {
           "type": "scatter",
           "x": [
            0,
            0.45443235611667765
           ],
           "y": [
            0,
            2.254659893135602
           ]
          },
          {
           "type": "scatter",
           "x": [
            0.45443235611667765,
            0.14657705388748693
           ],
           "y": [
            2.254659893135602,
            1.625990573946751
           ]
          }
         ]
        },
        {
         "data": [
          {
           "type": "scatter",
           "x": [
            0,
            0.4612650212870161
           ],
           "y": [
            0,
            2.253271972074629
           ]
          },
          {
           "type": "scatter",
           "x": [
            0.4612650212870161,
            0.1621387067158146
           ],
           "y": [
            2.253271972074629,
            1.620402753411681
           ]
          }
         ]
        },
        {
         "data": [
          {
           "type": "scatter",
           "x": [
            0,
            0.4674909348143689
           ],
           "y": [
            0,
            2.2519885048255435
           ]
          },
          {
           "type": "scatter",
           "x": [
            0.4674909348143689,
            0.17921547850828118
           ],
           "y": [
            2.2519885048255435,
            1.614103514179489
           ]
          }
         ]
        },
        {
         "data": [
          {
           "type": "scatter",
           "x": [
            0,
            0.47318566303439713
           ],
           "y": [
            0,
            2.2507988200411644
           ]
          },
          {
           "type": "scatter",
           "x": [
            0.47318566303439713,
            0.19780762713062167
           ],
           "y": [
            2.2507988200411644,
            1.607240790535061
           ]
          }
         ]
        },
        {
         "data": [
          {
           "type": "scatter",
           "x": [
            0,
            0.47844566167310415
           ],
           "y": [
            0,
            2.2496865890221653
           ]
          },
          {
           "type": "scatter",
           "x": [
            0.47844566167310415,
            0.21790522602278656
           ],
           "y": [
            2.2496865890221653,
            1.5999799772417844
           ]
          }
         ]
        },
        {
         "data": [
          {
           "type": "scatter",
           "x": [
            0,
            0.4833927032851346
           ],
           "y": [
            0,
            2.248628803162205
           ]
          },
          {
           "type": "scatter",
           "x": [
            0.4833927032851346,
            0.23948421725455915
           ],
           "y": [
            2.248628803162205,
            1.5924972230334378
           ]
          }
         ]
        },
        {
         "data": [
          {
           "type": "scatter",
           "x": [
            0,
            0.4881773521698447
           ],
           "y": [
            0,
            2.2475949085252083
           ]
          },
          {
           "type": "scatter",
           "x": [
            0.4881773521698447,
            0.2625026297539222
           ],
           "y": [
            2.2475949085252083,
            1.5849706411892646
           ]
          }
         ]
        },
        {
         "data": [
          {
           "type": "scatter",
           "x": [
            0,
            0.4929806254197562
           ],
           "y": [
            0,
            2.2465462610328646
           ]
          },
          {
           "type": "scatter",
           "x": [
            0.4929806254197562,
            0.28689754757924546
           ],
           "y": [
            2.2465462610328646,
            1.5775696059635103
           ]
          }
         ]
        },
        {
         "data": [
          {
           "type": "scatter",
           "x": [
            0,
            0.49801299913007896
           ],
           "y": [
            0,
            2.2454360495675365
           ]
          },
          {
           "type": "scatter",
           "x": [
            0.49801299913007896,
            0.3125834976308155
           ],
           "y": [
            2.2454360495675365,
            1.5704427903613911
           ]
          }
         ]
        },
        {
         "data": [
          {
           "type": "scatter",
           "x": [
            0,
            0.5035101679246666
           ],
           "y": [
            0,
            2.2442097742404727
           ]
          },
          {
           "type": "scatter",
           "x": [
            0.5035101679246666,
            0.3394528658973442
           ],
           "y": [
            2.2442097742404727,
            1.5637061360051465
           ]
          }
         ]
        },
        {
         "data": [
          {
           "type": "scatter",
           "x": [
            0,
            0.5097255309885348
           ],
           "y": [
            0,
            2.2428062517878034
           ]
          },
          {
           "type": "scatter",
           "x": [
            0.5097255309885348,
            0.36737868467598966
           ],
           "y": [
            2.2428062517878034,
            1.5574323572274162
           ]
          }
         ]
        },
        {
         "data": [
          {
           "type": "scatter",
           "x": [
            0,
            0.5169200395791608
           ],
           "y": [
            0,
            2.241159002097236
           ]
          },
          {
           "type": "scatter",
           "x": [
            0.5169200395791608,
            0.3962197007918447
           ],
           "y": [
            2.241159002097236,
            1.5516436446057387
           ]
          }
         ]
        },
        {
         "data": [
          {
           "type": "scatter",
           "x": [
            0,
            0.5253507404134293
           ],
           "y": [
            0,
            2.2391977580256417
           ]
          },
          {
           "type": "scatter",
           "x": [
            0.5253507404134293,
            0.4258271289732931
           ],
           "y": [
            2.2391977580256417,
            1.5463088414120818
           ]
          }
         ]
        },
        {
         "data": [
          {
           "type": "scatter",
           "x": [
            0,
            0.5352596976276611
           ],
           "y": [
            0,
            2.236849806333797
           ]
          },
          {
           "type": "scatter",
           "x": [
            0.5352596976276611,
            0.4560521108273529
           ],
           "y": [
            2.236849806333797,
            1.5413455589037244
           ]
          }
         ]
        },
        {
         "data": [
          {
           "type": "scatter",
           "x": [
            0,
            0.5468648757131626
           ],
           "y": [
            0,
            2.234040914511466
           ]
          },
          {
           "type": "scatter",
           "x": [
            0.5468648757131626,
            0.48675277958532137
           ],
           "y": [
            2.234040914511466,
            1.5366267363510868
           ]
          }
         ]
        },
        {
         "data": [
          {
           "type": "scatter",
           "x": [
            0,
            0.5603540515072398
           ],
           "y": [
            0,
            2.2306957069397475
           ]
          },
          {
           "type": "scatter",
           "x": [
            0.5603540515072398,
            0.517800010973805
           ],
           "y": [
            2.2306957069397475,
            1.5319903658736593
           ]
          }
         ]
        },
        {
         "data": [
          {
           "type": "scatter",
           "x": [
            0,
            0.5758820956057438
           ],
           "y": [
            0,
            2.2267374815996464
           ]
          },
          {
           "type": "scatter",
           "x": [
            0.5758820956057438,
            0.5490813309507
           ],
           "y": [
            2.2267374815996464,
            1.5272507276050442
           ]
          }
         ]
        },
        {
         "data": [
          {
           "type": "scatter",
           "x": [
            0,
            0.5935712905455309
           ],
           "y": [
            0,
            2.2220875597149883
           ]
          },
          {
           "type": "scatter",
           "x": [
            0.5935712905455309,
            0.5805028902300512
           ],
           "y": [
            2.2220875597149883,
            1.522209558265311
           ]
          }
         ]
        },
        {
         "data": [
          {
           "type": "scatter",
           "x": [
            0,
            0.6135139239078232
           ],
           "y": [
            0,
            2.216664310438372
           ]
          },
          {
           "type": "scatter",
           "x": [
            0.6135139239078232,
            0.6119897623476046
           ],
           "y": [
            2.216664310438372,
            1.5166659697749543
           ]
          }
         ]
        },
        {
         "data": [
          {
           "type": "scatter",
           "x": [
            0,
            0.6357762410611588
           ],
           "y": [
            0,
            2.210381996692459
           ]
          },
          {
           "type": "scatter",
           "x": [
            0.6357762410611588,
            0.6434850106561459
           ],
           "y": [
            2.210381996692459,
            1.5104244444999484
           ]
          }
         ]
        },
        {
         "data": [
          {
           "type": "scatter",
           "x": [
            0,
            0.660402907784144
           ],
           "y": [
            0,
            2.2031495635544687
           ]
          },
          {
           "type": "scatter",
           "x": [
            0.660402907784144,
            0.6749480097389754
           ],
           "y": [
            2.2031495635544687,
            1.5033006941482778
           ]
          }
         ]
        },
        {
         "data": [
          {
           "type": "scatter",
           "x": [
            0,
            0.6874213263731095
           ],
           "y": [
            0,
            2.194869453987511
           ]
          },
          {
           "type": "scatter",
           "x": [
            0.6874213263731095,
            0.7063524437534404
           ],
           "y": [
            2.194869453987511,
            1.4951254916736285
           ]
          }
         ]
        },
        {
         "data": [
          {
           "type": "scatter",
           "x": [
            0,
            0.7168453658891086
           ],
           "y": [
            0,
            2.185436505918968
           ]
          },
          {
           "type": "scatter",
           "x": [
            0.7168453658891086,
            0.7376842957493452
           ],
           "y": [
            2.185436505918968,
            1.4857467611018242
           ]
          }
         ]
        },
        {
         "data": [
          {
           "type": "scatter",
           "x": [
            0,
            0.7486782678181471
           ],
           "y": [
            0,
            2.1747369614040264
           ]
          },
          {
           "type": "scatter",
           "x": [
            0.7486782678181471,
            0.7689400265197023
           ],
           "y": [
            2.1747369614040264,
            1.4750302648987552
           ]
          }
         ]
        },
        {
         "data": [
          {
           "type": "scatter",
           "x": [
            0,
            0.7829146252652674
           ],
           "y": [
            0,
            2.162647611042017
           ]
          },
          {
           "type": "scatter",
           "x": [
            0.7829146252652674,
            0.8001250450410001
           ],
           "y": [
            2.162647611042017,
            1.4628592134166043
           ]
          }
         ]
        },
        {
         "data": [
          {
           "type": "scatter",
           "x": [
            0,
            0.8195414382542877
           ],
           "y": [
            0,
            2.1490350930089748
           ]
          },
          {
           "type": "scatter",
           "x": [
            0.8195414382542877,
            0.8312524970232629
           ],
           "y": [
            2.1490350930089748,
            1.4491330633630324
           ]
          }
         ]
        },
        {
         "data": [
          {
           "type": "scatter",
           "x": [
            0,
            0.8585383040597157
           ],
           "y": [
            0,
            2.133755370341752
           ]
          },
          {
           "type": "scatter",
           "x": [
            0.8585383040597157,
            0.8623423453313359
           ],
           "y": [
            2.133755370341752,
            1.4337657066537772
           ]
          }
         ]
        },
        {
         "data": [
          {
           "type": "scatter",
           "x": [
            0,
            0.899876833151178
           ],
           "y": [
            0,
            2.1166534164000033
           ]
          },
          {
           "type": "scatter",
           "x": [
            0.899876833151178,
            0.8934206807077341
           ],
           "y": [
            2.1166534164000033,
            1.4166831898220245
           ]
          }
         ]
        },
        {
         "data": [
          {
           "type": "scatter",
           "x": [
            0,
            0.9435193973790441
           ],
           "y": [
            0,
            2.097563144882529
           ]
          },
          {
           "type": "scatter",
           "x": [
            0.9435193973790441,
            0.924519176957891
           ],
           "y": [
            2.097563144882529,
            1.3978210555210648
           ]
          }
         ]
        },
        {
         "data": [
          {
           "type": "scatter",
           "x": [
            0,
            0.989417325632156
           ],
           "y": [
            0,
            2.076307625507095
           ]
          },
          {
           "type": "scatter",
           "x": [
            0.989417325632156,
            0.9556745883883234
           ],
           "y": [
            2.076307625507095,
            1.3771213644269062
           ]
          }
         ]
        },
        {
         "data": [
          {
           "type": "scatter",
           "x": [
            0,
            1.037508667865742
           ],
           "y": [
            0,
            2.052699628319607
           ]
          },
          {
           "type": "scatter",
           "x": [
            1.037508667865742,
            0.9869281759930512
           ],
           "y": [
            2.052699628319607,
            1.3545294385793714
           ]
          }
         ]
        },
        {
         "data": [
          {
           "type": "scatter",
           "x": [
            0,
            1.0877156540574386
           ],
           "y": [
            0,
            2.026542537406604
           ]
          },
          {
           "type": "scatter",
           "x": [
            1.0877156540574386,
            1.0183249414932367
           ],
           "y": [
            2.026542537406604,
            1.329990364909933
           ]
          }
         ]
        },
        {
         "data": [
          {
           "type": "scatter",
           "x": [
            0,
            1.139941979458648
           ],
           "y": [
            0,
            1.9976316686185915
           ]
          },
          {
           "type": "scatter",
           "x": [
            1.139941979458648,
            1.049912548014731
           ],
           "y": [
            1.9976316686185915,
            1.3034453092928806
           ]
          }
         ]
        },
        {
         "data": [
          {
           "type": "scatter",
           "x": [
            0,
            1.1940700530763377
           ],
           "y": [
            0,
            1.9657560144499802
           ]
          },
          {
           "type": "scatter",
           "x": [
            1.1940700530763377,
            1.081739810252053
           ],
           "y": [
            1.9657560144499802,
            1.2748277138666004
           ]
          }
         ]
        },
        {
         "data": [
          {
           "type": "scatter",
           "x": [
            0,
            1.2499583471638245
           ],
           "y": [
            0,
            1.930700424808437
           ]
          },
          {
           "type": "scatter",
           "x": [
            1.2499583471638245,
            1.1138546525780313
           ],
           "y": [
            1.930700424808437,
            1.2440594820151185
           ]
          }
         ]
        },
        {
         "data": [
          {
           "type": "scatter",
           "x": [
            0,
            1.3074389814948033
           ],
           "y": [
            0,
            1.8922482156598355
           ]
          },
          {
           "type": "scatter",
           "x": [
            1.3074389814948033,
            1.1463014609357822
           ],
           "y": [
            1.8922482156598355,
            1.211047291212363
           ]
          }
         ]
        },
        {
         "data": [
          {
           "type": "scatter",
           "x": [
            0,
            1.366315664897357
           ],
           "y": [
            0,
            1.8501841810630888
           ]
          },
          {
           "type": "scatter",
           "x": [
            1.366315664897357,
            1.179117795144665
           ],
           "y": [
            1.8501841810630888,
            1.1756792088352674
           ]
          }
         ]
        },
        {
         "data": [
          {
           "type": "scatter",
           "x": [
            0,
            1.4263620961824637
           ],
           "y": [
            0,
            1.804297971670413
           ]
          },
          {
           "type": "scatter",
           "x": [
            1.4263620961824637,
            1.2123304835825874
           ],
           "y": [
            1.804297971670413,
            1.1378218139514018
           ]
          }
         ]
        },
        {
         "data": [
          {
           "type": "scatter",
           "x": [
            0,
            1.4873208986399291
           ],
           "y": [
            0,
            1.7543877976288234
           ]
          },
          {
           "type": "scatter",
           "x": [
            1.4873208986399291,
            1.2459511897580016
           ],
           "y": [
            1.7543877976288234,
            1.0973180420973017
           ]
          }
         ]
        },
        {
         "data": [
          {
           "type": "scatter",
           "x": [
            0,
            1.5489031300526586
           ],
           "y": [
            0,
            1.7002644187634686
           ]
          },
          {
           "type": "scatter",
           "x": [
            1.5489031300526586,
            1.279971615809047
           ],
           "y": [
            1.7002644187634686,
            1.0539859643441385
           ]
          }
         ]
        },
        {
         "data": [
          {
           "type": "scatter",
           "x": [
            0,
            1.6107883787734856
           ],
           "y": [
            0,
            1.6417554016382236
           ]
          },
          {
           "type": "scatter",
           "x": [
            1.6107883787734856,
            1.314358585359248
           ],
           "y": [
            1.6417554016382236,
            1.0076186832750678
           ]
          }
         ]
        },
        {
         "data": [
          {
           "type": "scatter",
           "x": [
            0,
            1.6726254354422352
           ],
           "y": [
            0,
            1.5787096480074074
           ]
          },
          {
           "type": "scatter",
           "x": [
            1.6726254354422352,
            1.3490493194401507
           ],
           "y": [
            1.5787096480074074,
            0.9579854764521138
           ]
          }
         ]
        },
        {
         "data": [
          {
           "type": "scatter",
           "x": [
            0,
            1.7340335262116977
           ],
           "y": [
            0,
            1.511002226991683
           ]
          },
          {
           "type": "scatter",
           "x": [
            1.7340335262116977,
            1.3839472788143847
           ],
           "y": [
            1.511002226991683,
            0.904834247481657
           ]
          }
         ]
        },
        {
         "data": [
          {
           "type": "scatter",
           "x": [
            0,
            1.7946041104437656
           ],
           "y": [
            0,
            1.4385395673315142
           ]
          },
          {
           "type": "scatter",
           "x": [
            1.7946041104437656,
            1.4189189902491062
           ],
           "y": [
            1.4385395673315142,
            0.847895266195607
           ]
          }
         ]
        },
        {
         "data": [
          {
           "type": "scatter",
           "x": [
            0,
            1.8539033003103755
           ],
           "y": [
            0,
            1.3612650561511879
           ]
          },
          {
           "type": "scatter",
           "x": [
            1.8539033003103755,
            1.453792299572922
           ],
           "y": [
            1.3612650561511879,
            0.7868860984160762
           ]
          }
         ]
        },
        {
         "data": [
          {
           "type": "scatter",
           "x": [
            0,
            1.9114750183374238
           ],
           "y": [
            0,
            1.279165061386506
           ]
          },
          {
           "type": "scatter",
           "x": [
            1.9114750183374238,
            1.4883565145977604
           ],
           "y": [
            1.279165061386506,
            0.7215175635950172
           ]
          }
         ]
        },
        {
         "data": [
          {
           "type": "scatter",
           "x": [
            0,
            1.9668451061304009
           ],
           "y": [
            0,
            1.192275273789946
           ]
          },
          {
           "type": "scatter",
           "x": [
            1.9668451061304009,
            1.5223648990394658
           ],
           "y": [
            1.192275273789946,
            0.6515005096742383
           ]
          }
         ]
        },
        {
         "data": [
          {
           "type": "scatter",
           "x": [
            0,
            2.0195266583609808
           ],
           "y": [
            0,
            1.1006870927603951
           ]
          },
          {
           "type": "scatter",
           "x": [
            2.0195266583609808,
            1.5555399793420324
           ],
           "y": [
            1.1006870927603951,
            0.5765531769593212
           ]
          }
         ]
        },
        {
         "data": [
          {
           "type": "scatter",
           "x": [
            0,
            2.069026896854788
           ],
           "y": [
            0,
            1.0045534829422709
           ]
          },
          {
           "type": "scatter",
           "x": [
            2.069026896854788,
            1.5875820915171064
           ],
           "y": [
            1.0045534829422709,
            0.4964089174755506
           ]
          }
         ]
        },
        {
         "data": [
          {
           "type": "scatter",
           "x": [
            0,
            2.11485583304757
           ],
           "y": [
            0,
            0.9040933610112777
           ]
          },
          {
           "type": "scatter",
           "x": [
            2.11485583304757,
            1.618181505517679
           ],
           "y": [
            0.9040933610112777,
            0.410824050823901
           ]
          }
         ]
        },
        {
         "data": [
          {
           "type": "scatter",
           "x": [
            0,
            2.1565367675739
           ],
           "y": [
            0,
            0.7995931278481037
           ]
          },
          {
           "type": "scatter",
           "x": [
            2.1565367675739,
            1.647034252678815
           ],
           "y": [
            0.7995931278481037,
            0.3195856411194239
           ]
          }
         ]
        },
        {
         "data": [
          {
           "type": "scatter",
           "x": [
            0,
            2.193618267706777
           ],
           "y": [
            0,
            0.6914035692583005
           ]
          },
          {
           "type": "scatter",
           "x": [
            2.193618267706777,
            1.6738613662829562
           ],
           "y": [
            0.6914035692583005,
            0.22251897426470446
           ]
          }
         ]
        },
        {
         "data": [
          {
           "type": "scatter",
           "x": [
            0,
            2.2256866309835472
           ],
           "y": [
            0,
            0.5799301860233753
           ]
          },
          {
           "type": "scatter",
           "x": [
            2.2256866309835472,
            1.6984305716043369
           ],
           "y": [
            0.5799301860233753,
            0.11949447080581466
           ]
          }
         ]
        },
        {
         "data": [
          {
           "type": "scatter",
           "x": [
            0,
            2.2523770377762298
           ],
           "y": [
            0,
            0.4656153774290276
           ]
          },
          {
           "type": "scatter",
           "x": [
            2.2523770377762298,
            1.7205785213836502
           ],
           "y": [
            0.4656153774290276,
            0.010433723621834923
           ]
          }
         ]
        },
        {
         "data": [
          {
           "type": "scatter",
           "x": [
            0,
            2.2733808325536935
           ],
           "y": [
            0,
            0.3489120092193353
           ]
          },
          {
           "type": "scatter",
           "x": [
            2.2733808325536935,
            1.740230670593912
           ],
           "y": [
            0.3489120092193353,
            -0.10468572534539816
           ]
          }
         ]
        },
        {
         "data": [
          {
           "type": "scatter",
           "x": [
            0,
            2.288445975249877
           ],
           "y": [
            0,
            0.23024990415337143
           ]
          },
          {
           "type": "scatter",
           "x": [
            2.288445975249877,
            1.7574152420725482
           ],
           "y": [
            0.23024990415337143,
            -0.22582723890594525
           ]
          }
         ]
        },
        {
         "data": [
          {
           "type": "scatter",
           "x": [
            0,
            2.2973680988784375
           ],
           "y": [
            0,
            0.1099991738863208
           ]
          },
          {
           "type": "scatter",
           "x": [
            2.2973680988784375,
            1.7722680002710343
           ],
           "y": [
            0.1099991738863208,
            -0.3528937796596318
           ]
          }
         ]
        },
        {
         "data": [
          {
           "type": "scatter",
           "x": [
            0,
            2.2999709293683988
           ],
           "y": [
            0,
            -0.011563911979252594
           ]
          },
          {
           "type": "scatter",
           "x": [
            2.2999709293683988,
            1.7850260993396652
           ],
           "y": [
            -0.011563911979252594,
            -0.4857282527163841
           ]
          }
         ]
        },
        {
         "data": [
          {
           "type": "scatter",
           "x": [
            0,
            2.29607668085167
           ],
           "y": [
            0,
            -0.134282819635191
           ]
          },
          {
           "type": "scatter",
           "x": [
            2.29607668085167,
            1.7960118864490409
           ],
           "y": [
            -0.134282819635191,
            -0.6241146289320723
           ]
          }
         ]
        },
        {
         "data": [
          {
           "type": "scatter",
           "x": [
            0,
            2.2854684987534197
           ],
           "y": [
            0,
            -0.2581351219919314
           ]
          },
          {
           "type": "scatter",
           "x": [
            2.2854684987534197,
            1.805610148046659
           ],
           "y": [
            -0.2581351219919314,
            -0.7677780982576574
           ]
          }
         ]
        },
        {
         "data": [
          {
           "type": "scatter",
           "x": [
            0,
            2.267847023412493
           ],
           "y": [
            0,
            -0.3832360609325478
           ]
          },
          {
           "type": "scatter",
           "x": [
            2.267847023412493,
            1.814243757529762
           ],
           "y": [
            -0.3832360609325478,
            -0.9163815168641543
           ]
          }
         ]
        },
        {
         "data": [
          {
           "type": "scatter",
           "x": [
            0,
            2.2427811094024643
           ],
           "y": [
            0,
            -0.5098361455482047
           ]
          },
          {
           "type": "scatter",
           "x": [
            2.2427811094024643,
            1.8223522161977694
           ],
           "y": [
            -0.5098361455482047,
            -1.0695142188713207
           ]
          }
         ]
        },
        {
         "data": [
          {
           "type": "scatter",
           "x": [
            0,
            2.209648584579214
           ],
           "y": [
            0,
            -0.6383205563563462
           ]
          },
          {
           "type": "scatter",
           "x": [
            2.209648584579214,
            1.8303754890580177
           ],
           "y": [
            -0.6383205563563462,
            -1.226667324014476
           ]
          }
         ]
        },
        {
         "data": [
          {
           "type": "scatter",
           "x": [
            0,
            2.1675563576240306
           ],
           "y": [
            0,
            -0.7692200182806248
           ]
          },
          {
           "type": "scatter",
           "x": [
            2.1675563576240306,
            1.8387424395132976
           ],
           "y": [
            -0.7692200182806248,
            -1.3871855571714824
           ]
          }
         ]
        },
        {
         "data": [
          {
           "type": "scatter",
           "x": [
            0,
            2.115218176960942
           ],
           "y": [
            0,
            -0.9032452955061706
           ]
          },
          {
           "type": "scatter",
           "x": [
            2.115218176960942,
            1.8478587745541522
           ],
           "y": [
            -0.9032452955061706,
            -1.5501757013031807
           ]
          }
         ]
        },
        {
         "data": [
          {
           "type": "scatter",
           "x": [
            0,
            2.050746544573188
           ],
           "y": [
            0,
            -1.0413638220723478
           ]
          },
          {
           "type": "scatter",
           "x": [
            2.050746544573188,
            1.858080362113522
           ],
           "y": [
            -1.0413638220723478,
            -1.7143272253391366
           ]
          }
         ]
        },
        {
         "data": [
          {
           "type": "scatter",
           "x": [
            0,
            1.9712662350820895
           ],
           "y": [
            0,
            -1.1849512354629972
           ]
          },
          {
           "type": "scatter",
           "x": [
            1.9712662350820895,
            1.869629783915696
           ],
           "y": [
            -1.1849512354629972,
            -1.8775333835106502
           ]
          }
         ]
        },
        {
         "data": [
          {
           "type": "scatter",
           "x": [
            0,
            1.8721420465977807
           ],
           "y": [
            0,
            -1.336070416318194
           ]
          },
          {
           "type": "scatter",
           "x": [
            1.8721420465977807,
            1.8823060191340786
           ],
           "y": [
            -1.336070416318194,
            -2.035996622187271
           ]
          }
         ]
        },
        {
         "data": [
          {
           "type": "scatter",
           "x": [
            0,
            1.7454170936674047
           ],
           "y": [
            0,
            -1.4978381652013109
           ]
          },
          {
           "type": "scatter",
           "x": [
            1.7454170936674047,
            1.894338908639356
           ],
           "y": [
            -1.4978381652013109,
            -2.1818135251562287
           ]
          }
         ]
        },
        {
         "data": [
          {
           "type": "scatter",
           "x": [
            0,
            1.5781232779832362
           ],
           "y": [
            0,
            -1.6731786872559202
           ]
          },
          {
           "type": "scatter",
           "x": [
            1.5781232779832362,
            1.8972694313347613
           ],
           "y": [
            -1.6731786872559202,
            -2.29619211632541
           ]
          }
         ]
        },
        {
         "data": [
          {
           "type": "scatter",
           "x": [
            0,
            1.366557771318526
           ],
           "y": [
            0,
            -1.8500053669243617
           ]
          },
          {
           "type": "scatter",
           "x": [
            1.366557771318526,
            1.861529900345389
           ],
           "y": [
            -1.8500053669243617,
            -2.3449827315448206
           ]
          }
         ]
        },
        {
         "data": [
          {
           "type": "scatter",
           "x": [
            0,
            1.1494628005975749
           ],
           "y": [
            0,
            -1.9921684843512555
           ]
          },
          {
           "type": "scatter",
           "x": [
            1.1494628005975749,
            1.7618861332703228
           ],
           "y": [
            -1.9921684843512555,
            -2.3311930580889193
           ]
          }
         ]
        },
        {
         "data": [
          {
           "type": "scatter",
           "x": [
            0,
            0.9503091647868104
           ],
           "y": [
            0,
            -2.094495760636004
           ]
          },
          {
           "type": "scatter",
           "x": [
            0.9503091647868104,
            1.6206661836734855
           ],
           "y": [
            -2.094495760636004,
            -2.2960434404275856
           ]
          }
         ]
        },
        {
         "data": [
          {
           "type": "scatter",
           "x": [
            0,
            0.7648950166961075
           ],
           "y": [
            0,
            -2.1690863545358128
           ]
          },
          {
           "type": "scatter",
           "x": [
            0.7648950166961075,
            1.4592114635735283
           ],
           "y": [
            -2.1690863545358128,
            -2.2581069790871697
           ]
          }
         ]
        },
        {
         "data": [
          {
           "type": "scatter",
           "x": [
            0,
            0.587343189951739
           ],
           "y": [
            0,
            -2.223741886374701
           ]
          },
          {
           "type": "scatter",
           "x": [
            0.587343189951739,
            1.2873421835747698
           ],
           "y": [
            -2.223741886374701,
            -2.222554904174297
           ]
          }
         ]
        },
        {
         "data": [
          {
           "type": "scatter",
           "x": [
            0,
            0.4136399650893792
           ],
           "y": [
            0,
            -2.2624990561944673
           ]
          },
          {
           "type": "scatter",
           "x": [
            0.4136399650893792,
            1.1099634220817527
           ],
           "y": [
            -2.2624990561944673,
            -2.190849609286691
           ]
          }
         ]
        },
        {
         "data": [
          {
           "type": "scatter",
           "x": [
            0,
            0.24105946859496266
           ],
           "y": [
            0,
            -2.2873325802341715
           ]
          },
          {
           "type": "scatter",
           "x": [
            0.24105946859496266,
            0.9299818067626806
           ],
           "y": [
            -2.2873325802341715,
            -2.1632922159428474
           ]
          }
         ]
        },
        {
         "data": [
          {
           "type": "scatter",
           "x": [
            0,
            0.06773321261967541
           ],
           "y": [
            0,
            -2.299002438430246
           ]
          },
          {
           "type": "scatter",
           "x": [
            0.06773321261967541,
            0.7493767011362098
           ],
           "y": [
            -2.299002438430246,
            -2.1397474398807215
           ]
          }
         ]
        },
        {
         "data": [
          {
           "type": "scatter",
           "x": [
            0,
            -0.10749369739679604
           ],
           "y": [
            0,
            -2.2974866931105313
           ]
          },
          {
           "type": "scatter",
           "x": [
            -0.10749369739679604,
            0.5696103941905241
           ],
           "y": [
            -2.2974866931105313,
            -2.119919665890639
           ]
          }
         ]
        },
        {
         "data": [
          {
           "type": "scatter",
           "x": [
            0,
            -0.2850315524767215
           ],
           "y": [
            0,
            -2.282270144854178
           ]
          },
          {
           "type": "scatter",
           "x": [
            -0.2850315524767215,
            0.39175895399573324
           ],
           "y": [
            -2.282270144854178,
            -2.1035116196064063
           ]
          }
         ]
        },
        {
         "data": [
          {
           "type": "scatter",
           "x": [
            0,
            -0.4644344948669666
           ],
           "y": [
            0,
            -2.2526208291627032
           ]
          },
          {
           "type": "scatter",
           "x": [
            -0.4644344948669666,
            0.2164965151424551
           ],
           "y": [
            -2.2526208291627032,
            -2.0903464947547357
           ]
          }
         ]
        },
        {
         "data": [
          {
           "type": "scatter",
           "x": [
            0,
            -0.644297800183618
           ],
           "y": [
            0,
            -2.207913119821192
           ]
          },
          {
           "type": "scatter",
           "x": [
            -0.644297800183618,
            0.04399908529453378
           ],
           "y": [
            -2.207913119821192,
            -2.0804478404660833
           ]
          }
         ]
        },
        {
         "data": [
          {
           "type": "scatter",
           "x": [
            0,
            -0.8222509484223717
           ],
           "y": [
            0,
            -2.1479998551719013
           ]
          },
          {
           "type": "scatter",
           "x": [
            -0.8222509484223717,
            -0.12616970689399643
           ],
           "y": [
            -2.1479998551719013,
            -2.0740342875588853
           ]
          }
         ]
        },
        {
         "data": [
          {
           "type": "scatter",
           "x": [
            0,
            -0.995111844901958
           ],
           "y": [
            0,
            -2.07358443670274
           ]
          },
          {
           "type": "scatter",
           "x": [
            -0.995111844901958,
            -0.2951152804414846
           ],
           "y": [
            -2.07358443670274,
            -2.0713913239527177
           ]
          }
         ]
        },
        {
         "data": [
          {
           "type": "scatter",
           "x": [
            0,
            -1.1592199892742234
           ],
           "y": [
            0,
            -1.986506737080715
           ]
          },
          {
           "type": "scatter",
           "x": [
            -1.1592199892742234,
            -0.46453841075732305
           ],
           "y": [
            -1.986506737080715,
            -2.0726316723159157
           ]
          }
         ]
        },
        {
         "data": [
          {
           "type": "scatter",
           "x": [
            0,
            -1.3109010170659905
           ],
           "y": [
            0,
            -1.8898514553941403
           ]
          },
          {
           "type": "scatter",
           "x": [
            -1.3109010170659905,
            -0.6364995552484664
           ],
           "y": [
            -1.8898514553941403,
            -2.0774218909600535
           ]
          }
         ]
        },
        {
         "data": [
          {
           "type": "scatter",
           "x": [
            0,
            -1.446952497047424
           ],
           "y": [
            0,
            -1.7878278639981602
           ]
          },
          {
           "type": "scatter",
           "x": [
            -1.446952497047424,
            -0.8130618918674525
           ],
           "y": [
            -1.7878278639981602,
            -2.0847835857220725
           ]
          }
         ]
        },
        {
         "data": [
          {
           "type": "scatter",
           "x": [
            0,
            -1.565011588222346
           ],
           "y": [
            0,
            -1.6854491178109678
           ]
          },
          {
           "type": "scatter",
           "x": [
            -1.565011588222346,
            -0.995915205357734
           ],
           "y": [
            -1.6854491178109678,
            -2.0930387484573014
           ]
          }
         ]
        },
        {
         "data": [
          {
           "type": "scatter",
           "x": [
            0,
            -1.6636908829599528
           ],
           "y": [
            0,
            -1.5881223649190046
           ]
          },
          {
           "type": "scatter",
           "x": [
            -1.6636908829599528,
            -1.1860870209096421
           ],
           "y": [
            -1.5881223649190046,
            -2.0998787043566587
           ]
          }
         ]
        },
        {
         "data": [
          {
           "type": "scatter",
           "x": [
            0,
            -1.7424351244679288
           ],
           "y": [
            0,
            -1.5013060437567127
           ]
          },
          {
           "type": "scatter",
           "x": [
            -1.7424351244679288,
            -1.3837849666863329
           ],
           "y": [
            -1.5013060437567127,
            -2.1024466798172243
           ]
          }
         ]
        },
        {
         "data": [
          {
           "type": "scatter",
           "x": [
            0,
            -1.8011080637667236
           ],
           "y": [
            0,
            -1.430387969270744
           ]
          },
          {
           "type": "scatter",
           "x": [
            -1.8011080637667236,
            -1.588309491987131
           ],
           "y": [
            -1.430387969270744,
            -2.0972588472138174
           ]
          }
         ]
        },
        {
         "data": [
          {
           "type": "scatter",
           "x": [
            0,
            -1.839309961397917
           ],
           "y": [
            0,
            -1.3809195725683634
           ]
          },
          {
           "type": "scatter",
           "x": [
            -1.839309961397917,
            -1.7978160000253887
           ],
           "y": [
            -1.3809195725683634,
            -2.079688669745403
           ]
          }
         ]
        },
        {
         "data": [
          {
           "type": "scatter",
           "x": [
            0,
            -1.855340091206278
           ],
           "y": [
            0,
            -1.3593061266553164
           ]
          },
          {
           "type": "scatter",
           "x": [
            -1.855340091206278,
            -2.008252973566954
           ],
           "y": [
            -1.3593061266553164,
            -2.04240030054948
           ]
          }
         ]
        },
        {
         "data": [
          {
           "type": "scatter",
           "x": [
            0,
            -1.8450697625868147
           ],
           "y": [
            0,
            -1.373214320922934
           ]
          },
          {
           "type": "scatter",
           "x": [
            -1.8450697625868147,
            -2.208864989464998
           ],
           "y": [
            -1.373214320922934,
            -1.9712553169262608
           ]
          }
         ]
        },
        {
         "data": [
          {
           "type": "scatter",
           "x": [
            0,
            -1.8075075843698363
           ],
           "y": [
            0,
            -1.4222926324935803
           ]
          },
          {
           "type": "scatter",
           "x": [
            -1.8075075843698363,
            -2.3678913822302134
           ],
           "y": [
            -1.4222926324935803,
            -1.8417804143127647
           ]
          }
         ]
        },
        {
         "data": [
          {
           "type": "scatter",
           "x": [
            0,
            -1.7688979099340374
           ],
           "y": [
            0,
            -1.4700340758740913
           ]
          },
          {
           "type": "scatter",
           "x": [
            -1.7688979099340374,
            -2.4443119320342954
           ],
           "y": [
            -1.4700340758740913,
            -1.6539250727998571
           ]
          }
         ]
        },
        {
         "data": [
          {
           "type": "scatter",
           "x": [
            0,
            -1.755229122310632
           ],
           "y": [
            0,
            -1.486327934270445
           ]
          },
          {
           "type": "scatter",
           "x": [
            -1.755229122310632,
            -2.4542182191738604
           ],
           "y": [
            -1.486327934270445,
            -1.4487215190420826
           ]
          }
         ]
        },
        {
         "data": [
          {
           "type": "scatter",
           "x": [
            0,
            -1.7653502293476637
           ],
           "y": [
            0,
            -1.474292565179025
           ]
          },
          {
           "type": "scatter",
           "x": [
            -1.7653502293476637,
            -2.4278328031975147
           ],
           "y": [
            -1.474292565179025,
            -1.2482022306990284
           ]
          }
         ]
        },
        {
         "data": [
          {
           "type": "scatter",
           "x": [
            0,
            -1.7933572072030302
           ],
           "y": [
            0,
            -1.4400937217323555
           ]
          },
          {
           "type": "scatter",
           "x": [
            -1.7933572072030302,
            -2.380153168929384
           ],
           "y": [
            -1.4400937217323555,
            -1.0584256731591968
           ]
          }
         ]
        },
        {
         "data": [
          {
           "type": "scatter",
           "x": [
            0,
            -1.8346216602961782
           ],
           "y": [
            0,
            -1.3871421569443032
           ]
          },
          {
           "type": "scatter",
           "x": [
            -1.8346216602961782,
            -2.3185807240434624
           ],
           "y": [
            -1.3871421569443032,
            -0.8813916012186055
           ]
          }
         ]
        },
        {
         "data": [
          {
           "type": "scatter",
           "x": [
            0,
            -1.8855007825899313
           ],
           "y": [
            0,
            -1.317151015963149
           ]
          },
          {
           "type": "scatter",
           "x": [
            -1.8855007825899313,
            -2.247540100403927
           ],
           "y": [
            -1.317151015963149,
            -0.7180454056098684
           ]
          }
         ]
        },
        {
         "data": [
          {
           "type": "scatter",
           "x": [
            0,
            -1.942838467971173
           ],
           "y": [
            0,
            -1.2310071841266503
           ]
          },
          {
           "type": "scatter",
           "x": [
            -1.942838467971173,
            -2.170197812298663
           ],
           "y": [
            -1.2310071841266503,
            -0.5689590525327505
           ]
          }
         ]
        },
        {
         "data": [
          {
           "type": "scatter",
           "x": [
            0,
            -2.0036913490057953
           ],
           "y": [
            0,
            -1.1292568254915865
           ]
          },
          {
           "type": "scatter",
           "x": [
            -2.0036913490057953,
            -2.089156188653287
           ],
           "y": [
            -1.1292568254915865,
            -0.43449372832534483
           ]
          }
         ]
        },
        {
         "data": [
          {
           "type": "scatter",
           "x": [
            0,
            -2.065205541041055
           ],
           "y": [
            0,
            -1.0123863260896615
           ]
          },
          {
           "type": "scatter",
           "x": [
            -2.065205541041055,
            -2.0067671108083576
           ],
           "y": [
            -1.0123863260896615,
            -0.3148299126921943
           ]
          }
         ]
        },
        {
         "data": [
          {
           "type": "scatter",
           "x": [
            0,
            -2.12458209013532
           ],
           "y": [
            0,
            -0.8809942918522428
           ]
          },
          {
           "type": "scatter",
           "x": [
            -2.12458209013532,
            -1.9252914612020153
           ],
           "y": [
            -0.8809942918522428,
            -0.2099628132915362
           ]
          }
         ]
        },
        {
         "data": [
          {
           "type": "scatter",
           "x": [
            0,
            -2.1790943580472137
           ],
           "y": [
            0,
            -0.7358992993112583
           ]
          },
          {
           "type": "scatter",
           "x": [
            -2.1790943580472137,
            -1.8469997048474225
           ],
           "y": [
            -0.7358992993112583,
            -0.11969061605849018
           ]
          }
         ]
        },
        {
         "data": [
          {
           "type": "scatter",
           "x": [
            0,
            -2.226133473396254
           ],
           "y": [
            0,
            -0.5782125548833471
           ]
          },
          {
           "type": "scatter",
           "x": [
            -2.226133473396254,
            -1.7742652691541274
           ],
           "y": [
            -0.5782125548833471,
            -0.04359575193473453
           ]
          }
         ]
        },
        {
         "data": [
          {
           "type": "scatter",
           "x": [
            0,
            -2.263267882601787
           ],
           "y": [
            0,
            -0.4094123735101605
           ]
          },
          {
           "type": "scatter",
           "x": [
            -2.263267882601787,
            -1.7096799675739276
           ],
           "y": [
            -0.4094123735101605,
            0.019003803046126033
           ]
          }
         ]
        },
        {
         "data": [
          {
           "type": "scatter",
           "x": [
            0,
            -2.288321768510447
           ],
           "y": [
            0,
            -0.23148106566459944
           ]
          },
          {
           "type": "scatter",
           "x": [
            -2.288321768510447,
            -1.6561821580218383
           ],
           "y": [
            -0.23148106566459944,
            0.06918405178554629
           ]
          }
         ]
        },
        {
         "data": [
          {
           "type": "scatter",
           "x": [
            0,
            -2.2995160932143923
           ],
           "y": [
            0,
            -0.0471777177067378
           ]
          },
          {
           "type": "scatter",
           "x": [
            -2.2995160932143923,
            -1.617089546718069
           ],
           "y": [
            -0.0471777177067378,
            0.10868763648431197
           ]
          }
         ]
        },
        {
         "data": [
          {
           "type": "scatter",
           "x": [
            0,
            -2.2957611216370606
           ],
           "y": [
            0,
            0.1395738957676008
           ]
          },
          {
           "type": "scatter",
           "x": [
            -2.2957611216370606,
            -1.5957615062361474
           ],
           "y": [
            0.1395738957676008,
            0.14030767950519166
           ]
          }
         ]
        },
        {
         "data": [
          {
           "type": "scatter",
           "x": [
            0,
            -2.277131974934576
           ],
           "y": [
            0,
            0.32352738482322846
           ]
          },
          {
           "type": "scatter",
           "x": [
            -2.277131974934576,
            -1.5946177463453108
           ],
           "y": [
            0.32352738482322846,
            0.168046428519248
           ]
          }
         ]
        },
        {
         "data": [
          {
           "type": "scatter",
           "x": [
            0,
            -2.245265568252865
           ],
           "y": [
            0,
            0.49878104215992125
           ]
          },
          {
           "type": "scatter",
           "x": [
            -2.245265568252865,
            -1.6138926651991836
           ],
           "y": [
            0.49878104215992125,
            0.19650921533914972
           ]
          }
         ]
        },
        {
         "data": [
          {
           "type": "scatter",
           "x": [
            0,
            -2.2032095600140864
           ],
           "y": [
            0,
            0.6602027223986084
           ]
          },
          {
           "type": "scatter",
           "x": [
            -2.2032095600140864,
            -1.6512840319062692
           ],
           "y": [
            0.6602027223986084,
            0.22964702167812462
           ]
          }
         ]
        },
        {
         "data": [
          {
           "type": "scatter",
           "x": [
            0,
            -2.1546989508131067
           ],
           "y": [
            0,
            0.8045324302754339
           ]
          },
          {
           "type": "scatter",
           "x": [
            -2.1546989508131067,
            -1.7029129509575947
           ],
           "y": [
            0.8045324302754339,
            0.26984615746252993
           ]
          }
         ]
        },
        {
         "data": [
          {
           "type": "scatter",
           "x": [
            0,
            -2.1033783415117213
           ],
           "y": [
            0,
            0.9304835046680839
           ]
          },
          {
           "type": "scatter",
           "x": [
            -2.1033783415117213,
            -1.76462561897352
           ],
           "y": [
            0.9304835046680839,
            0.31790975974184543
           ]
          }
         ]
        },
        {
         "data": [
          {
           "type": "scatter",
           "x": [
            0,
            -2.0523427699101675
           ],
           "y": [
            0,
            1.0382144069494796
           ]
          },
          {
           "type": "scatter",
           "x": [
            -2.0523427699101675,
            -1.8327826704238879
           ],
           "y": [
            1.0382144069494796,
            0.373539025493558
           ]
          }
         ]
        },
        {
         "data": [
          {
           "type": "scatter",
           "x": [
            0,
            -2.003991309287438
           ],
           "y": [
            0,
            1.1287244270859116
           ]
          },
          {
           "type": "scatter",
           "x": [
            -2.003991309287438,
            -1.9045027788393103
           ],
           "y": [
            1.1287244270859116,
            0.43583047249453843
           ]
          }
         ]
        },
        {
         "data": [
          {
           "type": "scatter",
           "x": [
            0,
            -1.9600576086787385
           ],
           "y": [
            0,
            1.2034010847014323
           ]
          },
          {
           "type": "scatter",
           "x": [
            -1.9600576086787385,
            -1.9776250971893816
           ],
           "y": [
            1.2034010847014323,
            0.5036215598884892
           ]
          }
         ]
        },
        {
         "data": [
          {
           "type": "scatter",
           "x": [
            0,
            -1.9217132543302318
           ],
           "y": [
            0,
            1.2637318418602537
           ]
          },
          {
           "type": "scatter",
           "x": [
            -1.9217132543302318,
            -2.050578800443433
           ],
           "y": [
            1.2637318418602537,
            0.5756957446786113
           ]
          }
         ]
        },
        {
         "data": [
          {
           "type": "scatter",
           "x": [
            0,
            -1.8896889248009123
           ],
           "y": [
            0,
            1.311135297169888
           ]
          },
          {
           "type": "scatter",
           "x": [
            -1.8896889248009123,
            -2.1222417609942585
           ],
           "y": [
            1.311135297169888,
            0.6508935396458498
           ]
          }
         ]
        },
        {
         "data": [
          {
           "type": "scatter",
           "x": [
            0,
            -1.8643886437044248
           ],
           "y": [
            0,
            1.3468685849874051
           ]
          },
          {
           "type": "scatter",
           "x": [
            -1.8643886437044248,
            -2.1918149017963238
           ],
           "y": [
            1.3468685849874051,
            0.7281666813925178
           ]
          }
         ]
        },
        {
         "data": [
          {
           "type": "scatter",
           "x": [
            0,
            -1.8459880398818542
           ],
           "y": [
            0,
            1.3719796487605596
           ]
          },
          {
           "type": "scatter",
           "x": [
            -1.8459880398818542,
            -2.2587165432911536
           ],
           "y": [
            1.3719796487605596,
            0.80659908447353
           ]
          }
         ]
        },
        {
         "data": [
          {
           "type": "scatter",
           "x": [
            0,
            -1.8345151618488893
           ],
           "y": [
            0,
            1.3872829995882392
           ]
          },
          {
           "type": "scatter",
           "x": [
            -1.8345151618488893,
            -2.3224927670228297
           ],
           "y": [
            1.3872829995882392,
            0.8854086559037808
           ]
          }
         ]
        },
        {
         "data": [
          {
           "type": "scatter",
           "x": [
            0,
            -1.82991592671089
           ],
           "y": [
            0,
            1.3933440713513028
           ]
          },
          {
           "type": "scatter",
           "x": [
            -1.82991592671089,
            -2.382736094119032
           ],
           "y": [
            1.3933440713513028,
            0.9639376641950594
           ]
          }
         ]
        },
        {
         "data": [
          {
           "type": "scatter",
           "x": [
            0,
            -1.8321075975928718
           ],
           "y": [
            0,
            1.3904609850126952
           ]
          },
          {
           "type": "scatter",
           "x": [
            -1.8321075975928718,
            -2.4390013812251787
           ],
           "y": [
            1.3904609850126952,
            1.0416344731354266
           ]
          }
         ]
        },
        {
         "data": [
          {
           "type": "scatter",
           "x": [
            0,
            -1.8410233729564565
           ],
           "y": [
            0,
            1.3786344476430406
           ]
          },
          {
           "type": "scatter",
           "x": [
            -1.8410233729564565,
            -2.4907019082556285
           ],
           "y": [
            1.3786344476430406,
            1.1180240089197946
           ]
          }
         ]
        },
        {
         "data": [
          {
           "type": "scatter",
           "x": [
            0,
            -1.856648089063576
           ],
           "y": [
            0,
            1.3575190140018558
           ]
          },
          {
           "type": "scatter",
           "x": [
            -1.856648089063576,
            -2.536956654153058
           ],
           "y": [
            1.3575190140018558,
            1.192654656829391
           ]
          }
         ]
        },
        {
         "data": [
          {
           "type": "scatter",
           "x": [
            0,
            -1.8790331884950149
           ],
           "y": [
            0,
            1.326361291856128
           ]
          },
          {
           "type": "scatter",
           "x": [
            -1.8790331884950149,
            -2.5763373887912744
           ],
           "y": [
            1.326361291856128,
            1.2649866044907798
           ]
          }
         ]
        },
        {
         "data": [
          {
           "type": "scatter",
           "x": [
            0,
            -1.908237065982378
           ],
           "y": [
            0,
            1.2839903815881821
           ]
          },
          {
           "type": "scatter",
           "x": [
            -1.908237065982378,
            -2.606438990930724
           ],
           "y": [
            1.2839903815881821,
            1.3341309041066434
           ]
          }
         ]
        },
        {
         "data": [
          {
           "type": "scatter",
           "x": [
            0,
            -1.9440080238968294
           ],
           "y": [
            0,
            1.2291593887794796
           ]
          },
          {
           "type": "scatter",
           "x": [
            -1.9440080238968294,
            -2.62327942595443
           ],
           "y": [
            1.2291593887794796,
            1.3982462373121236
           ]
          }
         ]
        },
        {
         "data": [
          {
           "type": "scatter",
           "x": [
            0,
            -1.9848401657206391
           ],
           "y": [
            0,
            1.1620712183605892
           ]
          },
          {
           "type": "scatter",
           "x": [
            -1.9848401657206391,
            -2.6212831382115027
           ],
           "y": [
            1.1620712183605892,
            1.453516483834218
           ]
          }
         ]
        },
        {
         "data": [
          {
           "type": "scatter",
           "x": [
            0,
            -2.026834606403524
           ],
           "y": [
            0,
            1.087171319657151
           ]
          },
          {
           "type": "scatter",
           "x": [
            -2.026834606403524,
            -2.5963266825149827
           ],
           "y": [
            1.087171319657151,
            1.4942078969401515
           ]
          }
         ]
        },
        {
         "data": [
          {
           "type": "scatter",
           "x": [
            0,
            -2.0652901239332246
           ],
           "y": [
            0,
            1.0122137639767033
           ]
          },
          {
           "type": "scatter",
           "x": [
            -2.0652901239332246,
            -2.550814176261934
           ],
           "y": [
            1.0122137639767033,
            1.5164621101418732
           ]
          }
         ]
        },
        {
         "data": [
          {
           "type": "scatter",
           "x": [
            0,
            -2.0981180123593357
           ],
           "y": [
            0,
            0.9422848859094103
           ]
          },
          {
           "type": "scatter",
           "x": [
            -2.0981180123593357,
            -2.491793438647414
           ],
           "y": [
            0.9422848859094103,
            1.5210937133618774
           ]
          }
         ]
        },
        {
         "data": [
          {
           "type": "scatter",
           "x": [
            0,
            -2.1256735833548026
           ],
           "y": [
            0,
            0.8783574540171855
           ]
          },
          {
           "type": "scatter",
           "x": [
            -2.1256735833548026,
            -2.4252484058330244
           ],
           "y": [
            0.8783574540171855,
            1.5110144904414569
           ]
          }
         ]
        },
        {
         "data": [
          {
           "type": "scatter",
           "x": [
            0,
            -2.1489763060981018
           ],
           "y": [
            0,
            0.8196955750941671
           ]
          },
          {
           "type": "scatter",
           "x": [
            -2.1489763060981018,
            -2.35471064913237
           ],
           "y": [
            0.8196955750941671,
            1.4887795609257353
           ]
          }
         ]
        },
        {
         "data": [
          {
           "type": "scatter",
           "x": [
            0,
            -2.1689282661963314
           ],
           "y": [
            0,
            0.7653431753759712
           ]
          },
          {
           "type": "scatter",
           "x": [
            -2.1689282661963314,
            -2.2821282534483864
           ],
           "y": [
            0.7653431753759712,
            1.4561295120142508
           ]
          }
         ]
        },
        {
         "data": [
          {
           "type": "scatter",
           "x": [
            0,
            -2.186190817502826
           ],
           "y": [
            0,
            0.7145416079321931
           ]
          },
          {
           "type": "scatter",
           "x": [
            -2.186190817502826,
            -2.2086392339885332
           ],
           "y": [
            0.7145416079321931,
            1.4141815643364026
           ]
          }
         ]
        },
        {
         "data": [
          {
           "type": "scatter",
           "x": [
            0,
            -2.2012269996499323
           ],
           "y": [
            0,
            0.6667830951757517
           ]
          },
          {
           "type": "scatter",
           "x": [
            -2.2012269996499323,
            -2.1349866961169677
           ],
           "y": [
            0.6667830951757517,
            1.3636419203246197
           ]
          }
         ]
        },
        {
         "data": [
          {
           "type": "scatter",
           "x": [
            0,
            -2.2143580836721495
           ],
           "y": [
            0,
            0.6217863598341522
           ]
          },
          {
           "type": "scatter",
           "x": [
            -2.2143580836721495,
            -2.0617304975694024
           ],
           "y": [
            0.6217863598341522,
            1.3049443356790138
           ]
          }
         ]
        },
        {
         "data": [
          {
           "type": "scatter",
           "x": [
            0,
            -2.225806226662844
           ],
           "y": [
            0,
            0.5794710013011097
           ]
          },
          {
           "type": "scatter",
           "x": [
            -2.225806226662844,
            -1.989365900574211
           ],
           "y": [
            0.5794710013011097,
            1.2383306010635333
           ]
          }
         ]
        },
        {
         "data": [
          {
           "type": "scatter",
           "x": [
            0,
            -2.235722898169689
           ],
           "y": [
            0,
            0.5399473331721586
           ]
          },
          {
           "type": "scatter",
           "x": [
            -2.235722898169689,
            -1.9184057393835214
           ],
           "y": [
            0.5399473331721586,
            1.1638943026654593
           ]
          }
         ]
        },
        {
         "data": [
          {
           "type": "scatter",
           "x": [
            0,
            -2.244206568649058
           ],
           "y": [
            0,
            0.5035244554462271
           ]
          },
          {
           "type": "scatter",
           "x": [
            -2.244206568649058,
            -1.8494578780654056
           ],
           "y": [
            0.5035244554462271,
            1.0816018475681572
           ]
          }
         ]
        },
        {
         "data": [
          {
           "type": "scatter",
           "x": [
            0,
            -2.2513123346623893
           ],
           "y": [
            0,
            0.470736414352003
           ]
          },
          {
           "type": "scatter",
           "x": [
            -2.2513123346623893,
            -1.783323443682173
           ],
           "y": [
            0.470736414352003,
            0.9912999531434814
           ]
          }
         ]
        },
        {
         "data": [
          {
           "type": "scatter",
           "x": [
            0,
            -2.257055047841437
           ],
           "y": [
            0,
            0.4423827652762796
           ]
          },
          {
           "type": "scatter",
           "x": [
            -2.257055047841437,
            -1.7211475056743293
           ],
           "y": [
            0.4423827652762796,
            0.8927194240643577
           ]
          }
         ]
        },
        {
         "data": [
          {
           "type": "scatter",
           "x": [
            0,
            -2.261407854962021
           ],
           "y": [
            0,
            0.419564671434657
           ]
          },
          {
           "type": "scatter",
           "x": [
            -2.261407854962021,
            -1.6646716450443209
           ],
           "y": [
            0.419564671434657,
            0.7854962166354756
           ]
          }
         ]
        },
        {
         "data": [
          {
           "type": "scatter",
           "x": [
            0,
            -2.26430400435452
           ],
           "y": [
            0,
            0.4036426338533685
           ]
          },
          {
           "type": "scatter",
           "x": [
            -2.26430400435452,
            -1.6166599272747135
           ],
           "y": [
            0.4036426338533685,
            0.6692685915898925
           ]
          }
         ]
        },
        {
         "data": [
          {
           "type": "scatter",
           "x": [
            0,
            -2.2656747787464164
           ],
           "y": [
            0,
            0.39587598683473585
           ]
          },
          {
           "type": "scatter",
           "x": [
            -2.2656747787464164,
            -1.5815278139745135
           ],
           "y": [
            0.39587598683473585,
            0.5440074507220287
           ]
          }
         ]
        },
        {
         "data": [
          {
           "type": "scatter",
           "x": [
            0,
            -2.2656215019798496
           ],
           "y": [
            0,
            0.3961807791483192
           ]
          },
          {
           "type": "scatter",
           "x": [
            -2.2656215019798496,
            -1.5657756883154925
           ],
           "y": [
            0.3961807791483192,
            0.4108721744691938
           ]
          }
         ]
        },
        {
         "data": [
          {
           "type": "scatter",
           "x": [
            0,
            -2.264824458031062
           ],
           "y": [
            0,
            0.4007120840507642
           ]
          },
          {
           "type": "scatter",
           "x": [
            -2.264824458031062,
            -1.5764837145989787
           ],
           "y": [
            0.4007120840507642,
            0.2734838602505114
           ]
          }
         ]
        },
        {
         "data": [
          {
           "type": "scatter",
           "x": [
            0,
            -2.264759196002149
           ],
           "y": [
            0,
            0.4010807700746816
           ]
          },
          {
           "type": "scatter",
           "x": [
            -2.264759196002149,
            -1.6162646124978814
           ],
           "y": [
            0.4010807700746816,
            0.13753803129095643
           ]
          }
         ]
        },
        {
         "data": [
          {
           "type": "scatter",
           "x": [
            0,
            -2.2668490579107203
           ],
           "y": [
            0,
            0.38909555208107643
           ]
          },
          {
           "type": "scatter",
           "x": [
            -2.2668490579107203,
            -1.6801834764476962
           ],
           "y": [
            0.38909555208107643,
            0.007227125097839571
           ]
          }
         ]
        },
        {
         "data": [
          {
           "type": "scatter",
           "x": [
            0,
            -2.2714498393744766
           ],
           "y": [
            0,
            0.3612694661961657
           ]
          },
          {
           "type": "scatter",
           "x": [
            -2.2714498393744766,
            -1.7601612931928314
           ],
           "y": [
            0.3612694661961657,
            -0.11683514844738674
           ]
          }
         ]
        },
        {
         "data": [
          {
           "type": "scatter",
           "x": [
            0,
            -2.277946661642448
           ],
           "y": [
            0,
            0.317740470686416
           ]
          },
          {
           "type": "scatter",
           "x": [
            -2.277946661642448,
            -1.8497629919741696
           ],
           "y": [
            0.317740470686416,
            -0.23602730106398717
           ]
          }
         ]
        },
        {
         "data": [
          {
           "type": "scatter",
           "x": [
            0,
            -2.285282463524584
           ],
           "y": [
            0,
            0.25977694645023264
           ]
          },
          {
           "type": "scatter",
           "x": [
            -2.285282463524584,
            -1.945022374361209
           ],
           "y": [
            0.25977694645023264,
            -0.35196080105480065
           ]
          }
         ]
        },
        {
         "data": [
          {
           "type": "scatter",
           "x": [
            0,
            -2.292259495071059
           ],
           "y": [
            0,
            0.1885375486649095
           ]
          },
          {
           "type": "scatter",
           "x": [
            -2.292259495071059,
            -2.0436600558442946
           ],
           "y": [
            0.1885375486649095,
            -0.4658310927109882
           ]
          }
         ]
        },
        {
         "data": [
          {
           "type": "scatter",
           "x": [
            0,
            -2.2976158584676987
           ],
           "y": [
            0,
            0.10469654682814805
           ]
          },
          {
           "type": "scatter",
           "x": [
            -2.2976158584676987,
            -2.1443343965288606
           ],
           "y": [
            0.10469654682814805,
            -0.5783150148791867
           ]
          }
         ]
        },
        {
         "data": [
          {
           "type": "scatter",
           "x": [
            0,
            -2.2999848609368354
           ],
           "y": [
            0,
            0.008345026145293654
           ]
          },
          {
           "type": "scatter",
           "x": [
            -2.2999848609368354,
            -2.246162766432246
           ],
           "y": [
            0.008345026145293654,
            -0.6895827510230456
           ]
          }
         ]
        },
        {
         "data": [
          {
           "type": "scatter",
           "x": [
            0,
            -2.2977771191071974
           ],
           "y": [
            0,
            -0.10109555335141254
           ]
          },
          {
           "type": "scatter",
           "x": [
            -2.2977771191071974,
            -2.348398160199703
           ],
           "y": [
            -0.10109555335141254,
            -0.7992628042295318
           ]
          }
         ]
        },
        {
         "data": [
          {
           "type": "scatter",
           "x": [
            0,
            -2.2889609930369867
           ],
           "y": [
            0,
            -0.22507237137225658
           ]
          },
          {
           "type": "scatter",
           "x": [
            -2.2889609930369867,
            -2.4501076748336015
           ],
           "y": [
            -0.22507237137225658,
            -0.9062711286714318
           ]
          }
         ]
        },
        {
         "data": [
          {
           "type": "scatter",
           "x": [
            0,
            -2.270637682891182
           ],
           "y": [
            0,
            -0.3663393413688517
           ]
          },
          {
           "type": "scatter",
           "x": [
            -2.270637682891182,
            -2.5496060222276387
           ],
           "y": [
            -0.3663393413688517,
            -1.0083492055048007
           ]
          }
         ]
        },
        {
         "data": [
          {
           "type": "scatter",
           "x": [
            0,
            -2.2381513222352956
           ],
           "y": [
            0,
            -0.529791146374114
           ]
          },
          {
           "type": "scatter",
           "x": [
            -2.2381513222352956,
            -2.642925764567007
           ],
           "y": [
            -0.529791146374114,
            -1.1008932833295382
           ]
          }
         ]
        },
        {
         "data": [
          {
           "type": "scatter",
           "x": [
            0,
            -2.183425204926567
           ],
           "y": [
            0,
            -0.7229483899223914
           ]
          },
          {
           "type": "scatter",
           "x": [
            -2.183425204926567,
            -2.7186061963992265
           ],
           "y": [
            -0.7229483899223914,
            -1.1741482418354223
           ]
          }
         ]
        },
        {
         "data": [
          {
           "type": "scatter",
           "x": [
            0,
            -2.096782796239019
           ],
           "y": [
            0,
            -0.9452522972180923
           ]
          },
          {
           "type": "scatter",
           "x": [
            -2.096782796239019,
            -2.743916804301338
           ],
           "y": [
            -0.9452522972180923,
            -1.2121185101585814
           ]
          }
         ]
        },
        {
         "data": [
          {
           "type": "scatter",
           "x": [
            0,
            -1.987847731777715
           ],
           "y": [
            0,
            -1.1569189233763069
           ]
          },
          {
           "type": "scatter",
           "x": [
            -1.987847731777715,
            -2.685096484288404
           ],
           "y": [
            -1.1569189233763069,
            -1.218920351765398
           ]
          }
         ]
        },
        {
         "data": [
          {
           "type": "scatter",
           "x": [
            0,
            -1.8768069153918803
           ],
           "y": [
            0,
            -1.3295096097197698
           ]
          },
          {
           "type": "scatter",
           "x": [
            -1.8768069153918803,
            -2.5685283020009835
           ],
           "y": [
            -1.3295096097197698,
            -1.2221712507441485
           ]
          }
         ]
        },
        {
         "data": [
          {
           "type": "scatter",
           "x": [
            0,
            -1.7676529674911077
           ],
           "y": [
            0,
            -1.4715308309783661
           ]
          },
          {
           "type": "scatter",
           "x": [
            -1.7676529674911077,
            -2.425610816787265
           ],
           "y": [
            -1.4715308309783661,
            -1.2325926202426731
           ]
          }
         ]
        },
        {
         "data": [
          {
           "type": "scatter",
           "x": [
            0,
            -1.6589706464462477
           ],
           "y": [
            0,
            -1.5930525396953228
           ]
          },
          {
           "type": "scatter",
           "x": [
            -1.6589706464462477,
            -2.269874709741448
           ],
           "y": [
            -1.5930525396953228,
            -1.2512979121488712
           ]
          }
         ]
        },
        {
         "data": [
          {
           "type": "scatter",
           "x": [
            0,
            -1.5490667715497197
           ],
           "y": [
            0,
            -1.7001153305821717
           ]
          },
          {
           "type": "scatter",
           "x": [
            -1.5490667715497197,
            -2.1072195858558547
           ],
           "y": [
            -1.7001153305821717,
            -1.2776636340745813
           ]
          }
         ]
        },
        {
         "data": [
          {
           "type": "scatter",
           "x": [
            0,
            -1.4364212392211362
           ],
           "y": [
            0,
            -1.7963000928337152
           ]
          },
          {
           "type": "scatter",
           "x": [
            -1.4364212392211362,
            -1.9406961859553906
           ],
           "y": [
            -1.7963000928337152,
            -1.3108036684430047
           ]
          }
         ]
        },
        {
         "data": [
          {
           "type": "scatter",
           "x": [
            0,
            -1.3195888410989713
           ],
           "y": [
            0,
            -1.8837954481437396
           ]
          },
          {
           "type": "scatter",
           "x": [
            -1.3195888410989713,
            -1.7721476431304173
           ],
           "y": [
            -1.8837954481437396,
            -1.349763117002766
           ]
          }
         ]
        },
        {
         "data": [
          {
           "type": "scatter",
           "x": [
            0,
            -1.1971026019443045
           ],
           "y": [
            0,
            -1.9639107312752724
           ]
          },
          {
           "type": "scatter",
           "x": [
            -1.1971026019443045,
            -1.6028433219145302
           ],
           "y": [
            -1.9639107312752724,
            -1.3934946829753994
           ]
          }
         ]
        },
        {
         "data": [
          {
           "type": "scatter",
           "x": [
            0,
            -1.067433456218353
           ],
           "y": [
            0,
            -2.037298656688739
           ]
          },
          {
           "type": "scatter",
           "x": [
            -1.067433456218353,
            -1.433758820038702
           ],
           "y": [
            -2.037298656688739,
            -1.4408041237532823
           ]
          }
         ]
        },
        {
         "data": [
          {
           "type": "scatter",
           "x": [
            0,
            -0.9290212877921886
           ],
           "y": [
            0,
            -2.104024583228281
           ]
          },
          {
           "type": "scatter",
           "x": [
            -0.9290212877921886,
            -1.2657138597482605
           ],
           "y": [
            -2.104024583228281,
            -1.4903160921760508
           ]
          }
         ]
        },
        {
         "data": [
          {
           "type": "scatter",
           "x": [
            0,
            -0.7803932532866953
           ],
           "y": [
            0,
            -2.163558728166307
           ]
          },
          {
           "type": "scatter",
           "x": [
            -0.7803932532866953,
            -1.0994464863043618
           ],
           "y": [
            -2.163558728166307,
            -1.5404977082806344
           ]
          }
         ]
        },
        {
         "data": [
          {
           "type": "scatter",
           "x": [
            0,
            -0.6203723695093525
           ],
           "y": [
            0,
            -2.2147546417491375
           ]
          },
          {
           "type": "scatter",
           "x": [
            -0.6203723695093525,
            -0.9356544565954756
           ],
           "y": [
            -2.2147546417491375,
            -1.5897768776945929
           ]
          }
         ]
        },
        {
         "data": [
          {
           "type": "scatter",
           "x": [
            0,
            -0.44834663702870897
           ],
           "y": [
            0,
            -2.2558779428561833
           ]
          },
          {
           "type": "scatter",
           "x": [
            -0.44834663702870897,
            -0.7750091507466479
           ],
           "y": [
            -2.2558779428561833,
            -1.6367724573922944
           ]
          }
         ]
        },
        {
         "data": [
          {
           "type": "scatter",
           "x": [
            0,
            -0.2645370903696956
           ],
           "y": [
            0,
            -2.284736336608392
           ]
          },
          {
           "type": "scatter",
           "x": [
            -0.2645370903696956,
            -0.6181250156386846
           ],
           "y": [
            -2.284736336608392,
            -1.6806042491440927
           ]
          }
         ]
        },
        {
         "data": [
          {
           "type": "scatter",
           "x": [
            0,
            -0.0702040258887806
           ],
           "y": [
            0,
            -2.2989283143997783
           ]
          },
          {
           "type": "scatter",
           "x": [
            -0.0702040258887806,
            -0.46545252639165585
           ],
           "y": [
            -2.2989283143997783,
            -1.7211925418789584
           ]
          }
         ]
        },
        {
         "data": [
          {
           "type": "scatter",
           "x": [
            0,
            0.13223515059719115
           ],
           "y": [
            0,
            -2.2961955197557846
           ]
          },
          {
           "type": "scatter",
           "x": [
            0.13223515059719115,
            -0.31707257557678065
           ],
           "y": [
            -2.2961955197557846,
            -1.7594250220564653
           ]
          }
         ]
        },
        {
         "data": [
          {
           "type": "scatter",
           "x": [
            0,
            0.33918095379508434
           ],
           "y": [
            0,
            -2.2748530239518017
           ]
          },
          {
           "type": "scatter",
           "x": [
            0.33918095379508434,
            -0.1724183627919506
           ],
           "y": [
            -2.2748530239518017,
            -1.797080966096093
           ]
          }
         ]
        },
        {
         "data": [
          {
           "type": "scatter",
           "x": [
            0,
            0.5459510925761567
           ],
           "y": [
            0,
            -2.234264398972266
           ]
          },
          {
           "type": "scatter",
           "x": [
            0.5459510925761567,
            -0.030026675996691732
           ],
           "y": [
            -2.234264398972266,
            -1.8364584034042728
           ]
          }
         ]
        },
        {
         "data": [
          {
           "type": "scatter",
           "x": [
            0,
            0.7470784105012964
           ],
           "y": [
            0,
            -2.175287072678651
           ]
          },
          {
           "type": "scatter",
           "x": [
            0.7470784105012964,
            0.11252312769775485
           ],
           "y": [
            -2.175287072678651,
            -1.8797543451066996
           ]
          }
         ]
        },
        {
         "data": [
          {
           "type": "scatter",
           "x": [
            0,
            0.9368565842984646
           ],
           "y": [
            0,
            -2.100547485884719
           ]
          },
          {
           "type": "scatter",
           "x": [
            0.9368565842984646,
            0.2583586066663749
           ],
           "y": [
            -2.100547485884719,
            -1.9283833364541123
           ]
          }
         ]
        },
        {
         "data": [
          {
           "type": "scatter",
           "x": [
            0,
            1.1100519186770386
           ],
           "y": [
            0,
            -2.0143943848813284
           ]
          },
          {
           "type": "scatter",
           "x": [
            1.1100519186770386,
            0.41077915079067817
           ],
           "y": [
            -2.0143943848813284,
            -1.9824946028672097
           ]
          }
         ]
        },
        {
         "data": [
          {
           "type": "scatter",
           "x": [
            0,
            1.26255335042264
           ],
           "y": [
            0,
            -1.922487720984601
           ]
          },
          {
           "type": "scatter",
           "x": [
            1.26255335042264,
            0.5726350520635332
           ],
           "y": [
            -1.922487720984601,
            -2.040863147443281
           ]
          }
         ]
        },
        {
         "data": [
          {
           "type": "scatter",
           "x": [
            0,
            1.3917122099232655
           ],
           "y": [
            0,
            -1.8311573184056307
           ]
          },
          {
           "type": "scatter",
           "x": [
            1.3917122099232655,
            0.7458639334239153
           ],
           "y": [
            -1.8311573184056307,
            -2.101120285760079
           ]
          }
         ]
        },
        {
         "data": [
          {
           "type": "scatter",
           "x": [
            0,
            1.496250895505501
           ],
           "y": [
            0,
            -1.746777964624865
           ]
          },
          {
           "type": "scatter",
           "x": [
            1.496250895505501,
            0.9313117385499208
           ],
           "y": [
            -1.746777964624865,
            -2.160110456619286
           ]
          }
         ]
        },
        {
         "data": [
          {
           "type": "scatter",
           "x": [
            0,
            1.575771683365255
           ],
           "y": [
            0,
            -1.6753935662715882
           ]
          },
          {
           "type": "scatter",
           "x": [
            1.575771683365255,
            1.1287941768044703
           ],
           "y": [
            -1.6753935662715882,
            -2.2141060207672156
           ]
          }
         ]
        },
        {
         "data": [
          {
           "type": "scatter",
           "x": [
            0,
            1.6299373115411908
           ],
           "y": [
            0,
            -1.6227459321920585
           ]
          },
          {
           "type": "scatter",
           "x": [
            1.6299373115411908,
            1.3372183481416648
           ],
           "y": [
            -1.6227459321920585,
            -2.258604099133639
           ]
          }
         ]
        },
        {
         "data": [
          {
           "type": "scatter",
           "x": [
            0,
            1.6572593441633108
           ],
           "y": [
            0,
            -1.5948327392499164
           ]
          },
          {
           "type": "scatter",
           "x": [
            1.6572593441633108,
            1.5544013060338124
           ],
           "y": [
            -1.5948327392499164,
            -2.287234518560275
           ]
          }
         ]
        },
        {
         "data": [
          {
           "type": "scatter",
           "x": [
            0,
            1.6531691617281756
           ],
           "y": [
            0,
            -1.599072144310869
           ]
          },
          {
           "type": "scatter",
           "x": [
            1.6531691617281756,
            1.775364895721497
           ],
           "y": [
            -1.599072144310869,
            -2.2883240595014134
           ]
          }
         ]
        },
        {
         "data": [
          {
           "type": "scatter",
           "x": [
            0,
            1.609105128821156
           ],
           "y": [
            0,
            -1.643405210044513
           ]
          },
          {
           "type": "scatter",
           "x": [
            1.609105128821156,
            1.9829912543961628
           ],
           "y": [
            -1.643405210044513,
            -2.2351899387275957
           ]
          }
         ]
        },
        {
         "data": [
          {
           "type": "scatter",
           "x": [
            0,
            1.5375336846657262
           ],
           "y": [
            0,
            -1.7105525915674837
           ]
          },
          {
           "type": "scatter",
           "x": [
            1.5375336846657262,
            2.1254649967270365
           ],
           "y": [
            -1.7105525915674837,
            -2.0904693881136036
           ]
          }
         ]
        },
        {
         "data": [
          {
           "type": "scatter",
           "x": [
            0,
            1.4914654838813473
           ],
           "y": [
            0,
            -1.7508657031281918
           ]
          },
          {
           "type": "scatter",
           "x": [
            1.4914654838813473,
            2.178250551847633
           ],
           "y": [
            -1.7508657031281918,
            -1.886240259151633
           ]
          }
         ]
        },
        {
         "data": [
          {
           "type": "scatter",
           "x": [
            0,
            1.4831308887114616
           ],
           "y": [
            0,
            -1.7579313885786183
           ]
          },
          {
           "type": "scatter",
           "x": [
            1.4831308887114616,
            2.177934678168289
           ],
           "y": [
            -1.7579313885786183,
            -1.6727979982054377
           ]
          }
         ]
        },
        {
         "data": [
          {
           "type": "scatter",
           "x": [
            0,
            1.5038926540809034
           ],
           "y": [
            0,
            -1.7402031160187867
           ]
          },
          {
           "type": "scatter",
           "x": [
            1.5038926540809034,
            2.148004979681187
           ],
           "y": [
            -1.7402031160187867,
            -1.4661240909004933
           ]
          }
         ]
        },
        {
         "data": [
          {
           "type": "scatter",
           "x": [
            0,
            1.5470223309051887
           ],
           "y": [
            0,
            -1.7019758834016057
           ]
          },
          {
           "type": "scatter",
           "x": [
            1.5470223309051887,
            2.098824596803026
           ],
           "y": [
            -1.7019758834016057,
            -1.271262220569775
           ]
          }
         ]
        },
        {
         "data": [
          {
           "type": "scatter",
           "x": [
            0,
            1.6078634627903892
           ],
           "y": [
            0,
            -1.6446200427526407
           ]
          },
          {
           "type": "scatter",
           "x": [
            1.6078634627903892,
            2.03601084107001
           ],
           "y": [
            -1.6446200427526407,
            -1.0908242117171523
           ]
          }
         ]
        },
        {
         "data": [
          {
           "type": "scatter",
           "x": [
            0,
            1.6826556314810546
           ],
           "y": [
            0,
            -1.56801467654008
           ]
          },
          {
           "type": "scatter",
           "x": [
            1.6826556314810546,
            1.963483291767016
           ],
           "y": [
            -1.56801467654008,
            -0.9268159357285337
           ]
          }
         ]
        },
        {
         "data": [
          {
           "type": "scatter",
           "x": [
            0,
            1.7678575587257759
           ],
           "y": [
            0,
            -1.4712850342663517
           ]
          },
          {
           "type": "scatter",
           "x": [
            1.7678575587257759,
            1.8846747697287882
           ],
           "y": [
            -1.4712850342663517,
            -0.7811011897629632
           ]
          }
         ]
        },
        {
         "data": [
          {
           "type": "scatter",
           "x": [
            0,
            1.8597690030417604
           ],
           "y": [
            0,
            -1.3532402799669598
           ]
          },
          {
           "type": "scatter",
           "x": [
            1.8597690030417604,
            1.803175091940229
           ],
           "y": [
            -1.3532402799669598,
            -0.6555317955508451
           ]
          }
         ]
        },
        {
         "data": [
          {
           "type": "scatter",
           "x": [
            0,
            1.954299489093659
           ],
           "y": [
            0,
            -1.2127297748996941
           ]
          },
          {
           "type": "scatter",
           "x": [
            1.954299489093659,
            1.7232466780893003
           ],
           "y": [
            -1.2127297748996941,
            -0.5519615867073568
           ]
          }
         ]
        },
        {
         "data": [
          {
           "type": "scatter",
           "x": [
            0,
            2.0467980547671383
           ],
           "y": [
            0,
            -1.0491032947243362
           ]
          },
          {
           "type": "scatter",
           "x": [
            2.0467980547671383,
            1.6504358243043815
           ],
           "y": [
            -1.0491032947243362,
            -0.47213104039784903
           ]
          }
         ]
        },
        {
         "data": [
          {
           "type": "scatter",
           "x": [
            0,
            2.1319072566799155
           ],
           "y": [
            0,
            -0.8631172857239714
           ]
          },
          {
           "type": "scatter",
           "x": [
            2.1319072566799155,
            1.5923465215356591
           ],
           "y": [
            -0.8631172857239714,
            -0.41716413449551626
           ]
          }
         ]
        },
        {
         "data": [
          {
           "type": "scatter",
           "x": [
            0,
            2.2036231164171367
           ],
           "y": [
            0,
            -0.6588210385165504
           ]
          },
          {
           "type": "scatter",
           "x": [
            2.2036231164171367,
            1.5589460389099443
           ],
           "y": [
            -0.6588210385165504,
            -0.38607304908897405
           ]
          }
         ]
        },
        {
         "data": [
          {
           "type": "scatter",
           "x": [
            0,
            2.256365495696667
           ],
           "y": [
            0,
            -0.445886476392292
           ]
          },
          {
           "type": "scatter",
           "x": [
            2.256365495696667,
            1.5601398485950302
           ],
           "y": [
            -0.445886476392292,
            -0.3732927554661205
           ]
          }
         ]
        },
        {
         "data": [
          {
           "type": "scatter",
           "x": [
            0,
            2.2876044329853804
           ],
           "y": [
            0,
            -0.23846584280696403
           ]
          },
          {
           "type": "scatter",
           "x": [
            2.2876044329853804,
            1.5997993205046874
           ],
           "y": [
            -0.23846584280696403,
            -0.36855860680796915
           ]
          }
         ]
        },
        {
         "data": [
          {
           "type": "scatter",
           "x": [
            0,
            2.2994773659222023
           ],
           "y": [
            0,
            -0.04902900785748801
           ]
          },
          {
           "type": "scatter",
           "x": [
            2.2994773659222023,
            1.6731944483750976
           ],
           "y": [
            -0.04902900785748801,
            -0.36171048666409433
           ]
          }
         ]
        },
        {
         "data": [
          {
           "type": "scatter",
           "x": [
            0,
            2.297091175649181
           ],
           "y": [
            0,
            0.11563792956751534
           ]
          },
          {
           "type": "scatter",
           "x": [
            2.297091175649181,
            1.771510999240799
           ],
           "y": [
            0.11563792956751534,
            -0.34670985961994677
           ]
          }
         ]
        },
        {
         "data": [
          {
           "type": "scatter",
           "x": [
            0,
            2.2859955252300486
           ],
           "y": [
            0,
            0.253425449843132
           ]
          },
          {
           "type": "scatter",
           "x": [
            2.2859955252300486,
            1.886437154183541
           ],
           "y": [
            0.253425449843132,
            -0.321338073813912
           ]
          }
         ]
        },
        {
         "data": [
          {
           "type": "scatter",
           "x": [
            0,
            2.2709028948528407
           ],
           "y": [
            0,
            0.36469170836336334
           ]
          },
          {
           "type": "scatter",
           "x": [
            2.2709028948528407,
            2.011563001582346
           ],
           "y": [
            0.36469170836336334,
            -0.28549504923667307
           ]
          }
         ]
        },
        {
         "data": [
          {
           "type": "scatter",
           "x": [
            0,
            2.255390505776458
           ],
           "y": [
            0,
            0.4507922652990093
           ]
          },
          {
           "type": "scatter",
           "x": [
            2.255390505776458,
            2.142215105039452
           ],
           "y": [
            0.4507922652990093,
            -0.2399980999117528
           ]
          }
         ]
        },
        {
         "data": [
          {
           "type": "scatter",
           "x": [
            0,
            2.241995434179827
           ],
           "y": [
            0,
            0.5132801117487494
           ]
          },
          {
           "type": "scatter",
           "x": [
            2.241995434179827,
            2.274976848565035
           ],
           "y": [
            0.5132801117487494,
            -0.185942475347199
           ]
          }
         ]
        },
        {
         "data": [
          {
           "type": "scatter",
           "x": [
            0,
            2.2324182227747005
           ],
           "y": [
            0,
            0.5534517852744235
           ]
          },
          {
           "type": "scatter",
           "x": [
            2.2324182227747005,
            2.407232152034282
           ],
           "y": [
            0.5534517852744235,
            -0.12436831632837342
           ]
          }
         ]
        },
        {
         "data": [
          {
           "type": "scatter",
           "x": [
            0,
            2.2277296457236977
           ],
           "y": [
            0,
            0.5720320144570294
           ]
          },
          {
           "type": "scatter",
           "x": [
            2.2277296457236977,
            2.536744313648781
           ],
           "y": [
            0.5720320144570294,
            -0.05606824426537427
           ]
          }
         ]
        },
        {
         "data": [
          {
           "type": "scatter",
           "x": [
            0,
            2.228542668012768
           ],
           "y": [
            0,
            0.5688563762906537
           ]
          },
          {
           "type": "scatter",
           "x": [
            2.228542668012768,
            2.661173529254364
           ],
           "y": [
            0.5688563762906537,
            0.018555969329733357
           ]
          }
         ]
        },
        {
         "data": [
          {
           "type": "scatter",
           "x": [
            0,
            2.2351253064889796
           ],
           "y": [
            0,
            0.5424157670021624
           ]
          },
          {
           "type": "scatter",
           "x": [
            2.2351253064889796,
            2.7772964437725918
           ],
           "y": [
            0.5424157670021624,
            0.09963991186031501
           ]
          }
         ]
        },
        {
         "data": [
          {
           "type": "scatter",
           "x": [
            0,
            2.2473809512408183
           ],
           "y": [
            0,
            0.4891613844120491
           ]
          },
          {
           "type": "scatter",
           "x": [
            2.2473809512408183,
            2.879270160354581
           ],
           "y": [
            0.4891613844120491,
            0.18797036959656144
           ]
          }
         ]
        },
        {
         "data": [
          {
           "type": "scatter",
           "x": [
            0,
            2.264343953597441
           ],
           "y": [
            0,
            0.40341846735952674
           ]
          },
          {
           "type": "scatter",
           "x": [
            2.264343953597441,
            2.9541478846437452
           ],
           "y": [
            0.40341846735952674,
            0.28437840388060676
           ]
          }
         ]
        },
        {
         "data": [
          {
           "type": "scatter",
           "x": [
            0,
            2.282164689197664
           ],
           "y": [
            0,
            0.2858746777511572
           ]
          },
          {
           "type": "scatter",
           "x": [
            2.282164689197664,
            2.9751902996107713
           ],
           "y": [
            0.2858746777511572,
            0.38444193048521913
           ]
          }
         ]
        },
        {
         "data": [
          {
           "type": "scatter",
           "x": [
            0,
            2.2940392881103873
           ],
           "y": [
            0,
            0.16548034507453224
           ]
          },
          {
           "type": "scatter",
           "x": [
            2.2940392881103873,
            2.9241140356793616
           ],
           "y": [
            0.16548034507453224,
            0.47044888849482225
           ]
          }
         ]
        },
        {
         "data": [
          {
           "type": "scatter",
           "x": [
            0,
            2.2989405931324187
           ],
           "y": [
            0,
            0.06980078257413819
           ]
          },
          {
           "type": "scatter",
           "x": [
            2.2989405931324187,
            2.8252896387548074
           ],
           "y": [
            0.06980078257413819,
            0.5312730809544423
           ]
          }
         ]
        },
        {
         "data": [
          {
           "type": "scatter",
           "x": [
            0,
            2.2999997373959635
           ],
           "y": [
            0,
            -0.0010990807511146975
           ]
          },
          {
           "type": "scatter",
           "x": [
            2.2999997373959635,
            2.7046555636425262
           ],
           "y": [
            -0.0010990807511146975,
            0.5700871080566259
           ]
          }
         ]
        },
        {
         "data": [
          {
           "type": "scatter",
           "x": [
            0,
            2.299392640763188
           ],
           "y": [
            0,
            -0.05285341620076154
           ]
          },
          {
           "type": "scatter",
           "x": [
            2.299392640763188,
            2.573837823451477
           ],
           "y": [
            -0.05285341620076154,
            0.591102981157935
           ]
          }
         ]
        },
        {
         "data": [
          {
           "type": "scatter",
           "x": [
            0,
            2.298269563241769
           ],
           "y": [
            0,
            -0.08920210017979653
           ]
          },
          {
           "type": "scatter",
           "x": [
            2.298269563241769,
            2.438000583095903
           ],
           "y": [
            -0.08920210017979653,
            0.5967098782041093
           ]
          }
         ]
        },
        {
         "data": [
          {
           "type": "scatter",
           "x": [
            0,
            2.297271239862288
           ],
           "y": [
            0,
            -0.11200379681771568
           ]
          },
          {
           "type": "scatter",
           "x": [
            2.297271239862288,
            2.3000035760561155
           ],
           "y": [
            -0.11200379681771568,
            0.5879908705469178
           ]
          }
         ]
        },
        {
         "data": [
          {
           "type": "scatter",
           "x": [
            0,
            2.29677545228534
           ],
           "y": [
            0,
            -0.12174777936156121
           ]
          },
          {
           "type": "scatter",
           "x": [
            2.29677545228534,
            2.161972489921386
           ],
           "y": [
            -0.12174777936156121,
            0.5651497103251476
           ]
          }
         ]
        },
        {
         "data": [
          {
           "type": "scatter",
           "x": [
            0,
            2.2969821184965626
           ],
           "y": [
            0,
            -0.11778432538772693
           ]
          },
          {
           "type": "scatter",
           "x": [
            2.2969821184965626,
            2.026093886351507
           ],
           "y": [
            -0.11778432538772693,
            0.5276764136857865
           ]
          }
         ]
        },
        {
         "data": [
          {
           "type": "scatter",
           "x": [
            0,
            2.2978975665057955
           ],
           "y": [
            0,
            -0.09831975308524123
           ]
          },
          {
           "type": "scatter",
           "x": [
            2.2978975665057955,
            1.8953465133571683
           ],
           "y": [
            -0.09831975308524123,
            0.4743517492692335
           ]
          }
         ]
        },
        {
         "data": [
          {
           "type": "scatter",
           "x": [
            0,
            2.299209103978133
           ],
           "y": [
            0,
            -0.06031165877398817
           ]
          },
          {
           "type": "scatter",
           "x": [
            2.299209103978133,
            1.7746622210815093
           ],
           "y": [
            -0.06031165877398817,
            0.40320810093797443
           ]
          }
         ]
        },
        {
         "data": [
          {
           "type": "scatter",
           "x": [
            0,
            2.2999999901001336
           ],
           "y": [
            0,
            0.00021339958619096837
           ]
          },
          {
           "type": "scatter",
           "x": [
            2.2999999901001336,
            1.6731932527311222
           ],
           "y": [
            0.00021339958619096837,
            0.3118434911832878
           ]
          }
         ]
        },
        {
         "data": [
          {
           "type": "scatter",
           "x": [
            0,
            2.2984230708948528
           ],
           "y": [
            0,
            0.0851550772313356
           ]
          },
          {
           "type": "scatter",
           "x": [
            2.2984230708948528,
            1.6078583911594888
           ],
           "y": [
            0.0851550772313356,
            0.19969949264297465
           ]
          }
         ]
        },
        {
         "data": [
          {
           "type": "scatter",
           "x": [
            0,
            2.2925966914491354
           ],
           "y": [
            0,
            0.18439200187773258
           ]
          },
          {
           "type": "scatter",
           "x": [
            2.2925966914491354,
            1.6012050187252176
           ],
           "y": [
            0.18439200187773258,
            0.07494998577777601
           ]
          }
         ]
        },
        {
         "data": [
          {
           "type": "scatter",
           "x": [
            0,
            2.2838926263287256
           ],
           "y": [
            0,
            0.27172499222794255
           ]
          },
          {
           "type": "scatter",
           "x": [
            2.2838926263287256,
            1.6591168724553171
           ],
           "y": [
            0.27172499222794255,
            -0.04395721723580609
           ]
          }
         ]
        },
        {
         "data": [
          {
           "type": "scatter",
           "x": [
            0,
            2.2764111102480227
           ],
           "y": [
            0,
            0.32856119238182163
           ]
          },
          {
           "type": "scatter",
           "x": [
            2.2764111102480227,
            1.7614955581980047
           ],
           "y": [
            0.32856119238182163,
            -0.1456349424158223
           ]
          }
         ]
        },
        {
         "data": [
          {
           "type": "scatter",
           "x": [
            0,
            2.272681321585559
           ],
           "y": [
            0,
            0.3534396844103904
           ]
          },
          {
           "type": "scatter",
           "x": [
            2.272681321585559,
            1.8871242499727081
           ],
           "y": [
            0.3534396844103904,
            -0.23080833187149896
           ]
          }
         ]
        },
        {
         "data": [
          {
           "type": "scatter",
           "x": [
            0,
            2.2731163605510303
           ],
           "y": [
            0,
            0.35063087627195305
           ]
          },
          {
           "type": "scatter",
           "x": [
            2.2731163605510303,
            2.023970230742641
           ],
           "y": [
            0.35063087627195305,
            -0.3035298119396675
           ]
          }
         ]
        },
        {
         "data": [
          {
           "type": "scatter",
           "x": [
            0,
            2.2770635738832574
           ],
           "y": [
            0,
            0.32400845744209467
           ]
          },
          {
           "type": "scatter",
           "x": [
            2.2770635738832574,
            2.1659590565507623
           ],
           "y": [
            0.32400845744209467,
            -0.36711800437825354
           ]
          }
         ]
        },
        {
         "data": [
          {
           "type": "scatter",
           "x": [
            0,
            2.283392987616143
           ],
           "y": [
            0,
            0.2758921240365938
           ]
          },
          {
           "type": "scatter",
           "x": [
            2.283392987616143,
            2.309787600560255
           ],
           "y": [
            0.2758921240365938,
            -0.42361007353502955
           ]
          }
         ]
        },
        {
         "data": [
          {
           "type": "scatter",
           "x": [
            0,
            2.290666807669688
           ],
           "y": [
            0,
            0.20699172988397682
           ]
          },
          {
           "type": "scatter",
           "x": [
            2.290666807669688,
            2.453240587516499
           ],
           "y": [
            0.20699172988397682,
            -0.4738678489619996
           ]
          }
         ]
        },
        {
         "data": [
          {
           "type": "scatter",
           "x": [
            0,
            2.2970590542731495
           ],
           "y": [
            0,
            0.11627424986532083
           ]
          },
          {
           "type": "scatter",
           "x": [
            2.2970590542731495,
            2.594130124658541
           ],
           "y": [
            0.11627424986532083,
            -0.517562305675678
           ]
          }
         ]
        },
        {
         "data": [
          {
           "type": "scatter",
           "x": [
            0,
            2.299999970243731
           ],
           "y": [
            0,
            0.0003699713983400211
           ]
          },
          {
           "type": "scatter",
           "x": [
            2.299999970243731,
            2.728995750618357
           ],
           "y": [
            0.0003699713983400211,
            -0.5527689084688823
           ]
          }
         ]
        },
        {
         "data": [
          {
           "type": "scatter",
           "x": [
            0,
            2.2952534578983594
           ],
           "y": [
            0,
            -0.14768738607485254
           ]
          },
          {
           "type": "scatter",
           "x": [
            2.2952534578983594,
            2.8498591020637956
           ],
           "y": [
            -0.14768738607485254,
            -0.5747852430817
           ]
          }
         ]
        },
        {
         "data": [
          {
           "type": "scatter",
           "x": [
            0,
            2.2751469162343883
           ],
           "y": [
            0,
            -0.33720395838298334
           ]
          },
          {
           "type": "scatter",
           "x": [
            2.2751469162343883,
            2.9336588247236377
           ],
           "y": [
            -0.33720395838298334,
            -0.5746109220084137
           ]
          }
         ]
        },
        {
         "data": [
          {
           "type": "scatter",
           "x": [
            0,
            2.232901273611052
           ],
           "y": [
            0,
            -0.5514996847742896
           ]
          },
          {
           "type": "scatter",
           "x": [
            2.232901273611052,
            2.9329005749554202
           ],
           "y": [
            -0.5514996847742896,
            -0.5505106865960012
           ]
          }
         ]
        },
        {
         "data": [
          {
           "type": "scatter",
           "x": [
            0,
            2.1786044542777203
           ],
           "y": [
            0,
            -0.7373483788557986
           ]
          },
          {
           "type": "scatter",
           "x": [
            2.1786044542777203,
            2.8464759910036213
           ],
           "y": [
            -0.7373483788557986,
            -0.5277115251506739
           ]
          }
         ]
        },
        {
         "data": [
          {
           "type": "scatter",
           "x": [
            0,
            2.122495496300868
           ],
           "y": [
            0,
            -0.8860095192392289
           ]
          },
          {
           "type": "scatter",
           "x": [
            2.122495496300868,
            2.719097562726156
           ],
           "y": [
            -0.8860095192392289,
            -0.5198593118965644
           ]
          }
         ]
        },
        {
         "data": [
          {
           "type": "scatter",
           "x": [
            0,
            2.066799997446313
           ],
           "y": [
            0,
            -1.0091272320951006
           ]
          },
          {
           "type": "scatter",
           "x": [
            2.066799997446313,
            2.573693031496068
           ],
           "y": [
            -1.0091272320951006,
            -0.5263649178742885
           ]
          }
         ]
        },
        {
         "data": [
          {
           "type": "scatter",
           "x": [
            0,
            2.011798879012906
           ],
           "y": [
            0,
            -1.1147489719225636
           ]
          },
          {
           "type": "scatter",
           "x": [
            2.011798879012906,
            2.4189995487924763
           ],
           "y": [
            -1.1147489719225636,
            -0.5453742143761217
           ]
          }
         ]
        },
        {
         "data": [
          {
           "type": "scatter",
           "x": [
            0,
            1.9575448769710946
           ],
           "y": [
            0,
            -1.2074841840141102
           ]
          },
          {
           "type": "scatter",
           "x": [
            1.9575448769710946,
            2.2589277429229333
           ],
           "y": [
            -1.2074841840141102,
            -0.5756864568017879
           ]
          }
         ]
        },
        {
         "data": [
          {
           "type": "scatter",
           "x": [
            0,
            1.9041618611834805
           ],
           "y": [
            0,
            -1.2900262037703976
           ]
          },
          {
           "type": "scatter",
           "x": [
            1.9041618611834805,
            2.0955807993961297
           ],
           "y": [
            -1.2900262037703976,
            -0.6167069703502153
           ]
          }
         ]
        },
        {
         "data": [
          {
           "type": "scatter",
           "x": [
            0,
            1.8519279376121824
           ],
           "y": [
            0,
            -1.3639512138971424
           ]
          },
          {
           "type": "scatter",
           "x": [
            1.8519279376121824,
            1.9303205529808698
           ],
           "y": [
            -1.3639512138971424,
            -0.66835463695354
           ]
          }
         ]
        },
        {
         "data": [
          {
           "type": "scatter",
           "x": [
            0,
            1.8013298065191183
           ],
           "y": [
            0,
            -1.4301087120026206
           ]
          },
          {
           "type": "scatter",
           "x": [
            1.8013298065191183,
            1.7642704888664809
           ],
           "y": [
            -1.4301087120026206,
            -0.7310903953791427
           ]
          }
         ]
        },
        {
         "data": [
          {
           "type": "scatter",
           "x": [
            0,
            1.753092531817137
           ],
           "y": [
            0,
            -1.488847398119424
           ]
          },
          {
           "type": "scatter",
           "x": [
            1.753092531817137,
            1.5987125382109
           ],
           "y": [
            -1.488847398119424,
            -0.8060832971488631
           ]
          }
         ]
        },
        {
         "data": [
          {
           "type": "scatter",
           "x": [
            0,
            1.7080656621105446
           ],
           "y": [
            0,
            -1.5402959760769575
           ]
          },
          {
           "type": "scatter",
           "x": [
            1.7080656621105446,
            1.4356300342919683
           ],
           "y": [
            -1.5402959760769575,
            -0.8954868347838937
           ]
          }
         ]
        },
        {
         "data": [
          {
           "type": "scatter",
           "x": [
            0,
            1.6665942804646345
           ],
           "y": [
            0,
            -1.5850752361710045
           ]
          },
          {
           "type": "scatter",
           "x": [
            1.6665942804646345,
            1.278512615468142
           ],
           "y": [
            -1.5850752361710045,
            -1.002501102439039
           ]
          }
         ]
        },
        {
         "data": [
          {
           "type": "scatter",
           "x": [
            0,
            1.6269586014018778
           ],
           "y": [
            0,
            -1.625732360914442
           ]
          },
          {
           "type": "scatter",
           "x": [
            1.6269586014018778,
            1.1326759396973056
           ],
           "y": [
            -1.625732360914442,
            -1.1300664952970452
           ]
          }
         ]
        },
        {
         "data": [
          {
           "type": "scatter",
           "x": [
            0,
            1.584375129062022
           ],
           "y": [
            0,
            -1.667259862891715
           ]
          },
          {
           "type": "scatter",
           "x": [
            1.584375129062022,
            1.0028475787001585
           ],
           "y": [
            -1.667259862891715,
            -1.2776116777680957
           ]
          }
         ]
        },
        {
         "data": [
          {
           "type": "scatter",
           "x": [
            0,
            1.5335898519300726
           ],
           "y": [
            0,
            -1.7140893109920197
           ]
          },
          {
           "type": "scatter",
           "x": [
            1.5335898519300726,
            0.8893761625507615
           ],
           "y": [
            -1.7140893109920197,
            -1.4402486229701401
           ]
          }
         ]
        },
        {
         "data": [
          {
           "type": "scatter",
           "x": [
            0,
            1.471800227665132
           ],
           "y": [
            0,
            -1.7674286661262637
           ]
          },
          {
           "type": "scatter",
           "x": [
            1.471800227665132,
            0.7891348131483149
           ],
           "y": [
            -1.7674286661262637,
            -1.6126128664720223
           ]
          }
         ]
        },
        {
         "data": [
          {
           "type": "scatter",
           "x": [
            0,
            1.3980333815480281
           ],
           "y": [
            0,
            -1.8263358574143433
           ]
          },
          {
           "type": "scatter",
           "x": [
            1.3980333815480281,
            0.6989123028143159
           ],
           "y": [
            -1.8263358574143433,
            -1.7912685325917888
           ]
          }
         ]
        },
        {
         "data": [
          {
           "type": "scatter",
           "x": [
            0,
            1.311590065757232
           ],
           "y": [
            0,
            -1.8893733086415028
           ]
          },
          {
           "type": "scatter",
           "x": [
            1.311590065757232,
            0.6167596677023423
           ],
           "y": [
            -1.8893733086415028,
            -1.9742892549583377
           ]
          }
         ]
        },
        {
         "data": [
          {
           "type": "scatter",
           "x": [
            0,
            1.211205088443831
           ],
           "y": [
            0,
            -1.9552448014833772
           ]
          },
          {
           "type": "scatter",
           "x": [
            1.211205088443831,
            0.5419236175048767
           ],
           "y": [
            -1.9552448014833772,
            -2.160335787774315
           ]
          }
         ]
        },
        {
         "data": [
          {
           "type": "scatter",
           "x": [
            0,
            1.0945484592171901
           ],
           "y": [
            0,
            -2.0228602696244926
           ]
          },
          {
           "type": "scatter",
           "x": [
            1.0945484592171901,
            0.4746168058312489
           ],
           "y": [
            -2.0228602696244926,
            -2.3479521722153955
           ]
          }
         ]
        },
        {
         "data": [
          {
           "type": "scatter",
           "x": [
            0,
            0.9575200135081778
           ],
           "y": [
            0,
            -2.0912090817829045
           ]
          },
          {
           "type": "scatter",
           "x": [
            0.9575200135081778,
            0.4160137711801757
           ],
           "y": [
            -2.0912090817829045,
            -2.5347978434978593
           ]
          }
         ]
        },
        {
         "data": [
          {
           "type": "scatter",
           "x": [
            0,
            0.7927021544194709
           ],
           "y": [
            0,
            -2.1590792700544204
           ]
          },
          {
           "type": "scatter",
           "x": [
            0.7927021544194709,
            0.3686187151447682
           ],
           "y": [
            -2.1590792700544204,
            -2.715993299804919
           ]
          }
         ]
        },
        {
         "data": [
          {
           "type": "scatter",
           "x": [
            0,
            0.5857634292732362
           ],
           "y": [
            0,
            -2.224158538622204
           ]
          },
          {
           "type": "scatter",
           "x": [
            0.5857634292732362,
            0.3371319827500422
           ],
           "y": [
            -2.224158538622204,
            -2.8785150192959907
           ]
          }
         ]
        },
        {
         "data": [
          {
           "type": "scatter",
           "x": [
            0,
            0.3144624064808603
           ],
           "y": [
            0,
            -2.2784014999359234
           ]
          },
          {
           "type": "scatter",
           "x": [
            0.3144624064808603,
            0.326125766756026
           ],
           "y": [
            -2.2784014999359234,
            -2.9783043260675885
           ]
          }
         ]
        },
        {
         "data": [
          {
           "type": "scatter",
           "x": [
            0,
            0.016556012754468056
           ],
           "y": [
            0,
            -2.299940411932812
           ]
          },
          {
           "type": "scatter",
           "x": [
            0.016556012754468056,
            0.3091797460067187
           ],
           "y": [
            -2.299940411932812,
            -2.9358424096789393
           ]
          }
         ]
        },
        {
         "data": [
          {
           "type": "scatter",
           "x": [
            0,
            -0.2243419247930045
           ],
           "y": [
            0,
            -2.289032699805787
           ]
          },
          {
           "type": "scatter",
           "x": [
            -0.2243419247930045,
            0.25465820755985114
           ],
           "y": [
            -2.289032699805787,
            -2.799482377252983
           ]
          }
         ]
        },
        {
         "data": [
          {
           "type": "scatter",
           "x": [
            0,
            -0.41671245644537647
           ],
           "y": [
            0,
            -2.261935173395396
           ]
          },
          {
           "type": "scatter",
           "x": [
            -0.41671245644537647,
            0.17443648632559094
           ],
           "y": [
            -2.261935173395396,
            -2.636825727371843
           ]
          }
         ]
        },
        {
         "data": [
          {
           "type": "scatter",
           "x": [
            0,
            -0.5781915629754717
           ],
           "y": [
            0,
            -2.2261389256971316
           ]
          },
          {
           "type": "scatter",
           "x": [
            -0.5781915629754717,
            0.0787970477874047
           ],
           "y": [
            -2.2261389256971316,
            -2.467729416668663
           ]
          }
         ]
        },
        {
         "data": [
          {
           "type": "scatter",
           "x": [
            0,
            -0.718100939551204
           ],
           "y": [
            0,
            -2.185024265452372
           ]
          },
          {
           "type": "scatter",
           "x": [
            -0.718100939551204,
            -0.027360263737420065
           ],
           "y": [
            -2.185024265452372,
            -2.2985025399207344
           ]
          }
         ]
        },
        {
         "data": [
          {
           "type": "scatter",
           "x": [
            0,
            -0.8415032657842009
           ],
           "y": [
            0,
            -2.140530834553551
           ]
          },
          {
           "type": "scatter",
           "x": [
            -0.8415032657842009,
            -0.14155768183753048
           ],
           "y": [
            -2.140530834553551,
            -2.1318027469305627
           ]
          }
         ]
        },
        {
         "data": [
          {
           "type": "scatter",
           "x": [
            0,
            -0.9513142308767509
           ],
           "y": [
            0,
            -2.0940394538144154
           ]
          },
          {
           "type": "scatter",
           "x": [
            -0.9513142308767509,
            -0.2625578296680646
           ],
           "y": [
            -2.0940394538144154,
            -1.9690809815363859
           ]
          }
         ]
        },
        {
         "data": [
          {
           "type": "scatter",
           "x": [
            0,
            -1.0492248808070868
           ],
           "y": [
            0,
            -2.0467357302532623
           ]
          },
          {
           "type": "scatter",
           "x": [
            -1.0492248808070868,
            -0.3899548410240512
           ],
           "y": [
            -2.0467357302532623,
            -1.8114422653111295
           ]
          }
         ]
        },
        {
         "data": [
          {
           "type": "scatter",
           "x": [
            0,
            -1.136189552932979
           ],
           "y": [
            0,
            -1.9997683115316023
           ]
          },
          {
           "type": "scatter",
           "x": [
            -1.136189552932979,
            -0.5240883236905809
           ],
           "y": [
            -1.9997683115316023,
            -1.6601625324878042
           ]
          }
         ]
        },
        {
         "data": [
          {
           "type": "scatter",
           "x": [
            0,
            -1.2129097850381125
           ],
           "y": [
            0,
            -1.9541877733111523
           ]
          },
          {
           "type": "scatter",
           "x": [
            -1.2129097850381125,
            -0.6660436282421062
           ],
           "y": [
            -1.9541877733111523,
            -1.5172239229171345
           ]
          }
         ]
        },
        {
         "data": [
          {
           "type": "scatter",
           "x": [
            0,
            -1.2806993229859664
           ],
           "y": [
            0,
            -1.9104473937021367
           ]
          },
          {
           "type": "scatter",
           "x": [
            -1.2806993229859664,
            -0.817314588073331
           ],
           "y": [
            -1.9104473937021367,
            -1.3857812260774778
           ]
          }
         ]
        },
        {
         "data": [
          {
           "type": "scatter",
           "x": [
            0,
            -1.3425540988441005
           ],
           "y": [
            0,
            -1.8674979228039061
           ]
          },
          {
           "type": "scatter",
           "x": [
            -1.3425540988441005,
            -0.9785126020867261
           ],
           "y": [
            -1.8674979228039061,
            -1.2696068050921188
           ]
          }
         ]
        },
        {
         "data": [
          {
           "type": "scatter",
           "x": [
            0,
            -1.4026863159960274
           ],
           "y": [
            0,
            -1.8227646855580375
           ]
          },
          {
           "type": "scatter",
           "x": [
            -1.4026863159960274,
            -1.1479222248183072
           ],
           "y": [
            -1.8227646855580375,
            -1.1707713896980338
           ]
          }
         ]
        },
        {
         "data": [
          {
           "type": "scatter",
           "x": [
            0,
            -1.4641535876812686
           ],
           "y": [
            0,
            -1.773768381632751
           ]
          },
          {
           "type": "scatter",
           "x": [
            -1.4641535876812686,
            -1.322297308928477
           ],
           "y": [
            -1.773768381632751,
            -1.0882927831039555
           ]
          }
         ]
        },
        {
         "data": [
          {
           "type": "scatter",
           "x": [
            0,
            -1.5279042375432808
           ],
           "y": [
            0,
            -1.719159283166422
           ]
          },
          {
           "type": "scatter",
           "x": [
            -1.5279042375432808,
            -1.4988331529517922
           ],
           "y": [
            -1.719159283166422,
            -1.0197632065112305
           ]
          }
         ]
        },
        {
         "data": [
          {
           "type": "scatter",
           "x": [
            0,
            -1.59374985587958
           ],
           "y": [
            0,
            -1.658300755859388
           ]
          },
          {
           "type": "scatter",
           "x": [
            -1.59374985587958,
            -1.6757486724494548
           ],
           "y": [
            -1.658300755859388,
            -0.9631200641819365
           ]
          }
         ]
        },
        {
         "data": [
          {
           "type": "scatter",
           "x": [
            0,
            -1.6612803202618491
           ],
           "y": [
            0,
            -1.5906437996957985
           ]
          },
          {
           "type": "scatter",
           "x": [
            -1.6612803202618491,
            -1.8518950350228733
           ],
           "y": [
            -1.5906437996957985,
            -0.9170964513107178
           ]
          }
         ]
        },
        {
         "data": [
          {
           "type": "scatter",
           "x": [
            0,
            -1.7302148859785442
           ],
           "y": [
            0,
            -1.515373369285026
           ]
          },
          {
           "type": "scatter",
           "x": [
            -1.7302148859785442,
            -2.0263179833985783
           ],
           "y": [
            -1.515373369285026,
            -0.8810840380660139
           ]
          }
         ]
        },
        {
         "data": [
          {
           "type": "scatter",
           "x": [
            0,
            -1.8004806537291949
           ],
           "y": [
            0,
            -1.431177632422646
           ]
          },
          {
           "type": "scatter",
           "x": [
            -1.8004806537291949,
            -2.1979344612920433
           ],
           "y": [
            -1.431177632422646,
            -0.8549567799244097
           ]
          }
         ]
        },
        {
         "data": [
          {
           "type": "scatter",
           "x": [
            0,
            -1.872224273777704
           ],
           "y": [
            0,
            -1.335955189621848
           ]
          },
          {
           "type": "scatter",
           "x": [
            -1.872224273777704,
            -2.365192423778833
           ],
           "y": [
            -1.335955189621848,
            -0.8389819478024674
           ]
          }
         ]
        },
        {
         "data": [
          {
           "type": "scatter",
           "x": [
            0,
            -1.9458307342932035
           ],
           "y": [
            0,
            -1.226271892151154
           ]
          },
          {
           "type": "scatter",
           "x": [
            -1.9458307342932035,
            -2.525465573897582
           ],
           "y": [
            -1.226271892151154,
            -0.8338136743536328
           ]
          }
         ]
        },
        {
         "data": [
          {
           "type": "scatter",
           "x": [
            0,
            -2.0219419706144732
           ],
           "y": [
            0,
            -1.0962438905041432
           ]
          },
          {
           "type": "scatter",
           "x": [
            -2.0219419706144732,
            -2.6735487486560707
           ],
           "y": [
            -1.0962438905041432,
            -0.8404928263611989
           ]
          }
         ]
        },
        {
         "data": [
          {
           "type": "scatter",
           "x": [
            0,
            -2.1011474197041156
           ],
           "y": [
            0,
            -0.9355102996069775
           ]
          },
          {
           "type": "scatter",
           "x": [
            -2.1011474197041156,
            -2.797046973063786
           ],
           "y": [
            -0.9355102996069775,
            -0.8598544232072485
           ]
          }
         ]
        },
        {
         "data": [
          {
           "type": "scatter",
           "x": [
            0,
            -2.180434385756744
           ],
           "y": [
            0,
            -0.7319193189208842
           ]
          },
          {
           "type": "scatter",
           "x": [
            -2.180434385756744,
            -2.863119052442755
           ],
           "y": [
            -0.7319193189208842,
            -0.8866502010091395
           ]
          }
         ]
        },
        {
         "data": [
          {
           "type": "scatter",
           "x": [
            0,
            -2.242331221014486
           ],
           "y": [
            0,
            -0.5118111910301344
           ]
          },
          {
           "type": "scatter",
           "x": [
            -2.242331221014486,
            -2.829347219642824
           ],
           "y": [
            -0.5118111910301344,
            -0.8931407300831364
           ]
          }
         ]
        },
        {
         "data": [
          {
           "type": "scatter",
           "x": [
            0,
            -2.27646206683847
           ],
           "y": [
            0,
            -0.3282079496988482
           ]
          },
          {
           "type": "scatter",
           "x": [
            -2.27646206683847,
            -2.727553270904608
           ],
           "y": [
            -0.3282079496988482,
            -0.863480521025048
           ]
          }
         ]
        },
        {
         "data": [
          {
           "type": "scatter",
           "x": [
            0,
            -2.292683162918239
           ],
           "y": [
            0,
            -0.18331370508289369
           ]
          },
          {
           "type": "scatter",
           "x": [
            -2.292683162918239,
            -2.601732814194427
           ],
           "y": [
            -0.18331370508289369,
            -0.81139675138017
           ]
          }
         ]
        },
        {
         "data": [
          {
           "type": "scatter",
           "x": [
            0,
            -2.299010871790726
           ],
           "y": [
            0,
            -0.06744635933871103
           ]
          },
          {
           "type": "scatter",
           "x": [
            -2.299010871790726,
            -2.4674170399221507
           ],
           "y": [
            -0.06744635933871103,
            -0.7468868368901226
           ]
          }
         ]
        },
        {
         "data": [
          {
           "type": "scatter",
           "x": [
            0,
            -2.2998642062627814
           ],
           "y": [
            0,
            0.024992653945995782
           ]
          },
          {
           "type": "scatter",
           "x": [
            -2.2998642062627814,
            -2.3300034809870427
           ],
           "y": [
            0.024992653945995782,
            -0.6743582051505634
           ]
          }
         ]
        },
        {
         "data": [
          {
           "type": "scatter",
           "x": [
            0,
            -2.2979771928956874
           ],
           "y": [
            0,
            0.09644076384628869
           ]
          },
          {
           "type": "scatter",
           "x": [
            -2.2979771928956874,
            -2.192114395330833
           ],
           "y": [
            0.09644076384628869,
            -0.5955079828768646
           ]
          }
         ]
        },
        {
         "data": [
          {
           "type": "scatter",
           "x": [
            0,
            -2.2952807138210325
           ],
           "y": [
            0,
            0.14726318196076887
           ]
          },
          {
           "type": "scatter",
           "x": [
            -2.2952807138210325,
            -2.0557954945775396
           ],
           "y": [
            0.14726318196076887,
            -0.510495763066888
           ]
          }
         ]
        },
        {
         "data": [
          {
           "type": "scatter",
           "x": [
            0,
            -2.2932440671304986
           ],
           "y": [
            0,
            0.17615802159075294
           ]
          },
          {
           "type": "scatter",
           "x": [
            -2.2932440671304986,
            -1.923622733048175
           ],
           "y": [
            0.17615802159075294,
            -0.41829977286668657
           ]
          }
         ]
        },
        {
         "data": [
          {
           "type": "scatter",
           "x": [
            0,
            -2.292927798985271
           ],
           "y": [
            0,
            0.18022793523912864
           ]
          },
          {
           "type": "scatter",
           "x": [
            -2.292927798985271,
            -1.7999631556454116
           ],
           "y": [
            0.18022793523912864,
            -0.3167487849569035
           ]
          }
         ]
        },
        {
         "data": [
          {
           "type": "scatter",
           "x": [
            0,
            -2.294746759811318
           ],
           "y": [
            0,
            0.15536186255145437
           ]
          },
          {
           "type": "scatter",
           "x": [
            -2.294746759811318,
            -1.693257605475508
           ],
           "y": [
            0.15536186255145437,
            -0.20270349072416258
           ]
          }
         ]
        },
        {
         "data": [
          {
           "type": "scatter",
           "x": [
            0,
            -2.297858715706796
           ],
           "y": [
            0,
            0.09922359926104017
           ]
          },
          {
           "type": "scatter",
           "x": [
            -2.297858715706796,
            -1.6196238577630648
           ],
           "y": [
            0.09922359926104017,
            -0.07397419942603063
           ]
          }
         ]
        },
        {
         "data": [
          {
           "type": "scatter",
           "x": [
            0,
            -2.2999039925725597
           ],
           "y": [
            0,
            0.021014874465434184
           ]
          },
          {
           "type": "scatter",
           "x": [
            -2.2999039925725597,
            -1.601221695739615
           ],
           "y": [
            0.021014874465434184,
            0.06394561045074823
           ]
          }
         ]
        },
        {
         "data": [
          {
           "type": "scatter",
           "x": [
            0,
            -2.29935608780476
           ],
           "y": [
            0,
            -0.054420414140176725
           ]
          },
          {
           "type": "scatter",
           "x": [
            -2.29935608780476,
            -1.6451241967715586
           ],
           "y": [
            -0.054420414140176725,
            0.19453868441844438
           ]
          }
         ]
        },
        {
         "data": [
          {
           "type": "scatter",
           "x": [
            0,
            -2.2974126297293362
           ],
           "y": [
            0,
            -0.10906515832351628
           ]
          },
          {
           "type": "scatter",
           "x": [
            -2.2974126297293362,
            -1.7333739732282742
           ],
           "y": [
            -0.10906515832351628,
            0.305495324564659
           ]
          }
         ]
        },
        {
         "data": [
          {
           "type": "scatter",
           "x": [
            0,
            -2.2956743535690003
           ],
           "y": [
            0,
            -0.14099383804107185
           ]
          },
          {
           "type": "scatter",
           "x": [
            -2.2956743535690003,
            -1.8459841157972146
           ],
           "y": [
            -0.14099383804107185,
            0.39545624356275716
           ]
          }
         ]
        },
        {
         "data": [
          {
           "type": "scatter",
           "x": [
            0,
            -2.29485076669854
           ],
           "y": [
            0,
            -0.15381793973110722
           ]
          },
          {
           "type": "scatter",
           "x": [
            -2.29485076669854,
            -1.9712508022472426
           ],
           "y": [
            -0.15381793973110722,
            0.4668937993290775
           ]
          }
         ]
        },
        {
         "data": [
          {
           "type": "scatter",
           "x": [
            0,
            -2.295039586607812
           ],
           "y": [
            0,
            -0.15097448758992585
           ]
          },
          {
           "type": "scatter",
           "x": [
            -2.295039586607812,
            -2.103060628014284
           ],
           "y": [
            -0.15097448758992585,
            0.5221852850178439
           ]
          }
         ]
        },
        {
         "data": [
          {
           "type": "scatter",
           "x": [
            0,
            -2.296053041991367
           ],
           "y": [
            0,
            -0.13468640748861432
           ]
          },
          {
           "type": "scatter",
           "x": [
            -2.296053041991367,
            -2.237981225573526
           ],
           "y": [
            -0.13468640748861432,
            0.5629006223061865
           ]
          }
         ]
        },
        {
         "data": [
          {
           "type": "scatter",
           "x": [
            0,
            -2.2975559126786838
           ],
           "y": [
            0,
            -0.10600390613189932
           ]
          },
          {
           "type": "scatter",
           "x": [
            -2.2975559126786838,
            -2.373744292170472
           ],
           "y": [
            -0.10600390613189932,
            0.5898375491080247
           ]
          }
         ]
        },
        {
         "data": [
          {
           "type": "scatter",
           "x": [
            0,
            -2.299084631816901
           ],
           "y": [
            0,
            -0.06488340113883433
           ]
          },
          {
           "type": "scatter",
           "x": [
            -2.299084631816901,
            -2.5084195038442054
           ],
           "y": [
            -0.06488340113883433,
            0.6030828490215403
           ]
          }
         ]
        },
        {
         "data": [
          {
           "type": "scatter",
           "x": [
            0,
            -2.29997792138486
           ],
           "y": [
            0,
            -0.010077754818265248
           ]
          },
          {
           "type": "scatter",
           "x": [
            -2.29997792138486,
            -2.639738433828362
           ],
           "y": [
            -0.010077754818265248,
            0.6019375997147144
           ]
          }
         ]
        },
        {
         "data": [
          {
           "type": "scatter",
           "x": [
            0,
            -2.29918429044352
           ],
           "y": [
            0,
            0.06125029451135389
           ]
          },
          {
           "type": "scatter",
           "x": [
            -2.29918429044352,
            -2.7640429525199384
           ],
           "y": [
            0.06125029451135389,
            0.5846109964106482
           ]
          }
         ]
        },
        {
         "data": [
          {
           "type": "scatter",
           "x": [
            0,
            -2.2948364776590164
           ],
           "y": [
            0,
            0.15403097352661607
           ]
          },
          {
           "type": "scatter",
           "x": [
            -2.2948364776590164,
            -2.8737141287074692
           ],
           "y": [
            0.15403097352661607,
            0.5476051915803725
           ]
          }
         ]
        },
        {
         "data": [
          {
           "type": "scatter",
           "x": [
            0,
            -2.283741604562884
           ],
           "y": [
            0,
            0.2729913617471105
           ]
          },
          {
           "type": "scatter",
           "x": [
            -2.283741604562884,
            -2.950582422118
           ],
           "y": [
            0.2729913617471105,
            0.4858841141893314
           ]
          }
         ]
        },
        {
         "data": [
          {
           "type": "scatter",
           "x": [
            0,
            -2.2640132125759886
           ],
           "y": [
            0,
            0.40527049396835113
           ]
          },
          {
           "type": "scatter",
           "x": [
            -2.2640132125759886,
            -2.9640024967163443
           ],
           "y": [
            0.40527049396835113,
            0.4013972409851154
           ]
          }
         ]
        },
        {
         "data": [
          {
           "type": "scatter",
           "x": [
            0,
            -2.241478730963977
           ],
           "y": [
            0,
            0.5155318599622305
           ]
          },
          {
           "type": "scatter",
           "x": [
            -2.241478730963977,
            -2.911241037107419
           ],
           "y": [
            0.5155318599622305,
            0.3120166190847505
           ]
          }
         ]
        },
        {
         "data": [
          {
           "type": "scatter",
           "x": [
            0,
            -2.222525545667369
           ],
           "y": [
            0,
            0.5919292177752008
           ]
          },
          {
           "type": "scatter",
           "x": [
            -2.222525545667369,
            -2.820976395250846
           ],
           "y": [
            0.5919292177752008,
            0.22880860333309216
           ]
          }
         ]
        },
        {
         "data": [
          {
           "type": "scatter",
           "x": [
            0,
            -2.209260873839165
           ],
           "y": [
            0,
            0.6396611535206806
           ]
          },
          {
           "type": "scatter",
           "x": [
            -2.209260873839165,
            -2.7119454021374274
           ],
           "y": [
            0.6396611535206806,
            0.1525181919482556
           ]
          }
         ]
        },
        {
         "data": [
          {
           "type": "scatter",
           "x": [
            0,
            -2.2022114349771607
           ],
           "y": [
            0,
            0.6635245252858653
           ]
          },
          {
           "type": "scatter",
           "x": [
            -2.2022114349771607,
            -2.592336533876716
           ],
           "y": [
            0.6635245252858653,
            0.08231681094562027
           ]
          }
         ]
        },
        {
         "data": [
          {
           "type": "scatter",
           "x": [
            0,
            -2.201486417999874
           ],
           "y": [
            0,
            0.6659260855095573
           ]
          },
          {
           "type": "scatter",
           "x": [
            -2.201486417999874,
            -2.466146520431634
           ],
           "y": [
            0.6659260855095573,
            0.0178867115662682
           ]
          }
         ]
        },
        {
         "data": [
          {
           "type": "scatter",
           "x": [
            0,
            -2.20695860840989
           ],
           "y": [
            0,
            0.6475598047790497
           ]
          },
          {
           "type": "scatter",
           "x": [
            -2.20695860840989,
            -2.3358638775386034
           ],
           "y": [
            0.6475598047790497,
            -0.0404688513035687
           ]
          }
         ]
        },
        {
         "data": [
          {
           "type": "scatter",
           "x": [
            0,
            -2.2182018602815297
           ],
           "y": [
            0,
            0.6079313341517777
           ]
          },
          {
           "type": "scatter",
           "x": [
            -2.2182018602815297,
            -2.2035790992978224
           ],
           "y": [
            0.6079313341517777,
            -0.09191591694035406
           ]
          }
         ]
        },
        {
         "data": [
          {
           "type": "scatter",
           "x": [
            0,
            -2.234336444532097
           ],
           "y": [
            0,
            0.5456561670463077
           ]
          },
          {
           "type": "scatter",
           "x": [
            -2.234336444532097,
            -2.0716096450632233
           ],
           "y": [
            0.5456561670463077,
            -0.1351668560181425
           ]
          }
         ]
        },
        {
         "data": [
          {
           "type": "scatter",
           "x": [
            0,
            -2.253800730434075
           ],
           "y": [
            0,
            0.4586744678907128
           ]
          },
          {
           "type": "scatter",
           "x": [
            -2.253800730434075,
            -1.943044656204386
           ],
           "y": [
            0.4586744678907128,
            -0.16856604605059183
           ]
          }
         ]
        },
        {
         "data": [
          {
           "type": "scatter",
           "x": [
            0,
            -2.2740466473693264
           ],
           "y": [
            0,
            0.3445458541157133
           ]
          },
          {
           "type": "scatter",
           "x": [
            -2.2740466473693264,
            -1.822418869820305
           ],
           "y": [
            0.3445458541157133,
            -0.1902740693595923
           ]
          }
         ]
        },
        {
         "data": [
          {
           "type": "scatter",
           "x": [
            0,
            -2.2911900499728377
           ],
           "y": [
            0,
            0.20111726655229228
           ]
          },
          {
           "type": "scatter",
           "x": [
            -2.2911900499728377,
            -1.7166566951108777
           ],
           "y": [
            0.20111726655229228,
            -0.19877199830869524
           ]
          }
         ]
        },
        {
         "data": [
          {
           "type": "scatter",
           "x": [
            0,
            -2.299826797859601
           ],
           "y": [
            0,
            0.028225871941425108
           ]
          },
          {
           "type": "scatter",
           "x": [
            -2.299826797859601,
            -1.6361111440336709
           ],
           "y": [
            0.028225871941425108,
            -0.1942185725080109
           ]
          }
         ]
        },
        {
         "data": [
          {
           "type": "scatter",
           "x": [
            0,
            -2.293806969735589
           ],
           "y": [
            0,
            -0.16867004948251055
           ]
          },
          {
           "type": "scatter",
           "x": [
            -2.293806969735589,
            -1.5939214249732543
           ],
           "y": [
            -0.16867004948251055,
            -0.18132802059678083
           ]
          }
         ]
        },
        {
         "data": [
          {
           "type": "scatter",
           "x": [
            0,
            -2.2692007284822377
           ],
           "y": [
            0,
            -0.3751373799765637
           ]
          },
          {
           "type": "scatter",
           "x": [
            -2.2692007284822377,
            -1.599410498720407
           ],
           "y": [
            -0.3751373799765637,
            -0.1717140575290282
           ]
          }
         ]
        },
        {
         "data": [
          {
           "type": "scatter",
           "x": [
            0,
            -2.2274754793439717
           ],
           "y": [
            0,
            -0.5730209323587943
           ]
          },
          {
           "type": "scatter",
           "x": [
            -2.2274754793439717,
            -1.6489171572185841
           ],
           "y": [
            -0.5730209323587943,
            -0.17897744757639583
           ]
          }
         ]
        },
        {
         "data": [
          {
           "type": "scatter",
           "x": [
            0,
            -2.1739631715687406
           ],
           "y": [
            0,
            -0.7509221854911341
           ]
          },
          {
           "type": "scatter",
           "x": [
            -2.1739631715687406,
            -1.7291544730859751
           ],
           "y": [
            -0.7509221854911341,
            -0.21041758629324736
           ]
          }
         ]
        },
        {
         "data": [
          {
           "type": "scatter",
           "x": [
            0,
            -2.1142778745537236
           ],
           "y": [
            0,
            -0.9054441281341372
           ]
          },
          {
           "type": "scatter",
           "x": [
            -2.1142778745537236,
            -1.8273347856999624
           ],
           "y": [
            -0.9054441281341372,
            -0.2669586829131342
           ]
          }
         ]
        },
        {
         "data": [
          {
           "type": "scatter",
           "x": [
            0,
            -2.0529997612175723
           ],
           "y": [
            0,
            -1.03691464472279
           ]
          },
          {
           "type": "scatter",
           "x": [
            -2.0529997612175723,
            -1.9345720160545132
           ],
           "y": [
            -1.03691464472279,
            -0.347005325191887
           ]
          }
         ]
        },
        {
         "data": [
          {
           "type": "scatter",
           "x": [
            0,
            -1.9937825232191089
           ],
           "y": [
            0,
            -1.146660913307
           ]
          },
          {
           "type": "scatter",
           "x": [
            -1.9937825232191089,
            -2.0449550510919345
           ],
           "y": [
            -1.146660913307,
            -0.44853386728234934
           ]
          }
         ]
        },
        {
         "data": [
          {
           "type": "scatter",
           "x": [
            0,
            -1.9396696488371865
           ],
           "y": [
            0,
            -1.2359941963374361
           ]
          },
          {
           "type": "scatter",
           "x": [
            -1.9396696488371865,
            -2.1542510180910215
           ],
           "y": [
            -1.2359941963374361,
            -0.569694837213364
           ]
          }
         ]
        },
        {
         "data": [
          {
           "type": "scatter",
           "x": [
            0,
            -1.8933649865687232
           ],
           "y": [
            0,
            -1.3058212081428366
           ]
          },
          {
           "type": "scatter",
           "x": [
            -1.8933649865687232,
            -2.259011225795689
           ],
           "y": [
            -1.3058212081428366,
            -0.7089101362576048
           ]
          }
         ]
        },
        {
         "data": [
          {
           "type": "scatter",
           "x": [
            0,
            -1.8574923585742389
           ],
           "y": [
            0,
            -1.356363571406395
           ]
          },
          {
           "type": "scatter",
           "x": [
            -1.8574923585742389,
            -2.355892115583156
           ],
           "y": [
            -1.356363571406395,
            -0.8648377000491971
           ]
          }
         ]
        },
        {
         "data": [
          {
           "type": "scatter",
           "x": [
            0,
            -1.834925176752801
           ],
           "y": [
            0,
            -1.38674063750894
           ]
          },
          {
           "type": "scatter",
           "x": [
            -1.834925176752801,
            -2.440865202118334
           ],
           "y": [
            -1.38674063750894,
            -1.036259988028805
           ]
          }
         ]
        },
        {
         "data": [
          {
           "type": "scatter",
           "x": [
            0,
            -1.8292967055588791
           ],
           "y": [
            0,
            -1.3941569362992932
           ]
          },
          {
           "type": "scatter",
           "x": [
            -1.8292967055588791,
            -2.507725703893149
           ],
           "y": [
            -1.3941569362992932,
            -1.2217211679124544
           ]
          }
         ]
        },
        {
         "data": [
          {
           "type": "scatter",
           "x": [
            0,
            -1.8456748647651304
           ],
           "y": [
            0,
            -1.3724009230447989
           ]
          },
          {
           "type": "scatter",
           "x": [
            -1.8456748647651304,
            -2.5441939489469685
           ],
           "y": [
            -1.3724009230447989,
            -1.4179101422620777
           ]
          }
         ]
        },
        {
         "data": [
          {
           "type": "scatter",
           "x": [
            0,
            -1.8885070868883183
           ],
           "y": [
            0,
            -1.312836997792413
           ]
          },
          {
           "type": "scatter",
           "x": [
            -1.8885070868883183,
            -2.521669350055805
           ],
           "y": [
            -1.312836997792413,
            -1.6113425228679572
           ]
          }
         ]
        },
        {
         "data": [
          {
           "type": "scatter",
           "x": [
            0,
            -1.9409783182806757
           ],
           "y": [
            0,
            -1.2339380729859661
           ]
          },
          {
           "type": "scatter",
           "x": [
            -1.9409783182806757,
            -2.4026891216713535
           ],
           "y": [
            -1.2339380729859661,
            -1.7600779156441084
           ]
          }
         ]
        },
        {
         "data": [
          {
           "type": "scatter",
           "x": [
            0,
            -1.9691727229288192
           ],
           "y": [
            0,
            -1.1884270222748636
           ]
          },
          {
           "type": "scatter",
           "x": [
            -1.9691727229288192,
            -2.217301897566768
           ],
           "y": [
            -1.1884270222748636,
            -1.8429741272974818
           ]
          }
         ]
        },
        {
         "data": [
          {
           "type": "scatter",
           "x": [
            0,
            -1.9706250011095034
           ],
           "y": [
            0,
            -1.186017329132323
           ]
          },
          {
           "type": "scatter",
           "x": [
            -1.9706250011095034,
            -2.012606045915359
           ],
           "y": [
            -1.186017329132323,
            -1.8847573321928381
           ]
          }
         ]
        },
        {
         "data": [
          {
           "type": "scatter",
           "x": [
            0,
            -1.9508781522356398
           ],
           "y": [
            0,
            -1.2182259376362234
           ]
          },
          {
           "type": "scatter",
           "x": [
            -1.9508781522356398,
            -1.8056018083543206
           ],
           "y": [
            -1.2182259376362234,
            -1.9029848615711193
           ]
          }
         ]
        },
        {
         "data": [
          {
           "type": "scatter",
           "x": [
            0,
            -1.9120793947553236
           ],
           "y": [
            0,
            -1.278261470964417
           ]
          },
          {
           "type": "scatter",
           "x": [
            -1.9120793947553236,
            -1.6023939744097748
           ],
           "y": [
            -1.278261470964417,
            -1.906031285805335
           ]
          }
         ]
        },
        {
         "data": [
          {
           "type": "scatter",
           "x": [
            0,
            -1.854155886944885
           ],
           "y": [
            0,
            -1.3609209921621557
           ]
          },
          {
           "type": "scatter",
           "x": [
            -1.854155886944885,
            -1.406091694108242
           ],
           "y": [
            -1.3609209921621557,
            -1.8987299536881304
           ]
          }
         ]
        },
        {
         "data": [
          {
           "type": "scatter",
           "x": [
            0,
            -1.7760949323058657
           ],
           "y": [
            0,
            -1.4613304867268806
           ]
          },
          {
           "type": "scatter",
           "x": [
            -1.7760949323058657,
            -1.2186038579136764
           ],
           "y": [
            -1.4613304867268806,
            -1.8846550690192894
           ]
          }
         ]
        },
        {
         "data": [
          {
           "type": "scatter",
           "x": [
            0,
            -1.6768182380448968
           ],
           "y": [
            0,
            -1.57425556901032
           ]
          },
          {
           "type": "scatter",
           "x": [
            -1.6768182380448968,
            -1.040951284313848
           ],
           "y": [
            -1.57425556901032,
            -1.8669554445702459
           ]
          }
         ]
        },
        {
         "data": [
          {
           "type": "scatter",
           "x": [
            0,
            -1.5558758692565522
           ],
           "y": [
            0,
            -1.6938861471377489
           ]
          },
          {
           "type": "scatter",
           "x": [
            -1.5558758692565522,
            -0.8731772421889173
           ],
           "y": [
            -1.6938861471377489,
            -1.8485554220438092
           ]
          }
         ]
        },
        {
         "data": [
          {
           "type": "scatter",
           "x": [
            0,
            -1.4139823516114418
           ],
           "y": [
            0,
            -1.8140159617079934
           ]
          },
          {
           "type": "scatter",
           "x": [
            -1.4139823516114418,
            -0.7142133406390276
           ],
           "y": [
            -1.8140159617079934,
            -1.8319973766325546
           ]
          }
         ]
        },
        {
         "data": [
          {
           "type": "scatter",
           "x": [
            0,
            -1.2532973394847557
           ],
           "y": [
            0,
            -1.9285346195597404
           ]
          },
          {
           "type": "scatter",
           "x": [
            -1.2532973394847557,
            -0.5619052175199101
           ],
           "y": [
            -1.9285346195597404,
            -1.8190954415431455
           ]
          }
         ]
        },
        {
         "data": [
          {
           "type": "scatter",
           "x": [
            0,
            -1.0773525643696484
           ],
           "y": [
            0,
            -2.0320707300795764
           ]
          },
          {
           "type": "scatter",
           "x": [
            -1.0773525643696484,
            -0.41331013463123645
           ],
           "y": [
            -2.0320707300795764,
            -1.8106036862398525
           ]
          }
         ]
        },
        {
         "data": [
          {
           "type": "scatter",
           "x": [
            0,
            -0.8906358833178851
           ],
           "y": [
            0,
            -2.120558351790059
           ]
          },
          {
           "type": "scatter",
           "x": [
            -0.8906358833178851,
            -0.2652353895012177
           ],
           "y": [
            -2.120558351790059,
            -1.806115634695405
           ]
          }
         ]
        },
        {
         "data": [
          {
           "type": "scatter",
           "x": [
            0,
            -0.6979839086120819
           ],
           "y": [
            0,
            -2.1915333589335573
           ]
          },
          {
           "type": "scatter",
           "x": [
            -0.6979839086120819,
            -0.11483768285266727
           ],
           "y": [
            -2.1915333589335573,
            -1.804311872723727
           ]
          }
         ]
        },
        {
         "data": [
          {
           "type": "scatter",
           "x": [
            0,
            -0.5039885705613251
           ],
           "y": [
            0,
            -2.2441023864216962
           ]
          },
          {
           "type": "scatter",
           "x": [
            -0.5039885705613251,
            0.03993839407552213
           ],
           "y": [
            -2.2441023864216962,
            -1.8034852542752646
           ]
          }
         ]
        },
        {
         "data": [
          {
           "type": "scatter",
           "x": [
            0,
            -0.31255129532791043
           ],
           "y": [
            0,
            -2.278664452653976
           ]
          },
          {
           "type": "scatter",
           "x": [
            -0.31255129532791043,
            0.20020189794894255
           ],
           "y": [
            -2.278664452653976,
            -1.8021309671732701
           ]
          }
         ]
        },
        {
         "data": [
          {
           "type": "scatter",
           "x": [
            0,
            -0.1266083357993702
           ],
           "y": [
            0,
            -2.2965126451439613
           ]
          },
          {
           "type": "scatter",
           "x": [
            -0.1266083357993702,
            0.3662036789923804
           ],
           "y": [
            -2.2965126451439613,
            -1.799384575048442
           ]
          }
         ]
        },
        {
         "data": [
          {
           "type": "scatter",
           "x": [
            0,
            0.05199867909358975
           ],
           "y": [
            0,
            -2.2994121286477816
           ]
          },
          {
           "type": "scatter",
           "x": [
            0.05199867909358975,
            0.5375524275468581
           ],
           "y": [
            -2.2994121286477816,
            -1.795192377583843
           ]
          }
         ]
        },
        {
         "data": [
          {
           "type": "scatter",
           "x": [
            0,
            0.22251864354142553
           ],
           "y": [
            0,
            -2.289210661620394
           ]
          },
          {
           "type": "scatter",
           "x": [
            0.22251864354142553,
            0.7134457492137782
           ],
           "y": [
            -2.289210661620394,
            -1.7902211057014685
           ]
          }
         ]
        },
        {
         "data": [
          {
           "type": "scatter",
           "x": [
            0,
            0.38515556682854435
           ],
           "y": [
            0,
            -2.2675218167287787
           ]
          },
          {
           "type": "scatter",
           "x": [
            0.38515556682854435,
            0.8928518066495347
           ],
           "y": [
            -2.2675218167287787,
            -1.7856042635398257
           ]
          }
         ]
        },
        {
         "data": [
          {
           "type": "scatter",
           "x": [
            0,
            0.5408368032512579
           ],
           "y": [
            0,
            -2.235507895814497
           ]
          },
          {
           "type": "scatter",
           "x": [
            0.5408368032512579,
            1.0746198191972833
           ],
           "y": [
            -2.235507895814497,
            -1.7826550589153944
           ]
          }
         ]
        },
        {
         "data": [
          {
           "type": "scatter",
           "x": [
            0,
            0.6909613510376927
           ],
           "y": [
            0,
            -2.193757600869377
           ]
          },
          {
           "type": "scatter",
           "x": [
            0.6909613510376927,
            1.2575180221262214
           ],
           "y": [
            -2.193757600869377,
            -1.782645039099386
           ]
          }
         ]
        },
        {
         "data": [
          {
           "type": "scatter",
           "x": [
            0,
            0.8372087235376358
           ],
           "y": [
            0,
            -2.142214170719744
           ]
          },
          {
           "type": "scatter",
           "x": [
            0.8372087235376358,
            1.4401984670717949
           ],
           "y": [
            -2.142214170719744,
            -1.7866816557613947
           ]
          }
         ]
        },
        {
         "data": [
          {
           "type": "scatter",
           "x": [
            0,
            0.9814588526548923
           ],
           "y": [
            0,
            -2.080081373539348
           ]
          },
          {
           "type": "scatter",
           "x": [
            0.9814588526548923,
            1.6210719138031904
           ],
           "y": [
            -2.080081373539348,
            -1.7956606780748594
           ]
          }
         ]
        },
        {
         "data": [
          {
           "type": "scatter",
           "x": [
            0,
            1.1258482167842394
           ],
           "y": [
            0,
            -2.0056085841369318
           ]
          },
          {
           "type": "scatter",
           "x": [
            1.1258482167842394,
            1.798030611031248
           ],
           "y": [
            -2.0056085841369318,
            -1.8102350217894156
           ]
          }
         ]
        },
        {
         "data": [
          {
           "type": "scatter",
           "x": [
            0,
            1.2729953319960856
           ],
           "y": [
            0,
            -1.9155894353217169
           ]
          },
          {
           "type": "scatter",
           "x": [
            1.2729953319960856,
            1.9678278506478422
           ],
           "y": [
            -1.9155894353217169,
            -1.830690842729988
           ]
          }
         ]
        },
        {
         "data": [
          {
           "type": "scatter",
           "x": [
            0,
            1.4264495612994175
           ],
           "y": [
            0,
            -1.8042288239213724
           ]
          },
          {
           "type": "scatter",
           "x": [
            1.4264495612994175,
            2.1245035305425604
           ],
           "y": [
            -1.8042288239213724,
            -1.8563887321257906
           ]
          }
         ]
        },
        {
         "data": [
          {
           "type": "scatter",
           "x": [
            0,
            1.5909909167004783
           ],
           "y": [
            0,
            -1.6609478929143358
           ]
          },
          {
           "type": "scatter",
           "x": [
            1.5909909167004783,
            2.2547872152132555
           ],
           "y": [
            -1.6609478929143358,
            -1.883151569933272
           ]
          }
         ]
        },
        {
         "data": [
          {
           "type": "scatter",
           "x": [
            0,
            1.7665413393992881
           ],
           "y": [
            0,
            -1.4728651317053332
           ]
          },
          {
           "type": "scatter",
           "x": [
            1.7665413393992881,
            2.327512102237898
           ],
           "y": [
            -1.4728651317053332,
            -1.8915676552710121
           ]
          }
         ]
        },
        {
         "data": [
          {
           "type": "scatter",
           "x": [
            0,
            1.9224628099954497
           ],
           "y": [
            0,
            -1.2625912815255769
           ]
          },
          {
           "type": "scatter",
           "x": [
            1.9224628099954497,
            2.3170401215759076
           ],
           "y": [
            -1.2625912815255769,
            -1.8407856650904282
           ]
          }
         ]
        },
        {
         "data": [
          {
           "type": "scatter",
           "x": [
            0,
            2.03392072336781
           ],
           "y": [
            0,
            -1.0738558986451419
           ]
          },
          {
           "type": "scatter",
           "x": [
            2.03392072336781,
            2.2626922688022137
           ],
           "y": [
            -1.0738558986451419,
            -1.7354173697115534
           ]
          }
         ]
        },
        {
         "data": [
          {
           "type": "scatter",
           "x": [
            0,
            2.112453072902543
           ],
           "y": [
            0,
            -0.9096933630540585
           ]
          },
          {
           "type": "scatter",
           "x": [
            2.112453072902543,
            2.196945957372498
           ],
           "y": [
            -0.9096933630540585,
            -1.6045753332288117
           ]
          }
         ]
        },
        {
         "data": [
          {
           "type": "scatter",
           "x": [
            0,
            2.169523377479159
           ],
           "y": [
            0,
            -0.7636545780465296
           ]
          },
          {
           "type": "scatter",
           "x": [
            2.169523377479159,
            2.129008474162837
           ],
           "y": [
            -0.7636545780465296,
            -1.462481124915829
           ]
          }
         ]
        },
        {
         "data": [
          {
           "type": "scatter",
           "x": [
            0,
            2.2116018490502163
           ],
           "y": [
            0,
            -0.6315198027597103
           ]
          },
          {
           "type": "scatter",
           "x": [
            2.2116018490502163,
            2.0614701891454597
           ],
           "y": [
            -0.6315198027597103,
            -1.315230622254504
           ]
          }
         ]
        },
        {
         "data": [
          {
           "type": "scatter",
           "x": [
            0,
            2.242536380108921
           ],
           "y": [
            0,
            -0.510911522563326
           ]
          },
          {
           "type": "scatter",
           "x": [
            2.242536380108921,
            1.9952223356676295
           ],
           "y": [
            -0.510911522563326,
            -1.1657670512275429
           ]
          }
         ]
        },
        {
         "data": [
          {
           "type": "scatter",
           "x": [
            0,
            2.2648545319912516
           ],
           "y": [
            0,
            -0.40054206885006194
           ]
          },
          {
           "type": "scatter",
           "x": [
            2.2648545319912516,
            1.9306839116526553
           ],
           "y": [
            -0.40054206885006194,
            -1.0156274259367981
           ]
          }
         ]
        },
        {
         "data": [
          {
           "type": "scatter",
           "x": [
            0,
            2.2803748689034933
           ],
           "y": [
            0,
            -0.2998173732013782
           ]
          },
          {
           "type": "scatter",
           "x": [
            2.2803748689034933,
            1.8682030578473385
           ],
           "y": [
            -0.2998173732013782,
            -0.8656039037680658
           ]
          }
         ]
        },
        {
         "data": [
          {
           "type": "scatter",
           "x": [
            0,
            2.29051686941946
           ],
           "y": [
            0,
            -0.20864436466119488
           ]
          },
          {
           "type": "scatter",
           "x": [
            2.29051686941946,
            1.8082628683126871
           ],
           "y": [
            -0.20864436466119488,
            -0.7160210279169149
           ]
          }
         ]
        },
        {
         "data": [
          {
           "type": "scatter",
           "x": [
            0,
            2.2964729028565793
           ],
           "y": [
            0,
            -0.12732716303081587
           ]
          },
          {
           "type": "scatter",
           "x": [
            2.2964729028565793,
            1.7516713345607797
           ],
           "y": [
            -0.12732716303081587,
            -0.566862430310288
           ]
          }
         ]
        },
        {
         "data": [
          {
           "type": "scatter",
           "x": [
            0,
            2.299306979017076
           ],
           "y": [
            0,
            -0.056457207187096924
           ]
          },
          {
           "type": "scatter",
           "x": [
            2.299306979017076,
            1.6998135788767978
           ],
           "y": [
            -0.056457207187096924,
            -0.4178540295143672
           ]
          }
         ]
        },
        {
         "data": [
          {
           "type": "scatter",
           "x": [
            0,
            2.299997563489283
           ],
           "y": [
            0,
            0.003347826662455116
           ]
          },
          {
           "type": "scatter",
           "x": [
            2.299997563489283,
            1.654985014548444
           ],
           "y": [
            0.003347826662455116,
            -0.2686058673901198
           ]
          }
         ]
        },
        {
         "data": [
          {
           "type": "scatter",
           "x": [
            0,
            2.2994099754944397
           ],
           "y": [
            0,
            0.05209380574174999
           ]
          },
          {
           "type": "scatter",
           "x": [
            2.2994099754944397,
            1.6206328831845642
           ],
           "y": [
            0.05209380574174999,
            -0.11896658989485201
           ]
          }
         ]
        },
        {
         "data": [
          {
           "type": "scatter",
           "x": [
            0,
            2.2981784819679767
           ],
           "y": [
            0,
            0.0915186594054194
           ]
          },
          {
           "type": "scatter",
           "x": [
            2.2981784819679767,
            1.6008585051305166
           ],
           "y": [
            0.0915186594054194,
            0.030323480645943
           ]
          }
         ]
        },
        {
         "data": [
          {
           "type": "scatter",
           "x": [
            0,
            2.2965639488679934
           ],
           "y": [
            0,
            0.12567429633718832
           ]
          },
          {
           "type": "scatter",
           "x": [
            2.2965639488679934,
            1.5984618733496379
           ],
           "y": [
            0.12567429633718832,
            0.1771863547018468
           ]
          }
         ]
        },
        {
         "data": [
          {
           "type": "scatter",
           "x": [
            0,
            2.2944715654449683
           ],
           "y": [
            0,
            0.15937451290753696
           ]
          },
          {
           "type": "scatter",
           "x": [
            2.2944715654449683,
            1.6129030629772543
           ],
           "y": [
            0.15937451290753696,
            0.3189501264702546
           ]
          }
         ]
        },
        {
         "data": [
          {
           "type": "scatter",
           "x": [
            0,
            2.2916521255683775
           ],
           "y": [
            0,
            0.19578185661070804
           ]
          },
          {
           "type": "scatter",
           "x": [
            2.2916521255683775,
            1.6409082298599453
           ],
           "y": [
            0.19578185661070804,
            0.4537205745229541
           ]
          }
         ]
        },
        {
         "data": [
          {
           "type": "scatter",
           "x": [
            0,
            2.2878704561383865
           ],
           "y": [
            0,
            0.23589992778534627
           ]
          },
          {
           "type": "scatter",
           "x": [
            2.2878704561383865,
            1.678721117778724
           ],
           "y": [
            0.23589992778534627,
            0.5807724891409656
           ]
          }
         ]
        },
        {
         "data": [
          {
           "type": "scatter",
           "x": [
            0,
            2.2829531073616067
           ],
           "y": [
            0,
            0.2795086932243496
           ]
          },
          {
           "type": "scatter",
           "x": [
            2.2829531073616067,
            1.72338762429482
           ],
           "y": [
            0.2795086932243496,
            0.7000874256398553
           ]
          }
         ]
        },
        {
         "data": [
          {
           "type": "scatter",
           "x": [
            0,
            2.2767790562600436
           ],
           "y": [
            0,
            0.32600173155310885
           ]
          },
          {
           "type": "scatter",
           "x": [
            2.2767790562600436,
            1.7728853440152565
           ],
           "y": [
            0.32600173155310885,
            0.8118938252942682
           ]
          }
         ]
        },
        {
         "data": [
          {
           "type": "scatter",
           "x": [
            0,
            2.269261190284665
           ],
           "y": [
            0,
            0.374771464052192
           ]
          },
          {
           "type": "scatter",
           "x": [
            2.269261190284665,
            1.82587414524736
           ],
           "y": [
            0.374771464052192,
            0.9164428850198176
           ]
          }
         ]
        },
        {
         "data": [
          {
           "type": "scatter",
           "x": [
            0,
            2.260330458511959
           ],
           "y": [
            0,
            0.42533071641149633
           ]
          },
          {
           "type": "scatter",
           "x": [
            2.260330458511959,
            1.8814506119050325
           ],
           "y": [
            0.42533071641149633,
            1.0139308029177012
           ]
          }
         ]
        },
        {
         "data": [
          {
           "type": "scatter",
           "x": [
            0,
            2.2499230838123547
           ],
           "y": [
            0,
            0.4773322919395899
           ]
          },
          {
           "type": "scatter",
           "x": [
            2.2499230838123547,
            1.9389793296669526
           ],
           "y": [
            0.4773322919395899,
            1.104479787954653
           ]
          }
         ]
        },
        {
         "data": [
          {
           "type": "scatter",
           "x": [
            0,
            2.2379693951594786
           ],
           "y": [
            0,
            0.5305591261391296
           ]
          },
          {
           "type": "scatter",
           "x": [
            2.2379693951594786,
            1.997986115063221
           ],
           "y": [
            0.5305591261391296,
            1.1881365172302778
           ]
          }
         ]
        },
        {
         "data": [
          {
           "type": "scatter",
           "x": [
            0,
            2.224382780901542
           ],
           "y": [
            0,
            0.584911312960111
           ]
          },
          {
           "type": "scatter",
           "x": [
            2.224382780901542,
            2.0580894057107413
           ],
           "y": [
            0.584911312960111,
            1.2648719834166098
           ]
          }
         ]
        },
        {
         "data": [
          {
           "type": "scatter",
           "x": [
            0,
            2.2090472457628407
           ],
           "y": [
            0,
            0.6403985212253436
           ]
          },
          {
           "type": "scatter",
           "x": [
            2.2090472457628407,
            2.118952008887114
           ],
           "y": [
            0.6403985212253436,
            1.3345763430349336
           ]
          }
         ]
        },
        {
         "data": [
          {
           "type": "scatter",
           "x": [
            0,
            2.1918018195974502
           ],
           "y": [
            0,
            0.6971404332050356
           ]
          },
          {
           "type": "scatter",
           "x": [
            2.1918018195974502,
            2.1802404632896644
           ],
           "y": [
            0.6971404332050356,
            1.3970449517219004
           ]
          }
         ]
        },
        {
         "data": [
          {
           "type": "scatter",
           "x": [
            0,
            2.172419611594454
           ],
           "y": [
            0,
            0.7553760859067503
           ]
          },
          {
           "type": "scatter",
           "x": [
            2.172419611594454,
            2.2415807035696504
           ],
           "y": [
            0.7553760859067503,
            1.4519510950456072
           ]
          }
         ]
        },
        {
         "data": [
          {
           "type": "scatter",
           "x": [
            0,
            2.150578892025786
           ],
           "y": [
            0,
            0.8154817160262654
           ]
          },
          {
           "type": "scatter",
           "x": [
            2.150578892025786,
            2.3024955450651325
           ],
           "y": [
            0.8154817160262654,
            1.4987981365294776
           ]
          }
         ]
        },
        {
         "data": [
          {
           "type": "scatter",
           "x": [
            0,
            2.125824579100956
           ],
           "y": [
            0,
            0.8779919469392891
           ]
          },
          {
           "type": "scatter",
           "x": [
            2.125824579100956,
            2.362299116412939
           ],
           "y": [
            0.8779919469392891,
            1.5368392685571912
           ]
          }
         ]
        },
        {
         "data": [
          {
           "type": "scatter",
           "x": [
            0,
            2.0975267290669013
           ],
           "y": [
            0,
            0.9436003501747465
           ]
          },
          {
           "type": "scatter",
           "x": [
            2.0975267290669013,
            2.4199002887810708
           ],
           "y": [
            0.9436003501747465,
            1.5649499200605033
           ]
          }
         ]
        },
        {
         "data": [
          {
           "type": "scatter",
           "x": [
            0,
            2.064879955199332
           ],
           "y": [
            0,
            1.013050231042866
           ]
          },
          {
           "type": "scatter",
           "x": [
            2.064879955199332,
            2.4734304726432508
           ],
           "y": [
            1.013050231042866,
            1.5814571932594683
           ]
          }
         ]
        },
        {
         "data": [
          {
           "type": "scatter",
           "x": [
            0,
            2.0271159329752133
           ],
           "y": [
            0,
            1.0866466740748941
           ]
          },
          {
           "type": "scatter",
           "x": [
            2.0271159329752133,
            2.519633210568278
           ],
           "y": [
            1.0866466740748941,
            1.5840667493355494
           ]
          }
         ]
        },
        {
         "data": [
          {
           "type": "scatter",
           "x": [
            0,
            1.9843289881020134
           ],
           "y": [
            0,
            1.1629438795479505
           ]
          },
          {
           "type": "scatter",
           "x": [
            1.9843289881020134,
            2.5534590354215987
           ],
           "y": [
            1.1629438795479505,
            1.5704865021507977
           ]
          }
         ]
        },
        {
         "data": [
          {
           "type": "scatter",
           "x": [
            0,
            1.9388098899396238
           ],
           "y": [
            0,
            1.2373423983167724
           ]
          },
          {
           "type": "scatter",
           "x": [
            1.9388098899396238,
            2.5697495069960876
           ],
           "y": [
            1.2373423983167724,
            1.5405175945790037
           ]
          }
         ]
        },
        {
         "data": [
          {
           "type": "scatter",
           "x": [
            0,
            1.8946106739724156
           ],
           "y": [
            0,
            1.3040131878435082
           ]
          },
          {
           "type": "scatter",
           "x": [
            1.8946106739724156,
            2.567333375433153
           ],
           "y": [
            1.3040131878435082,
            1.4975181411118095
           ]
          }
         ]
        },
        {
         "data": [
          {
           "type": "scatter",
           "x": [
            0,
            1.854871469267627
           ],
           "y": [
            0,
            1.3599455255623123
           ]
          },
          {
           "type": "scatter",
           "x": [
            1.854871469267627,
            2.549560188696283
           ],
           "y": [
            1.3599455255623123,
            1.4460128428120875
           ]
          }
         ]
        },
        {
         "data": [
          {
           "type": "scatter",
           "x": [
            0,
            1.8208726777372362
           ],
           "y": [
            0,
            1.4051415200861537
           ]
          },
          {
           "type": "scatter",
           "x": [
            1.8208726777372362,
            2.5206888215107
           ],
           "y": [
            1.4051415200861537,
            1.3890989232253557
           ]
          }
         ]
        },
        {
         "data": [
          {
           "type": "scatter",
           "x": [
            0,
            1.7929083080343644
           ],
           "y": [
            0,
            1.4406525601203615
           ]
          },
          {
           "type": "scatter",
           "x": [
            1.7929083080343644,
            2.483846685891835
           ],
           "y": [
            1.4406525601203615,
            1.3283843188244049
           ]
          }
         ]
        },
        {
         "data": [
          {
           "type": "scatter",
           "x": [
            0,
            1.7710057880890464
           ],
           "y": [
            0,
            1.4674939517950643
           ]
          },
          {
           "type": "scatter",
           "x": [
            1.7710057880890464,
            2.440984889517436
           ],
           "y": [
            1.4674939517950643,
            1.264693548321088
           ]
          }
         ]
        },
        {
         "data": [
          {
           "type": "scatter",
           "x": [
            0,
            1.7551958045475824
           ],
           "y": [
            0,
            1.4863672788710613
           ]
          },
          {
           "type": "scatter",
           "x": [
            1.7551958045475824,
            2.393279019905443
           ],
           "y": [
            1.4863672788710613,
            1.19853084914304
           ]
          }
         ]
        },
        {
         "data": [
          {
           "type": "scatter",
           "x": [
            0,
            1.745578577736952
           ],
           "y": [
            0,
            1.4976499687663467
           ]
          },
          {
           "type": "scatter",
           "x": [
            1.745578577736952,
            2.34144401210487
           ],
           "y": [
            1.4976499687663467,
            1.130302198764224
           ]
          }
         ]
        },
        {
         "data": [
          {
           "type": "scatter",
           "x": [
            0,
            1.7423246288404128
           ],
           "y": [
            0,
            1.501434276862
           ]
          },
          {
           "type": "scatter",
           "x": [
            1.7423246288404128,
            2.285929679141661
           ],
           "y": [
            1.501434276862,
            1.0604200488749913
           ]
          }
         ]
        },
        {
         "data": [
          {
           "type": "scatter",
           "x": [
            0,
            1.7456561921646394
           ],
           "y": [
            0,
            1.497559500907143
           ]
          },
          {
           "type": "scatter",
           "x": [
            1.7456561921646394,
            2.2270419121770537
           ],
           "y": [
            1.497559500907143,
            0.9893589611906554
           ]
          }
         ]
        },
        {
         "data": [
          {
           "type": "scatter",
           "x": [
            0,
            1.7558212385574377
           ],
           "y": [
            0,
            1.4856284118953247
           ]
          },
          {
           "type": "scatter",
           "x": [
            1.7558212385574377,
            2.1650255605272255
           ],
           "y": [
            1.4856284118953247,
            0.917691951645372
           ]
          }
         ]
        },
        {
         "data": [
          {
           "type": "scatter",
           "x": [
            0,
            1.7730610280487895
           ],
           "y": [
            0,
            1.4650100992193087
           ]
          },
          {
           "type": "scatter",
           "x": [
            1.7730610280487895,
            2.100131535217239
           ],
           "y": [
            1.4650100992193087,
            0.8461200578221529
           ]
          }
         ]
        },
        {
         "data": [
          {
           "type": "scatter",
           "x": [
            0,
            1.797568301757496
           ],
           "y": [
            0,
            1.4348338581580347
           ]
          },
          {
           "type": "scatter",
           "x": [
            1.797568301757496,
            2.0326830948833607
           ],
           "y": [
            1.4348338581580347,
            0.7755000776997741
           ]
          }
         ]
        },
        {
         "data": [
          {
           "type": "scatter",
           "x": [
            0,
            1.8294314118647481
           ],
           "y": [
            0,
            1.3939801681812238
           ]
          },
          {
           "type": "scatter",
           "x": [
            1.8294314118647481,
            1.9631533595352744
           ],
           "y": [
            1.3939801681812238,
            0.7068714135352063
           ]
          }
         ]
        },
        {
         "data": [
          {
           "type": "scatter",
           "x": [
            0,
            1.8685583276689446
           ],
           "y": [
            0,
            1.341077841178146
           ]
          },
          {
           "type": "scatter",
           "x": [
            1.8685583276689446,
            1.8922662804200892
           ],
           "y": [
            1.341077841178146,
            0.6414794328206446
           ]
          }
         ]
        },
        {
         "data": [
          {
           "type": "scatter",
           "x": [
            0,
            1.9145732630268621
           ],
           "y": [
            0,
            1.2745231345498098
           ]
          },
          {
           "type": "scatter",
           "x": [
            1.9145732630268621,
            1.821135489910899
           ],
           "y": [
            1.2745231345498098,
            0.580787318438857
           ]
          }
         ]
        },
        {
         "data": [
          {
           "type": "scatter",
           "x": [
            0,
            1.9666782413441306
           ],
           "y": [
            0,
            1.1925504999888084
           ]
          },
          {
           "type": "scatter",
           "x": [
            1.9666782413441306,
            1.751457741475483
           ],
           "y": [
            1.1925504999888084,
            0.5264573109857309
           ]
          }
         ]
        },
        {
         "data": [
          {
           "type": "scatter",
           "x": [
            0,
            2.0234749149788818
           ],
           "y": [
            0,
            1.09341175613362
           ]
          },
          {
           "type": "scatter",
           "x": [
            2.0234749149788818,
            1.685772687714738
           ],
           "y": [
            1.09341175613362,
            0.4802582633597172
           ]
          }
         ]
        },
        {
         "data": [
          {
           "type": "scatter",
           "x": [
            0,
            2.0827581254815692
           ],
           "y": [
            0,
            0.9757656433491078
           ]
          },
          {
           "type": "scatter",
           "x": [
            2.0827581254815692,
            1.627761708816505
           ],
           "y": [
            0.9757656433491078,
            0.4438086330353501
           ]
          }
         ]
        },
        {
         "data": [
          {
           "type": "scatter",
           "x": [
            0,
            2.1413510928803783
           ],
           "y": [
            0,
            0.8394137817667807
           ]
          },
          {
           "type": "scatter",
           "x": [
            2.1413510928803783,
            1.5824128249196963
           ],
           "y": [
            0.8394137817667807,
            0.41800185430255626
           ]
          }
         ]
        },
        {
         "data": [
          {
           "type": "scatter",
           "x": [
            0,
            2.1951999262548076
           ],
           "y": [
            0,
            0.6863652699334998
           ]
          },
          {
           "type": "scatter",
           "x": [
            2.1951999262548076,
            1.5555504819145314
           ],
           "y": [
            0.6863652699334998,
            0.4020264080887357
           ]
          }
         ]
        },
        {
         "data": [
          {
           "type": "scatter",
           "x": [
            0,
            2.2400882971234726
           ],
           "y": [
            0,
            0.5215404309259829
           ]
          },
          {
           "type": "scatter",
           "x": [
            2.2400882971234726,
            1.5520918752983421
           ],
           "y": [
            0.5215404309259829,
            0.39246323094156615
           ]
          }
         ]
        },
        {
         "data": [
          {
           "type": "scatter",
           "x": [
            0,
            2.2729343366572095
           ],
           "y": [
            0,
            0.3518088987570543
           ]
          },
          {
           "type": "scatter",
           "x": [
            2.2729343366572095,
            1.5736631493974178
           ],
           "y": [
            0.3518088987570543,
            0.38374331073350015
           ]
          }
         ]
        },
        {
         "data": [
          {
           "type": "scatter",
           "x": [
            0,
            2.2926623302914093
           ],
           "y": [
            0,
            0.1835740702353282
           ]
          },
          {
           "type": "scatter",
           "x": [
            2.2926623302914093,
            1.6180020945447917
           ],
           "y": [
            0.1835740702353282,
            0.3702115967467947
           ]
          }
         ]
        },
        {
         "data": [
          {
           "type": "scatter",
           "x": [
            0,
            2.299902263211737
           ],
           "y": [
            0,
            0.021203293931117615
           ]
          },
          {
           "type": "scatter",
           "x": [
            2.299902263211737,
            1.6807706626220433
           ],
           "y": [
            0.021203293931117615,
            0.347816308294054
           ]
          }
         ]
        },
        {
         "data": [
          {
           "type": "scatter",
           "x": [
            0,
            2.2961614999125133
           ],
           "y": [
            0,
            -0.13282456971327775
           ]
          },
          {
           "type": "scatter",
           "x": [
            2.2961614999125133,
            1.757529155024214
           ],
           "y": [
            -0.13282456971327775,
            0.3142494700610443
           ]
          }
         ]
        },
        {
         "data": [
          {
           "type": "scatter",
           "x": [
            0,
            2.2832407444651333
           ],
           "y": [
            0,
            -0.27714924285356257
           ]
          },
          {
           "type": "scatter",
           "x": [
            2.2832407444651333,
            1.8445575567424481
           ],
           "y": [
            -0.27714924285356257,
            0.26833866792857686
           ]
          }
         ]
        },
        {
         "data": [
          {
           "type": "scatter",
           "x": [
            0,
            2.26298967476207
           ],
           "y": [
            0,
            -0.4109473590622769
           ]
          },
          {
           "type": "scatter",
           "x": [
            2.26298967476207,
            1.9388904883358424
           ],
           "y": [
            -0.4109473590622769,
            0.20950386171003926
           ]
          }
         ]
        },
        {
         "data": [
          {
           "type": "scatter",
           "x": [
            0,
            2.237239061081399
           ],
           "y": [
            0,
            -0.5336303810425531
           ]
          },
          {
           "type": "scatter",
           "x": [
            2.237239061081399,
            2.03811443273191
           ],
           "y": [
            -0.5336303810425531,
            0.1374503759343385
           ]
          }
         ]
        },
        {
         "data": [
          {
           "type": "scatter",
           "x": [
            0,
            2.207794952629723
           ],
           "y": [
            0,
            -0.644702603641958
           ]
          },
          {
           "type": "scatter",
           "x": [
            2.207794952629723,
            2.1401599206416417
           ],
           "y": [
            -0.644702603641958,
            0.052022236196533234
           ]
          }
         ]
        },
        {
         "data": [
          {
           "type": "scatter",
           "x": [
            0,
            2.176450579153574
           ],
           "y": [
            0,
            -0.7436819726886427
           ]
          },
          {
           "type": "scatter",
           "x": [
            2.176450579153574,
            2.2431348395966717
           ],
           "y": [
            -0.7436819726886427,
            -0.046865490816150546
           ]
          }
         ]
        },
        {
         "data": [
          {
           "type": "scatter",
           "x": [
            0,
            2.1450062162715344
           ],
           "y": [
            0,
            -0.8300291152462516
           ]
          },
          {
           "type": "scatter",
           "x": [
            2.1450062162715344,
            2.345183130322012
           ],
           "y": [
            -0.8300291152462516,
            -0.159261492979622
           ]
          }
         ]
        },
        {
         "data": [
          {
           "type": "scatter",
           "x": [
            0,
            2.1153012864301
           ],
           "y": [
            0,
            -0.9030506451064422
           ]
          },
          {
           "type": "scatter",
           "x": [
            2.1153012864301,
            2.4443335333059575
           ],
           "y": [
            -0.9030506451064422,
            -0.2852013264891722
           ]
          }
         ]
        },
        {
         "data": [
          {
           "type": "scatter",
           "x": [
            0,
            2.0892704139269678
           ],
           "y": [
            0,
            -0.9617427605599306
           ]
          },
          {
           "type": "scatter",
           "x": [
            2.0892704139269678,
            2.5382817625642415
           ],
           "y": [
            -0.9617427605599306,
            -0.4247243169335161
           ]
          }
         ]
        },
        {
         "data": [
          {
           "type": "scatter",
           "x": [
            0,
            2.06904249238085
           ],
           "y": [
            0,
            -1.0045213610085355
           ]
          },
          {
           "type": "scatter",
           "x": [
            2.06904249238085,
            2.6239919361371196
           ],
           "y": [
            -1.0045213610085355,
            -0.5778703152174736
           ]
          }
         ]
        },
        {
         "data": [
          {
           "type": "scatter",
           "x": [
            0,
            2.0571051191650733
           ],
           "y": [
            0,
            -1.0287460953533916
           ]
          },
          {
           "type": "scatter",
           "x": [
            2.0571051191650733,
            2.6968312176419635
           ],
           "y": [
            -1.0287460953533916,
            -0.7445797375142975
           ]
          }
         ]
        },
        {
         "data": [
          {
           "type": "scatter",
           "x": [
            0,
            2.0564814172229604
           ],
           "y": [
            0,
            -1.029992320659064
           ]
          },
          {
           "type": "scatter",
           "x": [
            2.0564814172229604,
            2.748429544640207
           ],
           "y": [
            -1.029992320659064,
            -0.924125475217415
           ]
          }
         ]
        },
        {
         "data": [
          {
           "type": "scatter",
           "x": [
            0,
            2.070059224890698
           ],
           "y": [
            0,
            -1.0024244637103192
           ]
          },
          {
           "type": "scatter",
           "x": [
            2.070059224890698,
            2.761393745931445
           ],
           "y": [
            -1.0024244637103192,
            -1.112226922778234
           ]
          }
         ]
        },
        {
         "data": [
          {
           "type": "scatter",
           "x": [
            0,
            2.0942492928916945
           ],
           "y": [
            0,
            -0.9508521963074164
           ]
          },
          {
           "type": "scatter",
           "x": [
            2.0942492928916945,
            2.7059464789158163
           ],
           "y": [
            -0.9508521963074164,
            -1.2911851988360734
           ]
          }
         ]
        },
        {
         "data": [
          {
           "type": "scatter",
           "x": [
            0,
            2.111927763590493
           ],
           "y": [
            0,
            -0.9109122468029826
           ]
          },
          {
           "type": "scatter",
           "x": [
            2.111927763590493,
            2.576930159177349
           ],
           "y": [
            -0.9109122468029826,
            -1.4341452466209272
           ]
          }
         ]
        },
        {
         "data": [
          {
           "type": "scatter",
           "x": [
            0,
            2.113669962848584
           ],
           "y": [
            0,
            -0.906862331421734
           ]
          },
          {
           "type": "scatter",
           "x": [
            2.113669962848584,
            2.40982249361552
           ],
           "y": [
            -0.906862331421734,
            -1.5411285834960022
           ]
          }
         ]
        },
        {
         "data": [
          {
           "type": "scatter",
           "x": [
            0,
            2.1007543299196474
           ],
           "y": [
            0,
            -0.9363926768849982
           ]
          },
          {
           "type": "scatter",
           "x": [
            2.1007543299196474,
            2.228975082417894
           ],
           "y": [
            -0.9363926768849982,
            -1.6245492278447222
           ]
          }
         ]
        },
        {
         "data": [
          {
           "type": "scatter",
           "x": [
            0,
            2.074495001707881
           ],
           "y": [
            0,
            -0.9932122068767666
           ]
          },
          {
           "type": "scatter",
           "x": [
            2.074495001707881,
            2.0441941504514194
           ],
           "y": [
            -0.9932122068767666,
            -1.6925560839595175
           ]
          }
         ]
        },
        {
         "data": [
          {
           "type": "scatter",
           "x": [
            0,
            2.03481869295024
           ],
           "y": [
            0,
            -1.072153387729702
           ]
          },
          {
           "type": "scatter",
           "x": [
            2.03481869295024,
            1.8598862182227367
           ],
           "y": [
            -1.072153387729702,
            -1.7499429046785195
           ]
          }
         ]
        },
        {
         "data": [
          {
           "type": "scatter",
           "x": [
            0,
            1.9809167473404083
           ],
           "y": [
            0,
            -1.168746696297489
           ]
          },
          {
           "type": "scatter",
           "x": [
            1.9809167473404083,
            1.6783857808365878
           ],
           "y": [
            -1.168746696297489,
            -1.79999547000423
           ]
          }
         ]
        },
        {
         "data": [
          {
           "type": "scatter",
           "x": [
            0,
            1.9118286461941025
           ],
           "y": [
            0,
            -1.2786364720246424
           ]
          },
          {
           "type": "scatter",
           "x": [
            1.9118286461941025,
            1.5009370156923152
           ],
           "y": [
            -1.2786364720246424,
            -1.8453533925269179
           ]
          }
         ]
        },
        {
         "data": [
          {
           "type": "scatter",
           "x": [
            0,
            1.8268812969023316
           ],
           "y": [
            0,
            -1.397320552710957
           ]
          },
          {
           "type": "scatter",
           "x": [
            1.8268812969023316,
            1.3279788484765513
           ],
           "y": [
            -1.397320552710957,
            -1.88833618072575
           ]
          }
         ]
        },
        {
         "data": [
          {
           "type": "scatter",
           "x": [
            0,
            1.7260055705473687
           ],
           "y": [
            0,
            -1.5201660338395444
           ]
          },
          {
           "type": "scatter",
           "x": [
            1.7260055705473687,
            1.1592481977930105
           ],
           "y": [
            -1.5201660338395444,
            -1.931001865320414
           ]
          }
         ]
        },
        {
         "data": [
          {
           "type": "scatter",
           "x": [
            0,
            1.6099051715110808
           ],
           "y": [
            0,
            -1.642621483708854
           ]
          },
          {
           "type": "scatter",
           "x": [
            1.6099051715110808,
            0.9938931072344313
           ],
           "y": [
            -1.642621483708854,
            -1.9750807092773752
           ]
          }
         ]
        },
        {
         "data": [
          {
           "type": "scatter",
           "x": [
            0,
            1.480045500259537
           ],
           "y": [
            0,
            -1.760529839895222
           ]
          },
          {
           "type": "scatter",
           "x": [
            1.480045500259537,
            0.8306666583124999
           ],
           "y": [
            -1.760529839895222,
            -2.0218861477041687
           ]
          }
         ]
        },
        {
         "data": [
          {
           "type": "scatter",
           "x": [
            0,
            1.338462828358079
           ],
           "y": [
            0,
            -1.870432371700108
           ]
          },
          {
           "type": "scatter",
           "x": [
            1.338462828358079,
            0.6681956748826178
           ],
           "y": [
            -1.870432371700108,
            -2.0722787067470994
           ]
          }
         ]
        },
        {
         "data": [
          {
           "type": "scatter",
           "x": [
            0,
            1.1874432705311837
           ],
           "y": [
            0,
            -1.9697660976040292
           ]
          },
          {
           "type": "scatter",
           "x": [
            1.1874432705311837,
            0.5052652407308994
           ],
           "y": [
            -1.9697660976040292,
            -2.126715566089279
           ]
          }
         ]
        },
        {
         "data": [
          {
           "type": "scatter",
           "x": [
            0,
            1.029156225399011
           ],
           "y": [
            0,
            -2.056899964442233
           ]
          },
          {
           "type": "scatter",
           "x": [
            1.029156225399011,
            0.34104547786733796
           ],
           "y": [
            -2.056899964442233,
            -2.1853662990649743
           ]
          }
         ]
        },
        {
         "data": [
          {
           "type": "scatter",
           "x": [
            0,
            0.865328352073185
           ],
           "y": [
            0,
            -2.1310107562136578
           ]
          },
          {
           "type": "scatter",
           "x": [
            0.865328352073185,
            0.17521454019020266
           ],
           "y": [
            -2.1310107562136578,
            -2.2482409854565435
           ]
          }
         ]
        },
        {
         "data": [
          {
           "type": "scatter",
           "x": [
            0,
            0.6970121520899512
           ],
           "y": [
            0,
            -2.1918426174885215
           ]
          },
          {
           "type": "scatter",
           "x": [
            0.6970121520899512,
            0.007981007913650084
           ],
           "y": [
            -2.1918426174885215,
            -2.315277144080951
           ]
          }
         ]
        },
        {
         "data": [
          {
           "type": "scatter",
           "x": [
            0,
            0.5244533080231839
           ],
           "y": [
            0,
            -2.239408119951238
           ]
          },
          {
           "type": "scatter",
           "x": [
            0.5244533080231839,
            -0.15994886861098012
           ],
           "y": [
            -2.239408119951238,
            -2.386355935921461
           ]
          }
         ]
        },
        {
         "data": [
          {
           "type": "scatter",
           "x": [
            0,
            0.34701087702593153
           ],
           "y": [
            0,
            -2.2736717993645637
           ]
          },
          {
           "type": "scatter",
           "x": [
            0.34701087702593153,
            -0.32739198152748933
           ],
           "y": [
            -2.2736717993645637,
            -2.461237212953995
           ]
          }
         ]
        },
        {
         "data": [
          {
           "type": "scatter",
           "x": [
            0,
            0.16304197931106115
           ],
           "y": [
            0,
            -2.2942138769047515
           ]
          },
          {
           "type": "scatter",
           "x": [
            0.16304197931106115,
            -0.4926175715360609
           ],
           "y": [
            -2.2942138769047515,
            -2.5393884134760487
           ]
          }
         ]
        },
        {
         "data": [
          {
           "type": "scatter",
           "x": [
            0,
            -0.030383341297900854
           ],
           "y": [
            0,
            -2.2997993070204137
           ]
          },
          {
           "type": "scatter",
           "x": [
            -0.030383341297900854,
            -0.6530641811170542
           ],
           "y": [
            -2.2997993070204137,
            -2.6195938844011346
           ]
          }
         ]
        },
        {
         "data": [
          {
           "type": "scatter",
           "x": [
            0,
            -0.23813514226060814
           ],
           "y": [
            0,
            -2.2876388819087072
           ]
          },
          {
           "type": "scatter",
           "x": [
            -0.23813514226060814,
            -0.804570691310133
           ],
           "y": [
            -2.2876388819087072,
            -2.698918310974839
           ]
          }
         ]
        },
        {
         "data": [
          {
           "type": "scatter",
           "x": [
            0,
            -0.4680293706235931
           ],
           "y": [
            0,
            -2.2518766636371725
           ]
          },
          {
           "type": "scatter",
           "x": [
            -0.4680293706235931,
            -0.9394214190220003
           ],
           "y": [
            -2.2518766636371725,
            -2.7693605152758045
           ]
          }
         ]
        },
        {
         "data": [
          {
           "type": "scatter",
           "x": [
            0,
            -0.7274276756576188
           ],
           "y": [
            0,
            -2.1819369781658113
           ]
          },
          {
           "type": "scatter",
           "x": [
            -0.7274276756576188,
            -1.0431357624088027
           ],
           "y": [
            -2.1819369781658113,
            -2.8066996562763933
           ]
          }
         ]
        },
        {
         "data": [
          {
           "type": "scatter",
           "x": [
            0,
            -0.9920946920300162
           ],
           "y": [
            0,
            -2.0750296677507687
           ]
          },
          {
           "type": "scatter",
           "x": [
            -0.9920946920300162,
            -1.1071556891217467
           ],
           "y": [
            -2.0750296677507687,
            -2.76550846318786
           ]
          }
         ]
        },
        {
         "data": [
          {
           "type": "scatter",
           "x": [
            0,
            -1.214362399587424
           ],
           "y": [
            0,
            -1.9532854278031853
           ]
          },
          {
           "type": "scatter",
           "x": [
            -1.214362399587424,
            -1.1556180083016772
           ],
           "y": [
            -1.9532854278031853,
            -2.6508161414584817
           ]
          }
         ]
        },
        {
         "data": [
          {
           "type": "scatter",
           "x": [
            0,
            -1.3938538114880659
           ],
           "y": [
            0,
            -1.8295276855517082
           ]
          },
          {
           "type": "scatter",
           "x": [
            -1.3938538114880659,
            -1.2058065624547878
           ],
           "y": [
            -1.8295276855517082,
            -2.503796350203282
           ]
          }
         ]
        },
        {
         "data": [
          {
           "type": "scatter",
           "x": [
            0,
            -1.5436531694462836
           ],
           "y": [
            0,
            -1.7050322262228481
           ]
          },
          {
           "type": "scatter",
           "x": [
            -1.5436531694462836,
            -1.259978659981711
           ],
           "y": [
            -1.7050322262228481,
            -2.3449765774597617
           ]
          }
         ]
        },
        {
         "data": [
          {
           "type": "scatter",
           "x": [
            0,
            -1.6721915643186662
           ],
           "y": [
            0,
            -1.5791692031639584
           ]
          },
          {
           "type": "scatter",
           "x": [
            -1.6721915643186662,
            -1.3173364699287817
           ],
           "y": [
            -1.5791692031639584,
            -2.1825578523657363
           ]
          }
         ]
        },
        {
         "data": [
          {
           "type": "scatter",
           "x": [
            0,
            -1.7843652992339833
           ],
           "y": [
            0,
            -1.4512203412609734
           ]
          },
          {
           "type": "scatter",
           "x": [
            -1.7843652992339833,
            -1.3768132870949976
           ],
           "y": [
            -1.4512203412609734,
            -2.020343664804706
           ]
          }
         ]
        },
        {
         "data": [
          {
           "type": "scatter",
           "x": [
            0,
            -1.8831031444160549
           ],
           "y": [
            0,
            -1.3205765966010328
           ]
          },
          {
           "type": "scatter",
           "x": [
            -1.8831031444160549,
            -1.437449135138066
           ],
           "y": [
            -1.3205765966010328,
            -1.860384436498208
           ]
          }
         ]
        },
        {
         "data": [
          {
           "type": "scatter",
           "x": [
            0,
            -1.9701754216969658
           ],
           "y": [
            0,
            -1.186764006760056
           ]
          },
          {
           "type": "scatter",
           "x": [
            -1.9701754216969658,
            -1.4984210563908447
           ],
           "y": [
            -1.186764006760056,
            -1.7039175804831994
           ]
          }
         ]
        },
        {
         "data": [
          {
           "type": "scatter",
           "x": [
            0,
            -2.0466075481485433
           ],
           "y": [
            0,
            -1.049474889581169
           ]
          },
          {
           "type": "scatter",
           "x": [
            -2.0466075481485433,
            -1.5590410755051693
           ],
           "y": [
            -1.049474889581169,
            -1.5517486543291379
           ]
          }
         ]
        },
        {
         "data": [
          {
           "type": "scatter",
           "x": [
            0,
            -2.1129155838135905
           ],
           "y": [
            0,
            -0.9086185864694122
           ]
          },
          {
           "type": "scatter",
           "x": [
            -2.1129155838135905,
            -1.618767982632768
           ],
           "y": [
            -0.9086185864694122,
            -1.4044190990218288
           ]
          }
         ]
        },
        {
         "data": [
          {
           "type": "scatter",
           "x": [
            0,
            -2.1692674539551553
           ],
           "y": [
            0,
            -0.7643812616822293
           ]
          },
          {
           "type": "scatter",
           "x": [
            -2.1692674539551553,
            -1.6772329708852698
           ],
           "y": [
            -0.7643812616822293,
            -1.2622789092667006
           ]
          }
         ]
        },
        {
         "data": [
          {
           "type": "scatter",
           "x": [
            0,
            -2.2156190030234963
           ],
           "y": [
            0,
            -0.6172782463696302
           ]
          },
          {
           "type": "scatter",
           "x": [
            -2.2156190030234963,
            -1.7342672046780918
           ],
           "y": [
            -0.6172782463696302,
            -1.1255109157540815
           ]
          }
         ]
        },
        {
         "data": [
          {
           "type": "scatter",
           "x": [
            0,
            -2.2518449821328033
           ],
           "y": [
            0,
            -0.46818177713716563
           ]
          },
          {
           "type": "scatter",
           "x": [
            -2.2518449821328033,
            -1.7899152081216247
           ],
           "y": [
            -0.46818177713716563,
            -0.994129382780524
           ]
          }
         ]
        },
        {
         "data": [
          {
           "type": "scatter",
           "x": [
            0,
            -2.27786700250947
           ],
           "y": [
            0,
            -0.31831104108799024
           ]
          },
          {
           "type": "scatter",
           "x": [
            -2.27786700250947,
            -1.8444196131912747
           ],
           "y": [
            -0.31831104108799024,
            -0.8679685350724174
           ]
          }
         ]
        },
        {
         "data": [
          {
           "type": "scatter",
           "x": [
            0,
            -2.293769475944425
           ],
           "y": [
            0,
            -0.16917916900622357
           ]
          },
          {
           "type": "scatter",
           "x": [
            -2.293769475944425,
            -1.8981707001050074
           ],
           "y": [
            -0.16917916900622357,
            -0.7466751504245831
           ]
          }
         ]
        },
        {
         "data": [
          {
           "type": "scatter",
           "x": [
            0,
            -2.299889934228849
           ],
           "y": [
            0,
            -0.022500898489183747
           ]
          },
          {
           "type": "scatter",
           "x": [
            -2.299889934228849,
            -1.9516260736795188
           ],
           "y": [
            -0.022500898489183747,
            -0.6297177324416663
           ]
          }
         ]
        },
        {
         "data": [
          {
           "type": "scatter",
           "x": [
            0,
            -2.2968712314424744
           ],
           "y": [
            0,
            0.11992725366625479
           ]
          },
          {
           "type": "scatter",
           "x": [
            -2.2968712314424744,
            -2.0052168384952713
           ],
           "y": [
            0.11992725366625479,
            -0.5164199118610211
           ]
          }
         ]
        },
        {
         "data": [
          {
           "type": "scatter",
           "x": [
            0,
            -2.285668651579837
           ],
           "y": [
            0,
            0.2563568122465426
           ]
          },
          {
           "type": "scatter",
           "x": [
            -2.285668651579837,
            -2.0592618268799994
           ],
           "y": [
            0.2563568122465426,
            -0.40601766622416124
           ]
          }
         ]
        },
        {
         "data": [
          {
           "type": "scatter",
           "x": [
            0,
            -2.2675129869044115
           ],
           "y": [
            0,
            0.38520754694039266
           ]
          },
          {
           "type": "scatter",
           "x": [
            -2.2675129869044115,
            -2.1139085315880113
           ],
           "y": [
            0.38520754694039266,
            -0.29773144836369153
           ]
          }
         ]
        },
        {
         "data": [
          {
           "type": "scatter",
           "x": [
            0,
            -2.243838841363407
           ],
           "y": [
            0,
            0.5051606219698073
           ]
          },
          {
           "type": "scatter",
           "x": [
            -2.243838841363407,
            -2.169110145191914
           ],
           "y": [
            0.5051606219698073,
            -0.1908391064557925
           ]
          }
         ]
        },
        {
         "data": [
          {
           "type": "scatter",
           "x": [
            0,
            -2.2161932382760052
           ],
           "y": [
            0,
            0.6152134025033206
           ]
          },
          {
           "type": "scatter",
           "x": [
            -2.2161932382760052,
            -2.224636969634734
           ],
           "y": [
            0.6152134025033206,
            -0.08473566950173717
           ]
          }
         ]
        },
        {
         "data": [
          {
           "type": "scatter",
           "x": [
            0,
            -2.1861413466372723
           ],
           "y": [
            0,
            0.7146929498203907
           ]
          },
          {
           "type": "scatter",
           "x": [
            -2.1861413466372723,
            -2.2801120221870153
           ],
           "y": [
            0.7146929498203907,
            0.021029117595641522
           ]
          }
         ]
        },
        {
         "data": [
          {
           "type": "scatter",
           "x": [
            0,
            -2.155183720792588
           ],
           "y": [
            0,
            0.8032329236470668
           ]
          },
          {
           "type": "scatter",
           "x": [
            -2.155183720792588,
            -2.3350571797650783
           ],
           "y": [
            0.8032329236470668,
            0.12673788393334373
           ]
          }
         ]
        },
        {
         "data": [
          {
           "type": "scatter",
           "x": [
            0,
            -2.1246943430181995
           ],
           "y": [
            0,
            0.880723537068506
           ]
          },
          {
           "type": "scatter",
           "x": [
            -2.1246943430181995,
            -2.38893730278319
           ],
           "y": [
            0.880723537068506,
            0.23251395814002584
           ]
          }
         ]
        },
        {
         "data": [
          {
           "type": "scatter",
           "x": [
            0,
            -2.09588306098394
           ],
           "y": [
            0,
            0.9472455830884562
           ]
          },
          {
           "type": "scatter",
           "x": [
            -2.09588306098394,
            -2.4411933393967127
           ],
           "y": [
            0.9472455830884562,
            0.3383442679129236
           ]
          }
         ]
        },
        {
         "data": [
          {
           "type": "scatter",
           "x": [
            0,
            -2.0697813755151793
           ],
           "y": [
            0,
            1.002998034679277
           ]
          },
          {
           "type": "scatter",
           "x": [
            -2.0697813755151793,
            -2.4912591855982344
           ],
           "y": [
            1.002998034679277,
            0.4441094450591345
           ]
          }
         ]
        },
        {
         "data": [
          {
           "type": "scatter",
           "x": [
            0,
            -2.0472477538103373
           ],
           "y": [
            0,
            1.0482254693139865
           ]
          },
          {
           "type": "scatter",
           "x": [
            -2.0472477538103373,
            -2.538559413554364
           ],
           "y": [
            1.0482254693139865,
            0.5496145458480344
           ]
          }
         ]
        },
        {
         "data": [
          {
           "type": "scatter",
           "x": [
            0,
            -2.028987561735559
           ],
           "y": [
            0,
            1.0831479466455127
           ]
          },
          {
           "type": "scatter",
           "x": [
            -2.028987561735559,
            -2.582485045330236
           ],
           "y": [
            1.0831479466455127,
            0.6546149424855532
           ]
          }
         ]
        },
        {
         "data": [
          {
           "type": "scatter",
           "x": [
            0,
            -2.0155826420784306
           ],
           "y": [
            0,
            1.1078928707019162
           ]
          },
          {
           "type": "scatter",
           "x": [
            -2.0155826420784306,
            -2.6223416913718185
           ],
           "y": [
            1.1078928707019162,
            0.7588320506424542
           ]
          }
         ]
        },
        {
         "data": [
          {
           "type": "scatter",
           "x": [
            0,
            -2.0075251704425625
           ],
           "y": [
            0,
            1.1224271424193015
           ]
          },
          {
           "type": "scatter",
           "x": [
            -2.0075251704425625,
            -2.6572574436472087
           ],
           "y": [
            1.1224271424193015,
            0.8619507074845403
           ]
          }
         ]
        },
        {
         "data": [
          {
           "type": "scatter",
           "x": [
            0,
            -2.0052467203629063
           ],
           "y": [
            0,
            1.1264926056010347
           ]
          },
          {
           "type": "scatter",
           "x": [
            -2.0052467203629063,
            -2.6860253901363476
           ],
           "y": [
            1.1264926056010347,
            0.9635803507473746
           ]
          }
         ]
        },
        {
         "data": [
          {
           "type": "scatter",
           "x": [
            0,
            -2.009118256285115
           ],
           "y": [
            0,
            1.119573058027862
           ]
          },
          {
           "type": "scatter",
           "x": [
            -2.009118256285115,
            -2.7068394961144255
           ],
           "y": [
            1.119573058027862,
            1.0631366204095123
           ]
          }
         ]
        },
        {
         "data": [
          {
           "type": "scatter",
           "x": [
            0,
            -2.0193480894081888
           ],
           "y": [
            0,
            1.1010146655714883
           ]
          },
          {
           "type": "scatter",
           "x": [
            -2.0193480894081888,
            -2.716896792399937
           ],
           "y": [
            1.1010146655714883,
            1.1595450589968663
           ]
          }
         ]
        },
        {
         "data": [
          {
           "type": "scatter",
           "x": [
            0,
            -2.035598096430363
           ],
           "y": [
            0,
            1.0706728677841248
           ]
          },
          {
           "type": "scatter",
           "x": [
            -2.035598096430363,
            -2.7120716082120464
           ],
           "y": [
            1.0706728677841248,
            1.2506272727253673
           ]
          }
         ]
        },
        {
         "data": [
          {
           "type": "scatter",
           "x": [
            0,
            -2.0561818802164282
           ],
           "y": [
            0,
            1.0305901588263071
           ]
          },
          {
           "type": "scatter",
           "x": [
            -2.0561818802164282,
            -2.6877616230915917
           ],
           "y": [
            1.0305901588263071,
            1.3324295671045208
           ]
          }
         ]
        },
        {
         "data": [
          {
           "type": "scatter",
           "x": [
            0,
            -2.077774902278925
           ],
           "y": [
            0,
            0.9863323250607791
           ]
          },
          {
           "type": "scatter",
           "x": [
            -2.077774902278925,
            -2.642329837073298
           ],
           "y": [
            0.9863323250607791,
            1.400189456930367
           ]
          }
         ]
        },
        {
         "data": [
          {
           "type": "scatter",
           "x": [
            0,
            -2.0972373200486305
           ],
           "y": [
            0,
            0.9442434132125241
           ]
          },
          {
           "type": "scatter",
           "x": [
            -2.0972373200486305,
            -2.579587249385959
           ],
           "y": [
            0.9442434132125241,
            1.4515288808422149
           ]
          }
         ]
        },
        {
         "data": [
          {
           "type": "scatter",
           "x": [
            0,
            -2.1133691778899246
           ],
           "y": [
            0,
            0.9075630655468869
           ]
          },
          {
           "type": "scatter",
           "x": [
            -2.1133691778899246,
            -2.5055895304829967
           ],
           "y": [
            0.9075630655468869,
            1.4873588873770947
           ]
          }
         ]
        },
        {
         "data": [
          {
           "type": "scatter",
           "x": [
            0,
            -2.1263555495685496
           ],
           "y": [
            0,
            0.8767052394157515
           ]
          },
          {
           "type": "scatter",
           "x": [
            -2.1263555495685496,
            -2.4250389410064606
           ],
           "y": [
            0.8767052394157515,
            1.5097836166165113
           ]
          }
         ]
        },
        {
         "data": [
          {
           "type": "scatter",
           "x": [
            0,
            -2.136752083072488
           ],
           "y": [
            0,
            0.851052604417249
           ]
          },
          {
           "type": "scatter",
           "x": [
            -2.136752083072488,
            -2.3408123605222393
           ],
           "y": [
            0.851052604417249,
            1.5206490524119576
           ]
          }
         ]
        },
        {
         "data": [
          {
           "type": "scatter",
           "x": [
            0,
            -2.1450605049041442
           ],
           "y": [
            0,
            0.8298888059857044
           ]
          },
          {
           "type": "scatter",
           "x": [
            -2.1450605049041442,
            -2.254617664695266
           ],
           "y": [
            0.8298888059857044,
            1.5212622425151263
           ]
          }
         ]
        },
        {
         "data": [
          {
           "type": "scatter",
           "x": [
            0,
            -2.1516427656435337
           ],
           "y": [
            0,
            0.812670541519652
           ]
          },
          {
           "type": "scatter",
           "x": [
            -2.1516427656435337,
            -2.167536005698308
           ],
           "y": [
            0.812670541519652,
            1.5124900932046283
           ]
          }
         ]
        },
        {
         "data": [
          {
           "type": "scatter",
           "x": [
            0,
            -2.1567304880152056
           ],
           "y": [
            0,
            0.7990704612646448
           ]
          },
          {
           "type": "scatter",
           "x": [
            -2.1567304880152056,
            -2.0803318902139383
           ],
           "y": [
            0.7990704612646448,
            1.4948888673549119
           ]
          }
         ]
        },
        {
         "data": [
          {
           "type": "scatter",
           "x": [
            0,
            -2.160447332739447
           ],
           "y": [
            0,
            0.7889659830810248
           ]
          },
          {
           "type": "scatter",
           "x": [
            -2.160447332739447,
            -1.993625196260577
           ],
           "y": [
            0.7889659830810248,
            1.4687971200412449
           ]
          }
         ]
        },
        {
         "data": [
          {
           "type": "scatter",
           "x": [
            0,
            -2.1628244274323736
           ],
           "y": [
            0,
            0.7824260323518284
           ]
          },
          {
           "type": "scatter",
           "x": [
            -2.1628244274323736,
            -1.9079969110105268
           ],
           "y": [
            0.7824260323518284,
            1.4343945414642496
           ]
          }
         ]
        },
        {
         "data": [
          {
           "type": "scatter",
           "x": [
            0,
            -2.163805330674606
           ],
           "y": [
            0,
            0.7797092348716654
           ]
          },
          {
           "type": "scatter",
           "x": [
            -2.163805330674606,
            -1.824069170592514
           ],
           "y": [
            0.7797092348716654,
            1.3917381079917783
           ]
          }
         ]
        },
        {
         "data": [
          {
           "type": "scatter",
           "x": [
            0,
            -2.1632397546686963
           ],
           "y": [
            0,
            0.7812770083785373
           ]
          },
          {
           "type": "scatter",
           "x": [
            -2.1632397546686963,
            -1.7425849918598417
           ],
           "y": [
            0.7812770083785373,
            1.3407853376518613
           ]
          }
         ]
        },
        {
         "data": [
          {
           "type": "scatter",
           "x": [
            0,
            -2.160864503555302
           ],
           "y": [
            0,
            0.787822694059201
           ]
          },
          {
           "type": "scatter",
           "x": [
            -2.160864503555302,
            -1.6645098953393167
           ],
           "y": [
            0.787822694059201,
            1.2814137220396087
           ]
          }
         ]
        },
        {
         "data": [
          {
           "type": "scatter",
           "x": [
            0,
            -2.15626866258789
           ],
           "y": [
            0,
            0.8003158468638683
           ]
          },
          {
           "type": "scatter",
           "x": [
            -2.15626866258789,
            -1.5911839441314428
           ],
           "y": [
            0.8003158468638683,
            1.2134493131516983
           ]
          }
         ]
        },
        {
         "data": [
          {
           "type": "scatter",
           "x": [
            0,
            -2.1488403104242444
           ],
           "y": [
            0,
            0.8200520229203979
           ]
          },
          {
           "type": "scatter",
           "x": [
            -2.1488403104242444,
            -1.524569573033725
           ],
           "y": [
            0.8200520229203979,
            1.1367317450970744
           ]
          }
         ]
        },
        {
         "data": [
          {
           "type": "scatter",
           "x": [
            0,
            -2.137701719568353
           ],
           "y": [
            0,
            0.8486644555738769
           ]
          },
          {
           "type": "scatter",
           "x": [
            -2.137701719568353,
            -1.467667624467282
           ],
           "y": [
            0.8486644555738769,
            1.0512830909510027
           ]
          }
         ]
        },
        {
         "data": [
          {
           "type": "scatter",
           "x": [
            0,
            -2.121689323295991
           ],
           "y": [
            0,
            0.8879382948222245
           ]
          },
          {
           "type": "scatter",
           "x": [
            -2.121689323295991,
            -1.4251790351626674
           ],
           "y": [
            0.8879382948222245,
            0.9577481689406815
           ]
          }
         ]
        },
        {
         "data": [
          {
           "type": "scatter",
           "x": [
            0,
            -2.099614827007875
           ],
           "y": [
            0,
            0.9389449282086202
           ]
          },
          {
           "type": "scatter",
           "x": [
            -2.099614827007875,
            -1.4042584237660165
           ],
           "y": [
            0.9389449282086202,
            0.858449757728983
           ]
          }
         ]
        },
        {
         "data": [
          {
           "type": "scatter",
           "x": [
            0,
            -2.0714152806500654
           ],
           "y": [
            0,
            0.9996192950765852
           ]
          },
          {
           "type": "scatter",
           "x": [
            -2.0714152806500654,
            -1.4139928408924245
           ],
           "y": [
            0.9996192950765852,
            0.7592118582051125
           ]
          }
         ]
        },
        {
         "data": [
          {
           "type": "scatter",
           "x": [
            0,
            -2.040275456333673
           ],
           "y": [
            0,
            1.0617325756905183
           ]
          },
          {
           "type": "scatter",
           "x": [
            -2.040275456333673,
            -1.4603531304399846
           ],
           "y": [
            1.0617325756905183,
            0.6696992914785079
           ]
          }
         ]
        },
        {
         "data": [
          {
           "type": "scatter",
           "x": [
            0,
            -2.012411010677193
           ],
           "y": [
            0,
            1.113643535474973
           ]
          },
          {
           "type": "scatter",
           "x": [
            -2.012411010677193,
            -1.5391346443127039
           ],
           "y": [
            1.113643535474973,
            0.5978824657529302
           ]
          }
         ]
        },
        {
         "data": [
          {
           "type": "scatter",
           "x": [
            0,
            -1.9927985855527124
           ],
           "y": [
            0,
            1.1483700611819814
           ]
          },
          {
           "type": "scatter",
           "x": [
            -1.9927985855527124,
            -1.6389286392564806
           ],
           "y": [
            1.1483700611819814,
            0.5444031240833501
           ]
          }
         ]
        },
        {
         "data": [
          {
           "type": "scatter",
           "x": [
            0,
            -1.9830534524950942
           ],
           "y": [
            0,
            1.1651175925833777
           ]
          },
          {
           "type": "scatter",
           "x": [
            -1.9830534524950942,
            -1.7497222255249705
           ],
           "y": [
            1.1651175925833777,
            0.5051505187678603
           ]
          }
         ]
        },
        {
         "data": [
          {
           "type": "scatter",
           "x": [
            0,
            -1.9827171968930393
           ],
           "y": [
            0,
            1.165689717353897
           ]
          },
          {
           "type": "scatter",
           "x": [
            -1.9827171968930393,
            -1.865515699154368
           ],
           "y": [
            1.165689717353897,
            0.4755710254408231
           ]
          }
         ]
        },
        {
         "data": [
          {
           "type": "scatter",
           "x": [
            0,
            -1.9906261791899151
           ],
           "y": [
            0,
            1.1521316828920896
           ]
          },
          {
           "type": "scatter",
           "x": [
            -1.9906261791899151,
            -1.9831272755692964
           ],
           "y": [
            1.1521316828920896,
            0.45217185086993084
           ]
          }
         ]
        },
        {
         "data": [
          {
           "type": "scatter",
           "x": [
            0,
            -2.005514845808929
           ],
           "y": [
            0,
            1.126015187837175
           ]
          },
          {
           "type": "scatter",
           "x": [
            -2.005514845808929,
            -2.1008779187792093
           ],
           "y": [
            1.126015187837175,
            0.43254140728475565
           ]
          }
         ]
        },
        {
         "data": [
          {
           "type": "scatter",
           "x": [
            0,
            -2.0262062947935346
           ],
           "y": [
            0,
            1.0883418814596149
           ]
          },
          {
           "type": "scatter",
           "x": [
            -2.0262062947935346,
            -2.2178231488161626
           ],
           "y": [
            1.0883418814596149,
            0.4150789452642003
           ]
          }
         ]
        },
        {
         "data": [
          {
           "type": "scatter",
           "x": [
            0,
            -2.051649331261635
           ],
           "y": [
            0,
            1.039584061792834
           ]
          },
          {
           "type": "scatter",
           "x": [
            -2.051649331261635,
            -2.3333421088695006
           ],
           "y": [
            1.039584061792834,
            0.3987649148850926
           ]
          }
         ]
        },
        {
         "data": [
          {
           "type": "scatter",
           "x": [
            0,
            -2.0809036734962367
           ],
           "y": [
            0,
            0.9797141938493426
           ]
          },
          {
           "type": "scatter",
           "x": [
            -2.0809036734962367,
            -2.4468941455111235
           ],
           "y": [
            0.9797141938493426,
            0.38301412313179983
           ]
          }
         ]
        },
        {
         "data": [
          {
           "type": "scatter",
           "x": [
            0,
            -2.113105493442785
           ],
           "y": [
            0,
            0.908176840478727
           ]
          },
          {
           "type": "scatter",
           "x": [
            -2.113105493442785,
            -2.557825278992564
           ],
           "y": [
            0.908176840478727,
            0.36759908257468754
           ]
          }
         ]
        },
        {
         "data": [
          {
           "type": "scatter",
           "x": [
            0,
            -2.1474167217620006
           ],
           "y": [
            0,
            0.8237726768332037
           ]
          },
          {
           "type": "scatter",
           "x": [
            -2.1474167217620006,
            -2.665128522753487
           ],
           "y": [
            0.8237726768332037,
            0.35263098783280156
           ]
          }
         ]
        },
        {
         "data": [
          {
           "type": "scatter",
           "x": [
            0,
            -2.1829396334156974
           ],
           "y": [
            0,
            0.7244132500603095
           ]
          },
          {
           "type": "scatter",
           "x": [
            -2.1829396334156974,
            -2.767012322457953
           ],
           "y": [
            0.7244132500603095,
            0.3385906303048729
           ]
          }
         ]
        },
        {
         "data": [
          {
           "type": "scatter",
           "x": [
            0,
            -2.2185318247546237
           ],
           "y": [
            0,
            0.6067260852731804
           ]
          },
          {
           "type": "scatter",
           "x": [
            -2.2185318247546237,
            -2.8599387307212
           ],
           "y": [
            0.6067260852731804,
            0.326374197499291
           ]
          }
         ]
        },
        {
         "data": [
          {
           "type": "scatter",
           "x": [
            0,
            -2.252316056136153
           ],
           "y": [
            0,
            0.46591027384173883
           ]
          },
          {
           "type": "scatter",
           "x": [
            -2.252316056136153,
            -2.936311545165042
           ],
           "y": [
            0.46591027384173883,
            0.31708093873561427
           ]
          }
         ]
        },
        {
         "data": [
          {
           "type": "scatter",
           "x": [
            0,
            -2.28047712332308
           ],
           "y": [
            0,
            0.2990386095474787
           ]
          },
          {
           "type": "scatter",
           "x": [
            -2.28047712332308,
            -2.980390005105099
           ],
           "y": [
            0.2990386095474787,
            0.3100820653286136
           ]
          }
         ]
        },
        {
         "data": [
          {
           "type": "scatter",
           "x": [
            0,
            -2.2969623432292217
           ],
           "y": [
            0,
            0.11816934368490944
           ]
          },
          {
           "type": "scatter",
           "x": [
            -2.2969623432292217,
            -2.9735151858923534
           ],
           "y": [
            0.11816934368490944,
            0.2978252678411573
           ]
          }
         ]
        },
        {
         "data": [
          {
           "type": "scatter",
           "x": [
            0,
            -2.2993967492725664
           ],
           "y": [
            0,
            -0.05267437170725029
           ]
          },
          {
           "type": "scatter",
           "x": [
            -2.2993967492725664,
            -2.920491863642097
           ],
           "y": [
            -0.05267437170725029,
            0.2701891581413524
           ]
          }
         ]
        },
        {
         "data": [
          {
           "type": "scatter",
           "x": [
            0,
            -2.2907861912089347
           ],
           "y": [
            0,
            -0.20566629808128847
           ]
          },
          {
           "type": "scatter",
           "x": [
            -2.2907861912089347,
            -2.841804575039877
           ],
           "y": [
            -0.20566629808128847,
            0.22604974364097216
           ]
          }
         ]
        },
        {
         "data": [
          {
           "type": "scatter",
           "x": [
            0,
            -2.2740789092971667
           ],
           "y": [
            0,
            -0.3443328539216189
           ]
          },
          {
           "type": "scatter",
           "x": [
            -2.2740789092971667,
            -2.750531998721737
           ],
           "y": [
            -0.3443328539216189,
            0.16849504467378945
           ]
          }
         ]
        },
        {
         "data": [
          {
           "type": "scatter",
           "x": [
            0,
            -2.25084617235257
           ],
           "y": [
            0,
            -0.4729603666331723
           ]
          },
          {
           "type": "scatter",
           "x": [
            -2.25084617235257,
            -2.6527338281335746
           ],
           "y": [
            -0.4729603666331723,
            0.10017688754844933
           ]
          }
         ]
        },
        {
         "data": [
          {
           "type": "scatter",
           "x": [
            0,
            -2.2217929968955668
           ],
           "y": [
            0,
            -0.594672917615906
           ]
          },
          {
           "type": "scatter",
           "x": [
            -2.2217929968955668,
            -2.551333220710388
           ],
           "y": [
            -0.594672917615906,
            0.022905612522632235
           ]
          }
         ]
        },
        {
         "data": [
          {
           "type": "scatter",
           "x": [
            0,
            -2.1871314416846195
           ],
           "y": [
            0,
            -0.7116572607614966
           ]
          },
          {
           "type": "scatter",
           "x": [
            -2.1871314416846195,
            -2.4478916934696175
           ],
           "y": [
            -0.7116572607614966,
            -0.06203884115732283
           ]
          }
         ]
        },
        {
         "data": [
          {
           "type": "scatter",
           "x": [
            0,
            -2.146754216487295
           ],
           "y": [
            0,
            -0.82549762809715
           ]
          },
          {
           "type": "scatter",
           "x": [
            -2.146754216487295,
            -2.3433191473758854
           ],
           "y": [
            -0.82549762809715,
            -0.15366265733069495
           ]
          }
         ]
        },
        {
         "data": [
          {
           "type": "scatter",
           "x": [
            0,
            -2.1003076269230414
           ],
           "y": [
            0,
            -0.937394192583303
           ]
          },
          {
           "type": "scatter",
           "x": [
            -2.1003076269230414,
            -2.238174609861213
           ],
           "y": [
            -0.937394192583303,
            -0.25110511718174466
           ]
          }
         ]
        },
        {
         "data": [
          {
           "type": "scatter",
           "x": [
            0,
            -2.04721656862391
           ],
           "y": [
            0,
            -1.0482863736363948
           ]
          },
          {
           "type": "scatter",
           "x": [
            -2.04721656862391,
            -2.132801999707805
           ],
           "y": [
            -1.0482863736363948,
            -0.3535381213995261
           ]
          }
         ]
        },
        {
         "data": [
          {
           "type": "scatter",
           "x": [
            0,
            -1.986687816752131
           ],
           "y": [
            0,
            -1.15890962493572
           ]
          },
          {
           "type": "scatter",
           "x": [
            -1.986687816752131,
            -2.027393416671285
           ],
           "y": [
            -1.15890962493572,
            -0.46009415992709435
           ]
          }
         ]
        },
        {
         "data": [
          {
           "type": "scatter",
           "x": [
            0,
            -1.917708974132396
           ],
           "y": [
            0,
            -1.2698000986502058
           ]
          },
          {
           "type": "scatter",
           "x": [
            -1.917708974132396,
            -1.9220197975481832
           ],
           "y": [
            -1.2698000986502058,
            -0.5698133724892894
           ]
          }
         ]
        },
        {
         "data": [
          {
           "type": "scatter",
           "x": [
            0,
            -1.8390597168627587
           ],
           "y": [
            0,
            -1.381252821829758
           ]
          },
          {
           "type": "scatter",
           "x": [
            -1.8390597168627587,
            -1.816650981984761
           ],
           "y": [
            -1.381252821829758,
            -0.6816115933410649
           ]
          }
         ]
        },
        {
         "data": [
          {
           "type": "scatter",
           "x": [
            0,
            -1.7493534740272192
           ],
           "y": [
            0,
            -1.4932389034943132
           ]
          },
          {
           "type": "scatter",
           "x": [
            -1.7493534740272192,
            -1.7111820491651564
           ],
           "y": [
            -1.4932389034943132,
            -0.7942804338239043
           ]
          }
         ]
        },
        {
         "data": [
          {
           "type": "scatter",
           "x": [
            0,
            -1.6471260363031655
           ],
           "y": [
            0,
            -1.6052961784456545
           ]
          },
          {
           "type": "scatter",
           "x": [
            -1.6471260363031655,
            -1.605479813008478
           ],
           "y": [
            -1.6052961784456545,
            -0.9065361394585292
           ]
          }
         ]
        },
        {
         "data": [
          {
           "type": "scatter",
           "x": [
            0,
            -1.5309787681292237
           ],
           "y": [
            0,
            -1.7164218629280867
           ]
          },
          {
           "type": "scatter",
           "x": [
            -1.5309787681292237,
            -1.4994549594637392
           ],
           "y": [
            -1.7164218629280867,
            -1.0171320449790322
           ]
          }
         ]
        },
        {
         "data": [
          {
           "type": "scatter",
           "x": [
            0,
            -1.3997697239051397
           ],
           "y": [
            0,
            -1.8250054027422846
           ]
          },
          {
           "type": "scatter",
           "x": [
            -1.3997697239051397,
            -1.3931471689682424
           ],
           "y": [
            -1.8250054027422846,
            -1.1250367307532394
           ]
          }
         ]
        },
        {
         "data": [
          {
           "type": "scatter",
           "x": [
            0,
            -1.252835236274695
           ],
           "y": [
            0,
            -1.9288348479713155
           ]
          },
          {
           "type": "scatter",
           "x": [
            -1.252835236274695,
            -1.2867868346224391
           ],
           "y": [
            -1.9288348479713155,
            -1.229658697799105
           ]
          }
         ]
        },
        {
         "data": [
          {
           "type": "scatter",
           "x": [
            0,
            -1.0902259159084224
           ],
           "y": [
            0,
            -2.0251931888789376
           ]
          },
          {
           "type": "scatter",
           "x": [
            -1.0902259159084224,
            -1.1807809369594342
           ],
           "y": [
            -2.0251931888789376,
            -1.3310751959105587
           ]
          }
         ]
        },
        {
         "data": [
          {
           "type": "scatter",
           "x": [
            0,
            -0.9129482554172733
           ],
           "y": [
            0,
            -2.11104843216127
           ]
          },
          {
           "type": "scatter",
           "x": [
            -0.9129482554172733,
            -1.0755770562848534
           ],
           "y": [
            -2.11104843216127,
            -1.4302019934334371
           ]
          }
         ]
        },
        {
         "data": [
          {
           "type": "scatter",
           "x": [
            0,
            -0.7231948494133347
           ],
           "y": [
            0,
            -2.1833435849132914
           ]
          },
          {
           "type": "scatter",
           "x": [
            -0.7231948494133347,
            -0.9713965755230278
           ],
           "y": [
            -2.1833435849132914,
            -1.528823987684783
           ]
          }
         ]
        },
        {
         "data": [
          {
           "type": "scatter",
           "x": [
            0,
            -0.5245078747190296
           ],
           "y": [
            0,
            -2.239395340121464
           ]
          },
          {
           "type": "scatter",
           "x": [
            -0.5245078747190296,
            -0.8678940134306254
           ],
           "y": [
            -2.239395340121464,
            -1.6294068486392552
           ]
          }
         ]
        },
        {
         "data": [
          {
           "type": "scatter",
           "x": [
            0,
            -0.3217721053247929
           ],
           "y": [
            0,
            -2.277380669153677
           ]
          },
          {
           "type": "scatter",
           "x": [
            -0.3217721053247929,
            -0.7638719319694617
           ],
           "y": [
            -2.277380669153677,
            -1.7346581403410672
           ]
          }
         ]
        },
        {
         "data": [
          {
           "type": "scatter",
           "x": [
            0,
            -0.12093440804100729
           ],
           "y": [
            0,
            -2.2968184231566435
           ]
          },
          {
           "type": "scatter",
           "x": [
            -0.12093440804100729,
            -0.6572063101722192
           ],
           "y": [
            -2.2968184231566435,
            -1.8469157148023019
           ]
          }
         ]
        },
        {
         "data": [
          {
           "type": "scatter",
           "x": [
            0,
            0.07155614207614933
           ],
           "y": [
            0,
            -2.2988866258541716
           ]
          },
          {
           "type": "scatter",
           "x": [
            0.07155614207614933,
            -0.5450629600797419
           ],
           "y": [
            -2.2988866258541716,
            -1.9675546430084725
           ]
          }
         ]
        },
        {
         "data": [
          {
           "type": "scatter",
           "x": [
            0,
            0.24943761413809482
           ],
           "y": [
            0,
            -2.2864340962846694
           ]
          },
          {
           "type": "scatter",
           "x": [
            0.24943761413809482,
            -0.42433498995133323
           ],
           "y": [
            -2.2864340962846694,
            -2.096617137140997
           ]
          }
         ]
        },
        {
         "data": [
          {
           "type": "scatter",
           "x": [
            0,
            0.4072037268990384
           ],
           "y": [
            0,
            -2.2636663015558485
           ]
          },
          {
           "type": "scatter",
           "x": [
            0.4072037268990384,
            -0.29211301305828163
           ],
           "y": [
            -2.2636663015558485,
            -2.232745479841896
           ]
          }
         ]
        },
        {
         "data": [
          {
           "type": "scatter",
           "x": [
            0,
            0.5403264683936999
           ],
           "y": [
            0,
            -2.2356312995557186
           ]
          },
          {
           "type": "scatter",
           "x": [
            0.5403264683936999,
            -0.14599905891089426
           ],
           "y": [
            -2.2356312995557186,
            -2.3733167039022605
           ]
          }
         ]
        },
        {
         "data": [
          {
           "type": "scatter",
           "x": [
            0,
            0.6450043863550798
           ],
           "y": [
            0,
            -2.207706806073376
           ]
          },
          {
           "type": "scatter",
           "x": [
            0.6450043863550798,
            0.015832182230072434
           ],
           "y": [
            -2.207706806073376,
            -2.514533039561453
           ]
          }
         ]
        },
        {
         "data": [
          {
           "type": "scatter",
           "x": [
            0,
            0.71734210209959
           ],
           "y": [
            0,
            -2.185273508866874
           ]
          },
          {
           "type": "scatter",
           "x": [
            0.71734210209959,
            0.19481726447212244
           ],
           "y": [
            -2.185273508866874,
            -2.6510715273924883
           ]
          }
         ]
        },
        {
         "data": [
          {
           "type": "scatter",
           "x": [
            0,
            0.7517048528032245
           ],
           "y": [
            0,
            -2.1736926678516633
           ]
          },
          {
           "type": "scatter",
           "x": [
            0.7517048528032245,
            0.39231028542902124
           ],
           "y": [
            -2.1736926678516633,
            -2.774388551757912
           ]
          }
         ]
        },
        {
         "data": [
          {
           "type": "scatter",
           "x": [
            0,
            0.7379221438326067
           ],
           "y": [
            0,
            -2.1784101793834623
           ]
          },
          {
           "type": "scatter",
           "x": [
            0.7379221438326067,
            0.609138146855482
           ],
           "y": [
            -2.1784101793834623,
            -2.866461545287634
           ]
          }
         ]
        },
        {
         "data": [
          {
           "type": "scatter",
           "x": [
            0,
            0.6661128189464396
           ],
           "y": [
            0,
            -2.201429924488905
           ]
          },
          {
           "type": "scatter",
           "x": [
            0.6661128189464396,
            0.836378101810967
           ],
           "y": [
            -2.201429924488905,
            -2.880406900130246
           ]
          }
         ]
        },
        {
         "data": [
          {
           "type": "scatter",
           "x": [
            0,
            0.5841306086119487
           ],
           "y": [
            0,
            -2.224587924106987
           ]
          },
          {
           "type": "scatter",
           "x": [
            0.5841306086119487,
            1.0289169039315706
           ],
           "y": [
            -2.224587924106987,
            -2.765110959227458
           ]
          }
         ]
        },
        {
         "data": [
          {
           "type": "scatter",
           "x": [
            0,
            0.5559985589411128
           ],
           "y": [
            0,
            -2.231785294882867
           ]
          },
          {
           "type": "scatter",
           "x": [
            0.5559985589411128,
            1.1651747142015734
           ],
           "y": [
            -2.231785294882867,
            -2.5766104851780125
           ]
          }
         ]
        },
        {
         "data": [
          {
           "type": "scatter",
           "x": [
            0,
            0.5776111394953528
           ],
           "y": [
            0,
            -2.2262895974088543
           ]
          },
          {
           "type": "scatter",
           "x": [
            0.5776111394953528,
            1.2630804168145677
           ],
           "y": [
            -2.2262895974088543,
            -2.3681764179788884
           ]
          }
         ]
        },
        {
         "data": [
          {
           "type": "scatter",
           "x": [
            0,
            0.6366662810478866
           ],
           "y": [
            0,
            -2.2101257988125136
           ]
          },
          {
           "type": "scatter",
           "x": [
            0.6366662810478866,
            1.3346951577575488
           ],
           "y": [
            -2.2101257988125136,
            -2.1576311583294414
           ]
          }
         ]
        },
        {
         "data": [
          {
           "type": "scatter",
           "x": [
            0,
            0.725302014652297
           ],
           "y": [
            0,
            -2.18264449408082
           ]
          },
          {
           "type": "scatter",
           "x": [
            0.725302014652297,
            1.3863100799655657
           ],
           "y": [
            -2.18264449408082,
            -1.9522788334653336
           ]
          }
         ]
        },
        {
         "data": [
          {
           "type": "scatter",
           "x": [
            0,
            0.8378327890896372
           ],
           "y": [
            0,
            -2.1419701719506454
           ]
          },
          {
           "type": "scatter",
           "x": [
            0.8378327890896372,
            1.4219928129142918
           ],
           "y": [
            -2.1419701719506454,
            -1.7562797953981848
           ]
          }
         ]
        },
        {
         "data": [
          {
           "type": "scatter",
           "x": [
            0,
            0.9691941878983752
           ],
           "y": [
            0,
            -2.085824207871797
           ]
          },
          {
           "type": "scatter",
           "x": [
            0.9691941878983752,
            1.4450595338416696
           ],
           "y": [
            -2.085824207871797,
            -1.5724508812075957
           ]
          }
         ]
        },
        {
         "data": [
          {
           "type": "scatter",
           "x": [
            0,
            1.1142194522682007
           ],
           "y": [
            0,
            -2.0120921977352704
           ]
          },
          {
           "type": "scatter",
           "x": [
            1.1142194522682007,
            1.458649721044469
           ],
           "y": [
            -2.0120921977352704,
            -1.4026926654490144
           ]
          }
         ]
        },
        {
         "data": [
          {
           "type": "scatter",
           "x": [
            0,
            1.267408925708352
           ],
           "y": [
            0,
            -1.919290133105154
           ]
          },
          {
           "type": "scatter",
           "x": [
            1.267408925708352,
            1.465877955377096
           ],
           "y": [
            -1.919290133105154,
            -1.2480151937082276
           ]
          }
         ]
        },
        {
         "data": [
          {
           "type": "scatter",
           "x": [
            0,
            1.4230384167452352
           ],
           "y": [
            0,
            -1.806920492015964
           ]
          },
          {
           "type": "scatter",
           "x": [
            1.4230384167452352,
            1.4697343328490475
           ],
           "y": [
            -1.806920492015964,
            -1.1084797347435769
           ]
          }
         ]
        },
        {
         "data": [
          {
           "type": "scatter",
           "x": [
            0,
            1.5755012114555438
           ],
           "y": [
            0,
            -1.6756479143012453
           ]
          },
          {
           "type": "scatter",
           "x": [
            1.5755012114555438,
            1.4728397308982888
           ],
           "y": [
            -1.6756479143012453,
            -0.9832169643793109
           ]
          }
         ]
        },
        {
         "data": [
          {
           "type": "scatter",
           "x": [
            0,
            1.7197546237431744
           ],
           "y": [
            0,
            -1.527234112411706
           ]
          },
          {
           "type": "scatter",
           "x": [
            1.7197546237431744,
            1.4771764006569994
           ],
           "y": [
            -1.527234112411706,
            -0.8706095578263982
           ]
          }
         ]
        },
        {
         "data": [
          {
           "type": "scatter",
           "x": [
            0,
            1.8517143510106682
           ],
           "y": [
            0,
            -1.364241167191908
           ]
          },
          {
           "type": "scatter",
           "x": [
            1.8517143510106682,
            1.4839310634257863
           ],
           "y": [
            -1.364241167191908,
            -0.7686444467734221
           ]
          }
         ]
        },
        {
         "data": [
          {
           "type": "scatter",
           "x": [
            0,
            1.9684603388104887
           ],
           "y": [
            0,
            -1.1896066133516978
           ]
          },
          {
           "type": "scatter",
           "x": [
            1.9684603388104887,
            1.493555393131464
           ],
           "y": [
            -1.1896066133516978,
            -0.6753447223179536
           ]
          }
         ]
        },
        {
         "data": [
          {
           "type": "scatter",
           "x": [
            0,
            2.06820119299821
           ],
           "y": [
            0,
            -1.0062523665963625
           ]
          },
          {
           "type": "scatter",
           "x": [
            2.06820119299821,
            1.5060549233594314
           ],
           "y": [
            -1.0062523665963625,
            -0.5891293972801125
           ]
          }
         ]
        },
        {
         "data": [
          {
           "type": "scatter",
           "x": [
            0,
            2.1500527648132
           ],
           "y": [
            0,
            -0.8168678647854332
           ]
          },
          {
           "type": "scatter",
           "x": [
            2.1500527648132,
            1.521406137721532
           ],
           "y": [
            -0.8168678647854332,
            -0.508966227494773
           ]
          }
         ]
        },
        {
         "data": [
          {
           "type": "scatter",
           "x": [
            0,
            2.2137580752594466
           ],
           "y": [
            0,
            -0.6239192128982635
           ]
          },
          {
           "type": "scatter",
           "x": [
            2.2137580752594466,
            1.5399381641996586
           ],
           "y": [
            -0.6239192128982635,
            -0.434270254400255
           ]
          }
         ]
        },
        {
         "data": [
          {
           "type": "scatter",
           "x": [
            0,
            2.259478444053613
           ],
           "y": [
            0,
            -0.4298338758835347
           ]
          },
          {
           "type": "scatter",
           "x": [
            2.259478444053613,
            1.5625242400655504
           ],
           "y": [
            -0.4298338758835347,
            -0.3646047601194374
           ]
          }
         ]
        },
        {
         "data": [
          {
           "type": "scatter",
           "x": [
            0,
            2.287732593053202
           ],
           "y": [
            0,
            -0.23723318208478167
           ]
          },
          {
           "type": "scatter",
           "x": [
            2.287732593053202,
            1.5904914777284174
           ],
           "y": [
            -0.23723318208478167,
            -0.29932043601544117
           ]
          }
         ]
        },
        {
         "data": [
          {
           "type": "scatter",
           "x": [
            0,
            2.2994768705043604
           ],
           "y": [
            0,
            -0.049052237619426294
           ]
          },
          {
           "type": "scatter",
           "x": [
            2.2994768705043604,
            1.6252655289424593
           ],
           "y": [
            -0.049052237619426294,
            -0.23730490535431187
           ]
          }
         ]
        },
        {
         "data": [
          {
           "type": "scatter",
           "x": [
            0,
            2.2962338554378516
           ],
           "y": [
            0,
            0.13156778154630963
           ]
          },
          {
           "type": "scatter",
           "x": [
            2.2962338554378516,
            1.6679020051328814
           ],
           "y": [
            0.13156778154630963,
            -0.17697570954098027
           ]
          }
         ]
        },
        {
         "data": [
          {
           "type": "scatter",
           "x": [
            0,
            2.280140231800146
           ],
           "y": [
            0,
            0.30159662353278477
           ]
          },
          {
           "type": "scatter",
           "x": [
            2.280140231800146,
            1.7187317059255331
           ],
           "y": [
            0.30159662353278477,
            -0.11651875178280224
           ]
          }
         ]
        },
        {
         "data": [
          {
           "type": "scatter",
           "x": [
            0,
            2.2538384111011527
           ],
           "y": [
            0,
            0.4584892764776837
           ]
          },
          {
           "type": "scatter",
           "x": [
            2.2538384111011527,
            1.7772713212663052
           ],
           "y": [
            0.4584892764776837,
            -0.05423268412703258
           ]
          }
         ]
        },
        {
         "data": [
          {
           "type": "scatter",
           "x": [
            0,
            2.220239176664248
           ],
           "y": [
            0,
            0.6004481646281054
           ]
          },
          {
           "type": "scatter",
           "x": [
            2.220239176664248,
            1.8423815380313957
           ],
           "y": [
            0.6004481646281054,
            0.011191340376739856
           ]
          }
         ]
        },
        {
         "data": [
          {
           "type": "scatter",
           "x": [
            0,
            2.1822467195746795
           ],
           "y": [
            0,
            0.7264979386794909
           ]
          },
          {
           "type": "scatter",
           "x": [
            2.1822467195746795,
            1.9125422061055666
           ],
           "y": [
            0.7264979386794909,
            0.08054168984030752
           ]
          }
         ]
        },
        {
         "data": [
          {
           "type": "scatter",
           "x": [
            0,
            2.142530001352049
           ],
           "y": [
            0,
            0.8364001394705697
           ]
          },
          {
           "type": "scatter",
           "x": [
            2.142530001352049,
            1.9861176835375245
           ],
           "y": [
            0.8364001394705697,
            0.15409874944128932
           ]
          }
         ]
        },
        {
         "data": [
          {
           "type": "scatter",
           "x": [
            0,
            2.103380041922708
           ],
           "y": [
            0,
            0.9304796608423133
           ]
          },
          {
           "type": "scatter",
           "x": [
            2.103380041922708,
            2.0615471636312956
           ],
           "y": [
            0.9304796608423133,
            0.231730771545267
           ]
          }
         ]
        },
        {
         "data": [
          {
           "type": "scatter",
           "x": [
            0,
            2.0666528035530116
           ],
           "y": [
            0,
            1.0094286451089427
           ]
          },
          {
           "type": "scatter",
           "x": [
            2.0666528035530116,
            2.1374494259488346
           ],
           "y": [
            1.0094286451089427,
            0.3130179629268389
           ]
          }
         ]
        },
        {
         "data": [
          {
           "type": "scatter",
           "x": [
            0,
            2.0337770700359927
           ],
           "y": [
            0,
            1.0741279390257998
           ]
          },
          {
           "type": "scatter",
           "x": [
            2.0337770700359927,
            2.212658262984828
           ],
           "y": [
            1.0741279390257998,
            0.3973698442761312
           ]
          }
         ]
        },
        {
         "data": [
          {
           "type": "scatter",
           "x": [
            0,
            2.0058026340600468
           ],
           "y": [
            0,
            1.125502462546296
           ]
          },
          {
           "type": "scatter",
           "x": [
            2.0058026340600468,
            2.286210618538826
           ],
           "y": [
            1.125502462546296,
            0.48412007875286134
           ]
          }
         ]
        },
        {
         "data": [
          {
           "type": "scatter",
           "x": [
            0,
            1.9834683655589276
           ],
           "y": [
            0,
            1.164411114180466
           ]
          },
          {
           "type": "scatter",
           "x": [
            1.9834683655589276,
            2.357305109973984
           ],
           "y": [
            1.164411114180466,
            0.5725951896522797
           ]
          }
         ]
        },
        {
         "data": [
          {
           "type": "scatter",
           "x": [
            0,
            1.9672764583222706
           ],
           "y": [
            0,
            1.1915634001306783
           ]
          },
          {
           "type": "scatter",
           "x": [
            1.9672764583222706,
            2.4252408899199898
           ],
           "y": [
            1.1915634001306783,
            0.6621594150763742
           ]
          }
         ]
        },
        {
         "data": [
          {
           "type": "scatter",
           "x": [
            0,
            1.957565316267836
           ],
           "y": [
            0,
            1.2074510476806943
           ]
          },
          {
           "type": "scatter",
           "x": [
            1.957565316267836,
            2.4893380404304164
           ],
           "y": [
            1.2074510476806943,
            0.7522392619845106
           ]
          }
         ]
        },
        {
         "data": [
          {
           "type": "scatter",
           "x": [
            0,
            1.954577897768327
           ],
           "y": [
            0,
            1.2122810076692394
           ]
          },
          {
           "type": "scatter",
           "x": [
            1.954577897768327,
            2.548829990601478
           ],
           "y": [
            1.2122810076692394,
            0.8423290511080939
           ]
          }
         ]
        },
        {
         "data": [
          {
           "type": "scatter",
           "x": [
            0,
            1.9585237619165359
           ],
           "y": [
            0,
            1.2058957973259132
           ]
          },
          {
           "type": "scatter",
           "x": [
            1.9585237619165359,
            2.602701885761815
           ],
           "y": [
            1.2058957973259132,
            0.9319714560212823
           ]
          }
         ]
        },
        {
         "data": [
          {
           "type": "scatter",
           "x": [
            0,
            1.9696273773061364
           ],
           "y": [
            0,
            1.1876733534798825
           ]
          },
          {
           "type": "scatter",
           "x": [
            1.9696273773061364,
            2.6494182703283635
           ],
           "y": [
            1.1876733534798825,
            1.0206873008765505
           ]
          }
         ]
        },
        {
         "data": [
          {
           "type": "scatter",
           "x": [
            0,
            1.9881250570469435
           ],
           "y": [
            0,
            1.156442284570262
           ]
          },
          {
           "type": "scatter",
           "x": [
            1.9881250570469435,
            2.686431089726751
           ],
           "y": [
            1.156442284570262,
            1.1077731493510359
           ]
          }
         ]
        },
        {
         "data": [
          {
           "type": "scatter",
           "x": [
            0,
            2.0140562590292053
           ],
           "y": [
            0,
            1.1106652895743532
           ]
          },
          {
           "type": "scatter",
           "x": [
            2.0140562590292053,
            2.7093452850178465
           ],
           "y": [
            1.1106652895743532,
            1.1917403803221684
           ]
          }
         ]
        },
        {
         "data": [
          {
           "type": "scatter",
           "x": [
            0,
            2.046400161281401
           ],
           "y": [
            0,
            1.0498792215809658
           ]
          },
          {
           "type": "scatter",
           "x": [
            2.046400161281401,
            2.7112131907729884
           ],
           "y": [
            1.0498792215809658,
            1.269022179072685
           ]
          }
         ]
        },
        {
         "data": [
          {
           "type": "scatter",
           "x": [
            0,
            2.081441238250458
           ],
           "y": [
            0,
            0.978571597641378
           ]
          },
          {
           "type": "scatter",
           "x": [
            2.081441238250458,
            2.6851383116687786
           ],
           "y": [
            0.978571597641378,
            1.3329017311978604
           ]
          }
         ]
        },
        {
         "data": [
          {
           "type": "scatter",
           "x": [
            0,
            2.1136476297711217
           ],
           "y": [
            0,
            0.9069143824876299
           ]
          },
          {
           "type": "scatter",
           "x": [
            2.1136476297711217,
            2.6321177427336138
           ],
           "y": [
            0.9069143824876299,
            1.3772214544785375
           ]
          }
         ]
        },
        {
         "data": [
          {
           "type": "scatter",
           "x": [
            0,
            2.1401794526781326
           ],
           "y": [
            0,
            0.8423965279690598
           ]
          },
          {
           "type": "scatter",
           "x": [
            2.1401794526781326,
            2.561076800970992
           ],
           "y": [
            0.8423965279690598,
            1.401722392023315
           ]
          }
         ]
        },
        {
         "data": [
          {
           "type": "scatter",
           "x": [
            0,
            2.16135866865563
           ],
           "y": [
            0,
            0.786465959484047
           ]
          },
          {
           "type": "scatter",
           "x": [
            2.16135866865563,
            2.480218154149721
           ],
           "y": [
            0.786465959484047,
            1.4096261543861632
           ]
          }
         ]
        },
        {
         "data": [
          {
           "type": "scatter",
           "x": [
            0,
            2.17835532465404
           ],
           "y": [
            0,
            0.7380840599494007
           ]
          },
          {
           "type": "scatter",
           "x": [
            2.17835532465404,
            2.3942851886998655
           ],
           "y": [
            0.7380840599494007,
            1.4039476299193694
           ]
          }
         ]
        },
        {
         "data": [
          {
           "type": "scatter",
           "x": [
            0,
            2.1921670480628372
           ],
           "y": [
            0,
            0.6959911158825701
           ]
          },
          {
           "type": "scatter",
           "x": [
            2.1921670480628372,
            2.3058106251161425
           ],
           "y": [
            0.6959911158825701,
            1.3867046146608475
           ]
          }
         ]
        },
        {
         "data": [
          {
           "type": "scatter",
           "x": [
            0,
            2.203490830734906
           ],
           "y": [
            0,
            0.6592633456117462
           ]
          },
          {
           "type": "scatter",
           "x": [
            2.203490830734906,
            2.216252527731708
           ],
           "y": [
            0.6592633456117462,
            1.359147006722478
           ]
          }
         ]
        },
        {
         "data": [
          {
           "type": "scatter",
           "x": [
            0,
            2.2127873393824204
           ],
           "y": [
            0,
            0.6273533220354132
           ]
          },
          {
           "type": "scatter",
           "x": [
            2.2127873393824204,
            2.1265762441646205
           ],
           "y": [
            0.6273533220354132,
            1.322024213221554
           ]
          }
         ]
        },
        {
         "data": [
          {
           "type": "scatter",
           "x": [
            0,
            2.2203482314083813
           ],
           "y": [
            0,
            0.6000447743974386
           ]
          },
          {
           "type": "scatter",
           "x": [
            2.2203482314083813,
            2.037543673844078
           ],
           "y": [
            0.6000447743974386,
            1.2757536567822414
           ]
          }
         ]
        },
        {
         "data": [
          {
           "type": "scatter",
           "x": [
            0,
            2.226339139086204
           ],
           "y": [
            0,
            0.5774201570545483
           ]
          },
          {
           "type": "scatter",
           "x": [
            2.226339139086204,
            1.9498803025480387
           ],
           "y": [
            0.5774201570545483,
            1.2205146382157257
           ]
          }
         ]
        },
        {
         "data": [
          {
           "type": "scatter",
           "x": [
            0,
            2.2308202139177893
           ],
           "y": [
            0,
            0.5598581723756373
           ]
          },
          {
           "type": "scatter",
           "x": [
            2.2308202139177893,
            1.864404621861779
           ],
           "y": [
            0.5598581723756373,
            1.156297284019268
           ]
          }
         ]
        },
        {
         "data": [
          {
           "type": "scatter",
           "x": [
            0,
            2.2337473215949855
           ],
           "y": [
            0,
            0.5480628643387806
           ]
          },
          {
           "type": "scatter",
           "x": [
            2.2337473215949855,
            1.782171854418343
           ],
           "y": [
            0.5480628643387806,
            1.0829269568372366
           ]
          }
         ]
        },
        {
         "data": [
          {
           "type": "scatter",
           "x": [
            0,
            2.2349538999740313
           ],
           "y": [
            0,
            0.5431215931914932
           ]
          },
          {
           "type": "scatter",
           "x": [
            2.2349538999740313,
            1.7046838891747078
           ],
           "y": [
            0.5431215931914932,
            1.0000829872357662
           ]
          }
         ]
        },
        {
         "data": [
          {
           "type": "scatter",
           "x": [
            0,
            2.2341121722717894
           ],
           "y": [
            0,
            0.5465736928420776
           ]
          },
          {
           "type": "scatter",
           "x": [
            2.2341121722717894,
            1.6342431428397788
           ],
           "y": [
            0.5465736928420776,
            0.9073466789819737
           ]
          }
         ]
        },
        {
         "data": [
          {
           "type": "scatter",
           "x": [
            0,
            2.2306833251497826
           ],
           "y": [
            0,
            0.560403339478547
           ]
          },
          {
           "type": "scatter",
           "x": [
            2.2306833251497826,
            1.5745749987843833
           ],
           "y": [
            0.560403339478547,
            0.8043743706974081
           ]
          }
         ]
        },
        {
         "data": [
          {
           "type": "scatter",
           "x": [
            0,
            2.2239317217186714
           ],
           "y": [
            0,
            0.5866239827465511
           ]
          },
          {
           "type": "scatter",
           "x": [
            2.2239317217186714,
            1.531827364531504
           ],
           "y": [
            0.5866239827465511,
            0.6914646178196829
           ]
          }
         ]
        },
        {
         "data": [
          {
           "type": "scatter",
           "x": [
            0,
            2.213311875584702
           ],
           "y": [
            0,
            0.6255002329301941
           ]
          },
          {
           "type": "scatter",
           "x": [
            2.213311875584702,
            1.5154312831109487
           ],
           "y": [
            0.6255002329301941,
            0.5710697391929254
           ]
          }
         ]
        },
        {
         "data": [
          {
           "type": "scatter",
           "x": [
            0,
            2.1997810591778246
           ],
           "y": [
            0,
            0.6715380046449247
           ]
          },
          {
           "type": "scatter",
           "x": [
            2.1997810591778246,
            1.5357507140526971
           ],
           "y": [
            0.6715380046449247,
            0.45003472983165305
           ]
          }
         ]
        },
        {
         "data": [
          {
           "type": "scatter",
           "x": [
            0,
            2.18698299200837
           ],
           "y": [
            0,
            0.7121133285272208
           ]
          },
          {
           "type": "scatter",
           "x": [
            2.18698299200837,
            1.5952808526150049
           ],
           "y": [
            0.7121133285272208,
            0.33809651307995436
           ]
          }
         ]
        },
        {
         "data": [
          {
           "type": "scatter",
           "x": [
            0,
            2.1790714180447903
           ],
           "y": [
            0,
            0.7359672241752794
           ]
          },
          {
           "type": "scatter",
           "x": [
            2.1790714180447903,
            1.684576894759786
           ],
           "y": [
            0.7359672241752794,
            0.24051271925970574
           ]
          }
         ]
        },
        {
         "data": [
          {
           "type": "scatter",
           "x": [
            0,
            2.1778229128661795
           ],
           "y": [
            0,
            0.7396535406493158
           ]
          },
          {
           "type": "scatter",
           "x": [
            2.1778229128661795,
            1.791381582640852
           ],
           "y": [
            0.7396535406493158,
            0.1559900260335062
           ]
          }
         ]
        },
        {
         "data": [
          {
           "type": "scatter",
           "x": [
            0,
            2.182940295420999
           ],
           "y": [
            0,
            0.724411255177113
           ]
          },
          {
           "type": "scatter",
           "x": [
            2.182940295420999,
            1.907336277248613
           ],
           "y": [
            0.724411255177113,
            0.08094997027549977
           ]
          }
         ]
        },
        {
         "data": [
          {
           "type": "scatter",
           "x": [
            0,
            2.1933028469775513
           ],
           "y": [
            0,
            0.6924035105631453
           ]
          },
          {
           "type": "scatter",
           "x": [
            2.1933028469775513,
            2.027816369680123
           ],
           "y": [
            0.6924035105631453,
            0.012246009809321667
           ]
          }
         ]
        },
        {
         "data": [
          {
           "type": "scatter",
           "x": [
            0,
            2.2076070810075787
           ],
           "y": [
            0,
            0.6453456251383415
           ]
          },
          {
           "type": "scatter",
           "x": [
            2.2076070810075787,
            2.1503255427164443
           ],
           "y": [
            0.6453456251383415,
            -0.052306741998043416
           ]
          }
         ]
        },
        {
         "data": [
          {
           "type": "scatter",
           "x": [
            0,
            2.224560457099324
           ],
           "y": [
            0,
            0.5842352032444167
           ]
          },
          {
           "type": "scatter",
           "x": [
            2.224560457099324,
            2.273417403123778
           ],
           "y": [
            0.5842352032444167,
            -0.11405771439485268
           ]
          }
         ]
        },
        {
         "data": [
          {
           "type": "scatter",
           "x": [
            0,
            2.242894201650942
           ],
           "y": [
            0,
            0.5093383945871185
           ]
          },
          {
           "type": "scatter",
           "x": [
            2.242894201650942,
            2.3960955266478945
           ],
           "y": [
            0.5093383945871185,
            -0.17369114651573747
           ]
          }
         ]
        },
        {
         "data": [
          {
           "type": "scatter",
           "x": [
            0,
            2.261298852465138
           ],
           "y": [
            0,
            0.4201517581063401
           ]
          },
          {
           "type": "scatter",
           "x": [
            2.261298852465138,
            2.5174293000260324
           ],
           "y": [
            0.4201517581063401,
            -0.23130598713294703
           ]
          }
         ]
        },
        {
         "data": [
          {
           "type": "scatter",
           "x": [
            0,
            2.278295334709572
           ],
           "y": [
            0,
            0.31523065815462725
           ]
          },
          {
           "type": "scatter",
           "x": [
            2.278295334709572,
            2.6361738644370316
           ],
           "y": [
            0.31523065815462725,
            -0.2863696725967044
           ]
          }
         ]
        },
        {
         "data": [
          {
           "type": "scatter",
           "x": [
            0,
            2.2919905323091077
           ],
           "y": [
            0,
            0.19177956044743824
           ]
          },
          {
           "type": "scatter",
           "x": [
            2.2919905323091077,
            2.75011691712248
           ],
           "y": [
            0.19177956044743824,
            -0.3374842825815656
           ]
          }
         ]
        },
        {
         "data": [
          {
           "type": "scatter",
           "x": [
            0,
            2.2995615870357304
           ],
           "y": [
            0,
            0.044905538964711694
           ]
          },
          {
           "type": "scatter",
           "x": [
            2.2995615870357304,
            2.854448785786465
           ],
           "y": [
            0.044905538964711694,
            -0.38182645733104614
           ]
          }
         ]
        },
        {
         "data": [
          {
           "type": "scatter",
           "x": [
            0,
            2.2961746109902186
           ],
           "y": [
            0,
            -0.13259772186549157
           ]
          },
          {
           "type": "scatter",
           "x": [
            2.2961746109902186,
            2.9369813718888906
           ],
           "y": [
            -0.13259772186549157,
            -0.41431867455902543
           ]
          }
         ]
        },
        {
         "data": [
          {
           "type": "scatter",
           "x": [
            0,
            2.2746007245831437
           ],
           "y": [
            0,
            -0.3408688072057007
           ]
          },
          {
           "type": "scatter",
           "x": [
            2.2746007245831437,
            2.968852618187844
           ],
           "y": [
            -0.3408688072057007,
            -0.43039147599013494
           ]
          }
         ]
        },
        {
         "data": [
          {
           "type": "scatter",
           "x": [
            0,
            2.233795503006352
           ],
           "y": [
            0,
            -0.5478664533885961
           ]
          },
          {
           "type": "scatter",
           "x": [
            2.233795503006352,
            2.9255184959375438
           ],
           "y": [
            -0.5478664533885961,
            -0.4405384465575996
           ]
          }
         ]
        },
        {
         "data": [
          {
           "type": "scatter",
           "x": [
            0,
            2.1825084215786488
           ],
           "y": [
            0,
            -0.7257113680646554
           ]
          },
          {
           "type": "scatter",
           "x": [
            2.1825084215786488,
            2.830483308213841
           ],
           "y": [
            -0.7257113680646554,
            -0.46089341872943795
           ]
          }
         ]
        },
        {
         "data": [
          {
           "type": "scatter",
           "x": [
            0,
            2.125895683544174
           ],
           "y": [
            0,
            -0.8778197666310829
           ]
          },
          {
           "type": "scatter",
           "x": [
            2.125895683544174,
            2.711422001452599
           ],
           "y": [
            -0.8778197666310829,
            -0.4942067701924825
           ]
          }
         ]
        },
        {
         "data": [
          {
           "type": "scatter",
           "x": [
            0,
            2.0652650041276837
           ],
           "y": [
            0,
            -1.0122650160533444
           ]
          },
          {
           "type": "scatter",
           "x": [
            2.0652650041276837,
            2.5807801737251586
           ],
           "y": [
            -1.0122650160533444,
            -0.5387208154607424
           ]
          }
         ]
        },
        {
         "data": [
          {
           "type": "scatter",
           "x": [
            0,
            2.0007266345560235
           ],
           "y": [
            0,
            -1.1345011828015548
           ]
          },
          {
           "type": "scatter",
           "x": [
            2.0007266345560235,
            2.4439478800120273
           ],
           "y": [
            -1.1345011828015548,
            -0.59269408836994
           ]
          }
         ]
        },
        {
         "data": [
          {
           "type": "scatter",
           "x": [
            0,
            1.9319742922025214
           ],
           "y": [
            0,
            -1.2479885152791135
           ]
          },
          {
           "type": "scatter",
           "x": [
            1.9319742922025214,
            2.3036084420969454
           ],
           "y": [
            -1.2479885152791135,
            -0.6547869823813564
           ]
          }
         ]
        },
        {
         "data": [
          {
           "type": "scatter",
           "x": [
            0,
            1.8584709644319857
           ],
           "y": [
            0,
            -1.3550223888789603
           ]
          },
          {
           "type": "scatter",
           "x": [
            1.8584709644319857,
            2.1612820212159276
           ],
           "y": [
            -1.3550223888789603,
            -0.7239079270819007
           ]
          }
         ]
        },
        {
         "data": [
          {
           "type": "scatter",
           "x": [
            0,
            1.7794847267258627
           ],
           "y": [
            0,
            -1.4572007779813259
           ]
          },
          {
           "type": "scatter",
           "x": [
            1.7794847267258627,
            2.0179163549874017
           ],
           "y": [
            -1.4572007779813259,
            -0.7990591833038955
           ]
          }
         ]
        },
        {
         "data": [
          {
           "type": "scatter",
           "x": [
            0,
            1.694082139811971
           ],
           "y": [
            0,
            -1.555662464537244
           ]
          },
          {
           "type": "scatter",
           "x": [
            1.694082139811971,
            1.8741366723013069
           ],
           "y": [
            -1.555662464537244,
            -0.8792155964610835
           ]
          }
         ]
        },
        {
         "data": [
          {
           "type": "scatter",
           "x": [
            0,
            1.6011157049762763
           ],
           "y": [
            0,
            -1.6511900251873861
           ]
          },
          {
           "type": "scatter",
           "x": [
            1.6011157049762763,
            1.7303570722886474
           ],
           "y": [
            -1.6511900251873861,
            -0.9632244235943787
           ]
          }
         ]
        },
        {
         "data": [
          {
           "type": "scatter",
           "x": [
            0,
            1.4992308469669373
           ],
           "y": [
            0,
            -1.7442209915898843
           ]
          },
          {
           "type": "scatter",
           "x": [
            1.4992308469669373,
            1.5868306733946016
           ],
           "y": [
            -1.7442209915898843,
            -1.049723856671501
           ]
          }
         ]
        },
        {
         "data": [
          {
           "type": "scatter",
           "x": [
            0,
            1.3869197740055683
           ],
           "y": [
            0,
            -1.8347897810028109
           ]
          },
          {
           "type": "scatter",
           "x": [
            1.3869197740055683,
            1.4436775821460095
           ],
           "y": [
            -1.8347897810028109,
            -1.1370946103049675
           ]
          }
         ]
        },
        {
         "data": [
          {
           "type": "scatter",
           "x": [
            0,
            1.2626457143834457
           ],
           "y": [
            0,
            -1.9224270597214128
           ]
          },
          {
           "type": "scatter",
           "x": [
            1.2626457143834457,
            1.3009197765790728
           ],
           "y": [
            -1.9224270597214128,
            -1.2234742028254377
           ]
          }
         ]
        },
        {
         "data": [
          {
           "type": "scatter",
           "x": [
            0,
            1.1250383552208327
           ],
           "y": [
            0,
            -2.0060629848741045
           ]
          },
          {
           "type": "scatter",
           "x": [
            1.1250383552208327,
            1.1585459924022112
           ],
           "y": [
            -2.0060629848741045,
            -1.306865417479508
           ]
          }
         ]
        },
        {
         "data": [
          {
           "type": "scatter",
           "x": [
            0,
            0.973122176495158
           ],
           "y": [
            0,
            -2.0839945368482438
           ]
          },
          {
           "type": "scatter",
           "x": [
            0.973122176495158,
            1.0166119568645537
           ],
           "y": [
            -2.0839945368482438,
            -1.385346815171989
           ]
          }
         ]
        },
        {
         "data": [
          {
           "type": "scatter",
           "x": [
            0,
            0.8065129632264438
           ],
           "y": [
            0,
            -2.1539584118890733
           ]
          },
          {
           "type": "scatter",
           "x": [
            0.8065129632264438,
            0.87534973196247
           ],
           "y": [
            -2.1539584118890733,
            -1.4573512777955566
           ]
          }
         ]
        },
        {
         "data": [
          {
           "type": "scatter",
           "x": [
            0,
            0.625536965269697
           ],
           "y": [
            0,
            -2.2133014943927494
           ]
          },
          {
           "type": "scatter",
           "x": [
            0.625536965269697,
            0.7352326650612973
           ],
           "y": [
            -2.2133014943927494,
            -1.5219500255672098
           ]
          }
         ]
        },
        {
         "data": [
          {
           "type": "scatter",
           "x": [
            0,
            0.43128360750018563
           ],
           "y": [
            0,
            -2.259202171099706
           ]
          },
          {
           "type": "scatter",
           "x": [
            0.43128360750018563,
            0.5969398759142148
           ],
           "y": [
            -2.259202171099706,
            -1.579086004011216
           ]
          }
         ]
        },
        {
         "data": [
          {
           "type": "scatter",
           "x": [
            0,
            0.22564806079992922
           ],
           "y": [
            0,
            -2.288904312691387
           ]
          },
          {
           "type": "scatter",
           "x": [
            0.22564806079992922,
            0.4611852464060541
           ],
           "y": [
            -2.288904312691387,
            -1.6297213076034631
           ]
          }
         ]
        },
        {
         "data": [
          {
           "type": "scatter",
           "x": [
            0,
            0.011415822516134282
           ],
           "y": [
            0,
            -2.299971669172531
           ]
          },
          {
           "type": "scatter",
           "x": [
            0.011415822516134282,
            0.3284088199517016
           ],
           "y": [
            -2.299971669172531,
            -1.6758599487435566
           ]
          }
         ]
        },
        {
         "data": [
          {
           "type": "scatter",
           "x": [
            0,
            -0.20761723592967005
           ],
           "y": [
            0,
            -2.2906101989087806
           ]
          },
          {
           "type": "scatter",
           "x": [
            -0.20761723592967005,
            0.198378571969455
           ],
           "y": [
            -2.2906101989087806,
            -1.7203756822681824
           ]
          }
         ]
        },
        {
         "data": [
          {
           "type": "scatter",
           "x": [
            0,
            -0.4265888268496876
           ],
           "y": [
            0,
            -2.2600933548875823
           ]
          },
          {
           "type": "scatter",
           "x": [
            -0.4265888268496876,
            0.06982933558658072
           ],
           "y": [
            -2.2600933548875823,
            -1.7665662451930908
           ]
          }
         ]
        },
        {
         "data": [
          {
           "type": "scatter",
           "x": [
            0,
            -0.6397477425021562
           ],
           "y": [
            0,
            -2.20923580134928
           ]
          },
          {
           "type": "scatter",
           "x": [
            -0.6397477425021562,
            -0.059662101987861704
           ],
           "y": [
            -2.20923580134928,
            -1.8174442117648164
           ]
          }
         ]
        },
        {
         "data": [
          {
           "type": "scatter",
           "x": [
            0,
            -0.8409853020097116
           ],
           "y": [
            0,
            -2.1407343884292684
           ]
          },
          {
           "type": "scatter",
           "x": [
            -0.8409853020097116,
            -0.1934024906237215
           ],
           "y": [
            -2.1407343884292684,
            -1.8749591029014052
           ]
          }
         ]
        },
        {
         "data": [
          {
           "type": "scatter",
           "x": [
            0,
            -1.0246363467074955
           ],
           "y": [
            0,
            -2.0591552532545756
           ]
          },
          {
           "type": "scatter",
           "x": [
            -1.0246363467074955,
            -0.33494383650884607
           ],
           "y": [
            -2.0591552532545756,
            -1.9394713304583795
           ]
          }
         ]
        },
        {
         "data": [
          {
           "type": "scatter",
           "x": [
            0,
            -1.1862471056771133
           ],
           "y": [
            0,
            -1.97048669223435
           ]
          },
          {
           "type": "scatter",
           "x": [
            -1.1862471056771133,
            -0.487345977650918
           ],
           "y": [
            -1.97048669223435,
            -2.009694003334599
           ]
          }
         ]
        },
        {
         "data": [
          {
           "type": "scatter",
           "x": [
            0,
            -1.3229829224993839
           ],
           "y": [
            0,
            -1.8814133481973037
           ]
          },
          {
           "type": "scatter",
           "x": [
            -1.3229829224993839,
            -0.6526499252694636
           ],
           "y": [
            -1.8814133481973037,
            -2.083040907882858
           ]
          }
         ]
        },
        {
         "data": [
          {
           "type": "scatter",
           "x": [
            0,
            -1.4335320782360879
           ],
           "y": [
            0,
            -1.7986066219905126
           ]
          },
          {
           "type": "scatter",
           "x": [
            -1.4335320782360879,
            -0.8317062414458863
           ],
           "y": [
            -1.7986066219905126,
            -2.1561057998521878
           ]
          }
         ]
        },
        {
         "data": [
          {
           "type": "scatter",
           "x": [
            0,
            -1.517563859681511
           ],
           "y": [
            0,
            -1.7282939367447177
           ]
          },
          {
           "type": "scatter",
           "x": [
            -1.517563859681511,
            -1.024291837458795
           ],
           "y": [
            -1.7282939367447177,
            -2.2249655708172833
           ]
          }
         ]
        },
        {
         "data": [
          {
           "type": "scatter",
           "x": [
            0,
            -1.5748496487822023
           ],
           "y": [
            0,
            -1.6762602971288718
           ]
          },
          {
           "type": "scatter",
           "x": [
            -1.5748496487822023,
            -1.2293153820676035
           ],
           "y": [
            -1.6762602971288718,
            -2.2850345332180844
           ]
          }
         ]
        },
        {
         "data": [
          {
           "type": "scatter",
           "x": [
            0,
            -1.6040006955399446
           ],
           "y": [
            0,
            -1.6483876269577413
           ]
          },
          {
           "type": "scatter",
           "x": [
            -1.6040006955399446,
            -1.4447773076201225
           ],
           "y": [
            -1.6483876269577413,
            -2.3300385000147146
           ]
          }
         ]
        },
        {
         "data": [
          {
           "type": "scatter",
           "x": [
            0,
            -1.600440945563788
           ],
           "y": [
            0,
            -1.6518440543110864
           ]
          },
          {
           "type": "scatter",
           "x": [
            -1.600440945563788,
            -1.6664626773448734
           ],
           "y": [
            -1.6518440543110864,
            -2.348723621332983
           ]
          }
         ]
        },
        {
         "data": [
          {
           "type": "scatter",
           "x": [
            0,
            -1.5546162749395356
           ],
           "y": [
            0,
            -1.6950422524801914
           ]
          },
          {
           "type": "scatter",
           "x": [
            -1.5546162749395356,
            -1.8799357291006122
           ],
           "y": [
            -1.6950422524801914,
            -2.314854524659711
           ]
          }
         ]
        },
        {
         "data": [
          {
           "type": "scatter",
           "x": [
            0,
            -1.4749054588252364
           ],
           "y": [
            0,
            -1.7648382043483528
           ]
          },
          {
           "type": "scatter",
           "x": [
            -1.4749054588252364,
            -2.035109256289345
           ],
           "y": [
            -1.7648382043483528,
            -2.184566336961348
           ]
          }
         ]
        },
        {
         "data": [
          {
           "type": "scatter",
           "x": [
            0,
            -1.419361494624973
           ],
           "y": [
            0,
            -1.8098101965609437
           ]
          },
          {
           "type": "scatter",
           "x": [
            -1.419361494624973,
            -2.097621699940921
           ],
           "y": [
            -1.8098101965609437,
            -1.9829087057537387
           ]
          }
         ]
        },
        {
         "data": [
          {
           "type": "scatter",
           "x": [
            0,
            -1.405240601688548
           ],
           "y": [
            0,
            -1.8207962135741624
           ]
          },
          {
           "type": "scatter",
           "x": [
            -1.405240601688548,
            -2.1032062706185393
           ],
           "y": [
            -1.8207962135741624,
            -1.767467750300693
           ]
          }
         ]
        },
        {
         "data": [
          {
           "type": "scatter",
           "x": [
            0,
            -1.423202149412485
           ],
           "y": [
            0,
            -1.806791532498335
           ]
          },
          {
           "type": "scatter",
           "x": [
            -1.423202149412485,
            -2.077297732812431
           ],
           "y": [
            -1.806791532498335,
            -1.5574745299159114
           ]
          }
         ]
        },
        {
         "data": [
          {
           "type": "scatter",
           "x": [
            0,
            -1.4659653602371938
           ],
           "y": [
            0,
            -1.7722713005024466
           ]
          },
          {
           "type": "scatter",
           "x": [
            -1.4659653602371938,
            -2.0308767484277865
           ],
           "y": [
            -1.7722713005024466,
            -1.3589008570832573
           ]
          }
         ]
        },
        {
         "data": [
          {
           "type": "scatter",
           "x": [
            0,
            -1.5287028394933195
           ],
           "y": [
            0,
            -1.7184491928844046
           ]
          },
          {
           "type": "scatter",
           "x": [
            -1.5287028394933195,
            -1.9697510964403322
           ],
           "y": [
            -1.7184491928844046,
            -1.1748717512590168
           ]
          }
         ]
        },
        {
         "data": [
          {
           "type": "scatter",
           "x": [
            0,
            -1.6076348265319422
           ],
           "y": [
            0,
            -1.6448435380064608
           ]
          },
          {
           "type": "scatter",
           "x": [
            -1.6076348265319422,
            -1.8979494560179617
           ],
           "y": [
            -1.6448435380064608,
            -1.0078840291627704
           ]
          }
         ]
        },
        {
         "data": [
          {
           "type": "scatter",
           "x": [
            0,
            -1.699216311195313
           ],
           "y": [
            0,
            -1.5500528790230974
           ]
          },
          {
           "type": "scatter",
           "x": [
            -1.699216311195313,
            -1.819086718556041
           ],
           "y": [
            -1.5500528790230974,
            -0.8603927558905698
           ]
          }
         ]
        },
        {
         "data": [
          {
           "type": "scatter",
           "x": [
            0,
            -1.7996545446581045
           ],
           "y": [
            0,
            -1.432216296476
           ]
          },
          {
           "type": "scatter",
           "x": [
            -1.7996545446581045,
            -1.7371567990767849
           ],
           "y": [
            -1.432216296476,
            -0.7350118560159203
           ]
          }
         ]
        },
        {
         "data": [
          {
           "type": "scatter",
           "x": [
            0,
            -1.9045566094212247
           ],
           "y": [
            0,
            -1.2894433378438648
           ]
          },
          {
           "type": "scatter",
           "x": [
            -1.9045566094212247,
            -1.6572844978360923
           ],
           "y": [
            -1.2894433378438648,
            -0.634571974267605
           ]
          }
         ]
        },
        {
         "data": [
          {
           "type": "scatter",
           "x": [
            0,
            -2.008573040159535
           ],
           "y": [
            0,
            -1.1205509101974271
           ]
          },
          {
           "type": "scatter",
           "x": [
            -2.008573040159535,
            -1.5867415281488104
           ],
           "y": [
            -1.1205509101974271,
            -0.561929235470474
           ]
          }
         ]
        },
        {
         "data": [
          {
           "type": "scatter",
           "x": [
            0,
            -2.10499470366374
           ],
           "y": [
            0,
            -0.926821070944981
           ]
          },
          {
           "type": "scatter",
           "x": [
            -2.10499470366374,
            -1.5361435091036797
           ],
           "y": [
            -0.926821070944981,
            -0.5188893138487822
           ]
          }
         ]
        },
        {
         "data": [
          {
           "type": "scatter",
           "x": [
            0,
            -2.1858983885801635
           ],
           "y": [
            0,
            -0.7154356957844946
           ]
          },
          {
           "type": "scatter",
           "x": [
            -2.1858983885801635,
            -1.51886983006422
           ],
           "y": [
            -0.7154356957844946,
            -0.5031318990117032
           ]
          }
         ]
        },
        {
         "data": [
          {
           "type": "scatter",
           "x": [
            0,
            -2.2446812505887594
           ],
           "y": [
            0,
            -0.5014041117255443
           ]
          },
          {
           "type": "scatter",
           "x": [
            -2.2446812505887594,
            -1.5446903713879276
           ],
           "y": [
            -0.5014041117255443,
            -0.5049774904693384
           ]
          }
         ]
        },
        {
         "data": [
          {
           "type": "scatter",
           "x": [
            0,
            -2.2801544745211078
           ],
           "y": [
            0,
            -0.3014889257027018
           ]
          },
          {
           "type": "scatter",
           "x": [
            -2.2801544745211078,
            -1.6122253808664742
           ],
           "y": [
            -0.3014889257027018,
            -0.5109423235020683
           ]
          }
         ]
        },
        {
         "data": [
          {
           "type": "scatter",
           "x": [
            0,
            -2.2965323394575963
           ],
           "y": [
            0,
            -0.12625059930716892
           ]
          },
          {
           "type": "scatter",
           "x": [
            -2.2965323394575963,
            -1.7119090184032448
           ],
           "y": [
            -0.12625059930716892,
            -0.5112383555792102
           ]
          }
         ]
        },
        {
         "data": [
          {
           "type": "scatter",
           "x": [
            0,
            -2.2999096217173602
           ],
           "y": [
            0,
            0.020389505435605002
           ]
          },
          {
           "type": "scatter",
           "x": [
            -2.2999096217173602,
            -1.8334005486177922
           ],
           "y": [
            0.020389505435605002,
            -0.5015006024566426
           ]
          }
         ]
        },
        {
         "data": [
          {
           "type": "scatter",
           "x": [
            0,
            -2.29584803991791
           ],
           "y": [
            0,
            0.13813680756803698
           ]
          },
          {
           "type": "scatter",
           "x": [
            -2.29584803991791,
            -1.968608895383342
           ],
           "y": [
            0.13813680756803698,
            -0.4806640830941243
           ]
          }
         ]
        },
        {
         "data": [
          {
           "type": "scatter",
           "x": [
            0,
            -2.288656837595874
           ],
           "y": [
            0,
            0.2281444273385869
           ]
          },
          {
           "type": "scatter",
           "x": [
            -2.288656837595874,
            -2.1117046115949667
           ],
           "y": [
            0.2281444273385869,
            -0.4491205944315646
           ]
          }
         ]
        },
        {
         "data": [
          {
           "type": "scatter",
           "x": [
            0,
            -2.281403935079976
           ],
           "y": [
            0,
            0.291883684027728
           ]
          },
          {
           "type": "scatter",
           "x": [
            -2.281403935079976,
            -2.2584757004561222
           ],
           "y": [
            0.291883684027728,
            -0.40774071238582865
           ]
          }
         ]
        },
        {
         "data": [
          {
           "type": "scatter",
           "x": [
            0,
            -2.2761263942695877
           ],
           "y": [
            0,
            0.33052781624142535
           ]
          },
          {
           "type": "scatter",
           "x": [
            -2.2761263942695877,
            -2.405704759617715
           ],
           "y": [
            0.33052781624142535,
            -0.35737439136784466
           ]
          }
         ]
        },
        {
         "data": [
          {
           "type": "scatter",
           "x": [
            0,
            -2.2740519222855227
           ],
           "y": [
            0,
            0.3445110371955005
           ]
          },
          {
           "type": "scatter",
           "x": [
            -2.2740519222855227,
            -2.5505920446733605
           ],
           "y": [
            0.3445110371955005,
            -0.29854849403758804
           ]
          }
         ]
        },
        {
         "data": [
          {
           "type": "scatter",
           "x": [
            0,
            -2.2757599580783396
           ],
           "y": [
            0,
            0.33304145869136575
           ]
          },
          {
           "type": "scatter",
           "x": [
            -2.2757599580783396,
            -2.690045016417195
           ],
           "y": [
            0.33304145869136575,
            -0.23119952744591504
           ]
          }
         ]
        },
        {
         "data": [
          {
           "type": "scatter",
           "x": [
            0,
            -2.2812159702481383
           ],
           "y": [
            0,
            0.2933491044555024
           ]
          },
          {
           "type": "scatter",
           "x": [
            -2.2812159702481383,
            -2.819350771080397
           ],
           "y": [
            0.2933491044555024,
            -0.15432369584983818
           ]
          }
         ]
        },
        {
         "data": [
          {
           "type": "scatter",
           "x": [
            0,
            -2.2894838316407844
           ],
           "y": [
            0,
            0.21969020154624708
           ]
          },
          {
           "type": "scatter",
           "x": [
            -2.2894838316407844,
            -2.9287100046170407
           ],
           "y": [
            0.21969020154624708,
            -0.06559894963572277
           ]
          }
         ]
        },
        {
         "data": [
          {
           "type": "scatter",
           "x": [
            0,
            -2.2975476597069315
           ],
           "y": [
            0,
            0.1061826321730711
           ]
          },
          {
           "type": "scatter",
           "x": [
            -2.2975476597069315,
            -2.9941068891587865
           ],
           "y": [
            0.1061826321730711,
            0.03686279471337857
           ]
          }
         ]
        },
        {
         "data": [
          {
           "type": "scatter",
           "x": [
            0,
            -2.2998300674264924
           ],
           "y": [
            0,
            -0.02795820024704494
           ]
          },
          {
           "type": "scatter",
           "x": [
            -2.2998300674264924,
            -2.978913691633573
           ],
           "y": [
            -0.02795820024704494,
            0.14188122784247917
           ]
          }
         ]
        },
        {
         "data": [
          {
           "type": "scatter",
           "x": [
            0,
            -2.295786704531022
           ],
           "y": [
            0,
            -0.1391524606271446
           ]
          },
          {
           "type": "scatter",
           "x": [
            -2.295786704531022,
            -2.892183947910823
           ],
           "y": [
            -0.1391524606271446,
            0.22733127446757234
           ]
          }
         ]
        },
        {
         "data": [
          {
           "type": "scatter",
           "x": [
            0,
            -2.289582340451668
           ],
           "y": [
            0,
            -0.21866116777302264
           ]
          },
          {
           "type": "scatter",
           "x": [
            -2.289582340451668,
            -2.7711131722319453
           ],
           "y": [
            -0.21866116777302264,
            0.2894018775717399
           ]
          }
         ]
        },
        {
         "data": [
          {
           "type": "scatter",
           "x": [
            0,
            -2.2836511186259574
           ],
           "y": [
            0,
            -0.2737472710337272
           ]
          },
          {
           "type": "scatter",
           "x": [
            -2.2836511186259574,
            -2.6345784630356874
           ],
           "y": [
            -0.2737472710337272,
            0.33193416251491215
           ]
          }
         ]
        },
        {
         "data": [
          {
           "type": "scatter",
           "x": [
            0,
            -2.2790425233271847
           ],
           "y": [
            0,
            -0.3097824670094455
           ]
          },
          {
           "type": "scatter",
           "x": [
            -2.2790425233271847,
            -2.4903238194806043
           ],
           "y": [
            -0.3097824670094455,
            0.35757067331112785
           ]
          }
         ]
        },
        {
         "data": [
          {
           "type": "scatter",
           "x": [
            0,
            -2.2762861448711202
           ],
           "y": [
            0,
            -0.32942584395850383
           ]
          },
          {
           "type": "scatter",
           "x": [
            -2.2762861448711202,
            -2.3422626737185257
           ],
           "y": [
            -0.32942584395850383,
            0.36745800406873186
           ]
          }
         ]
        },
        {
         "data": [
          {
           "type": "scatter",
           "x": [
            0,
            -2.275701282375348
           ],
           "y": [
            0,
            -0.33344215899492263
           ]
          },
          {
           "type": "scatter",
           "x": [
            -2.275701282375348,
            -2.1930943143365487
           ],
           "y": [
            -0.33344215899492263,
            0.3616665295074127
           ]
          }
         ]
        },
        {
         "data": [
          {
           "type": "scatter",
           "x": [
            0,
            -2.2774766258477253
           ],
           "y": [
            0,
            -0.32109222774346413
           ]
          },
          {
           "type": "scatter",
           "x": [
            -2.2774766258477253,
            -2.0454914878504136
           ],
           "y": [
            -0.32109222774346413,
            0.3393492123164159
           ]
          }
         ]
        },
        {
         "data": [
          {
           "type": "scatter",
           "x": [
            0,
            -2.2816235822509805
           ],
           "y": [
            0,
            -0.2901617288964913
           ]
          },
          {
           "type": "scatter",
           "x": [
            -2.2816235822509805,
            -1.903126312614087
           ],
           "y": [
            -0.2901617288964913,
            0.2986844453098261
           ]
          }
         ]
        },
        {
         "data": [
          {
           "type": "scatter",
           "x": [
            0,
            -2.2877693798979455
           ],
           "y": [
            0,
            -0.23687816362292552
           ]
          },
          {
           "type": "scatter",
           "x": [
            -2.2877693798979455,
            -1.7723295368639171
           ],
           "y": [
            -0.23687816362292552,
            0.23674802675621315
           ]
          }
         ]
        },
        {
         "data": [
          {
           "type": "scatter",
           "x": [
            0,
            -2.294655952204665
           ],
           "y": [
            0,
            -0.15669735483313593
           ]
          },
          {
           "type": "scatter",
           "x": [
            -2.294655952204665,
            -1.6654132089489764
           ],
           "y": [
            -0.15669735483313593,
            0.14998419019371337
           ]
          }
         ]
        },
        {
         "data": [
          {
           "type": "scatter",
           "x": [
            0,
            -2.2994569080908573
           ],
           "y": [
            0,
            -0.04997927403668287
           ]
          },
          {
           "type": "scatter",
           "x": [
            -2.2994569080908573,
            -1.6050274456429028
           ],
           "y": [
            -0.04997927403668287,
            0.038155405200522005
           ]
          }
         ]
        },
        {
         "data": [
          {
           "type": "scatter",
           "x": [
            0,
            -2.299102630598578
           ],
           "y": [
            0,
            0.06424246239598369
           ]
          },
          {
           "type": "scatter",
           "x": [
            -2.299102630598578,
            -1.6153690989633849
           ],
           "y": [
            0.06424246239598369,
            -0.08578572734736661
           ]
          }
         ]
        },
        {
         "data": [
          {
           "type": "scatter",
           "x": [
            0,
            -2.294768530289372
           ],
           "y": [
            0,
            0.15503997030944777
           ]
          },
          {
           "type": "scatter",
           "x": [
            -2.294768530289372,
            -1.6917099438177776
           ],
           "y": [
            0.15503997030944777,
            -0.2003757599036119
           ]
          }
         ]
        },
        {
         "data": [
          {
           "type": "scatter",
           "x": [
            0,
            -2.2904204499571383
           ],
           "y": [
            0,
            0.20970017267074334
           ]
          },
          {
           "type": "scatter",
           "x": [
            -2.2904204499571383,
            -1.8075277563861771
           ],
           "y": [
            0.20970017267074334,
            -0.29706865677299976
           ]
          }
         ]
        },
        {
         "data": [
          {
           "type": "scatter",
           "x": [
            0,
            -2.2883918044689193
           ],
           "y": [
            0,
            0.23078767133337824
           ]
          },
          {
           "type": "scatter",
           "x": [
            -2.2883918044689193,
            -1.9429385333982279
           ],
           "y": [
            0.23078767133337824,
            -0.37803252996299724
           ]
          }
         ]
        },
        {
         "data": [
          {
           "type": "scatter",
           "x": [
            0,
            -2.2891311818138207
           ],
           "y": [
            0,
            0.22333479900736514
           ]
          },
          {
           "type": "scatter",
           "x": [
            -2.2891311818138207,
            -2.0876794947943074
           ],
           "y": [
            0.22333479900736514,
            -0.44705107330573185
           ]
          }
         ]
        },
        {
         "data": [
          {
           "type": "scatter",
           "x": [
            0,
            -2.292060483577461
           ],
           "y": [
            0,
            0.19094171786871295
           ]
          },
          {
           "type": "scatter",
           "x": [
            -2.292060483577461,
            -2.236500436687121
           ],
           "y": [
            0.19094171786871295,
            -0.5068498564495381
           ]
          }
         ]
        },
        {
         "data": [
          {
           "type": "scatter",
           "x": [
            0,
            -2.2960160568265557
           ],
           "y": [
            0,
            0.13531543442872276
           ]
          },
          {
           "type": "scatter",
           "x": [
            -2.2960160568265557,
            -2.3862932594179163
           ],
           "y": [
            0.13531543442872276,
            -0.558838746349783
           ]
          }
         ]
        },
        {
         "data": [
          {
           "type": "scatter",
           "x": [
            0,
            -2.299313337244006
           ],
           "y": [
            0,
            0.056197661622442864
           ]
          },
          {
           "type": "scatter",
           "x": [
            -2.299313337244006,
            -2.5345318444913323
           ],
           "y": [
            0.056197661622442864,
            -0.6030991257566096
           ]
          }
         ]
        },
        {
         "data": [
          {
           "type": "scatter",
           "x": [
            0,
            -2.299475490258148
           ],
           "y": [
            0,
            -0.049116898334986454
           ]
          },
          {
           "type": "scatter",
           "x": [
            -2.299475490258148,
            -2.6778670795809933
           ],
           "y": [
            -0.049116898334986454,
            -0.6380309881050743
           ]
          }
         ]
        },
        {
         "data": [
          {
           "type": "scatter",
           "x": [
            0,
            -2.2923815217391184
           ],
           "y": [
            0,
            -0.187048011989017
           ]
          },
          {
           "type": "scatter",
           "x": [
            -2.2923815217391184,
            -2.8091992995193147
           ],
           "y": [
            -0.187048011989017,
            -0.6591702255845431
           ]
          }
         ]
        },
        {
         "data": [
          {
           "type": "scatter",
           "x": [
            0,
            -2.2703900804448605
           ],
           "y": [
            0,
            -0.3678707417253771
           ]
          },
          {
           "type": "scatter",
           "x": [
            -2.2703900804448605,
            -2.90792701848186
           ],
           "y": [
            -0.3678707417253771,
            -0.6569151200453973
           ]
          }
         ]
        },
        {
         "data": [
          {
           "type": "scatter",
           "x": [
            0,
            -2.225349000561081
           ],
           "y": [
            0,
            -0.5812244193956384
           ]
          },
          {
           "type": "scatter",
           "x": [
            -2.225349000561081,
            -2.923995790249352
           ],
           "y": [
            -0.5812244193956384,
            -0.6247291692314069
           ]
          }
         ]
        },
        {
         "data": [
          {
           "type": "scatter",
           "x": [
            0,
            -2.1675698789057405
           ],
           "y": [
            0,
            -0.769181916103436
           ]
          },
          {
           "type": "scatter",
           "x": [
            -2.1675698789057405,
            -2.8436446062048804
           ],
           "y": [
            -0.769181916103436,
            -0.5877350558181345
           ]
          }
         ]
        },
        {
         "data": [
          {
           "type": "scatter",
           "x": [
            0,
            -2.1096368509596264
           ],
           "y": [
            0,
            -0.9162054120518776
           ]
          },
          {
           "type": "scatter",
           "x": [
            -2.1096368509596264,
            -2.715290894939564
           ],
           "y": [
            -0.9162054120518776,
            -0.5652307989945404
           ]
          }
         ]
        },
        {
         "data": [
          {
           "type": "scatter",
           "x": [
            0,
            -2.0540183808173786
           ],
           "y": [
            0,
            -1.0348954011224287
           ]
          },
          {
           "type": "scatter",
           "x": [
            -2.0540183808173786,
            -2.5662932644241407
           ],
           "y": [
            -1.0348954011224287,
            -0.5578477686729235
           ]
          }
         ]
        },
        {
         "data": [
          {
           "type": "scatter",
           "x": [
            0,
            -2.0008932045994547
           ],
           "y": [
            0,
            -1.1342073812966147
           ]
          },
          {
           "type": "scatter",
           "x": [
            -2.0008932045994547,
            -2.40676620085229
           ],
           "y": [
            -1.1342073812966147,
            -0.5638854450950112
           ]
          }
         ]
        },
        {
         "data": [
          {
           "type": "scatter",
           "x": [
            0,
            -1.9503540237917099
           ],
           "y": [
            0,
            -1.2190648800943635
           ]
          },
          {
           "type": "scatter",
           "x": [
            -1.9503540237917099,
            -2.241110430908906
           ],
           "y": [
            -1.2190648800943635,
            -0.5823069105955128
           ]
          }
         ]
        },
        {
         "data": [
          {
           "type": "scatter",
           "x": [
            0,
            -1.9027307503294584
           ],
           "y": [
            0,
            -1.2921360964506394
           ]
          },
          {
           "type": "scatter",
           "x": [
            -1.9027307503294584,
            -2.071689190946961
           ],
           "y": [
            -1.2921360964506394,
            -0.6128327434896064
           ]
          }
         ]
        },
        {
         "data": [
          {
           "type": "scatter",
           "x": [
            0,
            -1.8586913351586352
           ],
           "y": [
            0,
            -1.3547200893934546
           ]
          },
          {
           "type": "scatter",
           "x": [
            -1.8586913351586352,
            -1.9001283436084895
           ],
           "y": [
            -1.3547200893934546,
            -0.655947612595229
           ]
          }
         ]
        },
        {
         "data": [
          {
           "type": "scatter",
           "x": [
            0,
            -1.8193332345881985
           ],
           "y": [
            0,
            -1.407134173248181
           ]
          },
          {
           "type": "scatter",
           "x": [
            -1.8193332345881985,
            -1.728033153395419
           ],
           "y": [
            -1.407134173248181,
            -0.713113787975391
           ]
          }
         ]
        },
        {
         "data": [
          {
           "type": "scatter",
           "x": [
            0,
            -1.7862002336365501
           ],
           "y": [
            0,
            -1.4489612573691313
           ]
          },
          {
           "type": "scatter",
           "x": [
            -1.7862002336365501,
            -1.5578112884916537
           ],
           "y": [
            -1.4489612573691313,
            -0.787267604886654
           ]
          }
         ]
        },
        {
         "data": [
          {
           "type": "scatter",
           "x": [
            0,
            -1.76078102082563
           ],
           "y": [
            0,
            -1.4797466663926806
           ]
          },
          {
           "type": "scatter",
           "x": [
            -1.76078102082563,
            -1.394159569786292
           ],
           "y": [
            -1.4797466663926806,
            -0.883434070820685
           ]
          }
         ]
        },
        {
         "data": [
          {
           "type": "scatter",
           "x": [
            0,
            -1.7422934289820442
           ],
           "y": [
            0,
            -1.501470481669883
           ]
          },
          {
           "type": "scatter",
           "x": [
            -1.7422934289820442,
            -1.2459830992658025
           ],
           "y": [
            -1.501470481669883,
            -1.007834931271661
           ]
          }
         ]
        },
        {
         "data": [
          {
           "type": "scatter",
           "x": [
            0,
            -1.7242802828072075
           ],
           "y": [
            0,
            -1.5221226975254971
           ]
          },
          {
           "type": "scatter",
           "x": [
            -1.7242802828072075,
            -1.1240224753726047
           ],
           "y": [
            -1.5221226975254971,
            -1.1619969353065143
           ]
          }
         ]
        },
        {
         "data": [
          {
           "type": "scatter",
           "x": [
            0,
            -1.697533613651154
           ],
           "y": [
            0,
            -1.55189549600624
           ]
          },
          {
           "type": "scatter",
           "x": [
            -1.697533613651154,
            -1.0310442792838481
           ],
           "y": [
            -1.55189549600624,
            -1.3379049187028804
           ]
          }
         ]
        },
        {
         "data": [
          {
           "type": "scatter",
           "x": [
            0,
            -1.6572657684920724
           ],
           "y": [
            0,
            -1.5948260634264728
           ]
          },
          {
           "type": "scatter",
           "x": [
            -1.6572657684920724,
            -0.9607133478234924
           ],
           "y": [
            -1.5948260634264728,
            -1.5254378420863821
           ]
          }
         ]
        },
        {
         "data": [
          {
           "type": "scatter",
           "x": [
            0,
            -1.6025789403144508
           ],
           "y": [
            0,
            -1.6497699051869663
           ]
          },
          {
           "type": "scatter",
           "x": [
            -1.6025789403144508,
            -0.9059783875165488
           ],
           "y": [
            -1.6497699051869663,
            -1.7186732421283462
           ]
          }
         ]
        },
        {
         "data": [
          {
           "type": "scatter",
           "x": [
            0,
            -1.5332009613459023
           ],
           "y": [
            0,
            -1.7144371706563062
           ]
          },
          {
           "type": "scatter",
           "x": [
            -1.5332009613459023,
            -0.8624931871458426
           ],
           "y": [
            -1.7144371706563062,
            -1.9148145187463574
           ]
          }
         ]
        },
        {
         "data": [
          {
           "type": "scatter",
           "x": [
            0,
            -1.4480464230152141
           ],
           "y": [
            0,
            -1.7869419567498108
           ]
          },
          {
           "type": "scatter",
           "x": [
            -1.4480464230152141,
            -0.8281801150896145
           ],
           "y": [
            -1.7869419567498108,
            -2.1121584389561803
           ]
          }
         ]
        },
        {
         "data": [
          {
           "type": "scatter",
           "x": [
            0,
            -1.34460127160135
           ],
           "y": [
            0,
            -1.8660244961972048
           ]
          },
          {
           "type": "scatter",
           "x": [
            -1.34460127160135,
            -0.8024762535963421
           ],
           "y": [
            -1.8660244961972048,
            -2.308856817570735
           ]
          }
         ]
        },
        {
         "data": [
          {
           "type": "scatter",
           "x": [
            0,
            -1.2180449604471775
           ],
           "y": [
            0,
            -1.9509911517813794
           ]
          },
          {
           "type": "scatter",
           "x": [
            -1.2180449604471775,
            -0.7859958379860557
           ],
           "y": [
            -1.9509911517813794,
            -2.501748408456745
           ]
          }
         ]
        },
        {
         "data": [
          {
           "type": "scatter",
           "x": [
            0,
            -1.0591488976356964
           ],
           "y": [
            0,
            -2.0416178909475415
           ]
          },
          {
           "type": "scatter",
           "x": [
            -1.0591488976356964,
            -0.7805360975822547
           ],
           "y": [
            -2.0416178909475415,
            -2.6837821282314165
           ]
          }
         ]
        },
        {
         "data": [
          {
           "type": "scatter",
           "x": [
            0,
            -0.8495622254475004
           ],
           "y": [
            0,
            -2.137345087975428
           ]
          },
          {
           "type": "scatter",
           "x": [
            -0.8495622254475004,
            -0.7883755306374767
           ],
           "y": [
            -2.137345087975428,
            -2.8346658092925456
           ]
          }
         ]
        },
        {
         "data": [
          {
           "type": "scatter",
           "x": [
            0,
            -0.5716648098252085
           ],
           "y": [
            0,
            -2.2278239035452305
           ]
          },
          {
           "type": "scatter",
           "x": [
            -0.5716648098252085,
            -0.7981660607623792
           ],
           "y": [
            -2.2278239035452305,
            -2.890166098580317
           ]
          }
         ]
        },
        {
         "data": [
          {
           "type": "scatter",
           "x": [
            0,
            -0.297903349948144
           ],
           "y": [
            0,
            -2.280625702321552
           ]
          },
          {
           "type": "scatter",
           "x": [
            -0.297903349948144,
            -0.7611854286381208
           ],
           "y": [
            -2.280625702321552,
            -2.8053825179654215
           ]
          }
         ]
        },
        {
         "data": [
          {
           "type": "scatter",
           "x": [
            0,
            -0.0804509442851563
           ],
           "y": [
            0,
            -2.2985925357843713
           ]
          },
          {
           "type": "scatter",
           "x": [
            -0.0804509442851563,
            -0.6775733385728665
           ],
           "y": [
            -2.2985925357843713,
            -2.6638935708775016
           ]
          }
         ]
        },
        {
         "data": [
          {
           "type": "scatter",
           "x": [
            0,
            0.09806011958734843
           ],
           "y": [
            0,
            -2.2979086607057546
           ]
          },
          {
           "type": "scatter",
           "x": [
            0.09806011958734843,
            -0.5691176157158894
           ],
           "y": [
            -2.2979086607057546,
            -2.509743194046385
           ]
          }
         ]
        },
        {
         "data": [
          {
           "type": "scatter",
           "x": [
            0,
            0.25092390682777277
           ],
           "y": [
            0,
            -2.286271460912349
           ]
          },
          {
           "type": "scatter",
           "x": [
            0.25092390682777277,
            -0.44575032803972114
           ],
           "y": [
            -2.286271460912349,
            -2.3544257745820794
           ]
          }
         ]
        },
        {
         "data": [
          {
           "type": "scatter",
           "x": [
            0,
            0.38500046740477395
           ],
           "y": [
            0,
            -2.2675481560703634
           ]
          },
          {
           "type": "scatter",
           "x": [
            0.38500046740477395,
            -0.3119124490390664
           ],
           "y": [
            -2.2675481560703634,
            -2.201879389569531
           ]
          }
         ]
        },
        {
         "data": [
          {
           "type": "scatter",
           "x": [
            0,
            0.503958076886869
           ],
           "y": [
            0,
            -2.244109234582953
           ]
          },
          {
           "type": "scatter",
           "x": [
            0.503958076886869,
            -0.1697301025333915
           ],
           "y": [
            -2.244109234582953,
            -2.0539928573046793
           ]
          }
         ]
        },
        {
         "data": [
          {
           "type": "scatter",
           "x": [
            0,
            0.6097192847825587
           ],
           "y": [
            0,
            -2.217711070848555
           ]
          },
          {
           "type": "scatter",
           "x": [
            0.6097192847825587,
            -0.020061827923892328
           ],
           "y": [
            -2.217711070848555,
            -1.912136611709339
           ]
          }
         ]
        },
        {
         "data": [
          {
           "type": "scatter",
           "x": [
            0,
            0.7031219762831972
           ],
           "y": [
            0,
            -2.1898902909661047
           ]
          },
          {
           "type": "scatter",
           "x": [
            0.7031219762831972,
            0.13718646241961885
           ],
           "y": [
            -2.1898902909661047,
            -1.7779230663620502
           ]
          }
         ]
        },
        {
         "data": [
          {
           "type": "scatter",
           "x": [
            0,
            0.784466402655242
           ],
           "y": [
            0,
            -2.1620852118048317
           ]
          },
          {
           "type": "scatter",
           "x": [
            0.784466402655242,
            0.30298461482203104
           ],
           "y": [
            -2.1620852118048317,
            -1.653975688193106
           ]
          }
         ]
        },
        {
         "data": [
          {
           "type": "scatter",
           "x": [
            0,
            0.8546565283923788
           ],
           "y": [
            0,
            -2.1353131429549825
           ]
          },
          {
           "type": "scatter",
           "x": [
            0.8546565283923788,
            0.4788092176836573
           ],
           "y": [
            -2.1353131429549825,
            -1.544772035975103
           ]
          }
         ]
        },
        {
         "data": [
          {
           "type": "scatter",
           "x": [
            0,
            0.9172939932284015
           ],
           "y": [
            0,
            -2.109163751344853
           ]
          },
          {
           "type": "scatter",
           "x": [
            0.9172939932284015,
            0.6650791101472673
           ],
           "y": [
            -2.109163751344853,
            -1.4561800970682932
           ]
          }
         ]
        },
        {
         "data": [
          {
           "type": "scatter",
           "x": [
            0,
            0.9790075147395549
           ],
           "y": [
            0,
            -2.0812362398544475
           ]
          },
          {
           "type": "scatter",
           "x": [
            0.9790075147395549,
            0.85913808266619
           ],
           "y": [
            -2.0812362398544475,
            -1.3915759472071116
           ]
          }
         ]
        },
        {
         "data": [
          {
           "type": "scatter",
           "x": [
            0,
            1.045271455440647
           ],
           "y": [
            0,
            -2.048757570929511
           ]
          },
          {
           "type": "scatter",
           "x": [
            1.045271455440647,
            1.0564920602268686
           ],
           "y": [
            -2.048757570929511,
            -1.3488475066868033
           ]
          }
         ]
        },
        {
         "data": [
          {
           "type": "scatter",
           "x": [
            0,
            1.1178219727453809
           ],
           "y": [
            0,
            -2.010093041938015
           ]
          },
          {
           "type": "scatter",
           "x": [
            1.1178219727453809,
            1.2537763910096085
           ],
           "y": [
            -2.010093041938015,
            -1.3234225269496145
           ]
          }
         ]
        },
        {
         "data": [
          {
           "type": "scatter",
           "x": [
            0,
            1.1963328285398491
           ],
           "y": [
            0,
            -1.9643797401108174
           ]
          },
          {
           "type": "scatter",
           "x": [
            1.1963328285398491,
            1.4492140094275106
           ],
           "y": [
            -1.9643797401108174,
            -1.3116538341189825
           ]
          }
         ]
        },
        {
         "data": [
          {
           "type": "scatter",
           "x": [
            0,
            1.280183112421455
           ],
           "y": [
            0,
            -1.9107933427429862
           ]
          },
          {
           "type": "scatter",
           "x": [
            1.280183112421455,
            1.641743871056189
           ],
           "y": [
            -1.9107933427429862,
            -1.311398800045544
           ]
          }
         ]
        },
        {
         "data": [
          {
           "type": "scatter",
           "x": [
            0,
            1.3691033046512826
           ],
           "y": [
            0,
            -1.8481223285250725
           ]
          },
          {
           "type": "scatter",
           "x": [
            1.3691033046512826,
            1.8303457654438189
           ],
           "y": [
            -1.8481223285250725,
            -1.3215718633633315
           ]
          }
         ]
        },
        {
         "data": [
          {
           "type": "scatter",
           "x": [
            0,
            1.463344171548673
           ],
           "y": [
            0,
            -1.7744362021764903
           ]
          },
          {
           "type": "scatter",
           "x": [
            1.463344171548673,
            2.0135857838889484
           ],
           "y": [
            -1.7744362021764903,
            -1.34173056545659
           ]
          }
         ]
        },
        {
         "data": [
          {
           "type": "scatter",
           "x": [
            0,
            1.5638029473612955
           ],
           "y": [
            0,
            -1.6865705860781885
           ]
          },
          {
           "type": "scatter",
           "x": [
            1.5638029473612955,
            2.1890432173241314
           ],
           "y": [
            -1.6865705860781885,
            -1.3718093991176612
           ]
          }
         ]
        },
        {
         "data": [
          {
           "type": "scatter",
           "x": [
            0,
            1.67230122014515
           ],
           "y": [
            0,
            -1.5790530798871336
           ]
          },
          {
           "type": "scatter",
           "x": [
            1.67230122014515,
            2.3520314663576083
           ],
           "y": [
            -1.5790530798871336,
            -1.4118203307500388
           ]
          }
         ]
        },
        {
         "data": [
          {
           "type": "scatter",
           "x": [
            0,
            1.7920340968999096
           ],
           "y": [
            0,
            -1.441739850163033
           ]
          },
          {
           "type": "scatter",
           "x": [
            1.7920340968999096,
            2.4917765677112538
           ],
           "y": [
            -1.441739850163033,
            -1.4607260173074366
           ]
          }
         ]
        },
        {
         "data": [
          {
           "type": "scatter",
           "x": [
            0,
            1.9256151999778846
           ],
           "y": [
            0,
            -1.2577782402371775
           ]
          },
          {
           "type": "scatter",
           "x": [
            1.9256151999778846,
            2.578836398265645
           ],
           "y": [
            -1.2577782402371775,
            -1.5093772587318897
           ]
          }
         ]
        },
        {
         "data": [
          {
           "type": "scatter",
           "x": [
            0,
            2.0530667653108687
           ],
           "y": [
            0,
            -1.0367819718609912
           ]
          },
          {
           "type": "scatter",
           "x": [
            2.0530667653108687,
            2.561753562617151
           ],
           "y": [
            -1.0367819718609912,
            -1.5176538282284409
           ]
          }
         ]
        },
        {
         "data": [
          {
           "type": "scatter",
           "x": [
            0,
            2.139924246856091
           ],
           "y": [
            0,
            -0.843044611937821
           ]
          },
          {
           "type": "scatter",
           "x": [
            2.139924246856091,
            2.46639869431317
           ],
           "y": [
            -0.843044611937821,
            -1.4622492914724599
           ]
          }
         ]
        },
        {
         "data": [
          {
           "type": "scatter",
           "x": [
            0,
            2.194395508363527
           ],
           "y": [
            0,
            -0.6889327636816067
           ]
          },
          {
           "type": "scatter",
           "x": [
            2.194395508363527,
            2.3480614712526404
           ],
           "y": [
            -0.6889327636816067,
            -1.3718579219891343
           ]
          }
         ]
        },
        {
         "data": [
          {
           "type": "scatter",
           "x": [
            0,
            2.2296534186609827
           ],
           "y": [
            0,
            -0.5644870526888922
           ]
          },
          {
           "type": "scatter",
           "x": [
            2.2296534186609827,
            2.22443379612446
           ],
           "y": [
            -0.5644870526888922,
            -1.2644675920902215
           ]
          }
         ]
        },
        {
         "data": [
          {
           "type": "scatter",
           "x": [
            0,
            2.252742862935202
           ],
           "y": [
            0,
            -0.463842207538845
           ]
          },
          {
           "type": "scatter",
           "x": [
            2.252742862935202,
            2.10073337464091
           ],
           "y": [
            -0.463842207538845,
            -1.1471379820527134
           ]
          }
         ]
        },
        {
         "data": [
          {
           "type": "scatter",
           "x": [
            0,
            2.2676005768074003
           ],
           "y": [
            0,
            -0.38469159603862446
           ]
          },
          {
           "type": "scatter",
           "x": [
            2.2676005768074003,
            1.9794575883937247
           ],
           "y": [
            -0.38469159603862446,
            -1.022636435525579
           ]
          }
         ]
        },
        {
         "data": [
          {
           "type": "scatter",
           "x": [
            0,
            2.2766296607956513
           ],
           "y": [
            0,
            -0.3270434032135136
           ]
          },
          {
           "type": "scatter",
           "x": [
            2.2766296607956513,
            1.8629044015808267
           ],
           "y": [
            -0.3270434032135136,
            -0.8916949859507146
           ]
          }
         ]
        },
        {
         "data": [
          {
           "type": "scatter",
           "x": [
            0,
            2.2812879098849286
           ],
           "y": [
            0,
            -0.29278912584461564
           ]
          },
          {
           "type": "scatter",
           "x": [
            2.2812879098849286,
            1.7545101704151416
           ],
           "y": [
            -0.29278912584461564,
            -0.7537720031829189
           ]
          }
         ]
        },
        {
         "data": [
          {
           "type": "scatter",
           "x": [
            0,
            2.2822066496574007
           ],
           "y": [
            0,
            -0.28553950385111476
           ]
          },
          {
           "type": "scatter",
           "x": [
            2.2822066496574007,
            1.6606395167997916
           ],
           "y": [
            -0.28553950385111476,
            -0.6074933815279819
           ]
          }
         ]
        },
        {
         "data": [
          {
           "type": "scatter",
           "x": [
            0,
            2.2790992231908387
           ],
           "y": [
            0,
            -0.30936504464938247
           ]
          },
          {
           "type": "scatter",
           "x": [
            2.2790992231908387,
            1.5937765121530845
           ],
           "y": [
            -0.30936504464938247,
            -0.4519581080706534
           ]
          }
         ]
        },
        {
         "data": [
          {
           "type": "scatter",
           "x": [
            0,
            2.271309243860021
           ],
           "y": [
            0,
            -0.3621523419170701
           ]
          },
          {
           "type": "scatter",
           "x": [
            2.271309243860021,
            1.5748771391514222
           ],
           "y": [
            -0.3621523419170701,
            -0.29156676597445225
           ]
          }
         ]
        },
        {
         "data": [
          {
           "type": "scatter",
           "x": [
            0,
            2.2605629304400865
           ],
           "y": [
            0,
            -0.4240934301779822
           ]
          },
          {
           "type": "scatter",
           "x": [
            2.2605629304400865,
            1.6199540151928078
           ],
           "y": [
            -0.4240934301779822,
            -0.141922882980538
           ]
          }
         ]
        },
        {
         "data": [
          {
           "type": "scatter",
           "x": [
            0,
            2.251444319848925
           ],
           "y": [
            0,
            -0.4701047485614368
           ]
          },
          {
           "type": "scatter",
           "x": [
            2.251444319848925,
            1.7170829874082922
           ],
           "y": [
            -0.4701047485614368,
            -0.017934463832031344
           ]
          }
         ]
        },
        {
         "data": [
          {
           "type": "scatter",
           "x": [
            0,
            2.246649477744173
           ],
           "y": [
            0,
            -0.49251002441761105
           ]
          },
          {
           "type": "scatter",
           "x": [
            2.246649477744173,
            1.8427367920520905
           ],
           "y": [
            -0.49251002441761105,
            0.0792019155810294
           ]
          }
         ]
        },
        {
         "data": [
          {
           "type": "scatter",
           "x": [
            0,
            2.246300501162749
           ],
           "y": [
            0,
            -0.49409923950152146
           ]
          },
          {
           "type": "scatter",
           "x": [
            2.246300501162749,
            1.981912075420654
           ],
           "y": [
            -0.49409923950152146,
            0.15405102111218594
           ]
          }
         ]
        },
        {
         "data": [
          {
           "type": "scatter",
           "x": [
            0,
            2.249646477113571
           ],
           "y": [
            0,
            -0.47863423196685106
           ]
          },
          {
           "type": "scatter",
           "x": [
            2.249646477113571,
            2.1271818453469433
           ],
           "y": [
            -0.47863423196685106,
            0.2105699569106283
           ]
          }
         ]
        },
        {
         "data": [
          {
           "type": "scatter",
           "x": [
            0,
            2.2558387920304916
           ],
           "y": [
            0,
            -0.4485435813501415
           ]
          },
          {
           "type": "scatter",
           "x": [
            2.2558387920304916,
            2.274666302958158
           ],
           "y": [
            -0.4485435813501415,
            0.25120317629312805
           ]
          }
         ]
        },
        {
         "data": [
          {
           "type": "scatter",
           "x": [
            0,
            2.2640960294824866
           ],
           "y": [
            0,
            -0.4048075706822174
           ]
          },
          {
           "type": "scatter",
           "x": [
            2.2640960294824866,
            2.4218858440763698
           ],
           "y": [
            -0.4048075706822174,
            0.2771765745956827
           ]
          }
         ]
        },
        {
         "data": [
          {
           "type": "scatter",
           "x": [
            0,
            2.27367166236447
           ],
           "y": [
            0,
            -0.3470117746716764
           ]
          },
          {
           "type": "scatter",
           "x": [
            2.27367166236447,
            2.5666458747660412
           ],
           "y": [
            -0.3470117746716764,
            0.2887288256266521
           ]
          }
         ]
        },
        {
         "data": [
          {
           "type": "scatter",
           "x": [
            0,
            2.283726209716696
           ],
           "y": [
            0,
            -0.27312011836005606
           ]
          },
          {
           "type": "scatter",
           "x": [
            2.283726209716696,
            2.706095851458527
           ],
           "y": [
            -0.27312011836005606,
            0.28509479162970536
           ]
          }
         ]
        },
        {
         "data": [
          {
           "type": "scatter",
           "x": [
            0,
            2.293040804902027
           ],
           "y": [
            0,
            -0.1787844150206116
           ]
          },
          {
           "type": "scatter",
           "x": [
            2.293040804902027,
            2.8350665055174407
           ],
           "y": [
            -0.1787844150206116,
            0.26416946505311567
           ]
          }
         ]
        },
        {
         "data": [
          {
           "type": "scatter",
           "x": [
            0,
            2.299303417204564
           ],
           "y": [
            0,
            -0.05660208151133128
           ]
          },
          {
           "type": "scatter",
           "x": [
            2.299303417204564,
            2.941481280870023
           ],
           "y": [
            -0.05660208151133128,
            0.22197930950046518
           ]
          }
         ]
        },
        {
         "data": [
          {
           "type": "scatter",
           "x": [
            0,
            2.297951119929915
           ],
           "y": [
            0,
            0.09706003509606
           ]
          },
          {
           "type": "scatter",
           "x": [
            2.297951119929915,
            2.995506677978465
           ],
           "y": [
            0.09706003509606,
            0.15550867439224605
           ]
          }
         ]
        },
        {
         "data": [
          {
           "type": "scatter",
           "x": [
            0,
            2.2862251181706417
           ],
           "y": [
            0,
            0.25134579575882154
           ]
          },
          {
           "type": "scatter",
           "x": [
            2.2862251181706417,
            2.9645348964110987
           ],
           "y": [
            0.25134579575882154,
            0.07844164675313198
           ]
          }
         ]
        },
        {
         "data": [
          {
           "type": "scatter",
           "x": [
            0,
            2.270259977036493
           ],
           "y": [
            0,
            0.3686728043486014
           ]
          },
          {
           "type": "scatter",
           "x": [
            2.270259977036493,
            2.871853876321561
           ],
           "y": [
            0.3686728043486014,
            0.01078346343022868
           ]
          }
         ]
        },
        {
         "data": [
          {
           "type": "scatter",
           "x": [
            0,
            2.2556990280633045
           ],
           "y": [
            0,
            0.44924591794947133
           ]
          },
          {
           "type": "scatter",
           "x": [
            2.2556990280633045,
            2.7511066167205454
           ],
           "y": [
            0.44924591794947133,
            -0.0452956082147305
           ]
          }
         ]
        },
        {
         "data": [
          {
           "type": "scatter",
           "x": [
            0,
            2.2448523957231203
           ],
           "y": [
            0,
            0.5006373152454445
           ]
          },
          {
           "type": "scatter",
           "x": [
            2.2448523957231203,
            2.616880442056584
           ],
           "y": [
            0.5006373152454445,
            -0.09231726374126514
           ]
          }
         ]
        },
        {
         "data": [
          {
           "type": "scatter",
           "x": [
            0,
            2.2387724019474704
           ],
           "y": [
            0,
            0.5271604426342635
           ]
          },
          {
           "type": "scatter",
           "x": [
            2.2387724019474704,
            2.475255397156507
           ],
           "y": [
            0.5271604426342635,
            -0.13168384320038107
           ]
          }
         ]
        },
        {
         "data": [
          {
           "type": "scatter",
           "x": [
            0,
            2.2380032808899584
           ],
           "y": [
            0,
            0.5304161712521419
           ]
          },
          {
           "type": "scatter",
           "x": [
            2.2380032808899584,
            2.329515481695659
           ],
           "y": [
            0.5304161712521419,
            -0.1635762761878119
           ]
          }
         ]
        },
        {
         "data": [
          {
           "type": "scatter",
           "x": [
            0,
            2.2427088204347467
           ],
           "y": [
            0,
            0.5101540421717595
           ]
          },
          {
           "type": "scatter",
           "x": [
            2.2427088204347467,
            2.1822071483070573
           ],
           "y": [
            0.5101540421717595,
            -0.1872264477114559
           ]
          }
         ]
        },
        {
         "data": [
          {
           "type": "scatter",
           "x": [
            0,
            2.2525700196890086
           ],
           "y": [
            0,
            0.4646808651087958
           ]
          },
          {
           "type": "scatter",
           "x": [
            2.2525700196890086,
            2.036189733798757
           ],
           "y": [
            0.4646808651087958,
            -0.20103647121199808
           ]
          }
         ]
        },
        {
         "data": [
          {
           "type": "scatter",
           "x": [
            0,
            2.2665134219833036
           ],
           "y": [
            0,
            0.39104591542366746
           ]
          },
          {
           "type": "scatter",
           "x": [
            2.2665134219833036,
            1.8956214793637964
           ],
           "y": [
            0.39104591542366746,
            -0.2026199560056477
           ]
          }
         ]
        },
        {
         "data": [
          {
           "type": "scatter",
           "x": [
            0,
            2.2822301466150487
           ],
           "y": [
            0,
            0.2853516390025693
           ]
          },
          {
           "type": "scatter",
           "x": [
            2.2822301466150487,
            1.767442054439122
           ],
           "y": [
            0.2853516390025693,
            -0.18898286338353115
           ]
          }
         ]
        },
        {
         "data": [
          {
           "type": "scatter",
           "x": [
            0,
            2.2954789185040854
           ],
           "y": [
            0,
            0.14414067678248588
           ]
          },
          {
           "type": "scatter",
           "x": [
            2.2954789185040854,
            1.6638350136850746
           ],
           "y": [
            0.14414067678248588,
            -0.15756444002031594
           ]
          }
         ]
        },
        {
         "data": [
          {
           "type": "scatter",
           "x": [
            0,
            2.29979788102
           ],
           "y": [
            0,
            -0.030491088139265085
           ]
          },
          {
           "type": "scatter",
           "x": [
            2.29979788102,
            1.6043496475165209
           ],
           "y": [
            -0.030491088139265085,
            -0.1101889834495565
           ]
          }
         ]
        },
        {
         "data": [
          {
           "type": "scatter",
           "x": [
            0,
            2.289306056829169
           ],
           "y": [
            0,
            -0.22153504951876268
           ]
          },
          {
           "type": "scatter",
           "x": [
            2.289306056829169,
            1.6081694439661125
           ],
           "y": [
            -0.22153504951876268,
            -0.06012589668831658
           ]
          }
         ]
        },
        {
         "data": [
          {
           "type": "scatter",
           "x": [
            0,
            2.264626931241345
           ],
           "y": [
            0,
            -0.40182690588909886
           ]
          },
          {
           "type": "scatter",
           "x": [
            2.264626931241345,
            1.6730128722228639
           ],
           "y": [
            -0.40182690588909886,
            -0.027670781828998958
           ]
          }
         ]
        },
        {
         "data": [
          {
           "type": "scatter",
           "x": [
            0,
            2.231800259151418
           ],
           "y": [
            0,
            -0.5559384887302398
           ]
          },
          {
           "type": "scatter",
           "x": [
            2.231800259151418,
            1.7777807001044712
           ],
           "y": [
            -0.5559384887302398,
            -0.023147497812773032
           ]
          }
         ]
        },
        {
         "data": [
          {
           "type": "scatter",
           "x": [
            0,
            2.19650526759962
           ],
           "y": [
            0,
            -0.6821763770515074
           ]
          },
          {
           "type": "scatter",
           "x": [
            2.19650526759962,
            1.9036812349750134
           ],
           "y": [
            -0.6821763770515074,
            -0.046366589522671586
           ]
          }
         ]
        },
        {
         "data": [
          {
           "type": "scatter",
           "x": [
            0,
            2.1625157330374924
           ],
           "y": [
            0,
            -0.7832788164921325
           ]
          },
          {
           "type": "scatter",
           "x": [
            2.1625157330374924,
            2.0394608981931373
           ],
           "y": [
            -0.7832788164921325,
            -0.09417976147795792
           ]
          }
         ]
        },
        {
         "data": [
          {
           "type": "scatter",
           "x": [
            0,
            2.1323189939876754
           ],
           "y": [
            0,
            -0.8620995927846081
           ]
          },
          {
           "type": "scatter",
           "x": [
            2.1323189939876754,
            2.1785692256120077
           ],
           "y": [
            -0.8620995927846081,
            -0.16362918104571733
           ]
          }
         ]
        },
        {
         "data": [
          {
           "type": "scatter",
           "x": [
            0,
            2.1077304954290073
           ],
           "y": [
            0,
            -0.920582510500058
           ]
          },
          {
           "type": "scatter",
           "x": [
            2.1077304954290073,
            2.3167220222511187
           ],
           "y": [
            -0.920582510500058,
            -0.25250875580184906
           ]
          }
         ]
        },
        {
         "data": [
          {
           "type": "scatter",
           "x": [
            0,
            2.090285488137161
           ],
           "y": [
            0,
            -0.9595345632561602
           ]
          },
          {
           "type": "scatter",
           "x": [
            2.090285488137161,
            2.4504943366345744
           ],
           "y": [
            -0.9595345632561602,
            -0.3593266114059973
           ]
          }
         ]
        },
        {
         "data": [
          {
           "type": "scatter",
           "x": [
            0,
            2.0815283342225226
           ],
           "y": [
            0,
            -0.9783863213622769
           ]
          },
          {
           "type": "scatter",
           "x": [
            2.0815283342225226,
            2.5762964974849374
           ],
           "y": [
            -0.9783863213622769,
            -0.48320507714765976
           ]
          }
         ]
        },
        {
         "data": [
          {
           "type": "scatter",
           "x": [
            0,
            2.083302060930787
           ],
           "y": [
            0,
            -0.9746037773995827
           ]
          },
          {
           "type": "scatter",
           "x": [
            2.083302060930787,
            2.6890382970041316
           ],
           "y": [
            -0.9746037773995827,
            -0.6237710361856286
           ]
          }
         ]
        },
        {
         "data": [
          {
           "type": "scatter",
           "x": [
            0,
            2.0980414042211897
           ],
           "y": [
            0,
            -0.9424554451928094
           ]
          },
          {
           "type": "scatter",
           "x": [
            2.0980414042211897,
            2.779095332793661
           ],
           "y": [
            -0.9424554451928094,
            -0.7806977672421067
           ]
          }
         ]
        },
        {
         "data": [
          {
           "type": "scatter",
           "x": [
            0,
            2.1280121739301467
           ],
           "y": [
            0,
            -0.8726764506992787
           ]
          },
          {
           "type": "scatter",
           "x": [
            2.1280121739301467,
            2.8236853328655354
           ],
           "y": [
            -0.8726764506992787,
            -0.9503865268596948
           ]
          }
         ]
        },
        {
         "data": [
          {
           "type": "scatter",
           "x": [
            0,
            2.166365080369037
           ],
           "y": [
            0,
            -0.7725686626816122
           ]
          },
          {
           "type": "scatter",
           "x": [
            2.166365080369037,
            2.7793037937064127
           ],
           "y": [
            -0.7725686626816122,
            -1.1106605639338047
           ]
          }
         ]
        },
        {
         "data": [
          {
           "type": "scatter",
           "x": [
            0,
            2.1923225407721527
           ],
           "y": [
            0,
            -0.6955011698209653
           ]
          },
          {
           "type": "scatter",
           "x": [
            2.1923225407721527,
            2.645982459925331
           ],
           "y": [
            -0.6955011698209653,
            -1.2285984196299766
           ]
          }
         ]
        },
        {
         "data": [
          {
           "type": "scatter",
           "x": [
            0,
            2.2018408850027944
           ],
           "y": [
            0,
            -0.6647531249494896
           ]
          },
          {
           "type": "scatter",
           "x": [
            2.2018408850027944,
            2.474487938217208
           ],
           "y": [
            -0.6647531249494896,
            -1.309472896922939
           ]
          }
         ]
        },
        {
         "data": [
          {
           "type": "scatter",
           "x": [
            0,
            2.1992863470438646
           ],
           "y": [
            0,
            -0.6731564184544725
           ]
          },
          {
           "type": "scatter",
           "x": [
            2.1992863470438646,
            2.2906543282349974
           ],
           "y": [
            -0.6731564184544725,
            -1.367167867937157
           ]
          }
         ]
        },
        {
         "data": [
          {
           "type": "scatter",
           "x": [
            0,
            2.1864152010064073
           ],
           "y": [
            0,
            -0.7138547252824698
           ]
          },
          {
           "type": "scatter",
           "x": [
            2.1864152010064073,
            2.103926514021691
           ],
           "y": [
            -0.7138547252824698,
            -1.4089774601426797
           ]
          }
         ]
        },
        {
         "data": [
          {
           "type": "scatter",
           "x": [
            0,
            2.1627757158699925
           ],
           "y": [
            0,
            -0.782560670391147
           ]
          },
          {
           "type": "scatter",
           "x": [
            2.1627757158699925,
            1.9189771812014003
           ],
           "y": [
            -0.782560670391147,
            -1.438733113041284
           ]
          }
         ]
        },
        {
         "data": [
          {
           "type": "scatter",
           "x": [
            0,
            2.1266127444117835
           ],
           "y": [
            0,
            -0.8760811807734382
           ]
          },
          {
           "type": "scatter",
           "x": [
            2.1266127444117835,
            1.7389732652352268
           ],
           "y": [
            -0.8760811807734382,
            -1.4589496343577162
           ]
          }
         ]
        },
        {
         "data": [
          {
           "type": "scatter",
           "x": [
            0,
            2.075428204832689
           ],
           "y": [
            0,
            -0.9912606955715341
           ]
          },
          {
           "type": "scatter",
           "x": [
            2.075428204832689,
            1.5664368387495724
           ],
           "y": [
            -0.9912606955715341,
            -1.4718101615506802
           ]
          }
         ]
        },
        {
         "data": [
          {
           "type": "scatter",
           "x": [
            0,
            2.0064678844807746
           ],
           "y": [
            0,
            -1.124316071461777
           ]
          },
          {
           "type": "scatter",
           "x": [
            2.0064678844807746,
            1.4033532231927315
           ],
           "y": [
            -1.124316071461777,
            -1.479636638470512
           ]
          }
         ]
        },
        {
         "data": [
          {
           "type": "scatter",
           "x": [
            0,
            1.9172628790837642
           ],
           "y": [
            0,
            -1.2704735544226946
           ]
          },
          {
           "type": "scatter",
           "x": [
            1.9172628790837642,
            1.2509612819268763
           ],
           "y": [
            -1.2704735544226946,
            -1.485047974207952
           ]
          }
         ]
        },
        {
         "data": [
          {
           "type": "scatter",
           "x": [
            0,
            1.806215122991518
           ],
           "y": [
            0,
            -1.4239336113305057
           ]
          },
          {
           "type": "scatter",
           "x": [
            1.806215122991518,
            1.1094189668933438
           ],
           "y": [
            -1.4239336113305057,
            -1.490829925480157
           ]
          }
         ]
        },
        {
         "data": [
          {
           "type": "scatter",
           "x": [
            0,
            1.6730974253946884
           ],
           "y": [
            0,
            -1.5782094300623302
           ]
          },
          {
           "type": "scatter",
           "x": [
            1.6730974253946884,
            0.9775339878738396
           ],
           "y": [
            -1.5782094300623302,
            -1.499523317029723
           ]
          }
         ]
        },
        {
         "data": [
          {
           "type": "scatter",
           "x": [
            0,
            1.5192723259550518
           ],
           "y": [
            0,
            -1.7267922861731593
           ]
          },
          {
           "type": "scatter",
           "x": [
            1.5192723259550518,
            0.8527724529226512
           ],
           "y": [
            -1.7267922861731593,
            -1.5128345350917978
           ]
          }
         ]
        },
        {
         "data": [
          {
           "type": "scatter",
           "x": [
            0,
            1.347496557901526
           ],
           "y": [
            0,
            -1.8639348235503135
           ]
          },
          {
           "type": "scatter",
           "x": [
            1.347496557901526,
            0.7316787936772589
           ],
           "y": [
            -1.8639348235503135,
            -1.5311158318058142
           ]
          }
         ]
        },
        {
         "data": [
          {
           "type": "scatter",
           "x": [
            0,
            1.1613805008950393
           ],
           "y": [
            0,
            -1.98524440111055
           ]
          },
          {
           "type": "scatter",
           "x": [
            1.1613805008950393,
            0.6106179712269884
           ],
           "y": [
            -1.98524440111055,
            -1.5532020005135145
           ]
          }
         ]
        },
        {
         "data": [
          {
           "type": "scatter",
           "x": [
            0,
            0.9647677342456726
           ],
           "y": [
            0,
            -2.0878752881717983
           ]
          },
          {
           "type": "scatter",
           "x": [
            0.9647677342456726,
            0.4865303836128576
           ],
           "y": [
            -2.0878752881717983,
            -1.5767108953785347
           ]
          }
         ]
        },
        {
         "data": [
          {
           "type": "scatter",
           "x": [
            0,
            0.7613009661389256
           ],
           "y": [
            0,
            -2.170350395432944
           ]
          },
          {
           "type": "scatter",
           "x": [
            0.7613009661389256,
            0.35738964391685607
           ],
           "y": [
            -2.170350395432944,
            -1.5986374921494697
           ]
          }
         ]
        },
        {
         "data": [
          {
           "type": "scatter",
           "x": [
            0,
            0.5542611922900184
           ],
           "y": [
            0,
            -2.232217402208227
           ]
          },
          {
           "type": "scatter",
           "x": [
            0.5542611922900184,
            0.2222723903982033
           ],
           "y": [
            -2.232217402208227,
            -1.6159516840164416
           ]
          }
         ]
        },
        {
         "data": [
          {
           "type": "scatter",
           "x": [
            0,
            0.34659802850132876
           ],
           "y": [
            0,
            -2.2737347705128212
           ]
          },
          {
           "type": "scatter",
           "x": [
            0.34659802850132876,
            0.08115903935641278
           ],
           "y": [
            -2.2737347705128212,
            -1.626014041307923
           ]
          }
         ]
        },
        {
         "data": [
          {
           "type": "scatter",
           "x": [
            0,
            0.14102397705405698
           ],
           "y": [
            0,
            -2.2956725023173177
           ]
          },
          {
           "type": "scatter",
           "x": [
            0.14102397705405698,
            -0.06536401909948045
           ],
           "y": [
            -2.2956725023173177,
            -1.6267898556267886
           ]
          }
         ]
        },
        {
         "data": [
          {
           "type": "scatter",
           "x": [
            0,
            -0.05991659677492732
           ],
           "y": [
            0,
            -2.299219433075258
           ]
          },
          {
           "type": "scatter",
           "x": [
            -0.05991659677492732,
            -0.2163892555138242
           ],
           "y": [
            -2.299219433075258,
            -1.6169318785447793
           ]
          }
         ]
        },
        {
         "data": [
          {
           "type": "scatter",
           "x": [
            0,
            -0.2538456624054995
           ],
           "y": [
            0,
            -2.2859489013707
           ]
          },
          {
           "type": "scatter",
           "x": [
            -0.2538456624054995,
            -0.3709184245384495
           ],
           "y": [
            -2.2859489013707,
            -1.5958083588965155
           ]
          }
         ]
        },
        {
         "data": [
          {
           "type": "scatter",
           "x": [
            0,
            -0.4386300268167054
           ],
           "y": [
            0,
            -2.257787345959485
           ]
          },
          {
           "type": "scatter",
           "x": [
            -0.4386300268167054,
            -0.5280339411120898
           ],
           "y": [
            -2.257787345959485,
            -1.5635201494791504
           ]
          }
         ]
        },
        {
         "data": [
          {
           "type": "scatter",
           "x": [
            0,
            -0.6125339243565833
           ],
           "y": [
            0,
            -2.2169353151394207
           ]
          },
          {
           "type": "scatter",
           "x": [
            -0.6125339243565833,
            -0.6870124417137197
           ],
           "y": [
            -2.2169353151394207,
            -1.5209087707804554
           ]
          }
         ]
        },
        {
         "data": [
          {
           "type": "scatter",
           "x": [
            0,
            -0.7744114134224587
           ],
           "y": [
            0,
            -2.1657070353030274
           ]
          },
          {
           "type": "scatter",
           "x": [
            -0.7744114134224587,
            -0.8473739895533485
           ],
           "y": [
            -2.1657070353030274,
            -1.4695199465945796
           ]
          }
         ]
        },
        {
         "data": [
          {
           "type": "scatter",
           "x": [
            0,
            -0.9238652675939867
           ],
           "y": [
            0,
            -2.1062936564813297
           ]
          },
          {
           "type": "scatter",
           "x": [
            -0.9238652675939867,
            -1.0088585464194435
           ],
           "y": [
            -2.1062936564813297,
            -1.4114727136805978
           ]
          }
         ]
        },
        {
         "data": [
          {
           "type": "scatter",
           "x": [
            0,
            -1.0612805777553045
           ],
           "y": [
            0,
            -2.0405106065098915
           ]
          },
          {
           "type": "scatter",
           "x": [
            -1.0612805777553045,
            -1.1713391077716693
           ],
           "y": [
            -2.0405106065098915,
            -1.3492168050255755
           ]
          }
         ]
        },
        {
         "data": [
          {
           "type": "scatter",
           "x": [
            0,
            -1.187687262019206
           ],
           "y": [
            0,
            -1.9696189904743813
           ]
          },
          {
           "type": "scatter",
           "x": [
            -1.187687262019206,
            -1.3347091794240276
           ],
           "y": [
            -1.9696189904743813,
            -1.2852327283368294
           ]
          }
         ]
        },
        {
         "data": [
          {
           "type": "scatter",
           "x": [
            0,
            -1.3045019548047656
           ],
           "y": [
            0,
            -1.8942741749574015
           ]
          },
          {
           "type": "scatter",
           "x": [
            -1.3045019548047656,
            -1.4987904635520013
           ],
           "y": [
            -1.8942741749574015,
            -1.2217773531293907
           ]
          }
         ]
        },
        {
         "data": [
          {
           "type": "scatter",
           "x": [
            0,
            -1.4132613457847736
           ],
           "y": [
            0,
            -1.8145777383486796
           ]
          },
          {
           "type": "scatter",
           "x": [
            -1.4132613457847736,
            -1.6632812924741007
           ],
           "y": [
            -1.8145777383486796,
            -1.160750523973608
           ]
          }
         ]
        },
        {
         "data": [
          {
           "type": "scatter",
           "x": [
            0,
            -1.5154349341528863
           ],
           "y": [
            0,
            -1.7301609637109017
           ]
          },
          {
           "type": "scatter",
           "x": [
            -1.5154349341528863,
            -1.82773201690774
           ],
           "y": [
            -1.7301609637109017,
            -1.1036862777875134
           ]
          }
         ]
        },
        {
         "data": [
          {
           "type": "scatter",
           "x": [
            0,
            -1.6123388788676971
           ],
           "y": [
            0,
            -1.6402327090055413
           ]
          },
          {
           "type": "scatter",
           "x": [
            -1.6123388788676971,
            -1.9915161416383744
           ],
           "y": [
            -1.6402327090055413,
            -1.0518241745690184
           ]
          }
         ]
        },
        {
         "data": [
          {
           "type": "scatter",
           "x": [
            0,
            -1.705127542688025
           ],
           "y": [
            0,
            -1.5435478817214245
           ]
          },
          {
           "type": "scatter",
           "x": [
            -1.705127542688025,
            -2.153761532150936
           ],
           "y": [
            -1.5435478817214245,
            -1.0062141460425709
           ]
          }
         ]
        },
        {
         "data": [
          {
           "type": "scatter",
           "x": [
            0,
            -1.7948305842339716
           ],
           "y": [
            0,
            -1.4382569916041916
           ]
          },
          {
           "type": "scatter",
           "x": [
            -1.7948305842339716,
            -2.3131909085631315
           ],
           "y": [
            -1.4382569916041916,
            -0.967828916165057
           ]
          }
         ]
        },
        {
         "data": [
          {
           "type": "scatter",
           "x": [
            0,
            -1.8824118421149645
           ],
           "y": [
            0,
            -1.3215618247608947
           ]
          },
          {
           "type": "scatter",
           "x": [
            -1.8824118421149645,
            -2.467758223040128
           ],
           "y": [
            -1.3215618247608947,
            -0.9376743225707178
           ]
          }
         ]
        },
        {
         "data": [
          {
           "type": "scatter",
           "x": [
            0,
            -1.9688216628032782
           ],
           "y": [
            0,
            -1.189008519766168
           ]
          },
          {
           "type": "scatter",
           "x": [
            -1.9688216628032782,
            -2.613756166128985
           ],
           "y": [
            -1.189008519766168,
            -0.9168697933415305
           ]
          }
         ]
        },
        {
         "data": [
          {
           "type": "scatter",
           "x": [
            0,
            -2.054892123804871
           ],
           "y": [
            0,
            -1.033159406638059
           ]
          },
          {
           "type": "scatter",
           "x": [
            -2.054892123804871,
            -2.7433307868694965
           ],
           "y": [
            -1.033159406638059,
            -0.9064621012294954
           ]
          }
         ]
        },
        {
         "data": [
          {
           "type": "scatter",
           "x": [
            0,
            -2.1399451786521775
           ],
           "y": [
            0,
            -0.8429914782269742
           ]
          },
          {
           "type": "scatter",
           "x": [
            -2.1399451786521775,
            -2.837174441139276
           ],
           "y": [
            -0.8429914782269742,
            -0.9052116962569421
           ]
          }
         ]
        },
        {
         "data": [
          {
           "type": "scatter",
           "x": [
            0,
            -2.214622160306191
           ],
           "y": [
            0,
            -0.6208451393711152
           ]
          },
          {
           "type": "scatter",
           "x": [
            -2.214622160306191,
            -2.857064200929943
           ],
           "y": [
            -0.6208451393711152,
            -0.8988167646122337
           ]
          }
         ]
        },
        {
         "data": [
          {
           "type": "scatter",
           "x": [
            0,
            -2.26289007353045
           ],
           "y": [
            0,
            -0.4114954618429653
           ]
          },
          {
           "type": "scatter",
           "x": [
            -2.26289007353045,
            -2.7972998852508217
           ],
           "y": [
            -0.4114954618429653,
            -0.8636084489789205
           ]
          }
         ]
        },
        {
         "data": [
          {
           "type": "scatter",
           "x": [
            0,
            -2.2876812251186918
           ],
           "y": [
            0,
            -0.23772802156969217
           ]
          },
          {
           "type": "scatter",
           "x": [
            -2.2876812251186918,
            -2.700222278260403
           ],
           "y": [
            -0.23772802156969217,
            -0.8032453771590039
           ]
          }
         ]
        },
        {
         "data": [
          {
           "type": "scatter",
           "x": [
            0,
            -2.298124743628654
           ],
           "y": [
            0,
            -0.09285829376923332
           ]
          },
          {
           "type": "scatter",
           "x": [
            -2.298124743628654,
            -2.589608938014496
           ],
           "y": [
            -0.09285829376923332,
            -0.729283438168193
           ]
          }
         ]
        },
        {
         "data": [
          {
           "type": "scatter",
           "x": [
            0,
            -2.299802675076448
           ],
           "y": [
            0,
            0.030127324992643822
           ]
          },
          {
           "type": "scatter",
           "x": [
            -2.299802675076448,
            -2.4736005934388277
           ],
           "y": [
            0.030127324992643822,
            -0.6479540001984453
           ]
          }
         ]
        },
        {
         "data": [
          {
           "type": "scatter",
           "x": [
            0,
            -2.2960194772031866
           ],
           "y": [
            0,
            0.13525738539394191
           ]
          },
          {
           "type": "scatter",
           "x": [
            -2.2960194772031866,
            -2.355377594572949
           ],
           "y": [
            0.13525738539394191,
            -0.5622213697680468
           ]
          }
         ]
        },
        {
         "data": [
          {
           "type": "scatter",
           "x": [
            0,
            -2.2890068044710974
           ],
           "y": [
            0,
            0.2246059863071652
           ]
          },
          {
           "type": "scatter",
           "x": [
            -2.2890068044710974,
            -2.2365322698050005
           ],
           "y": [
            0.2246059863071652,
            -0.47342440215137216
           ]
          }
         ]
        },
        {
         "data": [
          {
           "type": "scatter",
           "x": [
            0,
            -2.280484591670298
           ],
           "y": [
            0,
            0.2989816501967201
           ]
          },
          {
           "type": "scatter",
           "x": [
            -2.280484591670298,
            -2.1181850574056638
           ],
           "y": [
            0.2989816501967201,
            -0.38194335388044165
           ]
          }
         ]
        },
        {
         "data": [
          {
           "type": "scatter",
           "x": [
            0,
            -2.2719308303152377
           ],
           "y": [
            0,
            0.35823219043396215
           ]
          },
          {
           "type": "scatter",
           "x": [
            -2.2719308303152377,
            -2.0015243860752694
           ],
           "y": [
            0.35823219043396215,
            -0.2874305349215418
           ]
          }
         ]
        },
        {
         "data": [
          {
           "type": "scatter",
           "x": [
            0,
            -2.264712638505915
           ],
           "y": [
            0,
            0.4013435747480891
           ]
          },
          {
           "type": "scatter",
           "x": [
            -2.264712638505915,
            -1.8882895113000757
           ],
           "y": [
            0.4013435747480891,
            -0.1888306616470422
           ]
          }
         ]
        },
        {
         "data": [
          {
           "type": "scatter",
           "x": [
            0,
            -2.260109509433116
           ],
           "y": [
            0,
            0.4265032301987856
           ]
          },
          {
           "type": "scatter",
           "x": [
            -2.260109509433116,
            -1.7814928360765485
           ],
           "y": [
            0.4265032301987856,
            -0.08430601011024857
           ]
          }
         ]
        },
        {
         "data": [
          {
           "type": "scatter",
           "x": [
            0,
            -2.2591567703326403
           ],
           "y": [
            0,
            0.43152136338794694
           ]
          },
          {
           "type": "scatter",
           "x": [
            -2.2591567703326403,
            -1.686673298211204
           ],
           "y": [
            0.43152136338794694,
            0.028702950020602414
           ]
          }
         ]
        },
        {
         "data": [
          {
           "type": "scatter",
           "x": [
            0,
            -2.2621173056154436
           ],
           "y": [
            0,
            0.4157226186234346
           ]
          },
          {
           "type": "scatter",
           "x": [
            -2.2621173056154436,
            -1.6134975520017978
           ],
           "y": [
            0.4157226186234346,
            0.15248809349009806
           ]
          }
         ]
        },
        {
         "data": [
          {
           "type": "scatter",
           "x": [
            0,
            -2.267636422345211
           ],
           "y": [
            0,
            0.384480241434344
           ]
          },
          {
           "type": "scatter",
           "x": [
            -2.267636422345211,
            -1.5746250659043348
           ],
           "y": [
            0.384480241434344,
            0.2858128210567079
           ]
          }
         ]
        },
        {
         "data": [
          {
           "type": "scatter",
           "x": [
            0,
            -2.2730556202542633
           ],
           "y": [
            0,
            0.35102442540442313
           ]
          },
          {
           "type": "scatter",
           "x": [
            -2.2730556202542633,
            -1.5765726681260546
           ],
           "y": [
            0.35102442540442313,
            0.4211065015350237
           ]
          }
         ]
        },
        {
         "data": [
          {
           "type": "scatter",
           "x": [
            0,
            -2.276603349752095
           ],
           "y": [
            0,
            0.32722650854956525
           ]
          },
          {
           "type": "scatter",
           "x": [
            -2.276603349752095,
            -1.6128294095239388
           ],
           "y": [
            0.32722650854956525,
            0.5494969660422067
           ]
          }
         ]
        },
        {
         "data": [
          {
           "type": "scatter",
           "x": [
            0,
            -2.2780852621715577
           ],
           "y": [
            0,
            0.3167452261309465
           ]
          },
          {
           "type": "scatter",
           "x": [
            -2.2780852621715577,
            -1.671868300626866
           ],
           "y": [
            0.3167452261309465,
            0.6667466483216593
           ]
          }
         ]
        },
        {
         "data": [
          {
           "type": "scatter",
           "x": [
            0,
            -2.277853039818856
           ],
           "y": [
            0,
            0.3184109435744898
           ]
          },
          {
           "type": "scatter",
           "x": [
            -2.277853039818856,
            -1.74490635035038
           ],
           "y": [
            0.3184109435744898,
            0.7722477272143704
           ]
          }
         ]
        },
        {
         "data": [
          {
           "type": "scatter",
           "x": [
            0,
            -2.276196658852408
           ],
           "y": [
            0,
            0.3300435883775581
           ]
          },
          {
           "type": "scatter",
           "x": [
            -2.276196658852408,
            -1.8266229769027198
           ],
           "y": [
            0.3300435883775581,
            0.8665913537239442
           ]
          }
         ]
        },
        {
         "data": [
          {
           "type": "scatter",
           "x": [
            0,
            -2.2732478575859423
           ],
           "y": [
            0,
            0.34977732628191055
           ]
          },
          {
           "type": "scatter",
           "x": [
            -2.2732478575859423,
            -1.9138860299425344
           ],
           "y": [
            0.34977732628191055,
            0.9504927970605392
           ]
          }
         ]
        },
        {
         "data": [
          {
           "type": "scatter",
           "x": [
            0,
            -2.269010747505078
           ],
           "y": [
            0,
            0.37628476943193834
           ]
          },
          {
           "type": "scatter",
           "x": [
            -2.269010747505078,
            -2.004766027378917
           ],
           "y": [
            0.37628476943193834,
            1.0244936307455172
           ]
          }
         ]
        },
        {
         "data": [
          {
           "type": "scatter",
           "x": [
            0,
            -2.2633910356390126
           ],
           "y": [
            0,
            0.40873098706723654
           ]
          },
          {
           "type": "scatter",
           "x": [
            -2.2633910356390126,
            -2.0979748535743825
           ],
           "y": [
            0.40873098706723654,
            1.0889055872333713
           ]
          }
         ]
        },
        {
         "data": [
          {
           "type": "scatter",
           "x": [
            0,
            -2.2562038150097576
           ],
           "y": [
            0,
            0.44670386738354506
           ]
          },
          {
           "type": "scatter",
           "x": [
            -2.2562038150097576,
            -2.192548702674749
           ],
           "y": [
            0.44670386738354506,
            1.1438035924398797
           ]
          }
         ]
        },
        {
         "data": [
          {
           "type": "scatter",
           "x": [
            0,
            -2.2471592320073785
           ],
           "y": [
            0,
            0.49017893263991685
           ]
          },
          {
           "type": "scatter",
           "x": [
            -2.2471592320073785,
            -2.2876430830837644
           ],
           "y": [
            0.49017893263991685,
            1.1890072790899051
           ]
          }
         ]
        },
        {
         "data": [
          {
           "type": "scatter",
           "x": [
            0,
            -2.2358232144522567
           ],
           "y": [
            0,
            0.5395317912008324
           ]
          },
          {
           "type": "scatter",
           "x": [
            -2.2358232144522567,
            -2.3823535925894634
           ],
           "y": [
            0.5395317912008324,
            1.224023462649775
           ]
          }
         ]
        },
        {
         "data": [
          {
           "type": "scatter",
           "x": [
            0,
            -2.2215440742199566
           ],
           "y": [
            0,
            0.595602154376723
           ]
          },
          {
           "type": "scatter",
           "x": [
            -2.2215440742199566,
            -2.4754780508724488
           ],
           "y": [
            0.595602154376723,
            1.2479192057416644
           ]
          }
         ]
        },
        {
         "data": [
          {
           "type": "scatter",
           "x": [
            0,
            -2.2033331119548016
           ],
           "y": [
            0,
            0.6597902680121687
           ]
          },
          {
           "type": "scatter",
           "x": [
            -2.2033331119548016,
            -2.565074426476918
           ],
           "y": [
            0.6597902680121687,
            1.2590758605036045
           ]
          }
         ]
        },
        {
         "data": [
          {
           "type": "scatter",
           "x": [
            0,
            -2.179729990331456
           ],
           "y": [
            0,
            0.7340144203281224
           ]
          },
          {
           "type": "scatter",
           "x": [
            -2.179729990331456,
            -2.6474930599956807
           ],
           "y": [
            0.7340144203281224,
            1.254780884934189
           ]
          }
         ]
        },
        {
         "data": [
          {
           "type": "scatter",
           "x": [
            0,
            -2.1490035325581154
           ],
           "y": [
            0,
            0.8196241925740965
           ]
          },
          {
           "type": "scatter",
           "x": [
            -2.1490035325581154,
            -2.71539269798492
           ],
           "y": [
            0.8196241925740965,
            1.2309674960167651
           ]
          }
         ]
        },
        {
         "data": [
          {
           "type": "scatter",
           "x": [
            0,
            -2.1110908566660265
           ],
           "y": [
            0,
            0.9128501492036363
           ]
          },
          {
           "type": "scatter",
           "x": [
            -2.1110908566660265,
            -2.7563299175538605
           ],
           "y": [
            0.9128501492036363,
            1.184265982022184
           ]
          }
         ]
        },
        {
         "data": [
          {
           "type": "scatter",
           "x": [
            0,
            -2.0709476125666506
           ],
           "y": [
            0,
            1.0005878202359297
           ]
          },
          {
           "type": "scatter",
           "x": [
            -2.0709476125666506,
            -2.760974068517032
           ],
           "y": [
            1.0005878202359297,
            1.1183311431402705
           ]
          }
         ]
        },
        {
         "data": [
          {
           "type": "scatter",
           "x": [
            0,
            -2.0351923526200735
           ],
           "y": [
            0,
            1.0714439265947466
           ]
          },
          {
           "type": "scatter",
           "x": [
            -2.0351923526200735,
            -2.734600623321145
           ],
           "y": [
            1.0714439265947466,
            1.0426677059440632
           ]
          }
         ]
        },
        {
         "data": [
          {
           "type": "scatter",
           "x": [
            0,
            -2.0067084141908778
           ],
           "y": [
            0,
            1.1238867115575004
           ]
          },
          {
           "type": "scatter",
           "x": [
            -2.0067084141908778,
            -2.688100831113652
           ],
           "y": [
            1.1238867115575004,
            0.9635608740884877
           ]
          }
         ]
        },
        {
         "data": [
          {
           "type": "scatter",
           "x": [
            0,
            -1.985938091291648
           ],
           "y": [
            0,
            1.160193905154171
           ]
          },
          {
           "type": "scatter",
           "x": [
            -1.985938091291648,
            -2.628870307552058
           ],
           "y": [
            1.160193905154171,
            0.8833579152712133
           ]
          }
         ]
        },
        {
         "data": [
          {
           "type": "scatter",
           "x": [
            0,
            -1.9727657718014886
           ],
           "y": [
            0,
            1.1824530475280939
           ]
          },
          {
           "type": "scatter",
           "x": [
            -1.9727657718014886,
            -2.5609323173390353
           ],
           "y": [
            1.1824530475280939,
            0.8029005284870143
           ]
          }
         ]
        },
        {
         "data": [
          {
           "type": "scatter",
           "x": [
            0,
            -1.9670715814647222
           ],
           "y": [
            0,
            1.1919015871261671
           ]
          },
          {
           "type": "scatter",
           "x": [
            -1.9670715814647222,
            -2.486510965963572
           ],
           "y": [
            1.1919015871261671,
            0.7226652651822492
           ]
          }
         ]
        },
        {
         "data": [
          {
           "type": "scatter",
           "x": [
            0,
            -1.9688006394857331
           ],
           "y": [
            0,
            1.1890433305647732
           ]
          },
          {
           "type": "scatter",
           "x": [
            -1.9688006394857331,
            -2.406955035373124
           ],
           "y": [
            1.1890433305647732,
            0.6431305853714084
           ]
          }
         ]
        },
        {
         "data": [
          {
           "type": "scatter",
           "x": [
            0,
            -1.977920821418247
           ],
           "y": [
            0,
            1.1738097052760152
           ]
          },
          {
           "type": "scatter",
           "x": [
            -1.977920821418247,
            -2.323209806756134
           ],
           "y": [
            1.1738097052760152,
            0.5648963152078281
           ]
          }
         ]
        },
        {
         "data": [
          {
           "type": "scatter",
           "x": [
            0,
            -1.9943536687725971
           ],
           "y": [
            0,
            1.1456672483113417
           ]
          },
          {
           "type": "scatter",
           "x": [
            -1.9943536687725971,
            -2.2360822135514278
           ],
           "y": [
            1.1456672483113417,
            0.4887294197163454
           ]
          }
         ]
        },
        {
         "data": [
          {
           "type": "scatter",
           "x": [
            0,
            -2.017890562470881
           ],
           "y": [
            0,
            1.1036836856142025
           ]
          },
          {
           "type": "scatter",
           "x": [
            -2.017890562470881,
            -2.146422805203096
           ],
           "y": [
            1.1036836856142025,
            0.4155852460154581
           ]
          }
         ]
        },
        {
         "data": [
          {
           "type": "scatter",
           "x": [
            0,
            -2.0480906596730226
           ],
           "y": [
            0,
            1.0465775889823568
           ]
          },
          {
           "type": "scatter",
           "x": [
            -2.0480906596730226,
            -2.055285380627887
           ],
           "y": [
            1.0465775889823568,
            0.34661456425149173
           ]
          }
         ]
        },
        {
         "data": [
          {
           "type": "scatter",
           "x": [
            0,
            -2.084154795342862
           ],
           "y": [
            0,
            0.972778900392762
           ]
          },
          {
           "type": "scatter",
           "x": [
            -2.084154795342862,
            -1.9640993250209788
           ],
           "y": [
            0.972778900392762,
            0.2831509687906616
           ]
          }
         ]
        },
        {
         "data": [
          {
           "type": "scatter",
           "x": [
            0,
            -2.124772097878613
           ],
           "y": [
            0,
            0.8805359345742328
           ]
          },
          {
           "type": "scatter",
           "x": [
            -2.124772097878613,
            -1.8748792893139044
           ],
           "y": [
            0.8805359345742328,
            0.22666011744406722
           ]
          }
         ]
        },
        {
         "data": [
          {
           "type": "scatter",
           "x": [
            0,
            -2.167944519551014
           ],
           "y": [
            0,
            0.7681253544498593
           ]
          },
          {
           "type": "scatter",
           "x": [
            -2.167944519551014,
            -1.7904876395743048
           ],
           "y": [
            0.7681253544498593,
            0.17861173818790388
           ]
          }
         ]
        },
        {
         "data": [
          {
           "type": "scatter",
           "x": [
            0,
            -2.2108171113836117
           ],
           "y": [
            0,
            0.6342615391251647
           ]
          },
          {
           "type": "scatter",
           "x": [
            -2.2108171113836117,
            -1.7149337704139493
           ],
           "y": [
            0.6342615391251647,
            0.14019705735303262
           ]
          }
         ]
        },
        {
         "data": [
          {
           "type": "scatter",
           "x": [
            0,
            -2.2496004663367795
           ],
           "y": [
            0,
            0.47885043787945397
           ]
          },
          {
           "type": "scatter",
           "x": [
            -2.2496004663367795,
            -1.653576398496556
           ],
           "y": [
            0.47885043787945397,
            0.11176010764016181
           ]
          }
         ]
        },
        {
         "data": [
          {
           "type": "scatter",
           "x": [
            0,
            -2.2797993461327586
           ],
           "y": [
            0,
            0.30416268898838644
           ]
          },
          {
           "type": "scatter",
           "x": [
            -2.2797993461327586,
            -1.6127761025627576
           ],
           "y": [
            0.30416268898838644,
            0.0918421941289517
           ]
          }
         ]
        },
        {
         "data": [
          {
           "type": "scatter",
           "x": [
            0,
            -2.2970777416815733
           ],
           "y": [
            0,
            0.11590448080674833
           ]
          },
          {
           "type": "scatter",
           "x": [
            -2.2970777416815733,
            -1.5982032528758015
           ],
           "y": [
            0.11590448080674833,
            0.07622515500008901
           ]
          }
         ]
        },
        {
         "data": [
          {
           "type": "scatter",
           "x": [
            0,
            -2.2986976434617468
           ],
           "y": [
            0,
            -0.07738955965380981
           ]
          },
          {
           "type": "scatter",
           "x": [
            -2.2986976434617468,
            -1.611980753281892
           ],
           "y": [
            -0.07738955965380981,
            0.05833041950073106
           ]
          }
         ]
        },
        {
         "data": [
          {
           "type": "scatter",
           "x": [
            0,
            -2.284422986429142
           ],
           "y": [
            0,
            -0.26722952507939424
           ]
          },
          {
           "type": "scatter",
           "x": [
            -2.284422986429142,
            -1.6514167656519771
           ],
           "y": [
            -0.26722952507939424,
            0.03160675862359097
           ]
          }
         ]
        },
        {
         "data": [
          {
           "type": "scatter",
           "x": [
            0,
            -2.256019841010663
           ],
           "y": [
            0,
            -0.447632077677887
           ]
          },
          {
           "type": "scatter",
           "x": [
            -2.256019841010663,
            -1.7110108265889912
           ],
           "y": [
            -0.447632077677887,
            -0.00835406297749508
           ]
          }
         ]
        },
        {
         "data": [
          {
           "type": "scatter",
           "x": [
            0,
            -2.2161869430095655
           ],
           "y": [
            0,
            -0.615236079593773
           ]
          },
          {
           "type": "scatter",
           "x": [
            -2.2161869430095655,
            -1.7850924709007927
           ],
           "y": [
            -0.615236079593773,
            -0.06373126899167281
           ]
          }
         ]
        },
        {
         "data": [
          {
           "type": "scatter",
           "x": [
            0,
            -2.1678771537765846
           ],
           "y": [
            0,
            -0.7683154600380847
           ]
          },
          {
           "type": "scatter",
           "x": [
            -2.1678771537765846,
            -1.868933227137104
           ],
           "y": [
            -0.7683154600380847,
            -0.13536006767194908
           ]
          }
         ]
        },
        {
         "data": [
          {
           "type": "scatter",
           "x": [
            0,
            -2.114045543786933
           ],
           "y": [
            0,
            -0.905986445149489
           ]
          },
          {
           "type": "scatter",
           "x": [
            -2.114045543786933,
            -1.9587527013265709
           ],
           "y": [
            -0.905986445149489,
            -0.22342939033239828
           ]
          }
         ]
        },
        {
         "data": [
          {
           "type": "scatter",
           "x": [
            0,
            -2.0575809146952886
           ],
           "y": [
            0,
            -1.0277941328309372
           ]
          },
          {
           "type": "scatter",
           "x": [
            -2.0575809146952886,
            -2.0514284986343982
           ],
           "y": [
            -1.0277941328309372,
            -0.3278211706555303
           ]
          }
         ]
        },
        {
         "data": [
          {
           "type": "scatter",
           "x": [
            0,
            -2.0012937717706074
           ],
           "y": [
            0,
            -1.1335004362911272
           ]
          },
          {
           "type": "scatter",
           "x": [
            -2.0012937717706074,
            -2.14422472756842
           ],
           "y": [
            -1.1335004362911272,
            -0.44824811643024287
           ]
          }
         ]
        },
        {
         "data": [
          {
           "type": "scatter",
           "x": [
            0,
            -1.9479319166049696
           ],
           "y": [
            0,
            -1.2229314160130522
           ]
          },
          {
           "type": "scatter",
           "x": [
            -1.9479319166049696,
            -2.234572459859167
           ],
           "y": [
            -1.2229314160130522,
            -0.5843100892763557
           ]
          }
         ]
        },
        {
         "data": [
          {
           "type": "scatter",
           "x": [
            0,
            -1.900233356648428
           ],
           "y": [
            0,
            -1.2958060002487435
           ]
          },
          {
           "type": "scatter",
           "x": [
            -1.900233356648428,
            -2.3198503067626137
           ],
           "y": [
            -1.2958060002487435,
            -0.7355189174270271
           ]
          }
         ]
        },
        {
         "data": [
          {
           "type": "scatter",
           "x": [
            0,
            -1.861043879327562
           ],
           "y": [
            0,
            -1.351486470230989
           ]
          },
          {
           "type": "scatter",
           "x": [
            -1.861043879327562,
            -2.397073041857526
           ],
           "y": [
            -1.351486470230989,
            -0.9012945812353904
           ]
          }
         ]
        },
        {
         "data": [
          {
           "type": "scatter",
           "x": [
            0,
            -1.8335481518988213
           ],
           "y": [
            0,
            -1.3885608285805904
           ]
          },
          {
           "type": "scatter",
           "x": [
            -1.8335481518988213,
            -2.4623034533306094
           ],
           "y": [
            -1.3885608285805904,
            -1.0808811722472194
           ]
          }
         ]
        },
        {
         "data": [
          {
           "type": "scatter",
           "x": [
            0,
            -1.8216883209262245
           ],
           "y": [
            0,
            -1.404083922492168
           ]
          },
          {
           "type": "scatter",
           "x": [
            -1.8216883209262245,
            -2.509297076753414
           ],
           "y": [
            -1.404083922492168,
            -1.2729572703203673
           ]
          }
         ]
        },
        {
         "data": [
          {
           "type": "scatter",
           "x": [
            0,
            -1.8306492179661673
           ],
           "y": [
            0,
            -1.3923804942471218
           ]
          },
          {
           "type": "scatter",
           "x": [
            -1.8306492179661673,
            -2.5258896612000026
           ],
           "y": [
            -1.3923804942471218,
            -1.4738711445821153
           ]
          }
         ]
        },
        {
         "data": [
          {
           "type": "scatter",
           "x": [
            0,
            -1.8642969397190645
           ],
           "y": [
            0,
            -1.346995516159623
           ]
          },
          {
           "type": "scatter",
           "x": [
            -1.8642969397190645,
            -2.485574974697343
           ],
           "y": [
            -1.346995516159623,
            -1.6695069163511955
           ]
          }
         ]
        },
        {
         "data": [
          {
           "type": "scatter",
           "x": [
            0,
            -1.9064421638411708
           ],
           "y": [
            0,
            -1.2866539068174447
           ]
          },
          {
           "type": "scatter",
           "x": [
            -1.9064421638411708,
            -2.3581320446815575
           ],
           "y": [
            -1.2866539068174447,
            -1.8214213810961235
           ]
          }
         ]
        },
        {
         "data": [
          {
           "type": "scatter",
           "x": [
            0,
            -1.926437796867405
           ],
           "y": [
            0,
            -1.2565179723349198
           ]
          },
          {
           "type": "scatter",
           "x": [
            -1.926437796867405,
            -2.1715705986807627
           ],
           "y": [
            -1.2565179723349198,
            -1.9121931277854927
           ]
          }
         ]
        },
        {
         "data": [
          {
           "type": "scatter",
           "x": [
            0,
            -1.9206283935429382
           ],
           "y": [
            0,
            -1.265380011663165
           ]
          },
          {
           "type": "scatter",
           "x": [
            -1.9206283935429382,
            -1.966965275254581
           ],
           "y": [
            -1.265380011663165,
            -1.9638446803424343
           ]
          }
         ]
        },
        {
         "data": [
          {
           "type": "scatter",
           "x": [
            0,
            -1.89344200135687
           ],
           "y": [
            0,
            -1.3057095341222296
           ]
          },
          {
           "type": "scatter",
           "x": [
            -1.89344200135687,
            -1.7599778805488477
           ],
           "y": [
            -1.3057095341222296,
            -1.9928684156459582
           ]
          }
         ]
        },
        {
         "data": [
          {
           "type": "scatter",
           "x": [
            0,
            -1.8468882207943966
           ],
           "y": [
            0,
            -1.3707676316177395
           ]
          },
          {
           "type": "scatter",
           "x": [
            -1.8468882207943966,
            -1.5562722839767258
           ],
           "y": [
            -1.3707676316177395,
            -2.0075897239383402
           ]
          }
         ]
        },
        {
         "data": [
          {
           "type": "scatter",
           "x": [
            0,
            -1.7812509998637225
           ],
           "y": [
            0,
            -1.4550411937414307
           ]
          },
          {
           "type": "scatter",
           "x": [
            -1.7812509998637225,
            -1.3584811786266235
           ],
           "y": [
            -1.4550411937414307,
            -2.012953084859689
           ]
          }
         ]
        },
        {
         "data": [
          {
           "type": "scatter",
           "x": [
            0,
            -1.6962158641289156
           ],
           "y": [
            0,
            -1.5533356824194169
           ]
          },
          {
           "type": "scatter",
           "x": [
            -1.6962158641289156,
            -1.1679081460209524
           ],
           "y": [
            -1.5533356824194169,
            -2.0125643346043134
           ]
          }
         ]
        },
        {
         "data": [
          {
           "type": "scatter",
           "x": [
            0,
            -1.5916431722721678
           ],
           "y": [
            0,
            -1.6603228638308243
           ]
          },
          {
           "type": "scatter",
           "x": [
            -1.5916431722721678,
            -0.9849036156145787
           ],
           "y": [
            -1.6603228638308243,
            -2.0094175650036608
           ]
          }
         ]
        },
        {
         "data": [
          {
           "type": "scatter",
           "x": [
            0,
            -1.4681009974914276
           ],
           "y": [
            0,
            -1.770502601287181
           ]
          },
          {
           "type": "scatter",
           "x": [
            -1.4681009974914276,
            -0.8089266340227622
           ],
           "y": [
            -1.770502601287181,
            -2.0060639702458447
           ]
          }
         ]
        },
        {
         "data": [
          {
           "type": "scatter",
           "x": [
            0,
            -1.3271687956676057
           ],
           "y": [
            0,
            -1.8784629322417294
           ]
          },
          {
           "type": "scatter",
           "x": [
            -1.3271687956676057,
            -0.6386144887621339
           ],
           "y": [
            -1.8784629322417294,
            -2.004530241413954
           ]
          }
         ]
        },
        {
         "data": [
          {
           "type": "scatter",
           "x": [
            0,
            -1.1714717214547012
           ],
           "y": [
            0,
            -1.9793064456601857
           ]
          },
          {
           "type": "scatter",
           "x": [
            -1.1714717214547012,
            -0.4719875716854226
           ],
           "y": [
            -1.9793064456601857,
            -2.006175093217314
           ]
          }
         ]
        },
        {
         "data": [
          {
           "type": "scatter",
           "x": [
            0,
            -1.0044396139491212
           ],
           "y": [
            0,
            -2.0690821786313225
           ]
          },
          {
           "type": "scatter",
           "x": [
            -1.0044396139491212,
            -0.30680109873450234
           ],
           "y": [
            -2.0690821786313225,
            -2.01163218220711
           ]
          }
         ]
        },
        {
         "data": [
          {
           "type": "scatter",
           "x": [
            0,
            -0.82986231867592
           ],
           "y": [
            0,
            -2.1450707522228316
           ]
          },
          {
           "type": "scatter",
           "x": [
            -0.82986231867592,
            -0.14095952990785154
           ],
           "y": [
            -2.1450707522228316,
            -2.0209218592451728
           ]
          }
         ]
        },
        {
         "data": [
          {
           "type": "scatter",
           "x": [
            0,
            -0.6513741722888988
           ],
           "y": [
            0,
            -2.2058358251862153
           ]
          },
          {
           "type": "scatter",
           "x": [
            -0.6513741722888988,
            0.027134015600607242
           ],
           "y": [
            -2.2058358251862153,
            -2.033711919330873
           ]
          }
         ]
        },
        {
         "data": [
          {
           "type": "scatter",
           "x": [
            0,
            -0.47200535417674777
           ],
           "y": [
            0,
            -2.2510466333749024
           ]
          },
          {
           "type": "scatter",
           "x": [
            -0.47200535417674777,
            0.19838848882583532
           ],
           "y": [
            -2.2510466333749024,
            -2.049621472920137
           ]
          }
         ]
        },
        {
         "data": [
          {
           "type": "scatter",
           "x": [
            0,
            -0.29389203355624216
           ],
           "y": [
            0,
            -2.281146087520958
           ]
          },
          {
           "type": "scatter",
           "x": [
            -0.29389203355624216,
            0.3730107677819653
           ],
           "y": [
            -2.281146087520958,
            -2.068447583606964
           ]
          }
         ]
        },
        {
         "data": [
          {
           "type": "scatter",
           "x": [
            0,
            -0.11817223943116553
           ],
           "y": [
            0,
            -2.296962194253058
           ]
          },
          {
           "type": "scatter",
           "x": [
            -0.11817223943116553,
            0.550610717541758
           ],
           "y": [
            -2.296962194253058,
            -2.090251390320238
           ]
          }
         ]
        },
        {
         "data": [
          {
           "type": "scatter",
           "x": [
            0,
            0.05496489602431877
           ],
           "y": [
            0,
            -2.2993431366816557
           ]
          },
          {
           "type": "scatter",
           "x": [
            0.05496489602431877,
            0.7303421167741677
           ],
           "y": [
            -2.2993431366816557,
            -2.115317025240345
           ]
          }
         ]
        },
        {
         "data": [
          {
           "type": "scatter",
           "x": [
            0,
            0.226149488118695
           ],
           "y": [
            0,
            -2.28885482480293
           ]
          },
          {
           "type": "scatter",
           "x": [
            0.226149488118695,
            0.9110060096406718
           ],
           "y": [
            -2.28885482480293,
            -2.1440392699449724
           ]
          }
         ]
        },
        {
         "data": [
          {
           "type": "scatter",
           "x": [
            0,
            0.3967097472418819
           ],
           "y": [
            0,
            -2.2655289396613942
           ]
          },
          {
           "type": "scatter",
           "x": [
            0.3967097472418819,
            1.0910619771728052
           ],
           "y": [
            -2.2655289396613942,
            -2.176787851151312
           ]
          }
         ]
        },
        {
         "data": [
          {
           "type": "scatter",
           "x": [
            0,
            0.5686466381601057
           ],
           "y": [
            0,
            -2.2285961951213165
           ]
          },
          {
           "type": "scatter",
           "x": [
            0.5686466381601057,
            1.2684891844905244
           ],
           "y": [
            -2.2285961951213165,
            -2.2137499718387454
           ]
          }
         ]
        },
        {
         "data": [
          {
           "type": "scatter",
           "x": [
            0,
            0.7447966652642591
           ],
           "y": [
            0,
            -2.1760693755970277
           ]
          },
          {
           "type": "scatter",
           "x": [
            0.7447966652642591,
            1.4403703556525902
           ],
           "y": [
            -2.1760693755970277,
            -2.25466480319659
           ]
          }
         ]
        },
        {
         "data": [
          {
           "type": "scatter",
           "x": [
            0,
            0.9293033475208774
           ],
           "y": [
            0,
            -2.1039000186050885
           ]
          },
          {
           "type": "scatter",
           "x": [
            0.9293033475208774,
            1.6018204671125305
           ],
           "y": [
            -2.1039000186050885,
            -2.2981182563072826
           ]
          }
         ]
        },
        {
         "data": [
          {
           "type": "scatter",
           "x": [
            0,
            1.1283166571754535
           ],
           "y": [
            0,
            -2.0042209262305417
           ]
          },
          {
           "type": "scatter",
           "x": [
            1.1283166571754535,
            1.7430571065149962
           ],
           "y": [
            -2.0042209262305417,
            -2.3390256154835702
           ]
          }
         ]
        },
        {
         "data": [
          {
           "type": "scatter",
           "x": [
            0,
            1.3468463635136214
           ],
           "y": [
            0,
            -1.864404696703517
           ]
          },
          {
           "type": "scatter",
           "x": [
            1.3468463635136214,
            1.8424689364433702
           ],
           "y": [
            -1.864404696703517,
            -2.3587307684441203
           ]
          }
         ]
        },
        {
         "data": [
          {
           "type": "scatter",
           "x": [
            0,
            1.5616719097325344
           ],
           "y": [
            0,
            -1.6885440018999618
           ]
          },
          {
           "type": "scatter",
           "x": [
            1.5616719097325344,
            1.8762107688173146
           ],
           "y": [
            -1.6885440018999618,
            -2.313896147595205
           ]
          }
         ]
        },
        {
         "data": [
          {
           "type": "scatter",
           "x": [
            0,
            1.7313760796938633
           ],
           "y": [
            0,
            -1.5140465219615638
           ]
          },
          {
           "type": "scatter",
           "x": [
            1.7313760796938633,
            1.8700481733248924
           ],
           "y": [
            -1.5140465219615638,
            -2.2001733691611083
           ]
          }
         ]
        },
        {
         "data": [
          {
           "type": "scatter",
           "x": [
            0,
            1.8594440050321441
           ],
           "y": [
            0,
            -1.353686814647324
           ]
          },
          {
           "type": "scatter",
           "x": [
            1.8594440050321441,
            1.8549617503350806
           ],
           "y": [
            -1.353686814647324,
            -2.053672464066532
           ]
          }
         ]
        },
        {
         "data": [
          {
           "type": "scatter",
           "x": [
            0,
            1.9594465368321816
           ],
           "y": [
            0,
            -1.2043958108929014
           ]
          },
          {
           "type": "scatter",
           "x": [
            1.9594465368321816,
            1.8395584348878478
           ],
           "y": [
            -1.2043958108929014,
            -1.8940528582810834
           ]
          }
         ]
        },
        {
         "data": [
          {
           "type": "scatter",
           "x": [
            0,
            2.0396270059233954
           ],
           "y": [
            0,
            -1.0629777404574217
           ]
          },
          {
           "type": "scatter",
           "x": [
            2.0396270059233954,
            1.825552220093975
           ],
           "y": [
            -1.0629777404574217,
            -1.7294400320179328
           ]
          }
         ]
        },
        {
         "data": [
          {
           "type": "scatter",
           "x": [
            0,
            2.1047621024231957
           ],
           "y": [
            0,
            -0.9273491749082912
           ]
          },
          {
           "type": "scatter",
           "x": [
            2.1047621024231957,
            1.8131004651321745
           ],
           "y": [
            -0.9273491749082912,
            -1.5636930201152048
           ]
          }
         ]
        },
        {
         "data": [
          {
           "type": "scatter",
           "x": [
            0,
            2.1578154640401856
           ],
           "y": [
            0,
            -0.7961359325825189
           ]
          },
          {
           "type": "scatter",
           "x": [
            2.1578154640401856,
            1.801955830621702
           ],
           "y": [
            -0.7961359325825189,
            -1.3989326821617303
           ]
          }
         ]
        },
        {
         "data": [
          {
           "type": "scatter",
           "x": [
            0,
            2.200743084776722
           ],
           "y": [
            0,
            -0.6683785415521925
           ]
          },
          {
           "type": "scatter",
           "x": [
            2.200743084776722,
            1.7917482343498936
           ],
           "y": [
            -0.6683785415521925,
            -1.2364658696315434
           ]
          }
         ]
        },
        {
         "data": [
          {
           "type": "scatter",
           "x": [
            0,
            2.2348927716362366
           ],
           "y": [
            0,
            -0.5433730756010091
           ]
          },
          {
           "type": "scatter",
           "x": [
            2.2348927716362366,
            1.7820610888588477
           ],
           "y": [
            -0.5433730756010091,
            -1.0771740376392938
           ]
          }
         ]
        },
        {
         "data": [
          {
           "type": "scatter",
           "x": [
            0,
            2.261217411954068
           ],
           "y": [
            0,
            -0.4205898428109571
           ]
          },
          {
           "type": "scatter",
           "x": [
            2.261217411954068,
            1.7724516741399317
           ],
           "y": [
            -0.4205898428109571,
            -0.9216966712806987
           ]
          }
         ]
        },
        {
         "data": [
          {
           "type": "scatter",
           "x": [
            0,
            2.2803987027251096
           ],
           "y": [
            0,
            -0.2996360402382129
           ]
          },
          {
           "type": "scatter",
           "x": [
            2.2803987027251096,
            1.7624570076521822
           ],
           "y": [
            -0.2996360402382129,
            -0.7705249873424984
           ]
          }
         ]
        },
        {
         "data": [
          {
           "type": "scatter",
           "x": [
            0,
            2.2929265206971845
           ],
           "y": [
            0,
            -0.18024419736430866
           ]
          },
          {
           "type": "scatter",
           "x": [
            2.2929265206971845,
            1.751599421259301
           ],
           "y": [
            -0.18024419736430866,
            -0.6240515558140844
           ]
          }
         ]
        },
        {
         "data": [
          {
           "type": "scatter",
           "x": [
            0,
            2.29915676964169
           ],
           "y": [
            0,
            -0.06227478310510551
           ]
          },
          {
           "type": "scatter",
           "x": [
            2.29915676964169,
            1.7393978348653865
           ],
           "y": [
            -0.06227478310510551,
            -0.4825960113795028
           ]
          }
         ]
        },
        {
         "data": [
          {
           "type": "scatter",
           "x": [
            0,
            2.2993594837298184
           ],
           "y": [
            0,
            0.05427674070670639
           ]
          },
          {
           "type": "scatter",
           "x": [
            2.2993594837298184,
            1.725386893426403
           ],
           "y": [
            0.05427674070670639,
            -0.3464169896914465
           ]
          }
         ]
        },
        {
         "data": [
          {
           "type": "scatter",
           "x": [
            0,
            2.2937622232501256
           ],
           "y": [
            0,
            0.16927747396106765
           ]
          },
          {
           "type": "scatter",
           "x": [
            2.2937622232501256,
            1.709142878772702
           ],
           "y": [
            0.16927747396106765,
            -0.21571632087566442
           ]
          }
         ]
        },
        {
         "data": [
          {
           "type": "scatter",
           "x": [
            0,
            2.282589039643285
           ],
           "y": [
            0,
            0.28246641588044596
           ]
          },
          {
           "type": "scatter",
           "x": [
            2.282589039643285,
            1.6903122041624834
           ],
           "y": [
            0.28246641588044596,
            -0.09063966843452148
           ]
          }
         ]
        },
        {
         "data": [
          {
           "type": "scatter",
           "x": [
            0,
            2.2660923530795585
           ],
           "y": [
            0,
            0.39347864912133257
           ]
          },
          {
           "type": "scatter",
           "x": [
            2.2660923530795585,
            1.6686364284081847
           ],
           "y": [
            0.39347864912133257,
            0.02872336392991337
           ]
          }
         ]
        },
        {
         "data": [
          {
           "type": "scatter",
           "x": [
            0,
            2.2445744236406777
           ],
           "y": [
            0,
            0.5018821143835643
           ]
          },
          {
           "type": "scatter",
           "x": [
            2.2445744236406777,
            1.6439681613706172
           ],
           "y": [
            0.5018821143835643,
            0.14233779483173625
           ]
          }
         ]
        },
        {
         "data": [
          {
           "type": "scatter",
           "x": [
            0,
            2.2183965483513766
           ],
           "y": [
            0,
            0.6072205153506417
           ]
          },
          {
           "type": "scatter",
           "x": [
            2.2183965483513766,
            1.6162749022646528
           ],
           "y": [
            0.6072205153506417,
            0.2502197824188813
           ]
          }
         ]
        },
        {
         "data": [
          {
           "type": "scatter",
           "x": [
            0,
            2.1879765890093577
           ],
           "y": [
            0,
            0.7090546142202133
           ]
          },
          {
           "type": "scatter",
           "x": [
            2.1879765890093577,
            1.5856313490689375
           ],
           "y": [
            0.7090546142202133,
            0.35243126680572134
           ]
          }
         ]
        },
        {
         "data": [
          {
           "type": "scatter",
           "x": [
            0,
            2.1537775542130633
           ],
           "y": [
            0,
            0.8069958159544541
           ]
          },
          {
           "type": "scatter",
           "x": [
            2.1537775542130633,
            1.552203351473941
           ],
           "y": [
            0.8069958159544541,
            0.44907336821082733
           ]
          }
         ]
        },
        {
         "data": [
          {
           "type": "scatter",
           "x": [
            0,
            2.1162909149363713
           ],
           "y": [
            0,
            0.9007290177171907
           ]
          },
          {
           "type": "scatter",
           "x": [
            2.1162909149363713,
            1.5162276231186584
           ],
           "y": [
            0.9007290177171907,
            0.5402792350665554
           ]
          }
         ]
        },
        {
         "data": [
          {
           "type": "scatter",
           "x": [
            0,
            2.076018140058095
           ],
           "y": [
            0,
            0.9900245866390023
           ]
          },
          {
           "type": "scatter",
           "x": [
            2.076018140058095,
            1.4779908189447075
           ],
           "y": [
            0.9900245866390023,
            0.626206880635095
           ]
          }
         ]
        }
       ],
       "layout": {
        "height": 800,
        "template": {
         "data": {
          "bar": [
           {
            "error_x": {
             "color": "#2a3f5f"
            },
            "error_y": {
             "color": "#2a3f5f"
            },
            "marker": {
             "line": {
              "color": "#E5ECF6",
              "width": 0.5
             },
             "pattern": {
              "fillmode": "overlay",
              "size": 10,
              "solidity": 0.2
             }
            },
            "type": "bar"
           }
          ],
          "barpolar": [
           {
            "marker": {
             "line": {
              "color": "#E5ECF6",
              "width": 0.5
             },
             "pattern": {
              "fillmode": "overlay",
              "size": 10,
              "solidity": 0.2
             }
            },
            "type": "barpolar"
           }
          ],
          "carpet": [
           {
            "aaxis": {
             "endlinecolor": "#2a3f5f",
             "gridcolor": "white",
             "linecolor": "white",
             "minorgridcolor": "white",
             "startlinecolor": "#2a3f5f"
            },
            "baxis": {
             "endlinecolor": "#2a3f5f",
             "gridcolor": "white",
             "linecolor": "white",
             "minorgridcolor": "white",
             "startlinecolor": "#2a3f5f"
            },
            "type": "carpet"
           }
          ],
          "choropleth": [
           {
            "colorbar": {
             "outlinewidth": 0,
             "ticks": ""
            },
            "type": "choropleth"
           }
          ],
          "contour": [
           {
            "colorbar": {
             "outlinewidth": 0,
             "ticks": ""
            },
            "colorscale": [
             [
              0,
              "#0d0887"
             ],
             [
              0.1111111111111111,
              "#46039f"
             ],
             [
              0.2222222222222222,
              "#7201a8"
             ],
             [
              0.3333333333333333,
              "#9c179e"
             ],
             [
              0.4444444444444444,
              "#bd3786"
             ],
             [
              0.5555555555555556,
              "#d8576b"
             ],
             [
              0.6666666666666666,
              "#ed7953"
             ],
             [
              0.7777777777777778,
              "#fb9f3a"
             ],
             [
              0.8888888888888888,
              "#fdca26"
             ],
             [
              1,
              "#f0f921"
             ]
            ],
            "type": "contour"
           }
          ],
          "contourcarpet": [
           {
            "colorbar": {
             "outlinewidth": 0,
             "ticks": ""
            },
            "type": "contourcarpet"
           }
          ],
          "heatmap": [
           {
            "colorbar": {
             "outlinewidth": 0,
             "ticks": ""
            },
            "colorscale": [
             [
              0,
              "#0d0887"
             ],
             [
              0.1111111111111111,
              "#46039f"
             ],
             [
              0.2222222222222222,
              "#7201a8"
             ],
             [
              0.3333333333333333,
              "#9c179e"
             ],
             [
              0.4444444444444444,
              "#bd3786"
             ],
             [
              0.5555555555555556,
              "#d8576b"
             ],
             [
              0.6666666666666666,
              "#ed7953"
             ],
             [
              0.7777777777777778,
              "#fb9f3a"
             ],
             [
              0.8888888888888888,
              "#fdca26"
             ],
             [
              1,
              "#f0f921"
             ]
            ],
            "type": "heatmap"
           }
          ],
          "heatmapgl": [
           {
            "colorbar": {
             "outlinewidth": 0,
             "ticks": ""
            },
            "colorscale": [
             [
              0,
              "#0d0887"
             ],
             [
              0.1111111111111111,
              "#46039f"
             ],
             [
              0.2222222222222222,
              "#7201a8"
             ],
             [
              0.3333333333333333,
              "#9c179e"
             ],
             [
              0.4444444444444444,
              "#bd3786"
             ],
             [
              0.5555555555555556,
              "#d8576b"
             ],
             [
              0.6666666666666666,
              "#ed7953"
             ],
             [
              0.7777777777777778,
              "#fb9f3a"
             ],
             [
              0.8888888888888888,
              "#fdca26"
             ],
             [
              1,
              "#f0f921"
             ]
            ],
            "type": "heatmapgl"
           }
          ],
          "histogram": [
           {
            "marker": {
             "pattern": {
              "fillmode": "overlay",
              "size": 10,
              "solidity": 0.2
             }
            },
            "type": "histogram"
           }
          ],
          "histogram2d": [
           {
            "colorbar": {
             "outlinewidth": 0,
             "ticks": ""
            },
            "colorscale": [
             [
              0,
              "#0d0887"
             ],
             [
              0.1111111111111111,
              "#46039f"
             ],
             [
              0.2222222222222222,
              "#7201a8"
             ],
             [
              0.3333333333333333,
              "#9c179e"
             ],
             [
              0.4444444444444444,
              "#bd3786"
             ],
             [
              0.5555555555555556,
              "#d8576b"
             ],
             [
              0.6666666666666666,
              "#ed7953"
             ],
             [
              0.7777777777777778,
              "#fb9f3a"
             ],
             [
              0.8888888888888888,
              "#fdca26"
             ],
             [
              1,
              "#f0f921"
             ]
            ],
            "type": "histogram2d"
           }
          ],
          "histogram2dcontour": [
           {
            "colorbar": {
             "outlinewidth": 0,
             "ticks": ""
            },
            "colorscale": [
             [
              0,
              "#0d0887"
             ],
             [
              0.1111111111111111,
              "#46039f"
             ],
             [
              0.2222222222222222,
              "#7201a8"
             ],
             [
              0.3333333333333333,
              "#9c179e"
             ],
             [
              0.4444444444444444,
              "#bd3786"
             ],
             [
              0.5555555555555556,
              "#d8576b"
             ],
             [
              0.6666666666666666,
              "#ed7953"
             ],
             [
              0.7777777777777778,
              "#fb9f3a"
             ],
             [
              0.8888888888888888,
              "#fdca26"
             ],
             [
              1,
              "#f0f921"
             ]
            ],
            "type": "histogram2dcontour"
           }
          ],
          "mesh3d": [
           {
            "colorbar": {
             "outlinewidth": 0,
             "ticks": ""
            },
            "type": "mesh3d"
           }
          ],
          "parcoords": [
           {
            "line": {
             "colorbar": {
              "outlinewidth": 0,
              "ticks": ""
             }
            },
            "type": "parcoords"
           }
          ],
          "pie": [
           {
            "automargin": true,
            "type": "pie"
           }
          ],
          "scatter": [
           {
            "marker": {
             "colorbar": {
              "outlinewidth": 0,
              "ticks": ""
             }
            },
            "type": "scatter"
           }
          ],
          "scatter3d": [
           {
            "line": {
             "colorbar": {
              "outlinewidth": 0,
              "ticks": ""
             }
            },
            "marker": {
             "colorbar": {
              "outlinewidth": 0,
              "ticks": ""
             }
            },
            "type": "scatter3d"
           }
          ],
          "scattercarpet": [
           {
            "marker": {
             "colorbar": {
              "outlinewidth": 0,
              "ticks": ""
             }
            },
            "type": "scattercarpet"
           }
          ],
          "scattergeo": [
           {
            "marker": {
             "colorbar": {
              "outlinewidth": 0,
              "ticks": ""
             }
            },
            "type": "scattergeo"
           }
          ],
          "scattergl": [
           {
            "marker": {
             "colorbar": {
              "outlinewidth": 0,
              "ticks": ""
             }
            },
            "type": "scattergl"
           }
          ],
          "scattermapbox": [
           {
            "marker": {
             "colorbar": {
              "outlinewidth": 0,
              "ticks": ""
             }
            },
            "type": "scattermapbox"
           }
          ],
          "scatterpolar": [
           {
            "marker": {
             "colorbar": {
              "outlinewidth": 0,
              "ticks": ""
             }
            },
            "type": "scatterpolar"
           }
          ],
          "scatterpolargl": [
           {
            "marker": {
             "colorbar": {
              "outlinewidth": 0,
              "ticks": ""
             }
            },
            "type": "scatterpolargl"
           }
          ],
          "scatterternary": [
           {
            "marker": {
             "colorbar": {
              "outlinewidth": 0,
              "ticks": ""
             }
            },
            "type": "scatterternary"
           }
          ],
          "surface": [
           {
            "colorbar": {
             "outlinewidth": 0,
             "ticks": ""
            },
            "colorscale": [
             [
              0,
              "#0d0887"
             ],
             [
              0.1111111111111111,
              "#46039f"
             ],
             [
              0.2222222222222222,
              "#7201a8"
             ],
             [
              0.3333333333333333,
              "#9c179e"
             ],
             [
              0.4444444444444444,
              "#bd3786"
             ],
             [
              0.5555555555555556,
              "#d8576b"
             ],
             [
              0.6666666666666666,
              "#ed7953"
             ],
             [
              0.7777777777777778,
              "#fb9f3a"
             ],
             [
              0.8888888888888888,
              "#fdca26"
             ],
             [
              1,
              "#f0f921"
             ]
            ],
            "type": "surface"
           }
          ],
          "table": [
           {
            "cells": {
             "fill": {
              "color": "#EBF0F8"
             },
             "line": {
              "color": "white"
             }
            },
            "header": {
             "fill": {
              "color": "#C8D4E3"
             },
             "line": {
              "color": "white"
             }
            },
            "type": "table"
           }
          ]
         },
         "layout": {
          "annotationdefaults": {
           "arrowcolor": "#2a3f5f",
           "arrowhead": 0,
           "arrowwidth": 1
          },
          "autotypenumbers": "strict",
          "coloraxis": {
           "colorbar": {
            "outlinewidth": 0,
            "ticks": ""
           }
          },
          "colorscale": {
           "diverging": [
            [
             0,
             "#8e0152"
            ],
            [
             0.1,
             "#c51b7d"
            ],
            [
             0.2,
             "#de77ae"
            ],
            [
             0.3,
             "#f1b6da"
            ],
            [
             0.4,
             "#fde0ef"
            ],
            [
             0.5,
             "#f7f7f7"
            ],
            [
             0.6,
             "#e6f5d0"
            ],
            [
             0.7,
             "#b8e186"
            ],
            [
             0.8,
             "#7fbc41"
            ],
            [
             0.9,
             "#4d9221"
            ],
            [
             1,
             "#276419"
            ]
           ],
           "sequential": [
            [
             0,
             "#0d0887"
            ],
            [
             0.1111111111111111,
             "#46039f"
            ],
            [
             0.2222222222222222,
             "#7201a8"
            ],
            [
             0.3333333333333333,
             "#9c179e"
            ],
            [
             0.4444444444444444,
             "#bd3786"
            ],
            [
             0.5555555555555556,
             "#d8576b"
            ],
            [
             0.6666666666666666,
             "#ed7953"
            ],
            [
             0.7777777777777778,
             "#fb9f3a"
            ],
            [
             0.8888888888888888,
             "#fdca26"
            ],
            [
             1,
             "#f0f921"
            ]
           ],
           "sequentialminus": [
            [
             0,
             "#0d0887"
            ],
            [
             0.1111111111111111,
             "#46039f"
            ],
            [
             0.2222222222222222,
             "#7201a8"
            ],
            [
             0.3333333333333333,
             "#9c179e"
            ],
            [
             0.4444444444444444,
             "#bd3786"
            ],
            [
             0.5555555555555556,
             "#d8576b"
            ],
            [
             0.6666666666666666,
             "#ed7953"
            ],
            [
             0.7777777777777778,
             "#fb9f3a"
            ],
            [
             0.8888888888888888,
             "#fdca26"
            ],
            [
             1,
             "#f0f921"
            ]
           ]
          },
          "colorway": [
           "#636efa",
           "#EF553B",
           "#00cc96",
           "#ab63fa",
           "#FFA15A",
           "#19d3f3",
           "#FF6692",
           "#B6E880",
           "#FF97FF",
           "#FECB52"
          ],
          "font": {
           "color": "#2a3f5f"
          },
          "geo": {
           "bgcolor": "white",
           "lakecolor": "white",
           "landcolor": "#E5ECF6",
           "showlakes": true,
           "showland": true,
           "subunitcolor": "white"
          },
          "hoverlabel": {
           "align": "left"
          },
          "hovermode": "closest",
          "mapbox": {
           "style": "light"
          },
          "paper_bgcolor": "white",
          "plot_bgcolor": "#E5ECF6",
          "polar": {
           "angularaxis": {
            "gridcolor": "white",
            "linecolor": "white",
            "ticks": ""
           },
           "bgcolor": "#E5ECF6",
           "radialaxis": {
            "gridcolor": "white",
            "linecolor": "white",
            "ticks": ""
           }
          },
          "scene": {
           "xaxis": {
            "backgroundcolor": "#E5ECF6",
            "gridcolor": "white",
            "gridwidth": 2,
            "linecolor": "white",
            "showbackground": true,
            "ticks": "",
            "zerolinecolor": "white"
           },
           "yaxis": {
            "backgroundcolor": "#E5ECF6",
            "gridcolor": "white",
            "gridwidth": 2,
            "linecolor": "white",
            "showbackground": true,
            "ticks": "",
            "zerolinecolor": "white"
           },
           "zaxis": {
            "backgroundcolor": "#E5ECF6",
            "gridcolor": "white",
            "gridwidth": 2,
            "linecolor": "white",
            "showbackground": true,
            "ticks": "",
            "zerolinecolor": "white"
           }
          },
          "shapedefaults": {
           "line": {
            "color": "#2a3f5f"
           }
          },
          "ternary": {
           "aaxis": {
            "gridcolor": "white",
            "linecolor": "white",
            "ticks": ""
           },
           "baxis": {
            "gridcolor": "white",
            "linecolor": "white",
            "ticks": ""
           },
           "bgcolor": "#E5ECF6",
           "caxis": {
            "gridcolor": "white",
            "linecolor": "white",
            "ticks": ""
           }
          },
          "title": {
           "x": 0.05
          },
          "xaxis": {
           "automargin": true,
           "gridcolor": "white",
           "linecolor": "white",
           "ticks": "",
           "title": {
            "standoff": 15
           },
           "zerolinecolor": "white",
           "zerolinewidth": 2
          },
          "yaxis": {
           "automargin": true,
           "gridcolor": "white",
           "linecolor": "white",
           "ticks": "",
           "title": {
            "standoff": 15
           },
           "zerolinecolor": "white",
           "zerolinewidth": 2
          }
         }
        },
        "title": {
         "text": "Double Pendulum"
        },
        "updatemenus": [
         {
          "buttons": [
           {
            "args": [
             null,
             {
              "frame": {
               "duration": 20,
               "redraw": false
              },
              "fromcurrent": true,
              "transition": {
               "duration": 0.0196078431372549
              }
             }
            ],
            "label": "Play",
            "method": "animate"
           }
          ],
          "type": "buttons"
         }
        ],
        "width": 800,
        "xaxis": {
         "range": [
          -3.3,
          3.3
         ]
        },
        "yaxis": {
         "range": [
          -3.3,
          3.3
         ]
        }
       }
      },
      "text/html": [
       "<div>                            <div id=\"d9b10728-067f-4176-a179-49f9c2717835\" class=\"plotly-graph-div\" style=\"height:800px; width:800px;\"></div>            <script type=\"text/javascript\">                require([\"plotly\"], function(Plotly) {                    window.PLOTLYENV=window.PLOTLYENV || {};                                    if (document.getElementById(\"d9b10728-067f-4176-a179-49f9c2717835\")) {                    Plotly.newPlot(                        \"d9b10728-067f-4176-a179-49f9c2717835\",                        [{\"type\":\"scatter\",\"x\":[0,2.816687638038912e-16],\"y\":[0,2.3]},{\"type\":\"scatter\",\"x\":[2.816687638038912e-16,0.21631189606246345],\"y\":[2.3,1.6342604385933925]}],                        {\"height\":800,\"template\":{\"data\":{\"bar\":[{\"error_x\":{\"color\":\"#2a3f5f\"},\"error_y\":{\"color\":\"#2a3f5f\"},\"marker\":{\"line\":{\"color\":\"#E5ECF6\",\"width\":0.5},\"pattern\":{\"fillmode\":\"overlay\",\"size\":10,\"solidity\":0.2}},\"type\":\"bar\"}],\"barpolar\":[{\"marker\":{\"line\":{\"color\":\"#E5ECF6\",\"width\":0.5},\"pattern\":{\"fillmode\":\"overlay\",\"size\":10,\"solidity\":0.2}},\"type\":\"barpolar\"}],\"carpet\":[{\"aaxis\":{\"endlinecolor\":\"#2a3f5f\",\"gridcolor\":\"white\",\"linecolor\":\"white\",\"minorgridcolor\":\"white\",\"startlinecolor\":\"#2a3f5f\"},\"baxis\":{\"endlinecolor\":\"#2a3f5f\",\"gridcolor\":\"white\",\"linecolor\":\"white\",\"minorgridcolor\":\"white\",\"startlinecolor\":\"#2a3f5f\"},\"type\":\"carpet\"}],\"choropleth\":[{\"colorbar\":{\"outlinewidth\":0,\"ticks\":\"\"},\"type\":\"choropleth\"}],\"contour\":[{\"colorbar\":{\"outlinewidth\":0,\"ticks\":\"\"},\"colorscale\":[[0.0,\"#0d0887\"],[0.1111111111111111,\"#46039f\"],[0.2222222222222222,\"#7201a8\"],[0.3333333333333333,\"#9c179e\"],[0.4444444444444444,\"#bd3786\"],[0.5555555555555556,\"#d8576b\"],[0.6666666666666666,\"#ed7953\"],[0.7777777777777778,\"#fb9f3a\"],[0.8888888888888888,\"#fdca26\"],[1.0,\"#f0f921\"]],\"type\":\"contour\"}],\"contourcarpet\":[{\"colorbar\":{\"outlinewidth\":0,\"ticks\":\"\"},\"type\":\"contourcarpet\"}],\"heatmap\":[{\"colorbar\":{\"outlinewidth\":0,\"ticks\":\"\"},\"colorscale\":[[0.0,\"#0d0887\"],[0.1111111111111111,\"#46039f\"],[0.2222222222222222,\"#7201a8\"],[0.3333333333333333,\"#9c179e\"],[0.4444444444444444,\"#bd3786\"],[0.5555555555555556,\"#d8576b\"],[0.6666666666666666,\"#ed7953\"],[0.7777777777777778,\"#fb9f3a\"],[0.8888888888888888,\"#fdca26\"],[1.0,\"#f0f921\"]],\"type\":\"heatmap\"}],\"heatmapgl\":[{\"colorbar\":{\"outlinewidth\":0,\"ticks\":\"\"},\"colorscale\":[[0.0,\"#0d0887\"],[0.1111111111111111,\"#46039f\"],[0.2222222222222222,\"#7201a8\"],[0.3333333333333333,\"#9c179e\"],[0.4444444444444444,\"#bd3786\"],[0.5555555555555556,\"#d8576b\"],[0.6666666666666666,\"#ed7953\"],[0.7777777777777778,\"#fb9f3a\"],[0.8888888888888888,\"#fdca26\"],[1.0,\"#f0f921\"]],\"type\":\"heatmapgl\"}],\"histogram\":[{\"marker\":{\"pattern\":{\"fillmode\":\"overlay\",\"size\":10,\"solidity\":0.2}},\"type\":\"histogram\"}],\"histogram2d\":[{\"colorbar\":{\"outlinewidth\":0,\"ticks\":\"\"},\"colorscale\":[[0.0,\"#0d0887\"],[0.1111111111111111,\"#46039f\"],[0.2222222222222222,\"#7201a8\"],[0.3333333333333333,\"#9c179e\"],[0.4444444444444444,\"#bd3786\"],[0.5555555555555556,\"#d8576b\"],[0.6666666666666666,\"#ed7953\"],[0.7777777777777778,\"#fb9f3a\"],[0.8888888888888888,\"#fdca26\"],[1.0,\"#f0f921\"]],\"type\":\"histogram2d\"}],\"histogram2dcontour\":[{\"colorbar\":{\"outlinewidth\":0,\"ticks\":\"\"},\"colorscale\":[[0.0,\"#0d0887\"],[0.1111111111111111,\"#46039f\"],[0.2222222222222222,\"#7201a8\"],[0.3333333333333333,\"#9c179e\"],[0.4444444444444444,\"#bd3786\"],[0.5555555555555556,\"#d8576b\"],[0.6666666666666666,\"#ed7953\"],[0.7777777777777778,\"#fb9f3a\"],[0.8888888888888888,\"#fdca26\"],[1.0,\"#f0f921\"]],\"type\":\"histogram2dcontour\"}],\"mesh3d\":[{\"colorbar\":{\"outlinewidth\":0,\"ticks\":\"\"},\"type\":\"mesh3d\"}],\"parcoords\":[{\"line\":{\"colorbar\":{\"outlinewidth\":0,\"ticks\":\"\"}},\"type\":\"parcoords\"}],\"pie\":[{\"automargin\":true,\"type\":\"pie\"}],\"scatter\":[{\"marker\":{\"colorbar\":{\"outlinewidth\":0,\"ticks\":\"\"}},\"type\":\"scatter\"}],\"scatter3d\":[{\"line\":{\"colorbar\":{\"outlinewidth\":0,\"ticks\":\"\"}},\"marker\":{\"colorbar\":{\"outlinewidth\":0,\"ticks\":\"\"}},\"type\":\"scatter3d\"}],\"scattercarpet\":[{\"marker\":{\"colorbar\":{\"outlinewidth\":0,\"ticks\":\"\"}},\"type\":\"scattercarpet\"}],\"scattergeo\":[{\"marker\":{\"colorbar\":{\"outlinewidth\":0,\"ticks\":\"\"}},\"type\":\"scattergeo\"}],\"scattergl\":[{\"marker\":{\"colorbar\":{\"outlinewidth\":0,\"ticks\":\"\"}},\"type\":\"scattergl\"}],\"scattermapbox\":[{\"marker\":{\"colorbar\":{\"outlinewidth\":0,\"ticks\":\"\"}},\"type\":\"scattermapbox\"}],\"scatterpolar\":[{\"marker\":{\"colorbar\":{\"outlinewidth\":0,\"ticks\":\"\"}},\"type\":\"scatterpolar\"}],\"scatterpolargl\":[{\"marker\":{\"colorbar\":{\"outlinewidth\":0,\"ticks\":\"\"}},\"type\":\"scatterpolargl\"}],\"scatterternary\":[{\"marker\":{\"colorbar\":{\"outlinewidth\":0,\"ticks\":\"\"}},\"type\":\"scatterternary\"}],\"surface\":[{\"colorbar\":{\"outlinewidth\":0,\"ticks\":\"\"},\"colorscale\":[[0.0,\"#0d0887\"],[0.1111111111111111,\"#46039f\"],[0.2222222222222222,\"#7201a8\"],[0.3333333333333333,\"#9c179e\"],[0.4444444444444444,\"#bd3786\"],[0.5555555555555556,\"#d8576b\"],[0.6666666666666666,\"#ed7953\"],[0.7777777777777778,\"#fb9f3a\"],[0.8888888888888888,\"#fdca26\"],[1.0,\"#f0f921\"]],\"type\":\"surface\"}],\"table\":[{\"cells\":{\"fill\":{\"color\":\"#EBF0F8\"},\"line\":{\"color\":\"white\"}},\"header\":{\"fill\":{\"color\":\"#C8D4E3\"},\"line\":{\"color\":\"white\"}},\"type\":\"table\"}]},\"layout\":{\"annotationdefaults\":{\"arrowcolor\":\"#2a3f5f\",\"arrowhead\":0,\"arrowwidth\":1},\"autotypenumbers\":\"strict\",\"coloraxis\":{\"colorbar\":{\"outlinewidth\":0,\"ticks\":\"\"}},\"colorscale\":{\"diverging\":[[0,\"#8e0152\"],[0.1,\"#c51b7d\"],[0.2,\"#de77ae\"],[0.3,\"#f1b6da\"],[0.4,\"#fde0ef\"],[0.5,\"#f7f7f7\"],[0.6,\"#e6f5d0\"],[0.7,\"#b8e186\"],[0.8,\"#7fbc41\"],[0.9,\"#4d9221\"],[1,\"#276419\"]],\"sequential\":[[0.0,\"#0d0887\"],[0.1111111111111111,\"#46039f\"],[0.2222222222222222,\"#7201a8\"],[0.3333333333333333,\"#9c179e\"],[0.4444444444444444,\"#bd3786\"],[0.5555555555555556,\"#d8576b\"],[0.6666666666666666,\"#ed7953\"],[0.7777777777777778,\"#fb9f3a\"],[0.8888888888888888,\"#fdca26\"],[1.0,\"#f0f921\"]],\"sequentialminus\":[[0.0,\"#0d0887\"],[0.1111111111111111,\"#46039f\"],[0.2222222222222222,\"#7201a8\"],[0.3333333333333333,\"#9c179e\"],[0.4444444444444444,\"#bd3786\"],[0.5555555555555556,\"#d8576b\"],[0.6666666666666666,\"#ed7953\"],[0.7777777777777778,\"#fb9f3a\"],[0.8888888888888888,\"#fdca26\"],[1.0,\"#f0f921\"]]},\"colorway\":[\"#636efa\",\"#EF553B\",\"#00cc96\",\"#ab63fa\",\"#FFA15A\",\"#19d3f3\",\"#FF6692\",\"#B6E880\",\"#FF97FF\",\"#FECB52\"],\"font\":{\"color\":\"#2a3f5f\"},\"geo\":{\"bgcolor\":\"white\",\"lakecolor\":\"white\",\"landcolor\":\"#E5ECF6\",\"showlakes\":true,\"showland\":true,\"subunitcolor\":\"white\"},\"hoverlabel\":{\"align\":\"left\"},\"hovermode\":\"closest\",\"mapbox\":{\"style\":\"light\"},\"paper_bgcolor\":\"white\",\"plot_bgcolor\":\"#E5ECF6\",\"polar\":{\"angularaxis\":{\"gridcolor\":\"white\",\"linecolor\":\"white\",\"ticks\":\"\"},\"bgcolor\":\"#E5ECF6\",\"radialaxis\":{\"gridcolor\":\"white\",\"linecolor\":\"white\",\"ticks\":\"\"}},\"scene\":{\"xaxis\":{\"backgroundcolor\":\"#E5ECF6\",\"gridcolor\":\"white\",\"gridwidth\":2,\"linecolor\":\"white\",\"showbackground\":true,\"ticks\":\"\",\"zerolinecolor\":\"white\"},\"yaxis\":{\"backgroundcolor\":\"#E5ECF6\",\"gridcolor\":\"white\",\"gridwidth\":2,\"linecolor\":\"white\",\"showbackground\":true,\"ticks\":\"\",\"zerolinecolor\":\"white\"},\"zaxis\":{\"backgroundcolor\":\"#E5ECF6\",\"gridcolor\":\"white\",\"gridwidth\":2,\"linecolor\":\"white\",\"showbackground\":true,\"ticks\":\"\",\"zerolinecolor\":\"white\"}},\"shapedefaults\":{\"line\":{\"color\":\"#2a3f5f\"}},\"ternary\":{\"aaxis\":{\"gridcolor\":\"white\",\"linecolor\":\"white\",\"ticks\":\"\"},\"baxis\":{\"gridcolor\":\"white\",\"linecolor\":\"white\",\"ticks\":\"\"},\"bgcolor\":\"#E5ECF6\",\"caxis\":{\"gridcolor\":\"white\",\"linecolor\":\"white\",\"ticks\":\"\"}},\"title\":{\"x\":0.05},\"xaxis\":{\"automargin\":true,\"gridcolor\":\"white\",\"linecolor\":\"white\",\"ticks\":\"\",\"title\":{\"standoff\":15},\"zerolinecolor\":\"white\",\"zerolinewidth\":2},\"yaxis\":{\"automargin\":true,\"gridcolor\":\"white\",\"linecolor\":\"white\",\"ticks\":\"\",\"title\":{\"standoff\":15},\"zerolinecolor\":\"white\",\"zerolinewidth\":2}}},\"title\":{\"text\":\"Double Pendulum\"},\"updatemenus\":[{\"buttons\":[{\"args\":[null,{\"frame\":{\"duration\":20,\"redraw\":false},\"fromcurrent\":true,\"transition\":{\"duration\":0.0196078431372549}}],\"label\":\"Play\",\"method\":\"animate\"}],\"type\":\"buttons\"}],\"width\":800,\"xaxis\":{\"range\":[-3.3,3.3]},\"yaxis\":{\"range\":[-3.3,3.3]}},                        {\"responsive\": true}                    ).then(function(){\n",
       "                            Plotly.addFrames('d9b10728-067f-4176-a179-49f9c2717835', [{\"data\":[{\"type\":\"scatter\",\"x\":[0,0.0008282898512527541],\"y\":[0,2.29999985085563]},{\"type\":\"scatter\",\"x\":[0.0008282898512527541,0.2158150908313509],\"y\":[2.29999985085563,1.6338311969815953]}]},{\"data\":[{\"type\":\"scatter\",\"x\":[0,0.0033137561743238346],\"y\":[0,2.2999976128291992]},{\"type\":\"scatter\",\"x\":[0.0033137561743238346,0.2143262664494387],\"y\":[2.2999976128291992,1.6325594355368043]}]},{\"data\":[{\"type\":\"scatter\",\"x\":[0,0.007457677087584526],\"y\":[0,2.2999879093274505]},{\"type\":\"scatter\",\"x\":[0.007457677087584526,0.21185058839092596],\"y\":[2.2999879093274505,1.6304929221849445]}]},{\"data\":[{\"type\":\"scatter\",\"x\":[0,0.013260458596527282],\"y\":[0,2.299961773647077]},{\"type\":\"scatter\",\"x\":[0.013260458596527282,0.20839794336315415],\"y\":[2.299961773647077,1.6277108070884903]}]},{\"data\":[{\"type\":\"scatter\",\"x\":[0,0.02071905283128281],\"y\":[0,2.2999066765522844]},{\"type\":\"scatter\",\"x\":[0.02071905283128281,0.20398477378194843],\"y\":[2.2999066765522844,1.6243227250522265]}]},{\"data\":[{\"type\":\"scatter\",\"x\":[0,0.029823372762664457],\"y\":[0,2.2998066367495027]},{\"type\":\"scatter\",\"x\":[0.029823372762664457,0.19863664685985322],\"y\":[2.2998066367495027,1.6204671939901503]}]},{\"data\":[{\"type\":\"scatter\",\"x\":[0,0.04055181286937941],\"y\":[0,2.2996424831858113]},{\"type\":\"scatter\",\"x\":[0.04055181286937941,0.19239142529233683],\"y\":[2.2996424831858113,1.6163089393733872]}]},{\"data\":[{\"type\":\"scatter\",\"x\":[0,0.05286606340808547],\"y\":[0,2.299392350022008]},{\"type\":\"scatter\",\"x\":[0.05286606340808547,0.18530286792926787],\"y\":[2.299392350022008,1.6120347336328258]}]},{\"data\":[{\"type\":\"scatter\",\"x\":[0,0.06670559936094511],\"y\":[0,2.2990324841145453]},{\"type\":\"scatter\",\"x\":[0.06670559936094511,0.1774443565587805],\"y\":[2.2990324841145453,1.607847322486868]}]},{\"data\":[{\"type\":\"scatter\",\"x\":[0,0.081982425497244],\"y\":[0,2.298538422978739]},{\"type\":\"scatter\",\"x\":[0.081982425497244,0.16891228672674127],\"y\":[2.298538422978739,1.6039571108009492]}]},{\"data\":[{\"type\":\"scatter\",\"x\":[0,0.09857688110030717],\"y\":[0,2.297886550400723]},{\"type\":\"scatter\",\"x\":[0.09857688110030717,0.1598285064167945],\"y\":[2.297886550400723,1.6005715294840006]}]},{\"data\":[{\"type\":\"scatter\",\"x\":[0,0.11633546969184093],\"y\":[0,2.2970559545843843]},{\"type\":\"scatter\",\"x\":[0.11633546969184093,0.15034109115516245],\"y\":[2.2970559545843843,1.5978824298361332]}]},{\"data\":[{\"type\":\"scatter\",\"x\":[0,0.13507164623071105],\"y\":[0,2.2960304114676977]},{\"type\":\"scatter\",\"x\":[0.13507164623071105,0.14062279207664607],\"y\":[2.2960304114676977,1.596052422685338]}]},{\"data\":[{\"type\":\"scatter\",\"x\":[0,0.1545702141710654],\"y\":[0,2.294800219821131]},{\"type\":\"scatter\",\"x\":[0.1545702141710654,0.13086674590459474],\"y\":[2.294800219821131,1.5952016595080467]}]},{\"data\":[{\"type\":\"scatter\",\"x\":[0,0.17459539912873026],\"y\":[0,2.2933635661628267]},{\"type\":\"scatter\",\"x\":[0.17459539912873026,0.12127950779085658],\"y\":[2.2933635661628267,1.5953969367808427]}]},{\"data\":[{\"type\":\"scatter\",\"x\":[0,0.1949018764830448],\"y\":[0,2.2917271343995966]},{\"type\":\"scatter\",\"x\":[0.1949018764830448,0.11207206550547247],\"y\":[2.2917271343995966,1.5966449648588872]}]},{\"data\":[{\"type\":\"scatter\",\"x\":[0,0.21524730154870242],\"y\":[0,2.2899058057431096]},{\"type\":\"scatter\",\"x\":[0.21524730154870242,0.10345002228963461],\"y\":[2.2899058057431096,1.5988910675860497]}]},{\"data\":[{\"type\":\"scatter\",\"x\":[0,0.23540449189142393],\"y\":[0,2.2879214858026353]},{\"type\":\"scatter\",\"x\":[0.23540449189142393,0.09560438798173804],\"y\":[2.2879214858026353,1.6020235845470323]}]},{\"data\":[{\"type\":\"scatter\",\"x\":[0,0.2551715055044131],\"y\":[0,2.28580128243437]},{\"type\":\"scatter\",\"x\":[0.2551715055044131,0.08870428041507014],\"y\":[2.28580128243437,1.605883152825331]}]},{\"data\":[{\"type\":\"scatter\",\"x\":[0,0.2743784194838755],\"y\":[0,2.283575372726184]},{\"type\":\"scatter\",\"x\":[0.2743784194838755,0.08289236368973804],\"y\":[2.283575372726184,1.6102752238799176]}]},{\"data\":[{\"type\":\"scatter\",\"x\":[0,0.292890398864202],\"y\":[0,2.281274909837297]},{\"type\":\"scatter\",\"x\":[0.292890398864202,0.07828322930007514],\"y\":[2.281274909837297,1.6149838602413458]}]},{\"data\":[{\"type\":\"scatter\",\"x\":[0,0.31060737624686496],\"y\":[0,2.2789302441762094]},{\"type\":\"scatter\",\"x\":[0.31060737624686496,0.07496437751494792],\"y\":[2.2789302441762094,1.6197850574770802]}]},{\"data\":[{\"type\":\"scatter\",\"x\":[0,0.32746113664936144],\"y\":[0,2.2765696132524273]},{\"type\":\"scatter\",\"x\":[0.32746113664936144,0.07299912074885273],\"y\":[2.2765696132524273,1.624458363185501]}]},{\"data\":[{\"type\":\"scatter\",\"x\":[0,0.34341078104591216],\"y\":[0,2.2742183350464473]},{\"type\":\"scatter\",\"x\":[0.34341078104591216,0.0724306309398241],\"y\":[2.2742183350464473,1.6287961799816542]}]},{\"data\":[{\"type\":\"scatter\",\"x\":[0,0.3584374783486688],\"y\":[0,2.271898451541144]},{\"type\":\"scatter\",\"x\":[0.3584374783486688,0.07328643165324111],\"y\":[2.271898451541144,1.6326106598788113]}]},{\"data\":[{\"type\":\"scatter\",\"x\":[0,0.3725392261200503],\"y\":[0,2.269628719637173]},{\"type\":\"scatter\",\"x\":[0.3725392261200503,0.07558280361434577],\"y\":[2.269628719637173,1.6357384427495925]}]},{\"data\":[{\"type\":\"scatter\",\"x\":[0,0.38572611260352196],\"y\":[0,2.2674248314014234]},{\"type\":\"scatter\",\"x\":[0.38572611260352196,0.07932875545486645],\"y\":[2.2674248314014234,1.6380436595092869]}]},{\"data\":[{\"type\":\"scatter\",\"x\":[0,0.3980163723880253],\"y\":[0,2.2652997521986085]},{\"type\":\"scatter\",\"x\":[0.3980163723880253,0.08452936457937504],\"y\":[2.2652997521986085,1.6394196551071774]}]},{\"data\":[{\"type\":\"scatter\",\"x\":[0,0.40943338881351377],\"y\":[0,2.263264080951377]},{\"type\":\"scatter\",\"x\":[0.40943338881351377,0.09118840247341331],\"y\":[2.263264080951377,1.639789840369307]}]},{\"data\":[{\"type\":\"scatter\",\"x\":[0,0.4200037003492839],\"y\":[0,2.2613263567413058]},{\"type\":\"scatter\",\"x\":[0.4200037003492839,0.09931022103275633],\"y\":[2.2613263567413058,1.6391079928819128]}]},{\"data\":[{\"type\":\"scatter\",\"x\":[0,0.4297560222084169],\"y\":[0,2.259493253226395]},{\"type\":\"scatter\",\"x\":[0.4297560222084169,0.1089009061111113],\"y\":[2.259493253226395,1.6373582240935027]}]},{\"data\":[{\"type\":\"scatter\",\"x\":[0,0.43872127432421515],\"y\":[0,2.257769617001552]},{\"type\":\"scatter\",\"x\":[0.43872127432421515,0.11996870907302465],\"y\":[2.257769617001552,1.6345547245721548]}]},{\"data\":[{\"type\":\"scatter\",\"x\":[0,0.4469336004422097],\"y\":[0,2.2561583182028166]},{\"type\":\"scatter\",\"x\":[0.4469336004422097,0.1325237597101952],\"y\":[2.2561583182028166,1.6307412956883434]}]},{\"data\":[{\"type\":\"scatter\",\"x\":[0,0.45443235611667765],\"y\":[0,2.254659893135602]},{\"type\":\"scatter\",\"x\":[0.45443235611667765,0.14657705388748693],\"y\":[2.254659893135602,1.625990573946751]}]},{\"data\":[{\"type\":\"scatter\",\"x\":[0,0.4612650212870161],\"y\":[0,2.253271972074629]},{\"type\":\"scatter\",\"x\":[0.4612650212870161,0.1621387067158146],\"y\":[2.253271972074629,1.620402753411681]}]},{\"data\":[{\"type\":\"scatter\",\"x\":[0,0.4674909348143689],\"y\":[0,2.2519885048255435]},{\"type\":\"scatter\",\"x\":[0.4674909348143689,0.17921547850828118],\"y\":[2.2519885048255435,1.614103514179489]}]},{\"data\":[{\"type\":\"scatter\",\"x\":[0,0.47318566303439713],\"y\":[0,2.2507988200411644]},{\"type\":\"scatter\",\"x\":[0.47318566303439713,0.19780762713062167],\"y\":[2.2507988200411644,1.607240790535061]}]},{\"data\":[{\"type\":\"scatter\",\"x\":[0,0.47844566167310415],\"y\":[0,2.2496865890221653]},{\"type\":\"scatter\",\"x\":[0.47844566167310415,0.21790522602278656],\"y\":[2.2496865890221653,1.5999799772417844]}]},{\"data\":[{\"type\":\"scatter\",\"x\":[0,0.4833927032851346],\"y\":[0,2.248628803162205]},{\"type\":\"scatter\",\"x\":[0.4833927032851346,0.23948421725455915],\"y\":[2.248628803162205,1.5924972230334378]}]},{\"data\":[{\"type\":\"scatter\",\"x\":[0,0.4881773521698447],\"y\":[0,2.2475949085252083]},{\"type\":\"scatter\",\"x\":[0.4881773521698447,0.2625026297539222],\"y\":[2.2475949085252083,1.5849706411892646]}]},{\"data\":[{\"type\":\"scatter\",\"x\":[0,0.4929806254197562],\"y\":[0,2.2465462610328646]},{\"type\":\"scatter\",\"x\":[0.4929806254197562,0.28689754757924546],\"y\":[2.2465462610328646,1.5775696059635103]}]},{\"data\":[{\"type\":\"scatter\",\"x\":[0,0.49801299913007896],\"y\":[0,2.2454360495675365]},{\"type\":\"scatter\",\"x\":[0.49801299913007896,0.3125834976308155],\"y\":[2.2454360495675365,1.5704427903613911]}]},{\"data\":[{\"type\":\"scatter\",\"x\":[0,0.5035101679246666],\"y\":[0,2.2442097742404727]},{\"type\":\"scatter\",\"x\":[0.5035101679246666,0.3394528658973442],\"y\":[2.2442097742404727,1.5637061360051465]}]},{\"data\":[{\"type\":\"scatter\",\"x\":[0,0.5097255309885348],\"y\":[0,2.2428062517878034]},{\"type\":\"scatter\",\"x\":[0.5097255309885348,0.36737868467598966],\"y\":[2.2428062517878034,1.5574323572274162]}]},{\"data\":[{\"type\":\"scatter\",\"x\":[0,0.5169200395791608],\"y\":[0,2.241159002097236]},{\"type\":\"scatter\",\"x\":[0.5169200395791608,0.3962197007918447],\"y\":[2.241159002097236,1.5516436446057387]}]},{\"data\":[{\"type\":\"scatter\",\"x\":[0,0.5253507404134293],\"y\":[0,2.2391977580256417]},{\"type\":\"scatter\",\"x\":[0.5253507404134293,0.4258271289732931],\"y\":[2.2391977580256417,1.5463088414120818]}]},{\"data\":[{\"type\":\"scatter\",\"x\":[0,0.5352596976276611],\"y\":[0,2.236849806333797]},{\"type\":\"scatter\",\"x\":[0.5352596976276611,0.4560521108273529],\"y\":[2.236849806333797,1.5413455589037244]}]},{\"data\":[{\"type\":\"scatter\",\"x\":[0,0.5468648757131626],\"y\":[0,2.234040914511466]},{\"type\":\"scatter\",\"x\":[0.5468648757131626,0.48675277958532137],\"y\":[2.234040914511466,1.5366267363510868]}]},{\"data\":[{\"type\":\"scatter\",\"x\":[0,0.5603540515072398],\"y\":[0,2.2306957069397475]},{\"type\":\"scatter\",\"x\":[0.5603540515072398,0.517800010973805],\"y\":[2.2306957069397475,1.5319903658736593]}]},{\"data\":[{\"type\":\"scatter\",\"x\":[0,0.5758820956057438],\"y\":[0,2.2267374815996464]},{\"type\":\"scatter\",\"x\":[0.5758820956057438,0.5490813309507],\"y\":[2.2267374815996464,1.5272507276050442]}]},{\"data\":[{\"type\":\"scatter\",\"x\":[0,0.5935712905455309],\"y\":[0,2.2220875597149883]},{\"type\":\"scatter\",\"x\":[0.5935712905455309,0.5805028902300512],\"y\":[2.2220875597149883,1.522209558265311]}]},{\"data\":[{\"type\":\"scatter\",\"x\":[0,0.6135139239078232],\"y\":[0,2.216664310438372]},{\"type\":\"scatter\",\"x\":[0.6135139239078232,0.6119897623476046],\"y\":[2.216664310438372,1.5166659697749543]}]},{\"data\":[{\"type\":\"scatter\",\"x\":[0,0.6357762410611588],\"y\":[0,2.210381996692459]},{\"type\":\"scatter\",\"x\":[0.6357762410611588,0.6434850106561459],\"y\":[2.210381996692459,1.5104244444999484]}]},{\"data\":[{\"type\":\"scatter\",\"x\":[0,0.660402907784144],\"y\":[0,2.2031495635544687]},{\"type\":\"scatter\",\"x\":[0.660402907784144,0.6749480097389754],\"y\":[2.2031495635544687,1.5033006941482778]}]},{\"data\":[{\"type\":\"scatter\",\"x\":[0,0.6874213263731095],\"y\":[0,2.194869453987511]},{\"type\":\"scatter\",\"x\":[0.6874213263731095,0.7063524437534404],\"y\":[2.194869453987511,1.4951254916736285]}]},{\"data\":[{\"type\":\"scatter\",\"x\":[0,0.7168453658891086],\"y\":[0,2.185436505918968]},{\"type\":\"scatter\",\"x\":[0.7168453658891086,0.7376842957493452],\"y\":[2.185436505918968,1.4857467611018242]}]},{\"data\":[{\"type\":\"scatter\",\"x\":[0,0.7486782678181471],\"y\":[0,2.1747369614040264]},{\"type\":\"scatter\",\"x\":[0.7486782678181471,0.7689400265197023],\"y\":[2.1747369614040264,1.4750302648987552]}]},{\"data\":[{\"type\":\"scatter\",\"x\":[0,0.7829146252652674],\"y\":[0,2.162647611042017]},{\"type\":\"scatter\",\"x\":[0.7829146252652674,0.8001250450410001],\"y\":[2.162647611042017,1.4628592134166043]}]},{\"data\":[{\"type\":\"scatter\",\"x\":[0,0.8195414382542877],\"y\":[0,2.1490350930089748]},{\"type\":\"scatter\",\"x\":[0.8195414382542877,0.8312524970232629],\"y\":[2.1490350930089748,1.4491330633630324]}]},{\"data\":[{\"type\":\"scatter\",\"x\":[0,0.8585383040597157],\"y\":[0,2.133755370341752]},{\"type\":\"scatter\",\"x\":[0.8585383040597157,0.8623423453313359],\"y\":[2.133755370341752,1.4337657066537772]}]},{\"data\":[{\"type\":\"scatter\",\"x\":[0,0.899876833151178],\"y\":[0,2.1166534164000033]},{\"type\":\"scatter\",\"x\":[0.899876833151178,0.8934206807077341],\"y\":[2.1166534164000033,1.4166831898220245]}]},{\"data\":[{\"type\":\"scatter\",\"x\":[0,0.9435193973790441],\"y\":[0,2.097563144882529]},{\"type\":\"scatter\",\"x\":[0.9435193973790441,0.924519176957891],\"y\":[2.097563144882529,1.3978210555210648]}]},{\"data\":[{\"type\":\"scatter\",\"x\":[0,0.989417325632156],\"y\":[0,2.076307625507095]},{\"type\":\"scatter\",\"x\":[0.989417325632156,0.9556745883883234],\"y\":[2.076307625507095,1.3771213644269062]}]},{\"data\":[{\"type\":\"scatter\",\"x\":[0,1.037508667865742],\"y\":[0,2.052699628319607]},{\"type\":\"scatter\",\"x\":[1.037508667865742,0.9869281759930512],\"y\":[2.052699628319607,1.3545294385793714]}]},{\"data\":[{\"type\":\"scatter\",\"x\":[0,1.0877156540574386],\"y\":[0,2.026542537406604]},{\"type\":\"scatter\",\"x\":[1.0877156540574386,1.0183249414932367],\"y\":[2.026542537406604,1.329990364909933]}]},{\"data\":[{\"type\":\"scatter\",\"x\":[0,1.139941979458648],\"y\":[0,1.9976316686185915]},{\"type\":\"scatter\",\"x\":[1.139941979458648,1.049912548014731],\"y\":[1.9976316686185915,1.3034453092928806]}]},{\"data\":[{\"type\":\"scatter\",\"x\":[0,1.1940700530763377],\"y\":[0,1.9657560144499802]},{\"type\":\"scatter\",\"x\":[1.1940700530763377,1.081739810252053],\"y\":[1.9657560144499802,1.2748277138666004]}]},{\"data\":[{\"type\":\"scatter\",\"x\":[0,1.2499583471638245],\"y\":[0,1.930700424808437]},{\"type\":\"scatter\",\"x\":[1.2499583471638245,1.1138546525780313],\"y\":[1.930700424808437,1.2440594820151185]}]},{\"data\":[{\"type\":\"scatter\",\"x\":[0,1.3074389814948033],\"y\":[0,1.8922482156598355]},{\"type\":\"scatter\",\"x\":[1.3074389814948033,1.1463014609357822],\"y\":[1.8922482156598355,1.211047291212363]}]},{\"data\":[{\"type\":\"scatter\",\"x\":[0,1.366315664897357],\"y\":[0,1.8501841810630888]},{\"type\":\"scatter\",\"x\":[1.366315664897357,1.179117795144665],\"y\":[1.8501841810630888,1.1756792088352674]}]},{\"data\":[{\"type\":\"scatter\",\"x\":[0,1.4263620961824637],\"y\":[0,1.804297971670413]},{\"type\":\"scatter\",\"x\":[1.4263620961824637,1.2123304835825874],\"y\":[1.804297971670413,1.1378218139514018]}]},{\"data\":[{\"type\":\"scatter\",\"x\":[0,1.4873208986399291],\"y\":[0,1.7543877976288234]},{\"type\":\"scatter\",\"x\":[1.4873208986399291,1.2459511897580016],\"y\":[1.7543877976288234,1.0973180420973017]}]},{\"data\":[{\"type\":\"scatter\",\"x\":[0,1.5489031300526586],\"y\":[0,1.7002644187634686]},{\"type\":\"scatter\",\"x\":[1.5489031300526586,1.279971615809047],\"y\":[1.7002644187634686,1.0539859643441385]}]},{\"data\":[{\"type\":\"scatter\",\"x\":[0,1.6107883787734856],\"y\":[0,1.6417554016382236]},{\"type\":\"scatter\",\"x\":[1.6107883787734856,1.314358585359248],\"y\":[1.6417554016382236,1.0076186832750678]}]},{\"data\":[{\"type\":\"scatter\",\"x\":[0,1.6726254354422352],\"y\":[0,1.5787096480074074]},{\"type\":\"scatter\",\"x\":[1.6726254354422352,1.3490493194401507],\"y\":[1.5787096480074074,0.9579854764521138]}]},{\"data\":[{\"type\":\"scatter\",\"x\":[0,1.7340335262116977],\"y\":[0,1.511002226991683]},{\"type\":\"scatter\",\"x\":[1.7340335262116977,1.3839472788143847],\"y\":[1.511002226991683,0.904834247481657]}]},{\"data\":[{\"type\":\"scatter\",\"x\":[0,1.7946041104437656],\"y\":[0,1.4385395673315142]},{\"type\":\"scatter\",\"x\":[1.7946041104437656,1.4189189902491062],\"y\":[1.4385395673315142,0.847895266195607]}]},{\"data\":[{\"type\":\"scatter\",\"x\":[0,1.8539033003103755],\"y\":[0,1.3612650561511879]},{\"type\":\"scatter\",\"x\":[1.8539033003103755,1.453792299572922],\"y\":[1.3612650561511879,0.7868860984160762]}]},{\"data\":[{\"type\":\"scatter\",\"x\":[0,1.9114750183374238],\"y\":[0,1.279165061386506]},{\"type\":\"scatter\",\"x\":[1.9114750183374238,1.4883565145977604],\"y\":[1.279165061386506,0.7215175635950172]}]},{\"data\":[{\"type\":\"scatter\",\"x\":[0,1.9668451061304009],\"y\":[0,1.192275273789946]},{\"type\":\"scatter\",\"x\":[1.9668451061304009,1.5223648990394658],\"y\":[1.192275273789946,0.6515005096742383]}]},{\"data\":[{\"type\":\"scatter\",\"x\":[0,2.0195266583609808],\"y\":[0,1.1006870927603951]},{\"type\":\"scatter\",\"x\":[2.0195266583609808,1.5555399793420324],\"y\":[1.1006870927603951,0.5765531769593212]}]},{\"data\":[{\"type\":\"scatter\",\"x\":[0,2.069026896854788],\"y\":[0,1.0045534829422709]},{\"type\":\"scatter\",\"x\":[2.069026896854788,1.5875820915171064],\"y\":[1.0045534829422709,0.4964089174755506]}]},{\"data\":[{\"type\":\"scatter\",\"x\":[0,2.11485583304757],\"y\":[0,0.9040933610112777]},{\"type\":\"scatter\",\"x\":[2.11485583304757,1.618181505517679],\"y\":[0.9040933610112777,0.410824050823901]}]},{\"data\":[{\"type\":\"scatter\",\"x\":[0,2.1565367675739],\"y\":[0,0.7995931278481037]},{\"type\":\"scatter\",\"x\":[2.1565367675739,1.647034252678815],\"y\":[0.7995931278481037,0.3195856411194239]}]},{\"data\":[{\"type\":\"scatter\",\"x\":[0,2.193618267706777],\"y\":[0,0.6914035692583005]},{\"type\":\"scatter\",\"x\":[2.193618267706777,1.6738613662829562],\"y\":[0.6914035692583005,0.22251897426470446]}]},{\"data\":[{\"type\":\"scatter\",\"x\":[0,2.2256866309835472],\"y\":[0,0.5799301860233753]},{\"type\":\"scatter\",\"x\":[2.2256866309835472,1.6984305716043369],\"y\":[0.5799301860233753,0.11949447080581466]}]},{\"data\":[{\"type\":\"scatter\",\"x\":[0,2.2523770377762298],\"y\":[0,0.4656153774290276]},{\"type\":\"scatter\",\"x\":[2.2523770377762298,1.7205785213836502],\"y\":[0.4656153774290276,0.010433723621834923]}]},{\"data\":[{\"type\":\"scatter\",\"x\":[0,2.2733808325536935],\"y\":[0,0.3489120092193353]},{\"type\":\"scatter\",\"x\":[2.2733808325536935,1.740230670593912],\"y\":[0.3489120092193353,-0.10468572534539816]}]},{\"data\":[{\"type\":\"scatter\",\"x\":[0,2.288445975249877],\"y\":[0,0.23024990415337143]},{\"type\":\"scatter\",\"x\":[2.288445975249877,1.7574152420725482],\"y\":[0.23024990415337143,-0.22582723890594525]}]},{\"data\":[{\"type\":\"scatter\",\"x\":[0,2.2973680988784375],\"y\":[0,0.1099991738863208]},{\"type\":\"scatter\",\"x\":[2.2973680988784375,1.7722680002710343],\"y\":[0.1099991738863208,-0.3528937796596318]}]},{\"data\":[{\"type\":\"scatter\",\"x\":[0,2.2999709293683988],\"y\":[0,-0.011563911979252594]},{\"type\":\"scatter\",\"x\":[2.2999709293683988,1.7850260993396652],\"y\":[-0.011563911979252594,-0.4857282527163841]}]},{\"data\":[{\"type\":\"scatter\",\"x\":[0,2.29607668085167],\"y\":[0,-0.134282819635191]},{\"type\":\"scatter\",\"x\":[2.29607668085167,1.7960118864490409],\"y\":[-0.134282819635191,-0.6241146289320723]}]},{\"data\":[{\"type\":\"scatter\",\"x\":[0,2.2854684987534197],\"y\":[0,-0.2581351219919314]},{\"type\":\"scatter\",\"x\":[2.2854684987534197,1.805610148046659],\"y\":[-0.2581351219919314,-0.7677780982576574]}]},{\"data\":[{\"type\":\"scatter\",\"x\":[0,2.267847023412493],\"y\":[0,-0.3832360609325478]},{\"type\":\"scatter\",\"x\":[2.267847023412493,1.814243757529762],\"y\":[-0.3832360609325478,-0.9163815168641543]}]},{\"data\":[{\"type\":\"scatter\",\"x\":[0,2.2427811094024643],\"y\":[0,-0.5098361455482047]},{\"type\":\"scatter\",\"x\":[2.2427811094024643,1.8223522161977694],\"y\":[-0.5098361455482047,-1.0695142188713207]}]},{\"data\":[{\"type\":\"scatter\",\"x\":[0,2.209648584579214],\"y\":[0,-0.6383205563563462]},{\"type\":\"scatter\",\"x\":[2.209648584579214,1.8303754890580177],\"y\":[-0.6383205563563462,-1.226667324014476]}]},{\"data\":[{\"type\":\"scatter\",\"x\":[0,2.1675563576240306],\"y\":[0,-0.7692200182806248]},{\"type\":\"scatter\",\"x\":[2.1675563576240306,1.8387424395132976],\"y\":[-0.7692200182806248,-1.3871855571714824]}]},{\"data\":[{\"type\":\"scatter\",\"x\":[0,2.115218176960942],\"y\":[0,-0.9032452955061706]},{\"type\":\"scatter\",\"x\":[2.115218176960942,1.8478587745541522],\"y\":[-0.9032452955061706,-1.5501757013031807]}]},{\"data\":[{\"type\":\"scatter\",\"x\":[0,2.050746544573188],\"y\":[0,-1.0413638220723478]},{\"type\":\"scatter\",\"x\":[2.050746544573188,1.858080362113522],\"y\":[-1.0413638220723478,-1.7143272253391366]}]},{\"data\":[{\"type\":\"scatter\",\"x\":[0,1.9712662350820895],\"y\":[0,-1.1849512354629972]},{\"type\":\"scatter\",\"x\":[1.9712662350820895,1.869629783915696],\"y\":[-1.1849512354629972,-1.8775333835106502]}]},{\"data\":[{\"type\":\"scatter\",\"x\":[0,1.8721420465977807],\"y\":[0,-1.336070416318194]},{\"type\":\"scatter\",\"x\":[1.8721420465977807,1.8823060191340786],\"y\":[-1.336070416318194,-2.035996622187271]}]},{\"data\":[{\"type\":\"scatter\",\"x\":[0,1.7454170936674047],\"y\":[0,-1.4978381652013109]},{\"type\":\"scatter\",\"x\":[1.7454170936674047,1.894338908639356],\"y\":[-1.4978381652013109,-2.1818135251562287]}]},{\"data\":[{\"type\":\"scatter\",\"x\":[0,1.5781232779832362],\"y\":[0,-1.6731786872559202]},{\"type\":\"scatter\",\"x\":[1.5781232779832362,1.8972694313347613],\"y\":[-1.6731786872559202,-2.29619211632541]}]},{\"data\":[{\"type\":\"scatter\",\"x\":[0,1.366557771318526],\"y\":[0,-1.8500053669243617]},{\"type\":\"scatter\",\"x\":[1.366557771318526,1.861529900345389],\"y\":[-1.8500053669243617,-2.3449827315448206]}]},{\"data\":[{\"type\":\"scatter\",\"x\":[0,1.1494628005975749],\"y\":[0,-1.9921684843512555]},{\"type\":\"scatter\",\"x\":[1.1494628005975749,1.7618861332703228],\"y\":[-1.9921684843512555,-2.3311930580889193]}]},{\"data\":[{\"type\":\"scatter\",\"x\":[0,0.9503091647868104],\"y\":[0,-2.094495760636004]},{\"type\":\"scatter\",\"x\":[0.9503091647868104,1.6206661836734855],\"y\":[-2.094495760636004,-2.2960434404275856]}]},{\"data\":[{\"type\":\"scatter\",\"x\":[0,0.7648950166961075],\"y\":[0,-2.1690863545358128]},{\"type\":\"scatter\",\"x\":[0.7648950166961075,1.4592114635735283],\"y\":[-2.1690863545358128,-2.2581069790871697]}]},{\"data\":[{\"type\":\"scatter\",\"x\":[0,0.587343189951739],\"y\":[0,-2.223741886374701]},{\"type\":\"scatter\",\"x\":[0.587343189951739,1.2873421835747698],\"y\":[-2.223741886374701,-2.222554904174297]}]},{\"data\":[{\"type\":\"scatter\",\"x\":[0,0.4136399650893792],\"y\":[0,-2.2624990561944673]},{\"type\":\"scatter\",\"x\":[0.4136399650893792,1.1099634220817527],\"y\":[-2.2624990561944673,-2.190849609286691]}]},{\"data\":[{\"type\":\"scatter\",\"x\":[0,0.24105946859496266],\"y\":[0,-2.2873325802341715]},{\"type\":\"scatter\",\"x\":[0.24105946859496266,0.9299818067626806],\"y\":[-2.2873325802341715,-2.1632922159428474]}]},{\"data\":[{\"type\":\"scatter\",\"x\":[0,0.06773321261967541],\"y\":[0,-2.299002438430246]},{\"type\":\"scatter\",\"x\":[0.06773321261967541,0.7493767011362098],\"y\":[-2.299002438430246,-2.1397474398807215]}]},{\"data\":[{\"type\":\"scatter\",\"x\":[0,-0.10749369739679604],\"y\":[0,-2.2974866931105313]},{\"type\":\"scatter\",\"x\":[-0.10749369739679604,0.5696103941905241],\"y\":[-2.2974866931105313,-2.119919665890639]}]},{\"data\":[{\"type\":\"scatter\",\"x\":[0,-0.2850315524767215],\"y\":[0,-2.282270144854178]},{\"type\":\"scatter\",\"x\":[-0.2850315524767215,0.39175895399573324],\"y\":[-2.282270144854178,-2.1035116196064063]}]},{\"data\":[{\"type\":\"scatter\",\"x\":[0,-0.4644344948669666],\"y\":[0,-2.2526208291627032]},{\"type\":\"scatter\",\"x\":[-0.4644344948669666,0.2164965151424551],\"y\":[-2.2526208291627032,-2.0903464947547357]}]},{\"data\":[{\"type\":\"scatter\",\"x\":[0,-0.644297800183618],\"y\":[0,-2.207913119821192]},{\"type\":\"scatter\",\"x\":[-0.644297800183618,0.04399908529453378],\"y\":[-2.207913119821192,-2.0804478404660833]}]},{\"data\":[{\"type\":\"scatter\",\"x\":[0,-0.8222509484223717],\"y\":[0,-2.1479998551719013]},{\"type\":\"scatter\",\"x\":[-0.8222509484223717,-0.12616970689399643],\"y\":[-2.1479998551719013,-2.0740342875588853]}]},{\"data\":[{\"type\":\"scatter\",\"x\":[0,-0.995111844901958],\"y\":[0,-2.07358443670274]},{\"type\":\"scatter\",\"x\":[-0.995111844901958,-0.2951152804414846],\"y\":[-2.07358443670274,-2.0713913239527177]}]},{\"data\":[{\"type\":\"scatter\",\"x\":[0,-1.1592199892742234],\"y\":[0,-1.986506737080715]},{\"type\":\"scatter\",\"x\":[-1.1592199892742234,-0.46453841075732305],\"y\":[-1.986506737080715,-2.0726316723159157]}]},{\"data\":[{\"type\":\"scatter\",\"x\":[0,-1.3109010170659905],\"y\":[0,-1.8898514553941403]},{\"type\":\"scatter\",\"x\":[-1.3109010170659905,-0.6364995552484664],\"y\":[-1.8898514553941403,-2.0774218909600535]}]},{\"data\":[{\"type\":\"scatter\",\"x\":[0,-1.446952497047424],\"y\":[0,-1.7878278639981602]},{\"type\":\"scatter\",\"x\":[-1.446952497047424,-0.8130618918674525],\"y\":[-1.7878278639981602,-2.0847835857220725]}]},{\"data\":[{\"type\":\"scatter\",\"x\":[0,-1.565011588222346],\"y\":[0,-1.6854491178109678]},{\"type\":\"scatter\",\"x\":[-1.565011588222346,-0.995915205357734],\"y\":[-1.6854491178109678,-2.0930387484573014]}]},{\"data\":[{\"type\":\"scatter\",\"x\":[0,-1.6636908829599528],\"y\":[0,-1.5881223649190046]},{\"type\":\"scatter\",\"x\":[-1.6636908829599528,-1.1860870209096421],\"y\":[-1.5881223649190046,-2.0998787043566587]}]},{\"data\":[{\"type\":\"scatter\",\"x\":[0,-1.7424351244679288],\"y\":[0,-1.5013060437567127]},{\"type\":\"scatter\",\"x\":[-1.7424351244679288,-1.3837849666863329],\"y\":[-1.5013060437567127,-2.1024466798172243]}]},{\"data\":[{\"type\":\"scatter\",\"x\":[0,-1.8011080637667236],\"y\":[0,-1.430387969270744]},{\"type\":\"scatter\",\"x\":[-1.8011080637667236,-1.588309491987131],\"y\":[-1.430387969270744,-2.0972588472138174]}]},{\"data\":[{\"type\":\"scatter\",\"x\":[0,-1.839309961397917],\"y\":[0,-1.3809195725683634]},{\"type\":\"scatter\",\"x\":[-1.839309961397917,-1.7978160000253887],\"y\":[-1.3809195725683634,-2.079688669745403]}]},{\"data\":[{\"type\":\"scatter\",\"x\":[0,-1.855340091206278],\"y\":[0,-1.3593061266553164]},{\"type\":\"scatter\",\"x\":[-1.855340091206278,-2.008252973566954],\"y\":[-1.3593061266553164,-2.04240030054948]}]},{\"data\":[{\"type\":\"scatter\",\"x\":[0,-1.8450697625868147],\"y\":[0,-1.373214320922934]},{\"type\":\"scatter\",\"x\":[-1.8450697625868147,-2.208864989464998],\"y\":[-1.373214320922934,-1.9712553169262608]}]},{\"data\":[{\"type\":\"scatter\",\"x\":[0,-1.8075075843698363],\"y\":[0,-1.4222926324935803]},{\"type\":\"scatter\",\"x\":[-1.8075075843698363,-2.3678913822302134],\"y\":[-1.4222926324935803,-1.8417804143127647]}]},{\"data\":[{\"type\":\"scatter\",\"x\":[0,-1.7688979099340374],\"y\":[0,-1.4700340758740913]},{\"type\":\"scatter\",\"x\":[-1.7688979099340374,-2.4443119320342954],\"y\":[-1.4700340758740913,-1.6539250727998571]}]},{\"data\":[{\"type\":\"scatter\",\"x\":[0,-1.755229122310632],\"y\":[0,-1.486327934270445]},{\"type\":\"scatter\",\"x\":[-1.755229122310632,-2.4542182191738604],\"y\":[-1.486327934270445,-1.4487215190420826]}]},{\"data\":[{\"type\":\"scatter\",\"x\":[0,-1.7653502293476637],\"y\":[0,-1.474292565179025]},{\"type\":\"scatter\",\"x\":[-1.7653502293476637,-2.4278328031975147],\"y\":[-1.474292565179025,-1.2482022306990284]}]},{\"data\":[{\"type\":\"scatter\",\"x\":[0,-1.7933572072030302],\"y\":[0,-1.4400937217323555]},{\"type\":\"scatter\",\"x\":[-1.7933572072030302,-2.380153168929384],\"y\":[-1.4400937217323555,-1.0584256731591968]}]},{\"data\":[{\"type\":\"scatter\",\"x\":[0,-1.8346216602961782],\"y\":[0,-1.3871421569443032]},{\"type\":\"scatter\",\"x\":[-1.8346216602961782,-2.3185807240434624],\"y\":[-1.3871421569443032,-0.8813916012186055]}]},{\"data\":[{\"type\":\"scatter\",\"x\":[0,-1.8855007825899313],\"y\":[0,-1.317151015963149]},{\"type\":\"scatter\",\"x\":[-1.8855007825899313,-2.247540100403927],\"y\":[-1.317151015963149,-0.7180454056098684]}]},{\"data\":[{\"type\":\"scatter\",\"x\":[0,-1.942838467971173],\"y\":[0,-1.2310071841266503]},{\"type\":\"scatter\",\"x\":[-1.942838467971173,-2.170197812298663],\"y\":[-1.2310071841266503,-0.5689590525327505]}]},{\"data\":[{\"type\":\"scatter\",\"x\":[0,-2.0036913490057953],\"y\":[0,-1.1292568254915865]},{\"type\":\"scatter\",\"x\":[-2.0036913490057953,-2.089156188653287],\"y\":[-1.1292568254915865,-0.43449372832534483]}]},{\"data\":[{\"type\":\"scatter\",\"x\":[0,-2.065205541041055],\"y\":[0,-1.0123863260896615]},{\"type\":\"scatter\",\"x\":[-2.065205541041055,-2.0067671108083576],\"y\":[-1.0123863260896615,-0.3148299126921943]}]},{\"data\":[{\"type\":\"scatter\",\"x\":[0,-2.12458209013532],\"y\":[0,-0.8809942918522428]},{\"type\":\"scatter\",\"x\":[-2.12458209013532,-1.9252914612020153],\"y\":[-0.8809942918522428,-0.2099628132915362]}]},{\"data\":[{\"type\":\"scatter\",\"x\":[0,-2.1790943580472137],\"y\":[0,-0.7358992993112583]},{\"type\":\"scatter\",\"x\":[-2.1790943580472137,-1.8469997048474225],\"y\":[-0.7358992993112583,-0.11969061605849018]}]},{\"data\":[{\"type\":\"scatter\",\"x\":[0,-2.226133473396254],\"y\":[0,-0.5782125548833471]},{\"type\":\"scatter\",\"x\":[-2.226133473396254,-1.7742652691541274],\"y\":[-0.5782125548833471,-0.04359575193473453]}]},{\"data\":[{\"type\":\"scatter\",\"x\":[0,-2.263267882601787],\"y\":[0,-0.4094123735101605]},{\"type\":\"scatter\",\"x\":[-2.263267882601787,-1.7096799675739276],\"y\":[-0.4094123735101605,0.019003803046126033]}]},{\"data\":[{\"type\":\"scatter\",\"x\":[0,-2.288321768510447],\"y\":[0,-0.23148106566459944]},{\"type\":\"scatter\",\"x\":[-2.288321768510447,-1.6561821580218383],\"y\":[-0.23148106566459944,0.06918405178554629]}]},{\"data\":[{\"type\":\"scatter\",\"x\":[0,-2.2995160932143923],\"y\":[0,-0.0471777177067378]},{\"type\":\"scatter\",\"x\":[-2.2995160932143923,-1.617089546718069],\"y\":[-0.0471777177067378,0.10868763648431197]}]},{\"data\":[{\"type\":\"scatter\",\"x\":[0,-2.2957611216370606],\"y\":[0,0.1395738957676008]},{\"type\":\"scatter\",\"x\":[-2.2957611216370606,-1.5957615062361474],\"y\":[0.1395738957676008,0.14030767950519166]}]},{\"data\":[{\"type\":\"scatter\",\"x\":[0,-2.277131974934576],\"y\":[0,0.32352738482322846]},{\"type\":\"scatter\",\"x\":[-2.277131974934576,-1.5946177463453108],\"y\":[0.32352738482322846,0.168046428519248]}]},{\"data\":[{\"type\":\"scatter\",\"x\":[0,-2.245265568252865],\"y\":[0,0.49878104215992125]},{\"type\":\"scatter\",\"x\":[-2.245265568252865,-1.6138926651991836],\"y\":[0.49878104215992125,0.19650921533914972]}]},{\"data\":[{\"type\":\"scatter\",\"x\":[0,-2.2032095600140864],\"y\":[0,0.6602027223986084]},{\"type\":\"scatter\",\"x\":[-2.2032095600140864,-1.6512840319062692],\"y\":[0.6602027223986084,0.22964702167812462]}]},{\"data\":[{\"type\":\"scatter\",\"x\":[0,-2.1546989508131067],\"y\":[0,0.8045324302754339]},{\"type\":\"scatter\",\"x\":[-2.1546989508131067,-1.7029129509575947],\"y\":[0.8045324302754339,0.26984615746252993]}]},{\"data\":[{\"type\":\"scatter\",\"x\":[0,-2.1033783415117213],\"y\":[0,0.9304835046680839]},{\"type\":\"scatter\",\"x\":[-2.1033783415117213,-1.76462561897352],\"y\":[0.9304835046680839,0.31790975974184543]}]},{\"data\":[{\"type\":\"scatter\",\"x\":[0,-2.0523427699101675],\"y\":[0,1.0382144069494796]},{\"type\":\"scatter\",\"x\":[-2.0523427699101675,-1.8327826704238879],\"y\":[1.0382144069494796,0.373539025493558]}]},{\"data\":[{\"type\":\"scatter\",\"x\":[0,-2.003991309287438],\"y\":[0,1.1287244270859116]},{\"type\":\"scatter\",\"x\":[-2.003991309287438,-1.9045027788393103],\"y\":[1.1287244270859116,0.43583047249453843]}]},{\"data\":[{\"type\":\"scatter\",\"x\":[0,-1.9600576086787385],\"y\":[0,1.2034010847014323]},{\"type\":\"scatter\",\"x\":[-1.9600576086787385,-1.9776250971893816],\"y\":[1.2034010847014323,0.5036215598884892]}]},{\"data\":[{\"type\":\"scatter\",\"x\":[0,-1.9217132543302318],\"y\":[0,1.2637318418602537]},{\"type\":\"scatter\",\"x\":[-1.9217132543302318,-2.050578800443433],\"y\":[1.2637318418602537,0.5756957446786113]}]},{\"data\":[{\"type\":\"scatter\",\"x\":[0,-1.8896889248009123],\"y\":[0,1.311135297169888]},{\"type\":\"scatter\",\"x\":[-1.8896889248009123,-2.1222417609942585],\"y\":[1.311135297169888,0.6508935396458498]}]},{\"data\":[{\"type\":\"scatter\",\"x\":[0,-1.8643886437044248],\"y\":[0,1.3468685849874051]},{\"type\":\"scatter\",\"x\":[-1.8643886437044248,-2.1918149017963238],\"y\":[1.3468685849874051,0.7281666813925178]}]},{\"data\":[{\"type\":\"scatter\",\"x\":[0,-1.8459880398818542],\"y\":[0,1.3719796487605596]},{\"type\":\"scatter\",\"x\":[-1.8459880398818542,-2.2587165432911536],\"y\":[1.3719796487605596,0.80659908447353]}]},{\"data\":[{\"type\":\"scatter\",\"x\":[0,-1.8345151618488893],\"y\":[0,1.3872829995882392]},{\"type\":\"scatter\",\"x\":[-1.8345151618488893,-2.3224927670228297],\"y\":[1.3872829995882392,0.8854086559037808]}]},{\"data\":[{\"type\":\"scatter\",\"x\":[0,-1.82991592671089],\"y\":[0,1.3933440713513028]},{\"type\":\"scatter\",\"x\":[-1.82991592671089,-2.382736094119032],\"y\":[1.3933440713513028,0.9639376641950594]}]},{\"data\":[{\"type\":\"scatter\",\"x\":[0,-1.8321075975928718],\"y\":[0,1.3904609850126952]},{\"type\":\"scatter\",\"x\":[-1.8321075975928718,-2.4390013812251787],\"y\":[1.3904609850126952,1.0416344731354266]}]},{\"data\":[{\"type\":\"scatter\",\"x\":[0,-1.8410233729564565],\"y\":[0,1.3786344476430406]},{\"type\":\"scatter\",\"x\":[-1.8410233729564565,-2.4907019082556285],\"y\":[1.3786344476430406,1.1180240089197946]}]},{\"data\":[{\"type\":\"scatter\",\"x\":[0,-1.856648089063576],\"y\":[0,1.3575190140018558]},{\"type\":\"scatter\",\"x\":[-1.856648089063576,-2.536956654153058],\"y\":[1.3575190140018558,1.192654656829391]}]},{\"data\":[{\"type\":\"scatter\",\"x\":[0,-1.8790331884950149],\"y\":[0,1.326361291856128]},{\"type\":\"scatter\",\"x\":[-1.8790331884950149,-2.5763373887912744],\"y\":[1.326361291856128,1.2649866044907798]}]},{\"data\":[{\"type\":\"scatter\",\"x\":[0,-1.908237065982378],\"y\":[0,1.2839903815881821]},{\"type\":\"scatter\",\"x\":[-1.908237065982378,-2.606438990930724],\"y\":[1.2839903815881821,1.3341309041066434]}]},{\"data\":[{\"type\":\"scatter\",\"x\":[0,-1.9440080238968294],\"y\":[0,1.2291593887794796]},{\"type\":\"scatter\",\"x\":[-1.9440080238968294,-2.62327942595443],\"y\":[1.2291593887794796,1.3982462373121236]}]},{\"data\":[{\"type\":\"scatter\",\"x\":[0,-1.9848401657206391],\"y\":[0,1.1620712183605892]},{\"type\":\"scatter\",\"x\":[-1.9848401657206391,-2.6212831382115027],\"y\":[1.1620712183605892,1.453516483834218]}]},{\"data\":[{\"type\":\"scatter\",\"x\":[0,-2.026834606403524],\"y\":[0,1.087171319657151]},{\"type\":\"scatter\",\"x\":[-2.026834606403524,-2.5963266825149827],\"y\":[1.087171319657151,1.4942078969401515]}]},{\"data\":[{\"type\":\"scatter\",\"x\":[0,-2.0652901239332246],\"y\":[0,1.0122137639767033]},{\"type\":\"scatter\",\"x\":[-2.0652901239332246,-2.550814176261934],\"y\":[1.0122137639767033,1.5164621101418732]}]},{\"data\":[{\"type\":\"scatter\",\"x\":[0,-2.0981180123593357],\"y\":[0,0.9422848859094103]},{\"type\":\"scatter\",\"x\":[-2.0981180123593357,-2.491793438647414],\"y\":[0.9422848859094103,1.5210937133618774]}]},{\"data\":[{\"type\":\"scatter\",\"x\":[0,-2.1256735833548026],\"y\":[0,0.8783574540171855]},{\"type\":\"scatter\",\"x\":[-2.1256735833548026,-2.4252484058330244],\"y\":[0.8783574540171855,1.5110144904414569]}]},{\"data\":[{\"type\":\"scatter\",\"x\":[0,-2.1489763060981018],\"y\":[0,0.8196955750941671]},{\"type\":\"scatter\",\"x\":[-2.1489763060981018,-2.35471064913237],\"y\":[0.8196955750941671,1.4887795609257353]}]},{\"data\":[{\"type\":\"scatter\",\"x\":[0,-2.1689282661963314],\"y\":[0,0.7653431753759712]},{\"type\":\"scatter\",\"x\":[-2.1689282661963314,-2.2821282534483864],\"y\":[0.7653431753759712,1.4561295120142508]}]},{\"data\":[{\"type\":\"scatter\",\"x\":[0,-2.186190817502826],\"y\":[0,0.7145416079321931]},{\"type\":\"scatter\",\"x\":[-2.186190817502826,-2.2086392339885332],\"y\":[0.7145416079321931,1.4141815643364026]}]},{\"data\":[{\"type\":\"scatter\",\"x\":[0,-2.2012269996499323],\"y\":[0,0.6667830951757517]},{\"type\":\"scatter\",\"x\":[-2.2012269996499323,-2.1349866961169677],\"y\":[0.6667830951757517,1.3636419203246197]}]},{\"data\":[{\"type\":\"scatter\",\"x\":[0,-2.2143580836721495],\"y\":[0,0.6217863598341522]},{\"type\":\"scatter\",\"x\":[-2.2143580836721495,-2.0617304975694024],\"y\":[0.6217863598341522,1.3049443356790138]}]},{\"data\":[{\"type\":\"scatter\",\"x\":[0,-2.225806226662844],\"y\":[0,0.5794710013011097]},{\"type\":\"scatter\",\"x\":[-2.225806226662844,-1.989365900574211],\"y\":[0.5794710013011097,1.2383306010635333]}]},{\"data\":[{\"type\":\"scatter\",\"x\":[0,-2.235722898169689],\"y\":[0,0.5399473331721586]},{\"type\":\"scatter\",\"x\":[-2.235722898169689,-1.9184057393835214],\"y\":[0.5399473331721586,1.1638943026654593]}]},{\"data\":[{\"type\":\"scatter\",\"x\":[0,-2.244206568649058],\"y\":[0,0.5035244554462271]},{\"type\":\"scatter\",\"x\":[-2.244206568649058,-1.8494578780654056],\"y\":[0.5035244554462271,1.0816018475681572]}]},{\"data\":[{\"type\":\"scatter\",\"x\":[0,-2.2513123346623893],\"y\":[0,0.470736414352003]},{\"type\":\"scatter\",\"x\":[-2.2513123346623893,-1.783323443682173],\"y\":[0.470736414352003,0.9912999531434814]}]},{\"data\":[{\"type\":\"scatter\",\"x\":[0,-2.257055047841437],\"y\":[0,0.4423827652762796]},{\"type\":\"scatter\",\"x\":[-2.257055047841437,-1.7211475056743293],\"y\":[0.4423827652762796,0.8927194240643577]}]},{\"data\":[{\"type\":\"scatter\",\"x\":[0,-2.261407854962021],\"y\":[0,0.419564671434657]},{\"type\":\"scatter\",\"x\":[-2.261407854962021,-1.6646716450443209],\"y\":[0.419564671434657,0.7854962166354756]}]},{\"data\":[{\"type\":\"scatter\",\"x\":[0,-2.26430400435452],\"y\":[0,0.4036426338533685]},{\"type\":\"scatter\",\"x\":[-2.26430400435452,-1.6166599272747135],\"y\":[0.4036426338533685,0.6692685915898925]}]},{\"data\":[{\"type\":\"scatter\",\"x\":[0,-2.2656747787464164],\"y\":[0,0.39587598683473585]},{\"type\":\"scatter\",\"x\":[-2.2656747787464164,-1.5815278139745135],\"y\":[0.39587598683473585,0.5440074507220287]}]},{\"data\":[{\"type\":\"scatter\",\"x\":[0,-2.2656215019798496],\"y\":[0,0.3961807791483192]},{\"type\":\"scatter\",\"x\":[-2.2656215019798496,-1.5657756883154925],\"y\":[0.3961807791483192,0.4108721744691938]}]},{\"data\":[{\"type\":\"scatter\",\"x\":[0,-2.264824458031062],\"y\":[0,0.4007120840507642]},{\"type\":\"scatter\",\"x\":[-2.264824458031062,-1.5764837145989787],\"y\":[0.4007120840507642,0.2734838602505114]}]},{\"data\":[{\"type\":\"scatter\",\"x\":[0,-2.264759196002149],\"y\":[0,0.4010807700746816]},{\"type\":\"scatter\",\"x\":[-2.264759196002149,-1.6162646124978814],\"y\":[0.4010807700746816,0.13753803129095643]}]},{\"data\":[{\"type\":\"scatter\",\"x\":[0,-2.2668490579107203],\"y\":[0,0.38909555208107643]},{\"type\":\"scatter\",\"x\":[-2.2668490579107203,-1.6801834764476962],\"y\":[0.38909555208107643,0.007227125097839571]}]},{\"data\":[{\"type\":\"scatter\",\"x\":[0,-2.2714498393744766],\"y\":[0,0.3612694661961657]},{\"type\":\"scatter\",\"x\":[-2.2714498393744766,-1.7601612931928314],\"y\":[0.3612694661961657,-0.11683514844738674]}]},{\"data\":[{\"type\":\"scatter\",\"x\":[0,-2.277946661642448],\"y\":[0,0.317740470686416]},{\"type\":\"scatter\",\"x\":[-2.277946661642448,-1.8497629919741696],\"y\":[0.317740470686416,-0.23602730106398717]}]},{\"data\":[{\"type\":\"scatter\",\"x\":[0,-2.285282463524584],\"y\":[0,0.25977694645023264]},{\"type\":\"scatter\",\"x\":[-2.285282463524584,-1.945022374361209],\"y\":[0.25977694645023264,-0.35196080105480065]}]},{\"data\":[{\"type\":\"scatter\",\"x\":[0,-2.292259495071059],\"y\":[0,0.1885375486649095]},{\"type\":\"scatter\",\"x\":[-2.292259495071059,-2.0436600558442946],\"y\":[0.1885375486649095,-0.4658310927109882]}]},{\"data\":[{\"type\":\"scatter\",\"x\":[0,-2.2976158584676987],\"y\":[0,0.10469654682814805]},{\"type\":\"scatter\",\"x\":[-2.2976158584676987,-2.1443343965288606],\"y\":[0.10469654682814805,-0.5783150148791867]}]},{\"data\":[{\"type\":\"scatter\",\"x\":[0,-2.2999848609368354],\"y\":[0,0.008345026145293654]},{\"type\":\"scatter\",\"x\":[-2.2999848609368354,-2.246162766432246],\"y\":[0.008345026145293654,-0.6895827510230456]}]},{\"data\":[{\"type\":\"scatter\",\"x\":[0,-2.2977771191071974],\"y\":[0,-0.10109555335141254]},{\"type\":\"scatter\",\"x\":[-2.2977771191071974,-2.348398160199703],\"y\":[-0.10109555335141254,-0.7992628042295318]}]},{\"data\":[{\"type\":\"scatter\",\"x\":[0,-2.2889609930369867],\"y\":[0,-0.22507237137225658]},{\"type\":\"scatter\",\"x\":[-2.2889609930369867,-2.4501076748336015],\"y\":[-0.22507237137225658,-0.9062711286714318]}]},{\"data\":[{\"type\":\"scatter\",\"x\":[0,-2.270637682891182],\"y\":[0,-0.3663393413688517]},{\"type\":\"scatter\",\"x\":[-2.270637682891182,-2.5496060222276387],\"y\":[-0.3663393413688517,-1.0083492055048007]}]},{\"data\":[{\"type\":\"scatter\",\"x\":[0,-2.2381513222352956],\"y\":[0,-0.529791146374114]},{\"type\":\"scatter\",\"x\":[-2.2381513222352956,-2.642925764567007],\"y\":[-0.529791146374114,-1.1008932833295382]}]},{\"data\":[{\"type\":\"scatter\",\"x\":[0,-2.183425204926567],\"y\":[0,-0.7229483899223914]},{\"type\":\"scatter\",\"x\":[-2.183425204926567,-2.7186061963992265],\"y\":[-0.7229483899223914,-1.1741482418354223]}]},{\"data\":[{\"type\":\"scatter\",\"x\":[0,-2.096782796239019],\"y\":[0,-0.9452522972180923]},{\"type\":\"scatter\",\"x\":[-2.096782796239019,-2.743916804301338],\"y\":[-0.9452522972180923,-1.2121185101585814]}]},{\"data\":[{\"type\":\"scatter\",\"x\":[0,-1.987847731777715],\"y\":[0,-1.1569189233763069]},{\"type\":\"scatter\",\"x\":[-1.987847731777715,-2.685096484288404],\"y\":[-1.1569189233763069,-1.218920351765398]}]},{\"data\":[{\"type\":\"scatter\",\"x\":[0,-1.8768069153918803],\"y\":[0,-1.3295096097197698]},{\"type\":\"scatter\",\"x\":[-1.8768069153918803,-2.5685283020009835],\"y\":[-1.3295096097197698,-1.2221712507441485]}]},{\"data\":[{\"type\":\"scatter\",\"x\":[0,-1.7676529674911077],\"y\":[0,-1.4715308309783661]},{\"type\":\"scatter\",\"x\":[-1.7676529674911077,-2.425610816787265],\"y\":[-1.4715308309783661,-1.2325926202426731]}]},{\"data\":[{\"type\":\"scatter\",\"x\":[0,-1.6589706464462477],\"y\":[0,-1.5930525396953228]},{\"type\":\"scatter\",\"x\":[-1.6589706464462477,-2.269874709741448],\"y\":[-1.5930525396953228,-1.2512979121488712]}]},{\"data\":[{\"type\":\"scatter\",\"x\":[0,-1.5490667715497197],\"y\":[0,-1.7001153305821717]},{\"type\":\"scatter\",\"x\":[-1.5490667715497197,-2.1072195858558547],\"y\":[-1.7001153305821717,-1.2776636340745813]}]},{\"data\":[{\"type\":\"scatter\",\"x\":[0,-1.4364212392211362],\"y\":[0,-1.7963000928337152]},{\"type\":\"scatter\",\"x\":[-1.4364212392211362,-1.9406961859553906],\"y\":[-1.7963000928337152,-1.3108036684430047]}]},{\"data\":[{\"type\":\"scatter\",\"x\":[0,-1.3195888410989713],\"y\":[0,-1.8837954481437396]},{\"type\":\"scatter\",\"x\":[-1.3195888410989713,-1.7721476431304173],\"y\":[-1.8837954481437396,-1.349763117002766]}]},{\"data\":[{\"type\":\"scatter\",\"x\":[0,-1.1971026019443045],\"y\":[0,-1.9639107312752724]},{\"type\":\"scatter\",\"x\":[-1.1971026019443045,-1.6028433219145302],\"y\":[-1.9639107312752724,-1.3934946829753994]}]},{\"data\":[{\"type\":\"scatter\",\"x\":[0,-1.067433456218353],\"y\":[0,-2.037298656688739]},{\"type\":\"scatter\",\"x\":[-1.067433456218353,-1.433758820038702],\"y\":[-2.037298656688739,-1.4408041237532823]}]},{\"data\":[{\"type\":\"scatter\",\"x\":[0,-0.9290212877921886],\"y\":[0,-2.104024583228281]},{\"type\":\"scatter\",\"x\":[-0.9290212877921886,-1.2657138597482605],\"y\":[-2.104024583228281,-1.4903160921760508]}]},{\"data\":[{\"type\":\"scatter\",\"x\":[0,-0.7803932532866953],\"y\":[0,-2.163558728166307]},{\"type\":\"scatter\",\"x\":[-0.7803932532866953,-1.0994464863043618],\"y\":[-2.163558728166307,-1.5404977082806344]}]},{\"data\":[{\"type\":\"scatter\",\"x\":[0,-0.6203723695093525],\"y\":[0,-2.2147546417491375]},{\"type\":\"scatter\",\"x\":[-0.6203723695093525,-0.9356544565954756],\"y\":[-2.2147546417491375,-1.5897768776945929]}]},{\"data\":[{\"type\":\"scatter\",\"x\":[0,-0.44834663702870897],\"y\":[0,-2.2558779428561833]},{\"type\":\"scatter\",\"x\":[-0.44834663702870897,-0.7750091507466479],\"y\":[-2.2558779428561833,-1.6367724573922944]}]},{\"data\":[{\"type\":\"scatter\",\"x\":[0,-0.2645370903696956],\"y\":[0,-2.284736336608392]},{\"type\":\"scatter\",\"x\":[-0.2645370903696956,-0.6181250156386846],\"y\":[-2.284736336608392,-1.6806042491440927]}]},{\"data\":[{\"type\":\"scatter\",\"x\":[0,-0.0702040258887806],\"y\":[0,-2.2989283143997783]},{\"type\":\"scatter\",\"x\":[-0.0702040258887806,-0.46545252639165585],\"y\":[-2.2989283143997783,-1.7211925418789584]}]},{\"data\":[{\"type\":\"scatter\",\"x\":[0,0.13223515059719115],\"y\":[0,-2.2961955197557846]},{\"type\":\"scatter\",\"x\":[0.13223515059719115,-0.31707257557678065],\"y\":[-2.2961955197557846,-1.7594250220564653]}]},{\"data\":[{\"type\":\"scatter\",\"x\":[0,0.33918095379508434],\"y\":[0,-2.2748530239518017]},{\"type\":\"scatter\",\"x\":[0.33918095379508434,-0.1724183627919506],\"y\":[-2.2748530239518017,-1.797080966096093]}]},{\"data\":[{\"type\":\"scatter\",\"x\":[0,0.5459510925761567],\"y\":[0,-2.234264398972266]},{\"type\":\"scatter\",\"x\":[0.5459510925761567,-0.030026675996691732],\"y\":[-2.234264398972266,-1.8364584034042728]}]},{\"data\":[{\"type\":\"scatter\",\"x\":[0,0.7470784105012964],\"y\":[0,-2.175287072678651]},{\"type\":\"scatter\",\"x\":[0.7470784105012964,0.11252312769775485],\"y\":[-2.175287072678651,-1.8797543451066996]}]},{\"data\":[{\"type\":\"scatter\",\"x\":[0,0.9368565842984646],\"y\":[0,-2.100547485884719]},{\"type\":\"scatter\",\"x\":[0.9368565842984646,0.2583586066663749],\"y\":[-2.100547485884719,-1.9283833364541123]}]},{\"data\":[{\"type\":\"scatter\",\"x\":[0,1.1100519186770386],\"y\":[0,-2.0143943848813284]},{\"type\":\"scatter\",\"x\":[1.1100519186770386,0.41077915079067817],\"y\":[-2.0143943848813284,-1.9824946028672097]}]},{\"data\":[{\"type\":\"scatter\",\"x\":[0,1.26255335042264],\"y\":[0,-1.922487720984601]},{\"type\":\"scatter\",\"x\":[1.26255335042264,0.5726350520635332],\"y\":[-1.922487720984601,-2.040863147443281]}]},{\"data\":[{\"type\":\"scatter\",\"x\":[0,1.3917122099232655],\"y\":[0,-1.8311573184056307]},{\"type\":\"scatter\",\"x\":[1.3917122099232655,0.7458639334239153],\"y\":[-1.8311573184056307,-2.101120285760079]}]},{\"data\":[{\"type\":\"scatter\",\"x\":[0,1.496250895505501],\"y\":[0,-1.746777964624865]},{\"type\":\"scatter\",\"x\":[1.496250895505501,0.9313117385499208],\"y\":[-1.746777964624865,-2.160110456619286]}]},{\"data\":[{\"type\":\"scatter\",\"x\":[0,1.575771683365255],\"y\":[0,-1.6753935662715882]},{\"type\":\"scatter\",\"x\":[1.575771683365255,1.1287941768044703],\"y\":[-1.6753935662715882,-2.2141060207672156]}]},{\"data\":[{\"type\":\"scatter\",\"x\":[0,1.6299373115411908],\"y\":[0,-1.6227459321920585]},{\"type\":\"scatter\",\"x\":[1.6299373115411908,1.3372183481416648],\"y\":[-1.6227459321920585,-2.258604099133639]}]},{\"data\":[{\"type\":\"scatter\",\"x\":[0,1.6572593441633108],\"y\":[0,-1.5948327392499164]},{\"type\":\"scatter\",\"x\":[1.6572593441633108,1.5544013060338124],\"y\":[-1.5948327392499164,-2.287234518560275]}]},{\"data\":[{\"type\":\"scatter\",\"x\":[0,1.6531691617281756],\"y\":[0,-1.599072144310869]},{\"type\":\"scatter\",\"x\":[1.6531691617281756,1.775364895721497],\"y\":[-1.599072144310869,-2.2883240595014134]}]},{\"data\":[{\"type\":\"scatter\",\"x\":[0,1.609105128821156],\"y\":[0,-1.643405210044513]},{\"type\":\"scatter\",\"x\":[1.609105128821156,1.9829912543961628],\"y\":[-1.643405210044513,-2.2351899387275957]}]},{\"data\":[{\"type\":\"scatter\",\"x\":[0,1.5375336846657262],\"y\":[0,-1.7105525915674837]},{\"type\":\"scatter\",\"x\":[1.5375336846657262,2.1254649967270365],\"y\":[-1.7105525915674837,-2.0904693881136036]}]},{\"data\":[{\"type\":\"scatter\",\"x\":[0,1.4914654838813473],\"y\":[0,-1.7508657031281918]},{\"type\":\"scatter\",\"x\":[1.4914654838813473,2.178250551847633],\"y\":[-1.7508657031281918,-1.886240259151633]}]},{\"data\":[{\"type\":\"scatter\",\"x\":[0,1.4831308887114616],\"y\":[0,-1.7579313885786183]},{\"type\":\"scatter\",\"x\":[1.4831308887114616,2.177934678168289],\"y\":[-1.7579313885786183,-1.6727979982054377]}]},{\"data\":[{\"type\":\"scatter\",\"x\":[0,1.5038926540809034],\"y\":[0,-1.7402031160187867]},{\"type\":\"scatter\",\"x\":[1.5038926540809034,2.148004979681187],\"y\":[-1.7402031160187867,-1.4661240909004933]}]},{\"data\":[{\"type\":\"scatter\",\"x\":[0,1.5470223309051887],\"y\":[0,-1.7019758834016057]},{\"type\":\"scatter\",\"x\":[1.5470223309051887,2.098824596803026],\"y\":[-1.7019758834016057,-1.271262220569775]}]},{\"data\":[{\"type\":\"scatter\",\"x\":[0,1.6078634627903892],\"y\":[0,-1.6446200427526407]},{\"type\":\"scatter\",\"x\":[1.6078634627903892,2.03601084107001],\"y\":[-1.6446200427526407,-1.0908242117171523]}]},{\"data\":[{\"type\":\"scatter\",\"x\":[0,1.6826556314810546],\"y\":[0,-1.56801467654008]},{\"type\":\"scatter\",\"x\":[1.6826556314810546,1.963483291767016],\"y\":[-1.56801467654008,-0.9268159357285337]}]},{\"data\":[{\"type\":\"scatter\",\"x\":[0,1.7678575587257759],\"y\":[0,-1.4712850342663517]},{\"type\":\"scatter\",\"x\":[1.7678575587257759,1.8846747697287882],\"y\":[-1.4712850342663517,-0.7811011897629632]}]},{\"data\":[{\"type\":\"scatter\",\"x\":[0,1.8597690030417604],\"y\":[0,-1.3532402799669598]},{\"type\":\"scatter\",\"x\":[1.8597690030417604,1.803175091940229],\"y\":[-1.3532402799669598,-0.6555317955508451]}]},{\"data\":[{\"type\":\"scatter\",\"x\":[0,1.954299489093659],\"y\":[0,-1.2127297748996941]},{\"type\":\"scatter\",\"x\":[1.954299489093659,1.7232466780893003],\"y\":[-1.2127297748996941,-0.5519615867073568]}]},{\"data\":[{\"type\":\"scatter\",\"x\":[0,2.0467980547671383],\"y\":[0,-1.0491032947243362]},{\"type\":\"scatter\",\"x\":[2.0467980547671383,1.6504358243043815],\"y\":[-1.0491032947243362,-0.47213104039784903]}]},{\"data\":[{\"type\":\"scatter\",\"x\":[0,2.1319072566799155],\"y\":[0,-0.8631172857239714]},{\"type\":\"scatter\",\"x\":[2.1319072566799155,1.5923465215356591],\"y\":[-0.8631172857239714,-0.41716413449551626]}]},{\"data\":[{\"type\":\"scatter\",\"x\":[0,2.2036231164171367],\"y\":[0,-0.6588210385165504]},{\"type\":\"scatter\",\"x\":[2.2036231164171367,1.5589460389099443],\"y\":[-0.6588210385165504,-0.38607304908897405]}]},{\"data\":[{\"type\":\"scatter\",\"x\":[0,2.256365495696667],\"y\":[0,-0.445886476392292]},{\"type\":\"scatter\",\"x\":[2.256365495696667,1.5601398485950302],\"y\":[-0.445886476392292,-0.3732927554661205]}]},{\"data\":[{\"type\":\"scatter\",\"x\":[0,2.2876044329853804],\"y\":[0,-0.23846584280696403]},{\"type\":\"scatter\",\"x\":[2.2876044329853804,1.5997993205046874],\"y\":[-0.23846584280696403,-0.36855860680796915]}]},{\"data\":[{\"type\":\"scatter\",\"x\":[0,2.2994773659222023],\"y\":[0,-0.04902900785748801]},{\"type\":\"scatter\",\"x\":[2.2994773659222023,1.6731944483750976],\"y\":[-0.04902900785748801,-0.36171048666409433]}]},{\"data\":[{\"type\":\"scatter\",\"x\":[0,2.297091175649181],\"y\":[0,0.11563792956751534]},{\"type\":\"scatter\",\"x\":[2.297091175649181,1.771510999240799],\"y\":[0.11563792956751534,-0.34670985961994677]}]},{\"data\":[{\"type\":\"scatter\",\"x\":[0,2.2859955252300486],\"y\":[0,0.253425449843132]},{\"type\":\"scatter\",\"x\":[2.2859955252300486,1.886437154183541],\"y\":[0.253425449843132,-0.321338073813912]}]},{\"data\":[{\"type\":\"scatter\",\"x\":[0,2.2709028948528407],\"y\":[0,0.36469170836336334]},{\"type\":\"scatter\",\"x\":[2.2709028948528407,2.011563001582346],\"y\":[0.36469170836336334,-0.28549504923667307]}]},{\"data\":[{\"type\":\"scatter\",\"x\":[0,2.255390505776458],\"y\":[0,0.4507922652990093]},{\"type\":\"scatter\",\"x\":[2.255390505776458,2.142215105039452],\"y\":[0.4507922652990093,-0.2399980999117528]}]},{\"data\":[{\"type\":\"scatter\",\"x\":[0,2.241995434179827],\"y\":[0,0.5132801117487494]},{\"type\":\"scatter\",\"x\":[2.241995434179827,2.274976848565035],\"y\":[0.5132801117487494,-0.185942475347199]}]},{\"data\":[{\"type\":\"scatter\",\"x\":[0,2.2324182227747005],\"y\":[0,0.5534517852744235]},{\"type\":\"scatter\",\"x\":[2.2324182227747005,2.407232152034282],\"y\":[0.5534517852744235,-0.12436831632837342]}]},{\"data\":[{\"type\":\"scatter\",\"x\":[0,2.2277296457236977],\"y\":[0,0.5720320144570294]},{\"type\":\"scatter\",\"x\":[2.2277296457236977,2.536744313648781],\"y\":[0.5720320144570294,-0.05606824426537427]}]},{\"data\":[{\"type\":\"scatter\",\"x\":[0,2.228542668012768],\"y\":[0,0.5688563762906537]},{\"type\":\"scatter\",\"x\":[2.228542668012768,2.661173529254364],\"y\":[0.5688563762906537,0.018555969329733357]}]},{\"data\":[{\"type\":\"scatter\",\"x\":[0,2.2351253064889796],\"y\":[0,0.5424157670021624]},{\"type\":\"scatter\",\"x\":[2.2351253064889796,2.7772964437725918],\"y\":[0.5424157670021624,0.09963991186031501]}]},{\"data\":[{\"type\":\"scatter\",\"x\":[0,2.2473809512408183],\"y\":[0,0.4891613844120491]},{\"type\":\"scatter\",\"x\":[2.2473809512408183,2.879270160354581],\"y\":[0.4891613844120491,0.18797036959656144]}]},{\"data\":[{\"type\":\"scatter\",\"x\":[0,2.264343953597441],\"y\":[0,0.40341846735952674]},{\"type\":\"scatter\",\"x\":[2.264343953597441,2.9541478846437452],\"y\":[0.40341846735952674,0.28437840388060676]}]},{\"data\":[{\"type\":\"scatter\",\"x\":[0,2.282164689197664],\"y\":[0,0.2858746777511572]},{\"type\":\"scatter\",\"x\":[2.282164689197664,2.9751902996107713],\"y\":[0.2858746777511572,0.38444193048521913]}]},{\"data\":[{\"type\":\"scatter\",\"x\":[0,2.2940392881103873],\"y\":[0,0.16548034507453224]},{\"type\":\"scatter\",\"x\":[2.2940392881103873,2.9241140356793616],\"y\":[0.16548034507453224,0.47044888849482225]}]},{\"data\":[{\"type\":\"scatter\",\"x\":[0,2.2989405931324187],\"y\":[0,0.06980078257413819]},{\"type\":\"scatter\",\"x\":[2.2989405931324187,2.8252896387548074],\"y\":[0.06980078257413819,0.5312730809544423]}]},{\"data\":[{\"type\":\"scatter\",\"x\":[0,2.2999997373959635],\"y\":[0,-0.0010990807511146975]},{\"type\":\"scatter\",\"x\":[2.2999997373959635,2.7046555636425262],\"y\":[-0.0010990807511146975,0.5700871080566259]}]},{\"data\":[{\"type\":\"scatter\",\"x\":[0,2.299392640763188],\"y\":[0,-0.05285341620076154]},{\"type\":\"scatter\",\"x\":[2.299392640763188,2.573837823451477],\"y\":[-0.05285341620076154,0.591102981157935]}]},{\"data\":[{\"type\":\"scatter\",\"x\":[0,2.298269563241769],\"y\":[0,-0.08920210017979653]},{\"type\":\"scatter\",\"x\":[2.298269563241769,2.438000583095903],\"y\":[-0.08920210017979653,0.5967098782041093]}]},{\"data\":[{\"type\":\"scatter\",\"x\":[0,2.297271239862288],\"y\":[0,-0.11200379681771568]},{\"type\":\"scatter\",\"x\":[2.297271239862288,2.3000035760561155],\"y\":[-0.11200379681771568,0.5879908705469178]}]},{\"data\":[{\"type\":\"scatter\",\"x\":[0,2.29677545228534],\"y\":[0,-0.12174777936156121]},{\"type\":\"scatter\",\"x\":[2.29677545228534,2.161972489921386],\"y\":[-0.12174777936156121,0.5651497103251476]}]},{\"data\":[{\"type\":\"scatter\",\"x\":[0,2.2969821184965626],\"y\":[0,-0.11778432538772693]},{\"type\":\"scatter\",\"x\":[2.2969821184965626,2.026093886351507],\"y\":[-0.11778432538772693,0.5276764136857865]}]},{\"data\":[{\"type\":\"scatter\",\"x\":[0,2.2978975665057955],\"y\":[0,-0.09831975308524123]},{\"type\":\"scatter\",\"x\":[2.2978975665057955,1.8953465133571683],\"y\":[-0.09831975308524123,0.4743517492692335]}]},{\"data\":[{\"type\":\"scatter\",\"x\":[0,2.299209103978133],\"y\":[0,-0.06031165877398817]},{\"type\":\"scatter\",\"x\":[2.299209103978133,1.7746622210815093],\"y\":[-0.06031165877398817,0.40320810093797443]}]},{\"data\":[{\"type\":\"scatter\",\"x\":[0,2.2999999901001336],\"y\":[0,0.00021339958619096837]},{\"type\":\"scatter\",\"x\":[2.2999999901001336,1.6731932527311222],\"y\":[0.00021339958619096837,0.3118434911832878]}]},{\"data\":[{\"type\":\"scatter\",\"x\":[0,2.2984230708948528],\"y\":[0,0.0851550772313356]},{\"type\":\"scatter\",\"x\":[2.2984230708948528,1.6078583911594888],\"y\":[0.0851550772313356,0.19969949264297465]}]},{\"data\":[{\"type\":\"scatter\",\"x\":[0,2.2925966914491354],\"y\":[0,0.18439200187773258]},{\"type\":\"scatter\",\"x\":[2.2925966914491354,1.6012050187252176],\"y\":[0.18439200187773258,0.07494998577777601]}]},{\"data\":[{\"type\":\"scatter\",\"x\":[0,2.2838926263287256],\"y\":[0,0.27172499222794255]},{\"type\":\"scatter\",\"x\":[2.2838926263287256,1.6591168724553171],\"y\":[0.27172499222794255,-0.04395721723580609]}]},{\"data\":[{\"type\":\"scatter\",\"x\":[0,2.2764111102480227],\"y\":[0,0.32856119238182163]},{\"type\":\"scatter\",\"x\":[2.2764111102480227,1.7614955581980047],\"y\":[0.32856119238182163,-0.1456349424158223]}]},{\"data\":[{\"type\":\"scatter\",\"x\":[0,2.272681321585559],\"y\":[0,0.3534396844103904]},{\"type\":\"scatter\",\"x\":[2.272681321585559,1.8871242499727081],\"y\":[0.3534396844103904,-0.23080833187149896]}]},{\"data\":[{\"type\":\"scatter\",\"x\":[0,2.2731163605510303],\"y\":[0,0.35063087627195305]},{\"type\":\"scatter\",\"x\":[2.2731163605510303,2.023970230742641],\"y\":[0.35063087627195305,-0.3035298119396675]}]},{\"data\":[{\"type\":\"scatter\",\"x\":[0,2.2770635738832574],\"y\":[0,0.32400845744209467]},{\"type\":\"scatter\",\"x\":[2.2770635738832574,2.1659590565507623],\"y\":[0.32400845744209467,-0.36711800437825354]}]},{\"data\":[{\"type\":\"scatter\",\"x\":[0,2.283392987616143],\"y\":[0,0.2758921240365938]},{\"type\":\"scatter\",\"x\":[2.283392987616143,2.309787600560255],\"y\":[0.2758921240365938,-0.42361007353502955]}]},{\"data\":[{\"type\":\"scatter\",\"x\":[0,2.290666807669688],\"y\":[0,0.20699172988397682]},{\"type\":\"scatter\",\"x\":[2.290666807669688,2.453240587516499],\"y\":[0.20699172988397682,-0.4738678489619996]}]},{\"data\":[{\"type\":\"scatter\",\"x\":[0,2.2970590542731495],\"y\":[0,0.11627424986532083]},{\"type\":\"scatter\",\"x\":[2.2970590542731495,2.594130124658541],\"y\":[0.11627424986532083,-0.517562305675678]}]},{\"data\":[{\"type\":\"scatter\",\"x\":[0,2.299999970243731],\"y\":[0,0.0003699713983400211]},{\"type\":\"scatter\",\"x\":[2.299999970243731,2.728995750618357],\"y\":[0.0003699713983400211,-0.5527689084688823]}]},{\"data\":[{\"type\":\"scatter\",\"x\":[0,2.2952534578983594],\"y\":[0,-0.14768738607485254]},{\"type\":\"scatter\",\"x\":[2.2952534578983594,2.8498591020637956],\"y\":[-0.14768738607485254,-0.5747852430817]}]},{\"data\":[{\"type\":\"scatter\",\"x\":[0,2.2751469162343883],\"y\":[0,-0.33720395838298334]},{\"type\":\"scatter\",\"x\":[2.2751469162343883,2.9336588247236377],\"y\":[-0.33720395838298334,-0.5746109220084137]}]},{\"data\":[{\"type\":\"scatter\",\"x\":[0,2.232901273611052],\"y\":[0,-0.5514996847742896]},{\"type\":\"scatter\",\"x\":[2.232901273611052,2.9329005749554202],\"y\":[-0.5514996847742896,-0.5505106865960012]}]},{\"data\":[{\"type\":\"scatter\",\"x\":[0,2.1786044542777203],\"y\":[0,-0.7373483788557986]},{\"type\":\"scatter\",\"x\":[2.1786044542777203,2.8464759910036213],\"y\":[-0.7373483788557986,-0.5277115251506739]}]},{\"data\":[{\"type\":\"scatter\",\"x\":[0,2.122495496300868],\"y\":[0,-0.8860095192392289]},{\"type\":\"scatter\",\"x\":[2.122495496300868,2.719097562726156],\"y\":[-0.8860095192392289,-0.5198593118965644]}]},{\"data\":[{\"type\":\"scatter\",\"x\":[0,2.066799997446313],\"y\":[0,-1.0091272320951006]},{\"type\":\"scatter\",\"x\":[2.066799997446313,2.573693031496068],\"y\":[-1.0091272320951006,-0.5263649178742885]}]},{\"data\":[{\"type\":\"scatter\",\"x\":[0,2.011798879012906],\"y\":[0,-1.1147489719225636]},{\"type\":\"scatter\",\"x\":[2.011798879012906,2.4189995487924763],\"y\":[-1.1147489719225636,-0.5453742143761217]}]},{\"data\":[{\"type\":\"scatter\",\"x\":[0,1.9575448769710946],\"y\":[0,-1.2074841840141102]},{\"type\":\"scatter\",\"x\":[1.9575448769710946,2.2589277429229333],\"y\":[-1.2074841840141102,-0.5756864568017879]}]},{\"data\":[{\"type\":\"scatter\",\"x\":[0,1.9041618611834805],\"y\":[0,-1.2900262037703976]},{\"type\":\"scatter\",\"x\":[1.9041618611834805,2.0955807993961297],\"y\":[-1.2900262037703976,-0.6167069703502153]}]},{\"data\":[{\"type\":\"scatter\",\"x\":[0,1.8519279376121824],\"y\":[0,-1.3639512138971424]},{\"type\":\"scatter\",\"x\":[1.8519279376121824,1.9303205529808698],\"y\":[-1.3639512138971424,-0.66835463695354]}]},{\"data\":[{\"type\":\"scatter\",\"x\":[0,1.8013298065191183],\"y\":[0,-1.4301087120026206]},{\"type\":\"scatter\",\"x\":[1.8013298065191183,1.7642704888664809],\"y\":[-1.4301087120026206,-0.7310903953791427]}]},{\"data\":[{\"type\":\"scatter\",\"x\":[0,1.753092531817137],\"y\":[0,-1.488847398119424]},{\"type\":\"scatter\",\"x\":[1.753092531817137,1.5987125382109],\"y\":[-1.488847398119424,-0.8060832971488631]}]},{\"data\":[{\"type\":\"scatter\",\"x\":[0,1.7080656621105446],\"y\":[0,-1.5402959760769575]},{\"type\":\"scatter\",\"x\":[1.7080656621105446,1.4356300342919683],\"y\":[-1.5402959760769575,-0.8954868347838937]}]},{\"data\":[{\"type\":\"scatter\",\"x\":[0,1.6665942804646345],\"y\":[0,-1.5850752361710045]},{\"type\":\"scatter\",\"x\":[1.6665942804646345,1.278512615468142],\"y\":[-1.5850752361710045,-1.002501102439039]}]},{\"data\":[{\"type\":\"scatter\",\"x\":[0,1.6269586014018778],\"y\":[0,-1.625732360914442]},{\"type\":\"scatter\",\"x\":[1.6269586014018778,1.1326759396973056],\"y\":[-1.625732360914442,-1.1300664952970452]}]},{\"data\":[{\"type\":\"scatter\",\"x\":[0,1.584375129062022],\"y\":[0,-1.667259862891715]},{\"type\":\"scatter\",\"x\":[1.584375129062022,1.0028475787001585],\"y\":[-1.667259862891715,-1.2776116777680957]}]},{\"data\":[{\"type\":\"scatter\",\"x\":[0,1.5335898519300726],\"y\":[0,-1.7140893109920197]},{\"type\":\"scatter\",\"x\":[1.5335898519300726,0.8893761625507615],\"y\":[-1.7140893109920197,-1.4402486229701401]}]},{\"data\":[{\"type\":\"scatter\",\"x\":[0,1.471800227665132],\"y\":[0,-1.7674286661262637]},{\"type\":\"scatter\",\"x\":[1.471800227665132,0.7891348131483149],\"y\":[-1.7674286661262637,-1.6126128664720223]}]},{\"data\":[{\"type\":\"scatter\",\"x\":[0,1.3980333815480281],\"y\":[0,-1.8263358574143433]},{\"type\":\"scatter\",\"x\":[1.3980333815480281,0.6989123028143159],\"y\":[-1.8263358574143433,-1.7912685325917888]}]},{\"data\":[{\"type\":\"scatter\",\"x\":[0,1.311590065757232],\"y\":[0,-1.8893733086415028]},{\"type\":\"scatter\",\"x\":[1.311590065757232,0.6167596677023423],\"y\":[-1.8893733086415028,-1.9742892549583377]}]},{\"data\":[{\"type\":\"scatter\",\"x\":[0,1.211205088443831],\"y\":[0,-1.9552448014833772]},{\"type\":\"scatter\",\"x\":[1.211205088443831,0.5419236175048767],\"y\":[-1.9552448014833772,-2.160335787774315]}]},{\"data\":[{\"type\":\"scatter\",\"x\":[0,1.0945484592171901],\"y\":[0,-2.0228602696244926]},{\"type\":\"scatter\",\"x\":[1.0945484592171901,0.4746168058312489],\"y\":[-2.0228602696244926,-2.3479521722153955]}]},{\"data\":[{\"type\":\"scatter\",\"x\":[0,0.9575200135081778],\"y\":[0,-2.0912090817829045]},{\"type\":\"scatter\",\"x\":[0.9575200135081778,0.4160137711801757],\"y\":[-2.0912090817829045,-2.5347978434978593]}]},{\"data\":[{\"type\":\"scatter\",\"x\":[0,0.7927021544194709],\"y\":[0,-2.1590792700544204]},{\"type\":\"scatter\",\"x\":[0.7927021544194709,0.3686187151447682],\"y\":[-2.1590792700544204,-2.715993299804919]}]},{\"data\":[{\"type\":\"scatter\",\"x\":[0,0.5857634292732362],\"y\":[0,-2.224158538622204]},{\"type\":\"scatter\",\"x\":[0.5857634292732362,0.3371319827500422],\"y\":[-2.224158538622204,-2.8785150192959907]}]},{\"data\":[{\"type\":\"scatter\",\"x\":[0,0.3144624064808603],\"y\":[0,-2.2784014999359234]},{\"type\":\"scatter\",\"x\":[0.3144624064808603,0.326125766756026],\"y\":[-2.2784014999359234,-2.9783043260675885]}]},{\"data\":[{\"type\":\"scatter\",\"x\":[0,0.016556012754468056],\"y\":[0,-2.299940411932812]},{\"type\":\"scatter\",\"x\":[0.016556012754468056,0.3091797460067187],\"y\":[-2.299940411932812,-2.9358424096789393]}]},{\"data\":[{\"type\":\"scatter\",\"x\":[0,-0.2243419247930045],\"y\":[0,-2.289032699805787]},{\"type\":\"scatter\",\"x\":[-0.2243419247930045,0.25465820755985114],\"y\":[-2.289032699805787,-2.799482377252983]}]},{\"data\":[{\"type\":\"scatter\",\"x\":[0,-0.41671245644537647],\"y\":[0,-2.261935173395396]},{\"type\":\"scatter\",\"x\":[-0.41671245644537647,0.17443648632559094],\"y\":[-2.261935173395396,-2.636825727371843]}]},{\"data\":[{\"type\":\"scatter\",\"x\":[0,-0.5781915629754717],\"y\":[0,-2.2261389256971316]},{\"type\":\"scatter\",\"x\":[-0.5781915629754717,0.0787970477874047],\"y\":[-2.2261389256971316,-2.467729416668663]}]},{\"data\":[{\"type\":\"scatter\",\"x\":[0,-0.718100939551204],\"y\":[0,-2.185024265452372]},{\"type\":\"scatter\",\"x\":[-0.718100939551204,-0.027360263737420065],\"y\":[-2.185024265452372,-2.2985025399207344]}]},{\"data\":[{\"type\":\"scatter\",\"x\":[0,-0.8415032657842009],\"y\":[0,-2.140530834553551]},{\"type\":\"scatter\",\"x\":[-0.8415032657842009,-0.14155768183753048],\"y\":[-2.140530834553551,-2.1318027469305627]}]},{\"data\":[{\"type\":\"scatter\",\"x\":[0,-0.9513142308767509],\"y\":[0,-2.0940394538144154]},{\"type\":\"scatter\",\"x\":[-0.9513142308767509,-0.2625578296680646],\"y\":[-2.0940394538144154,-1.9690809815363859]}]},{\"data\":[{\"type\":\"scatter\",\"x\":[0,-1.0492248808070868],\"y\":[0,-2.0467357302532623]},{\"type\":\"scatter\",\"x\":[-1.0492248808070868,-0.3899548410240512],\"y\":[-2.0467357302532623,-1.8114422653111295]}]},{\"data\":[{\"type\":\"scatter\",\"x\":[0,-1.136189552932979],\"y\":[0,-1.9997683115316023]},{\"type\":\"scatter\",\"x\":[-1.136189552932979,-0.5240883236905809],\"y\":[-1.9997683115316023,-1.6601625324878042]}]},{\"data\":[{\"type\":\"scatter\",\"x\":[0,-1.2129097850381125],\"y\":[0,-1.9541877733111523]},{\"type\":\"scatter\",\"x\":[-1.2129097850381125,-0.6660436282421062],\"y\":[-1.9541877733111523,-1.5172239229171345]}]},{\"data\":[{\"type\":\"scatter\",\"x\":[0,-1.2806993229859664],\"y\":[0,-1.9104473937021367]},{\"type\":\"scatter\",\"x\":[-1.2806993229859664,-0.817314588073331],\"y\":[-1.9104473937021367,-1.3857812260774778]}]},{\"data\":[{\"type\":\"scatter\",\"x\":[0,-1.3425540988441005],\"y\":[0,-1.8674979228039061]},{\"type\":\"scatter\",\"x\":[-1.3425540988441005,-0.9785126020867261],\"y\":[-1.8674979228039061,-1.2696068050921188]}]},{\"data\":[{\"type\":\"scatter\",\"x\":[0,-1.4026863159960274],\"y\":[0,-1.8227646855580375]},{\"type\":\"scatter\",\"x\":[-1.4026863159960274,-1.1479222248183072],\"y\":[-1.8227646855580375,-1.1707713896980338]}]},{\"data\":[{\"type\":\"scatter\",\"x\":[0,-1.4641535876812686],\"y\":[0,-1.773768381632751]},{\"type\":\"scatter\",\"x\":[-1.4641535876812686,-1.322297308928477],\"y\":[-1.773768381632751,-1.0882927831039555]}]},{\"data\":[{\"type\":\"scatter\",\"x\":[0,-1.5279042375432808],\"y\":[0,-1.719159283166422]},{\"type\":\"scatter\",\"x\":[-1.5279042375432808,-1.4988331529517922],\"y\":[-1.719159283166422,-1.0197632065112305]}]},{\"data\":[{\"type\":\"scatter\",\"x\":[0,-1.59374985587958],\"y\":[0,-1.658300755859388]},{\"type\":\"scatter\",\"x\":[-1.59374985587958,-1.6757486724494548],\"y\":[-1.658300755859388,-0.9631200641819365]}]},{\"data\":[{\"type\":\"scatter\",\"x\":[0,-1.6612803202618491],\"y\":[0,-1.5906437996957985]},{\"type\":\"scatter\",\"x\":[-1.6612803202618491,-1.8518950350228733],\"y\":[-1.5906437996957985,-0.9170964513107178]}]},{\"data\":[{\"type\":\"scatter\",\"x\":[0,-1.7302148859785442],\"y\":[0,-1.515373369285026]},{\"type\":\"scatter\",\"x\":[-1.7302148859785442,-2.0263179833985783],\"y\":[-1.515373369285026,-0.8810840380660139]}]},{\"data\":[{\"type\":\"scatter\",\"x\":[0,-1.8004806537291949],\"y\":[0,-1.431177632422646]},{\"type\":\"scatter\",\"x\":[-1.8004806537291949,-2.1979344612920433],\"y\":[-1.431177632422646,-0.8549567799244097]}]},{\"data\":[{\"type\":\"scatter\",\"x\":[0,-1.872224273777704],\"y\":[0,-1.335955189621848]},{\"type\":\"scatter\",\"x\":[-1.872224273777704,-2.365192423778833],\"y\":[-1.335955189621848,-0.8389819478024674]}]},{\"data\":[{\"type\":\"scatter\",\"x\":[0,-1.9458307342932035],\"y\":[0,-1.226271892151154]},{\"type\":\"scatter\",\"x\":[-1.9458307342932035,-2.525465573897582],\"y\":[-1.226271892151154,-0.8338136743536328]}]},{\"data\":[{\"type\":\"scatter\",\"x\":[0,-2.0219419706144732],\"y\":[0,-1.0962438905041432]},{\"type\":\"scatter\",\"x\":[-2.0219419706144732,-2.6735487486560707],\"y\":[-1.0962438905041432,-0.8404928263611989]}]},{\"data\":[{\"type\":\"scatter\",\"x\":[0,-2.1011474197041156],\"y\":[0,-0.9355102996069775]},{\"type\":\"scatter\",\"x\":[-2.1011474197041156,-2.797046973063786],\"y\":[-0.9355102996069775,-0.8598544232072485]}]},{\"data\":[{\"type\":\"scatter\",\"x\":[0,-2.180434385756744],\"y\":[0,-0.7319193189208842]},{\"type\":\"scatter\",\"x\":[-2.180434385756744,-2.863119052442755],\"y\":[-0.7319193189208842,-0.8866502010091395]}]},{\"data\":[{\"type\":\"scatter\",\"x\":[0,-2.242331221014486],\"y\":[0,-0.5118111910301344]},{\"type\":\"scatter\",\"x\":[-2.242331221014486,-2.829347219642824],\"y\":[-0.5118111910301344,-0.8931407300831364]}]},{\"data\":[{\"type\":\"scatter\",\"x\":[0,-2.27646206683847],\"y\":[0,-0.3282079496988482]},{\"type\":\"scatter\",\"x\":[-2.27646206683847,-2.727553270904608],\"y\":[-0.3282079496988482,-0.863480521025048]}]},{\"data\":[{\"type\":\"scatter\",\"x\":[0,-2.292683162918239],\"y\":[0,-0.18331370508289369]},{\"type\":\"scatter\",\"x\":[-2.292683162918239,-2.601732814194427],\"y\":[-0.18331370508289369,-0.81139675138017]}]},{\"data\":[{\"type\":\"scatter\",\"x\":[0,-2.299010871790726],\"y\":[0,-0.06744635933871103]},{\"type\":\"scatter\",\"x\":[-2.299010871790726,-2.4674170399221507],\"y\":[-0.06744635933871103,-0.7468868368901226]}]},{\"data\":[{\"type\":\"scatter\",\"x\":[0,-2.2998642062627814],\"y\":[0,0.024992653945995782]},{\"type\":\"scatter\",\"x\":[-2.2998642062627814,-2.3300034809870427],\"y\":[0.024992653945995782,-0.6743582051505634]}]},{\"data\":[{\"type\":\"scatter\",\"x\":[0,-2.2979771928956874],\"y\":[0,0.09644076384628869]},{\"type\":\"scatter\",\"x\":[-2.2979771928956874,-2.192114395330833],\"y\":[0.09644076384628869,-0.5955079828768646]}]},{\"data\":[{\"type\":\"scatter\",\"x\":[0,-2.2952807138210325],\"y\":[0,0.14726318196076887]},{\"type\":\"scatter\",\"x\":[-2.2952807138210325,-2.0557954945775396],\"y\":[0.14726318196076887,-0.510495763066888]}]},{\"data\":[{\"type\":\"scatter\",\"x\":[0,-2.2932440671304986],\"y\":[0,0.17615802159075294]},{\"type\":\"scatter\",\"x\":[-2.2932440671304986,-1.923622733048175],\"y\":[0.17615802159075294,-0.41829977286668657]}]},{\"data\":[{\"type\":\"scatter\",\"x\":[0,-2.292927798985271],\"y\":[0,0.18022793523912864]},{\"type\":\"scatter\",\"x\":[-2.292927798985271,-1.7999631556454116],\"y\":[0.18022793523912864,-0.3167487849569035]}]},{\"data\":[{\"type\":\"scatter\",\"x\":[0,-2.294746759811318],\"y\":[0,0.15536186255145437]},{\"type\":\"scatter\",\"x\":[-2.294746759811318,-1.693257605475508],\"y\":[0.15536186255145437,-0.20270349072416258]}]},{\"data\":[{\"type\":\"scatter\",\"x\":[0,-2.297858715706796],\"y\":[0,0.09922359926104017]},{\"type\":\"scatter\",\"x\":[-2.297858715706796,-1.6196238577630648],\"y\":[0.09922359926104017,-0.07397419942603063]}]},{\"data\":[{\"type\":\"scatter\",\"x\":[0,-2.2999039925725597],\"y\":[0,0.021014874465434184]},{\"type\":\"scatter\",\"x\":[-2.2999039925725597,-1.601221695739615],\"y\":[0.021014874465434184,0.06394561045074823]}]},{\"data\":[{\"type\":\"scatter\",\"x\":[0,-2.29935608780476],\"y\":[0,-0.054420414140176725]},{\"type\":\"scatter\",\"x\":[-2.29935608780476,-1.6451241967715586],\"y\":[-0.054420414140176725,0.19453868441844438]}]},{\"data\":[{\"type\":\"scatter\",\"x\":[0,-2.2974126297293362],\"y\":[0,-0.10906515832351628]},{\"type\":\"scatter\",\"x\":[-2.2974126297293362,-1.7333739732282742],\"y\":[-0.10906515832351628,0.305495324564659]}]},{\"data\":[{\"type\":\"scatter\",\"x\":[0,-2.2956743535690003],\"y\":[0,-0.14099383804107185]},{\"type\":\"scatter\",\"x\":[-2.2956743535690003,-1.8459841157972146],\"y\":[-0.14099383804107185,0.39545624356275716]}]},{\"data\":[{\"type\":\"scatter\",\"x\":[0,-2.29485076669854],\"y\":[0,-0.15381793973110722]},{\"type\":\"scatter\",\"x\":[-2.29485076669854,-1.9712508022472426],\"y\":[-0.15381793973110722,0.4668937993290775]}]},{\"data\":[{\"type\":\"scatter\",\"x\":[0,-2.295039586607812],\"y\":[0,-0.15097448758992585]},{\"type\":\"scatter\",\"x\":[-2.295039586607812,-2.103060628014284],\"y\":[-0.15097448758992585,0.5221852850178439]}]},{\"data\":[{\"type\":\"scatter\",\"x\":[0,-2.296053041991367],\"y\":[0,-0.13468640748861432]},{\"type\":\"scatter\",\"x\":[-2.296053041991367,-2.237981225573526],\"y\":[-0.13468640748861432,0.5629006223061865]}]},{\"data\":[{\"type\":\"scatter\",\"x\":[0,-2.2975559126786838],\"y\":[0,-0.10600390613189932]},{\"type\":\"scatter\",\"x\":[-2.2975559126786838,-2.373744292170472],\"y\":[-0.10600390613189932,0.5898375491080247]}]},{\"data\":[{\"type\":\"scatter\",\"x\":[0,-2.299084631816901],\"y\":[0,-0.06488340113883433]},{\"type\":\"scatter\",\"x\":[-2.299084631816901,-2.5084195038442054],\"y\":[-0.06488340113883433,0.6030828490215403]}]},{\"data\":[{\"type\":\"scatter\",\"x\":[0,-2.29997792138486],\"y\":[0,-0.010077754818265248]},{\"type\":\"scatter\",\"x\":[-2.29997792138486,-2.639738433828362],\"y\":[-0.010077754818265248,0.6019375997147144]}]},{\"data\":[{\"type\":\"scatter\",\"x\":[0,-2.29918429044352],\"y\":[0,0.06125029451135389]},{\"type\":\"scatter\",\"x\":[-2.29918429044352,-2.7640429525199384],\"y\":[0.06125029451135389,0.5846109964106482]}]},{\"data\":[{\"type\":\"scatter\",\"x\":[0,-2.2948364776590164],\"y\":[0,0.15403097352661607]},{\"type\":\"scatter\",\"x\":[-2.2948364776590164,-2.8737141287074692],\"y\":[0.15403097352661607,0.5476051915803725]}]},{\"data\":[{\"type\":\"scatter\",\"x\":[0,-2.283741604562884],\"y\":[0,0.2729913617471105]},{\"type\":\"scatter\",\"x\":[-2.283741604562884,-2.950582422118],\"y\":[0.2729913617471105,0.4858841141893314]}]},{\"data\":[{\"type\":\"scatter\",\"x\":[0,-2.2640132125759886],\"y\":[0,0.40527049396835113]},{\"type\":\"scatter\",\"x\":[-2.2640132125759886,-2.9640024967163443],\"y\":[0.40527049396835113,0.4013972409851154]}]},{\"data\":[{\"type\":\"scatter\",\"x\":[0,-2.241478730963977],\"y\":[0,0.5155318599622305]},{\"type\":\"scatter\",\"x\":[-2.241478730963977,-2.911241037107419],\"y\":[0.5155318599622305,0.3120166190847505]}]},{\"data\":[{\"type\":\"scatter\",\"x\":[0,-2.222525545667369],\"y\":[0,0.5919292177752008]},{\"type\":\"scatter\",\"x\":[-2.222525545667369,-2.820976395250846],\"y\":[0.5919292177752008,0.22880860333309216]}]},{\"data\":[{\"type\":\"scatter\",\"x\":[0,-2.209260873839165],\"y\":[0,0.6396611535206806]},{\"type\":\"scatter\",\"x\":[-2.209260873839165,-2.7119454021374274],\"y\":[0.6396611535206806,0.1525181919482556]}]},{\"data\":[{\"type\":\"scatter\",\"x\":[0,-2.2022114349771607],\"y\":[0,0.6635245252858653]},{\"type\":\"scatter\",\"x\":[-2.2022114349771607,-2.592336533876716],\"y\":[0.6635245252858653,0.08231681094562027]}]},{\"data\":[{\"type\":\"scatter\",\"x\":[0,-2.201486417999874],\"y\":[0,0.6659260855095573]},{\"type\":\"scatter\",\"x\":[-2.201486417999874,-2.466146520431634],\"y\":[0.6659260855095573,0.0178867115662682]}]},{\"data\":[{\"type\":\"scatter\",\"x\":[0,-2.20695860840989],\"y\":[0,0.6475598047790497]},{\"type\":\"scatter\",\"x\":[-2.20695860840989,-2.3358638775386034],\"y\":[0.6475598047790497,-0.0404688513035687]}]},{\"data\":[{\"type\":\"scatter\",\"x\":[0,-2.2182018602815297],\"y\":[0,0.6079313341517777]},{\"type\":\"scatter\",\"x\":[-2.2182018602815297,-2.2035790992978224],\"y\":[0.6079313341517777,-0.09191591694035406]}]},{\"data\":[{\"type\":\"scatter\",\"x\":[0,-2.234336444532097],\"y\":[0,0.5456561670463077]},{\"type\":\"scatter\",\"x\":[-2.234336444532097,-2.0716096450632233],\"y\":[0.5456561670463077,-0.1351668560181425]}]},{\"data\":[{\"type\":\"scatter\",\"x\":[0,-2.253800730434075],\"y\":[0,0.4586744678907128]},{\"type\":\"scatter\",\"x\":[-2.253800730434075,-1.943044656204386],\"y\":[0.4586744678907128,-0.16856604605059183]}]},{\"data\":[{\"type\":\"scatter\",\"x\":[0,-2.2740466473693264],\"y\":[0,0.3445458541157133]},{\"type\":\"scatter\",\"x\":[-2.2740466473693264,-1.822418869820305],\"y\":[0.3445458541157133,-0.1902740693595923]}]},{\"data\":[{\"type\":\"scatter\",\"x\":[0,-2.2911900499728377],\"y\":[0,0.20111726655229228]},{\"type\":\"scatter\",\"x\":[-2.2911900499728377,-1.7166566951108777],\"y\":[0.20111726655229228,-0.19877199830869524]}]},{\"data\":[{\"type\":\"scatter\",\"x\":[0,-2.299826797859601],\"y\":[0,0.028225871941425108]},{\"type\":\"scatter\",\"x\":[-2.299826797859601,-1.6361111440336709],\"y\":[0.028225871941425108,-0.1942185725080109]}]},{\"data\":[{\"type\":\"scatter\",\"x\":[0,-2.293806969735589],\"y\":[0,-0.16867004948251055]},{\"type\":\"scatter\",\"x\":[-2.293806969735589,-1.5939214249732543],\"y\":[-0.16867004948251055,-0.18132802059678083]}]},{\"data\":[{\"type\":\"scatter\",\"x\":[0,-2.2692007284822377],\"y\":[0,-0.3751373799765637]},{\"type\":\"scatter\",\"x\":[-2.2692007284822377,-1.599410498720407],\"y\":[-0.3751373799765637,-0.1717140575290282]}]},{\"data\":[{\"type\":\"scatter\",\"x\":[0,-2.2274754793439717],\"y\":[0,-0.5730209323587943]},{\"type\":\"scatter\",\"x\":[-2.2274754793439717,-1.6489171572185841],\"y\":[-0.5730209323587943,-0.17897744757639583]}]},{\"data\":[{\"type\":\"scatter\",\"x\":[0,-2.1739631715687406],\"y\":[0,-0.7509221854911341]},{\"type\":\"scatter\",\"x\":[-2.1739631715687406,-1.7291544730859751],\"y\":[-0.7509221854911341,-0.21041758629324736]}]},{\"data\":[{\"type\":\"scatter\",\"x\":[0,-2.1142778745537236],\"y\":[0,-0.9054441281341372]},{\"type\":\"scatter\",\"x\":[-2.1142778745537236,-1.8273347856999624],\"y\":[-0.9054441281341372,-0.2669586829131342]}]},{\"data\":[{\"type\":\"scatter\",\"x\":[0,-2.0529997612175723],\"y\":[0,-1.03691464472279]},{\"type\":\"scatter\",\"x\":[-2.0529997612175723,-1.9345720160545132],\"y\":[-1.03691464472279,-0.347005325191887]}]},{\"data\":[{\"type\":\"scatter\",\"x\":[0,-1.9937825232191089],\"y\":[0,-1.146660913307]},{\"type\":\"scatter\",\"x\":[-1.9937825232191089,-2.0449550510919345],\"y\":[-1.146660913307,-0.44853386728234934]}]},{\"data\":[{\"type\":\"scatter\",\"x\":[0,-1.9396696488371865],\"y\":[0,-1.2359941963374361]},{\"type\":\"scatter\",\"x\":[-1.9396696488371865,-2.1542510180910215],\"y\":[-1.2359941963374361,-0.569694837213364]}]},{\"data\":[{\"type\":\"scatter\",\"x\":[0,-1.8933649865687232],\"y\":[0,-1.3058212081428366]},{\"type\":\"scatter\",\"x\":[-1.8933649865687232,-2.259011225795689],\"y\":[-1.3058212081428366,-0.7089101362576048]}]},{\"data\":[{\"type\":\"scatter\",\"x\":[0,-1.8574923585742389],\"y\":[0,-1.356363571406395]},{\"type\":\"scatter\",\"x\":[-1.8574923585742389,-2.355892115583156],\"y\":[-1.356363571406395,-0.8648377000491971]}]},{\"data\":[{\"type\":\"scatter\",\"x\":[0,-1.834925176752801],\"y\":[0,-1.38674063750894]},{\"type\":\"scatter\",\"x\":[-1.834925176752801,-2.440865202118334],\"y\":[-1.38674063750894,-1.036259988028805]}]},{\"data\":[{\"type\":\"scatter\",\"x\":[0,-1.8292967055588791],\"y\":[0,-1.3941569362992932]},{\"type\":\"scatter\",\"x\":[-1.8292967055588791,-2.507725703893149],\"y\":[-1.3941569362992932,-1.2217211679124544]}]},{\"data\":[{\"type\":\"scatter\",\"x\":[0,-1.8456748647651304],\"y\":[0,-1.3724009230447989]},{\"type\":\"scatter\",\"x\":[-1.8456748647651304,-2.5441939489469685],\"y\":[-1.3724009230447989,-1.4179101422620777]}]},{\"data\":[{\"type\":\"scatter\",\"x\":[0,-1.8885070868883183],\"y\":[0,-1.312836997792413]},{\"type\":\"scatter\",\"x\":[-1.8885070868883183,-2.521669350055805],\"y\":[-1.312836997792413,-1.6113425228679572]}]},{\"data\":[{\"type\":\"scatter\",\"x\":[0,-1.9409783182806757],\"y\":[0,-1.2339380729859661]},{\"type\":\"scatter\",\"x\":[-1.9409783182806757,-2.4026891216713535],\"y\":[-1.2339380729859661,-1.7600779156441084]}]},{\"data\":[{\"type\":\"scatter\",\"x\":[0,-1.9691727229288192],\"y\":[0,-1.1884270222748636]},{\"type\":\"scatter\",\"x\":[-1.9691727229288192,-2.217301897566768],\"y\":[-1.1884270222748636,-1.8429741272974818]}]},{\"data\":[{\"type\":\"scatter\",\"x\":[0,-1.9706250011095034],\"y\":[0,-1.186017329132323]},{\"type\":\"scatter\",\"x\":[-1.9706250011095034,-2.012606045915359],\"y\":[-1.186017329132323,-1.8847573321928381]}]},{\"data\":[{\"type\":\"scatter\",\"x\":[0,-1.9508781522356398],\"y\":[0,-1.2182259376362234]},{\"type\":\"scatter\",\"x\":[-1.9508781522356398,-1.8056018083543206],\"y\":[-1.2182259376362234,-1.9029848615711193]}]},{\"data\":[{\"type\":\"scatter\",\"x\":[0,-1.9120793947553236],\"y\":[0,-1.278261470964417]},{\"type\":\"scatter\",\"x\":[-1.9120793947553236,-1.6023939744097748],\"y\":[-1.278261470964417,-1.906031285805335]}]},{\"data\":[{\"type\":\"scatter\",\"x\":[0,-1.854155886944885],\"y\":[0,-1.3609209921621557]},{\"type\":\"scatter\",\"x\":[-1.854155886944885,-1.406091694108242],\"y\":[-1.3609209921621557,-1.8987299536881304]}]},{\"data\":[{\"type\":\"scatter\",\"x\":[0,-1.7760949323058657],\"y\":[0,-1.4613304867268806]},{\"type\":\"scatter\",\"x\":[-1.7760949323058657,-1.2186038579136764],\"y\":[-1.4613304867268806,-1.8846550690192894]}]},{\"data\":[{\"type\":\"scatter\",\"x\":[0,-1.6768182380448968],\"y\":[0,-1.57425556901032]},{\"type\":\"scatter\",\"x\":[-1.6768182380448968,-1.040951284313848],\"y\":[-1.57425556901032,-1.8669554445702459]}]},{\"data\":[{\"type\":\"scatter\",\"x\":[0,-1.5558758692565522],\"y\":[0,-1.6938861471377489]},{\"type\":\"scatter\",\"x\":[-1.5558758692565522,-0.8731772421889173],\"y\":[-1.6938861471377489,-1.8485554220438092]}]},{\"data\":[{\"type\":\"scatter\",\"x\":[0,-1.4139823516114418],\"y\":[0,-1.8140159617079934]},{\"type\":\"scatter\",\"x\":[-1.4139823516114418,-0.7142133406390276],\"y\":[-1.8140159617079934,-1.8319973766325546]}]},{\"data\":[{\"type\":\"scatter\",\"x\":[0,-1.2532973394847557],\"y\":[0,-1.9285346195597404]},{\"type\":\"scatter\",\"x\":[-1.2532973394847557,-0.5619052175199101],\"y\":[-1.9285346195597404,-1.8190954415431455]}]},{\"data\":[{\"type\":\"scatter\",\"x\":[0,-1.0773525643696484],\"y\":[0,-2.0320707300795764]},{\"type\":\"scatter\",\"x\":[-1.0773525643696484,-0.41331013463123645],\"y\":[-2.0320707300795764,-1.8106036862398525]}]},{\"data\":[{\"type\":\"scatter\",\"x\":[0,-0.8906358833178851],\"y\":[0,-2.120558351790059]},{\"type\":\"scatter\",\"x\":[-0.8906358833178851,-0.2652353895012177],\"y\":[-2.120558351790059,-1.806115634695405]}]},{\"data\":[{\"type\":\"scatter\",\"x\":[0,-0.6979839086120819],\"y\":[0,-2.1915333589335573]},{\"type\":\"scatter\",\"x\":[-0.6979839086120819,-0.11483768285266727],\"y\":[-2.1915333589335573,-1.804311872723727]}]},{\"data\":[{\"type\":\"scatter\",\"x\":[0,-0.5039885705613251],\"y\":[0,-2.2441023864216962]},{\"type\":\"scatter\",\"x\":[-0.5039885705613251,0.03993839407552213],\"y\":[-2.2441023864216962,-1.8034852542752646]}]},{\"data\":[{\"type\":\"scatter\",\"x\":[0,-0.31255129532791043],\"y\":[0,-2.278664452653976]},{\"type\":\"scatter\",\"x\":[-0.31255129532791043,0.20020189794894255],\"y\":[-2.278664452653976,-1.8021309671732701]}]},{\"data\":[{\"type\":\"scatter\",\"x\":[0,-0.1266083357993702],\"y\":[0,-2.2965126451439613]},{\"type\":\"scatter\",\"x\":[-0.1266083357993702,0.3662036789923804],\"y\":[-2.2965126451439613,-1.799384575048442]}]},{\"data\":[{\"type\":\"scatter\",\"x\":[0,0.05199867909358975],\"y\":[0,-2.2994121286477816]},{\"type\":\"scatter\",\"x\":[0.05199867909358975,0.5375524275468581],\"y\":[-2.2994121286477816,-1.795192377583843]}]},{\"data\":[{\"type\":\"scatter\",\"x\":[0,0.22251864354142553],\"y\":[0,-2.289210661620394]},{\"type\":\"scatter\",\"x\":[0.22251864354142553,0.7134457492137782],\"y\":[-2.289210661620394,-1.7902211057014685]}]},{\"data\":[{\"type\":\"scatter\",\"x\":[0,0.38515556682854435],\"y\":[0,-2.2675218167287787]},{\"type\":\"scatter\",\"x\":[0.38515556682854435,0.8928518066495347],\"y\":[-2.2675218167287787,-1.7856042635398257]}]},{\"data\":[{\"type\":\"scatter\",\"x\":[0,0.5408368032512579],\"y\":[0,-2.235507895814497]},{\"type\":\"scatter\",\"x\":[0.5408368032512579,1.0746198191972833],\"y\":[-2.235507895814497,-1.7826550589153944]}]},{\"data\":[{\"type\":\"scatter\",\"x\":[0,0.6909613510376927],\"y\":[0,-2.193757600869377]},{\"type\":\"scatter\",\"x\":[0.6909613510376927,1.2575180221262214],\"y\":[-2.193757600869377,-1.782645039099386]}]},{\"data\":[{\"type\":\"scatter\",\"x\":[0,0.8372087235376358],\"y\":[0,-2.142214170719744]},{\"type\":\"scatter\",\"x\":[0.8372087235376358,1.4401984670717949],\"y\":[-2.142214170719744,-1.7866816557613947]}]},{\"data\":[{\"type\":\"scatter\",\"x\":[0,0.9814588526548923],\"y\":[0,-2.080081373539348]},{\"type\":\"scatter\",\"x\":[0.9814588526548923,1.6210719138031904],\"y\":[-2.080081373539348,-1.7956606780748594]}]},{\"data\":[{\"type\":\"scatter\",\"x\":[0,1.1258482167842394],\"y\":[0,-2.0056085841369318]},{\"type\":\"scatter\",\"x\":[1.1258482167842394,1.798030611031248],\"y\":[-2.0056085841369318,-1.8102350217894156]}]},{\"data\":[{\"type\":\"scatter\",\"x\":[0,1.2729953319960856],\"y\":[0,-1.9155894353217169]},{\"type\":\"scatter\",\"x\":[1.2729953319960856,1.9678278506478422],\"y\":[-1.9155894353217169,-1.830690842729988]}]},{\"data\":[{\"type\":\"scatter\",\"x\":[0,1.4264495612994175],\"y\":[0,-1.8042288239213724]},{\"type\":\"scatter\",\"x\":[1.4264495612994175,2.1245035305425604],\"y\":[-1.8042288239213724,-1.8563887321257906]}]},{\"data\":[{\"type\":\"scatter\",\"x\":[0,1.5909909167004783],\"y\":[0,-1.6609478929143358]},{\"type\":\"scatter\",\"x\":[1.5909909167004783,2.2547872152132555],\"y\":[-1.6609478929143358,-1.883151569933272]}]},{\"data\":[{\"type\":\"scatter\",\"x\":[0,1.7665413393992881],\"y\":[0,-1.4728651317053332]},{\"type\":\"scatter\",\"x\":[1.7665413393992881,2.327512102237898],\"y\":[-1.4728651317053332,-1.8915676552710121]}]},{\"data\":[{\"type\":\"scatter\",\"x\":[0,1.9224628099954497],\"y\":[0,-1.2625912815255769]},{\"type\":\"scatter\",\"x\":[1.9224628099954497,2.3170401215759076],\"y\":[-1.2625912815255769,-1.8407856650904282]}]},{\"data\":[{\"type\":\"scatter\",\"x\":[0,2.03392072336781],\"y\":[0,-1.0738558986451419]},{\"type\":\"scatter\",\"x\":[2.03392072336781,2.2626922688022137],\"y\":[-1.0738558986451419,-1.7354173697115534]}]},{\"data\":[{\"type\":\"scatter\",\"x\":[0,2.112453072902543],\"y\":[0,-0.9096933630540585]},{\"type\":\"scatter\",\"x\":[2.112453072902543,2.196945957372498],\"y\":[-0.9096933630540585,-1.6045753332288117]}]},{\"data\":[{\"type\":\"scatter\",\"x\":[0,2.169523377479159],\"y\":[0,-0.7636545780465296]},{\"type\":\"scatter\",\"x\":[2.169523377479159,2.129008474162837],\"y\":[-0.7636545780465296,-1.462481124915829]}]},{\"data\":[{\"type\":\"scatter\",\"x\":[0,2.2116018490502163],\"y\":[0,-0.6315198027597103]},{\"type\":\"scatter\",\"x\":[2.2116018490502163,2.0614701891454597],\"y\":[-0.6315198027597103,-1.315230622254504]}]},{\"data\":[{\"type\":\"scatter\",\"x\":[0,2.242536380108921],\"y\":[0,-0.510911522563326]},{\"type\":\"scatter\",\"x\":[2.242536380108921,1.9952223356676295],\"y\":[-0.510911522563326,-1.1657670512275429]}]},{\"data\":[{\"type\":\"scatter\",\"x\":[0,2.2648545319912516],\"y\":[0,-0.40054206885006194]},{\"type\":\"scatter\",\"x\":[2.2648545319912516,1.9306839116526553],\"y\":[-0.40054206885006194,-1.0156274259367981]}]},{\"data\":[{\"type\":\"scatter\",\"x\":[0,2.2803748689034933],\"y\":[0,-0.2998173732013782]},{\"type\":\"scatter\",\"x\":[2.2803748689034933,1.8682030578473385],\"y\":[-0.2998173732013782,-0.8656039037680658]}]},{\"data\":[{\"type\":\"scatter\",\"x\":[0,2.29051686941946],\"y\":[0,-0.20864436466119488]},{\"type\":\"scatter\",\"x\":[2.29051686941946,1.8082628683126871],\"y\":[-0.20864436466119488,-0.7160210279169149]}]},{\"data\":[{\"type\":\"scatter\",\"x\":[0,2.2964729028565793],\"y\":[0,-0.12732716303081587]},{\"type\":\"scatter\",\"x\":[2.2964729028565793,1.7516713345607797],\"y\":[-0.12732716303081587,-0.566862430310288]}]},{\"data\":[{\"type\":\"scatter\",\"x\":[0,2.299306979017076],\"y\":[0,-0.056457207187096924]},{\"type\":\"scatter\",\"x\":[2.299306979017076,1.6998135788767978],\"y\":[-0.056457207187096924,-0.4178540295143672]}]},{\"data\":[{\"type\":\"scatter\",\"x\":[0,2.299997563489283],\"y\":[0,0.003347826662455116]},{\"type\":\"scatter\",\"x\":[2.299997563489283,1.654985014548444],\"y\":[0.003347826662455116,-0.2686058673901198]}]},{\"data\":[{\"type\":\"scatter\",\"x\":[0,2.2994099754944397],\"y\":[0,0.05209380574174999]},{\"type\":\"scatter\",\"x\":[2.2994099754944397,1.6206328831845642],\"y\":[0.05209380574174999,-0.11896658989485201]}]},{\"data\":[{\"type\":\"scatter\",\"x\":[0,2.2981784819679767],\"y\":[0,0.0915186594054194]},{\"type\":\"scatter\",\"x\":[2.2981784819679767,1.6008585051305166],\"y\":[0.0915186594054194,0.030323480645943]}]},{\"data\":[{\"type\":\"scatter\",\"x\":[0,2.2965639488679934],\"y\":[0,0.12567429633718832]},{\"type\":\"scatter\",\"x\":[2.2965639488679934,1.5984618733496379],\"y\":[0.12567429633718832,0.1771863547018468]}]},{\"data\":[{\"type\":\"scatter\",\"x\":[0,2.2944715654449683],\"y\":[0,0.15937451290753696]},{\"type\":\"scatter\",\"x\":[2.2944715654449683,1.6129030629772543],\"y\":[0.15937451290753696,0.3189501264702546]}]},{\"data\":[{\"type\":\"scatter\",\"x\":[0,2.2916521255683775],\"y\":[0,0.19578185661070804]},{\"type\":\"scatter\",\"x\":[2.2916521255683775,1.6409082298599453],\"y\":[0.19578185661070804,0.4537205745229541]}]},{\"data\":[{\"type\":\"scatter\",\"x\":[0,2.2878704561383865],\"y\":[0,0.23589992778534627]},{\"type\":\"scatter\",\"x\":[2.2878704561383865,1.678721117778724],\"y\":[0.23589992778534627,0.5807724891409656]}]},{\"data\":[{\"type\":\"scatter\",\"x\":[0,2.2829531073616067],\"y\":[0,0.2795086932243496]},{\"type\":\"scatter\",\"x\":[2.2829531073616067,1.72338762429482],\"y\":[0.2795086932243496,0.7000874256398553]}]},{\"data\":[{\"type\":\"scatter\",\"x\":[0,2.2767790562600436],\"y\":[0,0.32600173155310885]},{\"type\":\"scatter\",\"x\":[2.2767790562600436,1.7728853440152565],\"y\":[0.32600173155310885,0.8118938252942682]}]},{\"data\":[{\"type\":\"scatter\",\"x\":[0,2.269261190284665],\"y\":[0,0.374771464052192]},{\"type\":\"scatter\",\"x\":[2.269261190284665,1.82587414524736],\"y\":[0.374771464052192,0.9164428850198176]}]},{\"data\":[{\"type\":\"scatter\",\"x\":[0,2.260330458511959],\"y\":[0,0.42533071641149633]},{\"type\":\"scatter\",\"x\":[2.260330458511959,1.8814506119050325],\"y\":[0.42533071641149633,1.0139308029177012]}]},{\"data\":[{\"type\":\"scatter\",\"x\":[0,2.2499230838123547],\"y\":[0,0.4773322919395899]},{\"type\":\"scatter\",\"x\":[2.2499230838123547,1.9389793296669526],\"y\":[0.4773322919395899,1.104479787954653]}]},{\"data\":[{\"type\":\"scatter\",\"x\":[0,2.2379693951594786],\"y\":[0,0.5305591261391296]},{\"type\":\"scatter\",\"x\":[2.2379693951594786,1.997986115063221],\"y\":[0.5305591261391296,1.1881365172302778]}]},{\"data\":[{\"type\":\"scatter\",\"x\":[0,2.224382780901542],\"y\":[0,0.584911312960111]},{\"type\":\"scatter\",\"x\":[2.224382780901542,2.0580894057107413],\"y\":[0.584911312960111,1.2648719834166098]}]},{\"data\":[{\"type\":\"scatter\",\"x\":[0,2.2090472457628407],\"y\":[0,0.6403985212253436]},{\"type\":\"scatter\",\"x\":[2.2090472457628407,2.118952008887114],\"y\":[0.6403985212253436,1.3345763430349336]}]},{\"data\":[{\"type\":\"scatter\",\"x\":[0,2.1918018195974502],\"y\":[0,0.6971404332050356]},{\"type\":\"scatter\",\"x\":[2.1918018195974502,2.1802404632896644],\"y\":[0.6971404332050356,1.3970449517219004]}]},{\"data\":[{\"type\":\"scatter\",\"x\":[0,2.172419611594454],\"y\":[0,0.7553760859067503]},{\"type\":\"scatter\",\"x\":[2.172419611594454,2.2415807035696504],\"y\":[0.7553760859067503,1.4519510950456072]}]},{\"data\":[{\"type\":\"scatter\",\"x\":[0,2.150578892025786],\"y\":[0,0.8154817160262654]},{\"type\":\"scatter\",\"x\":[2.150578892025786,2.3024955450651325],\"y\":[0.8154817160262654,1.4987981365294776]}]},{\"data\":[{\"type\":\"scatter\",\"x\":[0,2.125824579100956],\"y\":[0,0.8779919469392891]},{\"type\":\"scatter\",\"x\":[2.125824579100956,2.362299116412939],\"y\":[0.8779919469392891,1.5368392685571912]}]},{\"data\":[{\"type\":\"scatter\",\"x\":[0,2.0975267290669013],\"y\":[0,0.9436003501747465]},{\"type\":\"scatter\",\"x\":[2.0975267290669013,2.4199002887810708],\"y\":[0.9436003501747465,1.5649499200605033]}]},{\"data\":[{\"type\":\"scatter\",\"x\":[0,2.064879955199332],\"y\":[0,1.013050231042866]},{\"type\":\"scatter\",\"x\":[2.064879955199332,2.4734304726432508],\"y\":[1.013050231042866,1.5814571932594683]}]},{\"data\":[{\"type\":\"scatter\",\"x\":[0,2.0271159329752133],\"y\":[0,1.0866466740748941]},{\"type\":\"scatter\",\"x\":[2.0271159329752133,2.519633210568278],\"y\":[1.0866466740748941,1.5840667493355494]}]},{\"data\":[{\"type\":\"scatter\",\"x\":[0,1.9843289881020134],\"y\":[0,1.1629438795479505]},{\"type\":\"scatter\",\"x\":[1.9843289881020134,2.5534590354215987],\"y\":[1.1629438795479505,1.5704865021507977]}]},{\"data\":[{\"type\":\"scatter\",\"x\":[0,1.9388098899396238],\"y\":[0,1.2373423983167724]},{\"type\":\"scatter\",\"x\":[1.9388098899396238,2.5697495069960876],\"y\":[1.2373423983167724,1.5405175945790037]}]},{\"data\":[{\"type\":\"scatter\",\"x\":[0,1.8946106739724156],\"y\":[0,1.3040131878435082]},{\"type\":\"scatter\",\"x\":[1.8946106739724156,2.567333375433153],\"y\":[1.3040131878435082,1.4975181411118095]}]},{\"data\":[{\"type\":\"scatter\",\"x\":[0,1.854871469267627],\"y\":[0,1.3599455255623123]},{\"type\":\"scatter\",\"x\":[1.854871469267627,2.549560188696283],\"y\":[1.3599455255623123,1.4460128428120875]}]},{\"data\":[{\"type\":\"scatter\",\"x\":[0,1.8208726777372362],\"y\":[0,1.4051415200861537]},{\"type\":\"scatter\",\"x\":[1.8208726777372362,2.5206888215107],\"y\":[1.4051415200861537,1.3890989232253557]}]},{\"data\":[{\"type\":\"scatter\",\"x\":[0,1.7929083080343644],\"y\":[0,1.4406525601203615]},{\"type\":\"scatter\",\"x\":[1.7929083080343644,2.483846685891835],\"y\":[1.4406525601203615,1.3283843188244049]}]},{\"data\":[{\"type\":\"scatter\",\"x\":[0,1.7710057880890464],\"y\":[0,1.4674939517950643]},{\"type\":\"scatter\",\"x\":[1.7710057880890464,2.440984889517436],\"y\":[1.4674939517950643,1.264693548321088]}]},{\"data\":[{\"type\":\"scatter\",\"x\":[0,1.7551958045475824],\"y\":[0,1.4863672788710613]},{\"type\":\"scatter\",\"x\":[1.7551958045475824,2.393279019905443],\"y\":[1.4863672788710613,1.19853084914304]}]},{\"data\":[{\"type\":\"scatter\",\"x\":[0,1.745578577736952],\"y\":[0,1.4976499687663467]},{\"type\":\"scatter\",\"x\":[1.745578577736952,2.34144401210487],\"y\":[1.4976499687663467,1.130302198764224]}]},{\"data\":[{\"type\":\"scatter\",\"x\":[0,1.7423246288404128],\"y\":[0,1.501434276862]},{\"type\":\"scatter\",\"x\":[1.7423246288404128,2.285929679141661],\"y\":[1.501434276862,1.0604200488749913]}]},{\"data\":[{\"type\":\"scatter\",\"x\":[0,1.7456561921646394],\"y\":[0,1.497559500907143]},{\"type\":\"scatter\",\"x\":[1.7456561921646394,2.2270419121770537],\"y\":[1.497559500907143,0.9893589611906554]}]},{\"data\":[{\"type\":\"scatter\",\"x\":[0,1.7558212385574377],\"y\":[0,1.4856284118953247]},{\"type\":\"scatter\",\"x\":[1.7558212385574377,2.1650255605272255],\"y\":[1.4856284118953247,0.917691951645372]}]},{\"data\":[{\"type\":\"scatter\",\"x\":[0,1.7730610280487895],\"y\":[0,1.4650100992193087]},{\"type\":\"scatter\",\"x\":[1.7730610280487895,2.100131535217239],\"y\":[1.4650100992193087,0.8461200578221529]}]},{\"data\":[{\"type\":\"scatter\",\"x\":[0,1.797568301757496],\"y\":[0,1.4348338581580347]},{\"type\":\"scatter\",\"x\":[1.797568301757496,2.0326830948833607],\"y\":[1.4348338581580347,0.7755000776997741]}]},{\"data\":[{\"type\":\"scatter\",\"x\":[0,1.8294314118647481],\"y\":[0,1.3939801681812238]},{\"type\":\"scatter\",\"x\":[1.8294314118647481,1.9631533595352744],\"y\":[1.3939801681812238,0.7068714135352063]}]},{\"data\":[{\"type\":\"scatter\",\"x\":[0,1.8685583276689446],\"y\":[0,1.341077841178146]},{\"type\":\"scatter\",\"x\":[1.8685583276689446,1.8922662804200892],\"y\":[1.341077841178146,0.6414794328206446]}]},{\"data\":[{\"type\":\"scatter\",\"x\":[0,1.9145732630268621],\"y\":[0,1.2745231345498098]},{\"type\":\"scatter\",\"x\":[1.9145732630268621,1.821135489910899],\"y\":[1.2745231345498098,0.580787318438857]}]},{\"data\":[{\"type\":\"scatter\",\"x\":[0,1.9666782413441306],\"y\":[0,1.1925504999888084]},{\"type\":\"scatter\",\"x\":[1.9666782413441306,1.751457741475483],\"y\":[1.1925504999888084,0.5264573109857309]}]},{\"data\":[{\"type\":\"scatter\",\"x\":[0,2.0234749149788818],\"y\":[0,1.09341175613362]},{\"type\":\"scatter\",\"x\":[2.0234749149788818,1.685772687714738],\"y\":[1.09341175613362,0.4802582633597172]}]},{\"data\":[{\"type\":\"scatter\",\"x\":[0,2.0827581254815692],\"y\":[0,0.9757656433491078]},{\"type\":\"scatter\",\"x\":[2.0827581254815692,1.627761708816505],\"y\":[0.9757656433491078,0.4438086330353501]}]},{\"data\":[{\"type\":\"scatter\",\"x\":[0,2.1413510928803783],\"y\":[0,0.8394137817667807]},{\"type\":\"scatter\",\"x\":[2.1413510928803783,1.5824128249196963],\"y\":[0.8394137817667807,0.41800185430255626]}]},{\"data\":[{\"type\":\"scatter\",\"x\":[0,2.1951999262548076],\"y\":[0,0.6863652699334998]},{\"type\":\"scatter\",\"x\":[2.1951999262548076,1.5555504819145314],\"y\":[0.6863652699334998,0.4020264080887357]}]},{\"data\":[{\"type\":\"scatter\",\"x\":[0,2.2400882971234726],\"y\":[0,0.5215404309259829]},{\"type\":\"scatter\",\"x\":[2.2400882971234726,1.5520918752983421],\"y\":[0.5215404309259829,0.39246323094156615]}]},{\"data\":[{\"type\":\"scatter\",\"x\":[0,2.2729343366572095],\"y\":[0,0.3518088987570543]},{\"type\":\"scatter\",\"x\":[2.2729343366572095,1.5736631493974178],\"y\":[0.3518088987570543,0.38374331073350015]}]},{\"data\":[{\"type\":\"scatter\",\"x\":[0,2.2926623302914093],\"y\":[0,0.1835740702353282]},{\"type\":\"scatter\",\"x\":[2.2926623302914093,1.6180020945447917],\"y\":[0.1835740702353282,0.3702115967467947]}]},{\"data\":[{\"type\":\"scatter\",\"x\":[0,2.299902263211737],\"y\":[0,0.021203293931117615]},{\"type\":\"scatter\",\"x\":[2.299902263211737,1.6807706626220433],\"y\":[0.021203293931117615,0.347816308294054]}]},{\"data\":[{\"type\":\"scatter\",\"x\":[0,2.2961614999125133],\"y\":[0,-0.13282456971327775]},{\"type\":\"scatter\",\"x\":[2.2961614999125133,1.757529155024214],\"y\":[-0.13282456971327775,0.3142494700610443]}]},{\"data\":[{\"type\":\"scatter\",\"x\":[0,2.2832407444651333],\"y\":[0,-0.27714924285356257]},{\"type\":\"scatter\",\"x\":[2.2832407444651333,1.8445575567424481],\"y\":[-0.27714924285356257,0.26833866792857686]}]},{\"data\":[{\"type\":\"scatter\",\"x\":[0,2.26298967476207],\"y\":[0,-0.4109473590622769]},{\"type\":\"scatter\",\"x\":[2.26298967476207,1.9388904883358424],\"y\":[-0.4109473590622769,0.20950386171003926]}]},{\"data\":[{\"type\":\"scatter\",\"x\":[0,2.237239061081399],\"y\":[0,-0.5336303810425531]},{\"type\":\"scatter\",\"x\":[2.237239061081399,2.03811443273191],\"y\":[-0.5336303810425531,0.1374503759343385]}]},{\"data\":[{\"type\":\"scatter\",\"x\":[0,2.207794952629723],\"y\":[0,-0.644702603641958]},{\"type\":\"scatter\",\"x\":[2.207794952629723,2.1401599206416417],\"y\":[-0.644702603641958,0.052022236196533234]}]},{\"data\":[{\"type\":\"scatter\",\"x\":[0,2.176450579153574],\"y\":[0,-0.7436819726886427]},{\"type\":\"scatter\",\"x\":[2.176450579153574,2.2431348395966717],\"y\":[-0.7436819726886427,-0.046865490816150546]}]},{\"data\":[{\"type\":\"scatter\",\"x\":[0,2.1450062162715344],\"y\":[0,-0.8300291152462516]},{\"type\":\"scatter\",\"x\":[2.1450062162715344,2.345183130322012],\"y\":[-0.8300291152462516,-0.159261492979622]}]},{\"data\":[{\"type\":\"scatter\",\"x\":[0,2.1153012864301],\"y\":[0,-0.9030506451064422]},{\"type\":\"scatter\",\"x\":[2.1153012864301,2.4443335333059575],\"y\":[-0.9030506451064422,-0.2852013264891722]}]},{\"data\":[{\"type\":\"scatter\",\"x\":[0,2.0892704139269678],\"y\":[0,-0.9617427605599306]},{\"type\":\"scatter\",\"x\":[2.0892704139269678,2.5382817625642415],\"y\":[-0.9617427605599306,-0.4247243169335161]}]},{\"data\":[{\"type\":\"scatter\",\"x\":[0,2.06904249238085],\"y\":[0,-1.0045213610085355]},{\"type\":\"scatter\",\"x\":[2.06904249238085,2.6239919361371196],\"y\":[-1.0045213610085355,-0.5778703152174736]}]},{\"data\":[{\"type\":\"scatter\",\"x\":[0,2.0571051191650733],\"y\":[0,-1.0287460953533916]},{\"type\":\"scatter\",\"x\":[2.0571051191650733,2.6968312176419635],\"y\":[-1.0287460953533916,-0.7445797375142975]}]},{\"data\":[{\"type\":\"scatter\",\"x\":[0,2.0564814172229604],\"y\":[0,-1.029992320659064]},{\"type\":\"scatter\",\"x\":[2.0564814172229604,2.748429544640207],\"y\":[-1.029992320659064,-0.924125475217415]}]},{\"data\":[{\"type\":\"scatter\",\"x\":[0,2.070059224890698],\"y\":[0,-1.0024244637103192]},{\"type\":\"scatter\",\"x\":[2.070059224890698,2.761393745931445],\"y\":[-1.0024244637103192,-1.112226922778234]}]},{\"data\":[{\"type\":\"scatter\",\"x\":[0,2.0942492928916945],\"y\":[0,-0.9508521963074164]},{\"type\":\"scatter\",\"x\":[2.0942492928916945,2.7059464789158163],\"y\":[-0.9508521963074164,-1.2911851988360734]}]},{\"data\":[{\"type\":\"scatter\",\"x\":[0,2.111927763590493],\"y\":[0,-0.9109122468029826]},{\"type\":\"scatter\",\"x\":[2.111927763590493,2.576930159177349],\"y\":[-0.9109122468029826,-1.4341452466209272]}]},{\"data\":[{\"type\":\"scatter\",\"x\":[0,2.113669962848584],\"y\":[0,-0.906862331421734]},{\"type\":\"scatter\",\"x\":[2.113669962848584,2.40982249361552],\"y\":[-0.906862331421734,-1.5411285834960022]}]},{\"data\":[{\"type\":\"scatter\",\"x\":[0,2.1007543299196474],\"y\":[0,-0.9363926768849982]},{\"type\":\"scatter\",\"x\":[2.1007543299196474,2.228975082417894],\"y\":[-0.9363926768849982,-1.6245492278447222]}]},{\"data\":[{\"type\":\"scatter\",\"x\":[0,2.074495001707881],\"y\":[0,-0.9932122068767666]},{\"type\":\"scatter\",\"x\":[2.074495001707881,2.0441941504514194],\"y\":[-0.9932122068767666,-1.6925560839595175]}]},{\"data\":[{\"type\":\"scatter\",\"x\":[0,2.03481869295024],\"y\":[0,-1.072153387729702]},{\"type\":\"scatter\",\"x\":[2.03481869295024,1.8598862182227367],\"y\":[-1.072153387729702,-1.7499429046785195]}]},{\"data\":[{\"type\":\"scatter\",\"x\":[0,1.9809167473404083],\"y\":[0,-1.168746696297489]},{\"type\":\"scatter\",\"x\":[1.9809167473404083,1.6783857808365878],\"y\":[-1.168746696297489,-1.79999547000423]}]},{\"data\":[{\"type\":\"scatter\",\"x\":[0,1.9118286461941025],\"y\":[0,-1.2786364720246424]},{\"type\":\"scatter\",\"x\":[1.9118286461941025,1.5009370156923152],\"y\":[-1.2786364720246424,-1.8453533925269179]}]},{\"data\":[{\"type\":\"scatter\",\"x\":[0,1.8268812969023316],\"y\":[0,-1.397320552710957]},{\"type\":\"scatter\",\"x\":[1.8268812969023316,1.3279788484765513],\"y\":[-1.397320552710957,-1.88833618072575]}]},{\"data\":[{\"type\":\"scatter\",\"x\":[0,1.7260055705473687],\"y\":[0,-1.5201660338395444]},{\"type\":\"scatter\",\"x\":[1.7260055705473687,1.1592481977930105],\"y\":[-1.5201660338395444,-1.931001865320414]}]},{\"data\":[{\"type\":\"scatter\",\"x\":[0,1.6099051715110808],\"y\":[0,-1.642621483708854]},{\"type\":\"scatter\",\"x\":[1.6099051715110808,0.9938931072344313],\"y\":[-1.642621483708854,-1.9750807092773752]}]},{\"data\":[{\"type\":\"scatter\",\"x\":[0,1.480045500259537],\"y\":[0,-1.760529839895222]},{\"type\":\"scatter\",\"x\":[1.480045500259537,0.8306666583124999],\"y\":[-1.760529839895222,-2.0218861477041687]}]},{\"data\":[{\"type\":\"scatter\",\"x\":[0,1.338462828358079],\"y\":[0,-1.870432371700108]},{\"type\":\"scatter\",\"x\":[1.338462828358079,0.6681956748826178],\"y\":[-1.870432371700108,-2.0722787067470994]}]},{\"data\":[{\"type\":\"scatter\",\"x\":[0,1.1874432705311837],\"y\":[0,-1.9697660976040292]},{\"type\":\"scatter\",\"x\":[1.1874432705311837,0.5052652407308994],\"y\":[-1.9697660976040292,-2.126715566089279]}]},{\"data\":[{\"type\":\"scatter\",\"x\":[0,1.029156225399011],\"y\":[0,-2.056899964442233]},{\"type\":\"scatter\",\"x\":[1.029156225399011,0.34104547786733796],\"y\":[-2.056899964442233,-2.1853662990649743]}]},{\"data\":[{\"type\":\"scatter\",\"x\":[0,0.865328352073185],\"y\":[0,-2.1310107562136578]},{\"type\":\"scatter\",\"x\":[0.865328352073185,0.17521454019020266],\"y\":[-2.1310107562136578,-2.2482409854565435]}]},{\"data\":[{\"type\":\"scatter\",\"x\":[0,0.6970121520899512],\"y\":[0,-2.1918426174885215]},{\"type\":\"scatter\",\"x\":[0.6970121520899512,0.007981007913650084],\"y\":[-2.1918426174885215,-2.315277144080951]}]},{\"data\":[{\"type\":\"scatter\",\"x\":[0,0.5244533080231839],\"y\":[0,-2.239408119951238]},{\"type\":\"scatter\",\"x\":[0.5244533080231839,-0.15994886861098012],\"y\":[-2.239408119951238,-2.386355935921461]}]},{\"data\":[{\"type\":\"scatter\",\"x\":[0,0.34701087702593153],\"y\":[0,-2.2736717993645637]},{\"type\":\"scatter\",\"x\":[0.34701087702593153,-0.32739198152748933],\"y\":[-2.2736717993645637,-2.461237212953995]}]},{\"data\":[{\"type\":\"scatter\",\"x\":[0,0.16304197931106115],\"y\":[0,-2.2942138769047515]},{\"type\":\"scatter\",\"x\":[0.16304197931106115,-0.4926175715360609],\"y\":[-2.2942138769047515,-2.5393884134760487]}]},{\"data\":[{\"type\":\"scatter\",\"x\":[0,-0.030383341297900854],\"y\":[0,-2.2997993070204137]},{\"type\":\"scatter\",\"x\":[-0.030383341297900854,-0.6530641811170542],\"y\":[-2.2997993070204137,-2.6195938844011346]}]},{\"data\":[{\"type\":\"scatter\",\"x\":[0,-0.23813514226060814],\"y\":[0,-2.2876388819087072]},{\"type\":\"scatter\",\"x\":[-0.23813514226060814,-0.804570691310133],\"y\":[-2.2876388819087072,-2.698918310974839]}]},{\"data\":[{\"type\":\"scatter\",\"x\":[0,-0.4680293706235931],\"y\":[0,-2.2518766636371725]},{\"type\":\"scatter\",\"x\":[-0.4680293706235931,-0.9394214190220003],\"y\":[-2.2518766636371725,-2.7693605152758045]}]},{\"data\":[{\"type\":\"scatter\",\"x\":[0,-0.7274276756576188],\"y\":[0,-2.1819369781658113]},{\"type\":\"scatter\",\"x\":[-0.7274276756576188,-1.0431357624088027],\"y\":[-2.1819369781658113,-2.8066996562763933]}]},{\"data\":[{\"type\":\"scatter\",\"x\":[0,-0.9920946920300162],\"y\":[0,-2.0750296677507687]},{\"type\":\"scatter\",\"x\":[-0.9920946920300162,-1.1071556891217467],\"y\":[-2.0750296677507687,-2.76550846318786]}]},{\"data\":[{\"type\":\"scatter\",\"x\":[0,-1.214362399587424],\"y\":[0,-1.9532854278031853]},{\"type\":\"scatter\",\"x\":[-1.214362399587424,-1.1556180083016772],\"y\":[-1.9532854278031853,-2.6508161414584817]}]},{\"data\":[{\"type\":\"scatter\",\"x\":[0,-1.3938538114880659],\"y\":[0,-1.8295276855517082]},{\"type\":\"scatter\",\"x\":[-1.3938538114880659,-1.2058065624547878],\"y\":[-1.8295276855517082,-2.503796350203282]}]},{\"data\":[{\"type\":\"scatter\",\"x\":[0,-1.5436531694462836],\"y\":[0,-1.7050322262228481]},{\"type\":\"scatter\",\"x\":[-1.5436531694462836,-1.259978659981711],\"y\":[-1.7050322262228481,-2.3449765774597617]}]},{\"data\":[{\"type\":\"scatter\",\"x\":[0,-1.6721915643186662],\"y\":[0,-1.5791692031639584]},{\"type\":\"scatter\",\"x\":[-1.6721915643186662,-1.3173364699287817],\"y\":[-1.5791692031639584,-2.1825578523657363]}]},{\"data\":[{\"type\":\"scatter\",\"x\":[0,-1.7843652992339833],\"y\":[0,-1.4512203412609734]},{\"type\":\"scatter\",\"x\":[-1.7843652992339833,-1.3768132870949976],\"y\":[-1.4512203412609734,-2.020343664804706]}]},{\"data\":[{\"type\":\"scatter\",\"x\":[0,-1.8831031444160549],\"y\":[0,-1.3205765966010328]},{\"type\":\"scatter\",\"x\":[-1.8831031444160549,-1.437449135138066],\"y\":[-1.3205765966010328,-1.860384436498208]}]},{\"data\":[{\"type\":\"scatter\",\"x\":[0,-1.9701754216969658],\"y\":[0,-1.186764006760056]},{\"type\":\"scatter\",\"x\":[-1.9701754216969658,-1.4984210563908447],\"y\":[-1.186764006760056,-1.7039175804831994]}]},{\"data\":[{\"type\":\"scatter\",\"x\":[0,-2.0466075481485433],\"y\":[0,-1.049474889581169]},{\"type\":\"scatter\",\"x\":[-2.0466075481485433,-1.5590410755051693],\"y\":[-1.049474889581169,-1.5517486543291379]}]},{\"data\":[{\"type\":\"scatter\",\"x\":[0,-2.1129155838135905],\"y\":[0,-0.9086185864694122]},{\"type\":\"scatter\",\"x\":[-2.1129155838135905,-1.618767982632768],\"y\":[-0.9086185864694122,-1.4044190990218288]}]},{\"data\":[{\"type\":\"scatter\",\"x\":[0,-2.1692674539551553],\"y\":[0,-0.7643812616822293]},{\"type\":\"scatter\",\"x\":[-2.1692674539551553,-1.6772329708852698],\"y\":[-0.7643812616822293,-1.2622789092667006]}]},{\"data\":[{\"type\":\"scatter\",\"x\":[0,-2.2156190030234963],\"y\":[0,-0.6172782463696302]},{\"type\":\"scatter\",\"x\":[-2.2156190030234963,-1.7342672046780918],\"y\":[-0.6172782463696302,-1.1255109157540815]}]},{\"data\":[{\"type\":\"scatter\",\"x\":[0,-2.2518449821328033],\"y\":[0,-0.46818177713716563]},{\"type\":\"scatter\",\"x\":[-2.2518449821328033,-1.7899152081216247],\"y\":[-0.46818177713716563,-0.994129382780524]}]},{\"data\":[{\"type\":\"scatter\",\"x\":[0,-2.27786700250947],\"y\":[0,-0.31831104108799024]},{\"type\":\"scatter\",\"x\":[-2.27786700250947,-1.8444196131912747],\"y\":[-0.31831104108799024,-0.8679685350724174]}]},{\"data\":[{\"type\":\"scatter\",\"x\":[0,-2.293769475944425],\"y\":[0,-0.16917916900622357]},{\"type\":\"scatter\",\"x\":[-2.293769475944425,-1.8981707001050074],\"y\":[-0.16917916900622357,-0.7466751504245831]}]},{\"data\":[{\"type\":\"scatter\",\"x\":[0,-2.299889934228849],\"y\":[0,-0.022500898489183747]},{\"type\":\"scatter\",\"x\":[-2.299889934228849,-1.9516260736795188],\"y\":[-0.022500898489183747,-0.6297177324416663]}]},{\"data\":[{\"type\":\"scatter\",\"x\":[0,-2.2968712314424744],\"y\":[0,0.11992725366625479]},{\"type\":\"scatter\",\"x\":[-2.2968712314424744,-2.0052168384952713],\"y\":[0.11992725366625479,-0.5164199118610211]}]},{\"data\":[{\"type\":\"scatter\",\"x\":[0,-2.285668651579837],\"y\":[0,0.2563568122465426]},{\"type\":\"scatter\",\"x\":[-2.285668651579837,-2.0592618268799994],\"y\":[0.2563568122465426,-0.40601766622416124]}]},{\"data\":[{\"type\":\"scatter\",\"x\":[0,-2.2675129869044115],\"y\":[0,0.38520754694039266]},{\"type\":\"scatter\",\"x\":[-2.2675129869044115,-2.1139085315880113],\"y\":[0.38520754694039266,-0.29773144836369153]}]},{\"data\":[{\"type\":\"scatter\",\"x\":[0,-2.243838841363407],\"y\":[0,0.5051606219698073]},{\"type\":\"scatter\",\"x\":[-2.243838841363407,-2.169110145191914],\"y\":[0.5051606219698073,-0.1908391064557925]}]},{\"data\":[{\"type\":\"scatter\",\"x\":[0,-2.2161932382760052],\"y\":[0,0.6152134025033206]},{\"type\":\"scatter\",\"x\":[-2.2161932382760052,-2.224636969634734],\"y\":[0.6152134025033206,-0.08473566950173717]}]},{\"data\":[{\"type\":\"scatter\",\"x\":[0,-2.1861413466372723],\"y\":[0,0.7146929498203907]},{\"type\":\"scatter\",\"x\":[-2.1861413466372723,-2.2801120221870153],\"y\":[0.7146929498203907,0.021029117595641522]}]},{\"data\":[{\"type\":\"scatter\",\"x\":[0,-2.155183720792588],\"y\":[0,0.8032329236470668]},{\"type\":\"scatter\",\"x\":[-2.155183720792588,-2.3350571797650783],\"y\":[0.8032329236470668,0.12673788393334373]}]},{\"data\":[{\"type\":\"scatter\",\"x\":[0,-2.1246943430181995],\"y\":[0,0.880723537068506]},{\"type\":\"scatter\",\"x\":[-2.1246943430181995,-2.38893730278319],\"y\":[0.880723537068506,0.23251395814002584]}]},{\"data\":[{\"type\":\"scatter\",\"x\":[0,-2.09588306098394],\"y\":[0,0.9472455830884562]},{\"type\":\"scatter\",\"x\":[-2.09588306098394,-2.4411933393967127],\"y\":[0.9472455830884562,0.3383442679129236]}]},{\"data\":[{\"type\":\"scatter\",\"x\":[0,-2.0697813755151793],\"y\":[0,1.002998034679277]},{\"type\":\"scatter\",\"x\":[-2.0697813755151793,-2.4912591855982344],\"y\":[1.002998034679277,0.4441094450591345]}]},{\"data\":[{\"type\":\"scatter\",\"x\":[0,-2.0472477538103373],\"y\":[0,1.0482254693139865]},{\"type\":\"scatter\",\"x\":[-2.0472477538103373,-2.538559413554364],\"y\":[1.0482254693139865,0.5496145458480344]}]},{\"data\":[{\"type\":\"scatter\",\"x\":[0,-2.028987561735559],\"y\":[0,1.0831479466455127]},{\"type\":\"scatter\",\"x\":[-2.028987561735559,-2.582485045330236],\"y\":[1.0831479466455127,0.6546149424855532]}]},{\"data\":[{\"type\":\"scatter\",\"x\":[0,-2.0155826420784306],\"y\":[0,1.1078928707019162]},{\"type\":\"scatter\",\"x\":[-2.0155826420784306,-2.6223416913718185],\"y\":[1.1078928707019162,0.7588320506424542]}]},{\"data\":[{\"type\":\"scatter\",\"x\":[0,-2.0075251704425625],\"y\":[0,1.1224271424193015]},{\"type\":\"scatter\",\"x\":[-2.0075251704425625,-2.6572574436472087],\"y\":[1.1224271424193015,0.8619507074845403]}]},{\"data\":[{\"type\":\"scatter\",\"x\":[0,-2.0052467203629063],\"y\":[0,1.1264926056010347]},{\"type\":\"scatter\",\"x\":[-2.0052467203629063,-2.6860253901363476],\"y\":[1.1264926056010347,0.9635803507473746]}]},{\"data\":[{\"type\":\"scatter\",\"x\":[0,-2.009118256285115],\"y\":[0,1.119573058027862]},{\"type\":\"scatter\",\"x\":[-2.009118256285115,-2.7068394961144255],\"y\":[1.119573058027862,1.0631366204095123]}]},{\"data\":[{\"type\":\"scatter\",\"x\":[0,-2.0193480894081888],\"y\":[0,1.1010146655714883]},{\"type\":\"scatter\",\"x\":[-2.0193480894081888,-2.716896792399937],\"y\":[1.1010146655714883,1.1595450589968663]}]},{\"data\":[{\"type\":\"scatter\",\"x\":[0,-2.035598096430363],\"y\":[0,1.0706728677841248]},{\"type\":\"scatter\",\"x\":[-2.035598096430363,-2.7120716082120464],\"y\":[1.0706728677841248,1.2506272727253673]}]},{\"data\":[{\"type\":\"scatter\",\"x\":[0,-2.0561818802164282],\"y\":[0,1.0305901588263071]},{\"type\":\"scatter\",\"x\":[-2.0561818802164282,-2.6877616230915917],\"y\":[1.0305901588263071,1.3324295671045208]}]},{\"data\":[{\"type\":\"scatter\",\"x\":[0,-2.077774902278925],\"y\":[0,0.9863323250607791]},{\"type\":\"scatter\",\"x\":[-2.077774902278925,-2.642329837073298],\"y\":[0.9863323250607791,1.400189456930367]}]},{\"data\":[{\"type\":\"scatter\",\"x\":[0,-2.0972373200486305],\"y\":[0,0.9442434132125241]},{\"type\":\"scatter\",\"x\":[-2.0972373200486305,-2.579587249385959],\"y\":[0.9442434132125241,1.4515288808422149]}]},{\"data\":[{\"type\":\"scatter\",\"x\":[0,-2.1133691778899246],\"y\":[0,0.9075630655468869]},{\"type\":\"scatter\",\"x\":[-2.1133691778899246,-2.5055895304829967],\"y\":[0.9075630655468869,1.4873588873770947]}]},{\"data\":[{\"type\":\"scatter\",\"x\":[0,-2.1263555495685496],\"y\":[0,0.8767052394157515]},{\"type\":\"scatter\",\"x\":[-2.1263555495685496,-2.4250389410064606],\"y\":[0.8767052394157515,1.5097836166165113]}]},{\"data\":[{\"type\":\"scatter\",\"x\":[0,-2.136752083072488],\"y\":[0,0.851052604417249]},{\"type\":\"scatter\",\"x\":[-2.136752083072488,-2.3408123605222393],\"y\":[0.851052604417249,1.5206490524119576]}]},{\"data\":[{\"type\":\"scatter\",\"x\":[0,-2.1450605049041442],\"y\":[0,0.8298888059857044]},{\"type\":\"scatter\",\"x\":[-2.1450605049041442,-2.254617664695266],\"y\":[0.8298888059857044,1.5212622425151263]}]},{\"data\":[{\"type\":\"scatter\",\"x\":[0,-2.1516427656435337],\"y\":[0,0.812670541519652]},{\"type\":\"scatter\",\"x\":[-2.1516427656435337,-2.167536005698308],\"y\":[0.812670541519652,1.5124900932046283]}]},{\"data\":[{\"type\":\"scatter\",\"x\":[0,-2.1567304880152056],\"y\":[0,0.7990704612646448]},{\"type\":\"scatter\",\"x\":[-2.1567304880152056,-2.0803318902139383],\"y\":[0.7990704612646448,1.4948888673549119]}]},{\"data\":[{\"type\":\"scatter\",\"x\":[0,-2.160447332739447],\"y\":[0,0.7889659830810248]},{\"type\":\"scatter\",\"x\":[-2.160447332739447,-1.993625196260577],\"y\":[0.7889659830810248,1.4687971200412449]}]},{\"data\":[{\"type\":\"scatter\",\"x\":[0,-2.1628244274323736],\"y\":[0,0.7824260323518284]},{\"type\":\"scatter\",\"x\":[-2.1628244274323736,-1.9079969110105268],\"y\":[0.7824260323518284,1.4343945414642496]}]},{\"data\":[{\"type\":\"scatter\",\"x\":[0,-2.163805330674606],\"y\":[0,0.7797092348716654]},{\"type\":\"scatter\",\"x\":[-2.163805330674606,-1.824069170592514],\"y\":[0.7797092348716654,1.3917381079917783]}]},{\"data\":[{\"type\":\"scatter\",\"x\":[0,-2.1632397546686963],\"y\":[0,0.7812770083785373]},{\"type\":\"scatter\",\"x\":[-2.1632397546686963,-1.7425849918598417],\"y\":[0.7812770083785373,1.3407853376518613]}]},{\"data\":[{\"type\":\"scatter\",\"x\":[0,-2.160864503555302],\"y\":[0,0.787822694059201]},{\"type\":\"scatter\",\"x\":[-2.160864503555302,-1.6645098953393167],\"y\":[0.787822694059201,1.2814137220396087]}]},{\"data\":[{\"type\":\"scatter\",\"x\":[0,-2.15626866258789],\"y\":[0,0.8003158468638683]},{\"type\":\"scatter\",\"x\":[-2.15626866258789,-1.5911839441314428],\"y\":[0.8003158468638683,1.2134493131516983]}]},{\"data\":[{\"type\":\"scatter\",\"x\":[0,-2.1488403104242444],\"y\":[0,0.8200520229203979]},{\"type\":\"scatter\",\"x\":[-2.1488403104242444,-1.524569573033725],\"y\":[0.8200520229203979,1.1367317450970744]}]},{\"data\":[{\"type\":\"scatter\",\"x\":[0,-2.137701719568353],\"y\":[0,0.8486644555738769]},{\"type\":\"scatter\",\"x\":[-2.137701719568353,-1.467667624467282],\"y\":[0.8486644555738769,1.0512830909510027]}]},{\"data\":[{\"type\":\"scatter\",\"x\":[0,-2.121689323295991],\"y\":[0,0.8879382948222245]},{\"type\":\"scatter\",\"x\":[-2.121689323295991,-1.4251790351626674],\"y\":[0.8879382948222245,0.9577481689406815]}]},{\"data\":[{\"type\":\"scatter\",\"x\":[0,-2.099614827007875],\"y\":[0,0.9389449282086202]},{\"type\":\"scatter\",\"x\":[-2.099614827007875,-1.4042584237660165],\"y\":[0.9389449282086202,0.858449757728983]}]},{\"data\":[{\"type\":\"scatter\",\"x\":[0,-2.0714152806500654],\"y\":[0,0.9996192950765852]},{\"type\":\"scatter\",\"x\":[-2.0714152806500654,-1.4139928408924245],\"y\":[0.9996192950765852,0.7592118582051125]}]},{\"data\":[{\"type\":\"scatter\",\"x\":[0,-2.040275456333673],\"y\":[0,1.0617325756905183]},{\"type\":\"scatter\",\"x\":[-2.040275456333673,-1.4603531304399846],\"y\":[1.0617325756905183,0.6696992914785079]}]},{\"data\":[{\"type\":\"scatter\",\"x\":[0,-2.012411010677193],\"y\":[0,1.113643535474973]},{\"type\":\"scatter\",\"x\":[-2.012411010677193,-1.5391346443127039],\"y\":[1.113643535474973,0.5978824657529302]}]},{\"data\":[{\"type\":\"scatter\",\"x\":[0,-1.9927985855527124],\"y\":[0,1.1483700611819814]},{\"type\":\"scatter\",\"x\":[-1.9927985855527124,-1.6389286392564806],\"y\":[1.1483700611819814,0.5444031240833501]}]},{\"data\":[{\"type\":\"scatter\",\"x\":[0,-1.9830534524950942],\"y\":[0,1.1651175925833777]},{\"type\":\"scatter\",\"x\":[-1.9830534524950942,-1.7497222255249705],\"y\":[1.1651175925833777,0.5051505187678603]}]},{\"data\":[{\"type\":\"scatter\",\"x\":[0,-1.9827171968930393],\"y\":[0,1.165689717353897]},{\"type\":\"scatter\",\"x\":[-1.9827171968930393,-1.865515699154368],\"y\":[1.165689717353897,0.4755710254408231]}]},{\"data\":[{\"type\":\"scatter\",\"x\":[0,-1.9906261791899151],\"y\":[0,1.1521316828920896]},{\"type\":\"scatter\",\"x\":[-1.9906261791899151,-1.9831272755692964],\"y\":[1.1521316828920896,0.45217185086993084]}]},{\"data\":[{\"type\":\"scatter\",\"x\":[0,-2.005514845808929],\"y\":[0,1.126015187837175]},{\"type\":\"scatter\",\"x\":[-2.005514845808929,-2.1008779187792093],\"y\":[1.126015187837175,0.43254140728475565]}]},{\"data\":[{\"type\":\"scatter\",\"x\":[0,-2.0262062947935346],\"y\":[0,1.0883418814596149]},{\"type\":\"scatter\",\"x\":[-2.0262062947935346,-2.2178231488161626],\"y\":[1.0883418814596149,0.4150789452642003]}]},{\"data\":[{\"type\":\"scatter\",\"x\":[0,-2.051649331261635],\"y\":[0,1.039584061792834]},{\"type\":\"scatter\",\"x\":[-2.051649331261635,-2.3333421088695006],\"y\":[1.039584061792834,0.3987649148850926]}]},{\"data\":[{\"type\":\"scatter\",\"x\":[0,-2.0809036734962367],\"y\":[0,0.9797141938493426]},{\"type\":\"scatter\",\"x\":[-2.0809036734962367,-2.4468941455111235],\"y\":[0.9797141938493426,0.38301412313179983]}]},{\"data\":[{\"type\":\"scatter\",\"x\":[0,-2.113105493442785],\"y\":[0,0.908176840478727]},{\"type\":\"scatter\",\"x\":[-2.113105493442785,-2.557825278992564],\"y\":[0.908176840478727,0.36759908257468754]}]},{\"data\":[{\"type\":\"scatter\",\"x\":[0,-2.1474167217620006],\"y\":[0,0.8237726768332037]},{\"type\":\"scatter\",\"x\":[-2.1474167217620006,-2.665128522753487],\"y\":[0.8237726768332037,0.35263098783280156]}]},{\"data\":[{\"type\":\"scatter\",\"x\":[0,-2.1829396334156974],\"y\":[0,0.7244132500603095]},{\"type\":\"scatter\",\"x\":[-2.1829396334156974,-2.767012322457953],\"y\":[0.7244132500603095,0.3385906303048729]}]},{\"data\":[{\"type\":\"scatter\",\"x\":[0,-2.2185318247546237],\"y\":[0,0.6067260852731804]},{\"type\":\"scatter\",\"x\":[-2.2185318247546237,-2.8599387307212],\"y\":[0.6067260852731804,0.326374197499291]}]},{\"data\":[{\"type\":\"scatter\",\"x\":[0,-2.252316056136153],\"y\":[0,0.46591027384173883]},{\"type\":\"scatter\",\"x\":[-2.252316056136153,-2.936311545165042],\"y\":[0.46591027384173883,0.31708093873561427]}]},{\"data\":[{\"type\":\"scatter\",\"x\":[0,-2.28047712332308],\"y\":[0,0.2990386095474787]},{\"type\":\"scatter\",\"x\":[-2.28047712332308,-2.980390005105099],\"y\":[0.2990386095474787,0.3100820653286136]}]},{\"data\":[{\"type\":\"scatter\",\"x\":[0,-2.2969623432292217],\"y\":[0,0.11816934368490944]},{\"type\":\"scatter\",\"x\":[-2.2969623432292217,-2.9735151858923534],\"y\":[0.11816934368490944,0.2978252678411573]}]},{\"data\":[{\"type\":\"scatter\",\"x\":[0,-2.2993967492725664],\"y\":[0,-0.05267437170725029]},{\"type\":\"scatter\",\"x\":[-2.2993967492725664,-2.920491863642097],\"y\":[-0.05267437170725029,0.2701891581413524]}]},{\"data\":[{\"type\":\"scatter\",\"x\":[0,-2.2907861912089347],\"y\":[0,-0.20566629808128847]},{\"type\":\"scatter\",\"x\":[-2.2907861912089347,-2.841804575039877],\"y\":[-0.20566629808128847,0.22604974364097216]}]},{\"data\":[{\"type\":\"scatter\",\"x\":[0,-2.2740789092971667],\"y\":[0,-0.3443328539216189]},{\"type\":\"scatter\",\"x\":[-2.2740789092971667,-2.750531998721737],\"y\":[-0.3443328539216189,0.16849504467378945]}]},{\"data\":[{\"type\":\"scatter\",\"x\":[0,-2.25084617235257],\"y\":[0,-0.4729603666331723]},{\"type\":\"scatter\",\"x\":[-2.25084617235257,-2.6527338281335746],\"y\":[-0.4729603666331723,0.10017688754844933]}]},{\"data\":[{\"type\":\"scatter\",\"x\":[0,-2.2217929968955668],\"y\":[0,-0.594672917615906]},{\"type\":\"scatter\",\"x\":[-2.2217929968955668,-2.551333220710388],\"y\":[-0.594672917615906,0.022905612522632235]}]},{\"data\":[{\"type\":\"scatter\",\"x\":[0,-2.1871314416846195],\"y\":[0,-0.7116572607614966]},{\"type\":\"scatter\",\"x\":[-2.1871314416846195,-2.4478916934696175],\"y\":[-0.7116572607614966,-0.06203884115732283]}]},{\"data\":[{\"type\":\"scatter\",\"x\":[0,-2.146754216487295],\"y\":[0,-0.82549762809715]},{\"type\":\"scatter\",\"x\":[-2.146754216487295,-2.3433191473758854],\"y\":[-0.82549762809715,-0.15366265733069495]}]},{\"data\":[{\"type\":\"scatter\",\"x\":[0,-2.1003076269230414],\"y\":[0,-0.937394192583303]},{\"type\":\"scatter\",\"x\":[-2.1003076269230414,-2.238174609861213],\"y\":[-0.937394192583303,-0.25110511718174466]}]},{\"data\":[{\"type\":\"scatter\",\"x\":[0,-2.04721656862391],\"y\":[0,-1.0482863736363948]},{\"type\":\"scatter\",\"x\":[-2.04721656862391,-2.132801999707805],\"y\":[-1.0482863736363948,-0.3535381213995261]}]},{\"data\":[{\"type\":\"scatter\",\"x\":[0,-1.986687816752131],\"y\":[0,-1.15890962493572]},{\"type\":\"scatter\",\"x\":[-1.986687816752131,-2.027393416671285],\"y\":[-1.15890962493572,-0.46009415992709435]}]},{\"data\":[{\"type\":\"scatter\",\"x\":[0,-1.917708974132396],\"y\":[0,-1.2698000986502058]},{\"type\":\"scatter\",\"x\":[-1.917708974132396,-1.9220197975481832],\"y\":[-1.2698000986502058,-0.5698133724892894]}]},{\"data\":[{\"type\":\"scatter\",\"x\":[0,-1.8390597168627587],\"y\":[0,-1.381252821829758]},{\"type\":\"scatter\",\"x\":[-1.8390597168627587,-1.816650981984761],\"y\":[-1.381252821829758,-0.6816115933410649]}]},{\"data\":[{\"type\":\"scatter\",\"x\":[0,-1.7493534740272192],\"y\":[0,-1.4932389034943132]},{\"type\":\"scatter\",\"x\":[-1.7493534740272192,-1.7111820491651564],\"y\":[-1.4932389034943132,-0.7942804338239043]}]},{\"data\":[{\"type\":\"scatter\",\"x\":[0,-1.6471260363031655],\"y\":[0,-1.6052961784456545]},{\"type\":\"scatter\",\"x\":[-1.6471260363031655,-1.605479813008478],\"y\":[-1.6052961784456545,-0.9065361394585292]}]},{\"data\":[{\"type\":\"scatter\",\"x\":[0,-1.5309787681292237],\"y\":[0,-1.7164218629280867]},{\"type\":\"scatter\",\"x\":[-1.5309787681292237,-1.4994549594637392],\"y\":[-1.7164218629280867,-1.0171320449790322]}]},{\"data\":[{\"type\":\"scatter\",\"x\":[0,-1.3997697239051397],\"y\":[0,-1.8250054027422846]},{\"type\":\"scatter\",\"x\":[-1.3997697239051397,-1.3931471689682424],\"y\":[-1.8250054027422846,-1.1250367307532394]}]},{\"data\":[{\"type\":\"scatter\",\"x\":[0,-1.252835236274695],\"y\":[0,-1.9288348479713155]},{\"type\":\"scatter\",\"x\":[-1.252835236274695,-1.2867868346224391],\"y\":[-1.9288348479713155,-1.229658697799105]}]},{\"data\":[{\"type\":\"scatter\",\"x\":[0,-1.0902259159084224],\"y\":[0,-2.0251931888789376]},{\"type\":\"scatter\",\"x\":[-1.0902259159084224,-1.1807809369594342],\"y\":[-2.0251931888789376,-1.3310751959105587]}]},{\"data\":[{\"type\":\"scatter\",\"x\":[0,-0.9129482554172733],\"y\":[0,-2.11104843216127]},{\"type\":\"scatter\",\"x\":[-0.9129482554172733,-1.0755770562848534],\"y\":[-2.11104843216127,-1.4302019934334371]}]},{\"data\":[{\"type\":\"scatter\",\"x\":[0,-0.7231948494133347],\"y\":[0,-2.1833435849132914]},{\"type\":\"scatter\",\"x\":[-0.7231948494133347,-0.9713965755230278],\"y\":[-2.1833435849132914,-1.528823987684783]}]},{\"data\":[{\"type\":\"scatter\",\"x\":[0,-0.5245078747190296],\"y\":[0,-2.239395340121464]},{\"type\":\"scatter\",\"x\":[-0.5245078747190296,-0.8678940134306254],\"y\":[-2.239395340121464,-1.6294068486392552]}]},{\"data\":[{\"type\":\"scatter\",\"x\":[0,-0.3217721053247929],\"y\":[0,-2.277380669153677]},{\"type\":\"scatter\",\"x\":[-0.3217721053247929,-0.7638719319694617],\"y\":[-2.277380669153677,-1.7346581403410672]}]},{\"data\":[{\"type\":\"scatter\",\"x\":[0,-0.12093440804100729],\"y\":[0,-2.2968184231566435]},{\"type\":\"scatter\",\"x\":[-0.12093440804100729,-0.6572063101722192],\"y\":[-2.2968184231566435,-1.8469157148023019]}]},{\"data\":[{\"type\":\"scatter\",\"x\":[0,0.07155614207614933],\"y\":[0,-2.2988866258541716]},{\"type\":\"scatter\",\"x\":[0.07155614207614933,-0.5450629600797419],\"y\":[-2.2988866258541716,-1.9675546430084725]}]},{\"data\":[{\"type\":\"scatter\",\"x\":[0,0.24943761413809482],\"y\":[0,-2.2864340962846694]},{\"type\":\"scatter\",\"x\":[0.24943761413809482,-0.42433498995133323],\"y\":[-2.2864340962846694,-2.096617137140997]}]},{\"data\":[{\"type\":\"scatter\",\"x\":[0,0.4072037268990384],\"y\":[0,-2.2636663015558485]},{\"type\":\"scatter\",\"x\":[0.4072037268990384,-0.29211301305828163],\"y\":[-2.2636663015558485,-2.232745479841896]}]},{\"data\":[{\"type\":\"scatter\",\"x\":[0,0.5403264683936999],\"y\":[0,-2.2356312995557186]},{\"type\":\"scatter\",\"x\":[0.5403264683936999,-0.14599905891089426],\"y\":[-2.2356312995557186,-2.3733167039022605]}]},{\"data\":[{\"type\":\"scatter\",\"x\":[0,0.6450043863550798],\"y\":[0,-2.207706806073376]},{\"type\":\"scatter\",\"x\":[0.6450043863550798,0.015832182230072434],\"y\":[-2.207706806073376,-2.514533039561453]}]},{\"data\":[{\"type\":\"scatter\",\"x\":[0,0.71734210209959],\"y\":[0,-2.185273508866874]},{\"type\":\"scatter\",\"x\":[0.71734210209959,0.19481726447212244],\"y\":[-2.185273508866874,-2.6510715273924883]}]},{\"data\":[{\"type\":\"scatter\",\"x\":[0,0.7517048528032245],\"y\":[0,-2.1736926678516633]},{\"type\":\"scatter\",\"x\":[0.7517048528032245,0.39231028542902124],\"y\":[-2.1736926678516633,-2.774388551757912]}]},{\"data\":[{\"type\":\"scatter\",\"x\":[0,0.7379221438326067],\"y\":[0,-2.1784101793834623]},{\"type\":\"scatter\",\"x\":[0.7379221438326067,0.609138146855482],\"y\":[-2.1784101793834623,-2.866461545287634]}]},{\"data\":[{\"type\":\"scatter\",\"x\":[0,0.6661128189464396],\"y\":[0,-2.201429924488905]},{\"type\":\"scatter\",\"x\":[0.6661128189464396,0.836378101810967],\"y\":[-2.201429924488905,-2.880406900130246]}]},{\"data\":[{\"type\":\"scatter\",\"x\":[0,0.5841306086119487],\"y\":[0,-2.224587924106987]},{\"type\":\"scatter\",\"x\":[0.5841306086119487,1.0289169039315706],\"y\":[-2.224587924106987,-2.765110959227458]}]},{\"data\":[{\"type\":\"scatter\",\"x\":[0,0.5559985589411128],\"y\":[0,-2.231785294882867]},{\"type\":\"scatter\",\"x\":[0.5559985589411128,1.1651747142015734],\"y\":[-2.231785294882867,-2.5766104851780125]}]},{\"data\":[{\"type\":\"scatter\",\"x\":[0,0.5776111394953528],\"y\":[0,-2.2262895974088543]},{\"type\":\"scatter\",\"x\":[0.5776111394953528,1.2630804168145677],\"y\":[-2.2262895974088543,-2.3681764179788884]}]},{\"data\":[{\"type\":\"scatter\",\"x\":[0,0.6366662810478866],\"y\":[0,-2.2101257988125136]},{\"type\":\"scatter\",\"x\":[0.6366662810478866,1.3346951577575488],\"y\":[-2.2101257988125136,-2.1576311583294414]}]},{\"data\":[{\"type\":\"scatter\",\"x\":[0,0.725302014652297],\"y\":[0,-2.18264449408082]},{\"type\":\"scatter\",\"x\":[0.725302014652297,1.3863100799655657],\"y\":[-2.18264449408082,-1.9522788334653336]}]},{\"data\":[{\"type\":\"scatter\",\"x\":[0,0.8378327890896372],\"y\":[0,-2.1419701719506454]},{\"type\":\"scatter\",\"x\":[0.8378327890896372,1.4219928129142918],\"y\":[-2.1419701719506454,-1.7562797953981848]}]},{\"data\":[{\"type\":\"scatter\",\"x\":[0,0.9691941878983752],\"y\":[0,-2.085824207871797]},{\"type\":\"scatter\",\"x\":[0.9691941878983752,1.4450595338416696],\"y\":[-2.085824207871797,-1.5724508812075957]}]},{\"data\":[{\"type\":\"scatter\",\"x\":[0,1.1142194522682007],\"y\":[0,-2.0120921977352704]},{\"type\":\"scatter\",\"x\":[1.1142194522682007,1.458649721044469],\"y\":[-2.0120921977352704,-1.4026926654490144]}]},{\"data\":[{\"type\":\"scatter\",\"x\":[0,1.267408925708352],\"y\":[0,-1.919290133105154]},{\"type\":\"scatter\",\"x\":[1.267408925708352,1.465877955377096],\"y\":[-1.919290133105154,-1.2480151937082276]}]},{\"data\":[{\"type\":\"scatter\",\"x\":[0,1.4230384167452352],\"y\":[0,-1.806920492015964]},{\"type\":\"scatter\",\"x\":[1.4230384167452352,1.4697343328490475],\"y\":[-1.806920492015964,-1.1084797347435769]}]},{\"data\":[{\"type\":\"scatter\",\"x\":[0,1.5755012114555438],\"y\":[0,-1.6756479143012453]},{\"type\":\"scatter\",\"x\":[1.5755012114555438,1.4728397308982888],\"y\":[-1.6756479143012453,-0.9832169643793109]}]},{\"data\":[{\"type\":\"scatter\",\"x\":[0,1.7197546237431744],\"y\":[0,-1.527234112411706]},{\"type\":\"scatter\",\"x\":[1.7197546237431744,1.4771764006569994],\"y\":[-1.527234112411706,-0.8706095578263982]}]},{\"data\":[{\"type\":\"scatter\",\"x\":[0,1.8517143510106682],\"y\":[0,-1.364241167191908]},{\"type\":\"scatter\",\"x\":[1.8517143510106682,1.4839310634257863],\"y\":[-1.364241167191908,-0.7686444467734221]}]},{\"data\":[{\"type\":\"scatter\",\"x\":[0,1.9684603388104887],\"y\":[0,-1.1896066133516978]},{\"type\":\"scatter\",\"x\":[1.9684603388104887,1.493555393131464],\"y\":[-1.1896066133516978,-0.6753447223179536]}]},{\"data\":[{\"type\":\"scatter\",\"x\":[0,2.06820119299821],\"y\":[0,-1.0062523665963625]},{\"type\":\"scatter\",\"x\":[2.06820119299821,1.5060549233594314],\"y\":[-1.0062523665963625,-0.5891293972801125]}]},{\"data\":[{\"type\":\"scatter\",\"x\":[0,2.1500527648132],\"y\":[0,-0.8168678647854332]},{\"type\":\"scatter\",\"x\":[2.1500527648132,1.521406137721532],\"y\":[-0.8168678647854332,-0.508966227494773]}]},{\"data\":[{\"type\":\"scatter\",\"x\":[0,2.2137580752594466],\"y\":[0,-0.6239192128982635]},{\"type\":\"scatter\",\"x\":[2.2137580752594466,1.5399381641996586],\"y\":[-0.6239192128982635,-0.434270254400255]}]},{\"data\":[{\"type\":\"scatter\",\"x\":[0,2.259478444053613],\"y\":[0,-0.4298338758835347]},{\"type\":\"scatter\",\"x\":[2.259478444053613,1.5625242400655504],\"y\":[-0.4298338758835347,-0.3646047601194374]}]},{\"data\":[{\"type\":\"scatter\",\"x\":[0,2.287732593053202],\"y\":[0,-0.23723318208478167]},{\"type\":\"scatter\",\"x\":[2.287732593053202,1.5904914777284174],\"y\":[-0.23723318208478167,-0.29932043601544117]}]},{\"data\":[{\"type\":\"scatter\",\"x\":[0,2.2994768705043604],\"y\":[0,-0.049052237619426294]},{\"type\":\"scatter\",\"x\":[2.2994768705043604,1.6252655289424593],\"y\":[-0.049052237619426294,-0.23730490535431187]}]},{\"data\":[{\"type\":\"scatter\",\"x\":[0,2.2962338554378516],\"y\":[0,0.13156778154630963]},{\"type\":\"scatter\",\"x\":[2.2962338554378516,1.6679020051328814],\"y\":[0.13156778154630963,-0.17697570954098027]}]},{\"data\":[{\"type\":\"scatter\",\"x\":[0,2.280140231800146],\"y\":[0,0.30159662353278477]},{\"type\":\"scatter\",\"x\":[2.280140231800146,1.7187317059255331],\"y\":[0.30159662353278477,-0.11651875178280224]}]},{\"data\":[{\"type\":\"scatter\",\"x\":[0,2.2538384111011527],\"y\":[0,0.4584892764776837]},{\"type\":\"scatter\",\"x\":[2.2538384111011527,1.7772713212663052],\"y\":[0.4584892764776837,-0.05423268412703258]}]},{\"data\":[{\"type\":\"scatter\",\"x\":[0,2.220239176664248],\"y\":[0,0.6004481646281054]},{\"type\":\"scatter\",\"x\":[2.220239176664248,1.8423815380313957],\"y\":[0.6004481646281054,0.011191340376739856]}]},{\"data\":[{\"type\":\"scatter\",\"x\":[0,2.1822467195746795],\"y\":[0,0.7264979386794909]},{\"type\":\"scatter\",\"x\":[2.1822467195746795,1.9125422061055666],\"y\":[0.7264979386794909,0.08054168984030752]}]},{\"data\":[{\"type\":\"scatter\",\"x\":[0,2.142530001352049],\"y\":[0,0.8364001394705697]},{\"type\":\"scatter\",\"x\":[2.142530001352049,1.9861176835375245],\"y\":[0.8364001394705697,0.15409874944128932]}]},{\"data\":[{\"type\":\"scatter\",\"x\":[0,2.103380041922708],\"y\":[0,0.9304796608423133]},{\"type\":\"scatter\",\"x\":[2.103380041922708,2.0615471636312956],\"y\":[0.9304796608423133,0.231730771545267]}]},{\"data\":[{\"type\":\"scatter\",\"x\":[0,2.0666528035530116],\"y\":[0,1.0094286451089427]},{\"type\":\"scatter\",\"x\":[2.0666528035530116,2.1374494259488346],\"y\":[1.0094286451089427,0.3130179629268389]}]},{\"data\":[{\"type\":\"scatter\",\"x\":[0,2.0337770700359927],\"y\":[0,1.0741279390257998]},{\"type\":\"scatter\",\"x\":[2.0337770700359927,2.212658262984828],\"y\":[1.0741279390257998,0.3973698442761312]}]},{\"data\":[{\"type\":\"scatter\",\"x\":[0,2.0058026340600468],\"y\":[0,1.125502462546296]},{\"type\":\"scatter\",\"x\":[2.0058026340600468,2.286210618538826],\"y\":[1.125502462546296,0.48412007875286134]}]},{\"data\":[{\"type\":\"scatter\",\"x\":[0,1.9834683655589276],\"y\":[0,1.164411114180466]},{\"type\":\"scatter\",\"x\":[1.9834683655589276,2.357305109973984],\"y\":[1.164411114180466,0.5725951896522797]}]},{\"data\":[{\"type\":\"scatter\",\"x\":[0,1.9672764583222706],\"y\":[0,1.1915634001306783]},{\"type\":\"scatter\",\"x\":[1.9672764583222706,2.4252408899199898],\"y\":[1.1915634001306783,0.6621594150763742]}]},{\"data\":[{\"type\":\"scatter\",\"x\":[0,1.957565316267836],\"y\":[0,1.2074510476806943]},{\"type\":\"scatter\",\"x\":[1.957565316267836,2.4893380404304164],\"y\":[1.2074510476806943,0.7522392619845106]}]},{\"data\":[{\"type\":\"scatter\",\"x\":[0,1.954577897768327],\"y\":[0,1.2122810076692394]},{\"type\":\"scatter\",\"x\":[1.954577897768327,2.548829990601478],\"y\":[1.2122810076692394,0.8423290511080939]}]},{\"data\":[{\"type\":\"scatter\",\"x\":[0,1.9585237619165359],\"y\":[0,1.2058957973259132]},{\"type\":\"scatter\",\"x\":[1.9585237619165359,2.602701885761815],\"y\":[1.2058957973259132,0.9319714560212823]}]},{\"data\":[{\"type\":\"scatter\",\"x\":[0,1.9696273773061364],\"y\":[0,1.1876733534798825]},{\"type\":\"scatter\",\"x\":[1.9696273773061364,2.6494182703283635],\"y\":[1.1876733534798825,1.0206873008765505]}]},{\"data\":[{\"type\":\"scatter\",\"x\":[0,1.9881250570469435],\"y\":[0,1.156442284570262]},{\"type\":\"scatter\",\"x\":[1.9881250570469435,2.686431089726751],\"y\":[1.156442284570262,1.1077731493510359]}]},{\"data\":[{\"type\":\"scatter\",\"x\":[0,2.0140562590292053],\"y\":[0,1.1106652895743532]},{\"type\":\"scatter\",\"x\":[2.0140562590292053,2.7093452850178465],\"y\":[1.1106652895743532,1.1917403803221684]}]},{\"data\":[{\"type\":\"scatter\",\"x\":[0,2.046400161281401],\"y\":[0,1.0498792215809658]},{\"type\":\"scatter\",\"x\":[2.046400161281401,2.7112131907729884],\"y\":[1.0498792215809658,1.269022179072685]}]},{\"data\":[{\"type\":\"scatter\",\"x\":[0,2.081441238250458],\"y\":[0,0.978571597641378]},{\"type\":\"scatter\",\"x\":[2.081441238250458,2.6851383116687786],\"y\":[0.978571597641378,1.3329017311978604]}]},{\"data\":[{\"type\":\"scatter\",\"x\":[0,2.1136476297711217],\"y\":[0,0.9069143824876299]},{\"type\":\"scatter\",\"x\":[2.1136476297711217,2.6321177427336138],\"y\":[0.9069143824876299,1.3772214544785375]}]},{\"data\":[{\"type\":\"scatter\",\"x\":[0,2.1401794526781326],\"y\":[0,0.8423965279690598]},{\"type\":\"scatter\",\"x\":[2.1401794526781326,2.561076800970992],\"y\":[0.8423965279690598,1.401722392023315]}]},{\"data\":[{\"type\":\"scatter\",\"x\":[0,2.16135866865563],\"y\":[0,0.786465959484047]},{\"type\":\"scatter\",\"x\":[2.16135866865563,2.480218154149721],\"y\":[0.786465959484047,1.4096261543861632]}]},{\"data\":[{\"type\":\"scatter\",\"x\":[0,2.17835532465404],\"y\":[0,0.7380840599494007]},{\"type\":\"scatter\",\"x\":[2.17835532465404,2.3942851886998655],\"y\":[0.7380840599494007,1.4039476299193694]}]},{\"data\":[{\"type\":\"scatter\",\"x\":[0,2.1921670480628372],\"y\":[0,0.6959911158825701]},{\"type\":\"scatter\",\"x\":[2.1921670480628372,2.3058106251161425],\"y\":[0.6959911158825701,1.3867046146608475]}]},{\"data\":[{\"type\":\"scatter\",\"x\":[0,2.203490830734906],\"y\":[0,0.6592633456117462]},{\"type\":\"scatter\",\"x\":[2.203490830734906,2.216252527731708],\"y\":[0.6592633456117462,1.359147006722478]}]},{\"data\":[{\"type\":\"scatter\",\"x\":[0,2.2127873393824204],\"y\":[0,0.6273533220354132]},{\"type\":\"scatter\",\"x\":[2.2127873393824204,2.1265762441646205],\"y\":[0.6273533220354132,1.322024213221554]}]},{\"data\":[{\"type\":\"scatter\",\"x\":[0,2.2203482314083813],\"y\":[0,0.6000447743974386]},{\"type\":\"scatter\",\"x\":[2.2203482314083813,2.037543673844078],\"y\":[0.6000447743974386,1.2757536567822414]}]},{\"data\":[{\"type\":\"scatter\",\"x\":[0,2.226339139086204],\"y\":[0,0.5774201570545483]},{\"type\":\"scatter\",\"x\":[2.226339139086204,1.9498803025480387],\"y\":[0.5774201570545483,1.2205146382157257]}]},{\"data\":[{\"type\":\"scatter\",\"x\":[0,2.2308202139177893],\"y\":[0,0.5598581723756373]},{\"type\":\"scatter\",\"x\":[2.2308202139177893,1.864404621861779],\"y\":[0.5598581723756373,1.156297284019268]}]},{\"data\":[{\"type\":\"scatter\",\"x\":[0,2.2337473215949855],\"y\":[0,0.5480628643387806]},{\"type\":\"scatter\",\"x\":[2.2337473215949855,1.782171854418343],\"y\":[0.5480628643387806,1.0829269568372366]}]},{\"data\":[{\"type\":\"scatter\",\"x\":[0,2.2349538999740313],\"y\":[0,0.5431215931914932]},{\"type\":\"scatter\",\"x\":[2.2349538999740313,1.7046838891747078],\"y\":[0.5431215931914932,1.0000829872357662]}]},{\"data\":[{\"type\":\"scatter\",\"x\":[0,2.2341121722717894],\"y\":[0,0.5465736928420776]},{\"type\":\"scatter\",\"x\":[2.2341121722717894,1.6342431428397788],\"y\":[0.5465736928420776,0.9073466789819737]}]},{\"data\":[{\"type\":\"scatter\",\"x\":[0,2.2306833251497826],\"y\":[0,0.560403339478547]},{\"type\":\"scatter\",\"x\":[2.2306833251497826,1.5745749987843833],\"y\":[0.560403339478547,0.8043743706974081]}]},{\"data\":[{\"type\":\"scatter\",\"x\":[0,2.2239317217186714],\"y\":[0,0.5866239827465511]},{\"type\":\"scatter\",\"x\":[2.2239317217186714,1.531827364531504],\"y\":[0.5866239827465511,0.6914646178196829]}]},{\"data\":[{\"type\":\"scatter\",\"x\":[0,2.213311875584702],\"y\":[0,0.6255002329301941]},{\"type\":\"scatter\",\"x\":[2.213311875584702,1.5154312831109487],\"y\":[0.6255002329301941,0.5710697391929254]}]},{\"data\":[{\"type\":\"scatter\",\"x\":[0,2.1997810591778246],\"y\":[0,0.6715380046449247]},{\"type\":\"scatter\",\"x\":[2.1997810591778246,1.5357507140526971],\"y\":[0.6715380046449247,0.45003472983165305]}]},{\"data\":[{\"type\":\"scatter\",\"x\":[0,2.18698299200837],\"y\":[0,0.7121133285272208]},{\"type\":\"scatter\",\"x\":[2.18698299200837,1.5952808526150049],\"y\":[0.7121133285272208,0.33809651307995436]}]},{\"data\":[{\"type\":\"scatter\",\"x\":[0,2.1790714180447903],\"y\":[0,0.7359672241752794]},{\"type\":\"scatter\",\"x\":[2.1790714180447903,1.684576894759786],\"y\":[0.7359672241752794,0.24051271925970574]}]},{\"data\":[{\"type\":\"scatter\",\"x\":[0,2.1778229128661795],\"y\":[0,0.7396535406493158]},{\"type\":\"scatter\",\"x\":[2.1778229128661795,1.791381582640852],\"y\":[0.7396535406493158,0.1559900260335062]}]},{\"data\":[{\"type\":\"scatter\",\"x\":[0,2.182940295420999],\"y\":[0,0.724411255177113]},{\"type\":\"scatter\",\"x\":[2.182940295420999,1.907336277248613],\"y\":[0.724411255177113,0.08094997027549977]}]},{\"data\":[{\"type\":\"scatter\",\"x\":[0,2.1933028469775513],\"y\":[0,0.6924035105631453]},{\"type\":\"scatter\",\"x\":[2.1933028469775513,2.027816369680123],\"y\":[0.6924035105631453,0.012246009809321667]}]},{\"data\":[{\"type\":\"scatter\",\"x\":[0,2.2076070810075787],\"y\":[0,0.6453456251383415]},{\"type\":\"scatter\",\"x\":[2.2076070810075787,2.1503255427164443],\"y\":[0.6453456251383415,-0.052306741998043416]}]},{\"data\":[{\"type\":\"scatter\",\"x\":[0,2.224560457099324],\"y\":[0,0.5842352032444167]},{\"type\":\"scatter\",\"x\":[2.224560457099324,2.273417403123778],\"y\":[0.5842352032444167,-0.11405771439485268]}]},{\"data\":[{\"type\":\"scatter\",\"x\":[0,2.242894201650942],\"y\":[0,0.5093383945871185]},{\"type\":\"scatter\",\"x\":[2.242894201650942,2.3960955266478945],\"y\":[0.5093383945871185,-0.17369114651573747]}]},{\"data\":[{\"type\":\"scatter\",\"x\":[0,2.261298852465138],\"y\":[0,0.4201517581063401]},{\"type\":\"scatter\",\"x\":[2.261298852465138,2.5174293000260324],\"y\":[0.4201517581063401,-0.23130598713294703]}]},{\"data\":[{\"type\":\"scatter\",\"x\":[0,2.278295334709572],\"y\":[0,0.31523065815462725]},{\"type\":\"scatter\",\"x\":[2.278295334709572,2.6361738644370316],\"y\":[0.31523065815462725,-0.2863696725967044]}]},{\"data\":[{\"type\":\"scatter\",\"x\":[0,2.2919905323091077],\"y\":[0,0.19177956044743824]},{\"type\":\"scatter\",\"x\":[2.2919905323091077,2.75011691712248],\"y\":[0.19177956044743824,-0.3374842825815656]}]},{\"data\":[{\"type\":\"scatter\",\"x\":[0,2.2995615870357304],\"y\":[0,0.044905538964711694]},{\"type\":\"scatter\",\"x\":[2.2995615870357304,2.854448785786465],\"y\":[0.044905538964711694,-0.38182645733104614]}]},{\"data\":[{\"type\":\"scatter\",\"x\":[0,2.2961746109902186],\"y\":[0,-0.13259772186549157]},{\"type\":\"scatter\",\"x\":[2.2961746109902186,2.9369813718888906],\"y\":[-0.13259772186549157,-0.41431867455902543]}]},{\"data\":[{\"type\":\"scatter\",\"x\":[0,2.2746007245831437],\"y\":[0,-0.3408688072057007]},{\"type\":\"scatter\",\"x\":[2.2746007245831437,2.968852618187844],\"y\":[-0.3408688072057007,-0.43039147599013494]}]},{\"data\":[{\"type\":\"scatter\",\"x\":[0,2.233795503006352],\"y\":[0,-0.5478664533885961]},{\"type\":\"scatter\",\"x\":[2.233795503006352,2.9255184959375438],\"y\":[-0.5478664533885961,-0.4405384465575996]}]},{\"data\":[{\"type\":\"scatter\",\"x\":[0,2.1825084215786488],\"y\":[0,-0.7257113680646554]},{\"type\":\"scatter\",\"x\":[2.1825084215786488,2.830483308213841],\"y\":[-0.7257113680646554,-0.46089341872943795]}]},{\"data\":[{\"type\":\"scatter\",\"x\":[0,2.125895683544174],\"y\":[0,-0.8778197666310829]},{\"type\":\"scatter\",\"x\":[2.125895683544174,2.711422001452599],\"y\":[-0.8778197666310829,-0.4942067701924825]}]},{\"data\":[{\"type\":\"scatter\",\"x\":[0,2.0652650041276837],\"y\":[0,-1.0122650160533444]},{\"type\":\"scatter\",\"x\":[2.0652650041276837,2.5807801737251586],\"y\":[-1.0122650160533444,-0.5387208154607424]}]},{\"data\":[{\"type\":\"scatter\",\"x\":[0,2.0007266345560235],\"y\":[0,-1.1345011828015548]},{\"type\":\"scatter\",\"x\":[2.0007266345560235,2.4439478800120273],\"y\":[-1.1345011828015548,-0.59269408836994]}]},{\"data\":[{\"type\":\"scatter\",\"x\":[0,1.9319742922025214],\"y\":[0,-1.2479885152791135]},{\"type\":\"scatter\",\"x\":[1.9319742922025214,2.3036084420969454],\"y\":[-1.2479885152791135,-0.6547869823813564]}]},{\"data\":[{\"type\":\"scatter\",\"x\":[0,1.8584709644319857],\"y\":[0,-1.3550223888789603]},{\"type\":\"scatter\",\"x\":[1.8584709644319857,2.1612820212159276],\"y\":[-1.3550223888789603,-0.7239079270819007]}]},{\"data\":[{\"type\":\"scatter\",\"x\":[0,1.7794847267258627],\"y\":[0,-1.4572007779813259]},{\"type\":\"scatter\",\"x\":[1.7794847267258627,2.0179163549874017],\"y\":[-1.4572007779813259,-0.7990591833038955]}]},{\"data\":[{\"type\":\"scatter\",\"x\":[0,1.694082139811971],\"y\":[0,-1.555662464537244]},{\"type\":\"scatter\",\"x\":[1.694082139811971,1.8741366723013069],\"y\":[-1.555662464537244,-0.8792155964610835]}]},{\"data\":[{\"type\":\"scatter\",\"x\":[0,1.6011157049762763],\"y\":[0,-1.6511900251873861]},{\"type\":\"scatter\",\"x\":[1.6011157049762763,1.7303570722886474],\"y\":[-1.6511900251873861,-0.9632244235943787]}]},{\"data\":[{\"type\":\"scatter\",\"x\":[0,1.4992308469669373],\"y\":[0,-1.7442209915898843]},{\"type\":\"scatter\",\"x\":[1.4992308469669373,1.5868306733946016],\"y\":[-1.7442209915898843,-1.049723856671501]}]},{\"data\":[{\"type\":\"scatter\",\"x\":[0,1.3869197740055683],\"y\":[0,-1.8347897810028109]},{\"type\":\"scatter\",\"x\":[1.3869197740055683,1.4436775821460095],\"y\":[-1.8347897810028109,-1.1370946103049675]}]},{\"data\":[{\"type\":\"scatter\",\"x\":[0,1.2626457143834457],\"y\":[0,-1.9224270597214128]},{\"type\":\"scatter\",\"x\":[1.2626457143834457,1.3009197765790728],\"y\":[-1.9224270597214128,-1.2234742028254377]}]},{\"data\":[{\"type\":\"scatter\",\"x\":[0,1.1250383552208327],\"y\":[0,-2.0060629848741045]},{\"type\":\"scatter\",\"x\":[1.1250383552208327,1.1585459924022112],\"y\":[-2.0060629848741045,-1.306865417479508]}]},{\"data\":[{\"type\":\"scatter\",\"x\":[0,0.973122176495158],\"y\":[0,-2.0839945368482438]},{\"type\":\"scatter\",\"x\":[0.973122176495158,1.0166119568645537],\"y\":[-2.0839945368482438,-1.385346815171989]}]},{\"data\":[{\"type\":\"scatter\",\"x\":[0,0.8065129632264438],\"y\":[0,-2.1539584118890733]},{\"type\":\"scatter\",\"x\":[0.8065129632264438,0.87534973196247],\"y\":[-2.1539584118890733,-1.4573512777955566]}]},{\"data\":[{\"type\":\"scatter\",\"x\":[0,0.625536965269697],\"y\":[0,-2.2133014943927494]},{\"type\":\"scatter\",\"x\":[0.625536965269697,0.7352326650612973],\"y\":[-2.2133014943927494,-1.5219500255672098]}]},{\"data\":[{\"type\":\"scatter\",\"x\":[0,0.43128360750018563],\"y\":[0,-2.259202171099706]},{\"type\":\"scatter\",\"x\":[0.43128360750018563,0.5969398759142148],\"y\":[-2.259202171099706,-1.579086004011216]}]},{\"data\":[{\"type\":\"scatter\",\"x\":[0,0.22564806079992922],\"y\":[0,-2.288904312691387]},{\"type\":\"scatter\",\"x\":[0.22564806079992922,0.4611852464060541],\"y\":[-2.288904312691387,-1.6297213076034631]}]},{\"data\":[{\"type\":\"scatter\",\"x\":[0,0.011415822516134282],\"y\":[0,-2.299971669172531]},{\"type\":\"scatter\",\"x\":[0.011415822516134282,0.3284088199517016],\"y\":[-2.299971669172531,-1.6758599487435566]}]},{\"data\":[{\"type\":\"scatter\",\"x\":[0,-0.20761723592967005],\"y\":[0,-2.2906101989087806]},{\"type\":\"scatter\",\"x\":[-0.20761723592967005,0.198378571969455],\"y\":[-2.2906101989087806,-1.7203756822681824]}]},{\"data\":[{\"type\":\"scatter\",\"x\":[0,-0.4265888268496876],\"y\":[0,-2.2600933548875823]},{\"type\":\"scatter\",\"x\":[-0.4265888268496876,0.06982933558658072],\"y\":[-2.2600933548875823,-1.7665662451930908]}]},{\"data\":[{\"type\":\"scatter\",\"x\":[0,-0.6397477425021562],\"y\":[0,-2.20923580134928]},{\"type\":\"scatter\",\"x\":[-0.6397477425021562,-0.059662101987861704],\"y\":[-2.20923580134928,-1.8174442117648164]}]},{\"data\":[{\"type\":\"scatter\",\"x\":[0,-0.8409853020097116],\"y\":[0,-2.1407343884292684]},{\"type\":\"scatter\",\"x\":[-0.8409853020097116,-0.1934024906237215],\"y\":[-2.1407343884292684,-1.8749591029014052]}]},{\"data\":[{\"type\":\"scatter\",\"x\":[0,-1.0246363467074955],\"y\":[0,-2.0591552532545756]},{\"type\":\"scatter\",\"x\":[-1.0246363467074955,-0.33494383650884607],\"y\":[-2.0591552532545756,-1.9394713304583795]}]},{\"data\":[{\"type\":\"scatter\",\"x\":[0,-1.1862471056771133],\"y\":[0,-1.97048669223435]},{\"type\":\"scatter\",\"x\":[-1.1862471056771133,-0.487345977650918],\"y\":[-1.97048669223435,-2.009694003334599]}]},{\"data\":[{\"type\":\"scatter\",\"x\":[0,-1.3229829224993839],\"y\":[0,-1.8814133481973037]},{\"type\":\"scatter\",\"x\":[-1.3229829224993839,-0.6526499252694636],\"y\":[-1.8814133481973037,-2.083040907882858]}]},{\"data\":[{\"type\":\"scatter\",\"x\":[0,-1.4335320782360879],\"y\":[0,-1.7986066219905126]},{\"type\":\"scatter\",\"x\":[-1.4335320782360879,-0.8317062414458863],\"y\":[-1.7986066219905126,-2.1561057998521878]}]},{\"data\":[{\"type\":\"scatter\",\"x\":[0,-1.517563859681511],\"y\":[0,-1.7282939367447177]},{\"type\":\"scatter\",\"x\":[-1.517563859681511,-1.024291837458795],\"y\":[-1.7282939367447177,-2.2249655708172833]}]},{\"data\":[{\"type\":\"scatter\",\"x\":[0,-1.5748496487822023],\"y\":[0,-1.6762602971288718]},{\"type\":\"scatter\",\"x\":[-1.5748496487822023,-1.2293153820676035],\"y\":[-1.6762602971288718,-2.2850345332180844]}]},{\"data\":[{\"type\":\"scatter\",\"x\":[0,-1.6040006955399446],\"y\":[0,-1.6483876269577413]},{\"type\":\"scatter\",\"x\":[-1.6040006955399446,-1.4447773076201225],\"y\":[-1.6483876269577413,-2.3300385000147146]}]},{\"data\":[{\"type\":\"scatter\",\"x\":[0,-1.600440945563788],\"y\":[0,-1.6518440543110864]},{\"type\":\"scatter\",\"x\":[-1.600440945563788,-1.6664626773448734],\"y\":[-1.6518440543110864,-2.348723621332983]}]},{\"data\":[{\"type\":\"scatter\",\"x\":[0,-1.5546162749395356],\"y\":[0,-1.6950422524801914]},{\"type\":\"scatter\",\"x\":[-1.5546162749395356,-1.8799357291006122],\"y\":[-1.6950422524801914,-2.314854524659711]}]},{\"data\":[{\"type\":\"scatter\",\"x\":[0,-1.4749054588252364],\"y\":[0,-1.7648382043483528]},{\"type\":\"scatter\",\"x\":[-1.4749054588252364,-2.035109256289345],\"y\":[-1.7648382043483528,-2.184566336961348]}]},{\"data\":[{\"type\":\"scatter\",\"x\":[0,-1.419361494624973],\"y\":[0,-1.8098101965609437]},{\"type\":\"scatter\",\"x\":[-1.419361494624973,-2.097621699940921],\"y\":[-1.8098101965609437,-1.9829087057537387]}]},{\"data\":[{\"type\":\"scatter\",\"x\":[0,-1.405240601688548],\"y\":[0,-1.8207962135741624]},{\"type\":\"scatter\",\"x\":[-1.405240601688548,-2.1032062706185393],\"y\":[-1.8207962135741624,-1.767467750300693]}]},{\"data\":[{\"type\":\"scatter\",\"x\":[0,-1.423202149412485],\"y\":[0,-1.806791532498335]},{\"type\":\"scatter\",\"x\":[-1.423202149412485,-2.077297732812431],\"y\":[-1.806791532498335,-1.5574745299159114]}]},{\"data\":[{\"type\":\"scatter\",\"x\":[0,-1.4659653602371938],\"y\":[0,-1.7722713005024466]},{\"type\":\"scatter\",\"x\":[-1.4659653602371938,-2.0308767484277865],\"y\":[-1.7722713005024466,-1.3589008570832573]}]},{\"data\":[{\"type\":\"scatter\",\"x\":[0,-1.5287028394933195],\"y\":[0,-1.7184491928844046]},{\"type\":\"scatter\",\"x\":[-1.5287028394933195,-1.9697510964403322],\"y\":[-1.7184491928844046,-1.1748717512590168]}]},{\"data\":[{\"type\":\"scatter\",\"x\":[0,-1.6076348265319422],\"y\":[0,-1.6448435380064608]},{\"type\":\"scatter\",\"x\":[-1.6076348265319422,-1.8979494560179617],\"y\":[-1.6448435380064608,-1.0078840291627704]}]},{\"data\":[{\"type\":\"scatter\",\"x\":[0,-1.699216311195313],\"y\":[0,-1.5500528790230974]},{\"type\":\"scatter\",\"x\":[-1.699216311195313,-1.819086718556041],\"y\":[-1.5500528790230974,-0.8603927558905698]}]},{\"data\":[{\"type\":\"scatter\",\"x\":[0,-1.7996545446581045],\"y\":[0,-1.432216296476]},{\"type\":\"scatter\",\"x\":[-1.7996545446581045,-1.7371567990767849],\"y\":[-1.432216296476,-0.7350118560159203]}]},{\"data\":[{\"type\":\"scatter\",\"x\":[0,-1.9045566094212247],\"y\":[0,-1.2894433378438648]},{\"type\":\"scatter\",\"x\":[-1.9045566094212247,-1.6572844978360923],\"y\":[-1.2894433378438648,-0.634571974267605]}]},{\"data\":[{\"type\":\"scatter\",\"x\":[0,-2.008573040159535],\"y\":[0,-1.1205509101974271]},{\"type\":\"scatter\",\"x\":[-2.008573040159535,-1.5867415281488104],\"y\":[-1.1205509101974271,-0.561929235470474]}]},{\"data\":[{\"type\":\"scatter\",\"x\":[0,-2.10499470366374],\"y\":[0,-0.926821070944981]},{\"type\":\"scatter\",\"x\":[-2.10499470366374,-1.5361435091036797],\"y\":[-0.926821070944981,-0.5188893138487822]}]},{\"data\":[{\"type\":\"scatter\",\"x\":[0,-2.1858983885801635],\"y\":[0,-0.7154356957844946]},{\"type\":\"scatter\",\"x\":[-2.1858983885801635,-1.51886983006422],\"y\":[-0.7154356957844946,-0.5031318990117032]}]},{\"data\":[{\"type\":\"scatter\",\"x\":[0,-2.2446812505887594],\"y\":[0,-0.5014041117255443]},{\"type\":\"scatter\",\"x\":[-2.2446812505887594,-1.5446903713879276],\"y\":[-0.5014041117255443,-0.5049774904693384]}]},{\"data\":[{\"type\":\"scatter\",\"x\":[0,-2.2801544745211078],\"y\":[0,-0.3014889257027018]},{\"type\":\"scatter\",\"x\":[-2.2801544745211078,-1.6122253808664742],\"y\":[-0.3014889257027018,-0.5109423235020683]}]},{\"data\":[{\"type\":\"scatter\",\"x\":[0,-2.2965323394575963],\"y\":[0,-0.12625059930716892]},{\"type\":\"scatter\",\"x\":[-2.2965323394575963,-1.7119090184032448],\"y\":[-0.12625059930716892,-0.5112383555792102]}]},{\"data\":[{\"type\":\"scatter\",\"x\":[0,-2.2999096217173602],\"y\":[0,0.020389505435605002]},{\"type\":\"scatter\",\"x\":[-2.2999096217173602,-1.8334005486177922],\"y\":[0.020389505435605002,-0.5015006024566426]}]},{\"data\":[{\"type\":\"scatter\",\"x\":[0,-2.29584803991791],\"y\":[0,0.13813680756803698]},{\"type\":\"scatter\",\"x\":[-2.29584803991791,-1.968608895383342],\"y\":[0.13813680756803698,-0.4806640830941243]}]},{\"data\":[{\"type\":\"scatter\",\"x\":[0,-2.288656837595874],\"y\":[0,0.2281444273385869]},{\"type\":\"scatter\",\"x\":[-2.288656837595874,-2.1117046115949667],\"y\":[0.2281444273385869,-0.4491205944315646]}]},{\"data\":[{\"type\":\"scatter\",\"x\":[0,-2.281403935079976],\"y\":[0,0.291883684027728]},{\"type\":\"scatter\",\"x\":[-2.281403935079976,-2.2584757004561222],\"y\":[0.291883684027728,-0.40774071238582865]}]},{\"data\":[{\"type\":\"scatter\",\"x\":[0,-2.2761263942695877],\"y\":[0,0.33052781624142535]},{\"type\":\"scatter\",\"x\":[-2.2761263942695877,-2.405704759617715],\"y\":[0.33052781624142535,-0.35737439136784466]}]},{\"data\":[{\"type\":\"scatter\",\"x\":[0,-2.2740519222855227],\"y\":[0,0.3445110371955005]},{\"type\":\"scatter\",\"x\":[-2.2740519222855227,-2.5505920446733605],\"y\":[0.3445110371955005,-0.29854849403758804]}]},{\"data\":[{\"type\":\"scatter\",\"x\":[0,-2.2757599580783396],\"y\":[0,0.33304145869136575]},{\"type\":\"scatter\",\"x\":[-2.2757599580783396,-2.690045016417195],\"y\":[0.33304145869136575,-0.23119952744591504]}]},{\"data\":[{\"type\":\"scatter\",\"x\":[0,-2.2812159702481383],\"y\":[0,0.2933491044555024]},{\"type\":\"scatter\",\"x\":[-2.2812159702481383,-2.819350771080397],\"y\":[0.2933491044555024,-0.15432369584983818]}]},{\"data\":[{\"type\":\"scatter\",\"x\":[0,-2.2894838316407844],\"y\":[0,0.21969020154624708]},{\"type\":\"scatter\",\"x\":[-2.2894838316407844,-2.9287100046170407],\"y\":[0.21969020154624708,-0.06559894963572277]}]},{\"data\":[{\"type\":\"scatter\",\"x\":[0,-2.2975476597069315],\"y\":[0,0.1061826321730711]},{\"type\":\"scatter\",\"x\":[-2.2975476597069315,-2.9941068891587865],\"y\":[0.1061826321730711,0.03686279471337857]}]},{\"data\":[{\"type\":\"scatter\",\"x\":[0,-2.2998300674264924],\"y\":[0,-0.02795820024704494]},{\"type\":\"scatter\",\"x\":[-2.2998300674264924,-2.978913691633573],\"y\":[-0.02795820024704494,0.14188122784247917]}]},{\"data\":[{\"type\":\"scatter\",\"x\":[0,-2.295786704531022],\"y\":[0,-0.1391524606271446]},{\"type\":\"scatter\",\"x\":[-2.295786704531022,-2.892183947910823],\"y\":[-0.1391524606271446,0.22733127446757234]}]},{\"data\":[{\"type\":\"scatter\",\"x\":[0,-2.289582340451668],\"y\":[0,-0.21866116777302264]},{\"type\":\"scatter\",\"x\":[-2.289582340451668,-2.7711131722319453],\"y\":[-0.21866116777302264,0.2894018775717399]}]},{\"data\":[{\"type\":\"scatter\",\"x\":[0,-2.2836511186259574],\"y\":[0,-0.2737472710337272]},{\"type\":\"scatter\",\"x\":[-2.2836511186259574,-2.6345784630356874],\"y\":[-0.2737472710337272,0.33193416251491215]}]},{\"data\":[{\"type\":\"scatter\",\"x\":[0,-2.2790425233271847],\"y\":[0,-0.3097824670094455]},{\"type\":\"scatter\",\"x\":[-2.2790425233271847,-2.4903238194806043],\"y\":[-0.3097824670094455,0.35757067331112785]}]},{\"data\":[{\"type\":\"scatter\",\"x\":[0,-2.2762861448711202],\"y\":[0,-0.32942584395850383]},{\"type\":\"scatter\",\"x\":[-2.2762861448711202,-2.3422626737185257],\"y\":[-0.32942584395850383,0.36745800406873186]}]},{\"data\":[{\"type\":\"scatter\",\"x\":[0,-2.275701282375348],\"y\":[0,-0.33344215899492263]},{\"type\":\"scatter\",\"x\":[-2.275701282375348,-2.1930943143365487],\"y\":[-0.33344215899492263,0.3616665295074127]}]},{\"data\":[{\"type\":\"scatter\",\"x\":[0,-2.2774766258477253],\"y\":[0,-0.32109222774346413]},{\"type\":\"scatter\",\"x\":[-2.2774766258477253,-2.0454914878504136],\"y\":[-0.32109222774346413,0.3393492123164159]}]},{\"data\":[{\"type\":\"scatter\",\"x\":[0,-2.2816235822509805],\"y\":[0,-0.2901617288964913]},{\"type\":\"scatter\",\"x\":[-2.2816235822509805,-1.903126312614087],\"y\":[-0.2901617288964913,0.2986844453098261]}]},{\"data\":[{\"type\":\"scatter\",\"x\":[0,-2.2877693798979455],\"y\":[0,-0.23687816362292552]},{\"type\":\"scatter\",\"x\":[-2.2877693798979455,-1.7723295368639171],\"y\":[-0.23687816362292552,0.23674802675621315]}]},{\"data\":[{\"type\":\"scatter\",\"x\":[0,-2.294655952204665],\"y\":[0,-0.15669735483313593]},{\"type\":\"scatter\",\"x\":[-2.294655952204665,-1.6654132089489764],\"y\":[-0.15669735483313593,0.14998419019371337]}]},{\"data\":[{\"type\":\"scatter\",\"x\":[0,-2.2994569080908573],\"y\":[0,-0.04997927403668287]},{\"type\":\"scatter\",\"x\":[-2.2994569080908573,-1.6050274456429028],\"y\":[-0.04997927403668287,0.038155405200522005]}]},{\"data\":[{\"type\":\"scatter\",\"x\":[0,-2.299102630598578],\"y\":[0,0.06424246239598369]},{\"type\":\"scatter\",\"x\":[-2.299102630598578,-1.6153690989633849],\"y\":[0.06424246239598369,-0.08578572734736661]}]},{\"data\":[{\"type\":\"scatter\",\"x\":[0,-2.294768530289372],\"y\":[0,0.15503997030944777]},{\"type\":\"scatter\",\"x\":[-2.294768530289372,-1.6917099438177776],\"y\":[0.15503997030944777,-0.2003757599036119]}]},{\"data\":[{\"type\":\"scatter\",\"x\":[0,-2.2904204499571383],\"y\":[0,0.20970017267074334]},{\"type\":\"scatter\",\"x\":[-2.2904204499571383,-1.8075277563861771],\"y\":[0.20970017267074334,-0.29706865677299976]}]},{\"data\":[{\"type\":\"scatter\",\"x\":[0,-2.2883918044689193],\"y\":[0,0.23078767133337824]},{\"type\":\"scatter\",\"x\":[-2.2883918044689193,-1.9429385333982279],\"y\":[0.23078767133337824,-0.37803252996299724]}]},{\"data\":[{\"type\":\"scatter\",\"x\":[0,-2.2891311818138207],\"y\":[0,0.22333479900736514]},{\"type\":\"scatter\",\"x\":[-2.2891311818138207,-2.0876794947943074],\"y\":[0.22333479900736514,-0.44705107330573185]}]},{\"data\":[{\"type\":\"scatter\",\"x\":[0,-2.292060483577461],\"y\":[0,0.19094171786871295]},{\"type\":\"scatter\",\"x\":[-2.292060483577461,-2.236500436687121],\"y\":[0.19094171786871295,-0.5068498564495381]}]},{\"data\":[{\"type\":\"scatter\",\"x\":[0,-2.2960160568265557],\"y\":[0,0.13531543442872276]},{\"type\":\"scatter\",\"x\":[-2.2960160568265557,-2.3862932594179163],\"y\":[0.13531543442872276,-0.558838746349783]}]},{\"data\":[{\"type\":\"scatter\",\"x\":[0,-2.299313337244006],\"y\":[0,0.056197661622442864]},{\"type\":\"scatter\",\"x\":[-2.299313337244006,-2.5345318444913323],\"y\":[0.056197661622442864,-0.6030991257566096]}]},{\"data\":[{\"type\":\"scatter\",\"x\":[0,-2.299475490258148],\"y\":[0,-0.049116898334986454]},{\"type\":\"scatter\",\"x\":[-2.299475490258148,-2.6778670795809933],\"y\":[-0.049116898334986454,-0.6380309881050743]}]},{\"data\":[{\"type\":\"scatter\",\"x\":[0,-2.2923815217391184],\"y\":[0,-0.187048011989017]},{\"type\":\"scatter\",\"x\":[-2.2923815217391184,-2.8091992995193147],\"y\":[-0.187048011989017,-0.6591702255845431]}]},{\"data\":[{\"type\":\"scatter\",\"x\":[0,-2.2703900804448605],\"y\":[0,-0.3678707417253771]},{\"type\":\"scatter\",\"x\":[-2.2703900804448605,-2.90792701848186],\"y\":[-0.3678707417253771,-0.6569151200453973]}]},{\"data\":[{\"type\":\"scatter\",\"x\":[0,-2.225349000561081],\"y\":[0,-0.5812244193956384]},{\"type\":\"scatter\",\"x\":[-2.225349000561081,-2.923995790249352],\"y\":[-0.5812244193956384,-0.6247291692314069]}]},{\"data\":[{\"type\":\"scatter\",\"x\":[0,-2.1675698789057405],\"y\":[0,-0.769181916103436]},{\"type\":\"scatter\",\"x\":[-2.1675698789057405,-2.8436446062048804],\"y\":[-0.769181916103436,-0.5877350558181345]}]},{\"data\":[{\"type\":\"scatter\",\"x\":[0,-2.1096368509596264],\"y\":[0,-0.9162054120518776]},{\"type\":\"scatter\",\"x\":[-2.1096368509596264,-2.715290894939564],\"y\":[-0.9162054120518776,-0.5652307989945404]}]},{\"data\":[{\"type\":\"scatter\",\"x\":[0,-2.0540183808173786],\"y\":[0,-1.0348954011224287]},{\"type\":\"scatter\",\"x\":[-2.0540183808173786,-2.5662932644241407],\"y\":[-1.0348954011224287,-0.5578477686729235]}]},{\"data\":[{\"type\":\"scatter\",\"x\":[0,-2.0008932045994547],\"y\":[0,-1.1342073812966147]},{\"type\":\"scatter\",\"x\":[-2.0008932045994547,-2.40676620085229],\"y\":[-1.1342073812966147,-0.5638854450950112]}]},{\"data\":[{\"type\":\"scatter\",\"x\":[0,-1.9503540237917099],\"y\":[0,-1.2190648800943635]},{\"type\":\"scatter\",\"x\":[-1.9503540237917099,-2.241110430908906],\"y\":[-1.2190648800943635,-0.5823069105955128]}]},{\"data\":[{\"type\":\"scatter\",\"x\":[0,-1.9027307503294584],\"y\":[0,-1.2921360964506394]},{\"type\":\"scatter\",\"x\":[-1.9027307503294584,-2.071689190946961],\"y\":[-1.2921360964506394,-0.6128327434896064]}]},{\"data\":[{\"type\":\"scatter\",\"x\":[0,-1.8586913351586352],\"y\":[0,-1.3547200893934546]},{\"type\":\"scatter\",\"x\":[-1.8586913351586352,-1.9001283436084895],\"y\":[-1.3547200893934546,-0.655947612595229]}]},{\"data\":[{\"type\":\"scatter\",\"x\":[0,-1.8193332345881985],\"y\":[0,-1.407134173248181]},{\"type\":\"scatter\",\"x\":[-1.8193332345881985,-1.728033153395419],\"y\":[-1.407134173248181,-0.713113787975391]}]},{\"data\":[{\"type\":\"scatter\",\"x\":[0,-1.7862002336365501],\"y\":[0,-1.4489612573691313]},{\"type\":\"scatter\",\"x\":[-1.7862002336365501,-1.5578112884916537],\"y\":[-1.4489612573691313,-0.787267604886654]}]},{\"data\":[{\"type\":\"scatter\",\"x\":[0,-1.76078102082563],\"y\":[0,-1.4797466663926806]},{\"type\":\"scatter\",\"x\":[-1.76078102082563,-1.394159569786292],\"y\":[-1.4797466663926806,-0.883434070820685]}]},{\"data\":[{\"type\":\"scatter\",\"x\":[0,-1.7422934289820442],\"y\":[0,-1.501470481669883]},{\"type\":\"scatter\",\"x\":[-1.7422934289820442,-1.2459830992658025],\"y\":[-1.501470481669883,-1.007834931271661]}]},{\"data\":[{\"type\":\"scatter\",\"x\":[0,-1.7242802828072075],\"y\":[0,-1.5221226975254971]},{\"type\":\"scatter\",\"x\":[-1.7242802828072075,-1.1240224753726047],\"y\":[-1.5221226975254971,-1.1619969353065143]}]},{\"data\":[{\"type\":\"scatter\",\"x\":[0,-1.697533613651154],\"y\":[0,-1.55189549600624]},{\"type\":\"scatter\",\"x\":[-1.697533613651154,-1.0310442792838481],\"y\":[-1.55189549600624,-1.3379049187028804]}]},{\"data\":[{\"type\":\"scatter\",\"x\":[0,-1.6572657684920724],\"y\":[0,-1.5948260634264728]},{\"type\":\"scatter\",\"x\":[-1.6572657684920724,-0.9607133478234924],\"y\":[-1.5948260634264728,-1.5254378420863821]}]},{\"data\":[{\"type\":\"scatter\",\"x\":[0,-1.6025789403144508],\"y\":[0,-1.6497699051869663]},{\"type\":\"scatter\",\"x\":[-1.6025789403144508,-0.9059783875165488],\"y\":[-1.6497699051869663,-1.7186732421283462]}]},{\"data\":[{\"type\":\"scatter\",\"x\":[0,-1.5332009613459023],\"y\":[0,-1.7144371706563062]},{\"type\":\"scatter\",\"x\":[-1.5332009613459023,-0.8624931871458426],\"y\":[-1.7144371706563062,-1.9148145187463574]}]},{\"data\":[{\"type\":\"scatter\",\"x\":[0,-1.4480464230152141],\"y\":[0,-1.7869419567498108]},{\"type\":\"scatter\",\"x\":[-1.4480464230152141,-0.8281801150896145],\"y\":[-1.7869419567498108,-2.1121584389561803]}]},{\"data\":[{\"type\":\"scatter\",\"x\":[0,-1.34460127160135],\"y\":[0,-1.8660244961972048]},{\"type\":\"scatter\",\"x\":[-1.34460127160135,-0.8024762535963421],\"y\":[-1.8660244961972048,-2.308856817570735]}]},{\"data\":[{\"type\":\"scatter\",\"x\":[0,-1.2180449604471775],\"y\":[0,-1.9509911517813794]},{\"type\":\"scatter\",\"x\":[-1.2180449604471775,-0.7859958379860557],\"y\":[-1.9509911517813794,-2.501748408456745]}]},{\"data\":[{\"type\":\"scatter\",\"x\":[0,-1.0591488976356964],\"y\":[0,-2.0416178909475415]},{\"type\":\"scatter\",\"x\":[-1.0591488976356964,-0.7805360975822547],\"y\":[-2.0416178909475415,-2.6837821282314165]}]},{\"data\":[{\"type\":\"scatter\",\"x\":[0,-0.8495622254475004],\"y\":[0,-2.137345087975428]},{\"type\":\"scatter\",\"x\":[-0.8495622254475004,-0.7883755306374767],\"y\":[-2.137345087975428,-2.8346658092925456]}]},{\"data\":[{\"type\":\"scatter\",\"x\":[0,-0.5716648098252085],\"y\":[0,-2.2278239035452305]},{\"type\":\"scatter\",\"x\":[-0.5716648098252085,-0.7981660607623792],\"y\":[-2.2278239035452305,-2.890166098580317]}]},{\"data\":[{\"type\":\"scatter\",\"x\":[0,-0.297903349948144],\"y\":[0,-2.280625702321552]},{\"type\":\"scatter\",\"x\":[-0.297903349948144,-0.7611854286381208],\"y\":[-2.280625702321552,-2.8053825179654215]}]},{\"data\":[{\"type\":\"scatter\",\"x\":[0,-0.0804509442851563],\"y\":[0,-2.2985925357843713]},{\"type\":\"scatter\",\"x\":[-0.0804509442851563,-0.6775733385728665],\"y\":[-2.2985925357843713,-2.6638935708775016]}]},{\"data\":[{\"type\":\"scatter\",\"x\":[0,0.09806011958734843],\"y\":[0,-2.2979086607057546]},{\"type\":\"scatter\",\"x\":[0.09806011958734843,-0.5691176157158894],\"y\":[-2.2979086607057546,-2.509743194046385]}]},{\"data\":[{\"type\":\"scatter\",\"x\":[0,0.25092390682777277],\"y\":[0,-2.286271460912349]},{\"type\":\"scatter\",\"x\":[0.25092390682777277,-0.44575032803972114],\"y\":[-2.286271460912349,-2.3544257745820794]}]},{\"data\":[{\"type\":\"scatter\",\"x\":[0,0.38500046740477395],\"y\":[0,-2.2675481560703634]},{\"type\":\"scatter\",\"x\":[0.38500046740477395,-0.3119124490390664],\"y\":[-2.2675481560703634,-2.201879389569531]}]},{\"data\":[{\"type\":\"scatter\",\"x\":[0,0.503958076886869],\"y\":[0,-2.244109234582953]},{\"type\":\"scatter\",\"x\":[0.503958076886869,-0.1697301025333915],\"y\":[-2.244109234582953,-2.0539928573046793]}]},{\"data\":[{\"type\":\"scatter\",\"x\":[0,0.6097192847825587],\"y\":[0,-2.217711070848555]},{\"type\":\"scatter\",\"x\":[0.6097192847825587,-0.020061827923892328],\"y\":[-2.217711070848555,-1.912136611709339]}]},{\"data\":[{\"type\":\"scatter\",\"x\":[0,0.7031219762831972],\"y\":[0,-2.1898902909661047]},{\"type\":\"scatter\",\"x\":[0.7031219762831972,0.13718646241961885],\"y\":[-2.1898902909661047,-1.7779230663620502]}]},{\"data\":[{\"type\":\"scatter\",\"x\":[0,0.784466402655242],\"y\":[0,-2.1620852118048317]},{\"type\":\"scatter\",\"x\":[0.784466402655242,0.30298461482203104],\"y\":[-2.1620852118048317,-1.653975688193106]}]},{\"data\":[{\"type\":\"scatter\",\"x\":[0,0.8546565283923788],\"y\":[0,-2.1353131429549825]},{\"type\":\"scatter\",\"x\":[0.8546565283923788,0.4788092176836573],\"y\":[-2.1353131429549825,-1.544772035975103]}]},{\"data\":[{\"type\":\"scatter\",\"x\":[0,0.9172939932284015],\"y\":[0,-2.109163751344853]},{\"type\":\"scatter\",\"x\":[0.9172939932284015,0.6650791101472673],\"y\":[-2.109163751344853,-1.4561800970682932]}]},{\"data\":[{\"type\":\"scatter\",\"x\":[0,0.9790075147395549],\"y\":[0,-2.0812362398544475]},{\"type\":\"scatter\",\"x\":[0.9790075147395549,0.85913808266619],\"y\":[-2.0812362398544475,-1.3915759472071116]}]},{\"data\":[{\"type\":\"scatter\",\"x\":[0,1.045271455440647],\"y\":[0,-2.048757570929511]},{\"type\":\"scatter\",\"x\":[1.045271455440647,1.0564920602268686],\"y\":[-2.048757570929511,-1.3488475066868033]}]},{\"data\":[{\"type\":\"scatter\",\"x\":[0,1.1178219727453809],\"y\":[0,-2.010093041938015]},{\"type\":\"scatter\",\"x\":[1.1178219727453809,1.2537763910096085],\"y\":[-2.010093041938015,-1.3234225269496145]}]},{\"data\":[{\"type\":\"scatter\",\"x\":[0,1.1963328285398491],\"y\":[0,-1.9643797401108174]},{\"type\":\"scatter\",\"x\":[1.1963328285398491,1.4492140094275106],\"y\":[-1.9643797401108174,-1.3116538341189825]}]},{\"data\":[{\"type\":\"scatter\",\"x\":[0,1.280183112421455],\"y\":[0,-1.9107933427429862]},{\"type\":\"scatter\",\"x\":[1.280183112421455,1.641743871056189],\"y\":[-1.9107933427429862,-1.311398800045544]}]},{\"data\":[{\"type\":\"scatter\",\"x\":[0,1.3691033046512826],\"y\":[0,-1.8481223285250725]},{\"type\":\"scatter\",\"x\":[1.3691033046512826,1.8303457654438189],\"y\":[-1.8481223285250725,-1.3215718633633315]}]},{\"data\":[{\"type\":\"scatter\",\"x\":[0,1.463344171548673],\"y\":[0,-1.7744362021764903]},{\"type\":\"scatter\",\"x\":[1.463344171548673,2.0135857838889484],\"y\":[-1.7744362021764903,-1.34173056545659]}]},{\"data\":[{\"type\":\"scatter\",\"x\":[0,1.5638029473612955],\"y\":[0,-1.6865705860781885]},{\"type\":\"scatter\",\"x\":[1.5638029473612955,2.1890432173241314],\"y\":[-1.6865705860781885,-1.3718093991176612]}]},{\"data\":[{\"type\":\"scatter\",\"x\":[0,1.67230122014515],\"y\":[0,-1.5790530798871336]},{\"type\":\"scatter\",\"x\":[1.67230122014515,2.3520314663576083],\"y\":[-1.5790530798871336,-1.4118203307500388]}]},{\"data\":[{\"type\":\"scatter\",\"x\":[0,1.7920340968999096],\"y\":[0,-1.441739850163033]},{\"type\":\"scatter\",\"x\":[1.7920340968999096,2.4917765677112538],\"y\":[-1.441739850163033,-1.4607260173074366]}]},{\"data\":[{\"type\":\"scatter\",\"x\":[0,1.9256151999778846],\"y\":[0,-1.2577782402371775]},{\"type\":\"scatter\",\"x\":[1.9256151999778846,2.578836398265645],\"y\":[-1.2577782402371775,-1.5093772587318897]}]},{\"data\":[{\"type\":\"scatter\",\"x\":[0,2.0530667653108687],\"y\":[0,-1.0367819718609912]},{\"type\":\"scatter\",\"x\":[2.0530667653108687,2.561753562617151],\"y\":[-1.0367819718609912,-1.5176538282284409]}]},{\"data\":[{\"type\":\"scatter\",\"x\":[0,2.139924246856091],\"y\":[0,-0.843044611937821]},{\"type\":\"scatter\",\"x\":[2.139924246856091,2.46639869431317],\"y\":[-0.843044611937821,-1.4622492914724599]}]},{\"data\":[{\"type\":\"scatter\",\"x\":[0,2.194395508363527],\"y\":[0,-0.6889327636816067]},{\"type\":\"scatter\",\"x\":[2.194395508363527,2.3480614712526404],\"y\":[-0.6889327636816067,-1.3718579219891343]}]},{\"data\":[{\"type\":\"scatter\",\"x\":[0,2.2296534186609827],\"y\":[0,-0.5644870526888922]},{\"type\":\"scatter\",\"x\":[2.2296534186609827,2.22443379612446],\"y\":[-0.5644870526888922,-1.2644675920902215]}]},{\"data\":[{\"type\":\"scatter\",\"x\":[0,2.252742862935202],\"y\":[0,-0.463842207538845]},{\"type\":\"scatter\",\"x\":[2.252742862935202,2.10073337464091],\"y\":[-0.463842207538845,-1.1471379820527134]}]},{\"data\":[{\"type\":\"scatter\",\"x\":[0,2.2676005768074003],\"y\":[0,-0.38469159603862446]},{\"type\":\"scatter\",\"x\":[2.2676005768074003,1.9794575883937247],\"y\":[-0.38469159603862446,-1.022636435525579]}]},{\"data\":[{\"type\":\"scatter\",\"x\":[0,2.2766296607956513],\"y\":[0,-0.3270434032135136]},{\"type\":\"scatter\",\"x\":[2.2766296607956513,1.8629044015808267],\"y\":[-0.3270434032135136,-0.8916949859507146]}]},{\"data\":[{\"type\":\"scatter\",\"x\":[0,2.2812879098849286],\"y\":[0,-0.29278912584461564]},{\"type\":\"scatter\",\"x\":[2.2812879098849286,1.7545101704151416],\"y\":[-0.29278912584461564,-0.7537720031829189]}]},{\"data\":[{\"type\":\"scatter\",\"x\":[0,2.2822066496574007],\"y\":[0,-0.28553950385111476]},{\"type\":\"scatter\",\"x\":[2.2822066496574007,1.6606395167997916],\"y\":[-0.28553950385111476,-0.6074933815279819]}]},{\"data\":[{\"type\":\"scatter\",\"x\":[0,2.2790992231908387],\"y\":[0,-0.30936504464938247]},{\"type\":\"scatter\",\"x\":[2.2790992231908387,1.5937765121530845],\"y\":[-0.30936504464938247,-0.4519581080706534]}]},{\"data\":[{\"type\":\"scatter\",\"x\":[0,2.271309243860021],\"y\":[0,-0.3621523419170701]},{\"type\":\"scatter\",\"x\":[2.271309243860021,1.5748771391514222],\"y\":[-0.3621523419170701,-0.29156676597445225]}]},{\"data\":[{\"type\":\"scatter\",\"x\":[0,2.2605629304400865],\"y\":[0,-0.4240934301779822]},{\"type\":\"scatter\",\"x\":[2.2605629304400865,1.6199540151928078],\"y\":[-0.4240934301779822,-0.141922882980538]}]},{\"data\":[{\"type\":\"scatter\",\"x\":[0,2.251444319848925],\"y\":[0,-0.4701047485614368]},{\"type\":\"scatter\",\"x\":[2.251444319848925,1.7170829874082922],\"y\":[-0.4701047485614368,-0.017934463832031344]}]},{\"data\":[{\"type\":\"scatter\",\"x\":[0,2.246649477744173],\"y\":[0,-0.49251002441761105]},{\"type\":\"scatter\",\"x\":[2.246649477744173,1.8427367920520905],\"y\":[-0.49251002441761105,0.0792019155810294]}]},{\"data\":[{\"type\":\"scatter\",\"x\":[0,2.246300501162749],\"y\":[0,-0.49409923950152146]},{\"type\":\"scatter\",\"x\":[2.246300501162749,1.981912075420654],\"y\":[-0.49409923950152146,0.15405102111218594]}]},{\"data\":[{\"type\":\"scatter\",\"x\":[0,2.249646477113571],\"y\":[0,-0.47863423196685106]},{\"type\":\"scatter\",\"x\":[2.249646477113571,2.1271818453469433],\"y\":[-0.47863423196685106,0.2105699569106283]}]},{\"data\":[{\"type\":\"scatter\",\"x\":[0,2.2558387920304916],\"y\":[0,-0.4485435813501415]},{\"type\":\"scatter\",\"x\":[2.2558387920304916,2.274666302958158],\"y\":[-0.4485435813501415,0.25120317629312805]}]},{\"data\":[{\"type\":\"scatter\",\"x\":[0,2.2640960294824866],\"y\":[0,-0.4048075706822174]},{\"type\":\"scatter\",\"x\":[2.2640960294824866,2.4218858440763698],\"y\":[-0.4048075706822174,0.2771765745956827]}]},{\"data\":[{\"type\":\"scatter\",\"x\":[0,2.27367166236447],\"y\":[0,-0.3470117746716764]},{\"type\":\"scatter\",\"x\":[2.27367166236447,2.5666458747660412],\"y\":[-0.3470117746716764,0.2887288256266521]}]},{\"data\":[{\"type\":\"scatter\",\"x\":[0,2.283726209716696],\"y\":[0,-0.27312011836005606]},{\"type\":\"scatter\",\"x\":[2.283726209716696,2.706095851458527],\"y\":[-0.27312011836005606,0.28509479162970536]}]},{\"data\":[{\"type\":\"scatter\",\"x\":[0,2.293040804902027],\"y\":[0,-0.1787844150206116]},{\"type\":\"scatter\",\"x\":[2.293040804902027,2.8350665055174407],\"y\":[-0.1787844150206116,0.26416946505311567]}]},{\"data\":[{\"type\":\"scatter\",\"x\":[0,2.299303417204564],\"y\":[0,-0.05660208151133128]},{\"type\":\"scatter\",\"x\":[2.299303417204564,2.941481280870023],\"y\":[-0.05660208151133128,0.22197930950046518]}]},{\"data\":[{\"type\":\"scatter\",\"x\":[0,2.297951119929915],\"y\":[0,0.09706003509606]},{\"type\":\"scatter\",\"x\":[2.297951119929915,2.995506677978465],\"y\":[0.09706003509606,0.15550867439224605]}]},{\"data\":[{\"type\":\"scatter\",\"x\":[0,2.2862251181706417],\"y\":[0,0.25134579575882154]},{\"type\":\"scatter\",\"x\":[2.2862251181706417,2.9645348964110987],\"y\":[0.25134579575882154,0.07844164675313198]}]},{\"data\":[{\"type\":\"scatter\",\"x\":[0,2.270259977036493],\"y\":[0,0.3686728043486014]},{\"type\":\"scatter\",\"x\":[2.270259977036493,2.871853876321561],\"y\":[0.3686728043486014,0.01078346343022868]}]},{\"data\":[{\"type\":\"scatter\",\"x\":[0,2.2556990280633045],\"y\":[0,0.44924591794947133]},{\"type\":\"scatter\",\"x\":[2.2556990280633045,2.7511066167205454],\"y\":[0.44924591794947133,-0.0452956082147305]}]},{\"data\":[{\"type\":\"scatter\",\"x\":[0,2.2448523957231203],\"y\":[0,0.5006373152454445]},{\"type\":\"scatter\",\"x\":[2.2448523957231203,2.616880442056584],\"y\":[0.5006373152454445,-0.09231726374126514]}]},{\"data\":[{\"type\":\"scatter\",\"x\":[0,2.2387724019474704],\"y\":[0,0.5271604426342635]},{\"type\":\"scatter\",\"x\":[2.2387724019474704,2.475255397156507],\"y\":[0.5271604426342635,-0.13168384320038107]}]},{\"data\":[{\"type\":\"scatter\",\"x\":[0,2.2380032808899584],\"y\":[0,0.5304161712521419]},{\"type\":\"scatter\",\"x\":[2.2380032808899584,2.329515481695659],\"y\":[0.5304161712521419,-0.1635762761878119]}]},{\"data\":[{\"type\":\"scatter\",\"x\":[0,2.2427088204347467],\"y\":[0,0.5101540421717595]},{\"type\":\"scatter\",\"x\":[2.2427088204347467,2.1822071483070573],\"y\":[0.5101540421717595,-0.1872264477114559]}]},{\"data\":[{\"type\":\"scatter\",\"x\":[0,2.2525700196890086],\"y\":[0,0.4646808651087958]},{\"type\":\"scatter\",\"x\":[2.2525700196890086,2.036189733798757],\"y\":[0.4646808651087958,-0.20103647121199808]}]},{\"data\":[{\"type\":\"scatter\",\"x\":[0,2.2665134219833036],\"y\":[0,0.39104591542366746]},{\"type\":\"scatter\",\"x\":[2.2665134219833036,1.8956214793637964],\"y\":[0.39104591542366746,-0.2026199560056477]}]},{\"data\":[{\"type\":\"scatter\",\"x\":[0,2.2822301466150487],\"y\":[0,0.2853516390025693]},{\"type\":\"scatter\",\"x\":[2.2822301466150487,1.767442054439122],\"y\":[0.2853516390025693,-0.18898286338353115]}]},{\"data\":[{\"type\":\"scatter\",\"x\":[0,2.2954789185040854],\"y\":[0,0.14414067678248588]},{\"type\":\"scatter\",\"x\":[2.2954789185040854,1.6638350136850746],\"y\":[0.14414067678248588,-0.15756444002031594]}]},{\"data\":[{\"type\":\"scatter\",\"x\":[0,2.29979788102],\"y\":[0,-0.030491088139265085]},{\"type\":\"scatter\",\"x\":[2.29979788102,1.6043496475165209],\"y\":[-0.030491088139265085,-0.1101889834495565]}]},{\"data\":[{\"type\":\"scatter\",\"x\":[0,2.289306056829169],\"y\":[0,-0.22153504951876268]},{\"type\":\"scatter\",\"x\":[2.289306056829169,1.6081694439661125],\"y\":[-0.22153504951876268,-0.06012589668831658]}]},{\"data\":[{\"type\":\"scatter\",\"x\":[0,2.264626931241345],\"y\":[0,-0.40182690588909886]},{\"type\":\"scatter\",\"x\":[2.264626931241345,1.6730128722228639],\"y\":[-0.40182690588909886,-0.027670781828998958]}]},{\"data\":[{\"type\":\"scatter\",\"x\":[0,2.231800259151418],\"y\":[0,-0.5559384887302398]},{\"type\":\"scatter\",\"x\":[2.231800259151418,1.7777807001044712],\"y\":[-0.5559384887302398,-0.023147497812773032]}]},{\"data\":[{\"type\":\"scatter\",\"x\":[0,2.19650526759962],\"y\":[0,-0.6821763770515074]},{\"type\":\"scatter\",\"x\":[2.19650526759962,1.9036812349750134],\"y\":[-0.6821763770515074,-0.046366589522671586]}]},{\"data\":[{\"type\":\"scatter\",\"x\":[0,2.1625157330374924],\"y\":[0,-0.7832788164921325]},{\"type\":\"scatter\",\"x\":[2.1625157330374924,2.0394608981931373],\"y\":[-0.7832788164921325,-0.09417976147795792]}]},{\"data\":[{\"type\":\"scatter\",\"x\":[0,2.1323189939876754],\"y\":[0,-0.8620995927846081]},{\"type\":\"scatter\",\"x\":[2.1323189939876754,2.1785692256120077],\"y\":[-0.8620995927846081,-0.16362918104571733]}]},{\"data\":[{\"type\":\"scatter\",\"x\":[0,2.1077304954290073],\"y\":[0,-0.920582510500058]},{\"type\":\"scatter\",\"x\":[2.1077304954290073,2.3167220222511187],\"y\":[-0.920582510500058,-0.25250875580184906]}]},{\"data\":[{\"type\":\"scatter\",\"x\":[0,2.090285488137161],\"y\":[0,-0.9595345632561602]},{\"type\":\"scatter\",\"x\":[2.090285488137161,2.4504943366345744],\"y\":[-0.9595345632561602,-0.3593266114059973]}]},{\"data\":[{\"type\":\"scatter\",\"x\":[0,2.0815283342225226],\"y\":[0,-0.9783863213622769]},{\"type\":\"scatter\",\"x\":[2.0815283342225226,2.5762964974849374],\"y\":[-0.9783863213622769,-0.48320507714765976]}]},{\"data\":[{\"type\":\"scatter\",\"x\":[0,2.083302060930787],\"y\":[0,-0.9746037773995827]},{\"type\":\"scatter\",\"x\":[2.083302060930787,2.6890382970041316],\"y\":[-0.9746037773995827,-0.6237710361856286]}]},{\"data\":[{\"type\":\"scatter\",\"x\":[0,2.0980414042211897],\"y\":[0,-0.9424554451928094]},{\"type\":\"scatter\",\"x\":[2.0980414042211897,2.779095332793661],\"y\":[-0.9424554451928094,-0.7806977672421067]}]},{\"data\":[{\"type\":\"scatter\",\"x\":[0,2.1280121739301467],\"y\":[0,-0.8726764506992787]},{\"type\":\"scatter\",\"x\":[2.1280121739301467,2.8236853328655354],\"y\":[-0.8726764506992787,-0.9503865268596948]}]},{\"data\":[{\"type\":\"scatter\",\"x\":[0,2.166365080369037],\"y\":[0,-0.7725686626816122]},{\"type\":\"scatter\",\"x\":[2.166365080369037,2.7793037937064127],\"y\":[-0.7725686626816122,-1.1106605639338047]}]},{\"data\":[{\"type\":\"scatter\",\"x\":[0,2.1923225407721527],\"y\":[0,-0.6955011698209653]},{\"type\":\"scatter\",\"x\":[2.1923225407721527,2.645982459925331],\"y\":[-0.6955011698209653,-1.2285984196299766]}]},{\"data\":[{\"type\":\"scatter\",\"x\":[0,2.2018408850027944],\"y\":[0,-0.6647531249494896]},{\"type\":\"scatter\",\"x\":[2.2018408850027944,2.474487938217208],\"y\":[-0.6647531249494896,-1.309472896922939]}]},{\"data\":[{\"type\":\"scatter\",\"x\":[0,2.1992863470438646],\"y\":[0,-0.6731564184544725]},{\"type\":\"scatter\",\"x\":[2.1992863470438646,2.2906543282349974],\"y\":[-0.6731564184544725,-1.367167867937157]}]},{\"data\":[{\"type\":\"scatter\",\"x\":[0,2.1864152010064073],\"y\":[0,-0.7138547252824698]},{\"type\":\"scatter\",\"x\":[2.1864152010064073,2.103926514021691],\"y\":[-0.7138547252824698,-1.4089774601426797]}]},{\"data\":[{\"type\":\"scatter\",\"x\":[0,2.1627757158699925],\"y\":[0,-0.782560670391147]},{\"type\":\"scatter\",\"x\":[2.1627757158699925,1.9189771812014003],\"y\":[-0.782560670391147,-1.438733113041284]}]},{\"data\":[{\"type\":\"scatter\",\"x\":[0,2.1266127444117835],\"y\":[0,-0.8760811807734382]},{\"type\":\"scatter\",\"x\":[2.1266127444117835,1.7389732652352268],\"y\":[-0.8760811807734382,-1.4589496343577162]}]},{\"data\":[{\"type\":\"scatter\",\"x\":[0,2.075428204832689],\"y\":[0,-0.9912606955715341]},{\"type\":\"scatter\",\"x\":[2.075428204832689,1.5664368387495724],\"y\":[-0.9912606955715341,-1.4718101615506802]}]},{\"data\":[{\"type\":\"scatter\",\"x\":[0,2.0064678844807746],\"y\":[0,-1.124316071461777]},{\"type\":\"scatter\",\"x\":[2.0064678844807746,1.4033532231927315],\"y\":[-1.124316071461777,-1.479636638470512]}]},{\"data\":[{\"type\":\"scatter\",\"x\":[0,1.9172628790837642],\"y\":[0,-1.2704735544226946]},{\"type\":\"scatter\",\"x\":[1.9172628790837642,1.2509612819268763],\"y\":[-1.2704735544226946,-1.485047974207952]}]},{\"data\":[{\"type\":\"scatter\",\"x\":[0,1.806215122991518],\"y\":[0,-1.4239336113305057]},{\"type\":\"scatter\",\"x\":[1.806215122991518,1.1094189668933438],\"y\":[-1.4239336113305057,-1.490829925480157]}]},{\"data\":[{\"type\":\"scatter\",\"x\":[0,1.6730974253946884],\"y\":[0,-1.5782094300623302]},{\"type\":\"scatter\",\"x\":[1.6730974253946884,0.9775339878738396],\"y\":[-1.5782094300623302,-1.499523317029723]}]},{\"data\":[{\"type\":\"scatter\",\"x\":[0,1.5192723259550518],\"y\":[0,-1.7267922861731593]},{\"type\":\"scatter\",\"x\":[1.5192723259550518,0.8527724529226512],\"y\":[-1.7267922861731593,-1.5128345350917978]}]},{\"data\":[{\"type\":\"scatter\",\"x\":[0,1.347496557901526],\"y\":[0,-1.8639348235503135]},{\"type\":\"scatter\",\"x\":[1.347496557901526,0.7316787936772589],\"y\":[-1.8639348235503135,-1.5311158318058142]}]},{\"data\":[{\"type\":\"scatter\",\"x\":[0,1.1613805008950393],\"y\":[0,-1.98524440111055]},{\"type\":\"scatter\",\"x\":[1.1613805008950393,0.6106179712269884],\"y\":[-1.98524440111055,-1.5532020005135145]}]},{\"data\":[{\"type\":\"scatter\",\"x\":[0,0.9647677342456726],\"y\":[0,-2.0878752881717983]},{\"type\":\"scatter\",\"x\":[0.9647677342456726,0.4865303836128576],\"y\":[-2.0878752881717983,-1.5767108953785347]}]},{\"data\":[{\"type\":\"scatter\",\"x\":[0,0.7613009661389256],\"y\":[0,-2.170350395432944]},{\"type\":\"scatter\",\"x\":[0.7613009661389256,0.35738964391685607],\"y\":[-2.170350395432944,-1.5986374921494697]}]},{\"data\":[{\"type\":\"scatter\",\"x\":[0,0.5542611922900184],\"y\":[0,-2.232217402208227]},{\"type\":\"scatter\",\"x\":[0.5542611922900184,0.2222723903982033],\"y\":[-2.232217402208227,-1.6159516840164416]}]},{\"data\":[{\"type\":\"scatter\",\"x\":[0,0.34659802850132876],\"y\":[0,-2.2737347705128212]},{\"type\":\"scatter\",\"x\":[0.34659802850132876,0.08115903935641278],\"y\":[-2.2737347705128212,-1.626014041307923]}]},{\"data\":[{\"type\":\"scatter\",\"x\":[0,0.14102397705405698],\"y\":[0,-2.2956725023173177]},{\"type\":\"scatter\",\"x\":[0.14102397705405698,-0.06536401909948045],\"y\":[-2.2956725023173177,-1.6267898556267886]}]},{\"data\":[{\"type\":\"scatter\",\"x\":[0,-0.05991659677492732],\"y\":[0,-2.299219433075258]},{\"type\":\"scatter\",\"x\":[-0.05991659677492732,-0.2163892555138242],\"y\":[-2.299219433075258,-1.6169318785447793]}]},{\"data\":[{\"type\":\"scatter\",\"x\":[0,-0.2538456624054995],\"y\":[0,-2.2859489013707]},{\"type\":\"scatter\",\"x\":[-0.2538456624054995,-0.3709184245384495],\"y\":[-2.2859489013707,-1.5958083588965155]}]},{\"data\":[{\"type\":\"scatter\",\"x\":[0,-0.4386300268167054],\"y\":[0,-2.257787345959485]},{\"type\":\"scatter\",\"x\":[-0.4386300268167054,-0.5280339411120898],\"y\":[-2.257787345959485,-1.5635201494791504]}]},{\"data\":[{\"type\":\"scatter\",\"x\":[0,-0.6125339243565833],\"y\":[0,-2.2169353151394207]},{\"type\":\"scatter\",\"x\":[-0.6125339243565833,-0.6870124417137197],\"y\":[-2.2169353151394207,-1.5209087707804554]}]},{\"data\":[{\"type\":\"scatter\",\"x\":[0,-0.7744114134224587],\"y\":[0,-2.1657070353030274]},{\"type\":\"scatter\",\"x\":[-0.7744114134224587,-0.8473739895533485],\"y\":[-2.1657070353030274,-1.4695199465945796]}]},{\"data\":[{\"type\":\"scatter\",\"x\":[0,-0.9238652675939867],\"y\":[0,-2.1062936564813297]},{\"type\":\"scatter\",\"x\":[-0.9238652675939867,-1.0088585464194435],\"y\":[-2.1062936564813297,-1.4114727136805978]}]},{\"data\":[{\"type\":\"scatter\",\"x\":[0,-1.0612805777553045],\"y\":[0,-2.0405106065098915]},{\"type\":\"scatter\",\"x\":[-1.0612805777553045,-1.1713391077716693],\"y\":[-2.0405106065098915,-1.3492168050255755]}]},{\"data\":[{\"type\":\"scatter\",\"x\":[0,-1.187687262019206],\"y\":[0,-1.9696189904743813]},{\"type\":\"scatter\",\"x\":[-1.187687262019206,-1.3347091794240276],\"y\":[-1.9696189904743813,-1.2852327283368294]}]},{\"data\":[{\"type\":\"scatter\",\"x\":[0,-1.3045019548047656],\"y\":[0,-1.8942741749574015]},{\"type\":\"scatter\",\"x\":[-1.3045019548047656,-1.4987904635520013],\"y\":[-1.8942741749574015,-1.2217773531293907]}]},{\"data\":[{\"type\":\"scatter\",\"x\":[0,-1.4132613457847736],\"y\":[0,-1.8145777383486796]},{\"type\":\"scatter\",\"x\":[-1.4132613457847736,-1.6632812924741007],\"y\":[-1.8145777383486796,-1.160750523973608]}]},{\"data\":[{\"type\":\"scatter\",\"x\":[0,-1.5154349341528863],\"y\":[0,-1.7301609637109017]},{\"type\":\"scatter\",\"x\":[-1.5154349341528863,-1.82773201690774],\"y\":[-1.7301609637109017,-1.1036862777875134]}]},{\"data\":[{\"type\":\"scatter\",\"x\":[0,-1.6123388788676971],\"y\":[0,-1.6402327090055413]},{\"type\":\"scatter\",\"x\":[-1.6123388788676971,-1.9915161416383744],\"y\":[-1.6402327090055413,-1.0518241745690184]}]},{\"data\":[{\"type\":\"scatter\",\"x\":[0,-1.705127542688025],\"y\":[0,-1.5435478817214245]},{\"type\":\"scatter\",\"x\":[-1.705127542688025,-2.153761532150936],\"y\":[-1.5435478817214245,-1.0062141460425709]}]},{\"data\":[{\"type\":\"scatter\",\"x\":[0,-1.7948305842339716],\"y\":[0,-1.4382569916041916]},{\"type\":\"scatter\",\"x\":[-1.7948305842339716,-2.3131909085631315],\"y\":[-1.4382569916041916,-0.967828916165057]}]},{\"data\":[{\"type\":\"scatter\",\"x\":[0,-1.8824118421149645],\"y\":[0,-1.3215618247608947]},{\"type\":\"scatter\",\"x\":[-1.8824118421149645,-2.467758223040128],\"y\":[-1.3215618247608947,-0.9376743225707178]}]},{\"data\":[{\"type\":\"scatter\",\"x\":[0,-1.9688216628032782],\"y\":[0,-1.189008519766168]},{\"type\":\"scatter\",\"x\":[-1.9688216628032782,-2.613756166128985],\"y\":[-1.189008519766168,-0.9168697933415305]}]},{\"data\":[{\"type\":\"scatter\",\"x\":[0,-2.054892123804871],\"y\":[0,-1.033159406638059]},{\"type\":\"scatter\",\"x\":[-2.054892123804871,-2.7433307868694965],\"y\":[-1.033159406638059,-0.9064621012294954]}]},{\"data\":[{\"type\":\"scatter\",\"x\":[0,-2.1399451786521775],\"y\":[0,-0.8429914782269742]},{\"type\":\"scatter\",\"x\":[-2.1399451786521775,-2.837174441139276],\"y\":[-0.8429914782269742,-0.9052116962569421]}]},{\"data\":[{\"type\":\"scatter\",\"x\":[0,-2.214622160306191],\"y\":[0,-0.6208451393711152]},{\"type\":\"scatter\",\"x\":[-2.214622160306191,-2.857064200929943],\"y\":[-0.6208451393711152,-0.8988167646122337]}]},{\"data\":[{\"type\":\"scatter\",\"x\":[0,-2.26289007353045],\"y\":[0,-0.4114954618429653]},{\"type\":\"scatter\",\"x\":[-2.26289007353045,-2.7972998852508217],\"y\":[-0.4114954618429653,-0.8636084489789205]}]},{\"data\":[{\"type\":\"scatter\",\"x\":[0,-2.2876812251186918],\"y\":[0,-0.23772802156969217]},{\"type\":\"scatter\",\"x\":[-2.2876812251186918,-2.700222278260403],\"y\":[-0.23772802156969217,-0.8032453771590039]}]},{\"data\":[{\"type\":\"scatter\",\"x\":[0,-2.298124743628654],\"y\":[0,-0.09285829376923332]},{\"type\":\"scatter\",\"x\":[-2.298124743628654,-2.589608938014496],\"y\":[-0.09285829376923332,-0.729283438168193]}]},{\"data\":[{\"type\":\"scatter\",\"x\":[0,-2.299802675076448],\"y\":[0,0.030127324992643822]},{\"type\":\"scatter\",\"x\":[-2.299802675076448,-2.4736005934388277],\"y\":[0.030127324992643822,-0.6479540001984453]}]},{\"data\":[{\"type\":\"scatter\",\"x\":[0,-2.2960194772031866],\"y\":[0,0.13525738539394191]},{\"type\":\"scatter\",\"x\":[-2.2960194772031866,-2.355377594572949],\"y\":[0.13525738539394191,-0.5622213697680468]}]},{\"data\":[{\"type\":\"scatter\",\"x\":[0,-2.2890068044710974],\"y\":[0,0.2246059863071652]},{\"type\":\"scatter\",\"x\":[-2.2890068044710974,-2.2365322698050005],\"y\":[0.2246059863071652,-0.47342440215137216]}]},{\"data\":[{\"type\":\"scatter\",\"x\":[0,-2.280484591670298],\"y\":[0,0.2989816501967201]},{\"type\":\"scatter\",\"x\":[-2.280484591670298,-2.1181850574056638],\"y\":[0.2989816501967201,-0.38194335388044165]}]},{\"data\":[{\"type\":\"scatter\",\"x\":[0,-2.2719308303152377],\"y\":[0,0.35823219043396215]},{\"type\":\"scatter\",\"x\":[-2.2719308303152377,-2.0015243860752694],\"y\":[0.35823219043396215,-0.2874305349215418]}]},{\"data\":[{\"type\":\"scatter\",\"x\":[0,-2.264712638505915],\"y\":[0,0.4013435747480891]},{\"type\":\"scatter\",\"x\":[-2.264712638505915,-1.8882895113000757],\"y\":[0.4013435747480891,-0.1888306616470422]}]},{\"data\":[{\"type\":\"scatter\",\"x\":[0,-2.260109509433116],\"y\":[0,0.4265032301987856]},{\"type\":\"scatter\",\"x\":[-2.260109509433116,-1.7814928360765485],\"y\":[0.4265032301987856,-0.08430601011024857]}]},{\"data\":[{\"type\":\"scatter\",\"x\":[0,-2.2591567703326403],\"y\":[0,0.43152136338794694]},{\"type\":\"scatter\",\"x\":[-2.2591567703326403,-1.686673298211204],\"y\":[0.43152136338794694,0.028702950020602414]}]},{\"data\":[{\"type\":\"scatter\",\"x\":[0,-2.2621173056154436],\"y\":[0,0.4157226186234346]},{\"type\":\"scatter\",\"x\":[-2.2621173056154436,-1.6134975520017978],\"y\":[0.4157226186234346,0.15248809349009806]}]},{\"data\":[{\"type\":\"scatter\",\"x\":[0,-2.267636422345211],\"y\":[0,0.384480241434344]},{\"type\":\"scatter\",\"x\":[-2.267636422345211,-1.5746250659043348],\"y\":[0.384480241434344,0.2858128210567079]}]},{\"data\":[{\"type\":\"scatter\",\"x\":[0,-2.2730556202542633],\"y\":[0,0.35102442540442313]},{\"type\":\"scatter\",\"x\":[-2.2730556202542633,-1.5765726681260546],\"y\":[0.35102442540442313,0.4211065015350237]}]},{\"data\":[{\"type\":\"scatter\",\"x\":[0,-2.276603349752095],\"y\":[0,0.32722650854956525]},{\"type\":\"scatter\",\"x\":[-2.276603349752095,-1.6128294095239388],\"y\":[0.32722650854956525,0.5494969660422067]}]},{\"data\":[{\"type\":\"scatter\",\"x\":[0,-2.2780852621715577],\"y\":[0,0.3167452261309465]},{\"type\":\"scatter\",\"x\":[-2.2780852621715577,-1.671868300626866],\"y\":[0.3167452261309465,0.6667466483216593]}]},{\"data\":[{\"type\":\"scatter\",\"x\":[0,-2.277853039818856],\"y\":[0,0.3184109435744898]},{\"type\":\"scatter\",\"x\":[-2.277853039818856,-1.74490635035038],\"y\":[0.3184109435744898,0.7722477272143704]}]},{\"data\":[{\"type\":\"scatter\",\"x\":[0,-2.276196658852408],\"y\":[0,0.3300435883775581]},{\"type\":\"scatter\",\"x\":[-2.276196658852408,-1.8266229769027198],\"y\":[0.3300435883775581,0.8665913537239442]}]},{\"data\":[{\"type\":\"scatter\",\"x\":[0,-2.2732478575859423],\"y\":[0,0.34977732628191055]},{\"type\":\"scatter\",\"x\":[-2.2732478575859423,-1.9138860299425344],\"y\":[0.34977732628191055,0.9504927970605392]}]},{\"data\":[{\"type\":\"scatter\",\"x\":[0,-2.269010747505078],\"y\":[0,0.37628476943193834]},{\"type\":\"scatter\",\"x\":[-2.269010747505078,-2.004766027378917],\"y\":[0.37628476943193834,1.0244936307455172]}]},{\"data\":[{\"type\":\"scatter\",\"x\":[0,-2.2633910356390126],\"y\":[0,0.40873098706723654]},{\"type\":\"scatter\",\"x\":[-2.2633910356390126,-2.0979748535743825],\"y\":[0.40873098706723654,1.0889055872333713]}]},{\"data\":[{\"type\":\"scatter\",\"x\":[0,-2.2562038150097576],\"y\":[0,0.44670386738354506]},{\"type\":\"scatter\",\"x\":[-2.2562038150097576,-2.192548702674749],\"y\":[0.44670386738354506,1.1438035924398797]}]},{\"data\":[{\"type\":\"scatter\",\"x\":[0,-2.2471592320073785],\"y\":[0,0.49017893263991685]},{\"type\":\"scatter\",\"x\":[-2.2471592320073785,-2.2876430830837644],\"y\":[0.49017893263991685,1.1890072790899051]}]},{\"data\":[{\"type\":\"scatter\",\"x\":[0,-2.2358232144522567],\"y\":[0,0.5395317912008324]},{\"type\":\"scatter\",\"x\":[-2.2358232144522567,-2.3823535925894634],\"y\":[0.5395317912008324,1.224023462649775]}]},{\"data\":[{\"type\":\"scatter\",\"x\":[0,-2.2215440742199566],\"y\":[0,0.595602154376723]},{\"type\":\"scatter\",\"x\":[-2.2215440742199566,-2.4754780508724488],\"y\":[0.595602154376723,1.2479192057416644]}]},{\"data\":[{\"type\":\"scatter\",\"x\":[0,-2.2033331119548016],\"y\":[0,0.6597902680121687]},{\"type\":\"scatter\",\"x\":[-2.2033331119548016,-2.565074426476918],\"y\":[0.6597902680121687,1.2590758605036045]}]},{\"data\":[{\"type\":\"scatter\",\"x\":[0,-2.179729990331456],\"y\":[0,0.7340144203281224]},{\"type\":\"scatter\",\"x\":[-2.179729990331456,-2.6474930599956807],\"y\":[0.7340144203281224,1.254780884934189]}]},{\"data\":[{\"type\":\"scatter\",\"x\":[0,-2.1490035325581154],\"y\":[0,0.8196241925740965]},{\"type\":\"scatter\",\"x\":[-2.1490035325581154,-2.71539269798492],\"y\":[0.8196241925740965,1.2309674960167651]}]},{\"data\":[{\"type\":\"scatter\",\"x\":[0,-2.1110908566660265],\"y\":[0,0.9128501492036363]},{\"type\":\"scatter\",\"x\":[-2.1110908566660265,-2.7563299175538605],\"y\":[0.9128501492036363,1.184265982022184]}]},{\"data\":[{\"type\":\"scatter\",\"x\":[0,-2.0709476125666506],\"y\":[0,1.0005878202359297]},{\"type\":\"scatter\",\"x\":[-2.0709476125666506,-2.760974068517032],\"y\":[1.0005878202359297,1.1183311431402705]}]},{\"data\":[{\"type\":\"scatter\",\"x\":[0,-2.0351923526200735],\"y\":[0,1.0714439265947466]},{\"type\":\"scatter\",\"x\":[-2.0351923526200735,-2.734600623321145],\"y\":[1.0714439265947466,1.0426677059440632]}]},{\"data\":[{\"type\":\"scatter\",\"x\":[0,-2.0067084141908778],\"y\":[0,1.1238867115575004]},{\"type\":\"scatter\",\"x\":[-2.0067084141908778,-2.688100831113652],\"y\":[1.1238867115575004,0.9635608740884877]}]},{\"data\":[{\"type\":\"scatter\",\"x\":[0,-1.985938091291648],\"y\":[0,1.160193905154171]},{\"type\":\"scatter\",\"x\":[-1.985938091291648,-2.628870307552058],\"y\":[1.160193905154171,0.8833579152712133]}]},{\"data\":[{\"type\":\"scatter\",\"x\":[0,-1.9727657718014886],\"y\":[0,1.1824530475280939]},{\"type\":\"scatter\",\"x\":[-1.9727657718014886,-2.5609323173390353],\"y\":[1.1824530475280939,0.8029005284870143]}]},{\"data\":[{\"type\":\"scatter\",\"x\":[0,-1.9670715814647222],\"y\":[0,1.1919015871261671]},{\"type\":\"scatter\",\"x\":[-1.9670715814647222,-2.486510965963572],\"y\":[1.1919015871261671,0.7226652651822492]}]},{\"data\":[{\"type\":\"scatter\",\"x\":[0,-1.9688006394857331],\"y\":[0,1.1890433305647732]},{\"type\":\"scatter\",\"x\":[-1.9688006394857331,-2.406955035373124],\"y\":[1.1890433305647732,0.6431305853714084]}]},{\"data\":[{\"type\":\"scatter\",\"x\":[0,-1.977920821418247],\"y\":[0,1.1738097052760152]},{\"type\":\"scatter\",\"x\":[-1.977920821418247,-2.323209806756134],\"y\":[1.1738097052760152,0.5648963152078281]}]},{\"data\":[{\"type\":\"scatter\",\"x\":[0,-1.9943536687725971],\"y\":[0,1.1456672483113417]},{\"type\":\"scatter\",\"x\":[-1.9943536687725971,-2.2360822135514278],\"y\":[1.1456672483113417,0.4887294197163454]}]},{\"data\":[{\"type\":\"scatter\",\"x\":[0,-2.017890562470881],\"y\":[0,1.1036836856142025]},{\"type\":\"scatter\",\"x\":[-2.017890562470881,-2.146422805203096],\"y\":[1.1036836856142025,0.4155852460154581]}]},{\"data\":[{\"type\":\"scatter\",\"x\":[0,-2.0480906596730226],\"y\":[0,1.0465775889823568]},{\"type\":\"scatter\",\"x\":[-2.0480906596730226,-2.055285380627887],\"y\":[1.0465775889823568,0.34661456425149173]}]},{\"data\":[{\"type\":\"scatter\",\"x\":[0,-2.084154795342862],\"y\":[0,0.972778900392762]},{\"type\":\"scatter\",\"x\":[-2.084154795342862,-1.9640993250209788],\"y\":[0.972778900392762,0.2831509687906616]}]},{\"data\":[{\"type\":\"scatter\",\"x\":[0,-2.124772097878613],\"y\":[0,0.8805359345742328]},{\"type\":\"scatter\",\"x\":[-2.124772097878613,-1.8748792893139044],\"y\":[0.8805359345742328,0.22666011744406722]}]},{\"data\":[{\"type\":\"scatter\",\"x\":[0,-2.167944519551014],\"y\":[0,0.7681253544498593]},{\"type\":\"scatter\",\"x\":[-2.167944519551014,-1.7904876395743048],\"y\":[0.7681253544498593,0.17861173818790388]}]},{\"data\":[{\"type\":\"scatter\",\"x\":[0,-2.2108171113836117],\"y\":[0,0.6342615391251647]},{\"type\":\"scatter\",\"x\":[-2.2108171113836117,-1.7149337704139493],\"y\":[0.6342615391251647,0.14019705735303262]}]},{\"data\":[{\"type\":\"scatter\",\"x\":[0,-2.2496004663367795],\"y\":[0,0.47885043787945397]},{\"type\":\"scatter\",\"x\":[-2.2496004663367795,-1.653576398496556],\"y\":[0.47885043787945397,0.11176010764016181]}]},{\"data\":[{\"type\":\"scatter\",\"x\":[0,-2.2797993461327586],\"y\":[0,0.30416268898838644]},{\"type\":\"scatter\",\"x\":[-2.2797993461327586,-1.6127761025627576],\"y\":[0.30416268898838644,0.0918421941289517]}]},{\"data\":[{\"type\":\"scatter\",\"x\":[0,-2.2970777416815733],\"y\":[0,0.11590448080674833]},{\"type\":\"scatter\",\"x\":[-2.2970777416815733,-1.5982032528758015],\"y\":[0.11590448080674833,0.07622515500008901]}]},{\"data\":[{\"type\":\"scatter\",\"x\":[0,-2.2986976434617468],\"y\":[0,-0.07738955965380981]},{\"type\":\"scatter\",\"x\":[-2.2986976434617468,-1.611980753281892],\"y\":[-0.07738955965380981,0.05833041950073106]}]},{\"data\":[{\"type\":\"scatter\",\"x\":[0,-2.284422986429142],\"y\":[0,-0.26722952507939424]},{\"type\":\"scatter\",\"x\":[-2.284422986429142,-1.6514167656519771],\"y\":[-0.26722952507939424,0.03160675862359097]}]},{\"data\":[{\"type\":\"scatter\",\"x\":[0,-2.256019841010663],\"y\":[0,-0.447632077677887]},{\"type\":\"scatter\",\"x\":[-2.256019841010663,-1.7110108265889912],\"y\":[-0.447632077677887,-0.00835406297749508]}]},{\"data\":[{\"type\":\"scatter\",\"x\":[0,-2.2161869430095655],\"y\":[0,-0.615236079593773]},{\"type\":\"scatter\",\"x\":[-2.2161869430095655,-1.7850924709007927],\"y\":[-0.615236079593773,-0.06373126899167281]}]},{\"data\":[{\"type\":\"scatter\",\"x\":[0,-2.1678771537765846],\"y\":[0,-0.7683154600380847]},{\"type\":\"scatter\",\"x\":[-2.1678771537765846,-1.868933227137104],\"y\":[-0.7683154600380847,-0.13536006767194908]}]},{\"data\":[{\"type\":\"scatter\",\"x\":[0,-2.114045543786933],\"y\":[0,-0.905986445149489]},{\"type\":\"scatter\",\"x\":[-2.114045543786933,-1.9587527013265709],\"y\":[-0.905986445149489,-0.22342939033239828]}]},{\"data\":[{\"type\":\"scatter\",\"x\":[0,-2.0575809146952886],\"y\":[0,-1.0277941328309372]},{\"type\":\"scatter\",\"x\":[-2.0575809146952886,-2.0514284986343982],\"y\":[-1.0277941328309372,-0.3278211706555303]}]},{\"data\":[{\"type\":\"scatter\",\"x\":[0,-2.0012937717706074],\"y\":[0,-1.1335004362911272]},{\"type\":\"scatter\",\"x\":[-2.0012937717706074,-2.14422472756842],\"y\":[-1.1335004362911272,-0.44824811643024287]}]},{\"data\":[{\"type\":\"scatter\",\"x\":[0,-1.9479319166049696],\"y\":[0,-1.2229314160130522]},{\"type\":\"scatter\",\"x\":[-1.9479319166049696,-2.234572459859167],\"y\":[-1.2229314160130522,-0.5843100892763557]}]},{\"data\":[{\"type\":\"scatter\",\"x\":[0,-1.900233356648428],\"y\":[0,-1.2958060002487435]},{\"type\":\"scatter\",\"x\":[-1.900233356648428,-2.3198503067626137],\"y\":[-1.2958060002487435,-0.7355189174270271]}]},{\"data\":[{\"type\":\"scatter\",\"x\":[0,-1.861043879327562],\"y\":[0,-1.351486470230989]},{\"type\":\"scatter\",\"x\":[-1.861043879327562,-2.397073041857526],\"y\":[-1.351486470230989,-0.9012945812353904]}]},{\"data\":[{\"type\":\"scatter\",\"x\":[0,-1.8335481518988213],\"y\":[0,-1.3885608285805904]},{\"type\":\"scatter\",\"x\":[-1.8335481518988213,-2.4623034533306094],\"y\":[-1.3885608285805904,-1.0808811722472194]}]},{\"data\":[{\"type\":\"scatter\",\"x\":[0,-1.8216883209262245],\"y\":[0,-1.404083922492168]},{\"type\":\"scatter\",\"x\":[-1.8216883209262245,-2.509297076753414],\"y\":[-1.404083922492168,-1.2729572703203673]}]},{\"data\":[{\"type\":\"scatter\",\"x\":[0,-1.8306492179661673],\"y\":[0,-1.3923804942471218]},{\"type\":\"scatter\",\"x\":[-1.8306492179661673,-2.5258896612000026],\"y\":[-1.3923804942471218,-1.4738711445821153]}]},{\"data\":[{\"type\":\"scatter\",\"x\":[0,-1.8642969397190645],\"y\":[0,-1.346995516159623]},{\"type\":\"scatter\",\"x\":[-1.8642969397190645,-2.485574974697343],\"y\":[-1.346995516159623,-1.6695069163511955]}]},{\"data\":[{\"type\":\"scatter\",\"x\":[0,-1.9064421638411708],\"y\":[0,-1.2866539068174447]},{\"type\":\"scatter\",\"x\":[-1.9064421638411708,-2.3581320446815575],\"y\":[-1.2866539068174447,-1.8214213810961235]}]},{\"data\":[{\"type\":\"scatter\",\"x\":[0,-1.926437796867405],\"y\":[0,-1.2565179723349198]},{\"type\":\"scatter\",\"x\":[-1.926437796867405,-2.1715705986807627],\"y\":[-1.2565179723349198,-1.9121931277854927]}]},{\"data\":[{\"type\":\"scatter\",\"x\":[0,-1.9206283935429382],\"y\":[0,-1.265380011663165]},{\"type\":\"scatter\",\"x\":[-1.9206283935429382,-1.966965275254581],\"y\":[-1.265380011663165,-1.9638446803424343]}]},{\"data\":[{\"type\":\"scatter\",\"x\":[0,-1.89344200135687],\"y\":[0,-1.3057095341222296]},{\"type\":\"scatter\",\"x\":[-1.89344200135687,-1.7599778805488477],\"y\":[-1.3057095341222296,-1.9928684156459582]}]},{\"data\":[{\"type\":\"scatter\",\"x\":[0,-1.8468882207943966],\"y\":[0,-1.3707676316177395]},{\"type\":\"scatter\",\"x\":[-1.8468882207943966,-1.5562722839767258],\"y\":[-1.3707676316177395,-2.0075897239383402]}]},{\"data\":[{\"type\":\"scatter\",\"x\":[0,-1.7812509998637225],\"y\":[0,-1.4550411937414307]},{\"type\":\"scatter\",\"x\":[-1.7812509998637225,-1.3584811786266235],\"y\":[-1.4550411937414307,-2.012953084859689]}]},{\"data\":[{\"type\":\"scatter\",\"x\":[0,-1.6962158641289156],\"y\":[0,-1.5533356824194169]},{\"type\":\"scatter\",\"x\":[-1.6962158641289156,-1.1679081460209524],\"y\":[-1.5533356824194169,-2.0125643346043134]}]},{\"data\":[{\"type\":\"scatter\",\"x\":[0,-1.5916431722721678],\"y\":[0,-1.6603228638308243]},{\"type\":\"scatter\",\"x\":[-1.5916431722721678,-0.9849036156145787],\"y\":[-1.6603228638308243,-2.0094175650036608]}]},{\"data\":[{\"type\":\"scatter\",\"x\":[0,-1.4681009974914276],\"y\":[0,-1.770502601287181]},{\"type\":\"scatter\",\"x\":[-1.4681009974914276,-0.8089266340227622],\"y\":[-1.770502601287181,-2.0060639702458447]}]},{\"data\":[{\"type\":\"scatter\",\"x\":[0,-1.3271687956676057],\"y\":[0,-1.8784629322417294]},{\"type\":\"scatter\",\"x\":[-1.3271687956676057,-0.6386144887621339],\"y\":[-1.8784629322417294,-2.004530241413954]}]},{\"data\":[{\"type\":\"scatter\",\"x\":[0,-1.1714717214547012],\"y\":[0,-1.9793064456601857]},{\"type\":\"scatter\",\"x\":[-1.1714717214547012,-0.4719875716854226],\"y\":[-1.9793064456601857,-2.006175093217314]}]},{\"data\":[{\"type\":\"scatter\",\"x\":[0,-1.0044396139491212],\"y\":[0,-2.0690821786313225]},{\"type\":\"scatter\",\"x\":[-1.0044396139491212,-0.30680109873450234],\"y\":[-2.0690821786313225,-2.01163218220711]}]},{\"data\":[{\"type\":\"scatter\",\"x\":[0,-0.82986231867592],\"y\":[0,-2.1450707522228316]},{\"type\":\"scatter\",\"x\":[-0.82986231867592,-0.14095952990785154],\"y\":[-2.1450707522228316,-2.0209218592451728]}]},{\"data\":[{\"type\":\"scatter\",\"x\":[0,-0.6513741722888988],\"y\":[0,-2.2058358251862153]},{\"type\":\"scatter\",\"x\":[-0.6513741722888988,0.027134015600607242],\"y\":[-2.2058358251862153,-2.033711919330873]}]},{\"data\":[{\"type\":\"scatter\",\"x\":[0,-0.47200535417674777],\"y\":[0,-2.2510466333749024]},{\"type\":\"scatter\",\"x\":[-0.47200535417674777,0.19838848882583532],\"y\":[-2.2510466333749024,-2.049621472920137]}]},{\"data\":[{\"type\":\"scatter\",\"x\":[0,-0.29389203355624216],\"y\":[0,-2.281146087520958]},{\"type\":\"scatter\",\"x\":[-0.29389203355624216,0.3730107677819653],\"y\":[-2.281146087520958,-2.068447583606964]}]},{\"data\":[{\"type\":\"scatter\",\"x\":[0,-0.11817223943116553],\"y\":[0,-2.296962194253058]},{\"type\":\"scatter\",\"x\":[-0.11817223943116553,0.550610717541758],\"y\":[-2.296962194253058,-2.090251390320238]}]},{\"data\":[{\"type\":\"scatter\",\"x\":[0,0.05496489602431877],\"y\":[0,-2.2993431366816557]},{\"type\":\"scatter\",\"x\":[0.05496489602431877,0.7303421167741677],\"y\":[-2.2993431366816557,-2.115317025240345]}]},{\"data\":[{\"type\":\"scatter\",\"x\":[0,0.226149488118695],\"y\":[0,-2.28885482480293]},{\"type\":\"scatter\",\"x\":[0.226149488118695,0.9110060096406718],\"y\":[-2.28885482480293,-2.1440392699449724]}]},{\"data\":[{\"type\":\"scatter\",\"x\":[0,0.3967097472418819],\"y\":[0,-2.2655289396613942]},{\"type\":\"scatter\",\"x\":[0.3967097472418819,1.0910619771728052],\"y\":[-2.2655289396613942,-2.176787851151312]}]},{\"data\":[{\"type\":\"scatter\",\"x\":[0,0.5686466381601057],\"y\":[0,-2.2285961951213165]},{\"type\":\"scatter\",\"x\":[0.5686466381601057,1.2684891844905244],\"y\":[-2.2285961951213165,-2.2137499718387454]}]},{\"data\":[{\"type\":\"scatter\",\"x\":[0,0.7447966652642591],\"y\":[0,-2.1760693755970277]},{\"type\":\"scatter\",\"x\":[0.7447966652642591,1.4403703556525902],\"y\":[-2.1760693755970277,-2.25466480319659]}]},{\"data\":[{\"type\":\"scatter\",\"x\":[0,0.9293033475208774],\"y\":[0,-2.1039000186050885]},{\"type\":\"scatter\",\"x\":[0.9293033475208774,1.6018204671125305],\"y\":[-2.1039000186050885,-2.2981182563072826]}]},{\"data\":[{\"type\":\"scatter\",\"x\":[0,1.1283166571754535],\"y\":[0,-2.0042209262305417]},{\"type\":\"scatter\",\"x\":[1.1283166571754535,1.7430571065149962],\"y\":[-2.0042209262305417,-2.3390256154835702]}]},{\"data\":[{\"type\":\"scatter\",\"x\":[0,1.3468463635136214],\"y\":[0,-1.864404696703517]},{\"type\":\"scatter\",\"x\":[1.3468463635136214,1.8424689364433702],\"y\":[-1.864404696703517,-2.3587307684441203]}]},{\"data\":[{\"type\":\"scatter\",\"x\":[0,1.5616719097325344],\"y\":[0,-1.6885440018999618]},{\"type\":\"scatter\",\"x\":[1.5616719097325344,1.8762107688173146],\"y\":[-1.6885440018999618,-2.313896147595205]}]},{\"data\":[{\"type\":\"scatter\",\"x\":[0,1.7313760796938633],\"y\":[0,-1.5140465219615638]},{\"type\":\"scatter\",\"x\":[1.7313760796938633,1.8700481733248924],\"y\":[-1.5140465219615638,-2.2001733691611083]}]},{\"data\":[{\"type\":\"scatter\",\"x\":[0,1.8594440050321441],\"y\":[0,-1.353686814647324]},{\"type\":\"scatter\",\"x\":[1.8594440050321441,1.8549617503350806],\"y\":[-1.353686814647324,-2.053672464066532]}]},{\"data\":[{\"type\":\"scatter\",\"x\":[0,1.9594465368321816],\"y\":[0,-1.2043958108929014]},{\"type\":\"scatter\",\"x\":[1.9594465368321816,1.8395584348878478],\"y\":[-1.2043958108929014,-1.8940528582810834]}]},{\"data\":[{\"type\":\"scatter\",\"x\":[0,2.0396270059233954],\"y\":[0,-1.0629777404574217]},{\"type\":\"scatter\",\"x\":[2.0396270059233954,1.825552220093975],\"y\":[-1.0629777404574217,-1.7294400320179328]}]},{\"data\":[{\"type\":\"scatter\",\"x\":[0,2.1047621024231957],\"y\":[0,-0.9273491749082912]},{\"type\":\"scatter\",\"x\":[2.1047621024231957,1.8131004651321745],\"y\":[-0.9273491749082912,-1.5636930201152048]}]},{\"data\":[{\"type\":\"scatter\",\"x\":[0,2.1578154640401856],\"y\":[0,-0.7961359325825189]},{\"type\":\"scatter\",\"x\":[2.1578154640401856,1.801955830621702],\"y\":[-0.7961359325825189,-1.3989326821617303]}]},{\"data\":[{\"type\":\"scatter\",\"x\":[0,2.200743084776722],\"y\":[0,-0.6683785415521925]},{\"type\":\"scatter\",\"x\":[2.200743084776722,1.7917482343498936],\"y\":[-0.6683785415521925,-1.2364658696315434]}]},{\"data\":[{\"type\":\"scatter\",\"x\":[0,2.2348927716362366],\"y\":[0,-0.5433730756010091]},{\"type\":\"scatter\",\"x\":[2.2348927716362366,1.7820610888588477],\"y\":[-0.5433730756010091,-1.0771740376392938]}]},{\"data\":[{\"type\":\"scatter\",\"x\":[0,2.261217411954068],\"y\":[0,-0.4205898428109571]},{\"type\":\"scatter\",\"x\":[2.261217411954068,1.7724516741399317],\"y\":[-0.4205898428109571,-0.9216966712806987]}]},{\"data\":[{\"type\":\"scatter\",\"x\":[0,2.2803987027251096],\"y\":[0,-0.2996360402382129]},{\"type\":\"scatter\",\"x\":[2.2803987027251096,1.7624570076521822],\"y\":[-0.2996360402382129,-0.7705249873424984]}]},{\"data\":[{\"type\":\"scatter\",\"x\":[0,2.2929265206971845],\"y\":[0,-0.18024419736430866]},{\"type\":\"scatter\",\"x\":[2.2929265206971845,1.751599421259301],\"y\":[-0.18024419736430866,-0.6240515558140844]}]},{\"data\":[{\"type\":\"scatter\",\"x\":[0,2.29915676964169],\"y\":[0,-0.06227478310510551]},{\"type\":\"scatter\",\"x\":[2.29915676964169,1.7393978348653865],\"y\":[-0.06227478310510551,-0.4825960113795028]}]},{\"data\":[{\"type\":\"scatter\",\"x\":[0,2.2993594837298184],\"y\":[0,0.05427674070670639]},{\"type\":\"scatter\",\"x\":[2.2993594837298184,1.725386893426403],\"y\":[0.05427674070670639,-0.3464169896914465]}]},{\"data\":[{\"type\":\"scatter\",\"x\":[0,2.2937622232501256],\"y\":[0,0.16927747396106765]},{\"type\":\"scatter\",\"x\":[2.2937622232501256,1.709142878772702],\"y\":[0.16927747396106765,-0.21571632087566442]}]},{\"data\":[{\"type\":\"scatter\",\"x\":[0,2.282589039643285],\"y\":[0,0.28246641588044596]},{\"type\":\"scatter\",\"x\":[2.282589039643285,1.6903122041624834],\"y\":[0.28246641588044596,-0.09063966843452148]}]},{\"data\":[{\"type\":\"scatter\",\"x\":[0,2.2660923530795585],\"y\":[0,0.39347864912133257]},{\"type\":\"scatter\",\"x\":[2.2660923530795585,1.6686364284081847],\"y\":[0.39347864912133257,0.02872336392991337]}]},{\"data\":[{\"type\":\"scatter\",\"x\":[0,2.2445744236406777],\"y\":[0,0.5018821143835643]},{\"type\":\"scatter\",\"x\":[2.2445744236406777,1.6439681613706172],\"y\":[0.5018821143835643,0.14233779483173625]}]},{\"data\":[{\"type\":\"scatter\",\"x\":[0,2.2183965483513766],\"y\":[0,0.6072205153506417]},{\"type\":\"scatter\",\"x\":[2.2183965483513766,1.6162749022646528],\"y\":[0.6072205153506417,0.2502197824188813]}]},{\"data\":[{\"type\":\"scatter\",\"x\":[0,2.1879765890093577],\"y\":[0,0.7090546142202133]},{\"type\":\"scatter\",\"x\":[2.1879765890093577,1.5856313490689375],\"y\":[0.7090546142202133,0.35243126680572134]}]},{\"data\":[{\"type\":\"scatter\",\"x\":[0,2.1537775542130633],\"y\":[0,0.8069958159544541]},{\"type\":\"scatter\",\"x\":[2.1537775542130633,1.552203351473941],\"y\":[0.8069958159544541,0.44907336821082733]}]},{\"data\":[{\"type\":\"scatter\",\"x\":[0,2.1162909149363713],\"y\":[0,0.9007290177171907]},{\"type\":\"scatter\",\"x\":[2.1162909149363713,1.5162276231186584],\"y\":[0.9007290177171907,0.5402792350665554]}]},{\"data\":[{\"type\":\"scatter\",\"x\":[0,2.076018140058095],\"y\":[0,0.9900245866390023]},{\"type\":\"scatter\",\"x\":[2.076018140058095,1.4779908189447075],\"y\":[0.9900245866390023,0.626206880635095]}]}]);\n",
       "                        }).then(function(){\n",
       "                            \n",
       "var gd = document.getElementById('d9b10728-067f-4176-a179-49f9c2717835');\n",
       "var x = new MutationObserver(function (mutations, observer) {{\n",
       "        var display = window.getComputedStyle(gd).display;\n",
       "        if (!display || display === 'none') {{\n",
       "            console.log([gd, 'removed!']);\n",
       "            Plotly.purge(gd);\n",
       "            observer.disconnect();\n",
       "        }}\n",
       "}});\n",
       "\n",
       "// Listen for the removal of the full notebook cells\n",
       "var notebookContainer = gd.closest('#notebook-container');\n",
       "if (notebookContainer) {{\n",
       "    x.observe(notebookContainer, {childList: true});\n",
       "}}\n",
       "\n",
       "// Listen for the clearing of the current output cell\n",
       "var outputEl = gd.closest('.output');\n",
       "if (outputEl) {{\n",
       "    x.observe(outputEl, {childList: true});\n",
       "}}\n",
       "\n",
       "                        })                };                });            </script>        </div>"
      ]
     },
     "metadata": {},
     "output_type": "display_data"
    }
   ],
   "source": [
    "fig = go.Figure(\n",
    "    data=[go.Scatter(x=[0, X1[0]], y=[0, Y1[0]]), go.Scatter(x=[X1[0], X2[0]], y=[Y1[0], Y2[0]])],\n",
    "    layout=go.Layout(\n",
    "        xaxis=dict(range=[-l1 - l2 - 0.3, l1 + l2 + 0.3]),\n",
    "        yaxis=dict(range=[-l1 - l2 - 0.3, l1 + l2 + 0.3]),\n",
    "        title=\"Double Pendulum\",\n",
    "        updatemenus=[dict(\n",
    "            type=\"buttons\",\n",
    "            buttons=[dict(label=\"Play\",\n",
    "                          method=\"animate\",\n",
    "                          args=[None, {\"frame\": {\"duration\": ft, \"redraw\": False}, \"fromcurrent\": True, \"transition\": {\"duration\": 1 / len(t[t <= 1])\n",
    "                                                                                                                   }}])])]\n",
    "    ),\n",
    "    frames=my_frames\n",
    ")\n",
    "\n",
    "fig.update_layout(width=800, height=800)\n",
    "\n",
    "fig.show()"
   ]
  },
  {
   "cell_type": "code",
   "execution_count": null,
   "id": "975ae8b8",
   "metadata": {},
   "outputs": [],
   "source": []
  }
 ],
 "metadata": {
  "interpreter": {
   "hash": "b3ba2566441a7c06988d0923437866b63cedc61552a5af99d1f4fb67d367b25f"
  },
  "kernelspec": {
   "display_name": "Python 3",
   "language": "python",
   "name": "python3"
  },
  "language_info": {
   "codemirror_mode": {
    "name": "ipython",
    "version": 3
   },
   "file_extension": ".py",
   "mimetype": "text/x-python",
   "name": "python",
   "nbconvert_exporter": "python",
   "pygments_lexer": "ipython3",
   "version": "3.8.10"
  }
 },
 "nbformat": 4,
 "nbformat_minor": 5
}
