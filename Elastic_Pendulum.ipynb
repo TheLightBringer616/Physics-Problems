{
 "cells": [
  {
   "cell_type": "markdown",
   "id": "907faa46",
   "metadata": {},
   "source": [
    "<center><h1> Olivares Rueda Luis Carlos </h1></center> <br>\n",
    "<center><h2> Elastic Pendulum </h2></center> <br>"
   ]
  },
  {
   "cell_type": "markdown",
   "id": "fea77a7a",
   "metadata": {},
   "source": [
    "<img src=\"Elastic_Pendulum.png\" width=\"500\" height=\"500\">"
   ]
  },
  {
   "cell_type": "markdown",
   "id": "cedfd4e2",
   "metadata": {},
   "source": [
    "Erase all data stored in the kernel."
   ]
  },
  {
   "cell_type": "code",
   "execution_count": 1,
   "id": "bfe16de3",
   "metadata": {},
   "outputs": [],
   "source": [
    "%reset -f"
   ]
  },
  {
   "cell_type": "code",
   "execution_count": 2,
   "id": "3c2c2e5c",
   "metadata": {},
   "outputs": [
    {
     "data": {
      "text/html": [
       "        <script type=\"text/javascript\">\n",
       "        window.PlotlyConfig = {MathJaxConfig: 'local'};\n",
       "        if (window.MathJax) {MathJax.Hub.Config({SVG: {font: \"STIX-Web\"}});}\n",
       "        if (typeof require !== 'undefined') {\n",
       "        require.undef(\"plotly\");\n",
       "        requirejs.config({\n",
       "            paths: {\n",
       "                'plotly': ['https://cdn.plot.ly/plotly-2.2.0.min']\n",
       "            }\n",
       "        });\n",
       "        require(['plotly'], function(Plotly) {\n",
       "            window._Plotly = Plotly;\n",
       "        });\n",
       "        }\n",
       "        </script>\n",
       "        "
      ]
     },
     "metadata": {},
     "output_type": "display_data"
    },
    {
     "data": {
      "text/html": [
       "        <script type=\"text/javascript\">\n",
       "        window.PlotlyConfig = {MathJaxConfig: 'local'};\n",
       "        if (window.MathJax) {MathJax.Hub.Config({SVG: {font: \"STIX-Web\"}});}\n",
       "        if (typeof require !== 'undefined') {\n",
       "        require.undef(\"plotly\");\n",
       "        requirejs.config({\n",
       "            paths: {\n",
       "                'plotly': ['https://cdn.plot.ly/plotly-2.2.0.min']\n",
       "            }\n",
       "        });\n",
       "        require(['plotly'], function(Plotly) {\n",
       "            window._Plotly = Plotly;\n",
       "        });\n",
       "        }\n",
       "        </script>\n",
       "        "
      ]
     },
     "metadata": {},
     "output_type": "display_data"
    }
   ],
   "source": [
    "# Numeric calculation libraries\n",
    "\n",
    "import numpy as np\n",
    "from scipy.integrate import odeint\n",
    "\n",
    "# Symbolic calculation library\n",
    "\n",
    "import sympy as smp\n",
    "\n",
    "# Graph libraries\n",
    "\n",
    "import plotly.graph_objects as go\n",
    "from plotly.offline import init_notebook_mode\n",
    "import cufflinks as cf\n",
    "init_notebook_mode(connected=True)\n",
    "cf.go_offline()"
   ]
  },
  {
   "cell_type": "markdown",
   "id": "abc8d266",
   "metadata": {},
   "source": [
    "Define all the symbols needed to represent the problem."
   ]
  },
  {
   "cell_type": "code",
   "execution_count": 3,
   "id": "76005f6f",
   "metadata": {},
   "outputs": [],
   "source": [
    "# time and acceleration due to gravity constant (g)\n",
    "\n",
    "t, g = smp.symbols('t g')\n",
    "\n",
    "# Mas, lenght and k constant of the spring\n",
    "\n",
    "m, k, l = smp.symbols('m k l')"
   ]
  },
  {
   "cell_type": "markdown",
   "id": "207f4294",
   "metadata": {},
   "source": [
    "Define $\\theta$ and $z$ as functions of time."
   ]
  },
  {
   "cell_type": "code",
   "execution_count": 4,
   "id": "0a142e25",
   "metadata": {},
   "outputs": [],
   "source": [
    "theta = smp.Function(r'\\theta')(t)\n",
    "z = smp.Function('z')(t)"
   ]
  },
  {
   "cell_type": "markdown",
   "id": "b73d5af4",
   "metadata": {},
   "source": [
    "Define first and second derivatives of $\\theta$ and $z$."
   ]
  },
  {
   "cell_type": "code",
   "execution_count": 5,
   "id": "a6b7cbad",
   "metadata": {},
   "outputs": [],
   "source": [
    "# First derivatives\n",
    "\n",
    "theta_d = smp.diff(theta, t)\n",
    "z_d = smp.diff(z, t)\n",
    "\n",
    "# Second derivatives\n",
    "\n",
    "theta_dd = smp.diff(theta_d, t)\n",
    "z_dd = smp.diff(z_d, t)"
   ]
  },
  {
   "cell_type": "markdown",
   "id": "8e10dc51",
   "metadata": {},
   "source": [
    "Define the ($x$-$y$) position of the particle of the pendulum."
   ]
  },
  {
   "cell_type": "code",
   "execution_count": 6,
   "id": "0202430c",
   "metadata": {},
   "outputs": [],
   "source": [
    "x = (l + z) * smp.sin(theta)\n",
    "y = - (l + z) * smp.cos(theta)"
   ]
  },
  {
   "cell_type": "markdown",
   "id": "d12604ec",
   "metadata": {},
   "source": [
    "Define the velocity of the particle."
   ]
  },
  {
   "cell_type": "code",
   "execution_count": 7,
   "id": "0948f314",
   "metadata": {},
   "outputs": [],
   "source": [
    "vx = smp.diff(x, t)\n",
    "vy = smp.diff(y, t)\n",
    "\n",
    "# Net velocity of the particle\n",
    "\n",
    "v = smp.sqrt((vx**2) + (vy**2))"
   ]
  },
  {
   "cell_type": "markdown",
   "id": "78ef270c",
   "metadata": {},
   "source": [
    "Define the Langranian for the system $L = K - V$ <br>\n",
    "$K$ = Kinetic energy $= \\frac{1}{2} m v^{2}$ <br>\n",
    "$V$ = Potential energy $= m g y$. <br>"
   ]
  },
  {
   "cell_type": "code",
   "execution_count": 8,
   "id": "d104dde8",
   "metadata": {},
   "outputs": [],
   "source": [
    "L = ((smp.Rational(1, 2) * m * (v**2)) - ((m * g * y) + (smp.Rational(1, 2) * k * (z**2)))).simplify()"
   ]
  },
  {
   "cell_type": "markdown",
   "id": "544defee",
   "metadata": {},
   "source": [
    "Define the equations of motion by applying the Euler-Lagrange equations for $\\theta$ and $z$ <br>\n",
    "$\\frac{d}{dt} \\frac{\\partial L}{\\partial \\dot{q}_{i}} - \\frac{\\partial L}{\\partial q_{i}} = 0$"
   ]
  },
  {
   "cell_type": "code",
   "execution_count": 9,
   "id": "ac9c251b",
   "metadata": {},
   "outputs": [],
   "source": [
    "# Equation for theta\n",
    "\n",
    "Eq1 = smp.Eq(smp.diff(smp.diff(L, theta_d), t) - smp.diff(L, theta), 0).simplify()\n",
    "\n",
    "# Equation for z\n",
    "\n",
    "Eq2 = smp.Eq(smp.diff(smp.diff(L, z_d), t) - smp.diff(L, z), 0).simplify()"
   ]
  },
  {
   "cell_type": "markdown",
   "id": "8023aa47",
   "metadata": {},
   "source": [
    "Solve the equations for $\\frac{d^{2} \\theta}{dt^{2}}$ and $\\frac{d^{2} z}{dt^{2}}$"
   ]
  },
  {
   "cell_type": "code",
   "execution_count": 10,
   "id": "ab5d36f2",
   "metadata": {},
   "outputs": [],
   "source": [
    "sols_dd = smp.solve([Eq1, Eq2], (theta_dd, z_dd), simplify=True, rational=True)"
   ]
  },
  {
   "cell_type": "markdown",
   "id": "33371ab9",
   "metadata": {},
   "source": [
    "Convert the system of two second order ODEs into a system of four first order ODEs <br>\n",
    "<ul>\n",
    "  <li>$\\frac{d\\theta}{dt} = w_{1}$</li>\n",
    "  <li>$\\frac{dw_{1}}{dt} = \\frac{d^{2}\\theta}{dt^{2}} = ...$</li>\n",
    "  <li>$\\frac{dz}{dt} = w_{2}$</li>\n",
    "  <li>$\\frac{dw_{2}}{dt} = \\frac{d^{2}z}{dt^{2}} = ...$</li>\n",
    "</ul> \n",
    "and transform the symbolic equations into numeric functions."
   ]
  },
  {
   "cell_type": "code",
   "execution_count": 11,
   "id": "e0d428d2",
   "metadata": {},
   "outputs": [],
   "source": [
    "# w1\n",
    "\n",
    "dtheta_dt = smp.lambdify(theta_d, theta_d)\n",
    "\n",
    "# dw1/dt\n",
    "\n",
    "dw1_dt = smp.lambdify((t, g, m, k, l, theta, z, theta_d, z_d), sols_dd[theta_dd])\n",
    "\n",
    "# w2\n",
    "\n",
    "dz_dt = smp.lambdify(z_d, z_d)\n",
    "\n",
    "# dw2/dt\n",
    "\n",
    "dw2_dt = smp.lambdify((t, g, m, k, l, theta, z, theta_d, z_d), sols_dd[z_dd])"
   ]
  },
  {
   "cell_type": "markdown",
   "id": "55b20c07",
   "metadata": {},
   "source": [
    "Define a vector $\\vec{S} = (\\theta, w_{1}, z, w_{2})$ and a function that takes $\\vec{S}$ and $t$ and returns $\\frac{d\\vec{S}}{dt}$ in order to solve the system of ODEs in python."
   ]
  },
  {
   "cell_type": "code",
   "execution_count": 12,
   "id": "8b0b663f",
   "metadata": {},
   "outputs": [],
   "source": [
    "def dS_dt(S, t, g, m, k, l):\n",
    "    theta, w1, z, w2 = S\n",
    "    return [dtheta_dt(w1), dw1_dt(t, g, m, k, l, theta, z, w1, w2),\n",
    "           dz_dt(w2), dw2_dt(t, g, m, k, l, theta, z, w1, w2)]"
   ]
  },
  {
   "cell_type": "markdown",
   "id": "34400db3",
   "metadata": {},
   "source": [
    "Define all the needed parameters and initial conditions and solve the system ODEs with the **odeint** method."
   ]
  },
  {
   "cell_type": "code",
   "execution_count": 13,
   "id": "097087ae",
   "metadata": {},
   "outputs": [],
   "source": [
    "# Constant parameters\n",
    "\n",
    "g = 9.8\n",
    "m = 30\n",
    "k = 27\n",
    "l = 4\n",
    "\n",
    "# Initial conditions\n",
    "# iv : initial velocity\n",
    "# ip : initial position\n",
    "\n",
    "# Initial conditions for theta\n",
    "\n",
    "ip_theta = np.pi\n",
    "iv_theta = 0.5\n",
    "\n",
    "# Initial conditions for z\n",
    "\n",
    "ip_z = 2\n",
    "iv_z = 0.3\n",
    "\n",
    "# Initial vector\n",
    "\n",
    "s0 = [ip_theta, iv_theta, ip_z, iv_z]\n",
    "\n",
    "# it : initial time\n",
    "# ft : final time\n",
    "# steps: number of steps\n",
    "\n",
    "it = 0\n",
    "ft = 50\n",
    "steps = 1001\n",
    "\n",
    "t = np.linspace(it, ft, steps)\n",
    "\n",
    "# Solve the system of equations\n",
    "\n",
    "ans = odeint(dS_dt, y0=s0, t=t, args=(g, m, k, l))"
   ]
  },
  {
   "cell_type": "markdown",
   "id": "fa47888f",
   "metadata": {},
   "source": [
    "Define a function that returns the position of the particle of the pendulum."
   ]
  },
  {
   "cell_type": "code",
   "execution_count": 14,
   "id": "42d9e6ff",
   "metadata": {},
   "outputs": [],
   "source": [
    "def x_y(t, theta, z, l):\n",
    "    return((l + z) * np.sin(theta), -(l + z) * np.cos(theta))"
   ]
  },
  {
   "cell_type": "markdown",
   "id": "689f65e3",
   "metadata": {},
   "source": [
    "Calculate the positions."
   ]
  },
  {
   "cell_type": "code",
   "execution_count": 15,
   "id": "f242233e",
   "metadata": {},
   "outputs": [],
   "source": [
    "X, Y = x_y(t, ans.T[0], ans.T[2], l)"
   ]
  },
  {
   "cell_type": "markdown",
   "id": "cf270628",
   "metadata": {},
   "source": [
    "Make an animation. <br>\n",
    "Use your prefered library for animations."
   ]
  },
  {
   "cell_type": "code",
   "execution_count": 16,
   "id": "3e9174c1",
   "metadata": {},
   "outputs": [],
   "source": [
    "my_frames = []\n",
    "for i in range(len(X)-1):\n",
    "        my_frames.append(go.Frame(data=[go.Scatter(x=[0, X[i + 1]], y=[0, Y[i + 1]])]))"
   ]
  },
  {
   "cell_type": "code",
   "execution_count": 20,
   "id": "f967f560",
   "metadata": {},
   "outputs": [
    {
     "data": {
      "application/vnd.plotly.v1+json": {
       "config": {
        "plotlyServerURL": "https://plot.ly"
       },
       "data": [
        {
         "type": "scatter",
         "x": [
          0,
          7.347880794884119e-16
         ],
         "y": [
          0,
          6
         ]
        }
       ],
       "frames": [
        {
         "data": [
          {
           "type": "scatter",
           "x": [
            0,
            -0.1499812403337212
           ],
           "y": [
            0,
            6.000496860283892
           ]
          }
         ]
        },
        {
         "data": [
          {
           "type": "scatter",
           "x": [
            0,
            -0.29985004304075863
           ],
           "y": [
            0,
            5.971994757620563
           ]
          }
         ]
        },
        {
         "data": [
          {
           "type": "scatter",
           "x": [
            0,
            -0.44949589954848873
           ],
           "y": [
            0,
            5.914549269786271
           ]
          }
         ]
        },
        {
         "data": [
          {
           "type": "scatter",
           "x": [
            0,
            -0.5988130624709392
           ],
           "y": [
            0,
            5.8282750146918465
           ]
          }
         ]
        },
        {
         "data": [
          {
           "type": "scatter",
           "x": [
            0,
            -0.7477036679427969
           ],
           "y": [
            0,
            5.713344745098269
           ]
          }
         ]
        },
        {
         "data": [
          {
           "type": "scatter",
           "x": [
            0,
            -0.8960810394548299
           ],
           "y": [
            0,
            5.569987922663279
           ]
          }
         ]
        },
        {
         "data": [
          {
           "type": "scatter",
           "x": [
            0,
            -1.0438733045124677
           ],
           "y": [
            0,
            5.398488717624295
           ]
          }
         ]
        },
        {
         "data": [
          {
           "type": "scatter",
           "x": [
            0,
            -1.191027418077355
           ],
           "y": [
            0,
            5.199183274946621
           ]
          }
         ]
        },
        {
         "data": [
          {
           "type": "scatter",
           "x": [
            0,
            -1.3375137565189459
           ],
           "y": [
            0,
            4.972456067671371
           ]
          }
         ]
        },
        {
         "data": [
          {
           "type": "scatter",
           "x": [
            0,
            -1.4833313300423692
           ],
           "y": [
            0,
            4.718735018453657
           ]
          }
         ]
        },
        {
         "data": [
          {
           "type": "scatter",
           "x": [
            0,
            -1.6285137800870704
           ],
           "y": [
            0,
            4.438484991496644
           ]
          }
         ]
        },
        {
         "data": [
          {
           "type": "scatter",
           "x": [
            0,
            -1.7731362416479632
           ],
           "y": [
            0,
            4.13219900275425
           ]
          }
         ]
        },
        {
         "data": [
          {
           "type": "scatter",
           "x": [
            0,
            -1.9173228632939316
           ],
           "y": [
            0,
            3.80038635589988
           ]
          }
         ]
        },
        {
         "data": [
          {
           "type": "scatter",
           "x": [
            0,
            -2.0612547305924607
           ],
           "y": [
            0,
            3.443556401935888
           ]
          }
         ]
        },
        {
         "data": [
          {
           "type": "scatter",
           "x": [
            0,
            -2.2051769175431084
           ],
           "y": [
            0,
            3.0621965151329578
           ]
          }
         ]
        },
        {
         "data": [
          {
           "type": "scatter",
           "x": [
            0,
            -2.34940230330831
           ],
           "y": [
            0,
            2.6567427094709166
           ]
          }
         ]
        },
        {
         "data": [
          {
           "type": "scatter",
           "x": [
            0,
            -2.4943075746728374
           ],
           "y": [
            0,
            2.227542157816517
           ]
          }
         ]
        },
        {
         "data": [
          {
           "type": "scatter",
           "x": [
            0,
            -2.6403138723742874
           ],
           "y": [
            0,
            1.774809905163489
           ]
          }
         ]
        },
        {
         "data": [
          {
           "type": "scatter",
           "x": [
            0,
            -2.7878429956445374
           ],
           "y": [
            0,
            1.2985888388529176
           ]
          }
         ]
        },
        {
         "data": [
          {
           "type": "scatter",
           "x": [
            0,
            -2.9372438534777716
           ],
           "y": [
            0,
            0.7987321372298034
           ]
          }
         ]
        },
        {
         "data": [
          {
           "type": "scatter",
           "x": [
            0,
            -3.088699378406242
           ],
           "y": [
            0,
            0.274933784125085
           ]
          }
         ]
        },
        {
         "data": [
          {
           "type": "scatter",
           "x": [
            0,
            -3.2421461839824333
           ],
           "y": [
            0,
            -0.2731797393936825
           ]
          }
         ]
        },
        {
         "data": [
          {
           "type": "scatter",
           "x": [
            0,
            -3.3972460047199458
           ],
           "y": [
            0,
            -0.8459181866292635
           ]
          }
         ]
        },
        {
         "data": [
          {
           "type": "scatter",
           "x": [
            0,
            -3.553421809171356
           ],
           "y": [
            0,
            -1.4434058363345308
           ]
          }
         ]
        },
        {
         "data": [
          {
           "type": "scatter",
           "x": [
            0,
            -3.7099341351512507
           ],
           "y": [
            0,
            -2.0655096359894736
           ]
          }
         ]
        },
        {
         "data": [
          {
           "type": "scatter",
           "x": [
            0,
            -3.8659610276133085
           ],
           "y": [
            0,
            -2.7118226852061365
           ]
          }
         ]
        },
        {
         "data": [
          {
           "type": "scatter",
           "x": [
            0,
            -4.020659104717807
           ],
           "y": [
            0,
            -3.381684301714031
           ]
          }
         ]
        },
        {
         "data": [
          {
           "type": "scatter",
           "x": [
            0,
            -4.17320154492994
           ],
           "y": [
            0,
            -4.074215094163702
           ]
          }
         ]
        },
        {
         "data": [
          {
           "type": "scatter",
           "x": [
            0,
            -4.322797972393426
           ],
           "y": [
            0,
            -4.788353610421495
           ]
          }
         ]
        },
        {
         "data": [
          {
           "type": "scatter",
           "x": [
            0,
            -4.468702984496171
           ],
           "y": [
            0,
            -5.522888525827079
           ]
          }
         ]
        },
        {
         "data": [
          {
           "type": "scatter",
           "x": [
            0,
            -4.610218391278734
           ],
           "y": [
            0,
            -6.276485023106228
           ]
          }
         ]
        },
        {
         "data": [
          {
           "type": "scatter",
           "x": [
            0,
            -4.746692386431195
           ],
           "y": [
            0,
            -7.047705853303479
           ]
          }
         ]
        },
        {
         "data": [
          {
           "type": "scatter",
           "x": [
            0,
            -4.877517394969531
           ],
           "y": [
            0,
            -7.8350281733181
           ]
          }
         ]
        },
        {
         "data": [
          {
           "type": "scatter",
           "x": [
            0,
            -5.0021276649040916
           ],
           "y": [
            0,
            -8.636857097524526
           ]
          }
         ]
        },
        {
         "data": [
          {
           "type": "scatter",
           "x": [
            0,
            -5.119996819696754
           ],
           "y": [
            0,
            -9.451536948044827
           ]
          }
         ]
        },
        {
         "data": [
          {
           "type": "scatter",
           "x": [
            0,
            -5.230635747031723
           ],
           "y": [
            0,
            -10.277360745392366
           ]
          }
         ]
        },
        {
         "data": [
          {
           "type": "scatter",
           "x": [
            0,
            -5.333590804747245
           ],
           "y": [
            0,
            -11.112578443990703
           ]
          }
         ]
        },
        {
         "data": [
          {
           "type": "scatter",
           "x": [
            0,
            -5.428442325305468
           ],
           "y": [
            0,
            -11.9554042573381
           ]
          }
         ]
        },
        {
         "data": [
          {
           "type": "scatter",
           "x": [
            0,
            -5.514803411218833
           ],
           "y": [
            0,
            -12.80402330717144
           ]
          }
         ]
        },
        {
         "data": [
          {
           "type": "scatter",
           "x": [
            0,
            -5.592318965969521
           ],
           "y": [
            0,
            -13.656597772429347
           ]
          }
         ]
        },
        {
         "data": [
          {
           "type": "scatter",
           "x": [
            0,
            -5.6606649150375805
           ],
           "y": [
            0,
            -14.511272662333253
           ]
          }
         ]
        },
        {
         "data": [
          {
           "type": "scatter",
           "x": [
            0,
            -5.7195476015583715
           ],
           "y": [
            0,
            -15.366181298724193
           ]
          }
         ]
        },
        {
         "data": [
          {
           "type": "scatter",
           "x": [
            0,
            -5.768703285329807
           ],
           "y": [
            0,
            -16.219450571941536
           ]
          }
         ]
        },
        {
         "data": [
          {
           "type": "scatter",
           "x": [
            0,
            -5.807897737602228
           ],
           "y": [
            0,
            -17.069206016995835
           ]
          }
         ]
        },
        {
         "data": [
          {
           "type": "scatter",
           "x": [
            0,
            -5.836925908565113
           ],
           "y": [
            0,
            -17.913576736075623
           ]
          }
         ]
        },
        {
         "data": [
          {
           "type": "scatter",
           "x": [
            0,
            -5.855611645413609
           ],
           "y": [
            0,
            -18.75070019047229
           ]
          }
         ]
        },
        {
         "data": [
          {
           "type": "scatter",
           "x": [
            0,
            -5.863807437068521
           ],
           "y": [
            0,
            -19.578726876178564
           ]
          }
         ]
        },
        {
         "data": [
          {
           "type": "scatter",
           "x": [
            0,
            -5.861394177898681
           ],
           "y": [
            0,
            -20.395824890774353
           ]
          }
         ]
        },
        {
         "data": [
          {
           "type": "scatter",
           "x": [
            0,
            -5.848280935220944
           ],
           "y": [
            0,
            -21.200184397158534
           ]
          }
         ]
        },
        {
         "data": [
          {
           "type": "scatter",
           "x": [
            0,
            -5.824404705199247
           ],
           "y": [
            0,
            -21.9900219864718
           ]
          }
         ]
        },
        {
         "data": [
          {
           "type": "scatter",
           "x": [
            0,
            -5.789730190970372
           ],
           "y": [
            0,
            -22.763584932318206
           ]
          }
         ]
        },
        {
         "data": [
          {
           "type": "scatter",
           "x": [
            0,
            -5.744249490504002
           ],
           "y": [
            0,
            -23.519155352998304
           ]
          }
         ]
        },
        {
         "data": [
          {
           "type": "scatter",
           "x": [
            0,
            -5.687981829100859
           ],
           "y": [
            0,
            -24.255054252821168
           ]
          }
         ]
        },
        {
         "data": [
          {
           "type": "scatter",
           "x": [
            0,
            -5.620973233505243
           ],
           "y": [
            0,
            -24.96964545750318
           ]
          }
         ]
        },
        {
         "data": [
          {
           "type": "scatter",
           "x": [
            0,
            -5.5432961676935415
           ],
           "y": [
            0,
            -25.66133943260858
           ]
          }
         ]
        },
        {
         "data": [
          {
           "type": "scatter",
           "x": [
            0,
            -5.45504914536787
           ],
           "y": [
            0,
            -26.328596975103576
           ]
          }
         ]
        },
        {
         "data": [
          {
           "type": "scatter",
           "x": [
            0,
            -5.35635629868878
           ],
           "y": [
            0,
            -26.969932782030316
           ]
          }
         ]
        },
        {
         "data": [
          {
           "type": "scatter",
           "x": [
            0,
            -5.247366904439932
           ],
           "y": [
            0,
            -27.58391888034515
           ]
          }
         ]
        },
        {
         "data": [
          {
           "type": "scatter",
           "x": [
            0,
            -5.128254874298668
           ],
           "y": [
            0,
            -28.169187919059127
           ]
          }
         ]
        },
        {
         "data": [
          {
           "type": "scatter",
           "x": [
            0,
            -4.999218200920064
           ],
           "y": [
            0,
            -28.724436314849502
           ]
          }
         ]
        },
        {
         "data": [
          {
           "type": "scatter",
           "x": [
            0,
            -4.860478355122114
           ],
           "y": [
            0,
            -29.248427245853584
           ]
          }
         ]
        },
        {
         "data": [
          {
           "type": "scatter",
           "x": [
            0,
            -4.712279661246353
           ],
           "y": [
            0,
            -29.73999348593998
           ]
          }
         ]
        },
        {
         "data": [
          {
           "type": "scatter",
           "x": [
            0,
            -4.554888597898688
           ],
           "y": [
            0,
            -30.198040079732134
           ]
          }
         ]
        },
        {
         "data": [
          {
           "type": "scatter",
           "x": [
            0,
            -4.388593084266562
           ],
           "y": [
            0,
            -30.621546846094876
           ]
          }
         ]
        },
        {
         "data": [
          {
           "type": "scatter",
           "x": [
            0,
            -4.213701697821618
           ],
           "y": [
            0,
            -31.00957071002195
           ]
          }
         ]
        },
        {
         "data": [
          {
           "type": "scatter",
           "x": [
            0,
            -4.0305428908239
           ],
           "y": [
            0,
            -31.361247853401196
           ]
          }
         ]
        },
        {
         "data": [
          {
           "type": "scatter",
           "x": [
            0,
            -3.8394641154483136
           ],
           "y": [
            0,
            -31.675795689071318
           ]
          }
         ]
        },
        {
         "data": [
          {
           "type": "scatter",
           "x": [
            0,
            -3.6408309552863964
           ],
           "y": [
            0,
            -31.952514642256265
           ]
          }
         ]
        },
        {
         "data": [
          {
           "type": "scatter",
           "x": [
            0,
            -3.435026192251819
           ],
           "y": [
            0,
            -32.19078974376754
           ]
          }
         ]
        },
        {
         "data": [
          {
           "type": "scatter",
           "x": [
            0,
            -3.2224488438528716
           ],
           "y": [
            0,
            -32.390092031242006
           ]
          }
         ]
        },
        {
         "data": [
          {
           "type": "scatter",
           "x": [
            0,
            -3.003513171293623
           ],
           "y": [
            0,
            -32.54997975197311
           ]
          }
         ]
        },
        {
         "data": [
          {
           "type": "scatter",
           "x": [
            0,
            -2.7786476415777166
           ],
           "y": [
            0,
            -32.67009936638905
           ]
          }
         ]
        },
        {
         "data": [
          {
           "type": "scatter",
           "x": [
            0,
            -2.5482938718644608
           ],
           "y": [
            0,
            -32.75018635077614
           ]
          }
         ]
        },
        {
         "data": [
          {
           "type": "scatter",
           "x": [
            0,
            -2.3129055327424424
           ],
           "y": [
            0,
            -32.790065797293664
           ]
          }
         ]
        },
        {
         "data": [
          {
           "type": "scatter",
           "x": [
            0,
            -2.0729472295226095
           ],
           "y": [
            0,
            -32.78965280853507
           ]
          }
         ]
        },
        {
         "data": [
          {
           "type": "scatter",
           "x": [
            0,
            -1.8288933567987165
           ],
           "y": [
            0,
            -32.74895268696098
           ]
          }
         ]
        },
        {
         "data": [
          {
           "type": "scatter",
           "x": [
            0,
            -1.581226923033707
           ],
           "y": [
            0,
            -32.66806091927476
           ]
          }
         ]
        },
        {
         "data": [
          {
           "type": "scatter",
           "x": [
            0,
            -1.330438363179391
           ],
           "y": [
            0,
            -32.54716295364919
           ]
          }
         ]
        },
        {
         "data": [
          {
           "type": "scatter",
           "x": [
            0,
            -1.0770243199354574
           ],
           "y": [
            0,
            -32.386533772226386
           ]
          }
         ]
        },
        {
         "data": [
          {
           "type": "scatter",
           "x": [
            0,
            -0.8214864155005568
           ],
           "y": [
            0,
            -32.18653725830792
           ]
          }
         ]
        },
        {
         "data": [
          {
           "type": "scatter",
           "x": [
            0,
            -0.5643300016720234
           ],
           "y": [
            0,
            -31.947625360085198
           ]
          }
         ]
        },
        {
         "data": [
          {
           "type": "scatter",
           "x": [
            0,
            -0.3060628980448482
           ],
           "y": [
            0,
            -31.67033705221725
           ]
          }
         ]
        },
        {
         "data": [
          {
           "type": "scatter",
           "x": [
            0,
            -0.04719411554377258
           ],
           "y": [
            0,
            -31.355297097549425
           ]
          }
         ]
        },
        {
         "data": [
          {
           "type": "scatter",
           "x": [
            0,
            0.21176742466915915
           ],
           "y": [
            0,
            -31.00321460987514
           ]
          }
         ]
        },
        {
         "data": [
          {
           "type": "scatter",
           "x": [
            0,
            0.470314200499953
           ],
           "y": [
            0,
            -30.614881424901164
           ]
          }
         ]
        },
        {
         "data": [
          {
           "type": "scatter",
           "x": [
            0,
            0.7279413457349799
           ],
           "y": [
            0,
            -30.19117027011014
           ]
          }
         ]
        },
        {
         "data": [
          {
           "type": "scatter",
           "x": [
            0,
            0.9841480244716567
           ],
           "y": [
            0,
            -29.733032762236135
           ]
          }
         ]
        },
        {
         "data": [
          {
           "type": "scatter",
           "x": [
            0,
            1.2384386534113143
           ],
           "y": [
            0,
            -29.241497198012976
           ]
          }
         ]
        },
        {
         "data": [
          {
           "type": "scatter",
           "x": [
            0,
            1.4903242911526629
           ],
           "y": [
            0,
            -28.71766618559431
           ]
          }
         ]
        },
        {
         "data": [
          {
           "type": "scatter",
           "x": [
            0,
            1.739323929482381
           ],
           "y": [
            0,
            -28.16271408495255
           ]
          }
         ]
        },
        {
         "data": [
          {
           "type": "scatter",
           "x": [
            0,
            1.984965732861173
           ],
           "y": [
            0,
            -27.577884271953373
           ]
          }
         ]
        },
        {
         "data": [
          {
           "type": "scatter",
           "x": [
            0,
            2.2267885243690517
           ],
           "y": [
            0,
            -26.964486257175757
           ]
          }
         ]
        },
        {
         "data": [
          {
           "type": "scatter",
           "x": [
            0,
            2.464342829142192
           ],
           "y": [
            0,
            -26.32389259987999
           ]
          }
         ]
        },
        {
         "data": [
          {
           "type": "scatter",
           "x": [
            0,
            2.697192496524916
           ],
           "y": [
            0,
            -25.657535712773143
           ]
          }
         ]
        },
        {
         "data": [
          {
           "type": "scatter",
           "x": [
            0,
            2.9249157262749126
           ],
           "y": [
            0,
            -24.966904461785077
           ]
          }
         ]
        },
        {
         "data": [
          {
           "type": "scatter",
           "x": [
            0,
            3.147106514652294
           ],
           "y": [
            0,
            -24.25354064818642
           ]
          }
         ]
        },
        {
         "data": [
          {
           "type": "scatter",
           "x": [
            0,
            3.3633759000382195
           ],
           "y": [
            0,
            -23.519035328411082
           ]
          }
         ]
        },
        {
         "data": [
          {
           "type": "scatter",
           "x": [
            0,
            3.573353481645652
           ],
           "y": [
            0,
            -22.765024999413875
           ]
          }
         ]
        },
        {
         "data": [
          {
           "type": "scatter",
           "x": [
            0,
            3.7766883870718306
           ],
           "y": [
            0,
            -21.993187613560963
           ]
          }
         ]
        },
        {
         "data": [
          {
           "type": "scatter",
           "x": [
            0,
            3.9730508127815902
           ],
           "y": [
            0,
            -21.20523848471046
           ]
          }
         ]
        },
        {
         "data": [
          {
           "type": "scatter",
           "x": [
            0,
            4.162133262366628
           ],
           "y": [
            0,
            -20.402926035237
           ]
          }
         ]
        },
        {
         "data": [
          {
           "type": "scatter",
           "x": [
            0,
            4.343651910070424
           ],
           "y": [
            0,
            -19.588027403006713
           ]
          }
         ]
        },
        {
         "data": [
          {
           "type": "scatter",
           "x": [
            0,
            4.51734798206675
           ],
           "y": [
            0,
            -18.762343899145847
           ]
          }
         ]
        },
        {
         "data": [
          {
           "type": "scatter",
           "x": [
            0,
            4.682989035316717
           ],
           "y": [
            0,
            -17.927696311204432
           ]
          }
         ]
        },
        {
         "data": [
          {
           "type": "scatter",
           "x": [
            0,
            4.840370368612558
           ],
           "y": [
            0,
            -17.085920033372343
           ]
          }
         ]
        },
        {
         "data": [
          {
           "type": "scatter",
           "x": [
            0,
            4.989316521557571
           ],
           "y": [
            0,
            -16.23886003517684
           ]
          }
         ]
        },
        {
         "data": [
          {
           "type": "scatter",
           "x": [
            0,
            5.129682593346092
           ],
           "y": [
            0,
            -15.388365590962456
           ]
          }
         ]
        },
        {
         "data": [
          {
           "type": "scatter",
           "x": [
            0,
            5.261355836717402
           ],
           "y": [
            0,
            -14.536284882340523
           ]
          }
         ]
        },
        {
         "data": [
          {
           "type": "scatter",
           "x": [
            0,
            5.384256983563498
           ],
           "y": [
            0,
            -13.684459178771084
           ]
          }
         ]
        },
        {
         "data": [
          {
           "type": "scatter",
           "x": [
            0,
            5.498341800627159
           ],
           "y": [
            0,
            -12.834716902840087
           ]
          }
         ]
        },
        {
         "data": [
          {
           "type": "scatter",
           "x": [
            0,
            5.603602530334287
           ],
           "y": [
            0,
            -11.988867188506783
           ]
          }
         ]
        },
        {
         "data": [
          {
           "type": "scatter",
           "x": [
            0,
            5.7000693108418075
           ],
           "y": [
            0,
            -11.14869309936841
           ]
          }
         ]
        },
        {
         "data": [
          {
           "type": "scatter",
           "x": [
            0,
            5.787811305486639
           ],
           "y": [
            0,
            -10.315944413392552
           ]
          }
         ]
        },
        {
         "data": [
          {
           "type": "scatter",
           "x": [
            0,
            5.866937843969725
           ],
           "y": [
            0,
            -9.49232975861733
           ]
          }
         ]
        },
        {
         "data": [
          {
           "type": "scatter",
           "x": [
            0,
            5.937598943941889
           ],
           "y": [
            0,
            -8.6795082196229
           ]
          }
         ]
        },
        {
         "data": [
          {
           "type": "scatter",
           "x": [
            0,
            5.999985314476732
           ],
           "y": [
            0,
            -7.87908027851519
           ]
          }
         ]
        },
        {
         "data": [
          {
           "type": "scatter",
           "x": [
            0,
            6.054327468064119
           ],
           "y": [
            0,
            -7.092578111437436
           ]
          }
         ]
        },
        {
         "data": [
          {
           "type": "scatter",
           "x": [
            0,
            6.100893417411488
           ],
           "y": [
            0,
            -6.321455439222393
           ]
          }
         ]
        },
        {
         "data": [
          {
           "type": "scatter",
           "x": [
            0,
            6.139984668699408
           ],
           "y": [
            0,
            -5.567077147991643
           ]
          }
         ]
        },
        {
         "data": [
          {
           "type": "scatter",
           "x": [
            0,
            6.171929944061688
           ],
           "y": [
            0,
            -4.830709202418106
           ]
          }
         ]
        },
        {
         "data": [
          {
           "type": "scatter",
           "x": [
            0,
            6.197076222284801
           ],
           "y": [
            0,
            -4.113509698678118
           ]
          }
         ]
        },
        {
         "data": [
          {
           "type": "scatter",
           "x": [
            0,
            6.215776854164845
           ],
           "y": [
            0,
            -3.4165222699532904
           ]
          }
         ]
        },
        {
         "data": [
          {
           "type": "scatter",
           "x": [
            0,
            6.22837706431984
           ],
           "y": [
            0,
            -2.7406731748546562
           ]
          }
         ]
        },
        {
         "data": [
          {
           "type": "scatter",
           "x": [
            0,
            6.235197763583681
           ],
           "y": [
            0,
            -2.086773463170881
           ]
          }
         ]
        },
        {
         "data": [
          {
           "type": "scatter",
           "x": [
            0,
            6.236519362914824
           ],
           "y": [
            0,
            -1.45552710683118
           ]
          }
         ]
        },
        {
         "data": [
          {
           "type": "scatter",
           "x": [
            0,
            6.232567851884566
           ],
           "y": [
            0,
            -0.8475451333934215
           ]
          }
         ]
        },
        {
         "data": [
          {
           "type": "scatter",
           "x": [
            0,
            6.2235052956821475
           ],
           "y": [
            0,
            -0.2633644878061741
           ]
          }
         ]
        },
        {
         "data": [
          {
           "type": "scatter",
           "x": [
            0,
            6.209426369959153
           ],
           "y": [
            0,
            0.2965308878521102
           ]
          }
         ]
        },
        {
         "data": [
          {
           "type": "scatter",
           "x": [
            0,
            6.190361268417699
           ],
           "y": [
            0,
            0.8316895995287438
           ]
          }
         ]
        },
        {
         "data": [
          {
           "type": "scatter",
           "x": [
            0,
            6.166284000698466
           ],
           "y": [
            0,
            1.3416756055909302
           ]
          }
         ]
        },
        {
         "data": [
          {
           "type": "scatter",
           "x": [
            0,
            6.137124253975414
           ],
           "y": [
            0,
            1.8260559399362997
           ]
          }
         ]
        },
        {
         "data": [
          {
           "type": "scatter",
           "x": [
            0,
            6.102780746346993
           ],
           "y": [
            0,
            2.284393796991726
           ]
          }
         ]
        },
        {
         "data": [
          {
           "type": "scatter",
           "x": [
            0,
            6.063134329554234
           ],
           "y": [
            0,
            2.7162464967048465
           ]
          }
         ]
        },
        {
         "data": [
          {
           "type": "scatter",
           "x": [
            0,
            6.018059617357671
           ],
           "y": [
            0,
            3.121167225945528
           ]
          }
         ]
        },
        {
         "data": [
          {
           "type": "scatter",
           "x": [
            0,
            5.967434630438754
           ],
           "y": [
            0,
            3.4987094016112525
           ]
          }
         ]
        },
        {
         "data": [
          {
           "type": "scatter",
           "x": [
            0,
            5.911148268402382
           ],
           "y": [
            0,
            3.8484325439524096
           ]
          }
         ]
        },
        {
         "data": [
          {
           "type": "scatter",
           "x": [
            0,
            5.849105920680682
           ],
           "y": [
            0,
            4.169908753552731
           ]
          }
         ]
        },
        {
         "data": [
          {
           "type": "scatter",
           "x": [
            0,
            5.781233361999934
           ],
           "y": [
            0,
            4.46272927668374
           ]
          }
         ]
        },
        {
         "data": [
          {
           "type": "scatter",
           "x": [
            0,
            5.707479388313015
           ],
           "y": [
            0,
            4.726510748434729
           ]
          }
         ]
        },
        {
         "data": [
          {
           "type": "scatter",
           "x": [
            0,
            5.627817432955258
           ],
           "y": [
            0,
            4.9609009273955245
           ]
          }
         ]
        },
        {
         "data": [
          {
           "type": "scatter",
           "x": [
            0,
            5.542246460522528
           ],
           "y": [
            0,
            5.165583823647071
           ]
          }
         ]
        },
        {
         "data": [
          {
           "type": "scatter",
           "x": [
            0,
            5.450791345268692
           ],
           "y": [
            0,
            5.340284185626669
           ]
          }
         ]
        },
        {
         "data": [
          {
           "type": "scatter",
           "x": [
            0,
            5.353502888524461
           ],
           "y": [
            0,
            5.484771364156838
           ]
          }
         ]
        },
        {
         "data": [
          {
           "type": "scatter",
           "x": [
            0,
            5.250457584885536
           ],
           "y": [
            0,
            5.598862596255156
           ]
          }
         ]
        },
        {
         "data": [
          {
           "type": "scatter",
           "x": [
            0,
            5.141757244860723
           ],
           "y": [
            0,
            5.682425739693947
           ]
          }
         ]
        },
        {
         "data": [
          {
           "type": "scatter",
           "x": [
            0,
            5.027528533853574
           ],
           "y": [
            0,
            5.735381501808857
           ]
          }
         ]
        },
        {
         "data": [
          {
           "type": "scatter",
           "x": [
            0,
            4.907922473023906
           ],
           "y": [
            0,
            5.7577052059028055
           ]
          }
         ]
        },
        {
         "data": [
          {
           "type": "scatter",
           "x": [
            0,
            4.783113950230324
           ],
           "y": [
            0,
            5.7494281184980105
           ]
          }
         ]
        },
        {
         "data": [
          {
           "type": "scatter",
           "x": [
            0,
            4.653301263180507
           ],
           "y": [
            0,
            5.71063837198522
           ]
          }
         ]
        },
        {
         "data": [
          {
           "type": "scatter",
           "x": [
            0,
            4.518705740389603
           ],
           "y": [
            0,
            5.641481487021767
           ]
          }
         ]
        },
        {
         "data": [
          {
           "type": "scatter",
           "x": [
            0,
            4.379571460994686
           ],
           "y": [
            0,
            5.542160507931994
           ]
          }
         ]
        },
        {
         "data": [
          {
           "type": "scatter",
           "x": [
            0,
            4.236165116669899
           ],
           "y": [
            0,
            5.412935737271521
           ]
          }
         ]
        },
        {
         "data": [
          {
           "type": "scatter",
           "x": [
            0,
            4.088776050139739
           ],
           "y": [
            0,
            5.254124058597416
           ]
          }
         ]
        },
        {
         "data": [
          {
           "type": "scatter",
           "x": [
            0,
            3.937716543219944
           ],
           "y": [
            0,
            5.0660977934526805
           ]
          }
         ]
        },
        {
         "data": [
          {
           "type": "scatter",
           "x": [
            0,
            3.7833224297208448
           ],
           "y": [
            0,
            4.849283026796621
           ]
          }
         ]
        },
        {
         "data": [
          {
           "type": "scatter",
           "x": [
            0,
            3.625954103296095
           ],
           "y": [
            0,
            4.604157306839894
           ]
          }
         ]
        },
        {
         "data": [
          {
           "type": "scatter",
           "x": [
            0,
            3.465998116025065
           ],
           "y": [
            0,
            4.331246517323686
           ]
          }
         ]
        },
        {
         "data": [
          {
           "type": "scatter",
           "x": [
            0,
            3.303869527409776
           ],
           "y": [
            0,
            4.031120670878791
           ]
          }
         ]
        },
        {
         "data": [
          {
           "type": "scatter",
           "x": [
            0,
            3.14001528679123
           ],
           "y": [
            0,
            3.704388179853909
           ]
          }
         ]
        },
        {
         "data": [
          {
           "type": "scatter",
           "x": [
            0,
            2.974919069156233
           ],
           "y": [
            0,
            3.351687870715724
           ]
          }
         ]
        },
        {
         "data": [
          {
           "type": "scatter",
           "x": [
            0,
            2.809108046807047
           ],
           "y": [
            0,
            2.9736775554256187
           ]
          }
         ]
        },
        {
         "data": [
          {
           "type": "scatter",
           "x": [
            0,
            2.6431623246038862
           ],
           "y": [
            0,
            2.571017034439855
           ]
          }
         ]
        },
        {
         "data": [
          {
           "type": "scatter",
           "x": [
            0,
            2.4777276719193915
           ],
           "y": [
            0,
            2.1443417833113148
           ]
          }
         ]
        },
        {
         "data": [
          {
           "type": "scatter",
           "x": [
            0,
            2.3135317218101825
           ],
           "y": [
            0,
            1.6942204546702895
           ]
          }
         ]
        },
        {
         "data": [
          {
           "type": "scatter",
           "x": [
            0,
            2.1514004823374866
           ],
           "y": [
            0,
            1.2210839717255668
           ]
          }
         ]
        },
        {
         "data": [
          {
           "type": "scatter",
           "x": [
            0,
            1.9922611458051998
           ],
           "y": [
            0,
            0.7251063098651451
           ]
          }
         ]
        },
        {
         "data": [
          {
           "type": "scatter",
           "x": [
            0,
            1.837085096095383
           ],
           "y": [
            0,
            0.20601954569956182
           ]
          }
         ]
        },
        {
         "data": [
          {
           "type": "scatter",
           "x": [
            0,
            1.6866681457699928
           ],
           "y": [
            0,
            -0.3370841644797431
           ]
          }
         ]
        },
        {
         "data": [
          {
           "type": "scatter",
           "x": [
            0,
            1.5411976833347916
           ],
           "y": [
            0,
            -0.9056918702754799
           ]
          }
         ]
        },
        {
         "data": [
          {
           "type": "scatter",
           "x": [
            0,
            1.3999708873012418
           ],
           "y": [
            0,
            -1.5012480286683865
           ]
          }
         ]
        },
        {
         "data": [
          {
           "type": "scatter",
           "x": [
            0,
            1.2617403996455328
           ],
           "y": [
            0,
            -2.124429548996861
           ]
          }
         ]
        },
        {
         "data": [
          {
           "type": "scatter",
           "x": [
            0,
            1.1252949410769792
           ],
           "y": [
            0,
            -2.775018360407785
           ]
          }
         ]
        },
        {
         "data": [
          {
           "type": "scatter",
           "x": [
            0,
            0.989725654141416
           ],
           "y": [
            0,
            -3.4521750160083156
           ]
          }
         ]
        },
        {
         "data": [
          {
           "type": "scatter",
           "x": [
            0,
            0.8544292514822931
           ],
           "y": [
            0,
            -4.154699022228726
           ]
          }
         ]
        },
        {
         "data": [
          {
           "type": "scatter",
           "x": [
            0,
            0.7190371023255798
           ],
           "y": [
            0,
            -4.881179810069937
           ]
          }
         ]
        },
        {
         "data": [
          {
           "type": "scatter",
           "x": [
            0,
            0.5833484987492122
           ],
           "y": [
            0,
            -5.630074366925399
           ]
          }
         ]
        },
        {
         "data": [
          {
           "type": "scatter",
           "x": [
            0,
            0.44728193800051985
           ],
           "y": [
            0,
            -6.39974762323794
           ]
          }
         ]
        },
        {
         "data": [
          {
           "type": "scatter",
           "x": [
            0,
            0.3108416344717147
           ],
           "y": [
            0,
            -7.188494943063975
           ]
          }
         ]
        },
        {
         "data": [
          {
           "type": "scatter",
           "x": [
            0,
            0.17409460168677757
           ],
           "y": [
            0,
            -7.994555906263231
           ]
          }
         ]
        },
        {
         "data": [
          {
           "type": "scatter",
           "x": [
            0,
            0.0371547231575329
           ],
           "y": [
            0,
            -8.816123731091487
           ]
          }
         ]
        },
        {
         "data": [
          {
           "type": "scatter",
           "x": [
            0,
            -0.09982856730178277
           ],
           "y": [
            0,
            -9.651352436113761
           ]
          }
         ]
        },
        {
         "data": [
          {
           "type": "scatter",
           "x": [
            0,
            -0.23667858382244408
           ],
           "y": [
            0,
            -10.498362793194369
           ]
          }
         ]
        },
        {
         "data": [
          {
           "type": "scatter",
           "x": [
            0,
            -0.37319756937017134
           ],
           "y": [
            0,
            -11.355247633680312
           ]
          }
         ]
        },
        {
         "data": [
          {
           "type": "scatter",
           "x": [
            0,
            -0.5091714498531266
           ],
           "y": [
            0,
            -12.220076790112907
           ]
          }
         ]
        },
        {
         "data": [
          {
           "type": "scatter",
           "x": [
            0,
            -0.6443735788144385
           ],
           "y": [
            0,
            -13.090901836272703
           ]
          }
         ]
        },
        {
         "data": [
          {
           "type": "scatter",
           "x": [
            0,
            -0.7785677546346057
           ],
           "y": [
            0,
            -13.965760714594513
           ]
          }
         ]
        },
        {
         "data": [
          {
           "type": "scatter",
           "x": [
            0,
            -0.9115106949008768
           ],
           "y": [
            0,
            -14.842682300372536
           ]
          }
         ]
        },
        {
         "data": [
          {
           "type": "scatter",
           "x": [
            0,
            -1.0429541338196149
           ],
           "y": [
            0,
            -15.71969092416299
           ]
          }
         ]
        },
        {
         "data": [
          {
           "type": "scatter",
           "x": [
            0,
            -1.1726466031625362
           ],
           "y": [
            0,
            -16.594810868947356
           ]
          }
         ]
        },
        {
         "data": [
          {
           "type": "scatter",
           "x": [
            0,
            -1.3003349846662573
           ],
           "y": [
            0,
            -17.466070842924474
           ]
          }
         ]
        },
        {
         "data": [
          {
           "type": "scatter",
           "x": [
            0,
            -1.4257658868592382
           ],
           "y": [
            0,
            -18.331508426558624
           ]
          }
         ]
        },
        {
         "data": [
          {
           "type": "scatter",
           "x": [
            0,
            -1.5486868746551792
           ],
           "y": [
            0,
            -19.189174490528483
           ]
          }
         ]
        },
        {
         "data": [
          {
           "type": "scatter",
           "x": [
            0,
            -1.6688475754439889
           ],
           "y": [
            0,
            -20.037137578623458
           ]
          }
         ]
        },
        {
         "data": [
          {
           "type": "scatter",
           "x": [
            0,
            -1.7860007061745333
           ],
           "y": [
            0,
            -20.873488245299633
           ]
          }
         ]
        },
        {
         "data": [
          {
           "type": "scatter",
           "x": [
            0,
            -1.8999030068746943
           ],
           "y": [
            0,
            -21.69634334318701
           ]
          }
         ]
        },
        {
         "data": [
          {
           "type": "scatter",
           "x": [
            0,
            -2.010316106895377
           ],
           "y": [
            0,
            -22.503850250403087
           ]
          }
         ]
        },
        {
         "data": [
          {
           "type": "scatter",
           "x": [
            0,
            -2.1170073338108417
           ],
           "y": [
            0,
            -23.294191028298773
           ]
          }
         ]
        },
        {
         "data": [
          {
           "type": "scatter",
           "x": [
            0,
            -2.2197504656495304
           ],
           "y": [
            0,
            -24.06558650185404
           ]
          }
         ]
        },
        {
         "data": [
          {
           "type": "scatter",
           "x": [
            0,
            -2.3183264398780987
           ],
           "y": [
            0,
            -24.81630025241939
           ]
          }
         ]
        },
        {
         "data": [
          {
           "type": "scatter",
           "x": [
            0,
            -2.412524014542802
           ],
           "y": [
            0,
            -25.54464251531016
           ]
          }
         ]
        },
        {
         "data": [
          {
           "type": "scatter",
           "x": [
            0,
            -2.5021403903099397
           ],
           "y": [
            0,
            -26.2489739726744
           ]
          }
         ]
        },
        {
         "data": [
          {
           "type": "scatter",
           "x": [
            0,
            -2.586981784420891
           ],
           "y": [
            0,
            -26.927709434632447
           ]
          }
         ]
        },
        {
         "data": [
          {
           "type": "scatter",
           "x": [
            0,
            -2.6668639859569256
           ],
           "y": [
            0,
            -27.579321396903683
           ]
          }
         ]
        },
        {
         "data": [
          {
           "type": "scatter",
           "x": [
            0,
            -2.741612863421276
           ],
           "y": [
            0,
            -28.20234347070121
           ]
          }
         ]
        },
        {
         "data": [
          {
           "type": "scatter",
           "x": [
            0,
            -2.811064832517352
           ],
           "y": [
            0,
            -28.795373676297586
           ]
          }
         ]
        },
        {
         "data": [
          {
           "type": "scatter",
           "x": [
            0,
            -2.8750672965604496
           ],
           "y": [
            0,
            -29.357077591308098
           ]
          }
         ]
        },
        {
         "data": [
          {
           "type": "scatter",
           "x": [
            0,
            -2.9334790520614518
           ],
           "y": [
            0,
            -29.886191347583075
           ]
          }
         ]
        },
        {
         "data": [
          {
           "type": "scatter",
           "x": [
            0,
            -2.9861706580715097
           ],
           "y": [
            0,
            -30.381524470163207
           ]
          }
         ]
        },
        {
         "data": [
          {
           "type": "scatter",
           "x": [
            0,
            -3.033024772772126
           ],
           "y": [
            0,
            -30.841962551414667
           ]
          }
         ]
        },
        {
         "data": [
          {
           "type": "scatter",
           "x": [
            0,
            -3.0739364566343044
           ],
           "y": [
            0,
            -31.266469754423227
           ]
          }
         ]
        },
        {
         "data": [
          {
           "type": "scatter",
           "x": [
            0,
            -3.108813440888602
           ],
           "y": [
            0,
            -31.654091140141556
           ]
          }
         ]
        },
        {
         "data": [
          {
           "type": "scatter",
           "x": [
            0,
            -3.1375763644163692
           ],
           "y": [
            0,
            -32.0039548126223
           ]
          }
         ]
        },
        {
         "data": [
          {
           "type": "scatter",
           "x": [
            0,
            -3.16015897647449
           ],
           "y": [
            0,
            -32.31527387782067
           ]
          }
         ]
        },
        {
         "data": [
          {
           "type": "scatter",
           "x": [
            0,
            -3.176508288482853
           ],
           "y": [
            0,
            -32.587348213484354
           ]
          }
         ]
        },
        {
         "data": [
          {
           "type": "scatter",
           "x": [
            0,
            -3.1865847368641638
           ],
           "y": [
            0,
            -32.81956603880287
           ]
          }
         ]
        },
        {
         "data": [
          {
           "type": "scatter",
           "x": [
            0,
            -3.190362253021022
           ],
           "y": [
            0,
            -33.011405292526746
           ]
          }
         ]
        },
        {
         "data": [
          {
           "type": "scatter",
           "x": [
            0,
            -3.187828354747263
           ],
           "y": [
            0,
            -33.16243480304577
           ]
          }
         ]
        },
        {
         "data": [
          {
           "type": "scatter",
           "x": [
            0,
            -3.178984151909095
           ],
           "y": [
            0,
            -33.27231526018107
           ]
          }
         ]
        },
        {
         "data": [
          {
           "type": "scatter",
           "x": [
            0,
            -3.1638443678489003
           ],
           "y": [
            0,
            -33.34079997478518
           ]
          }
         ]
        },
        {
         "data": [
          {
           "type": "scatter",
           "x": [
            0,
            -3.1424372843247714
           ],
           "y": [
            0,
            -33.367735435062784
           ]
          }
         ]
        },
        {
         "data": [
          {
           "type": "scatter",
           "x": [
            0,
            -3.1148046831459126
           ],
           "y": [
            0,
            -33.353061650135395
           ]
          }
         ]
        },
        {
         "data": [
          {
           "type": "scatter",
           "x": [
            0,
            -3.0810017333838737
           ],
           "y": [
            0,
            -33.2968122855279
           ]
          }
         ]
        },
        {
         "data": [
          {
           "type": "scatter",
           "x": [
            0,
            -3.0410968608528335
           ],
           "y": [
            0,
            -33.19911458645761
           ]
          }
         ]
        },
        {
         "data": [
          {
           "type": "scatter",
           "x": [
            0,
            -2.9951715717601397
           ],
           "y": [
            0,
            -33.060189092116715
           ]
          }
         ]
        },
        {
         "data": [
          {
           "type": "scatter",
           "x": [
            0,
            -2.943320252249404
           ],
           "y": [
            0,
            -32.88034913928834
           ]
          }
         ]
        },
        {
         "data": [
          {
           "type": "scatter",
           "x": [
            0,
            -2.885649929135412
           ],
           "y": [
            0,
            -32.660000157868545
           ]
          }
         ]
        },
        {
         "data": [
          {
           "type": "scatter",
           "x": [
            0,
            -2.822280002068328
           ],
           "y": [
            0,
            -32.39963875897702
           ]
          }
         ]
        },
        {
         "data": [
          {
           "type": "scatter",
           "x": [
            0,
            -2.7533419408793236
           ],
           "y": [
            0,
            -32.09985161825224
           ]
          }
         ]
        },
        {
         "data": [
          {
           "type": "scatter",
           "x": [
            0,
            -2.6789789521735057
           ],
           "y": [
            0,
            -31.761314156522374
           ]
          }
         ]
        },
        {
         "data": [
          {
           "type": "scatter",
           "x": [
            0,
            -2.599345608502421
           ],
           "y": [
            0,
            -31.38478902151361
           ]
          }
         ]
        },
        {
         "data": [
          {
           "type": "scatter",
           "x": [
            0,
            -2.5146074588221055
           ],
           "y": [
            0,
            -30.971124371830467
           ]
          }
         ]
        },
        {
         "data": [
          {
           "type": "scatter",
           "x": [
            0,
            -2.424940620918733
           ],
           "y": [
            0,
            -30.521251967053338
           ]
          }
         ]
        },
        {
         "data": [
          {
           "type": "scatter",
           "x": [
            0,
            -2.3305312683803914
           ],
           "y": [
            0,
            -30.03618507854832
           ]
          }
         ]
        },
        {
         "data": [
          {
           "type": "scatter",
           "x": [
            0,
            -2.2315751942195816
           ],
           "y": [
            0,
            -29.517016204043564
           ]
          }
         ]
        },
        {
         "data": [
          {
           "type": "scatter",
           "x": [
            0,
            -2.1282772953231177
           ],
           "y": [
            0,
            -28.964914609700845
           ]
          }
         ]
        },
        {
         "data": [
          {
           "type": "scatter",
           "x": [
            0,
            -2.0208509417182627
           ],
           "y": [
            0,
            -28.38112370863981
           ]
          }
         ]
        },
        {
         "data": [
          {
           "type": "scatter",
           "x": [
            0,
            -1.9095175007478535
           ],
           "y": [
            0,
            -27.766958251198368
           ]
          }
         ]
        },
        {
         "data": [
          {
           "type": "scatter",
           "x": [
            0,
            -1.7945056625389195
           ],
           "y": [
            0,
            -27.123801373164852
           ]
          }
         ]
        },
        {
         "data": [
          {
           "type": "scatter",
           "x": [
            0,
            -1.6760507843335009
           ],
           "y": [
            0,
            -26.453101483257523
           ]
          }
         ]
        },
        {
         "data": [
          {
           "type": "scatter",
           "x": [
            0,
            -1.554394359726181
           ],
           "y": [
            0,
            -25.756368985741652
           ]
          }
         ]
        },
        {
         "data": [
          {
           "type": "scatter",
           "x": [
            0,
            -1.4297831434897887
           ],
           "y": [
            0,
            -25.035172897738484
           ]
          }
         ]
        },
        {
         "data": [
          {
           "type": "scatter",
           "x": [
            0,
            -1.30246837209524
           ],
           "y": [
            0,
            -24.291137317347093
           ]
          }
         ]
        },
        {
         "data": [
          {
           "type": "scatter",
           "x": [
            0,
            -1.1727050944600819
           ],
           "y": [
            0,
            -23.525937747906795
           ]
          }
         ]
        },
        {
         "data": [
          {
           "type": "scatter",
           "x": [
            0,
            -1.040751499946462
           ],
           "y": [
            0,
            -22.741297301053947
           ]
          }
         ]
        },
        {
         "data": [
          {
           "type": "scatter",
           "x": [
            0,
            -0.9068678346726223
           ],
           "y": [
            0,
            -21.938982830296027
           ]
          }
         ]
        },
        {
         "data": [
          {
           "type": "scatter",
           "x": [
            0,
            -0.771315399276704
           ],
           "y": [
            0,
            -21.120800945048824
           ]
          }
         ]
        },
        {
         "data": [
          {
           "type": "scatter",
           "x": [
            0,
            -0.6343558613001785
           ],
           "y": [
            0,
            -20.28859388920218
           ]
          }
         ]
        },
        {
         "data": [
          {
           "type": "scatter",
           "x": [
            0,
            -0.4962501626638083
           ],
           "y": [
            0,
            -19.444235366278626
           ]
          }
         ]
        },
        {
         "data": [
          {
           "type": "scatter",
           "x": [
            0,
            -0.35725727875645263
           ],
           "y": [
            0,
            -18.589626286570844
           ]
          }
         ]
        },
        {
         "data": [
          {
           "type": "scatter",
           "x": [
            0,
            -0.2176330878588225
           ],
           "y": [
            0,
            -17.726690430464725
           ]
          }
         ]
        },
        {
         "data": [
          {
           "type": "scatter",
           "x": [
            0,
            -0.07762922774905837
           ],
           "y": [
            0,
            -16.857370006828184
           ]
          }
         ]
        },
        {
         "data": [
          {
           "type": "scatter",
           "x": [
            0,
            0.06250841119174638
           ],
           "y": [
            0,
            -15.983621182433954
           ]
          }
         ]
        },
        {
         "data": [
          {
           "type": "scatter",
           "x": [
            0,
            0.20254145288700126
           ],
           "y": [
            0,
            -15.107409551175257
           ]
          }
         ]
        },
        {
         "data": [
          {
           "type": "scatter",
           "x": [
            0,
            0.34224025844211287
           ],
           "y": [
            0,
            -14.230705435027161
           ]
          }
         ]
        },
        {
         "data": [
          {
           "type": "scatter",
           "x": [
            0,
            0.48138655438960126
           ],
           "y": [
            0,
            -13.355479237609677
           ]
          }
         ]
        },
        {
         "data": [
          {
           "type": "scatter",
           "x": [
            0,
            0.6197752438844051
           ],
           "y": [
            0,
            -12.483696560981809
           ]
          }
         ]
        },
        {
         "data": [
          {
           "type": "scatter",
           "x": [
            0,
            0.7572173113000303
           ],
           "y": [
            0,
            -11.617313254885152
           ]
          }
         ]
        },
        {
         "data": [
          {
           "type": "scatter",
           "x": [
            0,
            0.8935429395423536
           ],
           "y": [
            0,
            -10.758270245125173
           ]
          }
         ]
        },
        {
         "data": [
          {
           "type": "scatter",
           "x": [
            0,
            1.0286053109834905
           ],
           "y": [
            0,
            -9.908488056760753
           ]
          }
         ]
        },
        {
         "data": [
          {
           "type": "scatter",
           "x": [
            0,
            1.162285442136514
           ],
           "y": [
            0,
            -9.069860944980052
           ]
          }
         ]
        },
        {
         "data": [
          {
           "type": "scatter",
           "x": [
            0,
            1.29449776475755
           ],
           "y": [
            0,
            -8.244250292654712
           ]
          }
         ]
        },
        {
         "data": [
          {
           "type": "scatter",
           "x": [
            0,
            1.4251976728572209
           ],
           "y": [
            0,
            -7.43347703450384
           ]
          }
         ]
        },
        {
         "data": [
          {
           "type": "scatter",
           "x": [
            0,
            1.5543906770594287
           ],
           "y": [
            0,
            -6.639312372938119
           ]
          }
         ]
        },
        {
         "data": [
          {
           "type": "scatter",
           "x": [
            0,
            1.6821442485725704
           ],
           "y": [
            0,
            -5.8634658945576925
           ]
          }
         ]
        },
        {
         "data": [
          {
           "type": "scatter",
           "x": [
            0,
            1.8086027255491288
           ],
           "y": [
            0,
            -5.107569362091707
           ]
          }
         ]
        },
        {
         "data": [
          {
           "type": "scatter",
           "x": [
            0,
            1.934005655515155
           ],
           "y": [
            0,
            -4.373153523615954
           ]
          }
         ]
        },
        {
         "data": [
          {
           "type": "scatter",
           "x": [
            0,
            2.0587085771764677
           ],
           "y": [
            0,
            -3.6616138137411847
           ]
          }
         ]
        },
        {
         "data": [
          {
           "type": "scatter",
           "x": [
            0,
            2.1832024113453903
           ],
           "y": [
            0,
            -2.974159092266737
           ]
          }
         ]
        },
        {
         "data": [
          {
           "type": "scatter",
           "x": [
            0,
            2.3081198522376285
           ],
           "y": [
            0,
            -2.311738248642621
           ]
          }
         ]
        },
        {
         "data": [
          {
           "type": "scatter",
           "x": [
            0,
            2.4342050252171923
           ],
           "y": [
            0,
            -1.6749480423193928
           ]
          }
         ]
        },
        {
         "data": [
          {
           "type": "scatter",
           "x": [
            0,
            2.56221414166039
           ],
           "y": [
            0,
            -1.0639534666924346
           ]
          }
         ]
        },
        {
         "data": [
          {
           "type": "scatter",
           "x": [
            0,
            2.6927400599080085
           ],
           "y": [
            0,
            -0.4784922505063904
           ]
          }
         ]
        },
        {
         "data": [
          {
           "type": "scatter",
           "x": [
            0,
            2.8260327010096944
           ],
           "y": [
            0,
            0.08197195312029024
           ]
          }
         ]
        },
        {
         "data": [
          {
           "type": "scatter",
           "x": [
            0,
            2.9619355159811906
           ],
           "y": [
            0,
            0.617995057346033
           ]
          }
         ]
        },
        {
         "data": [
          {
           "type": "scatter",
           "x": [
            0,
            3.099969995858234
           ],
           "y": [
            0,
            1.129942184288059
           ]
          }
         ]
        },
        {
         "data": [
          {
           "type": "scatter",
           "x": [
            0,
            3.239481164921646
           ],
           "y": [
            0,
            1.6179080361439186
           ]
          }
         ]
        },
        {
         "data": [
          {
           "type": "scatter",
           "x": [
            0,
            3.3797564712878274
           ],
           "y": [
            0,
            2.081739376889664
           ]
          }
         ]
        },
        {
         "data": [
          {
           "type": "scatter",
           "x": [
            0,
            3.520093946998991
           ],
           "y": [
            0,
            2.52109658902447
           ]
          }
         ]
        },
        {
         "data": [
          {
           "type": "scatter",
           "x": [
            0,
            3.65983247123348
           ],
           "y": [
            0,
            2.9355156818921384
           ]
          }
         ]
        },
        {
         "data": [
          {
           "type": "scatter",
           "x": [
            0,
            3.7983612737649692
           ],
           "y": [
            0,
            3.324458002865806
           ]
          }
         ]
        },
        {
         "data": [
          {
           "type": "scatter",
           "x": [
            0,
            3.9351201009111136
           ],
           "y": [
            0,
            3.687346829971628
           ]
          }
         ]
        },
        {
         "data": [
          {
           "type": "scatter",
           "x": [
            0,
            4.069595833038046
           ],
           "y": [
            0,
            4.023593610392855
           ]
          }
         ]
        },
        {
         "data": [
          {
           "type": "scatter",
           "x": [
            0,
            4.201318235873614
           ],
           "y": [
            0,
            4.332616741801172
           ]
          }
         ]
        },
        {
         "data": [
          {
           "type": "scatter",
           "x": [
            0,
            4.3298559223319275
           ],
           "y": [
            0,
            4.613855165290613
           ]
          }
         ]
        },
        {
         "data": [
          {
           "type": "scatter",
           "x": [
            0,
            4.454812920791601
           ],
           "y": [
            0,
            4.866778331238108
           ]
          }
         ]
        },
        {
         "data": [
          {
           "type": "scatter",
           "x": [
            0,
            4.5758259000486445
           ],
           "y": [
            0,
            5.0908936226866395
           ]
          }
         ]
        },
        {
         "data": [
          {
           "type": "scatter",
           "x": [
            0,
            4.692562008175596
           ],
           "y": [
            0,
            5.285751950294671
           ]
          }
         ]
        },
        {
         "data": [
          {
           "type": "scatter",
           "x": [
            0,
            4.80471723797948
           ],
           "y": [
            0,
            5.450951997993339
           ]
          }
         ]
        },
        {
         "data": [
          {
           "type": "scatter",
           "x": [
            0,
            4.912015235656499
           ],
           "y": [
            0,
            5.586143440633093
           ]
          }
         ]
        },
        {
         "data": [
          {
           "type": "scatter",
           "x": [
            0,
            5.0142064513347195
           ],
           "y": [
            0,
            5.691029359082284
           ]
          }
         ]
        },
        {
         "data": [
          {
           "type": "scatter",
           "x": [
            0,
            5.111067592650706
           ],
           "y": [
            0,
            5.765367993069937
           ]
          }
         ]
        },
        {
         "data": [
          {
           "type": "scatter",
           "x": [
            0,
            5.2024013096293045
           ],
           "y": [
            0,
            5.808973934491502
           ]
          }
         ]
        },
        {
         "data": [
          {
           "type": "scatter",
           "x": [
            0,
            5.288036069596933
           ],
           "y": [
            0,
            5.82171882531385
           ]
          }
         ]
        },
        {
         "data": [
          {
           "type": "scatter",
           "x": [
            0,
            5.367826189321839
           ],
           "y": [
            0,
            5.803531598591497
           ]
          }
         ]
        },
        {
         "data": [
          {
           "type": "scatter",
           "x": [
            0,
            5.441651996902409
           ],
           "y": [
            0,
            5.754398280705598
           ]
          }
         ]
        },
        {
         "data": [
          {
           "type": "scatter",
           "x": [
            0,
            5.5094200843970045
           ],
           "y": [
            0,
            5.674361367094575
           ]
          }
         ]
        },
        {
         "data": [
          {
           "type": "scatter",
           "x": [
            0,
            5.571063648518596
           ],
           "y": [
            0,
            5.5635187505853905
           ]
          }
         ]
        },
        {
         "data": [
          {
           "type": "scatter",
           "x": [
            0,
            5.626542874411604
           ],
           "y": [
            0,
            5.422022190200858
           ]
          }
         ]
        },
        {
         "data": [
          {
           "type": "scatter",
           "x": [
            0,
            5.675845350241745
           ],
           "y": [
            0,
            5.250075279792804
           ]
          }
         ]
        },
        {
         "data": [
          {
           "type": "scatter",
           "x": [
            0,
            5.7189864608583285
           ],
           "y": [
            0,
            5.047930875821078
           ]
          }
         ]
        },
        {
         "data": [
          {
           "type": "scatter",
           "x": [
            0,
            5.756009719731234
           ],
           "y": [
            0,
            4.815887924420646
           ]
          }
         ]
        },
        {
         "data": [
          {
           "type": "scatter",
           "x": [
            0,
            5.786986961183546
           ],
           "y": [
            0,
            4.554287621833717
           ]
          }
         ]
        },
        {
         "data": [
          {
           "type": "scatter",
           "x": [
            0,
            5.8120182920727705
           ],
           "y": [
            0,
            4.263508835343613
           ]
          }
         ]
        },
        {
         "data": [
          {
           "type": "scatter",
           "x": [
            0,
            5.831231654318506
           ],
           "y": [
            0,
            3.943962713932053
           ]
          }
         ]
        },
        {
         "data": [
          {
           "type": "scatter",
           "x": [
            0,
            5.844781790946074
           ],
           "y": [
            0,
            3.5960864360255074
           ]
          }
         ]
        },
        {
         "data": [
          {
           "type": "scatter",
           "x": [
            0,
            5.852848329629895
           ],
           "y": [
            0,
            3.220336087889529
           ]
          }
         ]
        },
        {
         "data": [
          {
           "type": "scatter",
           "x": [
            0,
            5.855632605061634
           ],
           "y": [
            0,
            2.8171787586539834
           ]
          }
         ]
        },
        {
         "data": [
          {
           "type": "scatter",
           "x": [
            0,
            5.853352757585435
           ],
           "y": [
            0,
            2.3870841509868184
           ]
          }
         ]
        },
        {
         "data": [
          {
           "type": "scatter",
           "x": [
            0,
            5.846236523632693
           ],
           "y": [
            0,
            1.9305160263763144
           ]
          }
         ]
        },
        {
         "data": [
          {
           "type": "scatter",
           "x": [
            0,
            5.83451129033941
           ],
           "y": [
            0,
            1.4479246689550174
           ]
          }
         ]
        },
        {
         "data": [
          {
           "type": "scatter",
           "x": [
            0,
            5.8183910103734995
           ],
           "y": [
            0,
            0.939741473532803
           ]
          }
         ]
        },
        {
         "data": [
          {
           "type": "scatter",
           "x": [
            0,
            5.798060278574598
           ],
           "y": [
            0,
            0.4063774699553103
           ]
          }
         ]
        },
        {
         "data": [
          {
           "type": "scatter",
           "x": [
            0,
            5.773656452468241
           ],
           "y": [
            0,
            -0.15177201331827989
           ]
          }
         ]
        },
        {
         "data": [
          {
           "type": "scatter",
           "x": [
            0,
            5.745252142226218
           ],
           "y": [
            0,
            -0.7343151970895816
           ]
          }
         ]
        },
        {
         "data": [
          {
           "type": "scatter",
           "x": [
            0,
            5.712841105852199
           ],
           "y": [
            0,
            -1.3408436276936622
           ]
          }
         ]
        },
        {
         "data": [
          {
           "type": "scatter",
           "x": [
            0,
            5.676330951773048
           ],
           "y": [
            0,
            -1.9709055554259367
           ]
          }
         ]
        },
        {
         "data": [
          {
           "type": "scatter",
           "x": [
            0,
            5.635544974280796
           ],
           "y": [
            0,
            -2.623976568341298
           ]
          }
         ]
        },
        {
         "data": [
          {
           "type": "scatter",
           "x": [
            0,
            5.5902333712089085
           ],
           "y": [
            0,
            -3.299432355016323
           ]
          }
         ]
        },
        {
         "data": [
          {
           "type": "scatter",
           "x": [
            0,
            5.540091703362287
           ],
           "y": [
            0,
            -3.9965278473074926
           ]
          }
         ]
        },
        {
         "data": [
          {
           "type": "scatter",
           "x": [
            0,
            5.484782991734511
           ],
           "y": [
            0,
            -4.714385142114452
           ]
          }
         ]
        },
        {
         "data": [
          {
           "type": "scatter",
           "x": [
            0,
            5.423959461618697
           ],
           "y": [
            0,
            -5.451990621528215
           ]
          }
         ]
        },
        {
         "data": [
          {
           "type": "scatter",
           "x": [
            0,
            5.357281527891816
           ],
           "y": [
            0,
            -6.208199255934686
           ]
          }
         ]
        },
        {
         "data": [
          {
           "type": "scatter",
           "x": [
            0,
            5.284432364881218
           ],
           "y": [
            0,
            -6.98174402702529
           ]
          }
         ]
        },
        {
         "data": [
          {
           "type": "scatter",
           "x": [
            0,
            5.205128154453471
           ],
           "y": [
            0,
            -7.771247979927874
           ]
          }
         ]
        },
        {
         "data": [
          {
           "type": "scatter",
           "x": [
            0,
            5.119124456723158
           ],
           "y": [
            0,
            -8.575237285807663
           ]
          }
         ]
        },
        {
         "data": [
          {
           "type": "scatter",
           "x": [
            0,
            5.026219618445249
           ],
           "y": [
            0,
            -9.39215409339592
           ]
          }
         ]
        },
        {
         "data": [
          {
           "type": "scatter",
           "x": [
            0,
            4.926255957111829
           ],
           "y": [
            0,
            -10.22036868455136
           ]
          }
         ]
        },
        {
         "data": [
          {
           "type": "scatter",
           "x": [
            0,
            4.819119550458628
           ],
           "y": [
            0,
            -11.058190595996653
           ]
          }
         ]
        },
        {
         "data": [
          {
           "type": "scatter",
           "x": [
            0,
            4.704739111980208
           ],
           "y": [
            0,
            -11.903878694974088
           ]
          }
         ]
        },
        {
         "data": [
          {
           "type": "scatter",
           "x": [
            0,
            4.5830843190108
           ],
           "y": [
            0,
            -12.75565029447974
           ]
          }
         ]
        },
        {
         "data": [
          {
           "type": "scatter",
           "x": [
            0,
            4.454163884739602
           ],
           "y": [
            0,
            -13.611689421510748
           ]
          }
         ]
        },
        {
         "data": [
          {
           "type": "scatter",
           "x": [
            0,
            4.318023519342455
           ],
           "y": [
            0,
            -14.47015436886046
           ]
          }
         ]
        },
        {
         "data": [
          {
           "type": "scatter",
           "x": [
            0,
            4.174743904797442
           ],
           "y": [
            0,
            -15.329184648611124
           ]
          }
         ]
        },
        {
         "data": [
          {
           "type": "scatter",
           "x": [
            0,
            4.0244386142235955
           ],
           "y": [
            0,
            -16.1869074748853
           ]
          }
         ]
        },
        {
         "data": [
          {
           "type": "scatter",
           "x": [
            0,
            3.867252254579996
           ],
           "y": [
            0,
            -17.04144382855714
           ]
          }
         ]
        },
        {
         "data": [
          {
           "type": "scatter",
           "x": [
            0,
            3.7033586058867667
           ],
           "y": [
            0,
            -17.890914191436572
           ]
          }
         ]
        },
        {
         "data": [
          {
           "type": "scatter",
           "x": [
            0,
            3.5329588394718123
           ],
           "y": [
            0,
            -18.7334440189545
           ]
          }
         ]
        },
        {
         "data": [
          {
           "type": "scatter",
           "x": [
            0,
            3.3562798404573053
           ],
           "y": [
            0,
            -19.567168965525056
           ]
          }
         ]
        },
        {
         "data": [
          {
           "type": "scatter",
           "x": [
            0,
            3.1735726091162344
           ],
           "y": [
            0,
            -20.39023991260543
           ]
          }
         ]
        },
        {
         "data": [
          {
           "type": "scatter",
           "x": [
            0,
            2.9851107013998552
           ],
           "y": [
            0,
            -21.200827816470674
           ]
          }
         ]
        },
        {
         "data": [
          {
           "type": "scatter",
           "x": [
            0,
            2.7911887672226636
           ],
           "y": [
            0,
            -21.997128392573735
           ]
          }
         ]
        },
        {
         "data": [
          {
           "type": "scatter",
           "x": [
            0,
            2.5921210912063186
           ],
           "y": [
            0,
            -22.77736664858104
           ]
          }
         ]
        },
        {
         "data": [
          {
           "type": "scatter",
           "x": [
            0,
            2.38824020184793
           ],
           "y": [
            0,
            -23.539801272463574
           ]
          }
         ]
        },
        {
         "data": [
          {
           "type": "scatter",
           "x": [
            0,
            2.179895502073087
           ],
           "y": [
            0,
            -24.282728884067307
           ]
          }
         ]
        },
        {
         "data": [
          {
           "type": "scatter",
           "x": [
            0,
            1.9674519285654295
           ],
           "y": [
            0,
            -25.00448814443336
           ]
          }
         ]
        },
        {
         "data": [
          {
           "type": "scatter",
           "x": [
            0,
            1.7512886384138358
           ],
           "y": [
            0,
            -25.7034637307345
           ]
          }
         ]
        },
        {
         "data": [
          {
           "type": "scatter",
           "x": [
            0,
            1.5317977092408483
           ],
           "y": [
            0,
            -26.378090169168672
           ]
          }
         ]
        },
        {
         "data": [
          {
           "type": "scatter",
           "x": [
            0,
            1.3093828554230034
           ],
           "y": [
            0,
            -27.0268555264107
           ]
          }
         ]
        },
        {
         "data": [
          {
           "type": "scatter",
           "x": [
            0,
            1.0844581554694068
           ],
           "y": [
            0,
            -27.648304954966537
           ]
          }
         ]
        },
        {
         "data": [
          {
           "type": "scatter",
           "x": [
            0,
            0.8574468226257344
           ],
           "y": [
            0,
            -28.24104409626229
           ]
          }
         ]
        },
        {
         "data": [
          {
           "type": "scatter",
           "x": [
            0,
            0.6287799011770592
           ],
           "y": [
            0,
            -28.80374231016455
           ]
          }
         ]
        },
        {
         "data": [
          {
           "type": "scatter",
           "x": [
            0,
            0.3988951119920752
           ],
           "y": [
            0,
            -29.33513577642132
           ]
          }
         ]
        },
        {
         "data": [
          {
           "type": "scatter",
           "x": [
            0,
            0.16823551953372343
           ],
           "y": [
            0,
            -29.834030396891357
           ]
          }
         ]
        },
        {
         "data": [
          {
           "type": "scatter",
           "x": [
            0,
            -0.06275159396492233
           ],
           "y": [
            0,
            -30.299304565572502
           ]
          }
         ]
        },
        {
         "data": [
          {
           "type": "scatter",
           "x": [
            0,
            -0.2936160084057958
           ],
           "y": [
            0,
            -30.729911737773445
           ]
          }
         ]
        },
        {
         "data": [
          {
           "type": "scatter",
           "x": [
            0,
            -0.5239057235765224
           ],
           "y": [
            0,
            -31.124882841649885
           ]
          }
         ]
        },
        {
         "data": [
          {
           "type": "scatter",
           "x": [
            0,
            -0.7531681669295225
           ],
           "y": [
            0,
            -31.48332849795619
           ]
          }
         ]
        },
        {
         "data": [
          {
           "type": "scatter",
           "x": [
            0,
            -0.9809513723853956
           ],
           "y": [
            0,
            -31.804441057964844
           ]
          }
         ]
        },
        {
         "data": [
          {
           "type": "scatter",
           "x": [
            0,
            -1.2068051322510107
           ],
           "y": [
            0,
            -32.08749645355102
           ]
          }
         ]
        },
        {
         "data": [
          {
           "type": "scatter",
           "x": [
            0,
            -1.4302821698375572
           ],
           "y": [
            0,
            -32.331855850060194
           ]
          }
         ]
        },
        {
         "data": [
          {
           "type": "scatter",
           "x": [
            0,
            -1.6509392473940494
           ],
           "y": [
            0,
            -32.53696711007741
           ]
          }
         ]
        },
        {
         "data": [
          {
           "type": "scatter",
           "x": [
            0,
            -1.868338313783786
           ],
           "y": [
            0,
            -32.70236605063032
           ]
          }
         ]
        },
        {
         "data": [
          {
           "type": "scatter",
           "x": [
            0,
            -2.0820475746546356
           ],
           "y": [
            0,
            -32.82767750772068
           ]
          }
         ]
        },
        {
         "data": [
          {
           "type": "scatter",
           "x": [
            0,
            -2.2916425981922335
           ],
           "y": [
            0,
            -32.91261618921179
           ]
          }
         ]
        },
        {
         "data": [
          {
           "type": "scatter",
           "x": [
            0,
            -2.4967073495169467
           ],
           "y": [
            0,
            -32.95698733062591
           ]
          }
         ]
        },
        {
         "data": [
          {
           "type": "scatter",
           "x": [
            0,
            -2.696835241726865
           ],
           "y": [
            0,
            -32.96068713853935
           ]
          }
         ]
        },
        {
         "data": [
          {
           "type": "scatter",
           "x": [
            0,
            -2.8916301315098836
           ],
           "y": [
            0,
            -32.92370303176776
           ]
          }
         ]
        },
        {
         "data": [
          {
           "type": "scatter",
           "x": [
            0,
            -3.0807073083758323
           ],
           "y": [
            0,
            -32.84611367190552
           ]
          }
         ]
        },
        {
         "data": [
          {
           "type": "scatter",
           "x": [
            0,
            -3.263694443328291
           ],
           "y": [
            0,
            -32.72808878866204
           ]
          }
         ]
        },
        {
         "data": [
          {
           "type": "scatter",
           "x": [
            0,
            -3.440232512764035
           ],
           "y": [
            0,
            -32.56988879741732
           ]
          }
         ]
        },
        {
         "data": [
          {
           "type": "scatter",
           "x": [
            0,
            -3.6099766906227826
           ],
           "y": [
            0,
            -32.37186421089865
           ]
          }
         ]
        },
        {
         "data": [
          {
           "type": "scatter",
           "x": [
            0,
            -3.7725972037180218
           ],
           "y": [
            0,
            -32.13445484687368
           ]
          }
         ]
        },
        {
         "data": [
          {
           "type": "scatter",
           "x": [
            0,
            -3.9277801592603696
           ],
           "y": [
            0,
            -31.858188832004213
           ]
          }
         ]
        },
        {
         "data": [
          {
           "type": "scatter",
           "x": [
            0,
            -4.0752283277783
           ],
           "y": [
            0,
            -31.543681406485703
           ]
          }
         ]
        },
        {
         "data": [
          {
           "type": "scatter",
           "x": [
            0,
            -4.214661899373566
           ],
           "y": [
            0,
            -31.191633529020425
           ]
          }
         ]
        },
        {
         "data": [
          {
           "type": "scatter",
           "x": [
            0,
            -4.345819192223529
           ],
           "y": [
            0,
            -30.802830288416057
           ]
          }
         ]
        },
        {
         "data": [
          {
           "type": "scatter",
           "x": [
            0,
            -4.468457331142871
           ],
           "y": [
            0,
            -30.378139122184262
           ]
          }
         ]
        },
        {
         "data": [
          {
           "type": "scatter",
           "x": [
            0,
            -4.5823528643361575
           ],
           "y": [
            0,
            -29.918507851099463
           ]
          }
         ]
        },
        {
         "data": [
          {
           "type": "scatter",
           "x": [
            0,
            -4.687302390358297
           ],
           "y": [
            0,
            -29.424962521966123
           ]
          }
         ]
        },
        {
         "data": [
          {
           "type": "scatter",
           "x": [
            0,
            -4.783123058577391
           ],
           "y": [
            0,
            -28.898605084577262
           ]
          }
         ]
        },
        {
         "data": [
          {
           "type": "scatter",
           "x": [
            0,
            -4.8696531446399804
           ],
           "y": [
            0,
            -28.340610878703835
           ]
          }
         ]
        },
        {
         "data": [
          {
           "type": "scatter",
           "x": [
            0,
            -4.946752434807877
           ],
           "y": [
            0,
            -27.752225970008855
           ]
          }
         ]
        },
        {
         "data": [
          {
           "type": "scatter",
           "x": [
            0,
            -5.014302748040994
           ],
           "y": [
            0,
            -27.13476430443905
           ]
          }
         ]
        },
        {
         "data": [
          {
           "type": "scatter",
           "x": [
            0,
            -5.072208210246047
           ],
           "y": [
            0,
            -26.489604725765563
           ]
          }
         ]
        },
        {
         "data": [
          {
           "type": "scatter",
           "x": [
            0,
            -5.120395709748819
           ],
           "y": [
            0,
            -25.81818781847942
           ]
          }
         ]
        },
        {
         "data": [
          {
           "type": "scatter",
           "x": [
            0,
            -5.158815085792536
           ],
           "y": [
            0,
            -25.122012632681542
           ]
          }
         ]
        },
        {
         "data": [
          {
           "type": "scatter",
           "x": [
            0,
            -5.187439486318127
           ],
           "y": [
            0,
            -24.402633242513364
           ]
          }
         ]
        },
        {
         "data": [
          {
           "type": "scatter",
           "x": [
            0,
            -5.206265520239986
           ],
           "y": [
            0,
            -23.6616551979347
           ]
          }
         ]
        },
        {
         "data": [
          {
           "type": "scatter",
           "x": [
            0,
            -5.215313367384943
           ],
           "y": [
            0,
            -22.900731853345278
           ]
          }
         ]
        },
        {
         "data": [
          {
           "type": "scatter",
           "x": [
            0,
            -5.2146272247244765
           ],
           "y": [
            0,
            -22.121560518164355
           ]
          }
         ]
        },
        {
         "data": [
          {
           "type": "scatter",
           "x": [
            0,
            -5.204275189239054
           ],
           "y": [
            0,
            -21.325878575535004
           ]
          }
         ]
        },
        {
         "data": [
          {
           "type": "scatter",
           "x": [
            0,
            -5.184349199999716
           ],
           "y": [
            0,
            -20.51545949077806
           ]
          }
         ]
        },
        {
         "data": [
          {
           "type": "scatter",
           "x": [
            0,
            -5.154965446576961
           ],
           "y": [
            0,
            -19.69210863686641
           ]
          }
         ]
        },
        {
         "data": [
          {
           "type": "scatter",
           "x": [
            0,
            -5.116264279192674
           ],
           "y": [
            0,
            -18.85765910356927
           ]
          }
         ]
        },
        {
         "data": [
          {
           "type": "scatter",
           "x": [
            0,
            -5.0684101458003585
           ],
           "y": [
            0,
            -18.0139674135654
           ]
          }
         ]
        },
        {
         "data": [
          {
           "type": "scatter",
           "x": [
            0,
            -5.011591686703394
           ],
           "y": [
            0,
            -17.162909122286784
           ]
          }
         ]
        },
        {
         "data": [
          {
           "type": "scatter",
           "x": [
            0,
            -4.946021846657395
           ],
           "y": [
            0,
            -16.306374339075816
           ]
          }
         ]
        },
        {
         "data": [
          {
           "type": "scatter",
           "x": [
            0,
            -4.871937817449254
           ],
           "y": [
            0,
            -15.446263198325955
           ]
          }
         ]
        },
        {
         "data": [
          {
           "type": "scatter",
           "x": [
            0,
            -4.789601228780495
           ],
           "y": [
            0,
            -14.584481186964762
           ]
          }
         ]
        },
        {
         "data": [
          {
           "type": "scatter",
           "x": [
            0,
            -4.699298207647879
           ],
           "y": [
            0,
            -13.722934450889765
           ]
          }
         ]
        },
        {
         "data": [
          {
           "type": "scatter",
           "x": [
            0,
            -4.6013396018728185
           ],
           "y": [
            0,
            -12.863524949390131
           ]
          }
         ]
        },
        {
         "data": [
          {
           "type": "scatter",
           "x": [
            0,
            -4.496061338828963
           ],
           "y": [
            0,
            -12.00814550577764
           ]
          }
         ]
        },
        {
         "data": [
          {
           "type": "scatter",
           "x": [
            0,
            -4.383824951578533
           ],
           "y": [
            0,
            -11.158674677500978
           ]
          }
         ]
        },
        {
         "data": [
          {
           "type": "scatter",
           "x": [
            0,
            -4.265018140244742
           ],
           "y": [
            0,
            -10.31697148679896
           ]
          }
         ]
        },
        {
         "data": [
          {
           "type": "scatter",
           "x": [
            0,
            -4.140055767852402
           ],
           "y": [
            0,
            -9.484869837311486
           ]
          }
         ]
        },
        {
         "data": [
          {
           "type": "scatter",
           "x": [
            0,
            -4.009381154325488
           ],
           "y": [
            0,
            -8.664172587611183
           ]
          }
         ]
        },
        {
         "data": [
          {
           "type": "scatter",
           "x": [
            0,
            -3.8734678688047377
           ],
           "y": [
            0,
            -7.856645083032039
           ]
          }
         ]
        },
        {
         "data": [
          {
           "type": "scatter",
           "x": [
            0,
            -3.7328220258595493
           ],
           "y": [
            0,
            -7.06400798985068
           ]
          }
         ]
        },
        {
         "data": [
          {
           "type": "scatter",
           "x": [
            0,
            -3.5879855268361664
           ],
           "y": [
            0,
            -6.287928988545821
           ]
          }
         ]
        },
        {
         "data": [
          {
           "type": "scatter",
           "x": [
            0,
            -3.439540310137595
           ],
           "y": [
            0,
            -5.530012833923765
           ]
          }
         ]
        },
        {
         "data": [
          {
           "type": "scatter",
           "x": [
            0,
            -3.288113860684245
           ],
           "y": [
            0,
            -4.791788934272314
           ]
          }
         ]
        },
        {
         "data": [
          {
           "type": "scatter",
           "x": [
            0,
            -3.134386460165922
           ],
           "y": [
            0,
            -4.0746950002065665
           ]
          }
         ]
        },
        {
         "data": [
          {
           "type": "scatter",
           "x": [
            0,
            -2.979100063441276
           ],
           "y": [
            0,
            -3.3800545953366004
           ]
          }
         ]
        },
        {
         "data": [
          {
           "type": "scatter",
           "x": [
            0,
            -2.8230683437865522
           ],
           "y": [
            0,
            -2.709045007363778
           ]
          }
         ]
        },
        {
         "data": [
          {
           "type": "scatter",
           "x": [
            0,
            -2.667185433662655
           ],
           "y": [
            0,
            -2.0626499383321697
           ]
          }
         ]
        },
        {
         "data": [
          {
           "type": "scatter",
           "x": [
            0,
            -2.5124259156697755
           ],
           "y": [
            0,
            -1.44158994576013
           ]
          }
         ]
        },
        {
         "data": [
          {
           "type": "scatter",
           "x": [
            0,
            -2.3598179937765313
           ],
           "y": [
            0,
            -0.8462259388179423
           ]
          }
         ]
        },
        {
         "data": [
          {
           "type": "scatter",
           "x": [
            0,
            -2.2103548469956102
           ],
           "y": [
            0,
            -0.2764502716536741
           ]
          }
         ]
        },
        {
         "data": [
          {
           "type": "scatter",
           "x": [
            0,
            -2.06480888322359
           ],
           "y": [
            0,
            0.26836605103466005
           ]
          }
         ]
        },
        {
         "data": [
          {
           "type": "scatter",
           "x": [
            0,
            -1.9234903170072046
           ],
           "y": [
            0,
            0.7892414174909306
           ]
          }
         ]
        },
        {
         "data": [
          {
           "type": "scatter",
           "x": [
            0,
            -1.786133371339354
           ],
           "y": [
            0,
            1.2872261502883608
           ]
          }
         ]
        },
        {
         "data": [
          {
           "type": "scatter",
           "x": [
            0,
            -1.6520487906463128
           ],
           "y": [
            0,
            1.7630348090750212
           ]
          }
         ]
        },
        {
         "data": [
          {
           "type": "scatter",
           "x": [
            0,
            -1.520408137573001
           ],
           "y": [
            0,
            2.2169103685752054
           ]
          }
         ]
        },
        {
         "data": [
          {
           "type": "scatter",
           "x": [
            0,
            -1.390449882444366
           ],
           "y": [
            0,
            2.648698668999272
           ]
          }
         ]
        },
        {
         "data": [
          {
           "type": "scatter",
           "x": [
            0,
            -1.2615592425327276
           ],
           "y": [
            0,
            3.057984226055518
           ]
          }
         ]
        },
        {
         "data": [
          {
           "type": "scatter",
           "x": [
            0,
            -1.1332732582563998
           ],
           "y": [
            0,
            3.4442034244851576
           ]
          }
         ]
        },
        {
         "data": [
          {
           "type": "scatter",
           "x": [
            0,
            -1.0052590128693186
           ],
           "y": [
            0,
            3.8067203916830845
           ]
          }
         ]
        },
        {
         "data": [
          {
           "type": "scatter",
           "x": [
            0,
            -0.8772875426623927
           ],
           "y": [
            0,
            4.144874438033497
           ]
          }
         ]
        },
        {
         "data": [
          {
           "type": "scatter",
           "x": [
            0,
            -0.7492109880102158
           ],
           "y": [
            0,
            4.458009450633102
           ]
          }
         ]
        },
        {
         "data": [
          {
           "type": "scatter",
           "x": [
            0,
            -0.620944355477928
           ],
           "y": [
            0,
            4.745492449569015
           ]
          }
         ]
        },
        {
         "data": [
          {
           "type": "scatter",
           "x": [
            0,
            -0.4924514236942231
           ],
           "y": [
            0,
            5.006725655745904
           ]
          }
         ]
        },
        {
         "data": [
          {
           "type": "scatter",
           "x": [
            0,
            -0.3637338854101139
           ],
           "y": [
            0,
            5.24115460382729
           ]
          }
         ]
        },
        {
         "data": [
          {
           "type": "scatter",
           "x": [
            0,
            -0.23482293302801394
           ],
           "y": [
            0,
            5.448273784703405
           ]
          }
         ]
        },
        {
         "data": [
          {
           "type": "scatter",
           "x": [
            0,
            -0.10577262349696678
           ],
           "y": [
            0,
            5.627630669525694
           ]
          }
         ]
        },
        {
         "data": [
          {
           "type": "scatter",
           "x": [
            0,
            0.023345460289095035
           ],
           "y": [
            0,
            5.778828641034924
           ]
          }
         ]
        },
        {
         "data": [
          {
           "type": "scatter",
           "x": [
            0,
            0.15244659564285312
           ],
           "y": [
            0,
            5.901529149045838
           ]
          }
         ]
        },
        {
         "data": [
          {
           "type": "scatter",
           "x": [
            0,
            0.28143662107057044
           ],
           "y": [
            0,
            5.9954532810131544
           ]
          }
         ]
        },
        {
         "data": [
          {
           "type": "scatter",
           "x": [
            0,
            0.4102151484329757
           ],
           "y": [
            0,
            6.0603828688939965
           ]
          }
         ]
        },
        {
         "data": [
          {
           "type": "scatter",
           "x": [
            0,
            0.5386784342773445
           ],
           "y": [
            0,
            6.096161204659681
           ]
          }
         ]
        },
        {
         "data": [
          {
           "type": "scatter",
           "x": [
            0,
            0.6667220326091675
           ],
           "y": [
            0,
            6.1026934034998
           ]
          }
         ]
        },
        {
         "data": [
          {
           "type": "scatter",
           "x": [
            0,
            0.7942433020222054
           ],
           "y": [
            0,
            6.079946441769068
           ]
          }
         ]
        },
        {
         "data": [
          {
           "type": "scatter",
           "x": [
            0,
            0.9211438840332066
           ],
           "y": [
            0,
            6.027948857479724
           ]
          }
         ]
        },
        {
         "data": [
          {
           "type": "scatter",
           "x": [
            0,
            1.0473322013101285
           ],
           "y": [
            0,
            5.9467901073728795
           ]
          }
         ]
        },
        {
         "data": [
          {
           "type": "scatter",
           "x": [
            0,
            1.1727260644480626
           ],
           "y": [
            0,
            5.836619542517067
           ]
          }
         ]
        },
        {
         "data": [
          {
           "type": "scatter",
           "x": [
            0,
            1.297255455768195
           ],
           "y": [
            0,
            5.69764494730678
           ]
          }
         ]
        },
        {
         "data": [
          {
           "type": "scatter",
           "x": [
            0,
            1.4208655811568531
           ],
           "y": [
            0,
            5.530130564947846
           ]
          }
         ]
        },
        {
         "data": [
          {
           "type": "scatter",
           "x": [
            0,
            1.5435202683839702
           ],
           "y": [
            0,
            5.334394483398073
           ]
          }
         ]
        },
        {
         "data": [
          {
           "type": "scatter",
           "x": [
            0,
            1.6652058239270602
           ],
           "y": [
            0,
            5.110805219146716
           ]
          }
         ]
        },
        {
         "data": [
          {
           "type": "scatter",
           "x": [
            0,
            1.7859354447308984
           ],
           "y": [
            0,
            4.859777246864109
           ]
          }
         ]
        },
        {
         "data": [
          {
           "type": "scatter",
           "x": [
            0,
            1.9057542878993918
           ],
           "y": [
            0,
            4.581765130144145
           ]
          }
         ]
        },
        {
         "data": [
          {
           "type": "scatter",
           "x": [
            0,
            2.0247452772777734
           ],
           "y": [
            0,
            4.277255732706319
           ]
          }
         ]
        },
        {
         "data": [
          {
           "type": "scatter",
           "x": [
            0,
            2.1430355611297514
           ],
           "y": [
            0,
            3.94675784390669
           ]
          }
         ]
        },
        {
         "data": [
          {
           "type": "scatter",
           "x": [
            0,
            2.2608034574760674
           ],
           "y": [
            0,
            3.5907881622489373
           ]
          }
         ]
        },
        {
         "data": [
          {
           "type": "scatter",
           "x": [
            0,
            2.3782850088982794
           ],
           "y": [
            0,
            3.2098524356066314
           ]
          }
         ]
        },
        {
         "data": [
          {
           "type": "scatter",
           "x": [
            0,
            2.4957786118763936
           ],
           "y": [
            0,
            2.8044202306027897
           ]
          }
         ]
        },
        {
         "data": [
          {
           "type": "scatter",
           "x": [
            0,
            2.6136443385626187
           ],
           "y": [
            0,
            2.37489220888741
           ]
          }
         ]
        },
        {
         "data": [
          {
           "type": "scatter",
           "x": [
            0,
            2.732292201972397
           ],
           "y": [
            0,
            1.9215605032895196
           ]
          }
         ]
        },
        {
         "data": [
          {
           "type": "scatter",
           "x": [
            0,
            2.8521512481741897
           ],
           "y": [
            0,
            1.4445672778715235
           ]
          }
         ]
        },
        {
         "data": [
          {
           "type": "scatter",
           "x": [
            0,
            2.9736117825687156
           ],
           "y": [
            0,
            0.9438750886408844
           ]
          }
         ]
        },
        {
         "data": [
          {
           "type": "scatter",
           "x": [
            0,
            3.0969420080524914
           ],
           "y": [
            0,
            0.41927196382284787
           ]
          }
         ]
        },
        {
         "data": [
          {
           "type": "scatter",
           "x": [
            0,
            3.2221999025516204
           ],
           "y": [
            0,
            -0.12956709256209104
           ]
          }
         ]
        },
        {
         "data": [
          {
           "type": "scatter",
           "x": [
            0,
            3.3491784406127283
           ],
           "y": [
            0,
            -0.7029646036979529
           ]
          }
         ]
        },
        {
         "data": [
          {
           "type": "scatter",
           "x": [
            0,
            3.477412896478859
           ],
           "y": [
            0,
            -1.3011091280641545
           ]
          }
         ]
        },
        {
         "data": [
          {
           "type": "scatter",
           "x": [
            0,
            3.6062432572401173
           ],
           "y": [
            0,
            -1.9239566713587328
           ]
          }
         ]
        },
        {
         "data": [
          {
           "type": "scatter",
           "x": [
            0,
            3.734897095518584
           ],
           "y": [
            0,
            -2.571189046565314
           ]
          }
         ]
        },
        {
         "data": [
          {
           "type": "scatter",
           "x": [
            0,
            3.8625615063118333
           ],
           "y": [
            0,
            -3.2422198284805517
           ]
          }
         ]
        },
        {
         "data": [
          {
           "type": "scatter",
           "x": [
            0,
            3.9884316198659606
           ],
           "y": [
            0,
            -3.9362253427346854
           ]
          }
         ]
        },
        {
         "data": [
          {
           "type": "scatter",
           "x": [
            0,
            4.111737534235027
           ],
           "y": [
            0,
            -4.652182663895773
           ]
          }
         ]
        },
        {
         "data": [
          {
           "type": "scatter",
           "x": [
            0,
            4.231756516640432
           ],
           "y": [
            0,
            -5.388905060088977
           ]
          }
         ]
        },
        {
         "data": [
          {
           "type": "scatter",
           "x": [
            0,
            4.347816715096239
           ],
           "y": [
            0,
            -6.14507166464817
           ]
          }
         ]
        },
        {
         "data": [
          {
           "type": "scatter",
           "x": [
            0,
            4.45929653019809
           ],
           "y": [
            0,
            -6.919251286344132
           ]
          }
         ]
        },
        {
         "data": [
          {
           "type": "scatter",
           "x": [
            0,
            4.565622133277151
           ],
           "y": [
            0,
            -7.709921290487059
           ]
          }
         ]
        },
        {
         "data": [
          {
           "type": "scatter",
           "x": [
            0,
            4.666264379399963
           ],
           "y": [
            0,
            -8.515482699248604
           ]
          }
         ]
        },
        {
         "data": [
          {
           "type": "scatter",
           "x": [
            0,
            4.760735751726822
           ],
           "y": [
            0,
            -9.334272492155064
           ]
          }
         ]
        },
        {
         "data": [
          {
           "type": "scatter",
           "x": [
            0,
            4.848587614985269
           ],
           "y": [
            0,
            -10.16457386448506
           ]
          }
         ]
        },
        {
         "data": [
          {
           "type": "scatter",
           "x": [
            0,
            4.929407846427504
           ],
           "y": [
            0,
            -11.00462501130452
           ]
          }
         ]
        },
        {
         "data": [
          {
           "type": "scatter",
           "x": [
            0,
            5.002818850796447
           ],
           "y": [
            0,
            -11.852626843779916
           ]
          }
         ]
        },
        {
         "data": [
          {
           "type": "scatter",
           "x": [
            0,
            5.068475923024369
           ],
           "y": [
            0,
            -12.70674992468375
           ]
          }
         ]
        },
        {
         "data": [
          {
           "type": "scatter",
           "x": [
            0,
            5.12606590461043
           ],
           "y": [
            0,
            -13.565140830584681
           ]
          }
         ]
        },
        {
         "data": [
          {
           "type": "scatter",
           "x": [
            0,
            5.175306096125742
           ],
           "y": [
            0,
            -14.425928085895366
           ]
          }
         ]
        },
        {
         "data": [
          {
           "type": "scatter",
           "x": [
            0,
            5.215943353933942
           ],
           "y": [
            0,
            -15.287227770413457
           ]
          }
         ]
        },
        {
         "data": [
          {
           "type": "scatter",
           "x": [
            0,
            5.247753340954775
           ],
           "y": [
            0,
            -16.147148879131546
           ]
          }
         ]
        },
        {
         "data": [
          {
           "type": "scatter",
           "x": [
            0,
            5.270539924952867
           ],
           "y": [
            0,
            -17.00379847838361
           ]
          }
         ]
        },
        {
         "data": [
          {
           "type": "scatter",
           "x": [
            0,
            5.284134654629935
           ],
           "y": [
            0,
            -17.85528670014551
           ]
          }
         ]
        },
        {
         "data": [
          {
           "type": "scatter",
           "x": [
            0,
            5.288396301226028
           ],
           "y": [
            0,
            -18.69973159750784
           ]
          }
         ]
        },
        {
         "data": [
          {
           "type": "scatter",
           "x": [
            0,
            5.283210457296974
           ],
           "y": [
            0,
            -19.53526387637237
           ]
          }
         ]
        },
        {
         "data": [
          {
           "type": "scatter",
           "x": [
            0,
            5.26848915129272
           ],
           "y": [
            0,
            -20.36003151798466
           ]
          }
         ]
        },
        {
         "data": [
          {
           "type": "scatter",
           "x": [
            0,
            5.244170524557185
           ],
           "y": [
            0,
            -21.172204287813702
           ]
          }
         ]
        },
        {
         "data": [
          {
           "type": "scatter",
           "x": [
            0,
            5.210218461379749
           ],
           "y": [
            0,
            -21.969978149185366
           ]
          }
         ]
        },
        {
         "data": [
          {
           "type": "scatter",
           "x": [
            0,
            5.16662225818605
           ],
           "y": [
            0,
            -22.7515795672277
           ]
          }
         ]
        },
        {
         "data": [
          {
           "type": "scatter",
           "x": [
            0,
            5.113396263701551
           ],
           "y": [
            0,
            -23.51526971070415
           ]
          }
         ]
        },
        {
         "data": [
          {
           "type": "scatter",
           "x": [
            0,
            5.050579511479821
           ],
           "y": [
            0,
            -24.259348543398122
           ]
          }
         ]
        },
        {
         "data": [
          {
           "type": "scatter",
           "x": [
            0,
            4.978235334620028
           ],
           "y": [
            0,
            -24.982158803431364
           ]
          }
         ]
        },
        {
         "data": [
          {
           "type": "scatter",
           "x": [
            0,
            4.896450950253011
           ],
           "y": [
            0,
            -25.68208986517409
           ]
          }
         ]
        },
        {
         "data": [
          {
           "type": "scatter",
           "x": [
            0,
            4.805337004547116
           ],
           "y": [
            0,
            -26.35758148009528
           ]
          }
         ]
        },
        {
         "data": [
          {
           "type": "scatter",
           "x": [
            0,
            4.705027132187615
           ],
           "y": [
            0,
            -27.007127383737302
           ]
          }
         ]
        },
        {
         "data": [
          {
           "type": "scatter",
           "x": [
            0,
            4.59567743746159
           ],
           "y": [
            0,
            -27.629278774001783
           ]
          }
         ]
        },
        {
         "data": [
          {
           "type": "scatter",
           "x": [
            0,
            4.477465962039794
           ],
           "y": [
            0,
            -28.222647645566894
           ]
          }
         ]
        },
        {
         "data": [
          {
           "type": "scatter",
           "x": [
            0,
            4.350592113204718
           ],
           "y": [
            0,
            -28.785909979840174
           ]
          }
         ]
        },
        {
         "data": [
          {
           "type": "scatter",
           "x": [
            0,
            4.215276059746462
           ],
           "y": [
            0,
            -29.317808782538208
           ]
          }
         ]
        },
        {
         "data": [
          {
           "type": "scatter",
           "x": [
            0,
            4.0717580911622155
           ],
           "y": [
            0,
            -29.817156961483192
           ]
          }
         ]
        },
        {
         "data": [
          {
           "type": "scatter",
           "x": [
            0,
            3.920297944441782
           ],
           "y": [
            0,
            -30.28284004286306
           ]
          }
         ]
        },
        {
         "data": [
          {
           "type": "scatter",
           "x": [
            0,
            3.7611740896585655
           ],
           "y": [
            0,
            -30.713818717531773
           ]
          }
         ]
        },
        {
         "data": [
          {
           "type": "scatter",
           "x": [
            0,
            3.594682993049098
           ],
           "y": [
            0,
            -31.109131212980348
           ]
          }
         ]
        },
        {
         "data": [
          {
           "type": "scatter",
           "x": [
            0,
            3.4211383005448965
           ],
           "y": [
            0,
            -31.46789548864796
           ]
          }
         ]
        },
        {
         "data": [
          {
           "type": "scatter",
           "x": [
            0,
            3.240870076092357
           ],
           "y": [
            0,
            -31.789311243556938
           ]
          }
         ]
        },
        {
         "data": [
          {
           "type": "scatter",
           "x": [
            0,
            3.0542239144380816
           ],
           "y": [
            0,
            -32.072661740747925
           ]
          }
         ]
        },
        {
         "data": [
          {
           "type": "scatter",
           "x": [
            0,
            2.861560093339989
           ],
           "y": [
            0,
            -32.317315438220774
           ]
          }
         ]
        },
        {
         "data": [
          {
           "type": "scatter",
           "x": [
            0,
            2.663252630520954
           ],
           "y": [
            0,
            -32.52272742591604
           ]
          }
         ]
        },
        {
         "data": [
          {
           "type": "scatter",
           "x": [
            0,
            2.459688379029754
           ],
           "y": [
            0,
            -32.68844066314634
           ]
          }
         ]
        },
        {
         "data": [
          {
           "type": "scatter",
           "x": [
            0,
            2.251266042576559
           ],
           "y": [
            0,
            -32.81408701841371
           ]
          }
         ]
        },
        {
         "data": [
          {
           "type": "scatter",
           "x": [
            0,
            2.0383951885345564
           ],
           "y": [
            0,
            -32.89938810517796
           ]
          }
         ]
        },
        {
         "data": [
          {
           "type": "scatter",
           "x": [
            0,
            1.8214952389620953
           ],
           "y": [
            0,
            -32.944155912992315
           ]
          }
         ]
        },
        {
         "data": [
          {
           "type": "scatter",
           "x": [
            0,
            1.6009944241539606
           ],
           "y": [
            0,
            -32.94829323190141
           ]
          }
         ]
        },
        {
         "data": [
          {
           "type": "scatter",
           "x": [
            0,
            1.3773287329170254
           ],
           "y": [
            0,
            -32.91179387339042
           ]
          }
         ]
        },
        {
         "data": [
          {
           "type": "scatter",
           "x": [
            0,
            1.1509408289627974
           ],
           "y": [
            0,
            -32.83474267994306
           ]
          }
         ]
        },
        {
         "data": [
          {
           "type": "scatter",
           "x": [
            0,
            0.9222789595985308
           ],
           "y": [
            0,
            -32.7173153296738
           ]
          }
         ]
        },
        {
         "data": [
          {
           "type": "scatter",
           "x": [
            0,
            0.6917958449545526
           ],
           "y": [
            0,
            -32.55977793371599
           ]
          }
         ]
        },
        {
         "data": [
          {
           "type": "scatter",
           "x": [
            0,
            0.4599475534702238
           ],
           "y": [
            0,
            -32.36248642619099
           ]
          }
         ]
        },
        {
         "data": [
          {
           "type": "scatter",
           "x": [
            0,
            0.22719236751550173
           ],
           "y": [
            0,
            -32.125885750248344
           ]
          }
         ]
        },
        {
         "data": [
          {
           "type": "scatter",
           "x": [
            0,
            -0.0060103624275566
           ],
           "y": [
            0,
            -31.850508839445613
           ]
          }
         ]
        },
        {
         "data": [
          {
           "type": "scatter",
           "x": [
            0,
            -0.2392013753226991
           ],
           "y": [
            0,
            -31.53697539899135
           ]
          }
         ]
        },
        {
         "data": [
          {
           "type": "scatter",
           "x": [
            0,
            -0.4719226601854176
           ],
           "y": [
            0,
            -31.18599048676431
           ]
          }
         ]
        },
        {
         "data": [
          {
           "type": "scatter",
           "x": [
            0,
            -0.7037186014237224
           ],
           "y": [
            0,
            -30.798342895682723
           ]
          }
         ]
        },
        {
         "data": [
          {
           "type": "scatter",
           "x": [
            0,
            -0.9341371907583195
           ],
           "y": [
            0,
            -30.374903350216094
           ]
          }
         ]
        },
        {
         "data": [
          {
           "type": "scatter",
           "x": [
            0,
            -1.1627311124468285
           ],
           "y": [
            0,
            -29.9166224986717
           ]
          }
         ]
        },
        {
         "data": [
          {
           "type": "scatter",
           "x": [
            0,
            -1.3890590323774348
           ],
           "y": [
            0,
            -29.4245287416738
           ]
          }
         ]
        },
        {
         "data": [
          {
           "type": "scatter",
           "x": [
            0,
            -1.6126866632988428
           ],
           "y": [
            0,
            -28.89972585432842
           ]
          }
         ]
        },
        {
         "data": [
          {
           "type": "scatter",
           "x": [
            0,
            -1.8331879904927606
           ],
           "y": [
            0,
            -28.343390448221513
           ]
          }
         ]
        },
        {
         "data": [
          {
           "type": "scatter",
           "x": [
            0,
            -2.0501464549402306
           ],
           "y": [
            0,
            -27.756769253755184
           ]
          }
         ]
        },
        {
         "data": [
          {
           "type": "scatter",
           "x": [
            0,
            -2.2631559883004226
           ],
           "y": [
            0,
            -27.141176225633473
           ]
          }
         ]
        },
        {
         "data": [
          {
           "type": "scatter",
           "x": [
            0,
            -2.4718223101975596
           ],
           "y": [
            0,
            -26.497989503674788
           ]
          }
         ]
        },
        {
         "data": [
          {
           "type": "scatter",
           "x": [
            0,
            -2.6757641664182086
           ],
           "y": [
            0,
            -25.828648207067193
           ]
          }
         ]
        },
        {
         "data": [
          {
           "type": "scatter",
           "x": [
            0,
            -2.874614254750854
           ],
           "y": [
            0,
            -25.13464905251809
           ]
          }
         ]
        },
        {
         "data": [
          {
           "type": "scatter",
           "x": [
            0,
            -3.0680205013110657
           ],
           "y": [
            0,
            -24.417542851391683
           ]
          }
         ]
        },
        {
         "data": [
          {
           "type": "scatter",
           "x": [
            0,
            -3.255647151393987
           ],
           "y": [
            0,
            -23.678930850692993
           ]
          }
         ]
        },
        {
         "data": [
          {
           "type": "scatter",
           "x": [
            0,
            -3.437176074111558
           ],
           "y": [
            0,
            -22.92046093449922
           ]
          }
         ]
        },
        {
         "data": [
          {
           "type": "scatter",
           "x": [
            0,
            -3.612307783879692
           ],
           "y": [
            0,
            -22.143823678870476
           ]
          }
         ]
        },
        {
         "data": [
          {
           "type": "scatter",
           "x": [
            0,
            -3.7807624744591957
           ],
           "y": [
            0,
            -21.350748274515613
           ]
          }
         ]
        },
        {
         "data": [
          {
           "type": "scatter",
           "x": [
            0,
            -3.9422815979356143
           ],
           "y": [
            0,
            -20.54299832228557
           ]
          }
         ]
        },
        {
         "data": [
          {
           "type": "scatter",
           "x": [
            0,
            -4.0966287773602525
           ],
           "y": [
            0,
            -19.722367476573726
           ]
          }
         ]
        },
        {
         "data": [
          {
           "type": "scatter",
           "x": [
            0,
            -4.2435909637198135
           ],
           "y": [
            0,
            -18.890674961135574
           ]
          }
         ]
        },
        {
         "data": [
          {
           "type": "scatter",
           "x": [
            0,
            -4.382979823597305
           ],
           "y": [
            0,
            -18.049760940907692
           ]
          }
         ]
        },
        {
         "data": [
          {
           "type": "scatter",
           "x": [
            0,
            -4.51463298508493
           ],
           "y": [
            0,
            -17.20148173991343
           ]
          }
         ]
        },
        {
         "data": [
          {
           "type": "scatter",
           "x": [
            0,
            -4.63841533846103
           ],
           "y": [
            0,
            -16.347704890175905
           ]
          }
         ]
        },
        {
         "data": [
          {
           "type": "scatter",
           "x": [
            0,
            -4.754220404501654
           ],
           "y": [
            0,
            -15.490304004406068
           ]
          }
         ]
        },
        {
         "data": [
          {
           "type": "scatter",
           "x": [
            0,
            -4.861971757540749
           ],
           "y": [
            0,
            -14.631153438585324
           ]
          }
         ]
        },
        {
         "data": [
          {
           "type": "scatter",
           "x": [
            0,
            -4.961624483995247
           ],
           "y": [
            0,
            -13.772122666633994
           ]
          }
         ]
        },
        {
         "data": [
          {
           "type": "scatter",
           "x": [
            0,
            -5.0531669243357555
           ],
           "y": [
            0,
            -12.915070494969099
           ]
          }
         ]
        },
        {
         "data": [
          {
           "type": "scatter",
           "x": [
            0,
            -5.136622027408224
           ],
           "y": [
            0,
            -12.061838758121315
           ]
          }
         ]
        },
        {
         "data": [
          {
           "type": "scatter",
           "x": [
            0,
            -5.212049160108451
           ],
           "y": [
            0,
            -11.214245765663943
           ]
          }
         ]
        },
        {
         "data": [
          {
           "type": "scatter",
           "x": [
            0,
            -5.279545719801871
           ],
           "y": [
            0,
            -10.37407910392973
           ]
          }
         ]
        },
        {
         "data": [
          {
           "type": "scatter",
           "x": [
            0,
            -5.339248777781001
           ],
           "y": [
            0,
            -9.54308788575713
           ]
          }
         ]
        },
        {
         "data": [
          {
           "type": "scatter",
           "x": [
            0,
            -5.39133638633038
           ],
           "y": [
            0,
            -8.722974316459593
           ]
          }
         ]
        },
        {
         "data": [
          {
           "type": "scatter",
           "x": [
            0,
            -5.436028756830958
           ],
           "y": [
            0,
            -7.915384287547267
           ]
          }
         ]
        },
        {
         "data": [
          {
           "type": "scatter",
           "x": [
            0,
            -5.473588628782052
           ],
           "y": [
            0,
            -7.12189707692153
           ]
          }
         ]
        },
        {
         "data": [
          {
           "type": "scatter",
           "x": [
            0,
            -5.504320608296222
           ],
           "y": [
            0,
            -6.344014029182612
           ]
          }
         ]
        },
        {
         "data": [
          {
           "type": "scatter",
           "x": [
            0,
            -5.528569004358489
           ],
           "y": [
            0,
            -5.583146260034629
           ]
          }
         ]
        },
        {
         "data": [
          {
           "type": "scatter",
           "x": [
            0,
            -5.546713092774223
           ],
           "y": [
            0,
            -4.840601863348292
           ]
          }
         ]
        },
        {
         "data": [
          {
           "type": "scatter",
           "x": [
            0,
            -5.559159359790918
           ],
           "y": [
            0,
            -4.117573160554339
           ]
          }
         ]
        },
        {
         "data": [
          {
           "type": "scatter",
           "x": [
            0,
            -5.566329737127068
           ],
           "y": [
            0,
            -3.4151253584741914
           ]
          }
         ]
        },
        {
         "data": [
          {
           "type": "scatter",
           "x": [
            0,
            -5.568645437451406
           ],
           "y": [
            0,
            -2.734188535585729
           ]
          }
         ]
        },
        {
         "data": [
          {
           "type": "scatter",
           "x": [
            0,
            -5.566506803648289
           ],
           "y": [
            0,
            -2.0755553478171787
           ]
          }
         ]
        },
        {
         "data": [
          {
           "type": "scatter",
           "x": [
            0,
            -5.560270931153704
           ],
           "y": [
            0,
            -1.4398866968522592
           ]
          }
         ]
        },
        {
         "data": [
          {
           "type": "scatter",
           "x": [
            0,
            -5.550230145658305
           ],
           "y": [
            0,
            -0.8277267131760173
           ]
          }
         ]
        },
        {
         "data": [
          {
           "type": "scatter",
           "x": [
            0,
            -5.536595280853622
           ],
           "y": [
            0,
            -0.23952655515670138
           ]
          }
         ]
        },
        {
         "data": [
          {
           "type": "scatter",
           "x": [
            0,
            -5.519487185158002
           ],
           "y": [
            0,
            0.3243262952750634
           ]
          }
         ]
        },
        {
         "data": [
          {
           "type": "scatter",
           "x": [
            0,
            -5.498938168398434
           ],
           "y": [
            0,
            0.8634778827040853
           ]
          }
         ]
        },
        {
         "data": [
          {
           "type": "scatter",
           "x": [
            0,
            -5.474902433451898
           ],
           "y": [
            0,
            1.3775817441361073
           ]
          }
         ]
        },
        {
         "data": [
          {
           "type": "scatter",
           "x": [
            0,
            -5.447272568230724
           ],
           "y": [
            0,
            1.8662802980520068
           ]
          }
         ]
        },
        {
         "data": [
          {
           "type": "scatter",
           "x": [
            0,
            -5.415898498198375
           ],
           "y": [
            0,
            2.329194713941919
           ]
          }
         ]
        },
        {
         "data": [
          {
           "type": "scatter",
           "x": [
            0,
            -5.380605800149869
           ],
           "y": [
            0,
            2.7659224170314776
           ]
          }
         ]
        },
        {
         "data": [
          {
           "type": "scatter",
           "x": [
            0,
            -5.341211450238263
           ],
           "y": [
            0,
            3.1760402943673824
           ]
          }
         ]
        },
        {
         "data": [
          {
           "type": "scatter",
           "x": [
            0,
            -5.297536182483195
           ],
           "y": [
            0,
            3.559111520606224
           ]
          }
         ]
        },
        {
         "data": [
          {
           "type": "scatter",
           "x": [
            0,
            -5.249413640003789
           ],
           "y": [
            0,
            3.9146941135568945
           ]
          }
         ]
        },
        {
         "data": [
          {
           "type": "scatter",
           "x": [
            0,
            -5.196696591574482
           ],
           "y": [
            0,
            4.242350016806677
           ]
          }
         ]
        },
        {
         "data": [
          {
           "type": "scatter",
           "x": [
            0,
            -5.139260964928323
           ],
           "y": [
            0,
            4.5416538827476165
           ]
          }
         ]
        },
        {
         "data": [
          {
           "type": "scatter",
           "x": [
            0,
            -5.077008206775189
           ],
           "y": [
            0,
            4.812201133360571
           ]
          }
         ]
        },
        {
         "data": [
          {
           "type": "scatter",
           "x": [
            0,
            -5.009866468239703
           ],
           "y": [
            0,
            5.053615123821128
           ]
          }
         ]
        },
        {
         "data": [
          {
           "type": "scatter",
           "x": [
            0,
            -4.937791022275954
           ],
           "y": [
            0,
            5.2655533413033515
           ]
          }
         ]
        },
        {
         "data": [
          {
           "type": "scatter",
           "x": [
            0,
            -4.86076411785018
           ],
           "y": [
            0,
            5.447712737149942
           ]
          }
         ]
        },
        {
         "data": [
          {
           "type": "scatter",
           "x": [
            0,
            -4.77879455736888
           ],
           "y": [
            0,
            5.5998341983134114
           ]
          }
         ]
        },
        {
         "data": [
          {
           "type": "scatter",
           "x": [
            0,
            -4.691917075125687
           ],
           "y": [
            0,
            5.721706286192777
           ]
          }
         ]
        },
        {
         "data": [
          {
           "type": "scatter",
           "x": [
            0,
            -4.600191623318224
           ],
           "y": [
            0,
            5.813168316673661
           ]
          }
         ]
        },
        {
         "data": [
          {
           "type": "scatter",
           "x": [
            0,
            -4.503702629163863
           ],
           "y": [
            0,
            5.874112859679416
           ]
          }
         ]
        },
        {
         "data": [
          {
           "type": "scatter",
           "x": [
            0,
            -4.4025582773855225
           ],
           "y": [
            0,
            5.9044877104666185
           ]
          }
         ]
        },
        {
         "data": [
          {
           "type": "scatter",
           "x": [
            0,
            -4.296889839138764
           ],
           "y": [
            0,
            5.9042973934890055
           ]
          }
         ]
        },
        {
         "data": [
          {
           "type": "scatter",
           "x": [
            0,
            -4.1868510780423005
           ],
           "y": [
            0,
            5.873604233964028
           ]
          }
         ]
        },
        {
         "data": [
          {
           "type": "scatter",
           "x": [
            0,
            -4.072617755292468
           ],
           "y": [
            0,
            5.812529026032501
           ]
          }
         ]
        },
        {
         "data": [
          {
           "type": "scatter",
           "x": [
            0,
            -3.954387261220056
           ],
           "y": [
            0,
            5.721251313088672
           ]
          }
         ]
        },
        {
         "data": [
          {
           "type": "scatter",
           "x": [
            0,
            -3.8323783983515756
           ],
           "y": [
            0,
            5.600009285403319
           ]
          }
         ]
        },
        {
         "data": [
          {
           "type": "scatter",
           "x": [
            0,
            -3.7068313512999556
           ],
           "y": [
            0,
            5.4490992872424915
           ]
          }
         ]
        },
        {
         "data": [
          {
           "type": "scatter",
           "x": [
            0,
            -3.578007915461903
           ],
           "y": [
            0,
            5.268874895705968
           ]
          }
         ]
        },
        {
         "data": [
          {
           "type": "scatter",
           "x": [
            0,
            -3.4461920062493383
           ],
           "y": [
            0,
            5.059745543129765
           ]
          }
         ]
        },
        {
         "data": [
          {
           "type": "scatter",
           "x": [
            0,
            -3.3116905901138565
           ],
           "y": [
            0,
            4.822174575950607
           ]
          }
         ]
        },
        {
         "data": [
          {
           "type": "scatter",
           "x": [
            0,
            -3.1748351193005915
           ],
           "y": [
            0,
            4.55667664422856
           ]
          }
         ]
        },
        {
         "data": [
          {
           "type": "scatter",
           "x": [
            0,
            -3.0359837558846823
           ],
           "y": [
            0,
            4.263814158840515
           ]
          }
         ]
        },
        {
         "data": [
          {
           "type": "scatter",
           "x": [
            0,
            -2.895524490817677
           ],
           "y": [
            0,
            3.944192554438707
           ]
          }
         ]
        },
        {
         "data": [
          {
           "type": "scatter",
           "x": [
            0,
            -2.7538796659469758
           ],
           "y": [
            0,
            3.598453739275561
           ]
          }
         ]
        },
        {
         "data": [
          {
           "type": "scatter",
           "x": [
            0,
            -2.6115124493560495
           ],
           "y": [
            0,
            3.2272667920258584
           ]
          }
         ]
        },
        {
         "data": [
          {
           "type": "scatter",
           "x": [
            0,
            -2.4689359479755097
           ],
           "y": [
            0,
            2.8313143090325483
           ]
          }
         ]
        },
        {
         "data": [
          {
           "type": "scatter",
           "x": [
            0,
            -2.3267260142475426
           ],
           "y": [
            0,
            2.4112714128514416
           ]
          }
         ]
        },
        {
         "data": [
          {
           "type": "scatter",
           "x": [
            0,
            -2.1855388745503275
           ],
           "y": [
            0,
            1.9677719048331528
           ]
          }
         ]
        },
        {
         "data": [
          {
           "type": "scatter",
           "x": [
            0,
            -2.0461331841941104
           ],
           "y": [
            0,
            1.501351244252292
           ]
          }
         ]
        },
        {
         "data": [
          {
           "type": "scatter",
           "x": [
            0,
            -1.909390422103525
           ],
           "y": [
            0,
            1.0123472270831955
           ]
          }
         ]
        },
        {
         "data": [
          {
           "type": "scatter",
           "x": [
            0,
            -1.7763048749932115
           ],
           "y": [
            0,
            0.5007300254810014
           ]
          }
         ]
        },
        {
         "data": [
          {
           "type": "scatter",
           "x": [
            0,
            -1.6478543236343164
           ],
           "y": [
            0,
            -0.034141368041917544
           ]
          }
         ]
        },
        {
         "data": [
          {
           "type": "scatter",
           "x": [
            0,
            -1.5246110917473954
           ],
           "y": [
            0,
            -0.5936590992591283
           ]
          }
         ]
        },
        {
         "data": [
          {
           "type": "scatter",
           "x": [
            0,
            -1.4062462106797136
           ],
           "y": [
            0,
            -1.1795515143227433
           ]
          }
         ]
        },
        {
         "data": [
          {
           "type": "scatter",
           "x": [
            0,
            -1.2916021353570935
           ],
           "y": [
            0,
            -1.7929819810292766
           ]
          }
         ]
        },
        {
         "data": [
          {
           "type": "scatter",
           "x": [
            0,
            -1.1793386397986338
           ],
           "y": [
            0,
            -2.4341155874086415
           ]
          }
         ]
        },
        {
         "data": [
          {
           "type": "scatter",
           "x": [
            0,
            -1.068374532659088
           ],
           "y": [
            0,
            -3.1023352185461706
           ]
          }
         ]
        },
        {
         "data": [
          {
           "type": "scatter",
           "x": [
            0,
            -0.9579590270757085
           ],
           "y": [
            0,
            -3.7965635543389453
           ]
          }
         ]
        },
        {
         "data": [
          {
           "type": "scatter",
           "x": [
            0,
            -0.8476054890242786
           ],
           "y": [
            0,
            -4.515463516598704
           ]
          }
         ]
        },
        {
         "data": [
          {
           "type": "scatter",
           "x": [
            0,
            -0.7370160863128054
           ],
           "y": [
            0,
            -5.257540632838546
           ]
          }
         ]
        },
        {
         "data": [
          {
           "type": "scatter",
           "x": [
            0,
            -0.626025537338745
           ],
           "y": [
            0,
            -6.0211947608168535
           ]
          }
         ]
        },
        {
         "data": [
          {
           "type": "scatter",
           "x": [
            0,
            -0.5145627528147939
           ],
           "y": [
            0,
            -6.804747882151403
           ]
          }
         ]
        },
        {
         "data": [
          {
           "type": "scatter",
           "x": [
            0,
            -0.4026249948916893
           ],
           "y": [
            0,
            -7.606460506034591
           ]
          }
         ]
        },
        {
         "data": [
          {
           "type": "scatter",
           "x": [
            0,
            -0.2902602085656475
           ],
           "y": [
            0,
            -8.424542465740318
           ]
          }
         ]
        },
        {
         "data": [
          {
           "type": "scatter",
           "x": [
            0,
            -0.17755466948782073
           ],
           "y": [
            0,
            -9.257160848561254
           ]
          }
         ]
        },
        {
         "data": [
          {
           "type": "scatter",
           "x": [
            0,
            -0.0646241197567246
           ],
           "y": [
            0,
            -10.10244640731546
           ]
          }
         ]
        },
        {
         "data": [
          {
           "type": "scatter",
           "x": [
            0,
            0.048392774704050824
           ],
           "y": [
            0,
            -10.958499145299312
           ]
          }
         ]
        },
        {
         "data": [
          {
           "type": "scatter",
           "x": [
            0,
            0.1613393563448222
           ],
           "y": [
            0,
            -11.82339344478585
           ]
          }
         ]
        },
        {
         "data": [
          {
           "type": "scatter",
           "x": [
            0,
            0.27404480481499544
           ],
           "y": [
            0,
            -12.695182936243206
           ]
          }
         ]
        },
        {
         "data": [
          {
           "type": "scatter",
           "x": [
            0,
            0.3863271659705118
           ],
           "y": [
            0,
            -13.571905221355477
           ]
          }
         ]
        },
        {
         "data": [
          {
           "type": "scatter",
           "x": [
            0,
            0.49799582369036494
           ],
           "y": [
            0,
            -14.451586508954302
           ]
          }
         ]
        },
        {
         "data": [
          {
           "type": "scatter",
           "x": [
            0,
            0.6088535368883827
           ],
           "y": [
            0,
            -15.332246200245283
           ]
          }
         ]
        },
        {
         "data": [
          {
           "type": "scatter",
           "x": [
            0,
            0.718698160564092
           ],
           "y": [
            0,
            -16.211901438756843
           ]
          }
         ]
        },
        {
         "data": [
          {
           "type": "scatter",
           "x": [
            0,
            0.8273241301678251
           ],
           "y": [
            0,
            -17.08857163179835
           ]
          }
         ]
        },
        {
         "data": [
          {
           "type": "scatter",
           "x": [
            0,
            0.9345237566779182
           ],
           "y": [
            0,
            -17.960282945167194
           ]
          }
         ]
        },
        {
         "data": [
          {
           "type": "scatter",
           "x": [
            0,
            1.0400883705384063
           ],
           "y": [
            0,
            -18.825072768355536
           ]
          }
         ]
        },
        {
         "data": [
          {
           "type": "scatter",
           "x": [
            0,
            1.1438093617158571
           ],
           "y": [
            0,
            -19.680994143319722
           ]
          }
         ]
        },
        {
         "data": [
          {
           "type": "scatter",
           "x": [
            0,
            1.245479111426127
           ],
           "y": [
            0,
            -20.52612015284013
           ]
          }
         ]
        },
        {
         "data": [
          {
           "type": "scatter",
           "x": [
            0,
            1.344891851257924
           ],
           "y": [
            0,
            -21.358548258573464
           ]
          }
         ]
        },
        {
         "data": [
          {
           "type": "scatter",
           "x": [
            0,
            1.441844452083653
           ],
           "y": [
            0,
            -22.17640458196557
           ]
          }
         ]
        },
        {
         "data": [
          {
           "type": "scatter",
           "x": [
            0,
            1.5361371623818607
           ],
           "y": [
            0,
            -22.977848117999514
           ]
          }
         ]
        },
        {
         "data": [
          {
           "type": "scatter",
           "x": [
            0,
            1.6275742949891925
           ],
           "y": [
            0,
            -23.761074874154907
           ]
          }
         ]
        },
        {
         "data": [
          {
           "type": "scatter",
           "x": [
            0,
            1.7159648638195777
           ],
           "y": [
            0,
            -24.52432192595778
           ]
          }
         ]
        },
        {
         "data": [
          {
           "type": "scatter",
           "x": [
            0,
            1.8011231931878937
           ],
           "y": [
            0,
            -25.26587137857915
           ]
          }
         ]
        },
        {
         "data": [
          {
           "type": "scatter",
           "x": [
            0,
            1.8828694860499464
           ],
           "y": [
            0,
            -25.98405422744671
           ]
          }
         ]
        },
        {
         "data": [
          {
           "type": "scatter",
           "x": [
            0,
            1.9610303545966261
           ],
           "y": [
            0,
            -26.677254109279268
           ]
          }
         ]
        },
        {
         "data": [
          {
           "type": "scatter",
           "x": [
            0,
            2.0354393239982462
           ],
           "y": [
            0,
            -27.34391093435625
           ]
          }
         ]
        },
        {
         "data": [
          {
           "type": "scatter",
           "x": [
            0,
            2.1059373053147867
           ],
           "y": [
            0,
            -27.982524392253843
           ]
          }
         ]
        },
        {
         "data": [
          {
           "type": "scatter",
           "x": [
            0,
            2.1723730356236315
           ],
           "y": [
            0,
            -28.5916573238156
           ]
          }
         ]
        },
        {
         "data": [
          {
           "type": "scatter",
           "x": [
            0,
            2.2346034936061048
           ],
           "y": [
            0,
            -29.169938950755487
           ]
          }
         ]
        },
        {
         "data": [
          {
           "type": "scatter",
           "x": [
            0,
            2.292494286030101
           ],
           "y": [
            0,
            -29.716067956303714
           ]
          }
         ]
        },
        {
         "data": [
          {
           "type": "scatter",
           "x": [
            0,
            2.3459200054384555
           ],
           "y": [
            0,
            -30.228815409958784
           ]
          }
         ]
        },
        {
         "data": [
          {
           "type": "scatter",
           "x": [
            0,
            2.394764564180996
           ],
           "y": [
            0,
            -30.707027529209952
           ]
          }
         ]
        },
        {
         "data": [
          {
           "type": "scatter",
           "x": [
            0,
            2.438921490829514
           ],
           "y": [
            0,
            -31.149628273481632
           ]
          }
         ]
        },
        {
         "data": [
          {
           "type": "scatter",
           "x": [
            0,
            2.478294210510229
           ],
           "y": [
            0,
            -31.555621762267293
           ]
          }
         ]
        },
        {
         "data": [
          {
           "type": "scatter",
           "x": [
            0,
            2.512796295931707
           ],
           "y": [
            0,
            -31.92409451334463
           ]
          }
         ]
        },
        {
         "data": [
          {
           "type": "scatter",
           "x": [
            0,
            2.5423516909521795
           ],
           "y": [
            0,
            -32.254217495839356
           ]
          }
         ]
        },
        {
         "data": [
          {
           "type": "scatter",
           "x": [
            0,
            2.566894892497494
           ],
           "y": [
            0,
            -32.54524799489327
           ]
          }
         ]
        },
        {
         "data": [
          {
           "type": "scatter",
           "x": [
            0,
            2.5863711334823654
           ],
           "y": [
            0,
            -32.7965312795097
           ]
          }
         ]
        },
        {
         "data": [
          {
           "type": "scatter",
           "x": [
            0,
            2.600736506102815
           ],
           "y": [
            0,
            -33.0075020757894
           ]
          }
         ]
        },
        {
         "data": [
          {
           "type": "scatter",
           "x": [
            0,
            2.609958083093635
           ],
           "y": [
            0,
            -33.177685836579705
           ]
          }
         ]
        },
        {
         "data": [
          {
           "type": "scatter",
           "x": [
            0,
            2.6140139947148935
           ],
           "y": [
            0,
            -33.306699808773665
           ]
          }
         ]
        },
        {
         "data": [
          {
           "type": "scatter",
           "x": [
            0,
            2.6128934857775565
           ],
           "y": [
            0,
            -33.39425389350406
           ]
          }
         ]
        },
        {
         "data": [
          {
           "type": "scatter",
           "x": [
            0,
            2.606596943763579
           ],
           "y": [
            0,
            -33.440151298141394
           ]
          }
         ]
        },
        {
         "data": [
          {
           "type": "scatter",
           "x": [
            0,
            2.595135895856596
           ],
           "y": [
            0,
            -33.444288978822
           ]
          }
         ]
        },
        {
         "data": [
          {
           "type": "scatter",
           "x": [
            0,
            2.578532982926591
           ],
           "y": [
            0,
            -33.40665787179091
           ]
          }
         ]
        },
        {
         "data": [
          {
           "type": "scatter",
           "x": [
            0,
            2.556821900775064
           ],
           "y": [
            0,
            -33.32734291388131
           ]
          }
         ]
        },
        {
         "data": [
          {
           "type": "scatter",
           "x": [
            0,
            2.5300473175999243
           ],
           "y": [
            0,
            -33.206522851316294
           ]
          }
         ]
        },
        {
         "data": [
          {
           "type": "scatter",
           "x": [
            0,
            2.498264761952266
           ],
           "y": [
            0,
            -33.04446983777323
           ]
          }
         ]
        },
        {
         "data": [
          {
           "type": "scatter",
           "x": [
            0,
            2.4615404818319475
           ],
           "y": [
            0,
            -32.84154882250795
           ]
          }
         ]
        },
        {
         "data": [
          {
           "type": "scatter",
           "x": [
            0,
            2.4199512768662212
           ],
           "y": [
            0,
            -32.59821672980739
           ]
          }
         ]
        },
        {
         "data": [
          {
           "type": "scatter",
           "x": [
            0,
            2.373584311407379
           ],
           "y": [
            0,
            -32.31502143110787
           ]
          }
         ]
        },
        {
         "data": [
          {
           "type": "scatter",
           "x": [
            0,
            2.322536892548171
           ],
           "y": [
            0,
            -31.992600512960976
           ]
          }
         ]
        },
        {
         "data": [
          {
           "type": "scatter",
           "x": [
            0,
            2.266916214388343
           ],
           "y": [
            0,
            -31.631679844316654
           ]
          }
         ]
        },
        {
         "data": [
          {
           "type": "scatter",
           "x": [
            0,
            2.20683909043832
           ],
           "y": [
            0,
            -31.23307194372359
           ]
          }
         ]
        },
        {
         "data": [
          {
           "type": "scatter",
           "x": [
            0,
            2.142431662675606
           ],
           "y": [
            0,
            -30.79767415135702
           ]
          }
         ]
        },
        {
         "data": [
          {
           "type": "scatter",
           "x": [
            0,
            2.0738290435664504
           ],
           "y": [
            0,
            -30.326466614215956
           ]
          }
         ]
        },
        {
         "data": [
          {
           "type": "scatter",
           "x": [
            0,
            2.0011750166658913
           ],
           "y": [
            0,
            -29.820510077065304
           ]
          }
         ]
        },
        {
         "data": [
          {
           "type": "scatter",
           "x": [
            0,
            1.9246216067366804
           ],
           "y": [
            0,
            -29.280943501951718
           ]
          }
         ]
        },
        {
         "data": [
          {
           "type": "scatter",
           "x": [
            0,
            1.8443286899080498
           ],
           "y": [
            0,
            -28.70898150545375
           ]
          }
         ]
        },
        {
         "data": [
          {
           "type": "scatter",
           "x": [
            0,
            1.7604636202441077
           ],
           "y": [
            0,
            -28.105911621920104
           ]
          }
         ]
        },
        {
         "data": [
          {
           "type": "scatter",
           "x": [
            0,
            1.6732006406158089
           ],
           "y": [
            0,
            -27.473091419857013
           ]
          }
         ]
        },
        {
         "data": [
          {
           "type": "scatter",
           "x": [
            0,
            1.582720576168043
           ],
           "y": [
            0,
            -26.811945432173832
           ]
          }
         ]
        },
        {
         "data": [
          {
           "type": "scatter",
           "x": [
            0,
            1.4892102376542156
           ],
           "y": [
            0,
            -26.123961960029007
           ]
          }
         ]
        },
        {
         "data": [
          {
           "type": "scatter",
           "x": [
            0,
            1.3928618006975344
           ],
           "y": [
            0,
            -25.410689731855538
           ]
          }
         ]
        },
        {
         "data": [
          {
           "type": "scatter",
           "x": [
            0,
            1.2938723295953636
           ],
           "y": [
            0,
            -24.673734410077124
           ]
          }
         ]
        },
        {
         "data": [
          {
           "type": "scatter",
           "x": [
            0,
            1.192443220352497
           ],
           "y": [
            0,
            -23.914754973730233
           ]
          }
         ]
        },
        {
         "data": [
          {
           "type": "scatter",
           "x": [
            0,
            1.0887796218728896
           ],
           "y": [
            0,
            -23.135459979259657
           ]
          }
         ]
        },
        {
         "data": [
          {
           "type": "scatter",
           "x": [
            0,
            0.9830895529218041
           ],
           "y": [
            0,
            -22.337603732015182
           ]
          }
         ]
        },
        {
         "data": [
          {
           "type": "scatter",
           "x": [
            0,
            0.8755833371659867
           ],
           "y": [
            0,
            -21.52298232132553
           ]
          }
         ]
        },
        {
         "data": [
          {
           "type": "scatter",
           "x": [
            0,
            0.7664729470180578
           ],
           "y": [
            0,
            -20.693429564088405
           ]
          }
         ]
        },
        {
         "data": [
          {
           "type": "scatter",
           "x": [
            0,
            0.6559711324224659
           ],
           "y": [
            0,
            -19.850812870398144
           ]
          }
         ]
        },
        {
         "data": [
          {
           "type": "scatter",
           "x": [
            0,
            0.5442905621004531
           ],
           "y": [
            0,
            -18.997029026005066
           ]
          }
         ]
        },
        {
         "data": [
          {
           "type": "scatter",
           "x": [
            0,
            0.4316428742032199
           ],
           "y": [
            0,
            -18.133999908536342
           ]
          }
         ]
        },
        {
         "data": [
          {
           "type": "scatter",
           "x": [
            0,
            0.31823791526760875
           ],
           "y": [
            0,
            -17.263668100643113
           ]
          }
         ]
        },
        {
         "data": [
          {
           "type": "scatter",
           "x": [
            0,
            0.20428249063062695
           ],
           "y": [
            0,
            -16.38799249232873
           ]
          }
         ]
        },
        {
         "data": [
          {
           "type": "scatter",
           "x": [
            0,
            0.08997909682041036
           ],
           "y": [
            0,
            -15.508943817386484
           ]
          }
         ]
        },
        {
         "data": [
          {
           "type": "scatter",
           "x": [
            0,
            -0.02447507323224399
           ],
           "y": [
            0,
            -14.628500090690595
           ]
          }
         ]
        },
        {
         "data": [
          {
           "type": "scatter",
           "x": [
            0,
            -0.1388899952554953
           ],
           "y": [
            0,
            -13.748642071267763
           ]
          }
         ]
        },
        {
         "data": [
          {
           "type": "scatter",
           "x": [
            0,
            -0.2530842047734293
           ],
           "y": [
            0,
            -12.87134859686042
           ]
          }
         ]
        },
        {
         "data": [
          {
           "type": "scatter",
           "x": [
            0,
            -0.36688698115452867
           ],
           "y": [
            0,
            -11.998591899662202
           ]
          }
         ]
        },
        {
         "data": [
          {
           "type": "scatter",
           "x": [
            0,
            -0.48014065651772614
           ],
           "y": [
            0,
            -11.132332809055482
           ]
          }
         ]
        },
        {
         "data": [
          {
           "type": "scatter",
           "x": [
            0,
            -0.5927034518276877
           ],
           "y": [
            0,
            -10.274515827325157
           ]
          }
         ]
        },
        {
         "data": [
          {
           "type": "scatter",
           "x": [
            0,
            -0.7044529440587566
           ],
           "y": [
            0,
            -9.427064014050003
           ]
          }
         ]
        },
        {
         "data": [
          {
           "type": "scatter",
           "x": [
            0,
            -0.8152905255507822
           ],
           "y": [
            0,
            -8.591873558957008
           ]
          }
         ]
        },
        {
         "data": [
          {
           "type": "scatter",
           "x": [
            0,
            -0.925146923440885
           ],
           "y": [
            0,
            -7.770807861049832
           ]
          }
         ]
        },
        {
         "data": [
          {
           "type": "scatter",
           "x": [
            0,
            -1.0339895604016487
           ],
           "y": [
            0,
            -6.965690791513072
           ]
          }
         ]
        },
        {
         "data": [
          {
           "type": "scatter",
           "x": [
            0,
            -1.141832071825142
           ],
           "y": [
            0,
            -6.178298575209393
           ]
          }
         ]
        },
        {
         "data": [
          {
           "type": "scatter",
           "x": [
            0,
            -1.2487474192920685
           ],
           "y": [
            0,
            -5.410349343961353
           ]
          }
         ]
        },
        {
         "data": [
          {
           "type": "scatter",
           "x": [
            0,
            -1.3548854387956129
           ],
           "y": [
            0,
            -4.66348852308169
           ]
          }
         ]
        },
        {
         "data": [
          {
           "type": "scatter",
           "x": [
            0,
            -1.4604968758759858
           ],
           "y": [
            0,
            -3.9392669113262917
           ]
          }
         ]
        },
        {
         "data": [
          {
           "type": "scatter",
           "x": [
            0,
            -1.5659651293145356
           ],
           "y": [
            0,
            -3.2391052914724656
           ]
          }
         ]
        },
        {
         "data": [
          {
           "type": "scatter",
           "x": [
            0,
            -1.67184478402449
           ],
           "y": [
            0,
            -2.5642349723828843
           ]
          }
         ]
        },
        {
         "data": [
          {
           "type": "scatter",
           "x": [
            0,
            -1.77889604958009
           ],
           "y": [
            0,
            -1.915597807985749
           ]
          }
         ]
        },
        {
         "data": [
          {
           "type": "scatter",
           "x": [
            0,
            -1.888077292862712
           ],
           "y": [
            0,
            -1.2936929990501056
           ]
          }
         ]
        },
        {
         "data": [
          {
           "type": "scatter",
           "x": [
            0,
            -2.000415544955425
           ],
           "y": [
            0,
            -0.6984067194703238
           ]
          }
         ]
        },
        {
         "data": [
          {
           "type": "scatter",
           "x": [
            0,
            -2.1166986186280714
           ],
           "y": [
            0,
            -0.12898471874851702
           ]
          }
         ]
        },
        {
         "data": [
          {
           "type": "scatter",
           "x": [
            0,
            -2.2371484325194135
           ],
           "y": [
            0,
            0.41566445295156346
           ]
          }
         ]
        },
        {
         "data": [
          {
           "type": "scatter",
           "x": [
            0,
            -2.3613837673523257
           ],
           "y": [
            0,
            0.9364823444514234
           ]
          }
         ]
        },
        {
         "data": [
          {
           "type": "scatter",
           "x": [
            0,
            -2.488665034306912
           ],
           "y": [
            0,
            1.4339734577551442
           ]
          }
         ]
        },
        {
         "data": [
          {
           "type": "scatter",
           "x": [
            0,
            -2.618148456989628
           ],
           "y": [
            0,
            1.9082052221842953
           ]
          }
         ]
        },
        {
         "data": [
          {
           "type": "scatter",
           "x": [
            0,
            -2.7490209511298564
           ],
           "y": [
            0,
            2.358928428206765
           ]
          }
         ]
        },
        {
         "data": [
          {
           "type": "scatter",
           "x": [
            0,
            -2.880545037303995
           ],
           "y": [
            0,
            2.785695855695953
           ]
          }
         ]
        },
        {
         "data": [
          {
           "type": "scatter",
           "x": [
            0,
            -3.01206347316068
           ],
           "y": [
            0,
            3.1879475030091284
           ]
          }
         ]
        },
        {
         "data": [
          {
           "type": "scatter",
           "x": [
            0,
            -3.1429907640269064
           ],
           "y": [
            0,
            3.565066550832352
           ]
          }
         ]
        },
        {
         "data": [
          {
           "type": "scatter",
           "x": [
            0,
            -3.2728023379032245
           ],
           "y": [
            0,
            3.9164155866717265
           ]
          }
         ]
        },
        {
         "data": [
          {
           "type": "scatter",
           "x": [
            0,
            -3.401024855457182
           ],
           "y": [
            0,
            4.241360422593432
           ]
          }
         ]
        },
        {
         "data": [
          {
           "type": "scatter",
           "x": [
            0,
            -3.5272284384474077
           ],
           "y": [
            0,
            4.5392861790922945
           ]
          }
         ]
        },
        {
         "data": [
          {
           "type": "scatter",
           "x": [
            0,
            -3.651020717855227
           ],
           "y": [
            0,
            4.809608466077992
           ]
          }
         ]
        },
        {
         "data": [
          {
           "type": "scatter",
           "x": [
            0,
            -3.7720423748189367
           ],
           "y": [
            0,
            5.051781377606845
           ]
          }
         ]
        },
        {
         "data": [
          {
           "type": "scatter",
           "x": [
            0,
            -3.889963854768663
           ],
           "y": [
            0,
            5.265303340904417
           ]
          }
         ]
        },
        {
         "data": [
          {
           "type": "scatter",
           "x": [
            0,
            -4.004482986105294
           ],
           "y": [
            0,
            5.449721465657143
           ]
          }
         ]
        },
        {
         "data": [
          {
           "type": "scatter",
           "x": [
            0,
            -4.115323282283409
           ],
           "y": [
            0,
            5.604634807373535
           ]
          }
         ]
        },
        {
         "data": [
          {
           "type": "scatter",
           "x": [
            0,
            -4.222232777009245
           ],
           "y": [
            0,
            5.729696804938804
           ]
          }
         ]
        },
        {
         "data": [
          {
           "type": "scatter",
           "x": [
            0,
            -4.324983269120697
           ],
           "y": [
            0,
            5.824617064115934
           ]
          }
         ]
        },
        {
         "data": [
          {
           "type": "scatter",
           "x": [
            0,
            -4.423369894044575
           ],
           "y": [
            0,
            5.889162594901406
           ]
          }
         ]
        },
        {
         "data": [
          {
           "type": "scatter",
           "x": [
            0,
            -4.517210947094028
           ],
           "y": [
            0,
            5.9231585769171
           ]
          }
         ]
        },
        {
         "data": [
          {
           "type": "scatter",
           "x": [
            0,
            -4.606347922395696
           ],
           "y": [
            0,
            5.926488687998233
           ]
          }
         ]
        },
        {
         "data": [
          {
           "type": "scatter",
           "x": [
            0,
            -4.690645709486131
           ],
           "y": [
            0,
            5.899095027685522
           ]
          }
         ]
        },
        {
         "data": [
          {
           "type": "scatter",
           "x": [
            0,
            -4.7699929443571
           ],
           "y": [
            0,
            5.840977626352905
           ]
          }
         ]
        },
        {
         "data": [
          {
           "type": "scatter",
           "x": [
            0,
            -4.844302470236457
           ],
           "y": [
            0,
            5.752193540945054
           ]
          }
         ]
        },
        {
         "data": [
          {
           "type": "scatter",
           "x": [
            0,
            -4.913511898761912
           ],
           "y": [
            0,
            5.632855508428608
           ]
          }
         ]
        },
        {
         "data": [
          {
           "type": "scatter",
           "x": [
            0,
            -4.977584242633341
           ],
           "y": [
            0,
            5.483130124307578
           ]
          }
         ]
        },
        {
         "data": [
          {
           "type": "scatter",
           "x": [
            0,
            -5.036508595721244
           ],
           "y": [
            0,
            5.303235494489733
           ]
          }
         ]
        },
        {
         "data": [
          {
           "type": "scatter",
           "x": [
            0,
            -5.090300821792211
           ],
           "y": [
            0,
            5.0934382983566335
           ]
          }
         ]
        },
        {
         "data": [
          {
           "type": "scatter",
           "x": [
            0,
            -5.139004199856543
           ],
           "y": [
            0,
            4.854050182356188
           ]
          }
         ]
        },
        {
         "data": [
          {
           "type": "scatter",
           "x": [
            0,
            -5.182689940361348
           ],
           "y": [
            0,
            4.585423395657297
           ]
          }
         ]
        },
        {
         "data": [
          {
           "type": "scatter",
           "x": [
            0,
            -5.221457461944111
           ],
           "y": [
            0,
            4.287945556378435
           ]
          }
         ]
        },
        {
         "data": [
          {
           "type": "scatter",
           "x": [
            0,
            -5.255434238987074
           ],
           "y": [
            0,
            3.962033455705874
           ]
          }
         ]
        },
        {
         "data": [
          {
           "type": "scatter",
           "x": [
            0,
            -5.284774953222941
           ],
           "y": [
            0,
            3.6081258194545796
           ]
          }
         ]
        },
        {
         "data": [
          {
           "type": "scatter",
           "x": [
            0,
            -5.309659637668792
           ],
           "y": [
            0,
            3.2266749617527113
           ]
          }
         ]
        },
        {
         "data": [
          {
           "type": "scatter",
           "x": [
            0,
            -5.33029015531522
           ],
           "y": [
            0,
            2.818137539856245
           ]
          }
         ]
        },
        {
         "data": [
          {
           "type": "scatter",
           "x": [
            0,
            -5.346884630410528
           ],
           "y": [
            0,
            2.3829645656073204
           ]
          }
         ]
        },
        {
         "data": [
          {
           "type": "scatter",
           "x": [
            0,
            -5.359668842308644
           ],
           "y": [
            0,
            1.9215915432661617
           ]
          }
         ]
        },
        {
         "data": [
          {
           "type": "scatter",
           "x": [
            0,
            -5.368864084599728
           ],
           "y": [
            0,
            1.4344298324393647
           ]
          }
         ]
        },
        {
         "data": [
          {
           "type": "scatter",
           "x": [
            0,
            -5.374671077574866
           ],
           "y": [
            0,
            0.9218611907282052
           ]
          }
         ]
        },
        {
         "data": [
          {
           "type": "scatter",
           "x": [
            0,
            -5.3772503951696144
           ],
           "y": [
            0,
            0.3842379546413491
           ]
          }
         ]
        },
        {
         "data": [
          {
           "type": "scatter",
           "x": [
            0,
            -5.376701183705385
           ],
           "y": [
            0,
            -0.17810870003747195
           ]
          }
         ]
        },
        {
         "data": [
          {
           "type": "scatter",
           "x": [
            0,
            -5.373041427653158
           ],
           "y": [
            0,
            -0.7648506074759345
           ]
          }
         ]
        },
        {
         "data": [
          {
           "type": "scatter",
           "x": [
            0,
            -5.366194120109826
           ],
           "y": [
            0,
            -1.3756351341527926
           ]
          }
         ]
        },
        {
         "data": [
          {
           "type": "scatter",
           "x": [
            0,
            -5.355983244775046
           ],
           "y": [
            0,
            -2.0100516528704375
           ]
          }
         ]
        },
        {
         "data": [
          {
           "type": "scatter",
           "x": [
            0,
            -5.342141371276817
           ],
           "y": [
            0,
            -2.667597672888591
           ]
          }
         ]
        },
        {
         "data": [
          {
           "type": "scatter",
           "x": [
            0,
            -5.324327467533048
           ],
           "y": [
            0,
            -3.347650671026499
           ]
          }
         ]
        },
        {
         "data": [
          {
           "type": "scatter",
           "x": [
            0,
            -5.302150947809137
           ],
           "y": [
            0,
            -4.049449736287703
           ]
          }
         ]
        },
        {
         "data": [
          {
           "type": "scatter",
           "x": [
            0,
            -5.275197098811814
           ],
           "y": [
            0,
            -4.77208818158935
           ]
          }
         ]
        },
        {
         "data": [
          {
           "type": "scatter",
           "x": [
            0,
            -5.243049781606805
           ],
           "y": [
            0,
            -5.514515898188422
           ]
          }
         ]
        },
        {
         "data": [
          {
           "type": "scatter",
           "x": [
            0,
            -5.205309503713392
           ],
           "y": [
            0,
            -6.275548264542057
           ]
          }
         ]
        },
        {
         "data": [
          {
           "type": "scatter",
           "x": [
            0,
            -5.161606256403749
           ],
           "y": [
            0,
            -7.053878856183239
           ]
          }
         ]
        },
        {
         "data": [
          {
           "type": "scatter",
           "x": [
            0,
            -5.111607678499811
           ],
           "y": [
            0,
            -7.848093598559615
           ]
          }
         ]
        },
        {
         "data": [
          {
           "type": "scatter",
           "x": [
            0,
            -5.055023553890353
           ],
           "y": [
            0,
            -8.656684905354918
           ]
          }
         ]
        },
        {
         "data": [
          {
           "type": "scatter",
           "x": [
            0,
            -4.991607708386953
           ],
           "y": [
            0,
            -9.478064945863125
           ]
          }
         ]
        },
        {
         "data": [
          {
           "type": "scatter",
           "x": [
            0,
            -4.921158150137749
           ],
           "y": [
            0,
            -10.310577751086988
           ]
          }
         ]
        },
        {
         "data": [
          {
           "type": "scatter",
           "x": [
            0,
            -4.843516162709026
           ],
           "y": [
            0,
            -11.15251007251249
           ]
          }
         ]
        },
        {
         "data": [
          {
           "type": "scatter",
           "x": [
            0,
            -4.7585647659796235
           ],
           "y": [
            0,
            -12.002101112527512
           ]
          }
         ]
        },
        {
         "data": [
          {
           "type": "scatter",
           "x": [
            0,
            -4.666226852750288
           ],
           "y": [
            0,
            -12.857551272335526
           ]
          }
         ]
        },
        {
         "data": [
          {
           "type": "scatter",
           "x": [
            0,
            -4.566463235281908
           ],
           "y": [
            0,
            -13.717030071074838
           ]
          }
         ]
        },
        {
         "data": [
          {
           "type": "scatter",
           "x": [
            0,
            -4.459270661758051
           ],
           "y": [
            0,
            -14.578683393151005
           ]
          }
         ]
        },
        {
         "data": [
          {
           "type": "scatter",
           "x": [
            0,
            -4.344679897698344
           ],
           "y": [
            0,
            -15.440640184394978
           ]
          }
         ]
        },
        {
         "data": [
          {
           "type": "scatter",
           "x": [
            0,
            -4.2227538888054195
           ],
           "y": [
            0,
            -16.30101870509345
           ]
          }
         ]
        },
        {
         "data": [
          {
           "type": "scatter",
           "x": [
            0,
            -4.0935860236235815
           ],
           "y": [
            0,
            -17.157932420601803
           ]
          }
         ]
        },
        {
         "data": [
          {
           "type": "scatter",
           "x": [
            0,
            -3.9572984761233507
           ],
           "y": [
            0,
            -18.009495596614258
           ]
          }
         ]
        },
        {
         "data": [
          {
           "type": "scatter",
           "x": [
            0,
            -3.814040679001732
           ],
           "y": [
            0,
            -18.853828639844995
           ]
          }
         ]
        },
        {
         "data": [
          {
           "type": "scatter",
           "x": [
            0,
            -3.663987827577746
           ],
           "y": [
            0,
            -19.689063234070517
           ]
          }
         ]
        },
        {
         "data": [
          {
           "type": "scatter",
           "x": [
            0,
            -3.50733948568358
           ],
           "y": [
            0,
            -20.513347285413534
           ]
          }
         ]
        },
        {
         "data": [
          {
           "type": "scatter",
           "x": [
            0,
            -3.3443182341340987
           ],
           "y": [
            0,
            -21.324849708400727
           ]
          }
         ]
        },
        {
         "data": [
          {
           "type": "scatter",
           "x": [
            0,
            -3.175168372942832
           ],
           "y": [
            0,
            -22.121765055768964
           ]
          }
         ]
        },
        {
         "data": [
          {
           "type": "scatter",
           "x": [
            0,
            -3.000154664123528
           ],
           "y": [
            0,
            -22.90231800928709
           ]
          }
         ]
        },
        {
         "data": [
          {
           "type": "scatter",
           "x": [
            0,
            -2.819561101411405
           ],
           "y": [
            0,
            -23.664767731017776
           ]
          }
         ]
        },
        {
         "data": [
          {
           "type": "scatter",
           "x": [
            0,
            -2.633689710419431
           ],
           "y": [
            0,
            -24.40741208322061
           ]
          }
         ]
        },
        {
         "data": [
          {
           "type": "scatter",
           "x": [
            0,
            -2.4428593648818437
           ],
           "y": [
            0,
            -25.12859171092906
           ]
          }
         ]
        },
        {
         "data": [
          {
           "type": "scatter",
           "x": [
            0,
            -2.247404625412444
           ],
           "y": [
            0,
            -25.82669399363588
           ]
          }
         ]
        },
        {
         "data": [
          {
           "type": "scatter",
           "x": [
            0,
            -2.0476745572933477
           ],
           "y": [
            0,
            -26.50015685189141
           ]
          }
         ]
        },
        {
         "data": [
          {
           "type": "scatter",
           "x": [
            0,
            -1.8440316086893491
           ],
           "y": [
            0,
            -27.147472422705178
           ]
          }
         ]
        },
        {
         "data": [
          {
           "type": "scatter",
           "x": [
            0,
            -1.6368504440738225
           ],
           "y": [
            0,
            -27.767190584191166
           ]
          }
         ]
        },
        {
         "data": [
          {
           "type": "scatter",
           "x": [
            0,
            -1.426516809775404
           ],
           "y": [
            0,
            -28.35792233327577
           ]
          }
         ]
        },
        {
         "data": [
          {
           "type": "scatter",
           "x": [
            0,
            -1.2134264095821945
           ],
           "y": [
            0,
            -28.918343010626977
           ]
          }
         ]
        },
        {
         "data": [
          {
           "type": "scatter",
           "x": [
            0,
            -0.9979837513198642
           ],
           "y": [
            0,
            -29.447195364737727
           ]
          }
         ]
        },
        {
         "data": [
          {
           "type": "scatter",
           "x": [
            0,
            -0.7806010127170075
           ],
           "y": [
            0,
            -29.943292453980924
           ]
          }
         ]
        },
        {
         "data": [
          {
           "type": "scatter",
           "x": [
            0,
            -0.5616969185667421
           ],
           "y": [
            0,
            -30.405520381158652
           ]
          }
         ]
        },
        {
         "data": [
          {
           "type": "scatter",
           "x": [
            0,
            -0.3416956036408267
           ],
           "y": [
            0,
            -30.832840853925312
           ]
          }
         ]
        },
        {
         "data": [
          {
           "type": "scatter",
           "x": [
            0,
            -0.1210254560055935
           ],
           "y": [
            0,
            -31.2242935652511
           ]
          }
         ]
        },
        {
         "data": [
          {
           "type": "scatter",
           "x": [
            0,
            0.09988194843413854
           ],
           "y": [
            0,
            -31.57899840056372
           ]
          }
         ]
        },
        {
         "data": [
          {
           "type": "scatter",
           "x": [
            0,
            0.320593003124662
           ],
           "y": [
            0,
            -31.896157449821224
           ]
          }
         ]
        },
        {
         "data": [
          {
           "type": "scatter",
           "x": [
            0,
            0.5406732050700042
           ],
           "y": [
            0,
            -32.17505683021617
           ]
          }
         ]
        },
        {
         "data": [
          {
           "type": "scatter",
           "x": [
            0,
            0.7596882149572034
           ],
           "y": [
            0,
            -32.415068322792386
           ]
          }
         ]
        },
        {
         "data": [
          {
           "type": "scatter",
           "x": [
            0,
            0.9772049936608264
           ],
           "y": [
            0,
            -32.61565080406043
           ]
          }
         ]
        },
        {
         "data": [
          {
           "type": "scatter",
           "x": [
            0,
            1.1927928828390177
           ],
           "y": [
            0,
            -32.77635148349473
           ]
          }
         ]
        },
        {
         "data": [
          {
           "type": "scatter",
           "x": [
            0,
            1.406024674506071
           ],
           "y": [
            0,
            -32.896806937403866
           ]
          }
         ]
        },
        {
         "data": [
          {
           "type": "scatter",
           "x": [
            0,
            1.6164776910562806
           ],
           "y": [
            0,
            -32.97674393676361
           ]
          }
         ]
        },
        {
         "data": [
          {
           "type": "scatter",
           "x": [
            0,
            1.823734823556449
           ],
           "y": [
            0,
            -33.01598007444761
           ]
          }
         ]
        },
        {
         "data": [
          {
           "type": "scatter",
           "x": [
            0,
            2.027385573343776
           ],
           "y": [
            0,
            -33.01442418091569
           ]
          }
         ]
        },
        {
         "data": [
          {
           "type": "scatter",
           "x": [
            0,
            2.2270270685293587
           ],
           "y": [
            0,
            -32.97207653375537
           ]
          }
         ]
        },
        {
         "data": [
          {
           "type": "scatter",
           "x": [
            0,
            2.4222650562996284
           ],
           "y": [
            0,
            -32.88902886131357
           ]
          }
         ]
        },
        {
         "data": [
          {
           "type": "scatter",
           "x": [
            0,
            2.612714884323796
           ],
           "y": [
            0,
            -32.765464134992726
           ]
          }
         ]
        },
        {
         "data": [
          {
           "type": "scatter",
           "x": [
            0,
            2.7980024495868965
           ],
           "y": [
            0,
            -32.6016561567698
           ]
          }
         ]
        },
        {
         "data": [
          {
           "type": "scatter",
           "x": [
            0,
            2.977765128073585
           ],
           "y": [
            0,
            -32.397968939496955
           ]
          }
         ]
        },
        {
         "data": [
          {
           "type": "scatter",
           "x": [
            0,
            3.151652677424974
           ],
           "y": [
            0,
            -32.15485588137627
           ]
          }
         ]
        },
        {
         "data": [
          {
           "type": "scatter",
           "x": [
            0,
            3.319328111078088
           ],
           "y": [
            0,
            -31.87285873841296
           ]
          }
         ]
        },
        {
         "data": [
          {
           "type": "scatter",
           "x": [
            0,
            3.4804685481192763
           ],
           "y": [
            0,
            -31.552606394752953
           ]
          }
         ]
        },
        {
         "data": [
          {
           "type": "scatter",
           "x": [
            0,
            3.6347660167741838
           ],
           "y": [
            0,
            -31.194813435378542
           ]
          }
         ]
        },
        {
         "data": [
          {
           "type": "scatter",
           "x": [
            0,
            3.7819282578945725
           ],
           "y": [
            0,
            -30.80027852371644
           ]
          }
         ]
        },
        {
         "data": [
          {
           "type": "scatter",
           "x": [
            0,
            3.921679454553092
           ],
           "y": [
            0,
            -30.36988258652608
           ]
          }
         ]
        },
        {
         "data": [
          {
           "type": "scatter",
           "x": [
            0,
            4.053760965544514
           ],
           "y": [
            0,
            -29.904586811008517
           ]
          }
         ]
        },
        {
         "data": [
          {
           "type": "scatter",
           "x": [
            0,
            4.17793201933253
           ],
           "y": [
            0,
            -29.405430458012525
           ]
          }
         ]
        },
        {
         "data": [
          {
           "type": "scatter",
           "x": [
            0,
            4.2939703230398445
           ],
           "y": [
            0,
            -28.873528497606344
           ]
          }
         ]
        },
        {
         "data": [
          {
           "type": "scatter",
           "x": [
            0,
            4.401672732186489
           ],
           "y": [
            0,
            -28.31006906716927
           ]
          }
         ]
        },
        {
         "data": [
          {
           "type": "scatter",
           "x": [
            0,
            4.5008557910570435
           ],
           "y": [
            0,
            -27.716310763243296
           ]
          }
         ]
        },
        {
         "data": [
          {
           "type": "scatter",
           "x": [
            0,
            4.591356261411237
           ],
           "y": [
            0,
            -27.09357977034802
           ]
          }
         ]
        },
        {
         "data": [
          {
           "type": "scatter",
           "x": [
            0,
            4.67303169877205
           ],
           "y": [
            0,
            -26.44326682556796
           ]
          }
         ]
        },
        {
         "data": [
          {
           "type": "scatter",
           "x": [
            0,
            4.745760827478055
           ],
           "y": [
            0,
            -25.766824042523325
           ]
          }
         ]
        },
        {
         "data": [
          {
           "type": "scatter",
           "x": [
            0,
            4.809444047211989
           ],
           "y": [
            0,
            -25.06576157884179
           ]
          }
         ]
        },
        {
         "data": [
          {
           "type": "scatter",
           "x": [
            0,
            4.864003851766043
           ],
           "y": [
            0,
            -24.34164416481398
           ]
          }
         ]
        },
        {
         "data": [
          {
           "type": "scatter",
           "x": [
            0,
            4.909385067926134
           ],
           "y": [
            0,
            -23.596087517803213
           ]
          }
         ]
        },
        {
         "data": [
          {
           "type": "scatter",
           "x": [
            0,
            4.945555401534564
           ],
           "y": [
            0,
            -22.830754591388228
           ]
          }
         ]
        },
        {
         "data": [
          {
           "type": "scatter",
           "x": [
            0,
            4.972505487687614
           ],
           "y": [
            0,
            -22.047351759687835
           ]
          }
         ]
        },
        {
         "data": [
          {
           "type": "scatter",
           "x": [
            0,
            4.990249560293972
           ],
           "y": [
            0,
            -21.247624804583303
           ]
          }
         ]
        },
        {
         "data": [
          {
           "type": "scatter",
           "x": [
            0,
            4.998825335357996
           ],
           "y": [
            0,
            -20.4333548903338
           ]
          }
         ]
        },
        {
         "data": [
          {
           "type": "scatter",
           "x": [
            0,
            4.99829447258691
           ],
           "y": [
            0,
            -19.606354362999763
           ]
          }
         ]
        },
        {
         "data": [
          {
           "type": "scatter",
           "x": [
            0,
            4.988742792430797
           ],
           "y": [
            0,
            -18.768462477754067
           ]
          }
         ]
        },
        {
         "data": [
          {
           "type": "scatter",
           "x": [
            0,
            4.97028039950192
           ],
           "y": [
            0,
            -17.92154104809128
           ]
          }
         ]
        },
        {
         "data": [
          {
           "type": "scatter",
           "x": [
            0,
            4.943042232349447
           ],
           "y": [
            0,
            -17.0674699182906
           ]
          }
         ]
        },
        {
         "data": [
          {
           "type": "scatter",
           "x": [
            0,
            4.907188003556644
           ],
           "y": [
            0,
            -16.208142461851992
           ]
          }
         ]
        },
        {
         "data": [
          {
           "type": "scatter",
           "x": [
            0,
            4.862902684622049
           ],
           "y": [
            0,
            -15.345460884825929
           ]
          }
         ]
        },
        {
         "data": [
          {
           "type": "scatter",
           "x": [
            0,
            4.810396774625303
           ],
           "y": [
            0,
            -14.48133147727265
           ]
          }
         ]
        },
        {
         "data": [
          {
           "type": "scatter",
           "x": [
            0,
            4.749906891369156
           ],
           "y": [
            0,
            -13.61765968355167
           ]
          }
         ]
        },
        {
         "data": [
          {
           "type": "scatter",
           "x": [
            0,
            4.681696098716928
           ],
           "y": [
            0,
            -12.756345121051197
           ]
          }
         ]
        },
        {
         "data": [
          {
           "type": "scatter",
           "x": [
            0,
            4.606054689138172
           ],
           "y": [
            0,
            -11.899276358573605
           ]
          }
         ]
        },
        {
         "data": [
          {
           "type": "scatter",
           "x": [
            0,
            4.523300932087657
           ],
           "y": [
            0,
            -11.048325528957907
           ]
          }
         ]
        },
        {
         "data": [
          {
           "type": "scatter",
           "x": [
            0,
            4.433782276227951
           ],
           "y": [
            0,
            -10.205342608099896
           ]
          }
         ]
        },
        {
         "data": [
          {
           "type": "scatter",
           "x": [
            0,
            4.337876572664644
           ],
           "y": [
            0,
            -9.372149386538588
           ]
          }
         ]
        },
        {
         "data": [
          {
           "type": "scatter",
           "x": [
            0,
            4.235993849353182
           ],
           "y": [
            0,
            -8.550532896128157
           ]
          }
         ]
        },
        {
         "data": [
          {
           "type": "scatter",
           "x": [
            0,
            4.128578519074535
           ],
           "y": [
            0,
            -7.742238129444697
           ]
          }
         ]
        },
        {
         "data": [
          {
           "type": "scatter",
           "x": [
            0,
            4.016112062970122
           ],
           "y": [
            0,
            -6.948959791085129
           ]
          }
         ]
        },
        {
         "data": [
          {
           "type": "scatter",
           "x": [
            0,
            3.89911656982516
           ],
           "y": [
            0,
            -6.172332578710319
           ]
          }
         ]
        },
        {
         "data": [
          {
           "type": "scatter",
           "x": [
            0,
            3.778158772861541
           ],
           "y": [
            0,
            -5.4139194339131995
           ]
          }
         ]
        },
        {
         "data": [
          {
           "type": "scatter",
           "x": [
            0,
            3.6538552563485043
           ],
           "y": [
            0,
            -4.675196751087678
           ]
          }
         ]
        },
        {
         "data": [
          {
           "type": "scatter",
           "x": [
            0,
            3.5268776506085042
           ],
           "y": [
            0,
            -3.957535288711124
           ]
          }
         ]
        },
        {
         "data": [
          {
           "type": "scatter",
           "x": [
            0,
            3.3979576965270386
           ],
           "y": [
            0,
            -3.2621747976201445
           ]
          }
         ]
        },
        {
         "data": [
          {
           "type": "scatter",
           "x": [
            0,
            3.267889640439128
           ],
           "y": [
            0,
            -2.590189991167328
           ]
          }
         ]
        },
        {
         "data": [
          {
           "type": "scatter",
           "x": [
            0,
            3.137525318875887
           ],
           "y": [
            0,
            -1.9424456692810774
           ]
          }
         ]
        },
        {
         "data": [
          {
           "type": "scatter",
           "x": [
            0,
            3.0077530903029146
           ],
           "y": [
            0,
            -1.3195411451386878
           ]
          }
         ]
        },
        {
         "data": [
          {
           "type": "scatter",
           "x": [
            0,
            2.879446634272939
           ],
           "y": [
            0,
            -0.721752910199904
           ]
          }
         ]
        },
        {
         "data": [
          {
           "type": "scatter",
           "x": [
            0,
            2.753371632698063
           ],
           "y": [
            0,
            -0.1490008959891898
           ]
          }
         ]
        },
        {
         "data": [
          {
           "type": "scatter",
           "x": [
            0,
            2.6300586267066977
           ],
           "y": [
            0,
            0.39911620843259155
           ]
          }
         ]
        },
        {
         "data": [
          {
           "type": "scatter",
           "x": [
            0,
            2.509694766036076
           ],
           "y": [
            0,
            0.9231832961330191
           ]
          }
         ]
        },
        {
         "data": [
          {
           "type": "scatter",
           "x": [
            0,
            2.3921082477554854
           ],
           "y": [
            0,
            1.4237624523669323
           ]
          }
         ]
        },
        {
         "data": [
          {
           "type": "scatter",
           "x": [
            0,
            2.2768636173130448
           ],
           "y": [
            0,
            1.90121760461428
           ]
          }
         ]
        },
        {
         "data": [
          {
           "type": "scatter",
           "x": [
            0,
            2.163404649541927
           ],
           "y": [
            0,
            2.3556422560060906
           ]
          }
         ]
        },
        {
         "data": [
          {
           "type": "scatter",
           "x": [
            0,
            2.0511713394320314
           ],
           "y": [
            0,
            2.7868797142380046
           ]
          }
         ]
        },
        {
         "data": [
          {
           "type": "scatter",
           "x": [
            0,
            1.939665136337773
           ],
           "y": [
            0,
            3.194584960506217
           ]
          }
         ]
        },
        {
         "data": [
          {
           "type": "scatter",
           "x": [
            0,
            1.8284729808644706
           ],
           "y": [
            0,
            3.578289666086432
           ]
          }
         ]
        },
        {
         "data": [
          {
           "type": "scatter",
           "x": [
            0,
            1.7172685431841017
           ],
           "y": [
            0,
            3.9374549988073073
           ]
          }
         ]
        },
        {
         "data": [
          {
           "type": "scatter",
           "x": [
            0,
            1.6058037629530653
           ],
           "y": [
            0,
            4.271510304602503
           ]
          }
         ]
        },
        {
         "data": [
          {
           "type": "scatter",
           "x": [
            0,
            1.4938975733530184
           ],
           "y": [
            0,
            4.57988035174679
           ]
          }
         ]
        },
        {
         "data": [
          {
           "type": "scatter",
           "x": [
            0,
            1.3814249116358874
           ],
           "y": [
            0,
            4.862004344231739
           ]
          }
         ]
        },
        {
         "data": [
          {
           "type": "scatter",
           "x": [
            0,
            1.2683069797590754
           ],
           "y": [
            0,
            5.11734930676192
           ]
          }
         ]
        },
        {
         "data": [
          {
           "type": "scatter",
           "x": [
            0,
            1.1545030403474608
           ],
           "y": [
            0,
            5.345419642047493
           ]
          }
         ]
        },
        {
         "data": [
          {
           "type": "scatter",
           "x": [
            0,
            1.0400035988516096
           ],
           "y": [
            0,
            5.545764075735233
           ]
          }
         ]
        },
        {
         "data": [
          {
           "type": "scatter",
           "x": [
            0,
            0.9248247420800616
           ],
           "y": [
            0,
            5.71798079278998
           ]
          }
         ]
        },
        {
         "data": [
          {
           "type": "scatter",
           "x": [
            0,
            0.8090034110612827
           ],
           "y": [
            0,
            5.861721286902547
           ]
          }
         ]
        },
        {
         "data": [
          {
           "type": "scatter",
           "x": [
            0,
            0.6925934027746283
           ],
           "y": [
            0,
            5.976693271942707
           ]
          }
         ]
        },
        {
         "data": [
          {
           "type": "scatter",
           "x": [
            0,
            0.5756619303096817
           ],
           "y": [
            0,
            6.062662880466826
           ]
          }
         ]
        },
        {
         "data": [
          {
           "type": "scatter",
           "x": [
            0,
            0.4582865974995123
           ],
           "y": [
            0,
            6.1194563074960895
           ]
          }
         ]
        },
        {
         "data": [
          {
           "type": "scatter",
           "x": [
            0,
            0.3405526768134711
           ],
           "y": [
            0,
            6.1469610005395445
           ]
          }
         ]
        },
        {
         "data": [
          {
           "type": "scatter",
           "x": [
            0,
            0.22255059493997692
           ],
           "y": [
            0,
            6.1451264644597225
           ]
          }
         ]
        },
        {
         "data": [
          {
           "type": "scatter",
           "x": [
            0,
            0.10437353710290412
           ],
           "y": [
            0,
            6.11396472283088
           ]
          }
         ]
        },
        {
         "data": [
          {
           "type": "scatter",
           "x": [
            0,
            -0.01388490646381054
           ],
           "y": [
            0,
            6.053550460857526
           ]
          }
         ]
        },
        {
         "data": [
          {
           "type": "scatter",
           "x": [
            0,
            -0.13213312341641895
           ],
           "y": [
            0,
            5.964020858206096
           ]
          }
         ]
        },
        {
         "data": [
          {
           "type": "scatter",
           "x": [
            0,
            -0.25028398357526643
           ],
           "y": [
            0,
            5.845575103807878
           ]
          }
         ]
        },
        {
         "data": [
          {
           "type": "scatter",
           "x": [
            0,
            -0.36825754260430343
           ],
           "y": [
            0,
            5.698473570270583
           ]
          }
         ]
        },
        {
         "data": [
          {
           "type": "scatter",
           "x": [
            0,
            -0.48598406072023903
           ],
           "y": [
            0,
            5.523036601593832
           ]
          }
         ]
        },
        {
         "data": [
          {
           "type": "scatter",
           "x": [
            0,
            -0.603407470502
           ],
           "y": [
            0,
            5.319642838987793
           ]
          }
         ]
        },
        {
         "data": [
          {
           "type": "scatter",
           "x": [
            0,
            -0.7204894638150457
           ],
           "y": [
            0,
            5.088726964927242
           ]
          }
         ]
        },
        {
         "data": [
          {
           "type": "scatter",
           "x": [
            0,
            -0.837214431012349
           ],
           "y": [
            0,
            4.830776676213451
           ]
          }
         ]
        },
        {
         "data": [
          {
           "type": "scatter",
           "x": [
            0,
            -0.9535955538404115
           ],
           "y": [
            0,
            4.54632858583181
           ]
          }
         ]
        },
        {
         "data": [
          {
           "type": "scatter",
           "x": [
            0,
            -1.0696824369402649
           ],
           "y": [
            0,
            4.235962553517208
           ]
          }
         ]
        },
        {
         "data": [
          {
           "type": "scatter",
           "x": [
            0,
            -1.185570930243523
           ],
           "y": [
            0,
            3.900293719836433
           ]
          }
         ]
        },
        {
         "data": [
          {
           "type": "scatter",
           "x": [
            0,
            -1.301415520969029
           ],
           "y": [
            0,
            3.539960805976826
           ]
          }
         ]
        },
        {
         "data": [
          {
           "type": "scatter",
           "x": [
            0,
            -1.4174452213421211
           ],
           "y": [
            0,
            3.1556086445856195
           ]
          }
         ]
        },
        {
         "data": [
          {
           "type": "scatter",
           "x": [
            0,
            -1.533983026421455
           ],
           "y": [
            0,
            2.7478611583854637
           ]
          }
         ]
        },
        {
         "data": [
          {
           "type": "scatter",
           "x": [
            0,
            -1.6514676290468544
           ],
           "y": [
            0,
            2.3172789979811492
           ]
          }
         ]
        },
        {
         "data": [
          {
           "type": "scatter",
           "x": [
            0,
            -1.7704711925111876
           ],
           "y": [
            0,
            1.864293635714604
           ]
          }
         ]
        },
        {
         "data": [
          {
           "type": "scatter",
           "x": [
            0,
            -1.8916957486484798
           ],
           "y": [
            0,
            1.3891107347588432
           ]
          }
         ]
        },
        {
         "data": [
          {
           "type": "scatter",
           "x": [
            0,
            -2.0159115159212613
           ],
           "y": [
            0,
            0.8915921501372234
           ]
          }
         ]
        },
        {
         "data": [
          {
           "type": "scatter",
           "x": [
            0,
            -2.143793147922071
           ],
           "y": [
            0,
            0.37117611980231346
           ]
          }
         ]
        },
        {
         "data": [
          {
           "type": "scatter",
           "x": [
            0,
            -2.2756730782422614
           ],
           "y": [
            0,
            -0.17304489311642585
           ]
          }
         ]
        },
        {
         "data": [
          {
           "type": "scatter",
           "x": [
            0,
            -2.4113655088496984
           ],
           "y": [
            0,
            -0.742032271956956
           ]
          }
         ]
        },
        {
         "data": [
          {
           "type": "scatter",
           "x": [
            0,
            -2.5502124014853895
           ],
           "y": [
            0,
            -1.3364552486706203
           ]
          }
         ]
        },
        {
         "data": [
          {
           "type": "scatter",
           "x": [
            0,
            -2.6912878566088807
           ],
           "y": [
            0,
            -1.9565090357029467
           ]
          }
         ]
        },
        {
         "data": [
          {
           "type": "scatter",
           "x": [
            0,
            -2.833591062333333
           ],
           "y": [
            0,
            -2.6019214911181487
           ]
          }
         ]
        },
        {
         "data": [
          {
           "type": "scatter",
           "x": [
            0,
            -2.9761543686129737
           ],
           "y": [
            0,
            -3.2720435998236934
           ]
          }
         ]
        },
        {
         "data": [
          {
           "type": "scatter",
           "x": [
            0,
            -3.11808397738044
           ],
           "y": [
            0,
            -3.9659443325811385
           ]
          }
         ]
        },
        {
         "data": [
          {
           "type": "scatter",
           "x": [
            0,
            -3.2585667206631777
           ],
           "y": [
            0,
            -4.682483891549134
           ]
          }
         ]
        },
        {
         "data": [
          {
           "type": "scatter",
           "x": [
            0,
            -3.3968639514403076
           ],
           "y": [
            0,
            -5.420365070447546
           ]
          }
         ]
        },
        {
         "data": [
          {
           "type": "scatter",
           "x": [
            0,
            -3.532302120970566
           ],
           "y": [
            0,
            -6.178168588389503
           ]
          }
         ]
        },
        {
         "data": [
          {
           "type": "scatter",
           "x": [
            0,
            -3.6642637087174963
           ],
           "y": [
            0,
            -6.954377789353705
           ]
          }
         ]
        },
        {
         "data": [
          {
           "type": "scatter",
           "x": [
            0,
            -3.792179576270527
           ],
           "y": [
            0,
            -7.747396513296149
           ]
          }
         ]
        },
        {
         "data": [
          {
           "type": "scatter",
           "x": [
            0,
            -3.9155228953009678
           ],
           "y": [
            0,
            -8.555562579988749
           ]
          }
         ]
        },
        {
         "data": [
          {
           "type": "scatter",
           "x": [
            0,
            -4.033804453247192
           ],
           "y": [
            0,
            -9.377158432989857
           ]
          }
         ]
        },
        {
         "data": [
          {
           "type": "scatter",
           "x": [
            0,
            -4.146568997060795
           ],
           "y": [
            0,
            -10.210419939138049
           ]
          }
         ]
        },
        {
         "data": [
          {
           "type": "scatter",
           "x": [
            0,
            -4.253392587115744
           ],
           "y": [
            0,
            -11.053543914010811
           ]
          }
         ]
        },
        {
         "data": [
          {
           "type": "scatter",
           "x": [
            0,
            -4.35388049077746
           ],
           "y": [
            0,
            -11.904694829858094
           ]
          }
         ]
        },
        {
         "data": [
          {
           "type": "scatter",
           "x": [
            0,
            -4.447665665415619
           ],
           "y": [
            0,
            -12.762010923839137
           ]
          }
         ]
        },
        {
         "data": [
          {
           "type": "scatter",
           "x": [
            0,
            -4.534407580628955
           ],
           "y": [
            0,
            -13.623609907600528
           ]
          }
         ]
        },
        {
         "data": [
          {
           "type": "scatter",
           "x": [
            0,
            -4.613791377560229
           ],
           "y": [
            0,
            -14.487594370231086
           ]
          }
         ]
        },
        {
         "data": [
          {
           "type": "scatter",
           "x": [
            0,
            -4.68552722931393
           ],
           "y": [
            0,
            -15.352056967303577
           ]
          }
         ]
        },
        {
         "data": [
          {
           "type": "scatter",
           "x": [
            0,
            -4.749349866009624
           ],
           "y": [
            0,
            -16.215085442747835
           ]
          }
         ]
        },
        {
         "data": [
          {
           "type": "scatter",
           "x": [
            0,
            -4.80501825241864
           ],
           "y": [
            0,
            -17.074767511361177
           ]
          }
         ]
        },
        {
         "data": [
          {
           "type": "scatter",
           "x": [
            0,
            -4.852315325959411
           ],
           "y": [
            0,
            -17.929195636072798
           ]
          }
         ]
        },
        {
         "data": [
          {
           "type": "scatter",
           "x": [
            0,
            -4.891047815317402
           ],
           "y": [
            0,
            -18.77647170581598
           ]
          }
         ]
        },
        {
         "data": [
          {
           "type": "scatter",
           "x": [
            0,
            -4.921046093249831
           ],
           "y": [
            0,
            -19.614711624926418
           ]
          }
         ]
        },
        {
         "data": [
          {
           "type": "scatter",
           "x": [
            0,
            -4.942164070704349
           ],
           "y": [
            0,
            -20.442049814874068
           ]
          }
         ]
        },
        {
         "data": [
          {
           "type": "scatter",
           "x": [
            0,
            -4.954279065796369
           ],
           "y": [
            0,
            -21.256643637841723
           ]
          }
         ]
        },
        {
         "data": [
          {
           "type": "scatter",
           "x": [
            0,
            -4.9572917411414785
           ],
           "y": [
            0,
            -22.056677721889997
           ]
          }
         ]
        },
        {
         "data": [
          {
           "type": "scatter",
           "x": [
            0,
            -4.9511259732585815
           ],
           "y": [
            0,
            -22.840368207567955
           ]
          }
         ]
        },
        {
         "data": [
          {
           "type": "scatter",
           "x": [
            0,
            -4.935728739129721
           ],
           "y": [
            0,
            -23.605966893719838
           ]
          }
         ]
        },
        {
         "data": [
          {
           "type": "scatter",
           "x": [
            0,
            -4.911069975813747
           ],
           "y": [
            0,
            -24.351765287114723
           ]
          }
         ]
        },
        {
         "data": [
          {
           "type": "scatter",
           "x": [
            0,
            -4.877142414934907
           ],
           "y": [
            0,
            -25.07609854479414
           ]
          }
         ]
        },
        {
         "data": [
          {
           "type": "scatter",
           "x": [
            0,
            -4.833961394776861
           ],
           "y": [
            0,
            -25.777349305517216
           ]
          }
         ]
        },
        {
         "data": [
          {
           "type": "scatter",
           "x": [
            0,
            -4.78156464472289
           ],
           "y": [
            0,
            -26.453951401709045
           ]
          }
         ]
        },
        {
         "data": [
          {
           "type": "scatter",
           "x": [
            0,
            -4.720012003102564
           ],
           "y": [
            0,
            -27.104393451648885
           ]
          }
         ]
        },
        {
         "data": [
          {
           "type": "scatter",
           "x": [
            0,
            -4.649385166009483
           ],
           "y": [
            0,
            -27.727222310948786
           ]
          }
         ]
        },
        {
         "data": [
          {
           "type": "scatter",
           "x": [
            0,
            -4.569787343306807
           ],
           "y": [
            0,
            -28.321046394139024
           ]
          }
         ]
        },
        {
         "data": [
          {
           "type": "scatter",
           "x": [
            0,
            -4.481342889911091
           ],
           "y": [
            0,
            -28.88453884940328
           ]
          }
         ]
        },
        {
         "data": [
          {
           "type": "scatter",
           "x": [
            0,
            -4.384196920010343
           ],
           "y": [
            0,
            -29.416440579061092
           ]
          }
         ]
        },
        {
         "data": [
          {
           "type": "scatter",
           "x": [
            0,
            -4.278514857145397
           ],
           "y": [
            0,
            -29.915563107936073
           ]
          }
         ]
        },
        {
         "data": [
          {
           "type": "scatter",
           "x": [
            0,
            -4.164481957149349
           ],
           "y": [
            0,
            -30.38079128620473
           ]
          }
         ]
        },
        {
         "data": [
          {
           "type": "scatter",
           "x": [
            0,
            -4.042302790573318
           ],
           "y": [
            0,
            -30.81108582336863
           ]
          }
         ]
        },
        {
         "data": [
          {
           "type": "scatter",
           "x": [
            0,
            -3.912200691383022
           ],
           "y": [
            0,
            -31.205485649315275
           ]
          }
         ]
        },
        {
         "data": [
          {
           "type": "scatter",
           "x": [
            0,
            -3.7744171595044684
           ],
           "y": [
            0,
            -31.563110096138328
           ]
          }
         ]
        },
        {
         "data": [
          {
           "type": "scatter",
           "x": [
            0,
            -3.629211237105042
           ],
           "y": [
            0,
            -31.883160896154656
           ]
          }
         ]
        },
        {
         "data": [
          {
           "type": "scatter",
           "x": [
            0,
            -3.4768588159677565
           ],
           "y": [
            0,
            -32.16492399351552
           ]
          }
         ]
        },
        {
         "data": [
          {
           "type": "scatter",
           "x": [
            0,
            -3.3176519632092347
           ],
           "y": [
            0,
            -32.40777116175816
           ]
          }
         ]
        },
        {
         "data": [
          {
           "type": "scatter",
           "x": [
            0,
            -3.1518981696202686
           ],
           "y": [
            0,
            -32.61116142756182
           ]
          }
         ]
        },
        {
         "data": [
          {
           "type": "scatter",
           "x": [
            0,
            -2.979919584678043
           ],
           "y": [
            0,
            -32.7746422971436
           ]
          }
         ]
        },
        {
         "data": [
          {
           "type": "scatter",
           "x": [
            0,
            -2.8020521916859504
           ],
           "y": [
            0,
            -32.89785078004195
           ]
          }
         ]
        },
        {
         "data": [
          {
           "type": "scatter",
           "x": [
            0,
            -2.618644996810669
           ],
           "y": [
            0,
            -32.98051421067791
           ]
          }
         ]
        },
        {
         "data": [
          {
           "type": "scatter",
           "x": [
            0,
            -2.4300591413424453
           ],
           "y": [
            0,
            -33.02245086278601
           ]
          }
         ]
        },
        {
         "data": [
          {
           "type": "scatter",
           "x": [
            0,
            -2.2366670205285155
           ],
           "y": [
            0,
            -33.02357036272279
           ]
          }
         ]
        },
        {
         "data": [
          {
           "type": "scatter",
           "x": [
            0,
            -2.0388513496957934
           ],
           "y": [
            0,
            -32.98387388858369
           ]
          }
         ]
        },
        {
         "data": [
          {
           "type": "scatter",
           "x": [
            0,
            -1.837004225690355
           ],
           "y": [
            0,
            -32.9034541672022
           ]
          }
         ]
        },
        {
         "data": [
          {
           "type": "scatter",
           "x": [
            0,
            -1.6315261485728905
           ],
           "y": [
            0,
            -32.782495258264355
           ]
          }
         ]
        },
        {
         "data": [
          {
           "type": "scatter",
           "x": [
            0,
            -1.4228250296277656
           ],
           "y": [
            0,
            -32.621272136122464
           ]
          }
         ]
        },
        {
         "data": [
          {
           "type": "scatter",
           "x": [
            0,
            -1.2113151755269298
           ],
           "y": [
            0,
            -32.42015005973418
           ]
          }
         ]
        },
        {
         "data": [
          {
           "type": "scatter",
           "x": [
            0,
            -0.9974162537392053
           ],
           "y": [
            0,
            -32.179583740359924
           ]
          }
         ]
        },
        {
         "data": [
          {
           "type": "scatter",
           "x": [
            0,
            -0.7815522421885028
           ],
           "y": [
            0,
            -31.900116303408026
           ]
          }
         ]
        },
        {
         "data": [
          {
           "type": "scatter",
           "x": [
            0,
            -0.5641503482191315
           ],
           "y": [
            0,
            -31.58237805294819
           ]
          }
         ]
        },
        {
         "data": [
          {
           "type": "scatter",
           "x": [
            0,
            -0.34563994373461865
           ],
           "y": [
            0,
            -31.227085026620884
           ]
          }
         ]
        },
        {
         "data": [
          {
           "type": "scatter",
           "x": [
            0,
            -0.12645145627452684
           ],
           "y": [
            0,
            -30.835037366047718
           ]
          }
         ]
        },
        {
         "data": [
          {
           "type": "scatter",
           "x": [
            0,
            0.09298473733275647
           ],
           "y": [
            0,
            -30.407117485800494
           ]
          }
         ]
        },
        {
         "data": [
          {
           "type": "scatter",
           "x": [
            0,
            0.3122394294086027
           ],
           "y": [
            0,
            -29.944288055420525
           ]
          }
         ]
        },
        {
         "data": [
          {
           "type": "scatter",
           "x": [
            0,
            0.5308857111272826
           ],
           "y": [
            0,
            -29.447589795069117
           ]
          }
         ]
        },
        {
         "data": [
          {
           "type": "scatter",
           "x": [
            0,
            0.7485001109611907
           ],
           "y": [
            0,
            -28.918139089283365
           ]
          }
         ]
        },
        {
         "data": [
          {
           "type": "scatter",
           "x": [
            0,
            0.9646637616560823
           ],
           "y": [
            0,
            -28.357125425279175
           ]
          }
         ]
        },
        {
         "data": [
          {
           "type": "scatter",
           "x": [
            0,
            1.1789634670761844
           ],
           "y": [
            0,
            -27.765808647231864
           ]
          }
         ]
        },
        {
         "data": [
          {
           "type": "scatter",
           "x": [
            0,
            1.3909929738386273
           ],
           "y": [
            0,
            -27.145516063807086
           ]
          }
         ]
        },
        {
         "data": [
          {
           "type": "scatter",
           "x": [
            0,
            1.600354086343659
           ],
           "y": [
            0,
            -26.49763937494754
           ]
          }
         ]
        },
        {
         "data": [
          {
           "type": "scatter",
           "x": [
            0,
            1.8066578510727387
           ],
           "y": [
            0,
            -25.823631445465686
           ]
          }
         ]
        },
        {
         "data": [
          {
           "type": "scatter",
           "x": [
            0,
            2.009525741932717
           ],
           "y": [
            0,
            -25.125002924860453
           ]
          }
         ]
        },
        {
         "data": [
          {
           "type": "scatter",
           "x": [
            0,
            2.208590799421558
           ],
           "y": [
            0,
            -24.403318714234405
           ]
          }
         ]
        },
        {
         "data": [
          {
           "type": "scatter",
           "x": [
            0,
            2.4034989287441904
           ],
           "y": [
            0,
            -23.660194301074274
           ]
          }
         ]
        },
        {
         "data": [
          {
           "type": "scatter",
           "x": [
            0,
            2.5939100378790587
           ],
           "y": [
            0,
            -22.897291939893556
           ]
          }
         ]
        },
        {
         "data": [
          {
           "type": "scatter",
           "x": [
            0,
            2.779499307567161
           ],
           "y": [
            0,
            -22.11631670004055
           ]
          }
         ]
        },
        {
         "data": [
          {
           "type": "scatter",
           "x": [
            0,
            2.9599584741751075
           ],
           "y": [
            0,
            -21.319012381100368
           ]
          }
         ]
        },
        {
         "data": [
          {
           "type": "scatter",
           "x": [
            0,
            3.1349970103591223
           ],
           "y": [
            0,
            -20.507157286016575
           ]
          }
         ]
        },
        {
         "data": [
          {
           "type": "scatter",
           "x": [
            0,
            3.3043435900673623
           ],
           "y": [
            0,
            -19.68255986960508
           ]
          }
         ]
        },
        {
         "data": [
          {
           "type": "scatter",
           "x": [
            0,
            3.467747316150257
           ],
           "y": [
            0,
            -18.847054239121412
           ]
          }
         ]
        },
        {
         "data": [
          {
           "type": "scatter",
           "x": [
            0,
            3.624979146522466
           ],
           "y": [
            0,
            -18.00249551071099
           ]
          }
         ]
        },
        {
         "data": [
          {
           "type": "scatter",
           "x": [
            0,
            3.7758334569388228
           ],
           "y": [
            0,
            -17.150755028083765
           ]
          }
         ]
        },
        {
         "data": [
          {
           "type": "scatter",
           "x": [
            0,
            3.9201293650841618
           ],
           "y": [
            0,
            -16.29371537818773
           ]
          }
         ]
        },
        {
         "data": [
          {
           "type": "scatter",
           "x": [
            0,
            4.057712569970974
           ],
           "y": [
            0,
            -15.433265253433856
           ]
          }
         ]
        },
        {
         "data": [
          {
           "type": "scatter",
           "x": [
            0,
            4.188456854224497
           ],
           "y": [
            0,
            -14.571294043533841
           ]
          }
         ]
        },
        {
         "data": [
          {
           "type": "scatter",
           "x": [
            0,
            4.3122661296228095
           ],
           "y": [
            0,
            -13.709686290542713
           ]
          }
         ]
        },
        {
         "data": [
          {
           "type": "scatter",
           "x": [
            0,
            4.429076021052798
           ],
           "y": [
            0,
            -12.850315620535195
           ]
          }
         ]
        },
        {
         "data": [
          {
           "type": "scatter",
           "x": [
            0,
            4.5388562156526095
           ],
           "y": [
            0,
            -11.995038533473567
           ]
          }
         ]
        },
        {
         "data": [
          {
           "type": "scatter",
           "x": [
            0,
            4.641612275995626
           ],
           "y": [
            0,
            -11.145687535120874
           ]
          }
         ]
        },
        {
         "data": [
          {
           "type": "scatter",
           "x": [
            0,
            4.737388079317512
           ],
           "y": [
            0,
            -10.304063801816145
           ]
          }
         ]
        },
        {
         "data": [
          {
           "type": "scatter",
           "x": [
            0,
            4.826267819009985
           ],
           "y": [
            0,
            -9.471929066879085
           ]
          }
         ]
        },
        {
         "data": [
          {
           "type": "scatter",
           "x": [
            0,
            4.908378078416917
           ],
           "y": [
            0,
            -8.650996677048651
           ]
          }
         ]
        },
        {
         "data": [
          {
           "type": "scatter",
           "x": [
            0,
            4.983889573282497
           ],
           "y": [
            0,
            -7.842921575626143
           ]
          }
         ]
        },
        {
         "data": [
          {
           "type": "scatter",
           "x": [
            0,
            5.05301807812773
           ],
           "y": [
            0,
            -7.04928912299114
           ]
          }
         ]
        },
        {
         "data": [
          {
           "type": "scatter",
           "x": [
            0,
            5.116024283469916
           ],
           "y": [
            0,
            -6.271602634904575
           ]
          }
         ]
        },
        {
         "data": [
          {
           "type": "scatter",
           "x": [
            0,
            5.173211606782611
           ],
           "y": [
            0,
            -5.5112697967260855
           ]
          }
         ]
        },
        {
         "data": [
          {
           "type": "scatter",
           "x": [
            0,
            5.224921194780925
           ],
           "y": [
            0,
            -4.7695882619841745
           ]
          }
         ]
        },
        {
         "data": [
          {
           "type": "scatter",
           "x": [
            0,
            5.271523025966753
           ],
           "y": [
            0,
            -4.047731458421693
           ]
          }
         ]
        }
       ],
       "layout": {
        "height": 800,
        "template": {
         "data": {
          "bar": [
           {
            "error_x": {
             "color": "#2a3f5f"
            },
            "error_y": {
             "color": "#2a3f5f"
            },
            "marker": {
             "line": {
              "color": "#E5ECF6",
              "width": 0.5
             },
             "pattern": {
              "fillmode": "overlay",
              "size": 10,
              "solidity": 0.2
             }
            },
            "type": "bar"
           }
          ],
          "barpolar": [
           {
            "marker": {
             "line": {
              "color": "#E5ECF6",
              "width": 0.5
             },
             "pattern": {
              "fillmode": "overlay",
              "size": 10,
              "solidity": 0.2
             }
            },
            "type": "barpolar"
           }
          ],
          "carpet": [
           {
            "aaxis": {
             "endlinecolor": "#2a3f5f",
             "gridcolor": "white",
             "linecolor": "white",
             "minorgridcolor": "white",
             "startlinecolor": "#2a3f5f"
            },
            "baxis": {
             "endlinecolor": "#2a3f5f",
             "gridcolor": "white",
             "linecolor": "white",
             "minorgridcolor": "white",
             "startlinecolor": "#2a3f5f"
            },
            "type": "carpet"
           }
          ],
          "choropleth": [
           {
            "colorbar": {
             "outlinewidth": 0,
             "ticks": ""
            },
            "type": "choropleth"
           }
          ],
          "contour": [
           {
            "colorbar": {
             "outlinewidth": 0,
             "ticks": ""
            },
            "colorscale": [
             [
              0,
              "#0d0887"
             ],
             [
              0.1111111111111111,
              "#46039f"
             ],
             [
              0.2222222222222222,
              "#7201a8"
             ],
             [
              0.3333333333333333,
              "#9c179e"
             ],
             [
              0.4444444444444444,
              "#bd3786"
             ],
             [
              0.5555555555555556,
              "#d8576b"
             ],
             [
              0.6666666666666666,
              "#ed7953"
             ],
             [
              0.7777777777777778,
              "#fb9f3a"
             ],
             [
              0.8888888888888888,
              "#fdca26"
             ],
             [
              1,
              "#f0f921"
             ]
            ],
            "type": "contour"
           }
          ],
          "contourcarpet": [
           {
            "colorbar": {
             "outlinewidth": 0,
             "ticks": ""
            },
            "type": "contourcarpet"
           }
          ],
          "heatmap": [
           {
            "colorbar": {
             "outlinewidth": 0,
             "ticks": ""
            },
            "colorscale": [
             [
              0,
              "#0d0887"
             ],
             [
              0.1111111111111111,
              "#46039f"
             ],
             [
              0.2222222222222222,
              "#7201a8"
             ],
             [
              0.3333333333333333,
              "#9c179e"
             ],
             [
              0.4444444444444444,
              "#bd3786"
             ],
             [
              0.5555555555555556,
              "#d8576b"
             ],
             [
              0.6666666666666666,
              "#ed7953"
             ],
             [
              0.7777777777777778,
              "#fb9f3a"
             ],
             [
              0.8888888888888888,
              "#fdca26"
             ],
             [
              1,
              "#f0f921"
             ]
            ],
            "type": "heatmap"
           }
          ],
          "heatmapgl": [
           {
            "colorbar": {
             "outlinewidth": 0,
             "ticks": ""
            },
            "colorscale": [
             [
              0,
              "#0d0887"
             ],
             [
              0.1111111111111111,
              "#46039f"
             ],
             [
              0.2222222222222222,
              "#7201a8"
             ],
             [
              0.3333333333333333,
              "#9c179e"
             ],
             [
              0.4444444444444444,
              "#bd3786"
             ],
             [
              0.5555555555555556,
              "#d8576b"
             ],
             [
              0.6666666666666666,
              "#ed7953"
             ],
             [
              0.7777777777777778,
              "#fb9f3a"
             ],
             [
              0.8888888888888888,
              "#fdca26"
             ],
             [
              1,
              "#f0f921"
             ]
            ],
            "type": "heatmapgl"
           }
          ],
          "histogram": [
           {
            "marker": {
             "pattern": {
              "fillmode": "overlay",
              "size": 10,
              "solidity": 0.2
             }
            },
            "type": "histogram"
           }
          ],
          "histogram2d": [
           {
            "colorbar": {
             "outlinewidth": 0,
             "ticks": ""
            },
            "colorscale": [
             [
              0,
              "#0d0887"
             ],
             [
              0.1111111111111111,
              "#46039f"
             ],
             [
              0.2222222222222222,
              "#7201a8"
             ],
             [
              0.3333333333333333,
              "#9c179e"
             ],
             [
              0.4444444444444444,
              "#bd3786"
             ],
             [
              0.5555555555555556,
              "#d8576b"
             ],
             [
              0.6666666666666666,
              "#ed7953"
             ],
             [
              0.7777777777777778,
              "#fb9f3a"
             ],
             [
              0.8888888888888888,
              "#fdca26"
             ],
             [
              1,
              "#f0f921"
             ]
            ],
            "type": "histogram2d"
           }
          ],
          "histogram2dcontour": [
           {
            "colorbar": {
             "outlinewidth": 0,
             "ticks": ""
            },
            "colorscale": [
             [
              0,
              "#0d0887"
             ],
             [
              0.1111111111111111,
              "#46039f"
             ],
             [
              0.2222222222222222,
              "#7201a8"
             ],
             [
              0.3333333333333333,
              "#9c179e"
             ],
             [
              0.4444444444444444,
              "#bd3786"
             ],
             [
              0.5555555555555556,
              "#d8576b"
             ],
             [
              0.6666666666666666,
              "#ed7953"
             ],
             [
              0.7777777777777778,
              "#fb9f3a"
             ],
             [
              0.8888888888888888,
              "#fdca26"
             ],
             [
              1,
              "#f0f921"
             ]
            ],
            "type": "histogram2dcontour"
           }
          ],
          "mesh3d": [
           {
            "colorbar": {
             "outlinewidth": 0,
             "ticks": ""
            },
            "type": "mesh3d"
           }
          ],
          "parcoords": [
           {
            "line": {
             "colorbar": {
              "outlinewidth": 0,
              "ticks": ""
             }
            },
            "type": "parcoords"
           }
          ],
          "pie": [
           {
            "automargin": true,
            "type": "pie"
           }
          ],
          "scatter": [
           {
            "marker": {
             "colorbar": {
              "outlinewidth": 0,
              "ticks": ""
             }
            },
            "type": "scatter"
           }
          ],
          "scatter3d": [
           {
            "line": {
             "colorbar": {
              "outlinewidth": 0,
              "ticks": ""
             }
            },
            "marker": {
             "colorbar": {
              "outlinewidth": 0,
              "ticks": ""
             }
            },
            "type": "scatter3d"
           }
          ],
          "scattercarpet": [
           {
            "marker": {
             "colorbar": {
              "outlinewidth": 0,
              "ticks": ""
             }
            },
            "type": "scattercarpet"
           }
          ],
          "scattergeo": [
           {
            "marker": {
             "colorbar": {
              "outlinewidth": 0,
              "ticks": ""
             }
            },
            "type": "scattergeo"
           }
          ],
          "scattergl": [
           {
            "marker": {
             "colorbar": {
              "outlinewidth": 0,
              "ticks": ""
             }
            },
            "type": "scattergl"
           }
          ],
          "scattermapbox": [
           {
            "marker": {
             "colorbar": {
              "outlinewidth": 0,
              "ticks": ""
             }
            },
            "type": "scattermapbox"
           }
          ],
          "scatterpolar": [
           {
            "marker": {
             "colorbar": {
              "outlinewidth": 0,
              "ticks": ""
             }
            },
            "type": "scatterpolar"
           }
          ],
          "scatterpolargl": [
           {
            "marker": {
             "colorbar": {
              "outlinewidth": 0,
              "ticks": ""
             }
            },
            "type": "scatterpolargl"
           }
          ],
          "scatterternary": [
           {
            "marker": {
             "colorbar": {
              "outlinewidth": 0,
              "ticks": ""
             }
            },
            "type": "scatterternary"
           }
          ],
          "surface": [
           {
            "colorbar": {
             "outlinewidth": 0,
             "ticks": ""
            },
            "colorscale": [
             [
              0,
              "#0d0887"
             ],
             [
              0.1111111111111111,
              "#46039f"
             ],
             [
              0.2222222222222222,
              "#7201a8"
             ],
             [
              0.3333333333333333,
              "#9c179e"
             ],
             [
              0.4444444444444444,
              "#bd3786"
             ],
             [
              0.5555555555555556,
              "#d8576b"
             ],
             [
              0.6666666666666666,
              "#ed7953"
             ],
             [
              0.7777777777777778,
              "#fb9f3a"
             ],
             [
              0.8888888888888888,
              "#fdca26"
             ],
             [
              1,
              "#f0f921"
             ]
            ],
            "type": "surface"
           }
          ],
          "table": [
           {
            "cells": {
             "fill": {
              "color": "#EBF0F8"
             },
             "line": {
              "color": "white"
             }
            },
            "header": {
             "fill": {
              "color": "#C8D4E3"
             },
             "line": {
              "color": "white"
             }
            },
            "type": "table"
           }
          ]
         },
         "layout": {
          "annotationdefaults": {
           "arrowcolor": "#2a3f5f",
           "arrowhead": 0,
           "arrowwidth": 1
          },
          "autotypenumbers": "strict",
          "coloraxis": {
           "colorbar": {
            "outlinewidth": 0,
            "ticks": ""
           }
          },
          "colorscale": {
           "diverging": [
            [
             0,
             "#8e0152"
            ],
            [
             0.1,
             "#c51b7d"
            ],
            [
             0.2,
             "#de77ae"
            ],
            [
             0.3,
             "#f1b6da"
            ],
            [
             0.4,
             "#fde0ef"
            ],
            [
             0.5,
             "#f7f7f7"
            ],
            [
             0.6,
             "#e6f5d0"
            ],
            [
             0.7,
             "#b8e186"
            ],
            [
             0.8,
             "#7fbc41"
            ],
            [
             0.9,
             "#4d9221"
            ],
            [
             1,
             "#276419"
            ]
           ],
           "sequential": [
            [
             0,
             "#0d0887"
            ],
            [
             0.1111111111111111,
             "#46039f"
            ],
            [
             0.2222222222222222,
             "#7201a8"
            ],
            [
             0.3333333333333333,
             "#9c179e"
            ],
            [
             0.4444444444444444,
             "#bd3786"
            ],
            [
             0.5555555555555556,
             "#d8576b"
            ],
            [
             0.6666666666666666,
             "#ed7953"
            ],
            [
             0.7777777777777778,
             "#fb9f3a"
            ],
            [
             0.8888888888888888,
             "#fdca26"
            ],
            [
             1,
             "#f0f921"
            ]
           ],
           "sequentialminus": [
            [
             0,
             "#0d0887"
            ],
            [
             0.1111111111111111,
             "#46039f"
            ],
            [
             0.2222222222222222,
             "#7201a8"
            ],
            [
             0.3333333333333333,
             "#9c179e"
            ],
            [
             0.4444444444444444,
             "#bd3786"
            ],
            [
             0.5555555555555556,
             "#d8576b"
            ],
            [
             0.6666666666666666,
             "#ed7953"
            ],
            [
             0.7777777777777778,
             "#fb9f3a"
            ],
            [
             0.8888888888888888,
             "#fdca26"
            ],
            [
             1,
             "#f0f921"
            ]
           ]
          },
          "colorway": [
           "#636efa",
           "#EF553B",
           "#00cc96",
           "#ab63fa",
           "#FFA15A",
           "#19d3f3",
           "#FF6692",
           "#B6E880",
           "#FF97FF",
           "#FECB52"
          ],
          "font": {
           "color": "#2a3f5f"
          },
          "geo": {
           "bgcolor": "white",
           "lakecolor": "white",
           "landcolor": "#E5ECF6",
           "showlakes": true,
           "showland": true,
           "subunitcolor": "white"
          },
          "hoverlabel": {
           "align": "left"
          },
          "hovermode": "closest",
          "mapbox": {
           "style": "light"
          },
          "paper_bgcolor": "white",
          "plot_bgcolor": "#E5ECF6",
          "polar": {
           "angularaxis": {
            "gridcolor": "white",
            "linecolor": "white",
            "ticks": ""
           },
           "bgcolor": "#E5ECF6",
           "radialaxis": {
            "gridcolor": "white",
            "linecolor": "white",
            "ticks": ""
           }
          },
          "scene": {
           "xaxis": {
            "backgroundcolor": "#E5ECF6",
            "gridcolor": "white",
            "gridwidth": 2,
            "linecolor": "white",
            "showbackground": true,
            "ticks": "",
            "zerolinecolor": "white"
           },
           "yaxis": {
            "backgroundcolor": "#E5ECF6",
            "gridcolor": "white",
            "gridwidth": 2,
            "linecolor": "white",
            "showbackground": true,
            "ticks": "",
            "zerolinecolor": "white"
           },
           "zaxis": {
            "backgroundcolor": "#E5ECF6",
            "gridcolor": "white",
            "gridwidth": 2,
            "linecolor": "white",
            "showbackground": true,
            "ticks": "",
            "zerolinecolor": "white"
           }
          },
          "shapedefaults": {
           "line": {
            "color": "#2a3f5f"
           }
          },
          "ternary": {
           "aaxis": {
            "gridcolor": "white",
            "linecolor": "white",
            "ticks": ""
           },
           "baxis": {
            "gridcolor": "white",
            "linecolor": "white",
            "ticks": ""
           },
           "bgcolor": "#E5ECF6",
           "caxis": {
            "gridcolor": "white",
            "linecolor": "white",
            "ticks": ""
           }
          },
          "title": {
           "x": 0.05
          },
          "xaxis": {
           "automargin": true,
           "gridcolor": "white",
           "linecolor": "white",
           "ticks": "",
           "title": {
            "standoff": 15
           },
           "zerolinecolor": "white",
           "zerolinewidth": 2
          },
          "yaxis": {
           "automargin": true,
           "gridcolor": "white",
           "linecolor": "white",
           "ticks": "",
           "title": {
            "standoff": 15
           },
           "zerolinecolor": "white",
           "zerolinewidth": 2
          }
         }
        },
        "title": {
         "text": "Springed Pendulum"
        },
        "updatemenus": [
         {
          "buttons": [
           {
            "args": [
             null,
             {
              "frame": {
               "duration": 50,
               "redraw": false
              },
              "fromcurrent": true,
              "transition": {
               "duration": 0.047619047619047616
              }
             }
            ],
            "label": "Play",
            "method": "animate"
           }
          ],
          "type": "buttons"
         }
        ],
        "width": 800,
        "xaxis": {
         "range": [
          -6.863807437068521,
          7.236519362914824
         ]
        },
        "yaxis": {
         "range": [
          -34.444288978822,
          7.1469610005395445
         ]
        }
       }
      },
      "text/html": [
       "<div>                            <div id=\"99e2ca13-f6bf-4290-a5cb-54c8ab6ab1a5\" class=\"plotly-graph-div\" style=\"height:800px; width:800px;\"></div>            <script type=\"text/javascript\">                require([\"plotly\"], function(Plotly) {                    window.PLOTLYENV=window.PLOTLYENV || {};                                    if (document.getElementById(\"99e2ca13-f6bf-4290-a5cb-54c8ab6ab1a5\")) {                    Plotly.newPlot(                        \"99e2ca13-f6bf-4290-a5cb-54c8ab6ab1a5\",                        [{\"type\":\"scatter\",\"x\":[0,7.347880794884119e-16],\"y\":[0,6.0]}],                        {\"height\":800,\"template\":{\"data\":{\"bar\":[{\"error_x\":{\"color\":\"#2a3f5f\"},\"error_y\":{\"color\":\"#2a3f5f\"},\"marker\":{\"line\":{\"color\":\"#E5ECF6\",\"width\":0.5},\"pattern\":{\"fillmode\":\"overlay\",\"size\":10,\"solidity\":0.2}},\"type\":\"bar\"}],\"barpolar\":[{\"marker\":{\"line\":{\"color\":\"#E5ECF6\",\"width\":0.5},\"pattern\":{\"fillmode\":\"overlay\",\"size\":10,\"solidity\":0.2}},\"type\":\"barpolar\"}],\"carpet\":[{\"aaxis\":{\"endlinecolor\":\"#2a3f5f\",\"gridcolor\":\"white\",\"linecolor\":\"white\",\"minorgridcolor\":\"white\",\"startlinecolor\":\"#2a3f5f\"},\"baxis\":{\"endlinecolor\":\"#2a3f5f\",\"gridcolor\":\"white\",\"linecolor\":\"white\",\"minorgridcolor\":\"white\",\"startlinecolor\":\"#2a3f5f\"},\"type\":\"carpet\"}],\"choropleth\":[{\"colorbar\":{\"outlinewidth\":0,\"ticks\":\"\"},\"type\":\"choropleth\"}],\"contour\":[{\"colorbar\":{\"outlinewidth\":0,\"ticks\":\"\"},\"colorscale\":[[0.0,\"#0d0887\"],[0.1111111111111111,\"#46039f\"],[0.2222222222222222,\"#7201a8\"],[0.3333333333333333,\"#9c179e\"],[0.4444444444444444,\"#bd3786\"],[0.5555555555555556,\"#d8576b\"],[0.6666666666666666,\"#ed7953\"],[0.7777777777777778,\"#fb9f3a\"],[0.8888888888888888,\"#fdca26\"],[1.0,\"#f0f921\"]],\"type\":\"contour\"}],\"contourcarpet\":[{\"colorbar\":{\"outlinewidth\":0,\"ticks\":\"\"},\"type\":\"contourcarpet\"}],\"heatmap\":[{\"colorbar\":{\"outlinewidth\":0,\"ticks\":\"\"},\"colorscale\":[[0.0,\"#0d0887\"],[0.1111111111111111,\"#46039f\"],[0.2222222222222222,\"#7201a8\"],[0.3333333333333333,\"#9c179e\"],[0.4444444444444444,\"#bd3786\"],[0.5555555555555556,\"#d8576b\"],[0.6666666666666666,\"#ed7953\"],[0.7777777777777778,\"#fb9f3a\"],[0.8888888888888888,\"#fdca26\"],[1.0,\"#f0f921\"]],\"type\":\"heatmap\"}],\"heatmapgl\":[{\"colorbar\":{\"outlinewidth\":0,\"ticks\":\"\"},\"colorscale\":[[0.0,\"#0d0887\"],[0.1111111111111111,\"#46039f\"],[0.2222222222222222,\"#7201a8\"],[0.3333333333333333,\"#9c179e\"],[0.4444444444444444,\"#bd3786\"],[0.5555555555555556,\"#d8576b\"],[0.6666666666666666,\"#ed7953\"],[0.7777777777777778,\"#fb9f3a\"],[0.8888888888888888,\"#fdca26\"],[1.0,\"#f0f921\"]],\"type\":\"heatmapgl\"}],\"histogram\":[{\"marker\":{\"pattern\":{\"fillmode\":\"overlay\",\"size\":10,\"solidity\":0.2}},\"type\":\"histogram\"}],\"histogram2d\":[{\"colorbar\":{\"outlinewidth\":0,\"ticks\":\"\"},\"colorscale\":[[0.0,\"#0d0887\"],[0.1111111111111111,\"#46039f\"],[0.2222222222222222,\"#7201a8\"],[0.3333333333333333,\"#9c179e\"],[0.4444444444444444,\"#bd3786\"],[0.5555555555555556,\"#d8576b\"],[0.6666666666666666,\"#ed7953\"],[0.7777777777777778,\"#fb9f3a\"],[0.8888888888888888,\"#fdca26\"],[1.0,\"#f0f921\"]],\"type\":\"histogram2d\"}],\"histogram2dcontour\":[{\"colorbar\":{\"outlinewidth\":0,\"ticks\":\"\"},\"colorscale\":[[0.0,\"#0d0887\"],[0.1111111111111111,\"#46039f\"],[0.2222222222222222,\"#7201a8\"],[0.3333333333333333,\"#9c179e\"],[0.4444444444444444,\"#bd3786\"],[0.5555555555555556,\"#d8576b\"],[0.6666666666666666,\"#ed7953\"],[0.7777777777777778,\"#fb9f3a\"],[0.8888888888888888,\"#fdca26\"],[1.0,\"#f0f921\"]],\"type\":\"histogram2dcontour\"}],\"mesh3d\":[{\"colorbar\":{\"outlinewidth\":0,\"ticks\":\"\"},\"type\":\"mesh3d\"}],\"parcoords\":[{\"line\":{\"colorbar\":{\"outlinewidth\":0,\"ticks\":\"\"}},\"type\":\"parcoords\"}],\"pie\":[{\"automargin\":true,\"type\":\"pie\"}],\"scatter\":[{\"marker\":{\"colorbar\":{\"outlinewidth\":0,\"ticks\":\"\"}},\"type\":\"scatter\"}],\"scatter3d\":[{\"line\":{\"colorbar\":{\"outlinewidth\":0,\"ticks\":\"\"}},\"marker\":{\"colorbar\":{\"outlinewidth\":0,\"ticks\":\"\"}},\"type\":\"scatter3d\"}],\"scattercarpet\":[{\"marker\":{\"colorbar\":{\"outlinewidth\":0,\"ticks\":\"\"}},\"type\":\"scattercarpet\"}],\"scattergeo\":[{\"marker\":{\"colorbar\":{\"outlinewidth\":0,\"ticks\":\"\"}},\"type\":\"scattergeo\"}],\"scattergl\":[{\"marker\":{\"colorbar\":{\"outlinewidth\":0,\"ticks\":\"\"}},\"type\":\"scattergl\"}],\"scattermapbox\":[{\"marker\":{\"colorbar\":{\"outlinewidth\":0,\"ticks\":\"\"}},\"type\":\"scattermapbox\"}],\"scatterpolar\":[{\"marker\":{\"colorbar\":{\"outlinewidth\":0,\"ticks\":\"\"}},\"type\":\"scatterpolar\"}],\"scatterpolargl\":[{\"marker\":{\"colorbar\":{\"outlinewidth\":0,\"ticks\":\"\"}},\"type\":\"scatterpolargl\"}],\"scatterternary\":[{\"marker\":{\"colorbar\":{\"outlinewidth\":0,\"ticks\":\"\"}},\"type\":\"scatterternary\"}],\"surface\":[{\"colorbar\":{\"outlinewidth\":0,\"ticks\":\"\"},\"colorscale\":[[0.0,\"#0d0887\"],[0.1111111111111111,\"#46039f\"],[0.2222222222222222,\"#7201a8\"],[0.3333333333333333,\"#9c179e\"],[0.4444444444444444,\"#bd3786\"],[0.5555555555555556,\"#d8576b\"],[0.6666666666666666,\"#ed7953\"],[0.7777777777777778,\"#fb9f3a\"],[0.8888888888888888,\"#fdca26\"],[1.0,\"#f0f921\"]],\"type\":\"surface\"}],\"table\":[{\"cells\":{\"fill\":{\"color\":\"#EBF0F8\"},\"line\":{\"color\":\"white\"}},\"header\":{\"fill\":{\"color\":\"#C8D4E3\"},\"line\":{\"color\":\"white\"}},\"type\":\"table\"}]},\"layout\":{\"annotationdefaults\":{\"arrowcolor\":\"#2a3f5f\",\"arrowhead\":0,\"arrowwidth\":1},\"autotypenumbers\":\"strict\",\"coloraxis\":{\"colorbar\":{\"outlinewidth\":0,\"ticks\":\"\"}},\"colorscale\":{\"diverging\":[[0,\"#8e0152\"],[0.1,\"#c51b7d\"],[0.2,\"#de77ae\"],[0.3,\"#f1b6da\"],[0.4,\"#fde0ef\"],[0.5,\"#f7f7f7\"],[0.6,\"#e6f5d0\"],[0.7,\"#b8e186\"],[0.8,\"#7fbc41\"],[0.9,\"#4d9221\"],[1,\"#276419\"]],\"sequential\":[[0.0,\"#0d0887\"],[0.1111111111111111,\"#46039f\"],[0.2222222222222222,\"#7201a8\"],[0.3333333333333333,\"#9c179e\"],[0.4444444444444444,\"#bd3786\"],[0.5555555555555556,\"#d8576b\"],[0.6666666666666666,\"#ed7953\"],[0.7777777777777778,\"#fb9f3a\"],[0.8888888888888888,\"#fdca26\"],[1.0,\"#f0f921\"]],\"sequentialminus\":[[0.0,\"#0d0887\"],[0.1111111111111111,\"#46039f\"],[0.2222222222222222,\"#7201a8\"],[0.3333333333333333,\"#9c179e\"],[0.4444444444444444,\"#bd3786\"],[0.5555555555555556,\"#d8576b\"],[0.6666666666666666,\"#ed7953\"],[0.7777777777777778,\"#fb9f3a\"],[0.8888888888888888,\"#fdca26\"],[1.0,\"#f0f921\"]]},\"colorway\":[\"#636efa\",\"#EF553B\",\"#00cc96\",\"#ab63fa\",\"#FFA15A\",\"#19d3f3\",\"#FF6692\",\"#B6E880\",\"#FF97FF\",\"#FECB52\"],\"font\":{\"color\":\"#2a3f5f\"},\"geo\":{\"bgcolor\":\"white\",\"lakecolor\":\"white\",\"landcolor\":\"#E5ECF6\",\"showlakes\":true,\"showland\":true,\"subunitcolor\":\"white\"},\"hoverlabel\":{\"align\":\"left\"},\"hovermode\":\"closest\",\"mapbox\":{\"style\":\"light\"},\"paper_bgcolor\":\"white\",\"plot_bgcolor\":\"#E5ECF6\",\"polar\":{\"angularaxis\":{\"gridcolor\":\"white\",\"linecolor\":\"white\",\"ticks\":\"\"},\"bgcolor\":\"#E5ECF6\",\"radialaxis\":{\"gridcolor\":\"white\",\"linecolor\":\"white\",\"ticks\":\"\"}},\"scene\":{\"xaxis\":{\"backgroundcolor\":\"#E5ECF6\",\"gridcolor\":\"white\",\"gridwidth\":2,\"linecolor\":\"white\",\"showbackground\":true,\"ticks\":\"\",\"zerolinecolor\":\"white\"},\"yaxis\":{\"backgroundcolor\":\"#E5ECF6\",\"gridcolor\":\"white\",\"gridwidth\":2,\"linecolor\":\"white\",\"showbackground\":true,\"ticks\":\"\",\"zerolinecolor\":\"white\"},\"zaxis\":{\"backgroundcolor\":\"#E5ECF6\",\"gridcolor\":\"white\",\"gridwidth\":2,\"linecolor\":\"white\",\"showbackground\":true,\"ticks\":\"\",\"zerolinecolor\":\"white\"}},\"shapedefaults\":{\"line\":{\"color\":\"#2a3f5f\"}},\"ternary\":{\"aaxis\":{\"gridcolor\":\"white\",\"linecolor\":\"white\",\"ticks\":\"\"},\"baxis\":{\"gridcolor\":\"white\",\"linecolor\":\"white\",\"ticks\":\"\"},\"bgcolor\":\"#E5ECF6\",\"caxis\":{\"gridcolor\":\"white\",\"linecolor\":\"white\",\"ticks\":\"\"}},\"title\":{\"x\":0.05},\"xaxis\":{\"automargin\":true,\"gridcolor\":\"white\",\"linecolor\":\"white\",\"ticks\":\"\",\"title\":{\"standoff\":15},\"zerolinecolor\":\"white\",\"zerolinewidth\":2},\"yaxis\":{\"automargin\":true,\"gridcolor\":\"white\",\"linecolor\":\"white\",\"ticks\":\"\",\"title\":{\"standoff\":15},\"zerolinecolor\":\"white\",\"zerolinewidth\":2}}},\"title\":{\"text\":\"Springed Pendulum\"},\"updatemenus\":[{\"buttons\":[{\"args\":[null,{\"frame\":{\"duration\":50,\"redraw\":false},\"fromcurrent\":true,\"transition\":{\"duration\":0.047619047619047616}}],\"label\":\"Play\",\"method\":\"animate\"}],\"type\":\"buttons\"}],\"width\":800,\"xaxis\":{\"range\":[-6.863807437068521,7.236519362914824]},\"yaxis\":{\"range\":[-34.444288978822,7.1469610005395445]}},                        {\"responsive\": true}                    ).then(function(){\n",
       "                            Plotly.addFrames('99e2ca13-f6bf-4290-a5cb-54c8ab6ab1a5', [{\"data\":[{\"type\":\"scatter\",\"x\":[0,-0.1499812403337212],\"y\":[0,6.000496860283892]}]},{\"data\":[{\"type\":\"scatter\",\"x\":[0,-0.29985004304075863],\"y\":[0,5.971994757620563]}]},{\"data\":[{\"type\":\"scatter\",\"x\":[0,-0.44949589954848873],\"y\":[0,5.914549269786271]}]},{\"data\":[{\"type\":\"scatter\",\"x\":[0,-0.5988130624709392],\"y\":[0,5.8282750146918465]}]},{\"data\":[{\"type\":\"scatter\",\"x\":[0,-0.7477036679427969],\"y\":[0,5.713344745098269]}]},{\"data\":[{\"type\":\"scatter\",\"x\":[0,-0.8960810394548299],\"y\":[0,5.569987922663279]}]},{\"data\":[{\"type\":\"scatter\",\"x\":[0,-1.0438733045124677],\"y\":[0,5.398488717624295]}]},{\"data\":[{\"type\":\"scatter\",\"x\":[0,-1.191027418077355],\"y\":[0,5.199183274946621]}]},{\"data\":[{\"type\":\"scatter\",\"x\":[0,-1.3375137565189459],\"y\":[0,4.972456067671371]}]},{\"data\":[{\"type\":\"scatter\",\"x\":[0,-1.4833313300423692],\"y\":[0,4.718735018453657]}]},{\"data\":[{\"type\":\"scatter\",\"x\":[0,-1.6285137800870704],\"y\":[0,4.438484991496644]}]},{\"data\":[{\"type\":\"scatter\",\"x\":[0,-1.7731362416479632],\"y\":[0,4.13219900275425]}]},{\"data\":[{\"type\":\"scatter\",\"x\":[0,-1.9173228632939316],\"y\":[0,3.80038635589988]}]},{\"data\":[{\"type\":\"scatter\",\"x\":[0,-2.0612547305924607],\"y\":[0,3.443556401935888]}]},{\"data\":[{\"type\":\"scatter\",\"x\":[0,-2.2051769175431084],\"y\":[0,3.0621965151329578]}]},{\"data\":[{\"type\":\"scatter\",\"x\":[0,-2.34940230330831],\"y\":[0,2.6567427094709166]}]},{\"data\":[{\"type\":\"scatter\",\"x\":[0,-2.4943075746728374],\"y\":[0,2.227542157816517]}]},{\"data\":[{\"type\":\"scatter\",\"x\":[0,-2.6403138723742874],\"y\":[0,1.774809905163489]}]},{\"data\":[{\"type\":\"scatter\",\"x\":[0,-2.7878429956445374],\"y\":[0,1.2985888388529176]}]},{\"data\":[{\"type\":\"scatter\",\"x\":[0,-2.9372438534777716],\"y\":[0,0.7987321372298034]}]},{\"data\":[{\"type\":\"scatter\",\"x\":[0,-3.088699378406242],\"y\":[0,0.274933784125085]}]},{\"data\":[{\"type\":\"scatter\",\"x\":[0,-3.2421461839824333],\"y\":[0,-0.2731797393936825]}]},{\"data\":[{\"type\":\"scatter\",\"x\":[0,-3.3972460047199458],\"y\":[0,-0.8459181866292635]}]},{\"data\":[{\"type\":\"scatter\",\"x\":[0,-3.553421809171356],\"y\":[0,-1.4434058363345308]}]},{\"data\":[{\"type\":\"scatter\",\"x\":[0,-3.7099341351512507],\"y\":[0,-2.0655096359894736]}]},{\"data\":[{\"type\":\"scatter\",\"x\":[0,-3.8659610276133085],\"y\":[0,-2.7118226852061365]}]},{\"data\":[{\"type\":\"scatter\",\"x\":[0,-4.020659104717807],\"y\":[0,-3.381684301714031]}]},{\"data\":[{\"type\":\"scatter\",\"x\":[0,-4.17320154492994],\"y\":[0,-4.074215094163702]}]},{\"data\":[{\"type\":\"scatter\",\"x\":[0,-4.322797972393426],\"y\":[0,-4.788353610421495]}]},{\"data\":[{\"type\":\"scatter\",\"x\":[0,-4.468702984496171],\"y\":[0,-5.522888525827079]}]},{\"data\":[{\"type\":\"scatter\",\"x\":[0,-4.610218391278734],\"y\":[0,-6.276485023106228]}]},{\"data\":[{\"type\":\"scatter\",\"x\":[0,-4.746692386431195],\"y\":[0,-7.047705853303479]}]},{\"data\":[{\"type\":\"scatter\",\"x\":[0,-4.877517394969531],\"y\":[0,-7.8350281733181]}]},{\"data\":[{\"type\":\"scatter\",\"x\":[0,-5.0021276649040916],\"y\":[0,-8.636857097524526]}]},{\"data\":[{\"type\":\"scatter\",\"x\":[0,-5.119996819696754],\"y\":[0,-9.451536948044827]}]},{\"data\":[{\"type\":\"scatter\",\"x\":[0,-5.230635747031723],\"y\":[0,-10.277360745392366]}]},{\"data\":[{\"type\":\"scatter\",\"x\":[0,-5.333590804747245],\"y\":[0,-11.112578443990703]}]},{\"data\":[{\"type\":\"scatter\",\"x\":[0,-5.428442325305468],\"y\":[0,-11.9554042573381]}]},{\"data\":[{\"type\":\"scatter\",\"x\":[0,-5.514803411218833],\"y\":[0,-12.80402330717144]}]},{\"data\":[{\"type\":\"scatter\",\"x\":[0,-5.592318965969521],\"y\":[0,-13.656597772429347]}]},{\"data\":[{\"type\":\"scatter\",\"x\":[0,-5.6606649150375805],\"y\":[0,-14.511272662333253]}]},{\"data\":[{\"type\":\"scatter\",\"x\":[0,-5.7195476015583715],\"y\":[0,-15.366181298724193]}]},{\"data\":[{\"type\":\"scatter\",\"x\":[0,-5.768703285329807],\"y\":[0,-16.219450571941536]}]},{\"data\":[{\"type\":\"scatter\",\"x\":[0,-5.807897737602228],\"y\":[0,-17.069206016995835]}]},{\"data\":[{\"type\":\"scatter\",\"x\":[0,-5.836925908565113],\"y\":[0,-17.913576736075623]}]},{\"data\":[{\"type\":\"scatter\",\"x\":[0,-5.855611645413609],\"y\":[0,-18.75070019047229]}]},{\"data\":[{\"type\":\"scatter\",\"x\":[0,-5.863807437068521],\"y\":[0,-19.578726876178564]}]},{\"data\":[{\"type\":\"scatter\",\"x\":[0,-5.861394177898681],\"y\":[0,-20.395824890774353]}]},{\"data\":[{\"type\":\"scatter\",\"x\":[0,-5.848280935220944],\"y\":[0,-21.200184397158534]}]},{\"data\":[{\"type\":\"scatter\",\"x\":[0,-5.824404705199247],\"y\":[0,-21.9900219864718]}]},{\"data\":[{\"type\":\"scatter\",\"x\":[0,-5.789730190970372],\"y\":[0,-22.763584932318206]}]},{\"data\":[{\"type\":\"scatter\",\"x\":[0,-5.744249490504002],\"y\":[0,-23.519155352998304]}]},{\"data\":[{\"type\":\"scatter\",\"x\":[0,-5.687981829100859],\"y\":[0,-24.255054252821168]}]},{\"data\":[{\"type\":\"scatter\",\"x\":[0,-5.620973233505243],\"y\":[0,-24.96964545750318]}]},{\"data\":[{\"type\":\"scatter\",\"x\":[0,-5.5432961676935415],\"y\":[0,-25.66133943260858]}]},{\"data\":[{\"type\":\"scatter\",\"x\":[0,-5.45504914536787],\"y\":[0,-26.328596975103576]}]},{\"data\":[{\"type\":\"scatter\",\"x\":[0,-5.35635629868878],\"y\":[0,-26.969932782030316]}]},{\"data\":[{\"type\":\"scatter\",\"x\":[0,-5.247366904439932],\"y\":[0,-27.58391888034515]}]},{\"data\":[{\"type\":\"scatter\",\"x\":[0,-5.128254874298668],\"y\":[0,-28.169187919059127]}]},{\"data\":[{\"type\":\"scatter\",\"x\":[0,-4.999218200920064],\"y\":[0,-28.724436314849502]}]},{\"data\":[{\"type\":\"scatter\",\"x\":[0,-4.860478355122114],\"y\":[0,-29.248427245853584]}]},{\"data\":[{\"type\":\"scatter\",\"x\":[0,-4.712279661246353],\"y\":[0,-29.73999348593998]}]},{\"data\":[{\"type\":\"scatter\",\"x\":[0,-4.554888597898688],\"y\":[0,-30.198040079732134]}]},{\"data\":[{\"type\":\"scatter\",\"x\":[0,-4.388593084266562],\"y\":[0,-30.621546846094876]}]},{\"data\":[{\"type\":\"scatter\",\"x\":[0,-4.213701697821618],\"y\":[0,-31.00957071002195]}]},{\"data\":[{\"type\":\"scatter\",\"x\":[0,-4.0305428908239],\"y\":[0,-31.361247853401196]}]},{\"data\":[{\"type\":\"scatter\",\"x\":[0,-3.8394641154483136],\"y\":[0,-31.675795689071318]}]},{\"data\":[{\"type\":\"scatter\",\"x\":[0,-3.6408309552863964],\"y\":[0,-31.952514642256265]}]},{\"data\":[{\"type\":\"scatter\",\"x\":[0,-3.435026192251819],\"y\":[0,-32.19078974376754]}]},{\"data\":[{\"type\":\"scatter\",\"x\":[0,-3.2224488438528716],\"y\":[0,-32.390092031242006]}]},{\"data\":[{\"type\":\"scatter\",\"x\":[0,-3.003513171293623],\"y\":[0,-32.54997975197311]}]},{\"data\":[{\"type\":\"scatter\",\"x\":[0,-2.7786476415777166],\"y\":[0,-32.67009936638905]}]},{\"data\":[{\"type\":\"scatter\",\"x\":[0,-2.5482938718644608],\"y\":[0,-32.75018635077614]}]},{\"data\":[{\"type\":\"scatter\",\"x\":[0,-2.3129055327424424],\"y\":[0,-32.790065797293664]}]},{\"data\":[{\"type\":\"scatter\",\"x\":[0,-2.0729472295226095],\"y\":[0,-32.78965280853507]}]},{\"data\":[{\"type\":\"scatter\",\"x\":[0,-1.8288933567987165],\"y\":[0,-32.74895268696098]}]},{\"data\":[{\"type\":\"scatter\",\"x\":[0,-1.581226923033707],\"y\":[0,-32.66806091927476]}]},{\"data\":[{\"type\":\"scatter\",\"x\":[0,-1.330438363179391],\"y\":[0,-32.54716295364919]}]},{\"data\":[{\"type\":\"scatter\",\"x\":[0,-1.0770243199354574],\"y\":[0,-32.386533772226386]}]},{\"data\":[{\"type\":\"scatter\",\"x\":[0,-0.8214864155005568],\"y\":[0,-32.18653725830792]}]},{\"data\":[{\"type\":\"scatter\",\"x\":[0,-0.5643300016720234],\"y\":[0,-31.947625360085198]}]},{\"data\":[{\"type\":\"scatter\",\"x\":[0,-0.3060628980448482],\"y\":[0,-31.67033705221725]}]},{\"data\":[{\"type\":\"scatter\",\"x\":[0,-0.04719411554377258],\"y\":[0,-31.355297097549425]}]},{\"data\":[{\"type\":\"scatter\",\"x\":[0,0.21176742466915915],\"y\":[0,-31.00321460987514]}]},{\"data\":[{\"type\":\"scatter\",\"x\":[0,0.470314200499953],\"y\":[0,-30.614881424901164]}]},{\"data\":[{\"type\":\"scatter\",\"x\":[0,0.7279413457349799],\"y\":[0,-30.19117027011014]}]},{\"data\":[{\"type\":\"scatter\",\"x\":[0,0.9841480244716567],\"y\":[0,-29.733032762236135]}]},{\"data\":[{\"type\":\"scatter\",\"x\":[0,1.2384386534113143],\"y\":[0,-29.241497198012976]}]},{\"data\":[{\"type\":\"scatter\",\"x\":[0,1.4903242911526629],\"y\":[0,-28.71766618559431]}]},{\"data\":[{\"type\":\"scatter\",\"x\":[0,1.739323929482381],\"y\":[0,-28.16271408495255]}]},{\"data\":[{\"type\":\"scatter\",\"x\":[0,1.984965732861173],\"y\":[0,-27.577884271953373]}]},{\"data\":[{\"type\":\"scatter\",\"x\":[0,2.2267885243690517],\"y\":[0,-26.964486257175757]}]},{\"data\":[{\"type\":\"scatter\",\"x\":[0,2.464342829142192],\"y\":[0,-26.32389259987999]}]},{\"data\":[{\"type\":\"scatter\",\"x\":[0,2.697192496524916],\"y\":[0,-25.657535712773143]}]},{\"data\":[{\"type\":\"scatter\",\"x\":[0,2.9249157262749126],\"y\":[0,-24.966904461785077]}]},{\"data\":[{\"type\":\"scatter\",\"x\":[0,3.147106514652294],\"y\":[0,-24.25354064818642]}]},{\"data\":[{\"type\":\"scatter\",\"x\":[0,3.3633759000382195],\"y\":[0,-23.519035328411082]}]},{\"data\":[{\"type\":\"scatter\",\"x\":[0,3.573353481645652],\"y\":[0,-22.765024999413875]}]},{\"data\":[{\"type\":\"scatter\",\"x\":[0,3.7766883870718306],\"y\":[0,-21.993187613560963]}]},{\"data\":[{\"type\":\"scatter\",\"x\":[0,3.9730508127815902],\"y\":[0,-21.20523848471046]}]},{\"data\":[{\"type\":\"scatter\",\"x\":[0,4.162133262366628],\"y\":[0,-20.402926035237]}]},{\"data\":[{\"type\":\"scatter\",\"x\":[0,4.343651910070424],\"y\":[0,-19.588027403006713]}]},{\"data\":[{\"type\":\"scatter\",\"x\":[0,4.51734798206675],\"y\":[0,-18.762343899145847]}]},{\"data\":[{\"type\":\"scatter\",\"x\":[0,4.682989035316717],\"y\":[0,-17.927696311204432]}]},{\"data\":[{\"type\":\"scatter\",\"x\":[0,4.840370368612558],\"y\":[0,-17.085920033372343]}]},{\"data\":[{\"type\":\"scatter\",\"x\":[0,4.989316521557571],\"y\":[0,-16.23886003517684]}]},{\"data\":[{\"type\":\"scatter\",\"x\":[0,5.129682593346092],\"y\":[0,-15.388365590962456]}]},{\"data\":[{\"type\":\"scatter\",\"x\":[0,5.261355836717402],\"y\":[0,-14.536284882340523]}]},{\"data\":[{\"type\":\"scatter\",\"x\":[0,5.384256983563498],\"y\":[0,-13.684459178771084]}]},{\"data\":[{\"type\":\"scatter\",\"x\":[0,5.498341800627159],\"y\":[0,-12.834716902840087]}]},{\"data\":[{\"type\":\"scatter\",\"x\":[0,5.603602530334287],\"y\":[0,-11.988867188506783]}]},{\"data\":[{\"type\":\"scatter\",\"x\":[0,5.7000693108418075],\"y\":[0,-11.14869309936841]}]},{\"data\":[{\"type\":\"scatter\",\"x\":[0,5.787811305486639],\"y\":[0,-10.315944413392552]}]},{\"data\":[{\"type\":\"scatter\",\"x\":[0,5.866937843969725],\"y\":[0,-9.49232975861733]}]},{\"data\":[{\"type\":\"scatter\",\"x\":[0,5.937598943941889],\"y\":[0,-8.6795082196229]}]},{\"data\":[{\"type\":\"scatter\",\"x\":[0,5.999985314476732],\"y\":[0,-7.87908027851519]}]},{\"data\":[{\"type\":\"scatter\",\"x\":[0,6.054327468064119],\"y\":[0,-7.092578111437436]}]},{\"data\":[{\"type\":\"scatter\",\"x\":[0,6.100893417411488],\"y\":[0,-6.321455439222393]}]},{\"data\":[{\"type\":\"scatter\",\"x\":[0,6.139984668699408],\"y\":[0,-5.567077147991643]}]},{\"data\":[{\"type\":\"scatter\",\"x\":[0,6.171929944061688],\"y\":[0,-4.830709202418106]}]},{\"data\":[{\"type\":\"scatter\",\"x\":[0,6.197076222284801],\"y\":[0,-4.113509698678118]}]},{\"data\":[{\"type\":\"scatter\",\"x\":[0,6.215776854164845],\"y\":[0,-3.4165222699532904]}]},{\"data\":[{\"type\":\"scatter\",\"x\":[0,6.22837706431984],\"y\":[0,-2.7406731748546562]}]},{\"data\":[{\"type\":\"scatter\",\"x\":[0,6.235197763583681],\"y\":[0,-2.086773463170881]}]},{\"data\":[{\"type\":\"scatter\",\"x\":[0,6.236519362914824],\"y\":[0,-1.45552710683118]}]},{\"data\":[{\"type\":\"scatter\",\"x\":[0,6.232567851884566],\"y\":[0,-0.8475451333934215]}]},{\"data\":[{\"type\":\"scatter\",\"x\":[0,6.2235052956821475],\"y\":[0,-0.2633644878061741]}]},{\"data\":[{\"type\":\"scatter\",\"x\":[0,6.209426369959153],\"y\":[0,0.2965308878521102]}]},{\"data\":[{\"type\":\"scatter\",\"x\":[0,6.190361268417699],\"y\":[0,0.8316895995287438]}]},{\"data\":[{\"type\":\"scatter\",\"x\":[0,6.166284000698466],\"y\":[0,1.3416756055909302]}]},{\"data\":[{\"type\":\"scatter\",\"x\":[0,6.137124253975414],\"y\":[0,1.8260559399362997]}]},{\"data\":[{\"type\":\"scatter\",\"x\":[0,6.102780746346993],\"y\":[0,2.284393796991726]}]},{\"data\":[{\"type\":\"scatter\",\"x\":[0,6.063134329554234],\"y\":[0,2.7162464967048465]}]},{\"data\":[{\"type\":\"scatter\",\"x\":[0,6.018059617357671],\"y\":[0,3.121167225945528]}]},{\"data\":[{\"type\":\"scatter\",\"x\":[0,5.967434630438754],\"y\":[0,3.4987094016112525]}]},{\"data\":[{\"type\":\"scatter\",\"x\":[0,5.911148268402382],\"y\":[0,3.8484325439524096]}]},{\"data\":[{\"type\":\"scatter\",\"x\":[0,5.849105920680682],\"y\":[0,4.169908753552731]}]},{\"data\":[{\"type\":\"scatter\",\"x\":[0,5.781233361999934],\"y\":[0,4.46272927668374]}]},{\"data\":[{\"type\":\"scatter\",\"x\":[0,5.707479388313015],\"y\":[0,4.726510748434729]}]},{\"data\":[{\"type\":\"scatter\",\"x\":[0,5.627817432955258],\"y\":[0,4.9609009273955245]}]},{\"data\":[{\"type\":\"scatter\",\"x\":[0,5.542246460522528],\"y\":[0,5.165583823647071]}]},{\"data\":[{\"type\":\"scatter\",\"x\":[0,5.450791345268692],\"y\":[0,5.340284185626669]}]},{\"data\":[{\"type\":\"scatter\",\"x\":[0,5.353502888524461],\"y\":[0,5.484771364156838]}]},{\"data\":[{\"type\":\"scatter\",\"x\":[0,5.250457584885536],\"y\":[0,5.598862596255156]}]},{\"data\":[{\"type\":\"scatter\",\"x\":[0,5.141757244860723],\"y\":[0,5.682425739693947]}]},{\"data\":[{\"type\":\"scatter\",\"x\":[0,5.027528533853574],\"y\":[0,5.735381501808857]}]},{\"data\":[{\"type\":\"scatter\",\"x\":[0,4.907922473023906],\"y\":[0,5.7577052059028055]}]},{\"data\":[{\"type\":\"scatter\",\"x\":[0,4.783113950230324],\"y\":[0,5.7494281184980105]}]},{\"data\":[{\"type\":\"scatter\",\"x\":[0,4.653301263180507],\"y\":[0,5.71063837198522]}]},{\"data\":[{\"type\":\"scatter\",\"x\":[0,4.518705740389603],\"y\":[0,5.641481487021767]}]},{\"data\":[{\"type\":\"scatter\",\"x\":[0,4.379571460994686],\"y\":[0,5.542160507931994]}]},{\"data\":[{\"type\":\"scatter\",\"x\":[0,4.236165116669899],\"y\":[0,5.412935737271521]}]},{\"data\":[{\"type\":\"scatter\",\"x\":[0,4.088776050139739],\"y\":[0,5.254124058597416]}]},{\"data\":[{\"type\":\"scatter\",\"x\":[0,3.937716543219944],\"y\":[0,5.0660977934526805]}]},{\"data\":[{\"type\":\"scatter\",\"x\":[0,3.7833224297208448],\"y\":[0,4.849283026796621]}]},{\"data\":[{\"type\":\"scatter\",\"x\":[0,3.625954103296095],\"y\":[0,4.604157306839894]}]},{\"data\":[{\"type\":\"scatter\",\"x\":[0,3.465998116025065],\"y\":[0,4.331246517323686]}]},{\"data\":[{\"type\":\"scatter\",\"x\":[0,3.303869527409776],\"y\":[0,4.031120670878791]}]},{\"data\":[{\"type\":\"scatter\",\"x\":[0,3.14001528679123],\"y\":[0,3.704388179853909]}]},{\"data\":[{\"type\":\"scatter\",\"x\":[0,2.974919069156233],\"y\":[0,3.351687870715724]}]},{\"data\":[{\"type\":\"scatter\",\"x\":[0,2.809108046807047],\"y\":[0,2.9736775554256187]}]},{\"data\":[{\"type\":\"scatter\",\"x\":[0,2.6431623246038862],\"y\":[0,2.571017034439855]}]},{\"data\":[{\"type\":\"scatter\",\"x\":[0,2.4777276719193915],\"y\":[0,2.1443417833113148]}]},{\"data\":[{\"type\":\"scatter\",\"x\":[0,2.3135317218101825],\"y\":[0,1.6942204546702895]}]},{\"data\":[{\"type\":\"scatter\",\"x\":[0,2.1514004823374866],\"y\":[0,1.2210839717255668]}]},{\"data\":[{\"type\":\"scatter\",\"x\":[0,1.9922611458051998],\"y\":[0,0.7251063098651451]}]},{\"data\":[{\"type\":\"scatter\",\"x\":[0,1.837085096095383],\"y\":[0,0.20601954569956182]}]},{\"data\":[{\"type\":\"scatter\",\"x\":[0,1.6866681457699928],\"y\":[0,-0.3370841644797431]}]},{\"data\":[{\"type\":\"scatter\",\"x\":[0,1.5411976833347916],\"y\":[0,-0.9056918702754799]}]},{\"data\":[{\"type\":\"scatter\",\"x\":[0,1.3999708873012418],\"y\":[0,-1.5012480286683865]}]},{\"data\":[{\"type\":\"scatter\",\"x\":[0,1.2617403996455328],\"y\":[0,-2.124429548996861]}]},{\"data\":[{\"type\":\"scatter\",\"x\":[0,1.1252949410769792],\"y\":[0,-2.775018360407785]}]},{\"data\":[{\"type\":\"scatter\",\"x\":[0,0.989725654141416],\"y\":[0,-3.4521750160083156]}]},{\"data\":[{\"type\":\"scatter\",\"x\":[0,0.8544292514822931],\"y\":[0,-4.154699022228726]}]},{\"data\":[{\"type\":\"scatter\",\"x\":[0,0.7190371023255798],\"y\":[0,-4.881179810069937]}]},{\"data\":[{\"type\":\"scatter\",\"x\":[0,0.5833484987492122],\"y\":[0,-5.630074366925399]}]},{\"data\":[{\"type\":\"scatter\",\"x\":[0,0.44728193800051985],\"y\":[0,-6.39974762323794]}]},{\"data\":[{\"type\":\"scatter\",\"x\":[0,0.3108416344717147],\"y\":[0,-7.188494943063975]}]},{\"data\":[{\"type\":\"scatter\",\"x\":[0,0.17409460168677757],\"y\":[0,-7.994555906263231]}]},{\"data\":[{\"type\":\"scatter\",\"x\":[0,0.0371547231575329],\"y\":[0,-8.816123731091487]}]},{\"data\":[{\"type\":\"scatter\",\"x\":[0,-0.09982856730178277],\"y\":[0,-9.651352436113761]}]},{\"data\":[{\"type\":\"scatter\",\"x\":[0,-0.23667858382244408],\"y\":[0,-10.498362793194369]}]},{\"data\":[{\"type\":\"scatter\",\"x\":[0,-0.37319756937017134],\"y\":[0,-11.355247633680312]}]},{\"data\":[{\"type\":\"scatter\",\"x\":[0,-0.5091714498531266],\"y\":[0,-12.220076790112907]}]},{\"data\":[{\"type\":\"scatter\",\"x\":[0,-0.6443735788144385],\"y\":[0,-13.090901836272703]}]},{\"data\":[{\"type\":\"scatter\",\"x\":[0,-0.7785677546346057],\"y\":[0,-13.965760714594513]}]},{\"data\":[{\"type\":\"scatter\",\"x\":[0,-0.9115106949008768],\"y\":[0,-14.842682300372536]}]},{\"data\":[{\"type\":\"scatter\",\"x\":[0,-1.0429541338196149],\"y\":[0,-15.71969092416299]}]},{\"data\":[{\"type\":\"scatter\",\"x\":[0,-1.1726466031625362],\"y\":[0,-16.594810868947356]}]},{\"data\":[{\"type\":\"scatter\",\"x\":[0,-1.3003349846662573],\"y\":[0,-17.466070842924474]}]},{\"data\":[{\"type\":\"scatter\",\"x\":[0,-1.4257658868592382],\"y\":[0,-18.331508426558624]}]},{\"data\":[{\"type\":\"scatter\",\"x\":[0,-1.5486868746551792],\"y\":[0,-19.189174490528483]}]},{\"data\":[{\"type\":\"scatter\",\"x\":[0,-1.6688475754439889],\"y\":[0,-20.037137578623458]}]},{\"data\":[{\"type\":\"scatter\",\"x\":[0,-1.7860007061745333],\"y\":[0,-20.873488245299633]}]},{\"data\":[{\"type\":\"scatter\",\"x\":[0,-1.8999030068746943],\"y\":[0,-21.69634334318701]}]},{\"data\":[{\"type\":\"scatter\",\"x\":[0,-2.010316106895377],\"y\":[0,-22.503850250403087]}]},{\"data\":[{\"type\":\"scatter\",\"x\":[0,-2.1170073338108417],\"y\":[0,-23.294191028298773]}]},{\"data\":[{\"type\":\"scatter\",\"x\":[0,-2.2197504656495304],\"y\":[0,-24.06558650185404]}]},{\"data\":[{\"type\":\"scatter\",\"x\":[0,-2.3183264398780987],\"y\":[0,-24.81630025241939]}]},{\"data\":[{\"type\":\"scatter\",\"x\":[0,-2.412524014542802],\"y\":[0,-25.54464251531016]}]},{\"data\":[{\"type\":\"scatter\",\"x\":[0,-2.5021403903099397],\"y\":[0,-26.2489739726744]}]},{\"data\":[{\"type\":\"scatter\",\"x\":[0,-2.586981784420891],\"y\":[0,-26.927709434632447]}]},{\"data\":[{\"type\":\"scatter\",\"x\":[0,-2.6668639859569256],\"y\":[0,-27.579321396903683]}]},{\"data\":[{\"type\":\"scatter\",\"x\":[0,-2.741612863421276],\"y\":[0,-28.20234347070121]}]},{\"data\":[{\"type\":\"scatter\",\"x\":[0,-2.811064832517352],\"y\":[0,-28.795373676297586]}]},{\"data\":[{\"type\":\"scatter\",\"x\":[0,-2.8750672965604496],\"y\":[0,-29.357077591308098]}]},{\"data\":[{\"type\":\"scatter\",\"x\":[0,-2.9334790520614518],\"y\":[0,-29.886191347583075]}]},{\"data\":[{\"type\":\"scatter\",\"x\":[0,-2.9861706580715097],\"y\":[0,-30.381524470163207]}]},{\"data\":[{\"type\":\"scatter\",\"x\":[0,-3.033024772772126],\"y\":[0,-30.841962551414667]}]},{\"data\":[{\"type\":\"scatter\",\"x\":[0,-3.0739364566343044],\"y\":[0,-31.266469754423227]}]},{\"data\":[{\"type\":\"scatter\",\"x\":[0,-3.108813440888602],\"y\":[0,-31.654091140141556]}]},{\"data\":[{\"type\":\"scatter\",\"x\":[0,-3.1375763644163692],\"y\":[0,-32.0039548126223]}]},{\"data\":[{\"type\":\"scatter\",\"x\":[0,-3.16015897647449],\"y\":[0,-32.31527387782067]}]},{\"data\":[{\"type\":\"scatter\",\"x\":[0,-3.176508288482853],\"y\":[0,-32.587348213484354]}]},{\"data\":[{\"type\":\"scatter\",\"x\":[0,-3.1865847368641638],\"y\":[0,-32.81956603880287]}]},{\"data\":[{\"type\":\"scatter\",\"x\":[0,-3.190362253021022],\"y\":[0,-33.011405292526746]}]},{\"data\":[{\"type\":\"scatter\",\"x\":[0,-3.187828354747263],\"y\":[0,-33.16243480304577]}]},{\"data\":[{\"type\":\"scatter\",\"x\":[0,-3.178984151909095],\"y\":[0,-33.27231526018107]}]},{\"data\":[{\"type\":\"scatter\",\"x\":[0,-3.1638443678489003],\"y\":[0,-33.34079997478518]}]},{\"data\":[{\"type\":\"scatter\",\"x\":[0,-3.1424372843247714],\"y\":[0,-33.367735435062784]}]},{\"data\":[{\"type\":\"scatter\",\"x\":[0,-3.1148046831459126],\"y\":[0,-33.353061650135395]}]},{\"data\":[{\"type\":\"scatter\",\"x\":[0,-3.0810017333838737],\"y\":[0,-33.2968122855279]}]},{\"data\":[{\"type\":\"scatter\",\"x\":[0,-3.0410968608528335],\"y\":[0,-33.19911458645761]}]},{\"data\":[{\"type\":\"scatter\",\"x\":[0,-2.9951715717601397],\"y\":[0,-33.060189092116715]}]},{\"data\":[{\"type\":\"scatter\",\"x\":[0,-2.943320252249404],\"y\":[0,-32.88034913928834]}]},{\"data\":[{\"type\":\"scatter\",\"x\":[0,-2.885649929135412],\"y\":[0,-32.660000157868545]}]},{\"data\":[{\"type\":\"scatter\",\"x\":[0,-2.822280002068328],\"y\":[0,-32.39963875897702]}]},{\"data\":[{\"type\":\"scatter\",\"x\":[0,-2.7533419408793236],\"y\":[0,-32.09985161825224]}]},{\"data\":[{\"type\":\"scatter\",\"x\":[0,-2.6789789521735057],\"y\":[0,-31.761314156522374]}]},{\"data\":[{\"type\":\"scatter\",\"x\":[0,-2.599345608502421],\"y\":[0,-31.38478902151361]}]},{\"data\":[{\"type\":\"scatter\",\"x\":[0,-2.5146074588221055],\"y\":[0,-30.971124371830467]}]},{\"data\":[{\"type\":\"scatter\",\"x\":[0,-2.424940620918733],\"y\":[0,-30.521251967053338]}]},{\"data\":[{\"type\":\"scatter\",\"x\":[0,-2.3305312683803914],\"y\":[0,-30.03618507854832]}]},{\"data\":[{\"type\":\"scatter\",\"x\":[0,-2.2315751942195816],\"y\":[0,-29.517016204043564]}]},{\"data\":[{\"type\":\"scatter\",\"x\":[0,-2.1282772953231177],\"y\":[0,-28.964914609700845]}]},{\"data\":[{\"type\":\"scatter\",\"x\":[0,-2.0208509417182627],\"y\":[0,-28.38112370863981]}]},{\"data\":[{\"type\":\"scatter\",\"x\":[0,-1.9095175007478535],\"y\":[0,-27.766958251198368]}]},{\"data\":[{\"type\":\"scatter\",\"x\":[0,-1.7945056625389195],\"y\":[0,-27.123801373164852]}]},{\"data\":[{\"type\":\"scatter\",\"x\":[0,-1.6760507843335009],\"y\":[0,-26.453101483257523]}]},{\"data\":[{\"type\":\"scatter\",\"x\":[0,-1.554394359726181],\"y\":[0,-25.756368985741652]}]},{\"data\":[{\"type\":\"scatter\",\"x\":[0,-1.4297831434897887],\"y\":[0,-25.035172897738484]}]},{\"data\":[{\"type\":\"scatter\",\"x\":[0,-1.30246837209524],\"y\":[0,-24.291137317347093]}]},{\"data\":[{\"type\":\"scatter\",\"x\":[0,-1.1727050944600819],\"y\":[0,-23.525937747906795]}]},{\"data\":[{\"type\":\"scatter\",\"x\":[0,-1.040751499946462],\"y\":[0,-22.741297301053947]}]},{\"data\":[{\"type\":\"scatter\",\"x\":[0,-0.9068678346726223],\"y\":[0,-21.938982830296027]}]},{\"data\":[{\"type\":\"scatter\",\"x\":[0,-0.771315399276704],\"y\":[0,-21.120800945048824]}]},{\"data\":[{\"type\":\"scatter\",\"x\":[0,-0.6343558613001785],\"y\":[0,-20.28859388920218]}]},{\"data\":[{\"type\":\"scatter\",\"x\":[0,-0.4962501626638083],\"y\":[0,-19.444235366278626]}]},{\"data\":[{\"type\":\"scatter\",\"x\":[0,-0.35725727875645263],\"y\":[0,-18.589626286570844]}]},{\"data\":[{\"type\":\"scatter\",\"x\":[0,-0.2176330878588225],\"y\":[0,-17.726690430464725]}]},{\"data\":[{\"type\":\"scatter\",\"x\":[0,-0.07762922774905837],\"y\":[0,-16.857370006828184]}]},{\"data\":[{\"type\":\"scatter\",\"x\":[0,0.06250841119174638],\"y\":[0,-15.983621182433954]}]},{\"data\":[{\"type\":\"scatter\",\"x\":[0,0.20254145288700126],\"y\":[0,-15.107409551175257]}]},{\"data\":[{\"type\":\"scatter\",\"x\":[0,0.34224025844211287],\"y\":[0,-14.230705435027161]}]},{\"data\":[{\"type\":\"scatter\",\"x\":[0,0.48138655438960126],\"y\":[0,-13.355479237609677]}]},{\"data\":[{\"type\":\"scatter\",\"x\":[0,0.6197752438844051],\"y\":[0,-12.483696560981809]}]},{\"data\":[{\"type\":\"scatter\",\"x\":[0,0.7572173113000303],\"y\":[0,-11.617313254885152]}]},{\"data\":[{\"type\":\"scatter\",\"x\":[0,0.8935429395423536],\"y\":[0,-10.758270245125173]}]},{\"data\":[{\"type\":\"scatter\",\"x\":[0,1.0286053109834905],\"y\":[0,-9.908488056760753]}]},{\"data\":[{\"type\":\"scatter\",\"x\":[0,1.162285442136514],\"y\":[0,-9.069860944980052]}]},{\"data\":[{\"type\":\"scatter\",\"x\":[0,1.29449776475755],\"y\":[0,-8.244250292654712]}]},{\"data\":[{\"type\":\"scatter\",\"x\":[0,1.4251976728572209],\"y\":[0,-7.43347703450384]}]},{\"data\":[{\"type\":\"scatter\",\"x\":[0,1.5543906770594287],\"y\":[0,-6.639312372938119]}]},{\"data\":[{\"type\":\"scatter\",\"x\":[0,1.6821442485725704],\"y\":[0,-5.8634658945576925]}]},{\"data\":[{\"type\":\"scatter\",\"x\":[0,1.8086027255491288],\"y\":[0,-5.107569362091707]}]},{\"data\":[{\"type\":\"scatter\",\"x\":[0,1.934005655515155],\"y\":[0,-4.373153523615954]}]},{\"data\":[{\"type\":\"scatter\",\"x\":[0,2.0587085771764677],\"y\":[0,-3.6616138137411847]}]},{\"data\":[{\"type\":\"scatter\",\"x\":[0,2.1832024113453903],\"y\":[0,-2.974159092266737]}]},{\"data\":[{\"type\":\"scatter\",\"x\":[0,2.3081198522376285],\"y\":[0,-2.311738248642621]}]},{\"data\":[{\"type\":\"scatter\",\"x\":[0,2.4342050252171923],\"y\":[0,-1.6749480423193928]}]},{\"data\":[{\"type\":\"scatter\",\"x\":[0,2.56221414166039],\"y\":[0,-1.0639534666924346]}]},{\"data\":[{\"type\":\"scatter\",\"x\":[0,2.6927400599080085],\"y\":[0,-0.4784922505063904]}]},{\"data\":[{\"type\":\"scatter\",\"x\":[0,2.8260327010096944],\"y\":[0,0.08197195312029024]}]},{\"data\":[{\"type\":\"scatter\",\"x\":[0,2.9619355159811906],\"y\":[0,0.617995057346033]}]},{\"data\":[{\"type\":\"scatter\",\"x\":[0,3.099969995858234],\"y\":[0,1.129942184288059]}]},{\"data\":[{\"type\":\"scatter\",\"x\":[0,3.239481164921646],\"y\":[0,1.6179080361439186]}]},{\"data\":[{\"type\":\"scatter\",\"x\":[0,3.3797564712878274],\"y\":[0,2.081739376889664]}]},{\"data\":[{\"type\":\"scatter\",\"x\":[0,3.520093946998991],\"y\":[0,2.52109658902447]}]},{\"data\":[{\"type\":\"scatter\",\"x\":[0,3.65983247123348],\"y\":[0,2.9355156818921384]}]},{\"data\":[{\"type\":\"scatter\",\"x\":[0,3.7983612737649692],\"y\":[0,3.324458002865806]}]},{\"data\":[{\"type\":\"scatter\",\"x\":[0,3.9351201009111136],\"y\":[0,3.687346829971628]}]},{\"data\":[{\"type\":\"scatter\",\"x\":[0,4.069595833038046],\"y\":[0,4.023593610392855]}]},{\"data\":[{\"type\":\"scatter\",\"x\":[0,4.201318235873614],\"y\":[0,4.332616741801172]}]},{\"data\":[{\"type\":\"scatter\",\"x\":[0,4.3298559223319275],\"y\":[0,4.613855165290613]}]},{\"data\":[{\"type\":\"scatter\",\"x\":[0,4.454812920791601],\"y\":[0,4.866778331238108]}]},{\"data\":[{\"type\":\"scatter\",\"x\":[0,4.5758259000486445],\"y\":[0,5.0908936226866395]}]},{\"data\":[{\"type\":\"scatter\",\"x\":[0,4.692562008175596],\"y\":[0,5.285751950294671]}]},{\"data\":[{\"type\":\"scatter\",\"x\":[0,4.80471723797948],\"y\":[0,5.450951997993339]}]},{\"data\":[{\"type\":\"scatter\",\"x\":[0,4.912015235656499],\"y\":[0,5.586143440633093]}]},{\"data\":[{\"type\":\"scatter\",\"x\":[0,5.0142064513347195],\"y\":[0,5.691029359082284]}]},{\"data\":[{\"type\":\"scatter\",\"x\":[0,5.111067592650706],\"y\":[0,5.765367993069937]}]},{\"data\":[{\"type\":\"scatter\",\"x\":[0,5.2024013096293045],\"y\":[0,5.808973934491502]}]},{\"data\":[{\"type\":\"scatter\",\"x\":[0,5.288036069596933],\"y\":[0,5.82171882531385]}]},{\"data\":[{\"type\":\"scatter\",\"x\":[0,5.367826189321839],\"y\":[0,5.803531598591497]}]},{\"data\":[{\"type\":\"scatter\",\"x\":[0,5.441651996902409],\"y\":[0,5.754398280705598]}]},{\"data\":[{\"type\":\"scatter\",\"x\":[0,5.5094200843970045],\"y\":[0,5.674361367094575]}]},{\"data\":[{\"type\":\"scatter\",\"x\":[0,5.571063648518596],\"y\":[0,5.5635187505853905]}]},{\"data\":[{\"type\":\"scatter\",\"x\":[0,5.626542874411604],\"y\":[0,5.422022190200858]}]},{\"data\":[{\"type\":\"scatter\",\"x\":[0,5.675845350241745],\"y\":[0,5.250075279792804]}]},{\"data\":[{\"type\":\"scatter\",\"x\":[0,5.7189864608583285],\"y\":[0,5.047930875821078]}]},{\"data\":[{\"type\":\"scatter\",\"x\":[0,5.756009719731234],\"y\":[0,4.815887924420646]}]},{\"data\":[{\"type\":\"scatter\",\"x\":[0,5.786986961183546],\"y\":[0,4.554287621833717]}]},{\"data\":[{\"type\":\"scatter\",\"x\":[0,5.8120182920727705],\"y\":[0,4.263508835343613]}]},{\"data\":[{\"type\":\"scatter\",\"x\":[0,5.831231654318506],\"y\":[0,3.943962713932053]}]},{\"data\":[{\"type\":\"scatter\",\"x\":[0,5.844781790946074],\"y\":[0,3.5960864360255074]}]},{\"data\":[{\"type\":\"scatter\",\"x\":[0,5.852848329629895],\"y\":[0,3.220336087889529]}]},{\"data\":[{\"type\":\"scatter\",\"x\":[0,5.855632605061634],\"y\":[0,2.8171787586539834]}]},{\"data\":[{\"type\":\"scatter\",\"x\":[0,5.853352757585435],\"y\":[0,2.3870841509868184]}]},{\"data\":[{\"type\":\"scatter\",\"x\":[0,5.846236523632693],\"y\":[0,1.9305160263763144]}]},{\"data\":[{\"type\":\"scatter\",\"x\":[0,5.83451129033941],\"y\":[0,1.4479246689550174]}]},{\"data\":[{\"type\":\"scatter\",\"x\":[0,5.8183910103734995],\"y\":[0,0.939741473532803]}]},{\"data\":[{\"type\":\"scatter\",\"x\":[0,5.798060278574598],\"y\":[0,0.4063774699553103]}]},{\"data\":[{\"type\":\"scatter\",\"x\":[0,5.773656452468241],\"y\":[0,-0.15177201331827989]}]},{\"data\":[{\"type\":\"scatter\",\"x\":[0,5.745252142226218],\"y\":[0,-0.7343151970895816]}]},{\"data\":[{\"type\":\"scatter\",\"x\":[0,5.712841105852199],\"y\":[0,-1.3408436276936622]}]},{\"data\":[{\"type\":\"scatter\",\"x\":[0,5.676330951773048],\"y\":[0,-1.9709055554259367]}]},{\"data\":[{\"type\":\"scatter\",\"x\":[0,5.635544974280796],\"y\":[0,-2.623976568341298]}]},{\"data\":[{\"type\":\"scatter\",\"x\":[0,5.5902333712089085],\"y\":[0,-3.299432355016323]}]},{\"data\":[{\"type\":\"scatter\",\"x\":[0,5.540091703362287],\"y\":[0,-3.9965278473074926]}]},{\"data\":[{\"type\":\"scatter\",\"x\":[0,5.484782991734511],\"y\":[0,-4.714385142114452]}]},{\"data\":[{\"type\":\"scatter\",\"x\":[0,5.423959461618697],\"y\":[0,-5.451990621528215]}]},{\"data\":[{\"type\":\"scatter\",\"x\":[0,5.357281527891816],\"y\":[0,-6.208199255934686]}]},{\"data\":[{\"type\":\"scatter\",\"x\":[0,5.284432364881218],\"y\":[0,-6.98174402702529]}]},{\"data\":[{\"type\":\"scatter\",\"x\":[0,5.205128154453471],\"y\":[0,-7.771247979927874]}]},{\"data\":[{\"type\":\"scatter\",\"x\":[0,5.119124456723158],\"y\":[0,-8.575237285807663]}]},{\"data\":[{\"type\":\"scatter\",\"x\":[0,5.026219618445249],\"y\":[0,-9.39215409339592]}]},{\"data\":[{\"type\":\"scatter\",\"x\":[0,4.926255957111829],\"y\":[0,-10.22036868455136]}]},{\"data\":[{\"type\":\"scatter\",\"x\":[0,4.819119550458628],\"y\":[0,-11.058190595996653]}]},{\"data\":[{\"type\":\"scatter\",\"x\":[0,4.704739111980208],\"y\":[0,-11.903878694974088]}]},{\"data\":[{\"type\":\"scatter\",\"x\":[0,4.5830843190108],\"y\":[0,-12.75565029447974]}]},{\"data\":[{\"type\":\"scatter\",\"x\":[0,4.454163884739602],\"y\":[0,-13.611689421510748]}]},{\"data\":[{\"type\":\"scatter\",\"x\":[0,4.318023519342455],\"y\":[0,-14.47015436886046]}]},{\"data\":[{\"type\":\"scatter\",\"x\":[0,4.174743904797442],\"y\":[0,-15.329184648611124]}]},{\"data\":[{\"type\":\"scatter\",\"x\":[0,4.0244386142235955],\"y\":[0,-16.1869074748853]}]},{\"data\":[{\"type\":\"scatter\",\"x\":[0,3.867252254579996],\"y\":[0,-17.04144382855714]}]},{\"data\":[{\"type\":\"scatter\",\"x\":[0,3.7033586058867667],\"y\":[0,-17.890914191436572]}]},{\"data\":[{\"type\":\"scatter\",\"x\":[0,3.5329588394718123],\"y\":[0,-18.7334440189545]}]},{\"data\":[{\"type\":\"scatter\",\"x\":[0,3.3562798404573053],\"y\":[0,-19.567168965525056]}]},{\"data\":[{\"type\":\"scatter\",\"x\":[0,3.1735726091162344],\"y\":[0,-20.39023991260543]}]},{\"data\":[{\"type\":\"scatter\",\"x\":[0,2.9851107013998552],\"y\":[0,-21.200827816470674]}]},{\"data\":[{\"type\":\"scatter\",\"x\":[0,2.7911887672226636],\"y\":[0,-21.997128392573735]}]},{\"data\":[{\"type\":\"scatter\",\"x\":[0,2.5921210912063186],\"y\":[0,-22.77736664858104]}]},{\"data\":[{\"type\":\"scatter\",\"x\":[0,2.38824020184793],\"y\":[0,-23.539801272463574]}]},{\"data\":[{\"type\":\"scatter\",\"x\":[0,2.179895502073087],\"y\":[0,-24.282728884067307]}]},{\"data\":[{\"type\":\"scatter\",\"x\":[0,1.9674519285654295],\"y\":[0,-25.00448814443336]}]},{\"data\":[{\"type\":\"scatter\",\"x\":[0,1.7512886384138358],\"y\":[0,-25.7034637307345]}]},{\"data\":[{\"type\":\"scatter\",\"x\":[0,1.5317977092408483],\"y\":[0,-26.378090169168672]}]},{\"data\":[{\"type\":\"scatter\",\"x\":[0,1.3093828554230034],\"y\":[0,-27.0268555264107]}]},{\"data\":[{\"type\":\"scatter\",\"x\":[0,1.0844581554694068],\"y\":[0,-27.648304954966537]}]},{\"data\":[{\"type\":\"scatter\",\"x\":[0,0.8574468226257344],\"y\":[0,-28.24104409626229]}]},{\"data\":[{\"type\":\"scatter\",\"x\":[0,0.6287799011770592],\"y\":[0,-28.80374231016455]}]},{\"data\":[{\"type\":\"scatter\",\"x\":[0,0.3988951119920752],\"y\":[0,-29.33513577642132]}]},{\"data\":[{\"type\":\"scatter\",\"x\":[0,0.16823551953372343],\"y\":[0,-29.834030396891357]}]},{\"data\":[{\"type\":\"scatter\",\"x\":[0,-0.06275159396492233],\"y\":[0,-30.299304565572502]}]},{\"data\":[{\"type\":\"scatter\",\"x\":[0,-0.2936160084057958],\"y\":[0,-30.729911737773445]}]},{\"data\":[{\"type\":\"scatter\",\"x\":[0,-0.5239057235765224],\"y\":[0,-31.124882841649885]}]},{\"data\":[{\"type\":\"scatter\",\"x\":[0,-0.7531681669295225],\"y\":[0,-31.48332849795619]}]},{\"data\":[{\"type\":\"scatter\",\"x\":[0,-0.9809513723853956],\"y\":[0,-31.804441057964844]}]},{\"data\":[{\"type\":\"scatter\",\"x\":[0,-1.2068051322510107],\"y\":[0,-32.08749645355102]}]},{\"data\":[{\"type\":\"scatter\",\"x\":[0,-1.4302821698375572],\"y\":[0,-32.331855850060194]}]},{\"data\":[{\"type\":\"scatter\",\"x\":[0,-1.6509392473940494],\"y\":[0,-32.53696711007741]}]},{\"data\":[{\"type\":\"scatter\",\"x\":[0,-1.868338313783786],\"y\":[0,-32.70236605063032]}]},{\"data\":[{\"type\":\"scatter\",\"x\":[0,-2.0820475746546356],\"y\":[0,-32.82767750772068]}]},{\"data\":[{\"type\":\"scatter\",\"x\":[0,-2.2916425981922335],\"y\":[0,-32.91261618921179]}]},{\"data\":[{\"type\":\"scatter\",\"x\":[0,-2.4967073495169467],\"y\":[0,-32.95698733062591]}]},{\"data\":[{\"type\":\"scatter\",\"x\":[0,-2.696835241726865],\"y\":[0,-32.96068713853935]}]},{\"data\":[{\"type\":\"scatter\",\"x\":[0,-2.8916301315098836],\"y\":[0,-32.92370303176776]}]},{\"data\":[{\"type\":\"scatter\",\"x\":[0,-3.0807073083758323],\"y\":[0,-32.84611367190552]}]},{\"data\":[{\"type\":\"scatter\",\"x\":[0,-3.263694443328291],\"y\":[0,-32.72808878866204]}]},{\"data\":[{\"type\":\"scatter\",\"x\":[0,-3.440232512764035],\"y\":[0,-32.56988879741732]}]},{\"data\":[{\"type\":\"scatter\",\"x\":[0,-3.6099766906227826],\"y\":[0,-32.37186421089865]}]},{\"data\":[{\"type\":\"scatter\",\"x\":[0,-3.7725972037180218],\"y\":[0,-32.13445484687368]}]},{\"data\":[{\"type\":\"scatter\",\"x\":[0,-3.9277801592603696],\"y\":[0,-31.858188832004213]}]},{\"data\":[{\"type\":\"scatter\",\"x\":[0,-4.0752283277783],\"y\":[0,-31.543681406485703]}]},{\"data\":[{\"type\":\"scatter\",\"x\":[0,-4.214661899373566],\"y\":[0,-31.191633529020425]}]},{\"data\":[{\"type\":\"scatter\",\"x\":[0,-4.345819192223529],\"y\":[0,-30.802830288416057]}]},{\"data\":[{\"type\":\"scatter\",\"x\":[0,-4.468457331142871],\"y\":[0,-30.378139122184262]}]},{\"data\":[{\"type\":\"scatter\",\"x\":[0,-4.5823528643361575],\"y\":[0,-29.918507851099463]}]},{\"data\":[{\"type\":\"scatter\",\"x\":[0,-4.687302390358297],\"y\":[0,-29.424962521966123]}]},{\"data\":[{\"type\":\"scatter\",\"x\":[0,-4.783123058577391],\"y\":[0,-28.898605084577262]}]},{\"data\":[{\"type\":\"scatter\",\"x\":[0,-4.8696531446399804],\"y\":[0,-28.340610878703835]}]},{\"data\":[{\"type\":\"scatter\",\"x\":[0,-4.946752434807877],\"y\":[0,-27.752225970008855]}]},{\"data\":[{\"type\":\"scatter\",\"x\":[0,-5.014302748040994],\"y\":[0,-27.13476430443905]}]},{\"data\":[{\"type\":\"scatter\",\"x\":[0,-5.072208210246047],\"y\":[0,-26.489604725765563]}]},{\"data\":[{\"type\":\"scatter\",\"x\":[0,-5.120395709748819],\"y\":[0,-25.81818781847942]}]},{\"data\":[{\"type\":\"scatter\",\"x\":[0,-5.158815085792536],\"y\":[0,-25.122012632681542]}]},{\"data\":[{\"type\":\"scatter\",\"x\":[0,-5.187439486318127],\"y\":[0,-24.402633242513364]}]},{\"data\":[{\"type\":\"scatter\",\"x\":[0,-5.206265520239986],\"y\":[0,-23.6616551979347]}]},{\"data\":[{\"type\":\"scatter\",\"x\":[0,-5.215313367384943],\"y\":[0,-22.900731853345278]}]},{\"data\":[{\"type\":\"scatter\",\"x\":[0,-5.2146272247244765],\"y\":[0,-22.121560518164355]}]},{\"data\":[{\"type\":\"scatter\",\"x\":[0,-5.204275189239054],\"y\":[0,-21.325878575535004]}]},{\"data\":[{\"type\":\"scatter\",\"x\":[0,-5.184349199999716],\"y\":[0,-20.51545949077806]}]},{\"data\":[{\"type\":\"scatter\",\"x\":[0,-5.154965446576961],\"y\":[0,-19.69210863686641]}]},{\"data\":[{\"type\":\"scatter\",\"x\":[0,-5.116264279192674],\"y\":[0,-18.85765910356927]}]},{\"data\":[{\"type\":\"scatter\",\"x\":[0,-5.0684101458003585],\"y\":[0,-18.0139674135654]}]},{\"data\":[{\"type\":\"scatter\",\"x\":[0,-5.011591686703394],\"y\":[0,-17.162909122286784]}]},{\"data\":[{\"type\":\"scatter\",\"x\":[0,-4.946021846657395],\"y\":[0,-16.306374339075816]}]},{\"data\":[{\"type\":\"scatter\",\"x\":[0,-4.871937817449254],\"y\":[0,-15.446263198325955]}]},{\"data\":[{\"type\":\"scatter\",\"x\":[0,-4.789601228780495],\"y\":[0,-14.584481186964762]}]},{\"data\":[{\"type\":\"scatter\",\"x\":[0,-4.699298207647879],\"y\":[0,-13.722934450889765]}]},{\"data\":[{\"type\":\"scatter\",\"x\":[0,-4.6013396018728185],\"y\":[0,-12.863524949390131]}]},{\"data\":[{\"type\":\"scatter\",\"x\":[0,-4.496061338828963],\"y\":[0,-12.00814550577764]}]},{\"data\":[{\"type\":\"scatter\",\"x\":[0,-4.383824951578533],\"y\":[0,-11.158674677500978]}]},{\"data\":[{\"type\":\"scatter\",\"x\":[0,-4.265018140244742],\"y\":[0,-10.31697148679896]}]},{\"data\":[{\"type\":\"scatter\",\"x\":[0,-4.140055767852402],\"y\":[0,-9.484869837311486]}]},{\"data\":[{\"type\":\"scatter\",\"x\":[0,-4.009381154325488],\"y\":[0,-8.664172587611183]}]},{\"data\":[{\"type\":\"scatter\",\"x\":[0,-3.8734678688047377],\"y\":[0,-7.856645083032039]}]},{\"data\":[{\"type\":\"scatter\",\"x\":[0,-3.7328220258595493],\"y\":[0,-7.06400798985068]}]},{\"data\":[{\"type\":\"scatter\",\"x\":[0,-3.5879855268361664],\"y\":[0,-6.287928988545821]}]},{\"data\":[{\"type\":\"scatter\",\"x\":[0,-3.439540310137595],\"y\":[0,-5.530012833923765]}]},{\"data\":[{\"type\":\"scatter\",\"x\":[0,-3.288113860684245],\"y\":[0,-4.791788934272314]}]},{\"data\":[{\"type\":\"scatter\",\"x\":[0,-3.134386460165922],\"y\":[0,-4.0746950002065665]}]},{\"data\":[{\"type\":\"scatter\",\"x\":[0,-2.979100063441276],\"y\":[0,-3.3800545953366004]}]},{\"data\":[{\"type\":\"scatter\",\"x\":[0,-2.8230683437865522],\"y\":[0,-2.709045007363778]}]},{\"data\":[{\"type\":\"scatter\",\"x\":[0,-2.667185433662655],\"y\":[0,-2.0626499383321697]}]},{\"data\":[{\"type\":\"scatter\",\"x\":[0,-2.5124259156697755],\"y\":[0,-1.44158994576013]}]},{\"data\":[{\"type\":\"scatter\",\"x\":[0,-2.3598179937765313],\"y\":[0,-0.8462259388179423]}]},{\"data\":[{\"type\":\"scatter\",\"x\":[0,-2.2103548469956102],\"y\":[0,-0.2764502716536741]}]},{\"data\":[{\"type\":\"scatter\",\"x\":[0,-2.06480888322359],\"y\":[0,0.26836605103466005]}]},{\"data\":[{\"type\":\"scatter\",\"x\":[0,-1.9234903170072046],\"y\":[0,0.7892414174909306]}]},{\"data\":[{\"type\":\"scatter\",\"x\":[0,-1.786133371339354],\"y\":[0,1.2872261502883608]}]},{\"data\":[{\"type\":\"scatter\",\"x\":[0,-1.6520487906463128],\"y\":[0,1.7630348090750212]}]},{\"data\":[{\"type\":\"scatter\",\"x\":[0,-1.520408137573001],\"y\":[0,2.2169103685752054]}]},{\"data\":[{\"type\":\"scatter\",\"x\":[0,-1.390449882444366],\"y\":[0,2.648698668999272]}]},{\"data\":[{\"type\":\"scatter\",\"x\":[0,-1.2615592425327276],\"y\":[0,3.057984226055518]}]},{\"data\":[{\"type\":\"scatter\",\"x\":[0,-1.1332732582563998],\"y\":[0,3.4442034244851576]}]},{\"data\":[{\"type\":\"scatter\",\"x\":[0,-1.0052590128693186],\"y\":[0,3.8067203916830845]}]},{\"data\":[{\"type\":\"scatter\",\"x\":[0,-0.8772875426623927],\"y\":[0,4.144874438033497]}]},{\"data\":[{\"type\":\"scatter\",\"x\":[0,-0.7492109880102158],\"y\":[0,4.458009450633102]}]},{\"data\":[{\"type\":\"scatter\",\"x\":[0,-0.620944355477928],\"y\":[0,4.745492449569015]}]},{\"data\":[{\"type\":\"scatter\",\"x\":[0,-0.4924514236942231],\"y\":[0,5.006725655745904]}]},{\"data\":[{\"type\":\"scatter\",\"x\":[0,-0.3637338854101139],\"y\":[0,5.24115460382729]}]},{\"data\":[{\"type\":\"scatter\",\"x\":[0,-0.23482293302801394],\"y\":[0,5.448273784703405]}]},{\"data\":[{\"type\":\"scatter\",\"x\":[0,-0.10577262349696678],\"y\":[0,5.627630669525694]}]},{\"data\":[{\"type\":\"scatter\",\"x\":[0,0.023345460289095035],\"y\":[0,5.778828641034924]}]},{\"data\":[{\"type\":\"scatter\",\"x\":[0,0.15244659564285312],\"y\":[0,5.901529149045838]}]},{\"data\":[{\"type\":\"scatter\",\"x\":[0,0.28143662107057044],\"y\":[0,5.9954532810131544]}]},{\"data\":[{\"type\":\"scatter\",\"x\":[0,0.4102151484329757],\"y\":[0,6.0603828688939965]}]},{\"data\":[{\"type\":\"scatter\",\"x\":[0,0.5386784342773445],\"y\":[0,6.096161204659681]}]},{\"data\":[{\"type\":\"scatter\",\"x\":[0,0.6667220326091675],\"y\":[0,6.1026934034998]}]},{\"data\":[{\"type\":\"scatter\",\"x\":[0,0.7942433020222054],\"y\":[0,6.079946441769068]}]},{\"data\":[{\"type\":\"scatter\",\"x\":[0,0.9211438840332066],\"y\":[0,6.027948857479724]}]},{\"data\":[{\"type\":\"scatter\",\"x\":[0,1.0473322013101285],\"y\":[0,5.9467901073728795]}]},{\"data\":[{\"type\":\"scatter\",\"x\":[0,1.1727260644480626],\"y\":[0,5.836619542517067]}]},{\"data\":[{\"type\":\"scatter\",\"x\":[0,1.297255455768195],\"y\":[0,5.69764494730678]}]},{\"data\":[{\"type\":\"scatter\",\"x\":[0,1.4208655811568531],\"y\":[0,5.530130564947846]}]},{\"data\":[{\"type\":\"scatter\",\"x\":[0,1.5435202683839702],\"y\":[0,5.334394483398073]}]},{\"data\":[{\"type\":\"scatter\",\"x\":[0,1.6652058239270602],\"y\":[0,5.110805219146716]}]},{\"data\":[{\"type\":\"scatter\",\"x\":[0,1.7859354447308984],\"y\":[0,4.859777246864109]}]},{\"data\":[{\"type\":\"scatter\",\"x\":[0,1.9057542878993918],\"y\":[0,4.581765130144145]}]},{\"data\":[{\"type\":\"scatter\",\"x\":[0,2.0247452772777734],\"y\":[0,4.277255732706319]}]},{\"data\":[{\"type\":\"scatter\",\"x\":[0,2.1430355611297514],\"y\":[0,3.94675784390669]}]},{\"data\":[{\"type\":\"scatter\",\"x\":[0,2.2608034574760674],\"y\":[0,3.5907881622489373]}]},{\"data\":[{\"type\":\"scatter\",\"x\":[0,2.3782850088982794],\"y\":[0,3.2098524356066314]}]},{\"data\":[{\"type\":\"scatter\",\"x\":[0,2.4957786118763936],\"y\":[0,2.8044202306027897]}]},{\"data\":[{\"type\":\"scatter\",\"x\":[0,2.6136443385626187],\"y\":[0,2.37489220888741]}]},{\"data\":[{\"type\":\"scatter\",\"x\":[0,2.732292201972397],\"y\":[0,1.9215605032895196]}]},{\"data\":[{\"type\":\"scatter\",\"x\":[0,2.8521512481741897],\"y\":[0,1.4445672778715235]}]},{\"data\":[{\"type\":\"scatter\",\"x\":[0,2.9736117825687156],\"y\":[0,0.9438750886408844]}]},{\"data\":[{\"type\":\"scatter\",\"x\":[0,3.0969420080524914],\"y\":[0,0.41927196382284787]}]},{\"data\":[{\"type\":\"scatter\",\"x\":[0,3.2221999025516204],\"y\":[0,-0.12956709256209104]}]},{\"data\":[{\"type\":\"scatter\",\"x\":[0,3.3491784406127283],\"y\":[0,-0.7029646036979529]}]},{\"data\":[{\"type\":\"scatter\",\"x\":[0,3.477412896478859],\"y\":[0,-1.3011091280641545]}]},{\"data\":[{\"type\":\"scatter\",\"x\":[0,3.6062432572401173],\"y\":[0,-1.9239566713587328]}]},{\"data\":[{\"type\":\"scatter\",\"x\":[0,3.734897095518584],\"y\":[0,-2.571189046565314]}]},{\"data\":[{\"type\":\"scatter\",\"x\":[0,3.8625615063118333],\"y\":[0,-3.2422198284805517]}]},{\"data\":[{\"type\":\"scatter\",\"x\":[0,3.9884316198659606],\"y\":[0,-3.9362253427346854]}]},{\"data\":[{\"type\":\"scatter\",\"x\":[0,4.111737534235027],\"y\":[0,-4.652182663895773]}]},{\"data\":[{\"type\":\"scatter\",\"x\":[0,4.231756516640432],\"y\":[0,-5.388905060088977]}]},{\"data\":[{\"type\":\"scatter\",\"x\":[0,4.347816715096239],\"y\":[0,-6.14507166464817]}]},{\"data\":[{\"type\":\"scatter\",\"x\":[0,4.45929653019809],\"y\":[0,-6.919251286344132]}]},{\"data\":[{\"type\":\"scatter\",\"x\":[0,4.565622133277151],\"y\":[0,-7.709921290487059]}]},{\"data\":[{\"type\":\"scatter\",\"x\":[0,4.666264379399963],\"y\":[0,-8.515482699248604]}]},{\"data\":[{\"type\":\"scatter\",\"x\":[0,4.760735751726822],\"y\":[0,-9.334272492155064]}]},{\"data\":[{\"type\":\"scatter\",\"x\":[0,4.848587614985269],\"y\":[0,-10.16457386448506]}]},{\"data\":[{\"type\":\"scatter\",\"x\":[0,4.929407846427504],\"y\":[0,-11.00462501130452]}]},{\"data\":[{\"type\":\"scatter\",\"x\":[0,5.002818850796447],\"y\":[0,-11.852626843779916]}]},{\"data\":[{\"type\":\"scatter\",\"x\":[0,5.068475923024369],\"y\":[0,-12.70674992468375]}]},{\"data\":[{\"type\":\"scatter\",\"x\":[0,5.12606590461043],\"y\":[0,-13.565140830584681]}]},{\"data\":[{\"type\":\"scatter\",\"x\":[0,5.175306096125742],\"y\":[0,-14.425928085895366]}]},{\"data\":[{\"type\":\"scatter\",\"x\":[0,5.215943353933942],\"y\":[0,-15.287227770413457]}]},{\"data\":[{\"type\":\"scatter\",\"x\":[0,5.247753340954775],\"y\":[0,-16.147148879131546]}]},{\"data\":[{\"type\":\"scatter\",\"x\":[0,5.270539924952867],\"y\":[0,-17.00379847838361]}]},{\"data\":[{\"type\":\"scatter\",\"x\":[0,5.284134654629935],\"y\":[0,-17.85528670014551]}]},{\"data\":[{\"type\":\"scatter\",\"x\":[0,5.288396301226028],\"y\":[0,-18.69973159750784]}]},{\"data\":[{\"type\":\"scatter\",\"x\":[0,5.283210457296974],\"y\":[0,-19.53526387637237]}]},{\"data\":[{\"type\":\"scatter\",\"x\":[0,5.26848915129272],\"y\":[0,-20.36003151798466]}]},{\"data\":[{\"type\":\"scatter\",\"x\":[0,5.244170524557185],\"y\":[0,-21.172204287813702]}]},{\"data\":[{\"type\":\"scatter\",\"x\":[0,5.210218461379749],\"y\":[0,-21.969978149185366]}]},{\"data\":[{\"type\":\"scatter\",\"x\":[0,5.16662225818605],\"y\":[0,-22.7515795672277]}]},{\"data\":[{\"type\":\"scatter\",\"x\":[0,5.113396263701551],\"y\":[0,-23.51526971070415]}]},{\"data\":[{\"type\":\"scatter\",\"x\":[0,5.050579511479821],\"y\":[0,-24.259348543398122]}]},{\"data\":[{\"type\":\"scatter\",\"x\":[0,4.978235334620028],\"y\":[0,-24.982158803431364]}]},{\"data\":[{\"type\":\"scatter\",\"x\":[0,4.896450950253011],\"y\":[0,-25.68208986517409]}]},{\"data\":[{\"type\":\"scatter\",\"x\":[0,4.805337004547116],\"y\":[0,-26.35758148009528]}]},{\"data\":[{\"type\":\"scatter\",\"x\":[0,4.705027132187615],\"y\":[0,-27.007127383737302]}]},{\"data\":[{\"type\":\"scatter\",\"x\":[0,4.59567743746159],\"y\":[0,-27.629278774001783]}]},{\"data\":[{\"type\":\"scatter\",\"x\":[0,4.477465962039794],\"y\":[0,-28.222647645566894]}]},{\"data\":[{\"type\":\"scatter\",\"x\":[0,4.350592113204718],\"y\":[0,-28.785909979840174]}]},{\"data\":[{\"type\":\"scatter\",\"x\":[0,4.215276059746462],\"y\":[0,-29.317808782538208]}]},{\"data\":[{\"type\":\"scatter\",\"x\":[0,4.0717580911622155],\"y\":[0,-29.817156961483192]}]},{\"data\":[{\"type\":\"scatter\",\"x\":[0,3.920297944441782],\"y\":[0,-30.28284004286306]}]},{\"data\":[{\"type\":\"scatter\",\"x\":[0,3.7611740896585655],\"y\":[0,-30.713818717531773]}]},{\"data\":[{\"type\":\"scatter\",\"x\":[0,3.594682993049098],\"y\":[0,-31.109131212980348]}]},{\"data\":[{\"type\":\"scatter\",\"x\":[0,3.4211383005448965],\"y\":[0,-31.46789548864796]}]},{\"data\":[{\"type\":\"scatter\",\"x\":[0,3.240870076092357],\"y\":[0,-31.789311243556938]}]},{\"data\":[{\"type\":\"scatter\",\"x\":[0,3.0542239144380816],\"y\":[0,-32.072661740747925]}]},{\"data\":[{\"type\":\"scatter\",\"x\":[0,2.861560093339989],\"y\":[0,-32.317315438220774]}]},{\"data\":[{\"type\":\"scatter\",\"x\":[0,2.663252630520954],\"y\":[0,-32.52272742591604]}]},{\"data\":[{\"type\":\"scatter\",\"x\":[0,2.459688379029754],\"y\":[0,-32.68844066314634]}]},{\"data\":[{\"type\":\"scatter\",\"x\":[0,2.251266042576559],\"y\":[0,-32.81408701841371]}]},{\"data\":[{\"type\":\"scatter\",\"x\":[0,2.0383951885345564],\"y\":[0,-32.89938810517796]}]},{\"data\":[{\"type\":\"scatter\",\"x\":[0,1.8214952389620953],\"y\":[0,-32.944155912992315]}]},{\"data\":[{\"type\":\"scatter\",\"x\":[0,1.6009944241539606],\"y\":[0,-32.94829323190141]}]},{\"data\":[{\"type\":\"scatter\",\"x\":[0,1.3773287329170254],\"y\":[0,-32.91179387339042]}]},{\"data\":[{\"type\":\"scatter\",\"x\":[0,1.1509408289627974],\"y\":[0,-32.83474267994306]}]},{\"data\":[{\"type\":\"scatter\",\"x\":[0,0.9222789595985308],\"y\":[0,-32.7173153296738]}]},{\"data\":[{\"type\":\"scatter\",\"x\":[0,0.6917958449545526],\"y\":[0,-32.55977793371599]}]},{\"data\":[{\"type\":\"scatter\",\"x\":[0,0.4599475534702238],\"y\":[0,-32.36248642619099]}]},{\"data\":[{\"type\":\"scatter\",\"x\":[0,0.22719236751550173],\"y\":[0,-32.125885750248344]}]},{\"data\":[{\"type\":\"scatter\",\"x\":[0,-0.0060103624275566],\"y\":[0,-31.850508839445613]}]},{\"data\":[{\"type\":\"scatter\",\"x\":[0,-0.2392013753226991],\"y\":[0,-31.53697539899135]}]},{\"data\":[{\"type\":\"scatter\",\"x\":[0,-0.4719226601854176],\"y\":[0,-31.18599048676431]}]},{\"data\":[{\"type\":\"scatter\",\"x\":[0,-0.7037186014237224],\"y\":[0,-30.798342895682723]}]},{\"data\":[{\"type\":\"scatter\",\"x\":[0,-0.9341371907583195],\"y\":[0,-30.374903350216094]}]},{\"data\":[{\"type\":\"scatter\",\"x\":[0,-1.1627311124468285],\"y\":[0,-29.9166224986717]}]},{\"data\":[{\"type\":\"scatter\",\"x\":[0,-1.3890590323774348],\"y\":[0,-29.4245287416738]}]},{\"data\":[{\"type\":\"scatter\",\"x\":[0,-1.6126866632988428],\"y\":[0,-28.89972585432842]}]},{\"data\":[{\"type\":\"scatter\",\"x\":[0,-1.8331879904927606],\"y\":[0,-28.343390448221513]}]},{\"data\":[{\"type\":\"scatter\",\"x\":[0,-2.0501464549402306],\"y\":[0,-27.756769253755184]}]},{\"data\":[{\"type\":\"scatter\",\"x\":[0,-2.2631559883004226],\"y\":[0,-27.141176225633473]}]},{\"data\":[{\"type\":\"scatter\",\"x\":[0,-2.4718223101975596],\"y\":[0,-26.497989503674788]}]},{\"data\":[{\"type\":\"scatter\",\"x\":[0,-2.6757641664182086],\"y\":[0,-25.828648207067193]}]},{\"data\":[{\"type\":\"scatter\",\"x\":[0,-2.874614254750854],\"y\":[0,-25.13464905251809]}]},{\"data\":[{\"type\":\"scatter\",\"x\":[0,-3.0680205013110657],\"y\":[0,-24.417542851391683]}]},{\"data\":[{\"type\":\"scatter\",\"x\":[0,-3.255647151393987],\"y\":[0,-23.678930850692993]}]},{\"data\":[{\"type\":\"scatter\",\"x\":[0,-3.437176074111558],\"y\":[0,-22.92046093449922]}]},{\"data\":[{\"type\":\"scatter\",\"x\":[0,-3.612307783879692],\"y\":[0,-22.143823678870476]}]},{\"data\":[{\"type\":\"scatter\",\"x\":[0,-3.7807624744591957],\"y\":[0,-21.350748274515613]}]},{\"data\":[{\"type\":\"scatter\",\"x\":[0,-3.9422815979356143],\"y\":[0,-20.54299832228557]}]},{\"data\":[{\"type\":\"scatter\",\"x\":[0,-4.0966287773602525],\"y\":[0,-19.722367476573726]}]},{\"data\":[{\"type\":\"scatter\",\"x\":[0,-4.2435909637198135],\"y\":[0,-18.890674961135574]}]},{\"data\":[{\"type\":\"scatter\",\"x\":[0,-4.382979823597305],\"y\":[0,-18.049760940907692]}]},{\"data\":[{\"type\":\"scatter\",\"x\":[0,-4.51463298508493],\"y\":[0,-17.20148173991343]}]},{\"data\":[{\"type\":\"scatter\",\"x\":[0,-4.63841533846103],\"y\":[0,-16.347704890175905]}]},{\"data\":[{\"type\":\"scatter\",\"x\":[0,-4.754220404501654],\"y\":[0,-15.490304004406068]}]},{\"data\":[{\"type\":\"scatter\",\"x\":[0,-4.861971757540749],\"y\":[0,-14.631153438585324]}]},{\"data\":[{\"type\":\"scatter\",\"x\":[0,-4.961624483995247],\"y\":[0,-13.772122666633994]}]},{\"data\":[{\"type\":\"scatter\",\"x\":[0,-5.0531669243357555],\"y\":[0,-12.915070494969099]}]},{\"data\":[{\"type\":\"scatter\",\"x\":[0,-5.136622027408224],\"y\":[0,-12.061838758121315]}]},{\"data\":[{\"type\":\"scatter\",\"x\":[0,-5.212049160108451],\"y\":[0,-11.214245765663943]}]},{\"data\":[{\"type\":\"scatter\",\"x\":[0,-5.279545719801871],\"y\":[0,-10.37407910392973]}]},{\"data\":[{\"type\":\"scatter\",\"x\":[0,-5.339248777781001],\"y\":[0,-9.54308788575713]}]},{\"data\":[{\"type\":\"scatter\",\"x\":[0,-5.39133638633038],\"y\":[0,-8.722974316459593]}]},{\"data\":[{\"type\":\"scatter\",\"x\":[0,-5.436028756830958],\"y\":[0,-7.915384287547267]}]},{\"data\":[{\"type\":\"scatter\",\"x\":[0,-5.473588628782052],\"y\":[0,-7.12189707692153]}]},{\"data\":[{\"type\":\"scatter\",\"x\":[0,-5.504320608296222],\"y\":[0,-6.344014029182612]}]},{\"data\":[{\"type\":\"scatter\",\"x\":[0,-5.528569004358489],\"y\":[0,-5.583146260034629]}]},{\"data\":[{\"type\":\"scatter\",\"x\":[0,-5.546713092774223],\"y\":[0,-4.840601863348292]}]},{\"data\":[{\"type\":\"scatter\",\"x\":[0,-5.559159359790918],\"y\":[0,-4.117573160554339]}]},{\"data\":[{\"type\":\"scatter\",\"x\":[0,-5.566329737127068],\"y\":[0,-3.4151253584741914]}]},{\"data\":[{\"type\":\"scatter\",\"x\":[0,-5.568645437451406],\"y\":[0,-2.734188535585729]}]},{\"data\":[{\"type\":\"scatter\",\"x\":[0,-5.566506803648289],\"y\":[0,-2.0755553478171787]}]},{\"data\":[{\"type\":\"scatter\",\"x\":[0,-5.560270931153704],\"y\":[0,-1.4398866968522592]}]},{\"data\":[{\"type\":\"scatter\",\"x\":[0,-5.550230145658305],\"y\":[0,-0.8277267131760173]}]},{\"data\":[{\"type\":\"scatter\",\"x\":[0,-5.536595280853622],\"y\":[0,-0.23952655515670138]}]},{\"data\":[{\"type\":\"scatter\",\"x\":[0,-5.519487185158002],\"y\":[0,0.3243262952750634]}]},{\"data\":[{\"type\":\"scatter\",\"x\":[0,-5.498938168398434],\"y\":[0,0.8634778827040853]}]},{\"data\":[{\"type\":\"scatter\",\"x\":[0,-5.474902433451898],\"y\":[0,1.3775817441361073]}]},{\"data\":[{\"type\":\"scatter\",\"x\":[0,-5.447272568230724],\"y\":[0,1.8662802980520068]}]},{\"data\":[{\"type\":\"scatter\",\"x\":[0,-5.415898498198375],\"y\":[0,2.329194713941919]}]},{\"data\":[{\"type\":\"scatter\",\"x\":[0,-5.380605800149869],\"y\":[0,2.7659224170314776]}]},{\"data\":[{\"type\":\"scatter\",\"x\":[0,-5.341211450238263],\"y\":[0,3.1760402943673824]}]},{\"data\":[{\"type\":\"scatter\",\"x\":[0,-5.297536182483195],\"y\":[0,3.559111520606224]}]},{\"data\":[{\"type\":\"scatter\",\"x\":[0,-5.249413640003789],\"y\":[0,3.9146941135568945]}]},{\"data\":[{\"type\":\"scatter\",\"x\":[0,-5.196696591574482],\"y\":[0,4.242350016806677]}]},{\"data\":[{\"type\":\"scatter\",\"x\":[0,-5.139260964928323],\"y\":[0,4.5416538827476165]}]},{\"data\":[{\"type\":\"scatter\",\"x\":[0,-5.077008206775189],\"y\":[0,4.812201133360571]}]},{\"data\":[{\"type\":\"scatter\",\"x\":[0,-5.009866468239703],\"y\":[0,5.053615123821128]}]},{\"data\":[{\"type\":\"scatter\",\"x\":[0,-4.937791022275954],\"y\":[0,5.2655533413033515]}]},{\"data\":[{\"type\":\"scatter\",\"x\":[0,-4.86076411785018],\"y\":[0,5.447712737149942]}]},{\"data\":[{\"type\":\"scatter\",\"x\":[0,-4.77879455736888],\"y\":[0,5.5998341983134114]}]},{\"data\":[{\"type\":\"scatter\",\"x\":[0,-4.691917075125687],\"y\":[0,5.721706286192777]}]},{\"data\":[{\"type\":\"scatter\",\"x\":[0,-4.600191623318224],\"y\":[0,5.813168316673661]}]},{\"data\":[{\"type\":\"scatter\",\"x\":[0,-4.503702629163863],\"y\":[0,5.874112859679416]}]},{\"data\":[{\"type\":\"scatter\",\"x\":[0,-4.4025582773855225],\"y\":[0,5.9044877104666185]}]},{\"data\":[{\"type\":\"scatter\",\"x\":[0,-4.296889839138764],\"y\":[0,5.9042973934890055]}]},{\"data\":[{\"type\":\"scatter\",\"x\":[0,-4.1868510780423005],\"y\":[0,5.873604233964028]}]},{\"data\":[{\"type\":\"scatter\",\"x\":[0,-4.072617755292468],\"y\":[0,5.812529026032501]}]},{\"data\":[{\"type\":\"scatter\",\"x\":[0,-3.954387261220056],\"y\":[0,5.721251313088672]}]},{\"data\":[{\"type\":\"scatter\",\"x\":[0,-3.8323783983515756],\"y\":[0,5.600009285403319]}]},{\"data\":[{\"type\":\"scatter\",\"x\":[0,-3.7068313512999556],\"y\":[0,5.4490992872424915]}]},{\"data\":[{\"type\":\"scatter\",\"x\":[0,-3.578007915461903],\"y\":[0,5.268874895705968]}]},{\"data\":[{\"type\":\"scatter\",\"x\":[0,-3.4461920062493383],\"y\":[0,5.059745543129765]}]},{\"data\":[{\"type\":\"scatter\",\"x\":[0,-3.3116905901138565],\"y\":[0,4.822174575950607]}]},{\"data\":[{\"type\":\"scatter\",\"x\":[0,-3.1748351193005915],\"y\":[0,4.55667664422856]}]},{\"data\":[{\"type\":\"scatter\",\"x\":[0,-3.0359837558846823],\"y\":[0,4.263814158840515]}]},{\"data\":[{\"type\":\"scatter\",\"x\":[0,-2.895524490817677],\"y\":[0,3.944192554438707]}]},{\"data\":[{\"type\":\"scatter\",\"x\":[0,-2.7538796659469758],\"y\":[0,3.598453739275561]}]},{\"data\":[{\"type\":\"scatter\",\"x\":[0,-2.6115124493560495],\"y\":[0,3.2272667920258584]}]},{\"data\":[{\"type\":\"scatter\",\"x\":[0,-2.4689359479755097],\"y\":[0,2.8313143090325483]}]},{\"data\":[{\"type\":\"scatter\",\"x\":[0,-2.3267260142475426],\"y\":[0,2.4112714128514416]}]},{\"data\":[{\"type\":\"scatter\",\"x\":[0,-2.1855388745503275],\"y\":[0,1.9677719048331528]}]},{\"data\":[{\"type\":\"scatter\",\"x\":[0,-2.0461331841941104],\"y\":[0,1.501351244252292]}]},{\"data\":[{\"type\":\"scatter\",\"x\":[0,-1.909390422103525],\"y\":[0,1.0123472270831955]}]},{\"data\":[{\"type\":\"scatter\",\"x\":[0,-1.7763048749932115],\"y\":[0,0.5007300254810014]}]},{\"data\":[{\"type\":\"scatter\",\"x\":[0,-1.6478543236343164],\"y\":[0,-0.034141368041917544]}]},{\"data\":[{\"type\":\"scatter\",\"x\":[0,-1.5246110917473954],\"y\":[0,-0.5936590992591283]}]},{\"data\":[{\"type\":\"scatter\",\"x\":[0,-1.4062462106797136],\"y\":[0,-1.1795515143227433]}]},{\"data\":[{\"type\":\"scatter\",\"x\":[0,-1.2916021353570935],\"y\":[0,-1.7929819810292766]}]},{\"data\":[{\"type\":\"scatter\",\"x\":[0,-1.1793386397986338],\"y\":[0,-2.4341155874086415]}]},{\"data\":[{\"type\":\"scatter\",\"x\":[0,-1.068374532659088],\"y\":[0,-3.1023352185461706]}]},{\"data\":[{\"type\":\"scatter\",\"x\":[0,-0.9579590270757085],\"y\":[0,-3.7965635543389453]}]},{\"data\":[{\"type\":\"scatter\",\"x\":[0,-0.8476054890242786],\"y\":[0,-4.515463516598704]}]},{\"data\":[{\"type\":\"scatter\",\"x\":[0,-0.7370160863128054],\"y\":[0,-5.257540632838546]}]},{\"data\":[{\"type\":\"scatter\",\"x\":[0,-0.626025537338745],\"y\":[0,-6.0211947608168535]}]},{\"data\":[{\"type\":\"scatter\",\"x\":[0,-0.5145627528147939],\"y\":[0,-6.804747882151403]}]},{\"data\":[{\"type\":\"scatter\",\"x\":[0,-0.4026249948916893],\"y\":[0,-7.606460506034591]}]},{\"data\":[{\"type\":\"scatter\",\"x\":[0,-0.2902602085656475],\"y\":[0,-8.424542465740318]}]},{\"data\":[{\"type\":\"scatter\",\"x\":[0,-0.17755466948782073],\"y\":[0,-9.257160848561254]}]},{\"data\":[{\"type\":\"scatter\",\"x\":[0,-0.0646241197567246],\"y\":[0,-10.10244640731546]}]},{\"data\":[{\"type\":\"scatter\",\"x\":[0,0.048392774704050824],\"y\":[0,-10.958499145299312]}]},{\"data\":[{\"type\":\"scatter\",\"x\":[0,0.1613393563448222],\"y\":[0,-11.82339344478585]}]},{\"data\":[{\"type\":\"scatter\",\"x\":[0,0.27404480481499544],\"y\":[0,-12.695182936243206]}]},{\"data\":[{\"type\":\"scatter\",\"x\":[0,0.3863271659705118],\"y\":[0,-13.571905221355477]}]},{\"data\":[{\"type\":\"scatter\",\"x\":[0,0.49799582369036494],\"y\":[0,-14.451586508954302]}]},{\"data\":[{\"type\":\"scatter\",\"x\":[0,0.6088535368883827],\"y\":[0,-15.332246200245283]}]},{\"data\":[{\"type\":\"scatter\",\"x\":[0,0.718698160564092],\"y\":[0,-16.211901438756843]}]},{\"data\":[{\"type\":\"scatter\",\"x\":[0,0.8273241301678251],\"y\":[0,-17.08857163179835]}]},{\"data\":[{\"type\":\"scatter\",\"x\":[0,0.9345237566779182],\"y\":[0,-17.960282945167194]}]},{\"data\":[{\"type\":\"scatter\",\"x\":[0,1.0400883705384063],\"y\":[0,-18.825072768355536]}]},{\"data\":[{\"type\":\"scatter\",\"x\":[0,1.1438093617158571],\"y\":[0,-19.680994143319722]}]},{\"data\":[{\"type\":\"scatter\",\"x\":[0,1.245479111426127],\"y\":[0,-20.52612015284013]}]},{\"data\":[{\"type\":\"scatter\",\"x\":[0,1.344891851257924],\"y\":[0,-21.358548258573464]}]},{\"data\":[{\"type\":\"scatter\",\"x\":[0,1.441844452083653],\"y\":[0,-22.17640458196557]}]},{\"data\":[{\"type\":\"scatter\",\"x\":[0,1.5361371623818607],\"y\":[0,-22.977848117999514]}]},{\"data\":[{\"type\":\"scatter\",\"x\":[0,1.6275742949891925],\"y\":[0,-23.761074874154907]}]},{\"data\":[{\"type\":\"scatter\",\"x\":[0,1.7159648638195777],\"y\":[0,-24.52432192595778]}]},{\"data\":[{\"type\":\"scatter\",\"x\":[0,1.8011231931878937],\"y\":[0,-25.26587137857915]}]},{\"data\":[{\"type\":\"scatter\",\"x\":[0,1.8828694860499464],\"y\":[0,-25.98405422744671]}]},{\"data\":[{\"type\":\"scatter\",\"x\":[0,1.9610303545966261],\"y\":[0,-26.677254109279268]}]},{\"data\":[{\"type\":\"scatter\",\"x\":[0,2.0354393239982462],\"y\":[0,-27.34391093435625]}]},{\"data\":[{\"type\":\"scatter\",\"x\":[0,2.1059373053147867],\"y\":[0,-27.982524392253843]}]},{\"data\":[{\"type\":\"scatter\",\"x\":[0,2.1723730356236315],\"y\":[0,-28.5916573238156]}]},{\"data\":[{\"type\":\"scatter\",\"x\":[0,2.2346034936061048],\"y\":[0,-29.169938950755487]}]},{\"data\":[{\"type\":\"scatter\",\"x\":[0,2.292494286030101],\"y\":[0,-29.716067956303714]}]},{\"data\":[{\"type\":\"scatter\",\"x\":[0,2.3459200054384555],\"y\":[0,-30.228815409958784]}]},{\"data\":[{\"type\":\"scatter\",\"x\":[0,2.394764564180996],\"y\":[0,-30.707027529209952]}]},{\"data\":[{\"type\":\"scatter\",\"x\":[0,2.438921490829514],\"y\":[0,-31.149628273481632]}]},{\"data\":[{\"type\":\"scatter\",\"x\":[0,2.478294210510229],\"y\":[0,-31.555621762267293]}]},{\"data\":[{\"type\":\"scatter\",\"x\":[0,2.512796295931707],\"y\":[0,-31.92409451334463]}]},{\"data\":[{\"type\":\"scatter\",\"x\":[0,2.5423516909521795],\"y\":[0,-32.254217495839356]}]},{\"data\":[{\"type\":\"scatter\",\"x\":[0,2.566894892497494],\"y\":[0,-32.54524799489327]}]},{\"data\":[{\"type\":\"scatter\",\"x\":[0,2.5863711334823654],\"y\":[0,-32.7965312795097]}]},{\"data\":[{\"type\":\"scatter\",\"x\":[0,2.600736506102815],\"y\":[0,-33.0075020757894]}]},{\"data\":[{\"type\":\"scatter\",\"x\":[0,2.609958083093635],\"y\":[0,-33.177685836579705]}]},{\"data\":[{\"type\":\"scatter\",\"x\":[0,2.6140139947148935],\"y\":[0,-33.306699808773665]}]},{\"data\":[{\"type\":\"scatter\",\"x\":[0,2.6128934857775565],\"y\":[0,-33.39425389350406]}]},{\"data\":[{\"type\":\"scatter\",\"x\":[0,2.606596943763579],\"y\":[0,-33.440151298141394]}]},{\"data\":[{\"type\":\"scatter\",\"x\":[0,2.595135895856596],\"y\":[0,-33.444288978822]}]},{\"data\":[{\"type\":\"scatter\",\"x\":[0,2.578532982926591],\"y\":[0,-33.40665787179091]}]},{\"data\":[{\"type\":\"scatter\",\"x\":[0,2.556821900775064],\"y\":[0,-33.32734291388131]}]},{\"data\":[{\"type\":\"scatter\",\"x\":[0,2.5300473175999243],\"y\":[0,-33.206522851316294]}]},{\"data\":[{\"type\":\"scatter\",\"x\":[0,2.498264761952266],\"y\":[0,-33.04446983777323]}]},{\"data\":[{\"type\":\"scatter\",\"x\":[0,2.4615404818319475],\"y\":[0,-32.84154882250795]}]},{\"data\":[{\"type\":\"scatter\",\"x\":[0,2.4199512768662212],\"y\":[0,-32.59821672980739]}]},{\"data\":[{\"type\":\"scatter\",\"x\":[0,2.373584311407379],\"y\":[0,-32.31502143110787]}]},{\"data\":[{\"type\":\"scatter\",\"x\":[0,2.322536892548171],\"y\":[0,-31.992600512960976]}]},{\"data\":[{\"type\":\"scatter\",\"x\":[0,2.266916214388343],\"y\":[0,-31.631679844316654]}]},{\"data\":[{\"type\":\"scatter\",\"x\":[0,2.20683909043832],\"y\":[0,-31.23307194372359]}]},{\"data\":[{\"type\":\"scatter\",\"x\":[0,2.142431662675606],\"y\":[0,-30.79767415135702]}]},{\"data\":[{\"type\":\"scatter\",\"x\":[0,2.0738290435664504],\"y\":[0,-30.326466614215956]}]},{\"data\":[{\"type\":\"scatter\",\"x\":[0,2.0011750166658913],\"y\":[0,-29.820510077065304]}]},{\"data\":[{\"type\":\"scatter\",\"x\":[0,1.9246216067366804],\"y\":[0,-29.280943501951718]}]},{\"data\":[{\"type\":\"scatter\",\"x\":[0,1.8443286899080498],\"y\":[0,-28.70898150545375]}]},{\"data\":[{\"type\":\"scatter\",\"x\":[0,1.7604636202441077],\"y\":[0,-28.105911621920104]}]},{\"data\":[{\"type\":\"scatter\",\"x\":[0,1.6732006406158089],\"y\":[0,-27.473091419857013]}]},{\"data\":[{\"type\":\"scatter\",\"x\":[0,1.582720576168043],\"y\":[0,-26.811945432173832]}]},{\"data\":[{\"type\":\"scatter\",\"x\":[0,1.4892102376542156],\"y\":[0,-26.123961960029007]}]},{\"data\":[{\"type\":\"scatter\",\"x\":[0,1.3928618006975344],\"y\":[0,-25.410689731855538]}]},{\"data\":[{\"type\":\"scatter\",\"x\":[0,1.2938723295953636],\"y\":[0,-24.673734410077124]}]},{\"data\":[{\"type\":\"scatter\",\"x\":[0,1.192443220352497],\"y\":[0,-23.914754973730233]}]},{\"data\":[{\"type\":\"scatter\",\"x\":[0,1.0887796218728896],\"y\":[0,-23.135459979259657]}]},{\"data\":[{\"type\":\"scatter\",\"x\":[0,0.9830895529218041],\"y\":[0,-22.337603732015182]}]},{\"data\":[{\"type\":\"scatter\",\"x\":[0,0.8755833371659867],\"y\":[0,-21.52298232132553]}]},{\"data\":[{\"type\":\"scatter\",\"x\":[0,0.7664729470180578],\"y\":[0,-20.693429564088405]}]},{\"data\":[{\"type\":\"scatter\",\"x\":[0,0.6559711324224659],\"y\":[0,-19.850812870398144]}]},{\"data\":[{\"type\":\"scatter\",\"x\":[0,0.5442905621004531],\"y\":[0,-18.997029026005066]}]},{\"data\":[{\"type\":\"scatter\",\"x\":[0,0.4316428742032199],\"y\":[0,-18.133999908536342]}]},{\"data\":[{\"type\":\"scatter\",\"x\":[0,0.31823791526760875],\"y\":[0,-17.263668100643113]}]},{\"data\":[{\"type\":\"scatter\",\"x\":[0,0.20428249063062695],\"y\":[0,-16.38799249232873]}]},{\"data\":[{\"type\":\"scatter\",\"x\":[0,0.08997909682041036],\"y\":[0,-15.508943817386484]}]},{\"data\":[{\"type\":\"scatter\",\"x\":[0,-0.02447507323224399],\"y\":[0,-14.628500090690595]}]},{\"data\":[{\"type\":\"scatter\",\"x\":[0,-0.1388899952554953],\"y\":[0,-13.748642071267763]}]},{\"data\":[{\"type\":\"scatter\",\"x\":[0,-0.2530842047734293],\"y\":[0,-12.87134859686042]}]},{\"data\":[{\"type\":\"scatter\",\"x\":[0,-0.36688698115452867],\"y\":[0,-11.998591899662202]}]},{\"data\":[{\"type\":\"scatter\",\"x\":[0,-0.48014065651772614],\"y\":[0,-11.132332809055482]}]},{\"data\":[{\"type\":\"scatter\",\"x\":[0,-0.5927034518276877],\"y\":[0,-10.274515827325157]}]},{\"data\":[{\"type\":\"scatter\",\"x\":[0,-0.7044529440587566],\"y\":[0,-9.427064014050003]}]},{\"data\":[{\"type\":\"scatter\",\"x\":[0,-0.8152905255507822],\"y\":[0,-8.591873558957008]}]},{\"data\":[{\"type\":\"scatter\",\"x\":[0,-0.925146923440885],\"y\":[0,-7.770807861049832]}]},{\"data\":[{\"type\":\"scatter\",\"x\":[0,-1.0339895604016487],\"y\":[0,-6.965690791513072]}]},{\"data\":[{\"type\":\"scatter\",\"x\":[0,-1.141832071825142],\"y\":[0,-6.178298575209393]}]},{\"data\":[{\"type\":\"scatter\",\"x\":[0,-1.2487474192920685],\"y\":[0,-5.410349343961353]}]},{\"data\":[{\"type\":\"scatter\",\"x\":[0,-1.3548854387956129],\"y\":[0,-4.66348852308169]}]},{\"data\":[{\"type\":\"scatter\",\"x\":[0,-1.4604968758759858],\"y\":[0,-3.9392669113262917]}]},{\"data\":[{\"type\":\"scatter\",\"x\":[0,-1.5659651293145356],\"y\":[0,-3.2391052914724656]}]},{\"data\":[{\"type\":\"scatter\",\"x\":[0,-1.67184478402449],\"y\":[0,-2.5642349723828843]}]},{\"data\":[{\"type\":\"scatter\",\"x\":[0,-1.77889604958009],\"y\":[0,-1.915597807985749]}]},{\"data\":[{\"type\":\"scatter\",\"x\":[0,-1.888077292862712],\"y\":[0,-1.2936929990501056]}]},{\"data\":[{\"type\":\"scatter\",\"x\":[0,-2.000415544955425],\"y\":[0,-0.6984067194703238]}]},{\"data\":[{\"type\":\"scatter\",\"x\":[0,-2.1166986186280714],\"y\":[0,-0.12898471874851702]}]},{\"data\":[{\"type\":\"scatter\",\"x\":[0,-2.2371484325194135],\"y\":[0,0.41566445295156346]}]},{\"data\":[{\"type\":\"scatter\",\"x\":[0,-2.3613837673523257],\"y\":[0,0.9364823444514234]}]},{\"data\":[{\"type\":\"scatter\",\"x\":[0,-2.488665034306912],\"y\":[0,1.4339734577551442]}]},{\"data\":[{\"type\":\"scatter\",\"x\":[0,-2.618148456989628],\"y\":[0,1.9082052221842953]}]},{\"data\":[{\"type\":\"scatter\",\"x\":[0,-2.7490209511298564],\"y\":[0,2.358928428206765]}]},{\"data\":[{\"type\":\"scatter\",\"x\":[0,-2.880545037303995],\"y\":[0,2.785695855695953]}]},{\"data\":[{\"type\":\"scatter\",\"x\":[0,-3.01206347316068],\"y\":[0,3.1879475030091284]}]},{\"data\":[{\"type\":\"scatter\",\"x\":[0,-3.1429907640269064],\"y\":[0,3.565066550832352]}]},{\"data\":[{\"type\":\"scatter\",\"x\":[0,-3.2728023379032245],\"y\":[0,3.9164155866717265]}]},{\"data\":[{\"type\":\"scatter\",\"x\":[0,-3.401024855457182],\"y\":[0,4.241360422593432]}]},{\"data\":[{\"type\":\"scatter\",\"x\":[0,-3.5272284384474077],\"y\":[0,4.5392861790922945]}]},{\"data\":[{\"type\":\"scatter\",\"x\":[0,-3.651020717855227],\"y\":[0,4.809608466077992]}]},{\"data\":[{\"type\":\"scatter\",\"x\":[0,-3.7720423748189367],\"y\":[0,5.051781377606845]}]},{\"data\":[{\"type\":\"scatter\",\"x\":[0,-3.889963854768663],\"y\":[0,5.265303340904417]}]},{\"data\":[{\"type\":\"scatter\",\"x\":[0,-4.004482986105294],\"y\":[0,5.449721465657143]}]},{\"data\":[{\"type\":\"scatter\",\"x\":[0,-4.115323282283409],\"y\":[0,5.604634807373535]}]},{\"data\":[{\"type\":\"scatter\",\"x\":[0,-4.222232777009245],\"y\":[0,5.729696804938804]}]},{\"data\":[{\"type\":\"scatter\",\"x\":[0,-4.324983269120697],\"y\":[0,5.824617064115934]}]},{\"data\":[{\"type\":\"scatter\",\"x\":[0,-4.423369894044575],\"y\":[0,5.889162594901406]}]},{\"data\":[{\"type\":\"scatter\",\"x\":[0,-4.517210947094028],\"y\":[0,5.9231585769171]}]},{\"data\":[{\"type\":\"scatter\",\"x\":[0,-4.606347922395696],\"y\":[0,5.926488687998233]}]},{\"data\":[{\"type\":\"scatter\",\"x\":[0,-4.690645709486131],\"y\":[0,5.899095027685522]}]},{\"data\":[{\"type\":\"scatter\",\"x\":[0,-4.7699929443571],\"y\":[0,5.840977626352905]}]},{\"data\":[{\"type\":\"scatter\",\"x\":[0,-4.844302470236457],\"y\":[0,5.752193540945054]}]},{\"data\":[{\"type\":\"scatter\",\"x\":[0,-4.913511898761912],\"y\":[0,5.632855508428608]}]},{\"data\":[{\"type\":\"scatter\",\"x\":[0,-4.977584242633341],\"y\":[0,5.483130124307578]}]},{\"data\":[{\"type\":\"scatter\",\"x\":[0,-5.036508595721244],\"y\":[0,5.303235494489733]}]},{\"data\":[{\"type\":\"scatter\",\"x\":[0,-5.090300821792211],\"y\":[0,5.0934382983566335]}]},{\"data\":[{\"type\":\"scatter\",\"x\":[0,-5.139004199856543],\"y\":[0,4.854050182356188]}]},{\"data\":[{\"type\":\"scatter\",\"x\":[0,-5.182689940361348],\"y\":[0,4.585423395657297]}]},{\"data\":[{\"type\":\"scatter\",\"x\":[0,-5.221457461944111],\"y\":[0,4.287945556378435]}]},{\"data\":[{\"type\":\"scatter\",\"x\":[0,-5.255434238987074],\"y\":[0,3.962033455705874]}]},{\"data\":[{\"type\":\"scatter\",\"x\":[0,-5.284774953222941],\"y\":[0,3.6081258194545796]}]},{\"data\":[{\"type\":\"scatter\",\"x\":[0,-5.309659637668792],\"y\":[0,3.2266749617527113]}]},{\"data\":[{\"type\":\"scatter\",\"x\":[0,-5.33029015531522],\"y\":[0,2.818137539856245]}]},{\"data\":[{\"type\":\"scatter\",\"x\":[0,-5.346884630410528],\"y\":[0,2.3829645656073204]}]},{\"data\":[{\"type\":\"scatter\",\"x\":[0,-5.359668842308644],\"y\":[0,1.9215915432661617]}]},{\"data\":[{\"type\":\"scatter\",\"x\":[0,-5.368864084599728],\"y\":[0,1.4344298324393647]}]},{\"data\":[{\"type\":\"scatter\",\"x\":[0,-5.374671077574866],\"y\":[0,0.9218611907282052]}]},{\"data\":[{\"type\":\"scatter\",\"x\":[0,-5.3772503951696144],\"y\":[0,0.3842379546413491]}]},{\"data\":[{\"type\":\"scatter\",\"x\":[0,-5.376701183705385],\"y\":[0,-0.17810870003747195]}]},{\"data\":[{\"type\":\"scatter\",\"x\":[0,-5.373041427653158],\"y\":[0,-0.7648506074759345]}]},{\"data\":[{\"type\":\"scatter\",\"x\":[0,-5.366194120109826],\"y\":[0,-1.3756351341527926]}]},{\"data\":[{\"type\":\"scatter\",\"x\":[0,-5.355983244775046],\"y\":[0,-2.0100516528704375]}]},{\"data\":[{\"type\":\"scatter\",\"x\":[0,-5.342141371276817],\"y\":[0,-2.667597672888591]}]},{\"data\":[{\"type\":\"scatter\",\"x\":[0,-5.324327467533048],\"y\":[0,-3.347650671026499]}]},{\"data\":[{\"type\":\"scatter\",\"x\":[0,-5.302150947809137],\"y\":[0,-4.049449736287703]}]},{\"data\":[{\"type\":\"scatter\",\"x\":[0,-5.275197098811814],\"y\":[0,-4.77208818158935]}]},{\"data\":[{\"type\":\"scatter\",\"x\":[0,-5.243049781606805],\"y\":[0,-5.514515898188422]}]},{\"data\":[{\"type\":\"scatter\",\"x\":[0,-5.205309503713392],\"y\":[0,-6.275548264542057]}]},{\"data\":[{\"type\":\"scatter\",\"x\":[0,-5.161606256403749],\"y\":[0,-7.053878856183239]}]},{\"data\":[{\"type\":\"scatter\",\"x\":[0,-5.111607678499811],\"y\":[0,-7.848093598559615]}]},{\"data\":[{\"type\":\"scatter\",\"x\":[0,-5.055023553890353],\"y\":[0,-8.656684905354918]}]},{\"data\":[{\"type\":\"scatter\",\"x\":[0,-4.991607708386953],\"y\":[0,-9.478064945863125]}]},{\"data\":[{\"type\":\"scatter\",\"x\":[0,-4.921158150137749],\"y\":[0,-10.310577751086988]}]},{\"data\":[{\"type\":\"scatter\",\"x\":[0,-4.843516162709026],\"y\":[0,-11.15251007251249]}]},{\"data\":[{\"type\":\"scatter\",\"x\":[0,-4.7585647659796235],\"y\":[0,-12.002101112527512]}]},{\"data\":[{\"type\":\"scatter\",\"x\":[0,-4.666226852750288],\"y\":[0,-12.857551272335526]}]},{\"data\":[{\"type\":\"scatter\",\"x\":[0,-4.566463235281908],\"y\":[0,-13.717030071074838]}]},{\"data\":[{\"type\":\"scatter\",\"x\":[0,-4.459270661758051],\"y\":[0,-14.578683393151005]}]},{\"data\":[{\"type\":\"scatter\",\"x\":[0,-4.344679897698344],\"y\":[0,-15.440640184394978]}]},{\"data\":[{\"type\":\"scatter\",\"x\":[0,-4.2227538888054195],\"y\":[0,-16.30101870509345]}]},{\"data\":[{\"type\":\"scatter\",\"x\":[0,-4.0935860236235815],\"y\":[0,-17.157932420601803]}]},{\"data\":[{\"type\":\"scatter\",\"x\":[0,-3.9572984761233507],\"y\":[0,-18.009495596614258]}]},{\"data\":[{\"type\":\"scatter\",\"x\":[0,-3.814040679001732],\"y\":[0,-18.853828639844995]}]},{\"data\":[{\"type\":\"scatter\",\"x\":[0,-3.663987827577746],\"y\":[0,-19.689063234070517]}]},{\"data\":[{\"type\":\"scatter\",\"x\":[0,-3.50733948568358],\"y\":[0,-20.513347285413534]}]},{\"data\":[{\"type\":\"scatter\",\"x\":[0,-3.3443182341340987],\"y\":[0,-21.324849708400727]}]},{\"data\":[{\"type\":\"scatter\",\"x\":[0,-3.175168372942832],\"y\":[0,-22.121765055768964]}]},{\"data\":[{\"type\":\"scatter\",\"x\":[0,-3.000154664123528],\"y\":[0,-22.90231800928709]}]},{\"data\":[{\"type\":\"scatter\",\"x\":[0,-2.819561101411405],\"y\":[0,-23.664767731017776]}]},{\"data\":[{\"type\":\"scatter\",\"x\":[0,-2.633689710419431],\"y\":[0,-24.40741208322061]}]},{\"data\":[{\"type\":\"scatter\",\"x\":[0,-2.4428593648818437],\"y\":[0,-25.12859171092906]}]},{\"data\":[{\"type\":\"scatter\",\"x\":[0,-2.247404625412444],\"y\":[0,-25.82669399363588]}]},{\"data\":[{\"type\":\"scatter\",\"x\":[0,-2.0476745572933477],\"y\":[0,-26.50015685189141]}]},{\"data\":[{\"type\":\"scatter\",\"x\":[0,-1.8440316086893491],\"y\":[0,-27.147472422705178]}]},{\"data\":[{\"type\":\"scatter\",\"x\":[0,-1.6368504440738225],\"y\":[0,-27.767190584191166]}]},{\"data\":[{\"type\":\"scatter\",\"x\":[0,-1.426516809775404],\"y\":[0,-28.35792233327577]}]},{\"data\":[{\"type\":\"scatter\",\"x\":[0,-1.2134264095821945],\"y\":[0,-28.918343010626977]}]},{\"data\":[{\"type\":\"scatter\",\"x\":[0,-0.9979837513198642],\"y\":[0,-29.447195364737727]}]},{\"data\":[{\"type\":\"scatter\",\"x\":[0,-0.7806010127170075],\"y\":[0,-29.943292453980924]}]},{\"data\":[{\"type\":\"scatter\",\"x\":[0,-0.5616969185667421],\"y\":[0,-30.405520381158652]}]},{\"data\":[{\"type\":\"scatter\",\"x\":[0,-0.3416956036408267],\"y\":[0,-30.832840853925312]}]},{\"data\":[{\"type\":\"scatter\",\"x\":[0,-0.1210254560055935],\"y\":[0,-31.2242935652511]}]},{\"data\":[{\"type\":\"scatter\",\"x\":[0,0.09988194843413854],\"y\":[0,-31.57899840056372]}]},{\"data\":[{\"type\":\"scatter\",\"x\":[0,0.320593003124662],\"y\":[0,-31.896157449821224]}]},{\"data\":[{\"type\":\"scatter\",\"x\":[0,0.5406732050700042],\"y\":[0,-32.17505683021617]}]},{\"data\":[{\"type\":\"scatter\",\"x\":[0,0.7596882149572034],\"y\":[0,-32.415068322792386]}]},{\"data\":[{\"type\":\"scatter\",\"x\":[0,0.9772049936608264],\"y\":[0,-32.61565080406043]}]},{\"data\":[{\"type\":\"scatter\",\"x\":[0,1.1927928828390177],\"y\":[0,-32.77635148349473]}]},{\"data\":[{\"type\":\"scatter\",\"x\":[0,1.406024674506071],\"y\":[0,-32.896806937403866]}]},{\"data\":[{\"type\":\"scatter\",\"x\":[0,1.6164776910562806],\"y\":[0,-32.97674393676361]}]},{\"data\":[{\"type\":\"scatter\",\"x\":[0,1.823734823556449],\"y\":[0,-33.01598007444761]}]},{\"data\":[{\"type\":\"scatter\",\"x\":[0,2.027385573343776],\"y\":[0,-33.01442418091569]}]},{\"data\":[{\"type\":\"scatter\",\"x\":[0,2.2270270685293587],\"y\":[0,-32.97207653375537]}]},{\"data\":[{\"type\":\"scatter\",\"x\":[0,2.4222650562996284],\"y\":[0,-32.88902886131357]}]},{\"data\":[{\"type\":\"scatter\",\"x\":[0,2.612714884323796],\"y\":[0,-32.765464134992726]}]},{\"data\":[{\"type\":\"scatter\",\"x\":[0,2.7980024495868965],\"y\":[0,-32.6016561567698]}]},{\"data\":[{\"type\":\"scatter\",\"x\":[0,2.977765128073585],\"y\":[0,-32.397968939496955]}]},{\"data\":[{\"type\":\"scatter\",\"x\":[0,3.151652677424974],\"y\":[0,-32.15485588137627]}]},{\"data\":[{\"type\":\"scatter\",\"x\":[0,3.319328111078088],\"y\":[0,-31.87285873841296]}]},{\"data\":[{\"type\":\"scatter\",\"x\":[0,3.4804685481192763],\"y\":[0,-31.552606394752953]}]},{\"data\":[{\"type\":\"scatter\",\"x\":[0,3.6347660167741838],\"y\":[0,-31.194813435378542]}]},{\"data\":[{\"type\":\"scatter\",\"x\":[0,3.7819282578945725],\"y\":[0,-30.80027852371644]}]},{\"data\":[{\"type\":\"scatter\",\"x\":[0,3.921679454553092],\"y\":[0,-30.36988258652608]}]},{\"data\":[{\"type\":\"scatter\",\"x\":[0,4.053760965544514],\"y\":[0,-29.904586811008517]}]},{\"data\":[{\"type\":\"scatter\",\"x\":[0,4.17793201933253],\"y\":[0,-29.405430458012525]}]},{\"data\":[{\"type\":\"scatter\",\"x\":[0,4.2939703230398445],\"y\":[0,-28.873528497606344]}]},{\"data\":[{\"type\":\"scatter\",\"x\":[0,4.401672732186489],\"y\":[0,-28.31006906716927]}]},{\"data\":[{\"type\":\"scatter\",\"x\":[0,4.5008557910570435],\"y\":[0,-27.716310763243296]}]},{\"data\":[{\"type\":\"scatter\",\"x\":[0,4.591356261411237],\"y\":[0,-27.09357977034802]}]},{\"data\":[{\"type\":\"scatter\",\"x\":[0,4.67303169877205],\"y\":[0,-26.44326682556796]}]},{\"data\":[{\"type\":\"scatter\",\"x\":[0,4.745760827478055],\"y\":[0,-25.766824042523325]}]},{\"data\":[{\"type\":\"scatter\",\"x\":[0,4.809444047211989],\"y\":[0,-25.06576157884179]}]},{\"data\":[{\"type\":\"scatter\",\"x\":[0,4.864003851766043],\"y\":[0,-24.34164416481398]}]},{\"data\":[{\"type\":\"scatter\",\"x\":[0,4.909385067926134],\"y\":[0,-23.596087517803213]}]},{\"data\":[{\"type\":\"scatter\",\"x\":[0,4.945555401534564],\"y\":[0,-22.830754591388228]}]},{\"data\":[{\"type\":\"scatter\",\"x\":[0,4.972505487687614],\"y\":[0,-22.047351759687835]}]},{\"data\":[{\"type\":\"scatter\",\"x\":[0,4.990249560293972],\"y\":[0,-21.247624804583303]}]},{\"data\":[{\"type\":\"scatter\",\"x\":[0,4.998825335357996],\"y\":[0,-20.4333548903338]}]},{\"data\":[{\"type\":\"scatter\",\"x\":[0,4.99829447258691],\"y\":[0,-19.606354362999763]}]},{\"data\":[{\"type\":\"scatter\",\"x\":[0,4.988742792430797],\"y\":[0,-18.768462477754067]}]},{\"data\":[{\"type\":\"scatter\",\"x\":[0,4.97028039950192],\"y\":[0,-17.92154104809128]}]},{\"data\":[{\"type\":\"scatter\",\"x\":[0,4.943042232349447],\"y\":[0,-17.0674699182906]}]},{\"data\":[{\"type\":\"scatter\",\"x\":[0,4.907188003556644],\"y\":[0,-16.208142461851992]}]},{\"data\":[{\"type\":\"scatter\",\"x\":[0,4.862902684622049],\"y\":[0,-15.345460884825929]}]},{\"data\":[{\"type\":\"scatter\",\"x\":[0,4.810396774625303],\"y\":[0,-14.48133147727265]}]},{\"data\":[{\"type\":\"scatter\",\"x\":[0,4.749906891369156],\"y\":[0,-13.61765968355167]}]},{\"data\":[{\"type\":\"scatter\",\"x\":[0,4.681696098716928],\"y\":[0,-12.756345121051197]}]},{\"data\":[{\"type\":\"scatter\",\"x\":[0,4.606054689138172],\"y\":[0,-11.899276358573605]}]},{\"data\":[{\"type\":\"scatter\",\"x\":[0,4.523300932087657],\"y\":[0,-11.048325528957907]}]},{\"data\":[{\"type\":\"scatter\",\"x\":[0,4.433782276227951],\"y\":[0,-10.205342608099896]}]},{\"data\":[{\"type\":\"scatter\",\"x\":[0,4.337876572664644],\"y\":[0,-9.372149386538588]}]},{\"data\":[{\"type\":\"scatter\",\"x\":[0,4.235993849353182],\"y\":[0,-8.550532896128157]}]},{\"data\":[{\"type\":\"scatter\",\"x\":[0,4.128578519074535],\"y\":[0,-7.742238129444697]}]},{\"data\":[{\"type\":\"scatter\",\"x\":[0,4.016112062970122],\"y\":[0,-6.948959791085129]}]},{\"data\":[{\"type\":\"scatter\",\"x\":[0,3.89911656982516],\"y\":[0,-6.172332578710319]}]},{\"data\":[{\"type\":\"scatter\",\"x\":[0,3.778158772861541],\"y\":[0,-5.4139194339131995]}]},{\"data\":[{\"type\":\"scatter\",\"x\":[0,3.6538552563485043],\"y\":[0,-4.675196751087678]}]},{\"data\":[{\"type\":\"scatter\",\"x\":[0,3.5268776506085042],\"y\":[0,-3.957535288711124]}]},{\"data\":[{\"type\":\"scatter\",\"x\":[0,3.3979576965270386],\"y\":[0,-3.2621747976201445]}]},{\"data\":[{\"type\":\"scatter\",\"x\":[0,3.267889640439128],\"y\":[0,-2.590189991167328]}]},{\"data\":[{\"type\":\"scatter\",\"x\":[0,3.137525318875887],\"y\":[0,-1.9424456692810774]}]},{\"data\":[{\"type\":\"scatter\",\"x\":[0,3.0077530903029146],\"y\":[0,-1.3195411451386878]}]},{\"data\":[{\"type\":\"scatter\",\"x\":[0,2.879446634272939],\"y\":[0,-0.721752910199904]}]},{\"data\":[{\"type\":\"scatter\",\"x\":[0,2.753371632698063],\"y\":[0,-0.1490008959891898]}]},{\"data\":[{\"type\":\"scatter\",\"x\":[0,2.6300586267066977],\"y\":[0,0.39911620843259155]}]},{\"data\":[{\"type\":\"scatter\",\"x\":[0,2.509694766036076],\"y\":[0,0.9231832961330191]}]},{\"data\":[{\"type\":\"scatter\",\"x\":[0,2.3921082477554854],\"y\":[0,1.4237624523669323]}]},{\"data\":[{\"type\":\"scatter\",\"x\":[0,2.2768636173130448],\"y\":[0,1.90121760461428]}]},{\"data\":[{\"type\":\"scatter\",\"x\":[0,2.163404649541927],\"y\":[0,2.3556422560060906]}]},{\"data\":[{\"type\":\"scatter\",\"x\":[0,2.0511713394320314],\"y\":[0,2.7868797142380046]}]},{\"data\":[{\"type\":\"scatter\",\"x\":[0,1.939665136337773],\"y\":[0,3.194584960506217]}]},{\"data\":[{\"type\":\"scatter\",\"x\":[0,1.8284729808644706],\"y\":[0,3.578289666086432]}]},{\"data\":[{\"type\":\"scatter\",\"x\":[0,1.7172685431841017],\"y\":[0,3.9374549988073073]}]},{\"data\":[{\"type\":\"scatter\",\"x\":[0,1.6058037629530653],\"y\":[0,4.271510304602503]}]},{\"data\":[{\"type\":\"scatter\",\"x\":[0,1.4938975733530184],\"y\":[0,4.57988035174679]}]},{\"data\":[{\"type\":\"scatter\",\"x\":[0,1.3814249116358874],\"y\":[0,4.862004344231739]}]},{\"data\":[{\"type\":\"scatter\",\"x\":[0,1.2683069797590754],\"y\":[0,5.11734930676192]}]},{\"data\":[{\"type\":\"scatter\",\"x\":[0,1.1545030403474608],\"y\":[0,5.345419642047493]}]},{\"data\":[{\"type\":\"scatter\",\"x\":[0,1.0400035988516096],\"y\":[0,5.545764075735233]}]},{\"data\":[{\"type\":\"scatter\",\"x\":[0,0.9248247420800616],\"y\":[0,5.71798079278998]}]},{\"data\":[{\"type\":\"scatter\",\"x\":[0,0.8090034110612827],\"y\":[0,5.861721286902547]}]},{\"data\":[{\"type\":\"scatter\",\"x\":[0,0.6925934027746283],\"y\":[0,5.976693271942707]}]},{\"data\":[{\"type\":\"scatter\",\"x\":[0,0.5756619303096817],\"y\":[0,6.062662880466826]}]},{\"data\":[{\"type\":\"scatter\",\"x\":[0,0.4582865974995123],\"y\":[0,6.1194563074960895]}]},{\"data\":[{\"type\":\"scatter\",\"x\":[0,0.3405526768134711],\"y\":[0,6.1469610005395445]}]},{\"data\":[{\"type\":\"scatter\",\"x\":[0,0.22255059493997692],\"y\":[0,6.1451264644597225]}]},{\"data\":[{\"type\":\"scatter\",\"x\":[0,0.10437353710290412],\"y\":[0,6.11396472283088]}]},{\"data\":[{\"type\":\"scatter\",\"x\":[0,-0.01388490646381054],\"y\":[0,6.053550460857526]}]},{\"data\":[{\"type\":\"scatter\",\"x\":[0,-0.13213312341641895],\"y\":[0,5.964020858206096]}]},{\"data\":[{\"type\":\"scatter\",\"x\":[0,-0.25028398357526643],\"y\":[0,5.845575103807878]}]},{\"data\":[{\"type\":\"scatter\",\"x\":[0,-0.36825754260430343],\"y\":[0,5.698473570270583]}]},{\"data\":[{\"type\":\"scatter\",\"x\":[0,-0.48598406072023903],\"y\":[0,5.523036601593832]}]},{\"data\":[{\"type\":\"scatter\",\"x\":[0,-0.603407470502],\"y\":[0,5.319642838987793]}]},{\"data\":[{\"type\":\"scatter\",\"x\":[0,-0.7204894638150457],\"y\":[0,5.088726964927242]}]},{\"data\":[{\"type\":\"scatter\",\"x\":[0,-0.837214431012349],\"y\":[0,4.830776676213451]}]},{\"data\":[{\"type\":\"scatter\",\"x\":[0,-0.9535955538404115],\"y\":[0,4.54632858583181]}]},{\"data\":[{\"type\":\"scatter\",\"x\":[0,-1.0696824369402649],\"y\":[0,4.235962553517208]}]},{\"data\":[{\"type\":\"scatter\",\"x\":[0,-1.185570930243523],\"y\":[0,3.900293719836433]}]},{\"data\":[{\"type\":\"scatter\",\"x\":[0,-1.301415520969029],\"y\":[0,3.539960805976826]}]},{\"data\":[{\"type\":\"scatter\",\"x\":[0,-1.4174452213421211],\"y\":[0,3.1556086445856195]}]},{\"data\":[{\"type\":\"scatter\",\"x\":[0,-1.533983026421455],\"y\":[0,2.7478611583854637]}]},{\"data\":[{\"type\":\"scatter\",\"x\":[0,-1.6514676290468544],\"y\":[0,2.3172789979811492]}]},{\"data\":[{\"type\":\"scatter\",\"x\":[0,-1.7704711925111876],\"y\":[0,1.864293635714604]}]},{\"data\":[{\"type\":\"scatter\",\"x\":[0,-1.8916957486484798],\"y\":[0,1.3891107347588432]}]},{\"data\":[{\"type\":\"scatter\",\"x\":[0,-2.0159115159212613],\"y\":[0,0.8915921501372234]}]},{\"data\":[{\"type\":\"scatter\",\"x\":[0,-2.143793147922071],\"y\":[0,0.37117611980231346]}]},{\"data\":[{\"type\":\"scatter\",\"x\":[0,-2.2756730782422614],\"y\":[0,-0.17304489311642585]}]},{\"data\":[{\"type\":\"scatter\",\"x\":[0,-2.4113655088496984],\"y\":[0,-0.742032271956956]}]},{\"data\":[{\"type\":\"scatter\",\"x\":[0,-2.5502124014853895],\"y\":[0,-1.3364552486706203]}]},{\"data\":[{\"type\":\"scatter\",\"x\":[0,-2.6912878566088807],\"y\":[0,-1.9565090357029467]}]},{\"data\":[{\"type\":\"scatter\",\"x\":[0,-2.833591062333333],\"y\":[0,-2.6019214911181487]}]},{\"data\":[{\"type\":\"scatter\",\"x\":[0,-2.9761543686129737],\"y\":[0,-3.2720435998236934]}]},{\"data\":[{\"type\":\"scatter\",\"x\":[0,-3.11808397738044],\"y\":[0,-3.9659443325811385]}]},{\"data\":[{\"type\":\"scatter\",\"x\":[0,-3.2585667206631777],\"y\":[0,-4.682483891549134]}]},{\"data\":[{\"type\":\"scatter\",\"x\":[0,-3.3968639514403076],\"y\":[0,-5.420365070447546]}]},{\"data\":[{\"type\":\"scatter\",\"x\":[0,-3.532302120970566],\"y\":[0,-6.178168588389503]}]},{\"data\":[{\"type\":\"scatter\",\"x\":[0,-3.6642637087174963],\"y\":[0,-6.954377789353705]}]},{\"data\":[{\"type\":\"scatter\",\"x\":[0,-3.792179576270527],\"y\":[0,-7.747396513296149]}]},{\"data\":[{\"type\":\"scatter\",\"x\":[0,-3.9155228953009678],\"y\":[0,-8.555562579988749]}]},{\"data\":[{\"type\":\"scatter\",\"x\":[0,-4.033804453247192],\"y\":[0,-9.377158432989857]}]},{\"data\":[{\"type\":\"scatter\",\"x\":[0,-4.146568997060795],\"y\":[0,-10.210419939138049]}]},{\"data\":[{\"type\":\"scatter\",\"x\":[0,-4.253392587115744],\"y\":[0,-11.053543914010811]}]},{\"data\":[{\"type\":\"scatter\",\"x\":[0,-4.35388049077746],\"y\":[0,-11.904694829858094]}]},{\"data\":[{\"type\":\"scatter\",\"x\":[0,-4.447665665415619],\"y\":[0,-12.762010923839137]}]},{\"data\":[{\"type\":\"scatter\",\"x\":[0,-4.534407580628955],\"y\":[0,-13.623609907600528]}]},{\"data\":[{\"type\":\"scatter\",\"x\":[0,-4.613791377560229],\"y\":[0,-14.487594370231086]}]},{\"data\":[{\"type\":\"scatter\",\"x\":[0,-4.68552722931393],\"y\":[0,-15.352056967303577]}]},{\"data\":[{\"type\":\"scatter\",\"x\":[0,-4.749349866009624],\"y\":[0,-16.215085442747835]}]},{\"data\":[{\"type\":\"scatter\",\"x\":[0,-4.80501825241864],\"y\":[0,-17.074767511361177]}]},{\"data\":[{\"type\":\"scatter\",\"x\":[0,-4.852315325959411],\"y\":[0,-17.929195636072798]}]},{\"data\":[{\"type\":\"scatter\",\"x\":[0,-4.891047815317402],\"y\":[0,-18.77647170581598]}]},{\"data\":[{\"type\":\"scatter\",\"x\":[0,-4.921046093249831],\"y\":[0,-19.614711624926418]}]},{\"data\":[{\"type\":\"scatter\",\"x\":[0,-4.942164070704349],\"y\":[0,-20.442049814874068]}]},{\"data\":[{\"type\":\"scatter\",\"x\":[0,-4.954279065796369],\"y\":[0,-21.256643637841723]}]},{\"data\":[{\"type\":\"scatter\",\"x\":[0,-4.9572917411414785],\"y\":[0,-22.056677721889997]}]},{\"data\":[{\"type\":\"scatter\",\"x\":[0,-4.9511259732585815],\"y\":[0,-22.840368207567955]}]},{\"data\":[{\"type\":\"scatter\",\"x\":[0,-4.935728739129721],\"y\":[0,-23.605966893719838]}]},{\"data\":[{\"type\":\"scatter\",\"x\":[0,-4.911069975813747],\"y\":[0,-24.351765287114723]}]},{\"data\":[{\"type\":\"scatter\",\"x\":[0,-4.877142414934907],\"y\":[0,-25.07609854479414]}]},{\"data\":[{\"type\":\"scatter\",\"x\":[0,-4.833961394776861],\"y\":[0,-25.777349305517216]}]},{\"data\":[{\"type\":\"scatter\",\"x\":[0,-4.78156464472289],\"y\":[0,-26.453951401709045]}]},{\"data\":[{\"type\":\"scatter\",\"x\":[0,-4.720012003102564],\"y\":[0,-27.104393451648885]}]},{\"data\":[{\"type\":\"scatter\",\"x\":[0,-4.649385166009483],\"y\":[0,-27.727222310948786]}]},{\"data\":[{\"type\":\"scatter\",\"x\":[0,-4.569787343306807],\"y\":[0,-28.321046394139024]}]},{\"data\":[{\"type\":\"scatter\",\"x\":[0,-4.481342889911091],\"y\":[0,-28.88453884940328]}]},{\"data\":[{\"type\":\"scatter\",\"x\":[0,-4.384196920010343],\"y\":[0,-29.416440579061092]}]},{\"data\":[{\"type\":\"scatter\",\"x\":[0,-4.278514857145397],\"y\":[0,-29.915563107936073]}]},{\"data\":[{\"type\":\"scatter\",\"x\":[0,-4.164481957149349],\"y\":[0,-30.38079128620473]}]},{\"data\":[{\"type\":\"scatter\",\"x\":[0,-4.042302790573318],\"y\":[0,-30.81108582336863]}]},{\"data\":[{\"type\":\"scatter\",\"x\":[0,-3.912200691383022],\"y\":[0,-31.205485649315275]}]},{\"data\":[{\"type\":\"scatter\",\"x\":[0,-3.7744171595044684],\"y\":[0,-31.563110096138328]}]},{\"data\":[{\"type\":\"scatter\",\"x\":[0,-3.629211237105042],\"y\":[0,-31.883160896154656]}]},{\"data\":[{\"type\":\"scatter\",\"x\":[0,-3.4768588159677565],\"y\":[0,-32.16492399351552]}]},{\"data\":[{\"type\":\"scatter\",\"x\":[0,-3.3176519632092347],\"y\":[0,-32.40777116175816]}]},{\"data\":[{\"type\":\"scatter\",\"x\":[0,-3.1518981696202686],\"y\":[0,-32.61116142756182]}]},{\"data\":[{\"type\":\"scatter\",\"x\":[0,-2.979919584678043],\"y\":[0,-32.7746422971436]}]},{\"data\":[{\"type\":\"scatter\",\"x\":[0,-2.8020521916859504],\"y\":[0,-32.89785078004195]}]},{\"data\":[{\"type\":\"scatter\",\"x\":[0,-2.618644996810669],\"y\":[0,-32.98051421067791]}]},{\"data\":[{\"type\":\"scatter\",\"x\":[0,-2.4300591413424453],\"y\":[0,-33.02245086278601]}]},{\"data\":[{\"type\":\"scatter\",\"x\":[0,-2.2366670205285155],\"y\":[0,-33.02357036272279]}]},{\"data\":[{\"type\":\"scatter\",\"x\":[0,-2.0388513496957934],\"y\":[0,-32.98387388858369]}]},{\"data\":[{\"type\":\"scatter\",\"x\":[0,-1.837004225690355],\"y\":[0,-32.9034541672022]}]},{\"data\":[{\"type\":\"scatter\",\"x\":[0,-1.6315261485728905],\"y\":[0,-32.782495258264355]}]},{\"data\":[{\"type\":\"scatter\",\"x\":[0,-1.4228250296277656],\"y\":[0,-32.621272136122464]}]},{\"data\":[{\"type\":\"scatter\",\"x\":[0,-1.2113151755269298],\"y\":[0,-32.42015005973418]}]},{\"data\":[{\"type\":\"scatter\",\"x\":[0,-0.9974162537392053],\"y\":[0,-32.179583740359924]}]},{\"data\":[{\"type\":\"scatter\",\"x\":[0,-0.7815522421885028],\"y\":[0,-31.900116303408026]}]},{\"data\":[{\"type\":\"scatter\",\"x\":[0,-0.5641503482191315],\"y\":[0,-31.58237805294819]}]},{\"data\":[{\"type\":\"scatter\",\"x\":[0,-0.34563994373461865],\"y\":[0,-31.227085026620884]}]},{\"data\":[{\"type\":\"scatter\",\"x\":[0,-0.12645145627452684],\"y\":[0,-30.835037366047718]}]},{\"data\":[{\"type\":\"scatter\",\"x\":[0,0.09298473733275647],\"y\":[0,-30.407117485800494]}]},{\"data\":[{\"type\":\"scatter\",\"x\":[0,0.3122394294086027],\"y\":[0,-29.944288055420525]}]},{\"data\":[{\"type\":\"scatter\",\"x\":[0,0.5308857111272826],\"y\":[0,-29.447589795069117]}]},{\"data\":[{\"type\":\"scatter\",\"x\":[0,0.7485001109611907],\"y\":[0,-28.918139089283365]}]},{\"data\":[{\"type\":\"scatter\",\"x\":[0,0.9646637616560823],\"y\":[0,-28.357125425279175]}]},{\"data\":[{\"type\":\"scatter\",\"x\":[0,1.1789634670761844],\"y\":[0,-27.765808647231864]}]},{\"data\":[{\"type\":\"scatter\",\"x\":[0,1.3909929738386273],\"y\":[0,-27.145516063807086]}]},{\"data\":[{\"type\":\"scatter\",\"x\":[0,1.600354086343659],\"y\":[0,-26.49763937494754]}]},{\"data\":[{\"type\":\"scatter\",\"x\":[0,1.8066578510727387],\"y\":[0,-25.823631445465686]}]},{\"data\":[{\"type\":\"scatter\",\"x\":[0,2.009525741932717],\"y\":[0,-25.125002924860453]}]},{\"data\":[{\"type\":\"scatter\",\"x\":[0,2.208590799421558],\"y\":[0,-24.403318714234405]}]},{\"data\":[{\"type\":\"scatter\",\"x\":[0,2.4034989287441904],\"y\":[0,-23.660194301074274]}]},{\"data\":[{\"type\":\"scatter\",\"x\":[0,2.5939100378790587],\"y\":[0,-22.897291939893556]}]},{\"data\":[{\"type\":\"scatter\",\"x\":[0,2.779499307567161],\"y\":[0,-22.11631670004055]}]},{\"data\":[{\"type\":\"scatter\",\"x\":[0,2.9599584741751075],\"y\":[0,-21.319012381100368]}]},{\"data\":[{\"type\":\"scatter\",\"x\":[0,3.1349970103591223],\"y\":[0,-20.507157286016575]}]},{\"data\":[{\"type\":\"scatter\",\"x\":[0,3.3043435900673623],\"y\":[0,-19.68255986960508]}]},{\"data\":[{\"type\":\"scatter\",\"x\":[0,3.467747316150257],\"y\":[0,-18.847054239121412]}]},{\"data\":[{\"type\":\"scatter\",\"x\":[0,3.624979146522466],\"y\":[0,-18.00249551071099]}]},{\"data\":[{\"type\":\"scatter\",\"x\":[0,3.7758334569388228],\"y\":[0,-17.150755028083765]}]},{\"data\":[{\"type\":\"scatter\",\"x\":[0,3.9201293650841618],\"y\":[0,-16.29371537818773]}]},{\"data\":[{\"type\":\"scatter\",\"x\":[0,4.057712569970974],\"y\":[0,-15.433265253433856]}]},{\"data\":[{\"type\":\"scatter\",\"x\":[0,4.188456854224497],\"y\":[0,-14.571294043533841]}]},{\"data\":[{\"type\":\"scatter\",\"x\":[0,4.3122661296228095],\"y\":[0,-13.709686290542713]}]},{\"data\":[{\"type\":\"scatter\",\"x\":[0,4.429076021052798],\"y\":[0,-12.850315620535195]}]},{\"data\":[{\"type\":\"scatter\",\"x\":[0,4.5388562156526095],\"y\":[0,-11.995038533473567]}]},{\"data\":[{\"type\":\"scatter\",\"x\":[0,4.641612275995626],\"y\":[0,-11.145687535120874]}]},{\"data\":[{\"type\":\"scatter\",\"x\":[0,4.737388079317512],\"y\":[0,-10.304063801816145]}]},{\"data\":[{\"type\":\"scatter\",\"x\":[0,4.826267819009985],\"y\":[0,-9.471929066879085]}]},{\"data\":[{\"type\":\"scatter\",\"x\":[0,4.908378078416917],\"y\":[0,-8.650996677048651]}]},{\"data\":[{\"type\":\"scatter\",\"x\":[0,4.983889573282497],\"y\":[0,-7.842921575626143]}]},{\"data\":[{\"type\":\"scatter\",\"x\":[0,5.05301807812773],\"y\":[0,-7.04928912299114]}]},{\"data\":[{\"type\":\"scatter\",\"x\":[0,5.116024283469916],\"y\":[0,-6.271602634904575]}]},{\"data\":[{\"type\":\"scatter\",\"x\":[0,5.173211606782611],\"y\":[0,-5.5112697967260855]}]},{\"data\":[{\"type\":\"scatter\",\"x\":[0,5.224921194780925],\"y\":[0,-4.7695882619841745]}]},{\"data\":[{\"type\":\"scatter\",\"x\":[0,5.271523025966753],\"y\":[0,-4.047731458421693]}]}]);\n",
       "                        }).then(function(){\n",
       "                            \n",
       "var gd = document.getElementById('99e2ca13-f6bf-4290-a5cb-54c8ab6ab1a5');\n",
       "var x = new MutationObserver(function (mutations, observer) {{\n",
       "        var display = window.getComputedStyle(gd).display;\n",
       "        if (!display || display === 'none') {{\n",
       "            console.log([gd, 'removed!']);\n",
       "            Plotly.purge(gd);\n",
       "            observer.disconnect();\n",
       "        }}\n",
       "}});\n",
       "\n",
       "// Listen for the removal of the full notebook cells\n",
       "var notebookContainer = gd.closest('#notebook-container');\n",
       "if (notebookContainer) {{\n",
       "    x.observe(notebookContainer, {childList: true});\n",
       "}}\n",
       "\n",
       "// Listen for the clearing of the current output cell\n",
       "var outputEl = gd.closest('.output');\n",
       "if (outputEl) {{\n",
       "    x.observe(outputEl, {childList: true});\n",
       "}}\n",
       "\n",
       "                        })                };                });            </script>        </div>"
      ]
     },
     "metadata": {},
     "output_type": "display_data"
    }
   ],
   "source": [
    "fig=go.Figure(\n",
    "    data=[go.Scatter(x=[0, X[0]], y=[0, Y[0]])],\n",
    "    layout=go.Layout(\n",
    "        xaxis=dict(range=[np.min(X) - 1, np.max(X) + 1]),\n",
    "        yaxis=dict(range=[np.min(Y) - 1, np.max(Y) + 1]),\n",
    "        title=\"Springed Pendulum\",\n",
    "        updatemenus=[dict(\n",
    "            type=\"buttons\",\n",
    "            buttons=[dict(label=\"Play\",\n",
    "                          method=\"animate\",\n",
    "                          args=[None, {\"frame\": {\"duration\": ft, \"redraw\": False}, \"fromcurrent\": True, \"transition\": {\"duration\": 1 / len(t[t <= 1])}}])])]\n",
    "    ),\n",
    "    frames=my_frames\n",
    ")\n",
    "\n",
    "fig.update_layout(width=800, height=800)\n",
    "\n",
    "fig.show()"
   ]
  },
  {
   "cell_type": "code",
   "execution_count": null,
   "id": "0beb0daa",
   "metadata": {},
   "outputs": [],
   "source": []
  }
 ],
 "metadata": {
  "kernelspec": {
   "display_name": "Python 3",
   "language": "python",
   "name": "python3"
  },
  "language_info": {
   "codemirror_mode": {
    "name": "ipython",
    "version": 3
   },
   "file_extension": ".py",
   "mimetype": "text/x-python",
   "name": "python",
   "nbconvert_exporter": "python",
   "pygments_lexer": "ipython3",
   "version": "3.8.10"
  }
 },
 "nbformat": 4,
 "nbformat_minor": 5
}
